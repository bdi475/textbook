{
 "cells": [
  {
   "cell_type": "markdown",
   "metadata": {},
   "source": [
    "# Introduction to Data Visualization\n"
   ]
  },
  {
   "cell_type": "markdown",
   "metadata": {},
   "source": [
    "Welcome to the final and **the coolest** part of this course! 😎 I'm not saying that the previous topics aren't cool. But visualizations are the bridges that can connect your data analytics skills with the outside world. The last thing you want to do is print out a large DataFrame to report your findings.\n",
    "\n",
    "Data visualization translates raw data into visual stories that reveal patterns, trends, and relationships. Humans process visual information far faster than text or tables—so effective visualizations help analysts think, communicate, and persuade.\n",
    "\n",
    "> There is no such thing as information overload. There is only bad design.\n",
    ">\n",
    "> -- Edward Tufte\n"
   ]
  },
  {
   "cell_type": "markdown",
   "metadata": {},
   "source": [
    "---\n",
    "\n",
    "## ✨ From Data to Visualization: A Workflow\n",
    "\n",
    "1. **Define the Question**: What decision or hypothesis are you exploring?\n",
    "2. **Acquire and Clean Data**: Remove noise, handle missing values.\n",
    "3. **Choose the Visual Form**: Match data type (categorical, continuous, time-series) to appropriate chart.\n",
    "4. **Design and Annotate**: Add titles, captions, and labels.\n",
    "5. **Iterate**: Test different layouts and get user feedback.\n"
   ]
  },
  {
   "cell_type": "markdown",
   "metadata": {},
   "source": [
    "---\n",
    "\n",
    "## 📊 Types of Data Visualization\n",
    "\n",
    "### Exploratory vs. Explanatory\n",
    "\n",
    "![Exploratory vs Explanatory](images/dataviz/exploratory-vs-explanatory.png)\n",
    "\n",
    "When we visualize data, we are not simply drawing charts - we are searching for _patterns_. Most quantitative insights can be grouped into five broad categories of data patterns. Recognizing these patterns helps analysts choose the most effective visual representation for their message.\n",
    "\n",
    "![Data patterns](images/dataviz/data-patterns.png)\n",
    "\n",
    ":::{seealso} Kevin Hartman's Digital Marketing Analytics: In Theory and In Practice\n",
    "\n",
    "This categorization is from Kevin Hartman's [Digital Marketing Analytics: In Theory and In Practice](https://www.amazon.in/Digital-Marketing-Analytics-Theory-Practice/dp/B08J5BD5RM).\n",
    "\n",
    "He taught digital marketing analytics in Gies iDegree programs, although he now teaches at his alma mater, Loyola University Chicago.\n",
    "\n",
    ":::\n",
    "\n",
    "### 1️⃣ Change\n",
    "\n",
    "- **Definition:** Shows how a variable evolves over time.\n",
    "- **Examples:** Line charts, area charts, or bar charts that track trends.\n",
    "- **Use When:** You want to highlight growth, decline, or seasonal fluctuations.\n",
    "\n",
    "### 2️⃣ Clustering\n",
    "\n",
    "- **Definition:** Reveals natural groupings or segments within data.\n",
    "- **Examples:** Scatter plots or bubble charts showing customer segments, product groups, or behavioral clusters.\n",
    "- **Use When:** You want to explore differences and similarities between observations.\n",
    "\n",
    "### 3️⃣ Relativity\n",
    "\n",
    "- **Definition:** Displays how parts relate to a whole.\n",
    "- **Examples:** Pie charts, donut charts, or stacked bar charts.\n",
    "- **Use When:** You want to emphasize proportions or contribution to a total.\n",
    "\n",
    "### 4️⃣ Ranking\n",
    "\n",
    "- **Definition:** Compares ordered categories to identify leaders or laggards.\n",
    "- **Examples:** Horizontal bar charts, lollipop charts, or sorted column charts.\n",
    "- **Use When:** You want to show the top or bottom performers (e.g., top 10 sales regions).\n",
    "\n",
    "### 5️⃣ Correlation\n",
    "\n",
    "- **Definition:** Illustrates relationships between two or more quantitative variables.\n",
    "- **Examples:** Scatter plots, correlation matrices, or regression lines.\n",
    "- **Use When:** You want to determine whether changes in one variable are associated with changes in another.\n",
    "\n",
    "### 🧪 Why It Matters\n",
    "\n",
    "Identifying these five data patterns helps analysts choose the right visualization for their story. Rather than focusing on chart types first, start by asking:\n",
    "\n",
    "> \"What kind of pattern am I trying to show - change, clustering, relativity, ranking, or correlation?\"\n"
   ]
  },
  {
   "cell_type": "markdown",
   "metadata": {},
   "source": [
    "### 🗂️ Common Chart Types\n",
    "\n",
    "| Chart Type             | Best For                                      | Avoid When                |\n",
    "| ---------------------- | --------------------------------------------- | ------------------------- |\n",
    "| **Bar Chart**          | Comparing categorical values                  | Too many categories       |\n",
    "| **Line Chart**         | Showing trends over time                      | Non-sequential categories |\n",
    "| **Scatter Plot**       | Revealing relationships between two variables | Too few data points       |\n",
    "| **Histogram**          | Showing data distribution                     | Comparing multiple groups |\n",
    "| **Box Plot**           | Summarizing distribution & outliers           | Small samples             |\n",
    "| **Pie / Donut Chart**  | Showing parts of a whole                      | Many small slices         |\n",
    "| **Heatmap**            | Displaying matrix or correlation patterns     | Hard-to-read color scales |\n",
    "| **TreeMap / Sunburst** | Hierarchical proportions                      | Need precise comparisons  |\n"
   ]
  },
  {
   "cell_type": "markdown",
   "metadata": {},
   "source": [
    "---\n",
    "\n",
    "## 🧾 Common Pitfalls in Data Visualization\n",
    "\n",
    "| Pitfall          | Description          | Better Practice           |\n",
    "| ---------------- | -------------------- | ------------------------- |\n",
    "| Overuse of 3D    | Distorts proportions | Stick to 2D               |\n",
    "| Too Many Colors  | Confuses audience    | Use ≤ 5 meaningful colors |\n",
    "| Truncated Y-Axis | Misleads differences | Start at 0 for bar charts |\n",
    "| Dense Dashboards | Cognitive overload   | Prioritize key visuals    |\n",
    "| Unlabeled Axes   | Ambiguous meaning    | Always label variables    |\n",
    "\n",
    ":::{danger} Avoid 3D charts\n",
    "\n",
    "There are very few cases where 3D charts are appropriate, such as a surface plot, or a spatial visualization. Otherwise, 3D charts often distort data and make it harder to interpret. Stick to 2D visualizations for clarity.\n",
    "\n",
    "If you need to show multiple dimensions, consider using color, size, or facets instead of adding a third spatial dimension.\n",
    "\n",
    "If you create a 3D chart because it looks \"cool\", I will track you down and personally make you redo it in 2D. 😡\n",
    "\n",
    ":::\n"
   ]
  },
  {
   "cell_type": "markdown",
   "metadata": {},
   "source": [
    "---\n",
    "\n",
    "## 📚 Dataviz libraries\n",
    "\n",
    "The mostly commonly used library for data visualization in introductory data analytics courses is [**matplotlib**](https://matplotlib.org/), a low-level visualization library for Python. [**seaborn**](https://seaborn.pydata.org/) is another popular library built on top of matplotlib that provides a higher-level interface for creating attractive and informative statistical graphics.\n",
    "\n",
    "Below are some of the most popular and battle-tested data visualization libraries - all of which are free and open source:\n",
    "\n",
    "- [**matplotlib**](https://matplotlib.org/): Low-level visualization library for Python\n",
    "- [**seaborn**](https://seaborn.pydata.org/): High-level visualization library for Python **built on matplotlib**\n",
    "- [**bokeh**](https://bokeh.org/): Interactive visualizations for modern web browsers\n",
    "- [**plotnine**](https://plotnine.readthedocs.io/): Python implementation of [ggplot2](https://ggplot2.tidyverse.org/)\n",
    "- [**plotly**](https://plotly.com/python/): Interactive visualization library supporting Python, JavaScript, and R\n",
    "- [**altair**](https://altair-viz.github.io/): Declarative visualization library for Python based on [Vega](https://vega.github.io/vega/)\n",
    "\n",
    "### 🎨 Plot.ly\n",
    "\n",
    "We'll use [plotly](https://plotly.com/python/), which provides both low-level and high-level interfaces to create publication-ready graphs.\n",
    "\n",
    "![plotly logo image](images/dataviz/plotly-logo.png)\n",
    "\n",
    "To use `plotly` in [JupyterLab](https://jupyterlab.readthedocs.io/en/stable/), install the `jupyterlab` and `anywidget` packages in the same environment as you installed `plotly`, using `pip`:\n",
    "\n",
    "```\n",
    "$ pip install plotly jupyterlab anywidget\n",
    "```\n",
    "\n",
    "or `conda`:\n",
    "\n",
    "```\n",
    "$ conda install plotly jupyterlab anywidget\n",
    "```\n",
    "\n",
    ":::{attention} Install `anywidget`\n",
    "\n",
    "The plotly charts in JupyterLab require the `anywidget` package to render properly. Make sure to install it in the same environment where you have plotly and JupyterLab installed.\n",
    "\n",
    ":::\n"
   ]
  },
  {
   "cell_type": "markdown",
   "metadata": {},
   "source": [
    "---\n",
    "\n",
    "## 🛠️ Exercises using an HR Dataset\n"
   ]
  },
  {
   "cell_type": "markdown",
   "metadata": {},
   "source": [
    "▶️ Import the following Python packages.\n",
    "\n",
    "1. `pandas`: Use alias `pd`.\n",
    "2. `numpy`: Use alias `np`.\n",
    "3. `plotly.express`: Use alias `px`.\n",
    "4. `plotly.graph_objects`: Use alias `go`.\n"
   ]
  },
  {
   "cell_type": "code",
   "execution_count": 1,
   "metadata": {},
   "outputs": [],
   "source": [
    "import pandas as pd\n",
    "import numpy as np\n",
    "\n",
    "import plotly.graph_objects as go\n",
    "import plotly.express as px"
   ]
  },
  {
   "cell_type": "markdown",
   "metadata": {},
   "source": [
    "▶️ Check the version of plotly installed in your environment.\n"
   ]
  },
  {
   "cell_type": "code",
   "execution_count": 2,
   "metadata": {},
   "outputs": [
    {
     "name": "stdout",
     "output_type": "stream",
     "text": [
      "Plotly version: 6.0.1\n"
     ]
    }
   ],
   "source": [
    "import plotly\n",
    "\n",
    "print(f\"Plotly version: {plotly.__version__}\")"
   ]
  },
  {
   "cell_type": "markdown",
   "metadata": {},
   "source": [
    "Today, we work with an HR Dataset to uncover insights about HR metrics, measurement, and analytics. The data has been downloaded from [https://rpubs.com/rhuebner/hr_codebook_v14](https://rpubs.com/rhuebner/hr_codebook_v14) without any modification.\n"
   ]
  },
  {
   "cell_type": "markdown",
   "metadata": {},
   "source": [
    "▶️ Import the HR Dataset. 🐷👧👨🏻‍🦰👩🏼‍🦳👳🏽‍♂️👩🏾‍🦲🐼.\n"
   ]
  },
  {
   "cell_type": "code",
   "execution_count": 3,
   "metadata": {},
   "outputs": [
    {
     "data": {
      "text/html": [
       "<div>\n",
       "<style scoped>\n",
       "    .dataframe tbody tr th:only-of-type {\n",
       "        vertical-align: middle;\n",
       "    }\n",
       "\n",
       "    .dataframe tbody tr th {\n",
       "        vertical-align: top;\n",
       "    }\n",
       "\n",
       "    .dataframe thead th {\n",
       "        text-align: right;\n",
       "    }\n",
       "</style>\n",
       "<table border=\"1\" class=\"dataframe\">\n",
       "  <thead>\n",
       "    <tr style=\"text-align: right;\">\n",
       "      <th></th>\n",
       "      <th>Employee_Name</th>\n",
       "      <th>EmpID</th>\n",
       "      <th>MarriedID</th>\n",
       "      <th>MaritalStatusID</th>\n",
       "      <th>GenderID</th>\n",
       "      <th>EmpStatusID</th>\n",
       "      <th>DeptID</th>\n",
       "      <th>PerfScoreID</th>\n",
       "      <th>FromDiversityJobFairID</th>\n",
       "      <th>Salary</th>\n",
       "      <th>Termd</th>\n",
       "      <th>PositionID</th>\n",
       "      <th>Position</th>\n",
       "      <th>State</th>\n",
       "      <th>Zip</th>\n",
       "      <th>DOB</th>\n",
       "      <th>Sex</th>\n",
       "      <th>MaritalDesc</th>\n",
       "      <th>CitizenDesc</th>\n",
       "      <th>HispanicLatino</th>\n",
       "      <th>RaceDesc</th>\n",
       "      <th>DateofHire</th>\n",
       "      <th>DateofTermination</th>\n",
       "      <th>TermReason</th>\n",
       "      <th>EmploymentStatus</th>\n",
       "      <th>Department</th>\n",
       "      <th>ManagerName</th>\n",
       "      <th>ManagerID</th>\n",
       "      <th>RecruitmentSource</th>\n",
       "      <th>PerformanceScore</th>\n",
       "      <th>EngagementSurvey</th>\n",
       "      <th>EmpSatisfaction</th>\n",
       "      <th>SpecialProjectsCount</th>\n",
       "      <th>LastPerformanceReview_Date</th>\n",
       "      <th>DaysLateLast30</th>\n",
       "      <th>Absences</th>\n",
       "    </tr>\n",
       "  </thead>\n",
       "  <tbody>\n",
       "    <tr>\n",
       "      <th>0</th>\n",
       "      <td>Adinolfi, Wilson  K</td>\n",
       "      <td>10026</td>\n",
       "      <td>0</td>\n",
       "      <td>0</td>\n",
       "      <td>1</td>\n",
       "      <td>1</td>\n",
       "      <td>5</td>\n",
       "      <td>4</td>\n",
       "      <td>0</td>\n",
       "      <td>62506</td>\n",
       "      <td>0</td>\n",
       "      <td>19</td>\n",
       "      <td>Production Technician I</td>\n",
       "      <td>MA</td>\n",
       "      <td>1960</td>\n",
       "      <td>07/10/83</td>\n",
       "      <td>M</td>\n",
       "      <td>Single</td>\n",
       "      <td>US Citizen</td>\n",
       "      <td>No</td>\n",
       "      <td>White</td>\n",
       "      <td>7/5/2011</td>\n",
       "      <td>NaN</td>\n",
       "      <td>N/A-StillEmployed</td>\n",
       "      <td>Active</td>\n",
       "      <td>Production</td>\n",
       "      <td>Michael Albert</td>\n",
       "      <td>22.0</td>\n",
       "      <td>LinkedIn</td>\n",
       "      <td>Exceeds</td>\n",
       "      <td>4.60</td>\n",
       "      <td>5</td>\n",
       "      <td>0</td>\n",
       "      <td>1/17/2019</td>\n",
       "      <td>0</td>\n",
       "      <td>1</td>\n",
       "    </tr>\n",
       "    <tr>\n",
       "      <th>1</th>\n",
       "      <td>Ait Sidi, Karthikeyan</td>\n",
       "      <td>10084</td>\n",
       "      <td>1</td>\n",
       "      <td>1</td>\n",
       "      <td>1</td>\n",
       "      <td>5</td>\n",
       "      <td>3</td>\n",
       "      <td>3</td>\n",
       "      <td>0</td>\n",
       "      <td>104437</td>\n",
       "      <td>1</td>\n",
       "      <td>27</td>\n",
       "      <td>Sr. DBA</td>\n",
       "      <td>MA</td>\n",
       "      <td>2148</td>\n",
       "      <td>05/05/75</td>\n",
       "      <td>M</td>\n",
       "      <td>Married</td>\n",
       "      <td>US Citizen</td>\n",
       "      <td>No</td>\n",
       "      <td>White</td>\n",
       "      <td>3/30/2015</td>\n",
       "      <td>6/16/2016</td>\n",
       "      <td>career change</td>\n",
       "      <td>Voluntarily Terminated</td>\n",
       "      <td>IT/IS</td>\n",
       "      <td>Simon Roup</td>\n",
       "      <td>4.0</td>\n",
       "      <td>Indeed</td>\n",
       "      <td>Fully Meets</td>\n",
       "      <td>4.96</td>\n",
       "      <td>3</td>\n",
       "      <td>6</td>\n",
       "      <td>2/24/2016</td>\n",
       "      <td>0</td>\n",
       "      <td>17</td>\n",
       "    </tr>\n",
       "    <tr>\n",
       "      <th>2</th>\n",
       "      <td>Akinkuolie, Sarah</td>\n",
       "      <td>10196</td>\n",
       "      <td>1</td>\n",
       "      <td>1</td>\n",
       "      <td>0</td>\n",
       "      <td>5</td>\n",
       "      <td>5</td>\n",
       "      <td>3</td>\n",
       "      <td>0</td>\n",
       "      <td>64955</td>\n",
       "      <td>1</td>\n",
       "      <td>20</td>\n",
       "      <td>Production Technician II</td>\n",
       "      <td>MA</td>\n",
       "      <td>1810</td>\n",
       "      <td>09/19/88</td>\n",
       "      <td>F</td>\n",
       "      <td>Married</td>\n",
       "      <td>US Citizen</td>\n",
       "      <td>No</td>\n",
       "      <td>White</td>\n",
       "      <td>7/5/2011</td>\n",
       "      <td>9/24/2012</td>\n",
       "      <td>hours</td>\n",
       "      <td>Voluntarily Terminated</td>\n",
       "      <td>Production</td>\n",
       "      <td>Kissy Sullivan</td>\n",
       "      <td>20.0</td>\n",
       "      <td>LinkedIn</td>\n",
       "      <td>Fully Meets</td>\n",
       "      <td>3.02</td>\n",
       "      <td>3</td>\n",
       "      <td>0</td>\n",
       "      <td>5/15/2012</td>\n",
       "      <td>0</td>\n",
       "      <td>3</td>\n",
       "    </tr>\n",
       "    <tr>\n",
       "      <th>3</th>\n",
       "      <td>Alagbe,Trina</td>\n",
       "      <td>10088</td>\n",
       "      <td>1</td>\n",
       "      <td>1</td>\n",
       "      <td>0</td>\n",
       "      <td>1</td>\n",
       "      <td>5</td>\n",
       "      <td>3</td>\n",
       "      <td>0</td>\n",
       "      <td>64991</td>\n",
       "      <td>0</td>\n",
       "      <td>19</td>\n",
       "      <td>Production Technician I</td>\n",
       "      <td>MA</td>\n",
       "      <td>1886</td>\n",
       "      <td>09/27/88</td>\n",
       "      <td>F</td>\n",
       "      <td>Married</td>\n",
       "      <td>US Citizen</td>\n",
       "      <td>No</td>\n",
       "      <td>White</td>\n",
       "      <td>1/7/2008</td>\n",
       "      <td>NaN</td>\n",
       "      <td>N/A-StillEmployed</td>\n",
       "      <td>Active</td>\n",
       "      <td>Production</td>\n",
       "      <td>Elijiah Gray</td>\n",
       "      <td>16.0</td>\n",
       "      <td>Indeed</td>\n",
       "      <td>Fully Meets</td>\n",
       "      <td>4.84</td>\n",
       "      <td>5</td>\n",
       "      <td>0</td>\n",
       "      <td>1/3/2019</td>\n",
       "      <td>0</td>\n",
       "      <td>15</td>\n",
       "    </tr>\n",
       "    <tr>\n",
       "      <th>4</th>\n",
       "      <td>Anderson, Carol</td>\n",
       "      <td>10069</td>\n",
       "      <td>0</td>\n",
       "      <td>2</td>\n",
       "      <td>0</td>\n",
       "      <td>5</td>\n",
       "      <td>5</td>\n",
       "      <td>3</td>\n",
       "      <td>0</td>\n",
       "      <td>50825</td>\n",
       "      <td>1</td>\n",
       "      <td>19</td>\n",
       "      <td>Production Technician I</td>\n",
       "      <td>MA</td>\n",
       "      <td>2169</td>\n",
       "      <td>09/08/89</td>\n",
       "      <td>F</td>\n",
       "      <td>Divorced</td>\n",
       "      <td>US Citizen</td>\n",
       "      <td>No</td>\n",
       "      <td>White</td>\n",
       "      <td>7/11/2011</td>\n",
       "      <td>9/6/2016</td>\n",
       "      <td>return to school</td>\n",
       "      <td>Voluntarily Terminated</td>\n",
       "      <td>Production</td>\n",
       "      <td>Webster Butler</td>\n",
       "      <td>39.0</td>\n",
       "      <td>Google Search</td>\n",
       "      <td>Fully Meets</td>\n",
       "      <td>5.00</td>\n",
       "      <td>4</td>\n",
       "      <td>0</td>\n",
       "      <td>2/1/2016</td>\n",
       "      <td>0</td>\n",
       "      <td>2</td>\n",
       "    </tr>\n",
       "    <tr>\n",
       "      <th>...</th>\n",
       "      <td>...</td>\n",
       "      <td>...</td>\n",
       "      <td>...</td>\n",
       "      <td>...</td>\n",
       "      <td>...</td>\n",
       "      <td>...</td>\n",
       "      <td>...</td>\n",
       "      <td>...</td>\n",
       "      <td>...</td>\n",
       "      <td>...</td>\n",
       "      <td>...</td>\n",
       "      <td>...</td>\n",
       "      <td>...</td>\n",
       "      <td>...</td>\n",
       "      <td>...</td>\n",
       "      <td>...</td>\n",
       "      <td>...</td>\n",
       "      <td>...</td>\n",
       "      <td>...</td>\n",
       "      <td>...</td>\n",
       "      <td>...</td>\n",
       "      <td>...</td>\n",
       "      <td>...</td>\n",
       "      <td>...</td>\n",
       "      <td>...</td>\n",
       "      <td>...</td>\n",
       "      <td>...</td>\n",
       "      <td>...</td>\n",
       "      <td>...</td>\n",
       "      <td>...</td>\n",
       "      <td>...</td>\n",
       "      <td>...</td>\n",
       "      <td>...</td>\n",
       "      <td>...</td>\n",
       "      <td>...</td>\n",
       "      <td>...</td>\n",
       "    </tr>\n",
       "    <tr>\n",
       "      <th>306</th>\n",
       "      <td>Woodson, Jason</td>\n",
       "      <td>10135</td>\n",
       "      <td>0</td>\n",
       "      <td>0</td>\n",
       "      <td>1</td>\n",
       "      <td>1</td>\n",
       "      <td>5</td>\n",
       "      <td>3</td>\n",
       "      <td>0</td>\n",
       "      <td>65893</td>\n",
       "      <td>0</td>\n",
       "      <td>20</td>\n",
       "      <td>Production Technician II</td>\n",
       "      <td>MA</td>\n",
       "      <td>1810</td>\n",
       "      <td>05/11/85</td>\n",
       "      <td>M</td>\n",
       "      <td>Single</td>\n",
       "      <td>US Citizen</td>\n",
       "      <td>No</td>\n",
       "      <td>White</td>\n",
       "      <td>7/7/2014</td>\n",
       "      <td>NaN</td>\n",
       "      <td>N/A-StillEmployed</td>\n",
       "      <td>Active</td>\n",
       "      <td>Production</td>\n",
       "      <td>Kissy Sullivan</td>\n",
       "      <td>20.0</td>\n",
       "      <td>LinkedIn</td>\n",
       "      <td>Fully Meets</td>\n",
       "      <td>4.07</td>\n",
       "      <td>4</td>\n",
       "      <td>0</td>\n",
       "      <td>2/28/2019</td>\n",
       "      <td>0</td>\n",
       "      <td>13</td>\n",
       "    </tr>\n",
       "    <tr>\n",
       "      <th>307</th>\n",
       "      <td>Ybarra, Catherine</td>\n",
       "      <td>10301</td>\n",
       "      <td>0</td>\n",
       "      <td>0</td>\n",
       "      <td>0</td>\n",
       "      <td>5</td>\n",
       "      <td>5</td>\n",
       "      <td>1</td>\n",
       "      <td>0</td>\n",
       "      <td>48513</td>\n",
       "      <td>1</td>\n",
       "      <td>19</td>\n",
       "      <td>Production Technician I</td>\n",
       "      <td>MA</td>\n",
       "      <td>2458</td>\n",
       "      <td>05/04/82</td>\n",
       "      <td>F</td>\n",
       "      <td>Single</td>\n",
       "      <td>US Citizen</td>\n",
       "      <td>No</td>\n",
       "      <td>Asian</td>\n",
       "      <td>9/2/2008</td>\n",
       "      <td>9/29/2015</td>\n",
       "      <td>Another position</td>\n",
       "      <td>Voluntarily Terminated</td>\n",
       "      <td>Production</td>\n",
       "      <td>Brannon Miller</td>\n",
       "      <td>12.0</td>\n",
       "      <td>Google Search</td>\n",
       "      <td>PIP</td>\n",
       "      <td>3.20</td>\n",
       "      <td>2</td>\n",
       "      <td>0</td>\n",
       "      <td>9/2/2015</td>\n",
       "      <td>5</td>\n",
       "      <td>4</td>\n",
       "    </tr>\n",
       "    <tr>\n",
       "      <th>308</th>\n",
       "      <td>Zamora, Jennifer</td>\n",
       "      <td>10010</td>\n",
       "      <td>0</td>\n",
       "      <td>0</td>\n",
       "      <td>0</td>\n",
       "      <td>1</td>\n",
       "      <td>3</td>\n",
       "      <td>4</td>\n",
       "      <td>0</td>\n",
       "      <td>220450</td>\n",
       "      <td>0</td>\n",
       "      <td>6</td>\n",
       "      <td>CIO</td>\n",
       "      <td>MA</td>\n",
       "      <td>2067</td>\n",
       "      <td>08/30/79</td>\n",
       "      <td>F</td>\n",
       "      <td>Single</td>\n",
       "      <td>US Citizen</td>\n",
       "      <td>No</td>\n",
       "      <td>White</td>\n",
       "      <td>4/10/2010</td>\n",
       "      <td>NaN</td>\n",
       "      <td>N/A-StillEmployed</td>\n",
       "      <td>Active</td>\n",
       "      <td>IT/IS</td>\n",
       "      <td>Janet King</td>\n",
       "      <td>2.0</td>\n",
       "      <td>Employee Referral</td>\n",
       "      <td>Exceeds</td>\n",
       "      <td>4.60</td>\n",
       "      <td>5</td>\n",
       "      <td>6</td>\n",
       "      <td>2/21/2019</td>\n",
       "      <td>0</td>\n",
       "      <td>16</td>\n",
       "    </tr>\n",
       "    <tr>\n",
       "      <th>309</th>\n",
       "      <td>Zhou, Julia</td>\n",
       "      <td>10043</td>\n",
       "      <td>0</td>\n",
       "      <td>0</td>\n",
       "      <td>0</td>\n",
       "      <td>1</td>\n",
       "      <td>3</td>\n",
       "      <td>3</td>\n",
       "      <td>0</td>\n",
       "      <td>89292</td>\n",
       "      <td>0</td>\n",
       "      <td>9</td>\n",
       "      <td>Data Analyst</td>\n",
       "      <td>MA</td>\n",
       "      <td>2148</td>\n",
       "      <td>02/24/79</td>\n",
       "      <td>F</td>\n",
       "      <td>Single</td>\n",
       "      <td>US Citizen</td>\n",
       "      <td>No</td>\n",
       "      <td>White</td>\n",
       "      <td>3/30/2015</td>\n",
       "      <td>NaN</td>\n",
       "      <td>N/A-StillEmployed</td>\n",
       "      <td>Active</td>\n",
       "      <td>IT/IS</td>\n",
       "      <td>Simon Roup</td>\n",
       "      <td>4.0</td>\n",
       "      <td>Employee Referral</td>\n",
       "      <td>Fully Meets</td>\n",
       "      <td>5.00</td>\n",
       "      <td>3</td>\n",
       "      <td>5</td>\n",
       "      <td>2/1/2019</td>\n",
       "      <td>0</td>\n",
       "      <td>11</td>\n",
       "    </tr>\n",
       "    <tr>\n",
       "      <th>310</th>\n",
       "      <td>Zima, Colleen</td>\n",
       "      <td>10271</td>\n",
       "      <td>0</td>\n",
       "      <td>4</td>\n",
       "      <td>0</td>\n",
       "      <td>1</td>\n",
       "      <td>5</td>\n",
       "      <td>3</td>\n",
       "      <td>0</td>\n",
       "      <td>45046</td>\n",
       "      <td>0</td>\n",
       "      <td>19</td>\n",
       "      <td>Production Technician I</td>\n",
       "      <td>MA</td>\n",
       "      <td>1730</td>\n",
       "      <td>08/17/78</td>\n",
       "      <td>F</td>\n",
       "      <td>Widowed</td>\n",
       "      <td>US Citizen</td>\n",
       "      <td>No</td>\n",
       "      <td>Asian</td>\n",
       "      <td>9/29/2014</td>\n",
       "      <td>NaN</td>\n",
       "      <td>N/A-StillEmployed</td>\n",
       "      <td>Active</td>\n",
       "      <td>Production</td>\n",
       "      <td>David Stanley</td>\n",
       "      <td>14.0</td>\n",
       "      <td>LinkedIn</td>\n",
       "      <td>Fully Meets</td>\n",
       "      <td>4.50</td>\n",
       "      <td>5</td>\n",
       "      <td>0</td>\n",
       "      <td>1/30/2019</td>\n",
       "      <td>0</td>\n",
       "      <td>2</td>\n",
       "    </tr>\n",
       "  </tbody>\n",
       "</table>\n",
       "<p>311 rows × 36 columns</p>\n",
       "</div>"
      ],
      "text/plain": [
       "                Employee_Name  EmpID  MarriedID  MaritalStatusID  GenderID  \\\n",
       "0         Adinolfi, Wilson  K  10026          0                0         1   \n",
       "1    Ait Sidi, Karthikeyan     10084          1                1         1   \n",
       "2           Akinkuolie, Sarah  10196          1                1         0   \n",
       "3                Alagbe,Trina  10088          1                1         0   \n",
       "4            Anderson, Carol   10069          0                2         0   \n",
       "..                        ...    ...        ...              ...       ...   \n",
       "306            Woodson, Jason  10135          0                0         1   \n",
       "307        Ybarra, Catherine   10301          0                0         0   \n",
       "308          Zamora, Jennifer  10010          0                0         0   \n",
       "309               Zhou, Julia  10043          0                0         0   \n",
       "310             Zima, Colleen  10271          0                4         0   \n",
       "\n",
       "     EmpStatusID  DeptID  PerfScoreID  FromDiversityJobFairID  Salary  Termd  \\\n",
       "0              1       5            4                       0   62506      0   \n",
       "1              5       3            3                       0  104437      1   \n",
       "2              5       5            3                       0   64955      1   \n",
       "3              1       5            3                       0   64991      0   \n",
       "4              5       5            3                       0   50825      1   \n",
       "..           ...     ...          ...                     ...     ...    ...   \n",
       "306            1       5            3                       0   65893      0   \n",
       "307            5       5            1                       0   48513      1   \n",
       "308            1       3            4                       0  220450      0   \n",
       "309            1       3            3                       0   89292      0   \n",
       "310            1       5            3                       0   45046      0   \n",
       "\n",
       "     PositionID                  Position State   Zip       DOB Sex  \\\n",
       "0            19   Production Technician I    MA  1960  07/10/83  M    \n",
       "1            27                   Sr. DBA    MA  2148  05/05/75  M    \n",
       "2            20  Production Technician II    MA  1810  09/19/88   F   \n",
       "3            19   Production Technician I    MA  1886  09/27/88   F   \n",
       "4            19   Production Technician I    MA  2169  09/08/89   F   \n",
       "..          ...                       ...   ...   ...       ...  ..   \n",
       "306          20  Production Technician II    MA  1810  05/11/85  M    \n",
       "307          19   Production Technician I    MA  2458  05/04/82   F   \n",
       "308           6                       CIO    MA  2067  08/30/79   F   \n",
       "309           9              Data Analyst    MA  2148  02/24/79   F   \n",
       "310          19   Production Technician I    MA  1730  08/17/78   F   \n",
       "\n",
       "    MaritalDesc CitizenDesc HispanicLatino RaceDesc DateofHire  \\\n",
       "0        Single  US Citizen             No    White   7/5/2011   \n",
       "1       Married  US Citizen             No    White  3/30/2015   \n",
       "2       Married  US Citizen             No    White   7/5/2011   \n",
       "3       Married  US Citizen             No    White   1/7/2008   \n",
       "4      Divorced  US Citizen             No    White  7/11/2011   \n",
       "..          ...         ...            ...      ...        ...   \n",
       "306      Single  US Citizen             No    White   7/7/2014   \n",
       "307      Single  US Citizen             No    Asian   9/2/2008   \n",
       "308      Single  US Citizen             No    White  4/10/2010   \n",
       "309      Single  US Citizen             No    White  3/30/2015   \n",
       "310     Widowed  US Citizen             No    Asian  9/29/2014   \n",
       "\n",
       "    DateofTermination         TermReason        EmploymentStatus  \\\n",
       "0                 NaN  N/A-StillEmployed                  Active   \n",
       "1           6/16/2016      career change  Voluntarily Terminated   \n",
       "2           9/24/2012              hours  Voluntarily Terminated   \n",
       "3                 NaN  N/A-StillEmployed                  Active   \n",
       "4            9/6/2016   return to school  Voluntarily Terminated   \n",
       "..                ...                ...                     ...   \n",
       "306               NaN  N/A-StillEmployed                  Active   \n",
       "307         9/29/2015   Another position  Voluntarily Terminated   \n",
       "308               NaN  N/A-StillEmployed                  Active   \n",
       "309               NaN  N/A-StillEmployed                  Active   \n",
       "310               NaN  N/A-StillEmployed                  Active   \n",
       "\n",
       "            Department     ManagerName  ManagerID  RecruitmentSource  \\\n",
       "0    Production         Michael Albert       22.0           LinkedIn   \n",
       "1                IT/IS      Simon Roup        4.0             Indeed   \n",
       "2    Production         Kissy Sullivan       20.0           LinkedIn   \n",
       "3    Production           Elijiah Gray       16.0             Indeed   \n",
       "4    Production         Webster Butler       39.0      Google Search   \n",
       "..                 ...             ...        ...                ...   \n",
       "306  Production         Kissy Sullivan       20.0           LinkedIn   \n",
       "307  Production         Brannon Miller       12.0      Google Search   \n",
       "308              IT/IS      Janet King        2.0  Employee Referral   \n",
       "309              IT/IS      Simon Roup        4.0  Employee Referral   \n",
       "310  Production          David Stanley       14.0           LinkedIn   \n",
       "\n",
       "    PerformanceScore  EngagementSurvey  EmpSatisfaction  SpecialProjectsCount  \\\n",
       "0            Exceeds              4.60                5                     0   \n",
       "1        Fully Meets              4.96                3                     6   \n",
       "2        Fully Meets              3.02                3                     0   \n",
       "3        Fully Meets              4.84                5                     0   \n",
       "4        Fully Meets              5.00                4                     0   \n",
       "..               ...               ...              ...                   ...   \n",
       "306      Fully Meets              4.07                4                     0   \n",
       "307              PIP              3.20                2                     0   \n",
       "308          Exceeds              4.60                5                     6   \n",
       "309      Fully Meets              5.00                3                     5   \n",
       "310      Fully Meets              4.50                5                     0   \n",
       "\n",
       "    LastPerformanceReview_Date  DaysLateLast30  Absences  \n",
       "0                    1/17/2019               0         1  \n",
       "1                    2/24/2016               0        17  \n",
       "2                    5/15/2012               0         3  \n",
       "3                     1/3/2019               0        15  \n",
       "4                     2/1/2016               0         2  \n",
       "..                         ...             ...       ...  \n",
       "306                  2/28/2019               0        13  \n",
       "307                   9/2/2015               5         4  \n",
       "308                  2/21/2019               0        16  \n",
       "309                   2/1/2019               0        11  \n",
       "310                  1/30/2019               0         2  \n",
       "\n",
       "[311 rows x 36 columns]"
      ]
     },
     "metadata": {},
     "output_type": "display_data"
    }
   ],
   "source": [
    "# Display all columns\n",
    "pd.set_option(\"display.max_columns\", 50)\n",
    "\n",
    "df_hr = pd.read_csv(\"https://github.com/bdi475/datasets/raw/main/HR-dataset-v14.csv\")\n",
    "\n",
    "display(df_hr)"
   ]
  },
  {
   "cell_type": "markdown",
   "metadata": {},
   "source": [
    "---\n",
    "\n",
    "### 📦 Box Plot\n",
    "\n",
    "Box plots divide the data into 4 sections that each contain 25% of the data. It is useful to quickly identify the distribution of the data based on Q1, Q2 (median), and Q3.\n",
    "\n",
    "![box plot explanation](images/dataviz/box-plot-explanation.png)\n"
   ]
  },
  {
   "cell_type": "markdown",
   "metadata": {},
   "source": [
    "▶️ Create a simple box plot of 12 different GPAs. NumPy is used here to calculate the statistical figures.\n"
   ]
  },
  {
   "cell_type": "code",
   "execution_count": 4,
   "metadata": {},
   "outputs": [
    {
     "data": {
      "text/plain": [
       "array([3.33, 2.67, 3.  , 3.67, 3.67, 2.33, 3.  , 3.  , 2.67, 4.  , 3.33,\n",
       "       2.67, 4.  ])"
      ]
     },
     "execution_count": 4,
     "metadata": {},
     "output_type": "execute_result"
    }
   ],
   "source": [
    "gpa = np.array(\n",
    "    [3.33, 2.67, 3.0, 3.67, 3.67, 2.33, 3.0, 3.0, 2.67, 4.0, 3.33, 2.67, 4.0]\n",
    ")\n",
    "gpa"
   ]
  },
  {
   "cell_type": "code",
   "execution_count": 5,
   "metadata": {},
   "outputs": [
    {
     "data": {
      "application/vnd.plotly.v1+json": {
       "config": {
        "plotlyServerURL": "https://plot.ly"
       },
       "data": [
        {
         "alignmentgroup": "True",
         "hovertemplate": "x=%{x}<extra></extra>",
         "legendgroup": "",
         "marker": {
          "color": "#636efa"
         },
         "name": "",
         "notched": false,
         "offsetgroup": "",
         "orientation": "h",
         "showlegend": false,
         "type": "box",
         "x": {
          "bdata": "pHA9CtejCkBcj8L1KFwFQAAAAAAAAAhAXI/C9ShcDUBcj8L1KFwNQKRwPQrXowJAAAAAAAAACEAAAAAAAAAIQFyPwvUoXAVAAAAAAAAAEECkcD0K16MKQFyPwvUoXAVAAAAAAAAAEEA=",
          "dtype": "f8"
         },
         "x0": " ",
         "xaxis": "x",
         "y0": " ",
         "yaxis": "y"
        }
       ],
       "layout": {
        "boxmode": "group",
        "legend": {
         "tracegroupgap": 0
        },
        "template": {
         "data": {
          "bar": [
           {
            "error_x": {
             "color": "#2a3f5f"
            },
            "error_y": {
             "color": "#2a3f5f"
            },
            "marker": {
             "line": {
              "color": "#E5ECF6",
              "width": 0.5
             },
             "pattern": {
              "fillmode": "overlay",
              "size": 10,
              "solidity": 0.2
             }
            },
            "type": "bar"
           }
          ],
          "barpolar": [
           {
            "marker": {
             "line": {
              "color": "#E5ECF6",
              "width": 0.5
             },
             "pattern": {
              "fillmode": "overlay",
              "size": 10,
              "solidity": 0.2
             }
            },
            "type": "barpolar"
           }
          ],
          "carpet": [
           {
            "aaxis": {
             "endlinecolor": "#2a3f5f",
             "gridcolor": "white",
             "linecolor": "white",
             "minorgridcolor": "white",
             "startlinecolor": "#2a3f5f"
            },
            "baxis": {
             "endlinecolor": "#2a3f5f",
             "gridcolor": "white",
             "linecolor": "white",
             "minorgridcolor": "white",
             "startlinecolor": "#2a3f5f"
            },
            "type": "carpet"
           }
          ],
          "choropleth": [
           {
            "colorbar": {
             "outlinewidth": 0,
             "ticks": ""
            },
            "type": "choropleth"
           }
          ],
          "contour": [
           {
            "colorbar": {
             "outlinewidth": 0,
             "ticks": ""
            },
            "colorscale": [
             [
              0,
              "#0d0887"
             ],
             [
              0.1111111111111111,
              "#46039f"
             ],
             [
              0.2222222222222222,
              "#7201a8"
             ],
             [
              0.3333333333333333,
              "#9c179e"
             ],
             [
              0.4444444444444444,
              "#bd3786"
             ],
             [
              0.5555555555555556,
              "#d8576b"
             ],
             [
              0.6666666666666666,
              "#ed7953"
             ],
             [
              0.7777777777777778,
              "#fb9f3a"
             ],
             [
              0.8888888888888888,
              "#fdca26"
             ],
             [
              1,
              "#f0f921"
             ]
            ],
            "type": "contour"
           }
          ],
          "contourcarpet": [
           {
            "colorbar": {
             "outlinewidth": 0,
             "ticks": ""
            },
            "type": "contourcarpet"
           }
          ],
          "heatmap": [
           {
            "colorbar": {
             "outlinewidth": 0,
             "ticks": ""
            },
            "colorscale": [
             [
              0,
              "#0d0887"
             ],
             [
              0.1111111111111111,
              "#46039f"
             ],
             [
              0.2222222222222222,
              "#7201a8"
             ],
             [
              0.3333333333333333,
              "#9c179e"
             ],
             [
              0.4444444444444444,
              "#bd3786"
             ],
             [
              0.5555555555555556,
              "#d8576b"
             ],
             [
              0.6666666666666666,
              "#ed7953"
             ],
             [
              0.7777777777777778,
              "#fb9f3a"
             ],
             [
              0.8888888888888888,
              "#fdca26"
             ],
             [
              1,
              "#f0f921"
             ]
            ],
            "type": "heatmap"
           }
          ],
          "histogram": [
           {
            "marker": {
             "pattern": {
              "fillmode": "overlay",
              "size": 10,
              "solidity": 0.2
             }
            },
            "type": "histogram"
           }
          ],
          "histogram2d": [
           {
            "colorbar": {
             "outlinewidth": 0,
             "ticks": ""
            },
            "colorscale": [
             [
              0,
              "#0d0887"
             ],
             [
              0.1111111111111111,
              "#46039f"
             ],
             [
              0.2222222222222222,
              "#7201a8"
             ],
             [
              0.3333333333333333,
              "#9c179e"
             ],
             [
              0.4444444444444444,
              "#bd3786"
             ],
             [
              0.5555555555555556,
              "#d8576b"
             ],
             [
              0.6666666666666666,
              "#ed7953"
             ],
             [
              0.7777777777777778,
              "#fb9f3a"
             ],
             [
              0.8888888888888888,
              "#fdca26"
             ],
             [
              1,
              "#f0f921"
             ]
            ],
            "type": "histogram2d"
           }
          ],
          "histogram2dcontour": [
           {
            "colorbar": {
             "outlinewidth": 0,
             "ticks": ""
            },
            "colorscale": [
             [
              0,
              "#0d0887"
             ],
             [
              0.1111111111111111,
              "#46039f"
             ],
             [
              0.2222222222222222,
              "#7201a8"
             ],
             [
              0.3333333333333333,
              "#9c179e"
             ],
             [
              0.4444444444444444,
              "#bd3786"
             ],
             [
              0.5555555555555556,
              "#d8576b"
             ],
             [
              0.6666666666666666,
              "#ed7953"
             ],
             [
              0.7777777777777778,
              "#fb9f3a"
             ],
             [
              0.8888888888888888,
              "#fdca26"
             ],
             [
              1,
              "#f0f921"
             ]
            ],
            "type": "histogram2dcontour"
           }
          ],
          "mesh3d": [
           {
            "colorbar": {
             "outlinewidth": 0,
             "ticks": ""
            },
            "type": "mesh3d"
           }
          ],
          "parcoords": [
           {
            "line": {
             "colorbar": {
              "outlinewidth": 0,
              "ticks": ""
             }
            },
            "type": "parcoords"
           }
          ],
          "pie": [
           {
            "automargin": true,
            "type": "pie"
           }
          ],
          "scatter": [
           {
            "fillpattern": {
             "fillmode": "overlay",
             "size": 10,
             "solidity": 0.2
            },
            "type": "scatter"
           }
          ],
          "scatter3d": [
           {
            "line": {
             "colorbar": {
              "outlinewidth": 0,
              "ticks": ""
             }
            },
            "marker": {
             "colorbar": {
              "outlinewidth": 0,
              "ticks": ""
             }
            },
            "type": "scatter3d"
           }
          ],
          "scattercarpet": [
           {
            "marker": {
             "colorbar": {
              "outlinewidth": 0,
              "ticks": ""
             }
            },
            "type": "scattercarpet"
           }
          ],
          "scattergeo": [
           {
            "marker": {
             "colorbar": {
              "outlinewidth": 0,
              "ticks": ""
             }
            },
            "type": "scattergeo"
           }
          ],
          "scattergl": [
           {
            "marker": {
             "colorbar": {
              "outlinewidth": 0,
              "ticks": ""
             }
            },
            "type": "scattergl"
           }
          ],
          "scattermap": [
           {
            "marker": {
             "colorbar": {
              "outlinewidth": 0,
              "ticks": ""
             }
            },
            "type": "scattermap"
           }
          ],
          "scattermapbox": [
           {
            "marker": {
             "colorbar": {
              "outlinewidth": 0,
              "ticks": ""
             }
            },
            "type": "scattermapbox"
           }
          ],
          "scatterpolar": [
           {
            "marker": {
             "colorbar": {
              "outlinewidth": 0,
              "ticks": ""
             }
            },
            "type": "scatterpolar"
           }
          ],
          "scatterpolargl": [
           {
            "marker": {
             "colorbar": {
              "outlinewidth": 0,
              "ticks": ""
             }
            },
            "type": "scatterpolargl"
           }
          ],
          "scatterternary": [
           {
            "marker": {
             "colorbar": {
              "outlinewidth": 0,
              "ticks": ""
             }
            },
            "type": "scatterternary"
           }
          ],
          "surface": [
           {
            "colorbar": {
             "outlinewidth": 0,
             "ticks": ""
            },
            "colorscale": [
             [
              0,
              "#0d0887"
             ],
             [
              0.1111111111111111,
              "#46039f"
             ],
             [
              0.2222222222222222,
              "#7201a8"
             ],
             [
              0.3333333333333333,
              "#9c179e"
             ],
             [
              0.4444444444444444,
              "#bd3786"
             ],
             [
              0.5555555555555556,
              "#d8576b"
             ],
             [
              0.6666666666666666,
              "#ed7953"
             ],
             [
              0.7777777777777778,
              "#fb9f3a"
             ],
             [
              0.8888888888888888,
              "#fdca26"
             ],
             [
              1,
              "#f0f921"
             ]
            ],
            "type": "surface"
           }
          ],
          "table": [
           {
            "cells": {
             "fill": {
              "color": "#EBF0F8"
             },
             "line": {
              "color": "white"
             }
            },
            "header": {
             "fill": {
              "color": "#C8D4E3"
             },
             "line": {
              "color": "white"
             }
            },
            "type": "table"
           }
          ]
         },
         "layout": {
          "annotationdefaults": {
           "arrowcolor": "#2a3f5f",
           "arrowhead": 0,
           "arrowwidth": 1
          },
          "autotypenumbers": "strict",
          "coloraxis": {
           "colorbar": {
            "outlinewidth": 0,
            "ticks": ""
           }
          },
          "colorscale": {
           "diverging": [
            [
             0,
             "#8e0152"
            ],
            [
             0.1,
             "#c51b7d"
            ],
            [
             0.2,
             "#de77ae"
            ],
            [
             0.3,
             "#f1b6da"
            ],
            [
             0.4,
             "#fde0ef"
            ],
            [
             0.5,
             "#f7f7f7"
            ],
            [
             0.6,
             "#e6f5d0"
            ],
            [
             0.7,
             "#b8e186"
            ],
            [
             0.8,
             "#7fbc41"
            ],
            [
             0.9,
             "#4d9221"
            ],
            [
             1,
             "#276419"
            ]
           ],
           "sequential": [
            [
             0,
             "#0d0887"
            ],
            [
             0.1111111111111111,
             "#46039f"
            ],
            [
             0.2222222222222222,
             "#7201a8"
            ],
            [
             0.3333333333333333,
             "#9c179e"
            ],
            [
             0.4444444444444444,
             "#bd3786"
            ],
            [
             0.5555555555555556,
             "#d8576b"
            ],
            [
             0.6666666666666666,
             "#ed7953"
            ],
            [
             0.7777777777777778,
             "#fb9f3a"
            ],
            [
             0.8888888888888888,
             "#fdca26"
            ],
            [
             1,
             "#f0f921"
            ]
           ],
           "sequentialminus": [
            [
             0,
             "#0d0887"
            ],
            [
             0.1111111111111111,
             "#46039f"
            ],
            [
             0.2222222222222222,
             "#7201a8"
            ],
            [
             0.3333333333333333,
             "#9c179e"
            ],
            [
             0.4444444444444444,
             "#bd3786"
            ],
            [
             0.5555555555555556,
             "#d8576b"
            ],
            [
             0.6666666666666666,
             "#ed7953"
            ],
            [
             0.7777777777777778,
             "#fb9f3a"
            ],
            [
             0.8888888888888888,
             "#fdca26"
            ],
            [
             1,
             "#f0f921"
            ]
           ]
          },
          "colorway": [
           "#636efa",
           "#EF553B",
           "#00cc96",
           "#ab63fa",
           "#FFA15A",
           "#19d3f3",
           "#FF6692",
           "#B6E880",
           "#FF97FF",
           "#FECB52"
          ],
          "font": {
           "color": "#2a3f5f"
          },
          "geo": {
           "bgcolor": "white",
           "lakecolor": "white",
           "landcolor": "#E5ECF6",
           "showlakes": true,
           "showland": true,
           "subunitcolor": "white"
          },
          "hoverlabel": {
           "align": "left"
          },
          "hovermode": "closest",
          "mapbox": {
           "style": "light"
          },
          "paper_bgcolor": "white",
          "plot_bgcolor": "#E5ECF6",
          "polar": {
           "angularaxis": {
            "gridcolor": "white",
            "linecolor": "white",
            "ticks": ""
           },
           "bgcolor": "#E5ECF6",
           "radialaxis": {
            "gridcolor": "white",
            "linecolor": "white",
            "ticks": ""
           }
          },
          "scene": {
           "xaxis": {
            "backgroundcolor": "#E5ECF6",
            "gridcolor": "white",
            "gridwidth": 2,
            "linecolor": "white",
            "showbackground": true,
            "ticks": "",
            "zerolinecolor": "white"
           },
           "yaxis": {
            "backgroundcolor": "#E5ECF6",
            "gridcolor": "white",
            "gridwidth": 2,
            "linecolor": "white",
            "showbackground": true,
            "ticks": "",
            "zerolinecolor": "white"
           },
           "zaxis": {
            "backgroundcolor": "#E5ECF6",
            "gridcolor": "white",
            "gridwidth": 2,
            "linecolor": "white",
            "showbackground": true,
            "ticks": "",
            "zerolinecolor": "white"
           }
          },
          "shapedefaults": {
           "line": {
            "color": "#2a3f5f"
           }
          },
          "ternary": {
           "aaxis": {
            "gridcolor": "white",
            "linecolor": "white",
            "ticks": ""
           },
           "baxis": {
            "gridcolor": "white",
            "linecolor": "white",
            "ticks": ""
           },
           "bgcolor": "#E5ECF6",
           "caxis": {
            "gridcolor": "white",
            "linecolor": "white",
            "ticks": ""
           }
          },
          "title": {
           "x": 0.05
          },
          "xaxis": {
           "automargin": true,
           "gridcolor": "white",
           "linecolor": "white",
           "ticks": "",
           "title": {
            "standoff": 15
           },
           "zerolinecolor": "white",
           "zerolinewidth": 2
          },
          "yaxis": {
           "automargin": true,
           "gridcolor": "white",
           "linecolor": "white",
           "ticks": "",
           "title": {
            "standoff": 15
           },
           "zerolinecolor": "white",
           "zerolinewidth": 2
          }
         }
        },
        "title": {
         "text": "GPA Distribution (Horizontal Box Plot)"
        },
        "xaxis": {
         "anchor": "y",
         "domain": [
          0,
          1
         ],
         "title": {
          "text": "x"
         }
        },
        "yaxis": {
         "anchor": "x",
         "domain": [
          0,
          1
         ]
        }
       }
      }
     },
     "metadata": {},
     "output_type": "display_data"
    }
   ],
   "source": [
    "fig = px.box(x=gpa, title=\"GPA Distribution (Horizontal Box Plot)\")\n",
    "fig.show()"
   ]
  },
  {
   "cell_type": "code",
   "execution_count": 6,
   "metadata": {},
   "outputs": [
    {
     "name": "stdout",
     "output_type": "stream",
     "text": [
      "Mean: 3.18\n",
      "Median: 3.0\n",
      "Q1: 2.67\n",
      "Q3: 3.67\n",
      "IQR: 1.0\n"
     ]
    }
   ],
   "source": [
    "print(f\"Mean: {np.mean(gpa)}\")\n",
    "print(f\"Median: {np.median(gpa)}\")\n",
    "print(f\"Q1: {np.quantile(gpa, 0.25)}\")\n",
    "print(f\"Q3: {np.quantile(gpa, 0.75)}\")\n",
    "print(f\"IQR: {np.quantile(gpa, 0.75) - np.quantile(gpa, 0.25)}\")"
   ]
  },
  {
   "cell_type": "markdown",
   "metadata": {},
   "source": [
    "**🗺️ Findings**\n",
    "\n",
    "- Median is `3`.\n",
    "- Minimum is `2.33`.\n",
    "- Maximum is `4`.\n",
    "- Interquartile range is `1`.\n",
    "  - You can calculate this value by subtracting Q1 from Q3: `3.67 - 2.67`.\n",
    "- There is a positive skew.\n",
    "  - This is also shown by comparing the mean and the median.\n"
   ]
  },
  {
   "cell_type": "markdown",
   "metadata": {},
   "source": [
    "---\n",
    "\n",
    "### 🎯 Example 1: Salary box plot (vertical)\n",
    "\n",
    "▶️ Draw a vertical box plot of `Salary` in `df_hr`.\n"
   ]
  },
  {
   "cell_type": "code",
   "execution_count": 7,
   "metadata": {},
   "outputs": [
    {
     "data": {
      "application/vnd.plotly.v1+json": {
       "config": {
        "plotlyServerURL": "https://plot.ly"
       },
       "data": [
        {
         "alignmentgroup": "True",
         "hovertemplate": "Salary=%{y}<extra></extra>",
         "legendgroup": "",
         "marker": {
          "color": "#636efa"
         },
         "name": "",
         "notched": false,
         "offsetgroup": "",
         "orientation": "v",
         "showlegend": false,
         "type": "box",
         "x0": " ",
         "xaxis": "x",
         "y": {
          "bdata": "KvQAAPWXAQC7/QAA3/0AAInGAADg4AAArHUBAOXnAADdugAAAsQAAI7VAABruAAAqGgBAFXlAAAZzQAA6uEAAPMRAQCS5gAAsK0BAALQAABkxwAAl/0AAL71AACJAwEA1+EAAL2UAQB/nwEASCIBAPTQAAAY9gAACP8AAHf7AABWIgEAE/kAANLyAAB8LwEAwBsBANRsAQBuzgAAv4YBALQYAQDY8AAAUbEBAN3TAADc6wAA+AQBABL9AAAw/QAARgwBAEL6AADp5wAAxcQAAIT2AAAI5wAA0wkBAASaAgCV9wAAYEYBAFXbAACpaAEAwQABACRMAQDv4AAA5tsAAJ/eAACq2QAAT4sBAIDwAACj4wAAxc8AADR6AQA7yAAAX+cAAJDwAAD/tAAA3RMBAIgeAgABIgEAtCUBADL0AACm6gAA+L4AAA3UAAAP3gAAtOsAAPTmAADQgwEAYBgBAG4BAQCU4QAAOfoAAHbQAACi5AAAoRsBAJ3aAAArEgEAULcCABeEAQCzBgEAqwABABnMAACzzwAAicgAADHJAADq5wAAldYAANfhAABz8AAAcMABALcjAQAazwAA9OkAACINAQA67wAACQUBAJ28AABlAgEAaMAAAO31AABF+QAAzIIBABsYAQAs1gAA9voAANHLAABx8gAAlrcAAAMKAQCREwEA9vcAAM9+AQAgvwIAAMMAAIHYAADcDgEA4/0AAFYKAQCKRAEAxMoAADrvAAANsAAANO0AABTsAAD1tgAA5JwBAFr3AADi7gAAhw0BADLFAAAe/wAAkNADAPXSAAB5sQAAPrYAAOX5AACrFgEAFmwBAEZDAQAaAgEAKLQAAAj8AAAK8gAAsD4BALz4AAB2awEA4vwAAEQTAQBbMAEAkM0AANr3AABBygAApQYBAHIeAQBZywAASrkAADTOAABTsQAAsfMAADcLAQCl7wAA2JwBAHTTAAAT2AAAWvUAADv3AADD9AAAiNkAANNGAQD42QAAX+MAAEhlAgAMGwEAqhkBAHfNAADG9wAAsSIBAOfgAABxVwEAJsUAAEi2AABvvQAA+M4AAM/4AABt8gAAsgQBAMLNAAAeGQEAS/YAADa5AABEzwAA3QwBABv4AAC7qQEApWsBADzRAABu6wAArrMAAGLiAACtIwEA8iEBAHJtAQDU/AAAmbcAAJTxAADPtgAAUOgAAF61AACjRQEAsHYBACHxAABx8QAAO7AAAJK2AADL/QAAGtkAAPzEAADu7wAAefcAABtfAQDA1AEAEksCANPsAAC8zwAAeCYCAAdGAgDGUAEAhroAAFy1AAB34gAAz1kBAFPbAADrxgAAPsYAAHfLAAASVwEA0MoAAIb5AADw7AAAIB0BANjWAAA75gAAIQQBAA1WAQAV+gAAsgABANnzAABZuwAAoeMAABv2AACr7wAA2OoAAML4AAAx9gAAZucAAD1rAQD0XwEAUu0AAAoaAQAC5AAAHb0AAGgGAQAT3AAAjfsAADH2AAARJgEAQIgBAD0kAQD9KAEAA+IAAJvkAACQWwEAQ9oAAE+9AQBtwgAAdPIAAO0DAQCAOgEAYsQAAKdLAQDaogEAA+QAAGTXAADO4gAAUOkAAGsTAQAe7AAAZQEBAIG9AAAiXQMAzFwBAPavAAA=",
          "dtype": "i4"
         },
         "y0": " ",
         "yaxis": "y"
        }
       ],
       "layout": {
        "boxmode": "group",
        "legend": {
         "tracegroupgap": 0
        },
        "template": {
         "data": {
          "bar": [
           {
            "error_x": {
             "color": "#2a3f5f"
            },
            "error_y": {
             "color": "#2a3f5f"
            },
            "marker": {
             "line": {
              "color": "#E5ECF6",
              "width": 0.5
             },
             "pattern": {
              "fillmode": "overlay",
              "size": 10,
              "solidity": 0.2
             }
            },
            "type": "bar"
           }
          ],
          "barpolar": [
           {
            "marker": {
             "line": {
              "color": "#E5ECF6",
              "width": 0.5
             },
             "pattern": {
              "fillmode": "overlay",
              "size": 10,
              "solidity": 0.2
             }
            },
            "type": "barpolar"
           }
          ],
          "carpet": [
           {
            "aaxis": {
             "endlinecolor": "#2a3f5f",
             "gridcolor": "white",
             "linecolor": "white",
             "minorgridcolor": "white",
             "startlinecolor": "#2a3f5f"
            },
            "baxis": {
             "endlinecolor": "#2a3f5f",
             "gridcolor": "white",
             "linecolor": "white",
             "minorgridcolor": "white",
             "startlinecolor": "#2a3f5f"
            },
            "type": "carpet"
           }
          ],
          "choropleth": [
           {
            "colorbar": {
             "outlinewidth": 0,
             "ticks": ""
            },
            "type": "choropleth"
           }
          ],
          "contour": [
           {
            "colorbar": {
             "outlinewidth": 0,
             "ticks": ""
            },
            "colorscale": [
             [
              0,
              "#0d0887"
             ],
             [
              0.1111111111111111,
              "#46039f"
             ],
             [
              0.2222222222222222,
              "#7201a8"
             ],
             [
              0.3333333333333333,
              "#9c179e"
             ],
             [
              0.4444444444444444,
              "#bd3786"
             ],
             [
              0.5555555555555556,
              "#d8576b"
             ],
             [
              0.6666666666666666,
              "#ed7953"
             ],
             [
              0.7777777777777778,
              "#fb9f3a"
             ],
             [
              0.8888888888888888,
              "#fdca26"
             ],
             [
              1,
              "#f0f921"
             ]
            ],
            "type": "contour"
           }
          ],
          "contourcarpet": [
           {
            "colorbar": {
             "outlinewidth": 0,
             "ticks": ""
            },
            "type": "contourcarpet"
           }
          ],
          "heatmap": [
           {
            "colorbar": {
             "outlinewidth": 0,
             "ticks": ""
            },
            "colorscale": [
             [
              0,
              "#0d0887"
             ],
             [
              0.1111111111111111,
              "#46039f"
             ],
             [
              0.2222222222222222,
              "#7201a8"
             ],
             [
              0.3333333333333333,
              "#9c179e"
             ],
             [
              0.4444444444444444,
              "#bd3786"
             ],
             [
              0.5555555555555556,
              "#d8576b"
             ],
             [
              0.6666666666666666,
              "#ed7953"
             ],
             [
              0.7777777777777778,
              "#fb9f3a"
             ],
             [
              0.8888888888888888,
              "#fdca26"
             ],
             [
              1,
              "#f0f921"
             ]
            ],
            "type": "heatmap"
           }
          ],
          "histogram": [
           {
            "marker": {
             "pattern": {
              "fillmode": "overlay",
              "size": 10,
              "solidity": 0.2
             }
            },
            "type": "histogram"
           }
          ],
          "histogram2d": [
           {
            "colorbar": {
             "outlinewidth": 0,
             "ticks": ""
            },
            "colorscale": [
             [
              0,
              "#0d0887"
             ],
             [
              0.1111111111111111,
              "#46039f"
             ],
             [
              0.2222222222222222,
              "#7201a8"
             ],
             [
              0.3333333333333333,
              "#9c179e"
             ],
             [
              0.4444444444444444,
              "#bd3786"
             ],
             [
              0.5555555555555556,
              "#d8576b"
             ],
             [
              0.6666666666666666,
              "#ed7953"
             ],
             [
              0.7777777777777778,
              "#fb9f3a"
             ],
             [
              0.8888888888888888,
              "#fdca26"
             ],
             [
              1,
              "#f0f921"
             ]
            ],
            "type": "histogram2d"
           }
          ],
          "histogram2dcontour": [
           {
            "colorbar": {
             "outlinewidth": 0,
             "ticks": ""
            },
            "colorscale": [
             [
              0,
              "#0d0887"
             ],
             [
              0.1111111111111111,
              "#46039f"
             ],
             [
              0.2222222222222222,
              "#7201a8"
             ],
             [
              0.3333333333333333,
              "#9c179e"
             ],
             [
              0.4444444444444444,
              "#bd3786"
             ],
             [
              0.5555555555555556,
              "#d8576b"
             ],
             [
              0.6666666666666666,
              "#ed7953"
             ],
             [
              0.7777777777777778,
              "#fb9f3a"
             ],
             [
              0.8888888888888888,
              "#fdca26"
             ],
             [
              1,
              "#f0f921"
             ]
            ],
            "type": "histogram2dcontour"
           }
          ],
          "mesh3d": [
           {
            "colorbar": {
             "outlinewidth": 0,
             "ticks": ""
            },
            "type": "mesh3d"
           }
          ],
          "parcoords": [
           {
            "line": {
             "colorbar": {
              "outlinewidth": 0,
              "ticks": ""
             }
            },
            "type": "parcoords"
           }
          ],
          "pie": [
           {
            "automargin": true,
            "type": "pie"
           }
          ],
          "scatter": [
           {
            "fillpattern": {
             "fillmode": "overlay",
             "size": 10,
             "solidity": 0.2
            },
            "type": "scatter"
           }
          ],
          "scatter3d": [
           {
            "line": {
             "colorbar": {
              "outlinewidth": 0,
              "ticks": ""
             }
            },
            "marker": {
             "colorbar": {
              "outlinewidth": 0,
              "ticks": ""
             }
            },
            "type": "scatter3d"
           }
          ],
          "scattercarpet": [
           {
            "marker": {
             "colorbar": {
              "outlinewidth": 0,
              "ticks": ""
             }
            },
            "type": "scattercarpet"
           }
          ],
          "scattergeo": [
           {
            "marker": {
             "colorbar": {
              "outlinewidth": 0,
              "ticks": ""
             }
            },
            "type": "scattergeo"
           }
          ],
          "scattergl": [
           {
            "marker": {
             "colorbar": {
              "outlinewidth": 0,
              "ticks": ""
             }
            },
            "type": "scattergl"
           }
          ],
          "scattermap": [
           {
            "marker": {
             "colorbar": {
              "outlinewidth": 0,
              "ticks": ""
             }
            },
            "type": "scattermap"
           }
          ],
          "scattermapbox": [
           {
            "marker": {
             "colorbar": {
              "outlinewidth": 0,
              "ticks": ""
             }
            },
            "type": "scattermapbox"
           }
          ],
          "scatterpolar": [
           {
            "marker": {
             "colorbar": {
              "outlinewidth": 0,
              "ticks": ""
             }
            },
            "type": "scatterpolar"
           }
          ],
          "scatterpolargl": [
           {
            "marker": {
             "colorbar": {
              "outlinewidth": 0,
              "ticks": ""
             }
            },
            "type": "scatterpolargl"
           }
          ],
          "scatterternary": [
           {
            "marker": {
             "colorbar": {
              "outlinewidth": 0,
              "ticks": ""
             }
            },
            "type": "scatterternary"
           }
          ],
          "surface": [
           {
            "colorbar": {
             "outlinewidth": 0,
             "ticks": ""
            },
            "colorscale": [
             [
              0,
              "#0d0887"
             ],
             [
              0.1111111111111111,
              "#46039f"
             ],
             [
              0.2222222222222222,
              "#7201a8"
             ],
             [
              0.3333333333333333,
              "#9c179e"
             ],
             [
              0.4444444444444444,
              "#bd3786"
             ],
             [
              0.5555555555555556,
              "#d8576b"
             ],
             [
              0.6666666666666666,
              "#ed7953"
             ],
             [
              0.7777777777777778,
              "#fb9f3a"
             ],
             [
              0.8888888888888888,
              "#fdca26"
             ],
             [
              1,
              "#f0f921"
             ]
            ],
            "type": "surface"
           }
          ],
          "table": [
           {
            "cells": {
             "fill": {
              "color": "#EBF0F8"
             },
             "line": {
              "color": "white"
             }
            },
            "header": {
             "fill": {
              "color": "#C8D4E3"
             },
             "line": {
              "color": "white"
             }
            },
            "type": "table"
           }
          ]
         },
         "layout": {
          "annotationdefaults": {
           "arrowcolor": "#2a3f5f",
           "arrowhead": 0,
           "arrowwidth": 1
          },
          "autotypenumbers": "strict",
          "coloraxis": {
           "colorbar": {
            "outlinewidth": 0,
            "ticks": ""
           }
          },
          "colorscale": {
           "diverging": [
            [
             0,
             "#8e0152"
            ],
            [
             0.1,
             "#c51b7d"
            ],
            [
             0.2,
             "#de77ae"
            ],
            [
             0.3,
             "#f1b6da"
            ],
            [
             0.4,
             "#fde0ef"
            ],
            [
             0.5,
             "#f7f7f7"
            ],
            [
             0.6,
             "#e6f5d0"
            ],
            [
             0.7,
             "#b8e186"
            ],
            [
             0.8,
             "#7fbc41"
            ],
            [
             0.9,
             "#4d9221"
            ],
            [
             1,
             "#276419"
            ]
           ],
           "sequential": [
            [
             0,
             "#0d0887"
            ],
            [
             0.1111111111111111,
             "#46039f"
            ],
            [
             0.2222222222222222,
             "#7201a8"
            ],
            [
             0.3333333333333333,
             "#9c179e"
            ],
            [
             0.4444444444444444,
             "#bd3786"
            ],
            [
             0.5555555555555556,
             "#d8576b"
            ],
            [
             0.6666666666666666,
             "#ed7953"
            ],
            [
             0.7777777777777778,
             "#fb9f3a"
            ],
            [
             0.8888888888888888,
             "#fdca26"
            ],
            [
             1,
             "#f0f921"
            ]
           ],
           "sequentialminus": [
            [
             0,
             "#0d0887"
            ],
            [
             0.1111111111111111,
             "#46039f"
            ],
            [
             0.2222222222222222,
             "#7201a8"
            ],
            [
             0.3333333333333333,
             "#9c179e"
            ],
            [
             0.4444444444444444,
             "#bd3786"
            ],
            [
             0.5555555555555556,
             "#d8576b"
            ],
            [
             0.6666666666666666,
             "#ed7953"
            ],
            [
             0.7777777777777778,
             "#fb9f3a"
            ],
            [
             0.8888888888888888,
             "#fdca26"
            ],
            [
             1,
             "#f0f921"
            ]
           ]
          },
          "colorway": [
           "#636efa",
           "#EF553B",
           "#00cc96",
           "#ab63fa",
           "#FFA15A",
           "#19d3f3",
           "#FF6692",
           "#B6E880",
           "#FF97FF",
           "#FECB52"
          ],
          "font": {
           "color": "#2a3f5f"
          },
          "geo": {
           "bgcolor": "white",
           "lakecolor": "white",
           "landcolor": "#E5ECF6",
           "showlakes": true,
           "showland": true,
           "subunitcolor": "white"
          },
          "hoverlabel": {
           "align": "left"
          },
          "hovermode": "closest",
          "mapbox": {
           "style": "light"
          },
          "paper_bgcolor": "white",
          "plot_bgcolor": "#E5ECF6",
          "polar": {
           "angularaxis": {
            "gridcolor": "white",
            "linecolor": "white",
            "ticks": ""
           },
           "bgcolor": "#E5ECF6",
           "radialaxis": {
            "gridcolor": "white",
            "linecolor": "white",
            "ticks": ""
           }
          },
          "scene": {
           "xaxis": {
            "backgroundcolor": "#E5ECF6",
            "gridcolor": "white",
            "gridwidth": 2,
            "linecolor": "white",
            "showbackground": true,
            "ticks": "",
            "zerolinecolor": "white"
           },
           "yaxis": {
            "backgroundcolor": "#E5ECF6",
            "gridcolor": "white",
            "gridwidth": 2,
            "linecolor": "white",
            "showbackground": true,
            "ticks": "",
            "zerolinecolor": "white"
           },
           "zaxis": {
            "backgroundcolor": "#E5ECF6",
            "gridcolor": "white",
            "gridwidth": 2,
            "linecolor": "white",
            "showbackground": true,
            "ticks": "",
            "zerolinecolor": "white"
           }
          },
          "shapedefaults": {
           "line": {
            "color": "#2a3f5f"
           }
          },
          "ternary": {
           "aaxis": {
            "gridcolor": "white",
            "linecolor": "white",
            "ticks": ""
           },
           "baxis": {
            "gridcolor": "white",
            "linecolor": "white",
            "ticks": ""
           },
           "bgcolor": "#E5ECF6",
           "caxis": {
            "gridcolor": "white",
            "linecolor": "white",
            "ticks": ""
           }
          },
          "title": {
           "x": 0.05
          },
          "xaxis": {
           "automargin": true,
           "gridcolor": "white",
           "linecolor": "white",
           "ticks": "",
           "title": {
            "standoff": 15
           },
           "zerolinecolor": "white",
           "zerolinewidth": 2
          },
          "yaxis": {
           "automargin": true,
           "gridcolor": "white",
           "linecolor": "white",
           "ticks": "",
           "title": {
            "standoff": 15
           },
           "zerolinecolor": "white",
           "zerolinewidth": 2
          }
         }
        },
        "title": {
         "text": "Salary Distribution (Vertical)"
        },
        "xaxis": {
         "anchor": "y",
         "domain": [
          0,
          1
         ]
        },
        "yaxis": {
         "anchor": "x",
         "domain": [
          0,
          1
         ],
         "title": {
          "text": "Salary"
         }
        }
       }
      }
     },
     "metadata": {},
     "output_type": "display_data"
    }
   ],
   "source": [
    "fig = px.box(df_hr, y=\"Salary\", title=\"Salary Distribution (Vertical)\")\n",
    "fig.show()"
   ]
  },
  {
   "cell_type": "markdown",
   "metadata": {},
   "source": [
    "---\n",
    "\n",
    "### 🎯 Example 2: Salary box plot (horizontal)\n",
    "\n",
    "▶️ Draw a horizontal box plot of `Salary`.\n"
   ]
  },
  {
   "cell_type": "code",
   "execution_count": 8,
   "metadata": {},
   "outputs": [
    {
     "data": {
      "application/vnd.plotly.v1+json": {
       "config": {
        "plotlyServerURL": "https://plot.ly"
       },
       "data": [
        {
         "alignmentgroup": "True",
         "hovertemplate": "Salary=%{x}<extra></extra>",
         "legendgroup": "",
         "marker": {
          "color": "#636efa"
         },
         "name": "",
         "notched": false,
         "offsetgroup": "",
         "orientation": "h",
         "showlegend": false,
         "type": "box",
         "x": {
          "bdata": "KvQAAPWXAQC7/QAA3/0AAInGAADg4AAArHUBAOXnAADdugAAAsQAAI7VAABruAAAqGgBAFXlAAAZzQAA6uEAAPMRAQCS5gAAsK0BAALQAABkxwAAl/0AAL71AACJAwEA1+EAAL2UAQB/nwEASCIBAPTQAAAY9gAACP8AAHf7AABWIgEAE/kAANLyAAB8LwEAwBsBANRsAQBuzgAAv4YBALQYAQDY8AAAUbEBAN3TAADc6wAA+AQBABL9AAAw/QAARgwBAEL6AADp5wAAxcQAAIT2AAAI5wAA0wkBAASaAgCV9wAAYEYBAFXbAACpaAEAwQABACRMAQDv4AAA5tsAAJ/eAACq2QAAT4sBAIDwAACj4wAAxc8AADR6AQA7yAAAX+cAAJDwAAD/tAAA3RMBAIgeAgABIgEAtCUBADL0AACm6gAA+L4AAA3UAAAP3gAAtOsAAPTmAADQgwEAYBgBAG4BAQCU4QAAOfoAAHbQAACi5AAAoRsBAJ3aAAArEgEAULcCABeEAQCzBgEAqwABABnMAACzzwAAicgAADHJAADq5wAAldYAANfhAABz8AAAcMABALcjAQAazwAA9OkAACINAQA67wAACQUBAJ28AABlAgEAaMAAAO31AABF+QAAzIIBABsYAQAs1gAA9voAANHLAABx8gAAlrcAAAMKAQCREwEA9vcAAM9+AQAgvwIAAMMAAIHYAADcDgEA4/0AAFYKAQCKRAEAxMoAADrvAAANsAAANO0AABTsAAD1tgAA5JwBAFr3AADi7gAAhw0BADLFAAAe/wAAkNADAPXSAAB5sQAAPrYAAOX5AACrFgEAFmwBAEZDAQAaAgEAKLQAAAj8AAAK8gAAsD4BALz4AAB2awEA4vwAAEQTAQBbMAEAkM0AANr3AABBygAApQYBAHIeAQBZywAASrkAADTOAABTsQAAsfMAADcLAQCl7wAA2JwBAHTTAAAT2AAAWvUAADv3AADD9AAAiNkAANNGAQD42QAAX+MAAEhlAgAMGwEAqhkBAHfNAADG9wAAsSIBAOfgAABxVwEAJsUAAEi2AABvvQAA+M4AAM/4AABt8gAAsgQBAMLNAAAeGQEAS/YAADa5AABEzwAA3QwBABv4AAC7qQEApWsBADzRAABu6wAArrMAAGLiAACtIwEA8iEBAHJtAQDU/AAAmbcAAJTxAADPtgAAUOgAAF61AACjRQEAsHYBACHxAABx8QAAO7AAAJK2AADL/QAAGtkAAPzEAADu7wAAefcAABtfAQDA1AEAEksCANPsAAC8zwAAeCYCAAdGAgDGUAEAhroAAFy1AAB34gAAz1kBAFPbAADrxgAAPsYAAHfLAAASVwEA0MoAAIb5AADw7AAAIB0BANjWAAA75gAAIQQBAA1WAQAV+gAAsgABANnzAABZuwAAoeMAABv2AACr7wAA2OoAAML4AAAx9gAAZucAAD1rAQD0XwEAUu0AAAoaAQAC5AAAHb0AAGgGAQAT3AAAjfsAADH2AAARJgEAQIgBAD0kAQD9KAEAA+IAAJvkAACQWwEAQ9oAAE+9AQBtwgAAdPIAAO0DAQCAOgEAYsQAAKdLAQDaogEAA+QAAGTXAADO4gAAUOkAAGsTAQAe7AAAZQEBAIG9AAAiXQMAzFwBAPavAAA=",
          "dtype": "i4"
         },
         "x0": " ",
         "xaxis": "x",
         "y0": " ",
         "yaxis": "y"
        }
       ],
       "layout": {
        "boxmode": "group",
        "legend": {
         "tracegroupgap": 0
        },
        "template": {
         "data": {
          "bar": [
           {
            "error_x": {
             "color": "#2a3f5f"
            },
            "error_y": {
             "color": "#2a3f5f"
            },
            "marker": {
             "line": {
              "color": "#E5ECF6",
              "width": 0.5
             },
             "pattern": {
              "fillmode": "overlay",
              "size": 10,
              "solidity": 0.2
             }
            },
            "type": "bar"
           }
          ],
          "barpolar": [
           {
            "marker": {
             "line": {
              "color": "#E5ECF6",
              "width": 0.5
             },
             "pattern": {
              "fillmode": "overlay",
              "size": 10,
              "solidity": 0.2
             }
            },
            "type": "barpolar"
           }
          ],
          "carpet": [
           {
            "aaxis": {
             "endlinecolor": "#2a3f5f",
             "gridcolor": "white",
             "linecolor": "white",
             "minorgridcolor": "white",
             "startlinecolor": "#2a3f5f"
            },
            "baxis": {
             "endlinecolor": "#2a3f5f",
             "gridcolor": "white",
             "linecolor": "white",
             "minorgridcolor": "white",
             "startlinecolor": "#2a3f5f"
            },
            "type": "carpet"
           }
          ],
          "choropleth": [
           {
            "colorbar": {
             "outlinewidth": 0,
             "ticks": ""
            },
            "type": "choropleth"
           }
          ],
          "contour": [
           {
            "colorbar": {
             "outlinewidth": 0,
             "ticks": ""
            },
            "colorscale": [
             [
              0,
              "#0d0887"
             ],
             [
              0.1111111111111111,
              "#46039f"
             ],
             [
              0.2222222222222222,
              "#7201a8"
             ],
             [
              0.3333333333333333,
              "#9c179e"
             ],
             [
              0.4444444444444444,
              "#bd3786"
             ],
             [
              0.5555555555555556,
              "#d8576b"
             ],
             [
              0.6666666666666666,
              "#ed7953"
             ],
             [
              0.7777777777777778,
              "#fb9f3a"
             ],
             [
              0.8888888888888888,
              "#fdca26"
             ],
             [
              1,
              "#f0f921"
             ]
            ],
            "type": "contour"
           }
          ],
          "contourcarpet": [
           {
            "colorbar": {
             "outlinewidth": 0,
             "ticks": ""
            },
            "type": "contourcarpet"
           }
          ],
          "heatmap": [
           {
            "colorbar": {
             "outlinewidth": 0,
             "ticks": ""
            },
            "colorscale": [
             [
              0,
              "#0d0887"
             ],
             [
              0.1111111111111111,
              "#46039f"
             ],
             [
              0.2222222222222222,
              "#7201a8"
             ],
             [
              0.3333333333333333,
              "#9c179e"
             ],
             [
              0.4444444444444444,
              "#bd3786"
             ],
             [
              0.5555555555555556,
              "#d8576b"
             ],
             [
              0.6666666666666666,
              "#ed7953"
             ],
             [
              0.7777777777777778,
              "#fb9f3a"
             ],
             [
              0.8888888888888888,
              "#fdca26"
             ],
             [
              1,
              "#f0f921"
             ]
            ],
            "type": "heatmap"
           }
          ],
          "histogram": [
           {
            "marker": {
             "pattern": {
              "fillmode": "overlay",
              "size": 10,
              "solidity": 0.2
             }
            },
            "type": "histogram"
           }
          ],
          "histogram2d": [
           {
            "colorbar": {
             "outlinewidth": 0,
             "ticks": ""
            },
            "colorscale": [
             [
              0,
              "#0d0887"
             ],
             [
              0.1111111111111111,
              "#46039f"
             ],
             [
              0.2222222222222222,
              "#7201a8"
             ],
             [
              0.3333333333333333,
              "#9c179e"
             ],
             [
              0.4444444444444444,
              "#bd3786"
             ],
             [
              0.5555555555555556,
              "#d8576b"
             ],
             [
              0.6666666666666666,
              "#ed7953"
             ],
             [
              0.7777777777777778,
              "#fb9f3a"
             ],
             [
              0.8888888888888888,
              "#fdca26"
             ],
             [
              1,
              "#f0f921"
             ]
            ],
            "type": "histogram2d"
           }
          ],
          "histogram2dcontour": [
           {
            "colorbar": {
             "outlinewidth": 0,
             "ticks": ""
            },
            "colorscale": [
             [
              0,
              "#0d0887"
             ],
             [
              0.1111111111111111,
              "#46039f"
             ],
             [
              0.2222222222222222,
              "#7201a8"
             ],
             [
              0.3333333333333333,
              "#9c179e"
             ],
             [
              0.4444444444444444,
              "#bd3786"
             ],
             [
              0.5555555555555556,
              "#d8576b"
             ],
             [
              0.6666666666666666,
              "#ed7953"
             ],
             [
              0.7777777777777778,
              "#fb9f3a"
             ],
             [
              0.8888888888888888,
              "#fdca26"
             ],
             [
              1,
              "#f0f921"
             ]
            ],
            "type": "histogram2dcontour"
           }
          ],
          "mesh3d": [
           {
            "colorbar": {
             "outlinewidth": 0,
             "ticks": ""
            },
            "type": "mesh3d"
           }
          ],
          "parcoords": [
           {
            "line": {
             "colorbar": {
              "outlinewidth": 0,
              "ticks": ""
             }
            },
            "type": "parcoords"
           }
          ],
          "pie": [
           {
            "automargin": true,
            "type": "pie"
           }
          ],
          "scatter": [
           {
            "fillpattern": {
             "fillmode": "overlay",
             "size": 10,
             "solidity": 0.2
            },
            "type": "scatter"
           }
          ],
          "scatter3d": [
           {
            "line": {
             "colorbar": {
              "outlinewidth": 0,
              "ticks": ""
             }
            },
            "marker": {
             "colorbar": {
              "outlinewidth": 0,
              "ticks": ""
             }
            },
            "type": "scatter3d"
           }
          ],
          "scattercarpet": [
           {
            "marker": {
             "colorbar": {
              "outlinewidth": 0,
              "ticks": ""
             }
            },
            "type": "scattercarpet"
           }
          ],
          "scattergeo": [
           {
            "marker": {
             "colorbar": {
              "outlinewidth": 0,
              "ticks": ""
             }
            },
            "type": "scattergeo"
           }
          ],
          "scattergl": [
           {
            "marker": {
             "colorbar": {
              "outlinewidth": 0,
              "ticks": ""
             }
            },
            "type": "scattergl"
           }
          ],
          "scattermap": [
           {
            "marker": {
             "colorbar": {
              "outlinewidth": 0,
              "ticks": ""
             }
            },
            "type": "scattermap"
           }
          ],
          "scattermapbox": [
           {
            "marker": {
             "colorbar": {
              "outlinewidth": 0,
              "ticks": ""
             }
            },
            "type": "scattermapbox"
           }
          ],
          "scatterpolar": [
           {
            "marker": {
             "colorbar": {
              "outlinewidth": 0,
              "ticks": ""
             }
            },
            "type": "scatterpolar"
           }
          ],
          "scatterpolargl": [
           {
            "marker": {
             "colorbar": {
              "outlinewidth": 0,
              "ticks": ""
             }
            },
            "type": "scatterpolargl"
           }
          ],
          "scatterternary": [
           {
            "marker": {
             "colorbar": {
              "outlinewidth": 0,
              "ticks": ""
             }
            },
            "type": "scatterternary"
           }
          ],
          "surface": [
           {
            "colorbar": {
             "outlinewidth": 0,
             "ticks": ""
            },
            "colorscale": [
             [
              0,
              "#0d0887"
             ],
             [
              0.1111111111111111,
              "#46039f"
             ],
             [
              0.2222222222222222,
              "#7201a8"
             ],
             [
              0.3333333333333333,
              "#9c179e"
             ],
             [
              0.4444444444444444,
              "#bd3786"
             ],
             [
              0.5555555555555556,
              "#d8576b"
             ],
             [
              0.6666666666666666,
              "#ed7953"
             ],
             [
              0.7777777777777778,
              "#fb9f3a"
             ],
             [
              0.8888888888888888,
              "#fdca26"
             ],
             [
              1,
              "#f0f921"
             ]
            ],
            "type": "surface"
           }
          ],
          "table": [
           {
            "cells": {
             "fill": {
              "color": "#EBF0F8"
             },
             "line": {
              "color": "white"
             }
            },
            "header": {
             "fill": {
              "color": "#C8D4E3"
             },
             "line": {
              "color": "white"
             }
            },
            "type": "table"
           }
          ]
         },
         "layout": {
          "annotationdefaults": {
           "arrowcolor": "#2a3f5f",
           "arrowhead": 0,
           "arrowwidth": 1
          },
          "autotypenumbers": "strict",
          "coloraxis": {
           "colorbar": {
            "outlinewidth": 0,
            "ticks": ""
           }
          },
          "colorscale": {
           "diverging": [
            [
             0,
             "#8e0152"
            ],
            [
             0.1,
             "#c51b7d"
            ],
            [
             0.2,
             "#de77ae"
            ],
            [
             0.3,
             "#f1b6da"
            ],
            [
             0.4,
             "#fde0ef"
            ],
            [
             0.5,
             "#f7f7f7"
            ],
            [
             0.6,
             "#e6f5d0"
            ],
            [
             0.7,
             "#b8e186"
            ],
            [
             0.8,
             "#7fbc41"
            ],
            [
             0.9,
             "#4d9221"
            ],
            [
             1,
             "#276419"
            ]
           ],
           "sequential": [
            [
             0,
             "#0d0887"
            ],
            [
             0.1111111111111111,
             "#46039f"
            ],
            [
             0.2222222222222222,
             "#7201a8"
            ],
            [
             0.3333333333333333,
             "#9c179e"
            ],
            [
             0.4444444444444444,
             "#bd3786"
            ],
            [
             0.5555555555555556,
             "#d8576b"
            ],
            [
             0.6666666666666666,
             "#ed7953"
            ],
            [
             0.7777777777777778,
             "#fb9f3a"
            ],
            [
             0.8888888888888888,
             "#fdca26"
            ],
            [
             1,
             "#f0f921"
            ]
           ],
           "sequentialminus": [
            [
             0,
             "#0d0887"
            ],
            [
             0.1111111111111111,
             "#46039f"
            ],
            [
             0.2222222222222222,
             "#7201a8"
            ],
            [
             0.3333333333333333,
             "#9c179e"
            ],
            [
             0.4444444444444444,
             "#bd3786"
            ],
            [
             0.5555555555555556,
             "#d8576b"
            ],
            [
             0.6666666666666666,
             "#ed7953"
            ],
            [
             0.7777777777777778,
             "#fb9f3a"
            ],
            [
             0.8888888888888888,
             "#fdca26"
            ],
            [
             1,
             "#f0f921"
            ]
           ]
          },
          "colorway": [
           "#636efa",
           "#EF553B",
           "#00cc96",
           "#ab63fa",
           "#FFA15A",
           "#19d3f3",
           "#FF6692",
           "#B6E880",
           "#FF97FF",
           "#FECB52"
          ],
          "font": {
           "color": "#2a3f5f"
          },
          "geo": {
           "bgcolor": "white",
           "lakecolor": "white",
           "landcolor": "#E5ECF6",
           "showlakes": true,
           "showland": true,
           "subunitcolor": "white"
          },
          "hoverlabel": {
           "align": "left"
          },
          "hovermode": "closest",
          "mapbox": {
           "style": "light"
          },
          "paper_bgcolor": "white",
          "plot_bgcolor": "#E5ECF6",
          "polar": {
           "angularaxis": {
            "gridcolor": "white",
            "linecolor": "white",
            "ticks": ""
           },
           "bgcolor": "#E5ECF6",
           "radialaxis": {
            "gridcolor": "white",
            "linecolor": "white",
            "ticks": ""
           }
          },
          "scene": {
           "xaxis": {
            "backgroundcolor": "#E5ECF6",
            "gridcolor": "white",
            "gridwidth": 2,
            "linecolor": "white",
            "showbackground": true,
            "ticks": "",
            "zerolinecolor": "white"
           },
           "yaxis": {
            "backgroundcolor": "#E5ECF6",
            "gridcolor": "white",
            "gridwidth": 2,
            "linecolor": "white",
            "showbackground": true,
            "ticks": "",
            "zerolinecolor": "white"
           },
           "zaxis": {
            "backgroundcolor": "#E5ECF6",
            "gridcolor": "white",
            "gridwidth": 2,
            "linecolor": "white",
            "showbackground": true,
            "ticks": "",
            "zerolinecolor": "white"
           }
          },
          "shapedefaults": {
           "line": {
            "color": "#2a3f5f"
           }
          },
          "ternary": {
           "aaxis": {
            "gridcolor": "white",
            "linecolor": "white",
            "ticks": ""
           },
           "baxis": {
            "gridcolor": "white",
            "linecolor": "white",
            "ticks": ""
           },
           "bgcolor": "#E5ECF6",
           "caxis": {
            "gridcolor": "white",
            "linecolor": "white",
            "ticks": ""
           }
          },
          "title": {
           "x": 0.05
          },
          "xaxis": {
           "automargin": true,
           "gridcolor": "white",
           "linecolor": "white",
           "ticks": "",
           "title": {
            "standoff": 15
           },
           "zerolinecolor": "white",
           "zerolinewidth": 2
          },
          "yaxis": {
           "automargin": true,
           "gridcolor": "white",
           "linecolor": "white",
           "ticks": "",
           "title": {
            "standoff": 15
           },
           "zerolinecolor": "white",
           "zerolinewidth": 2
          }
         }
        },
        "title": {
         "text": "Salary Distribution (Horizontal)"
        },
        "xaxis": {
         "anchor": "y",
         "domain": [
          0,
          1
         ],
         "title": {
          "text": "Salary"
         }
        },
        "yaxis": {
         "anchor": "x",
         "domain": [
          0,
          1
         ]
        }
       }
      }
     },
     "metadata": {},
     "output_type": "display_data"
    }
   ],
   "source": [
    "fig = px.box(df_hr, x=\"Salary\", title=\"Salary Distribution (Horizontal)\")\n",
    "fig.show()"
   ]
  },
  {
   "cell_type": "markdown",
   "metadata": {},
   "source": [
    "---\n",
    "\n",
    "### 🎯 Example 3: Salary distribution by citizenship status\n",
    "\n",
    "▶️ Draw horizontal box plots of `Salary` by `CitizenDesc`.\n"
   ]
  },
  {
   "cell_type": "code",
   "execution_count": 9,
   "metadata": {},
   "outputs": [
    {
     "data": {
      "application/vnd.plotly.v1+json": {
       "config": {
        "plotlyServerURL": "https://plot.ly"
       },
       "data": [
        {
         "alignmentgroup": "True",
         "hovertemplate": "Salary=%{x}<br>CitizenDesc=%{y}<extra></extra>",
         "legendgroup": "",
         "marker": {
          "color": "#636efa"
         },
         "name": "",
         "notched": false,
         "offsetgroup": "",
         "orientation": "h",
         "showlegend": false,
         "type": "box",
         "x": {
          "bdata": "KvQAAPWXAQC7/QAA3/0AAInGAADg4AAArHUBAOXnAADdugAAAsQAAI7VAABruAAAqGgBAFXlAAAZzQAA6uEAAPMRAQCS5gAAsK0BAALQAABkxwAAl/0AAL71AACJAwEA1+EAAL2UAQB/nwEASCIBAPTQAAAY9gAACP8AAHf7AABWIgEAE/kAANLyAAB8LwEAwBsBANRsAQBuzgAAv4YBALQYAQDY8AAAUbEBAN3TAADc6wAA+AQBABL9AAAw/QAARgwBAEL6AADp5wAAxcQAAIT2AAAI5wAA0wkBAASaAgCV9wAAYEYBAFXbAACpaAEAwQABACRMAQDv4AAA5tsAAJ/eAACq2QAAT4sBAIDwAACj4wAAxc8AADR6AQA7yAAAX+cAAJDwAAD/tAAA3RMBAIgeAgABIgEAtCUBADL0AACm6gAA+L4AAA3UAAAP3gAAtOsAAPTmAADQgwEAYBgBAG4BAQCU4QAAOfoAAHbQAACi5AAAoRsBAJ3aAAArEgEAULcCABeEAQCzBgEAqwABABnMAACzzwAAicgAADHJAADq5wAAldYAANfhAABz8AAAcMABALcjAQAazwAA9OkAACINAQA67wAACQUBAJ28AABlAgEAaMAAAO31AABF+QAAzIIBABsYAQAs1gAA9voAANHLAABx8gAAlrcAAAMKAQCREwEA9vcAAM9+AQAgvwIAAMMAAIHYAADcDgEA4/0AAFYKAQCKRAEAxMoAADrvAAANsAAANO0AABTsAAD1tgAA5JwBAFr3AADi7gAAhw0BADLFAAAe/wAAkNADAPXSAAB5sQAAPrYAAOX5AACrFgEAFmwBAEZDAQAaAgEAKLQAAAj8AAAK8gAAsD4BALz4AAB2awEA4vwAAEQTAQBbMAEAkM0AANr3AABBygAApQYBAHIeAQBZywAASrkAADTOAABTsQAAsfMAADcLAQCl7wAA2JwBAHTTAAAT2AAAWvUAADv3AADD9AAAiNkAANNGAQD42QAAX+MAAEhlAgAMGwEAqhkBAHfNAADG9wAAsSIBAOfgAABxVwEAJsUAAEi2AABvvQAA+M4AAM/4AABt8gAAsgQBAMLNAAAeGQEAS/YAADa5AABEzwAA3QwBABv4AAC7qQEApWsBADzRAABu6wAArrMAAGLiAACtIwEA8iEBAHJtAQDU/AAAmbcAAJTxAADPtgAAUOgAAF61AACjRQEAsHYBACHxAABx8QAAO7AAAJK2AADL/QAAGtkAAPzEAADu7wAAefcAABtfAQDA1AEAEksCANPsAAC8zwAAeCYCAAdGAgDGUAEAhroAAFy1AAB34gAAz1kBAFPbAADrxgAAPsYAAHfLAAASVwEA0MoAAIb5AADw7AAAIB0BANjWAAA75gAAIQQBAA1WAQAV+gAAsgABANnzAABZuwAAoeMAABv2AACr7wAA2OoAAML4AAAx9gAAZucAAD1rAQD0XwEAUu0AAAoaAQAC5AAAHb0AAGgGAQAT3AAAjfsAADH2AAARJgEAQIgBAD0kAQD9KAEAA+IAAJvkAACQWwEAQ9oAAE+9AQBtwgAAdPIAAO0DAQCAOgEAYsQAAKdLAQDaogEAA+QAAGTXAADO4gAAUOkAAGsTAQAe7AAAZQEBAIG9AAAiXQMAzFwBAPavAAA=",
          "dtype": "i4"
         },
         "x0": " ",
         "xaxis": "x",
         "y": [
          "US Citizen",
          "US Citizen",
          "US Citizen",
          "US Citizen",
          "US Citizen",
          "US Citizen",
          "US Citizen",
          "US Citizen",
          "US Citizen",
          "US Citizen",
          "US Citizen",
          "US Citizen",
          "US Citizen",
          "US Citizen",
          "US Citizen",
          "US Citizen",
          "US Citizen",
          "Eligible NonCitizen",
          "US Citizen",
          "US Citizen",
          "US Citizen",
          "US Citizen",
          "US Citizen",
          "US Citizen",
          "US Citizen",
          "US Citizen",
          "US Citizen",
          "US Citizen",
          "US Citizen",
          "US Citizen",
          "US Citizen",
          "US Citizen",
          "Eligible NonCitizen",
          "US Citizen",
          "US Citizen",
          "US Citizen",
          "US Citizen",
          "US Citizen",
          "US Citizen",
          "US Citizen",
          "US Citizen",
          "US Citizen",
          "US Citizen",
          "US Citizen",
          "US Citizen",
          "Eligible NonCitizen",
          "US Citizen",
          "Non-Citizen",
          "US Citizen",
          "US Citizen",
          "US Citizen",
          "US Citizen",
          "US Citizen",
          "US Citizen",
          "US Citizen",
          "US Citizen",
          "US Citizen",
          "US Citizen",
          "US Citizen",
          "US Citizen",
          "US Citizen",
          "US Citizen",
          "US Citizen",
          "Eligible NonCitizen",
          "US Citizen",
          "US Citizen",
          "US Citizen",
          "US Citizen",
          "US Citizen",
          "US Citizen",
          "US Citizen",
          "US Citizen",
          "US Citizen",
          "US Citizen",
          "US Citizen",
          "US Citizen",
          "US Citizen",
          "US Citizen",
          "US Citizen",
          "US Citizen",
          "US Citizen",
          "US Citizen",
          "US Citizen",
          "US Citizen",
          "US Citizen",
          "US Citizen",
          "US Citizen",
          "US Citizen",
          "US Citizen",
          "US Citizen",
          "US Citizen",
          "US Citizen",
          "US Citizen",
          "US Citizen",
          "US Citizen",
          "US Citizen",
          "US Citizen",
          "US Citizen",
          "US Citizen",
          "US Citizen",
          "US Citizen",
          "US Citizen",
          "US Citizen",
          "US Citizen",
          "US Citizen",
          "US Citizen",
          "US Citizen",
          "US Citizen",
          "US Citizen",
          "US Citizen",
          "US Citizen",
          "US Citizen",
          "US Citizen",
          "US Citizen",
          "US Citizen",
          "US Citizen",
          "US Citizen",
          "US Citizen",
          "US Citizen",
          "US Citizen",
          "US Citizen",
          "US Citizen",
          "US Citizen",
          "US Citizen",
          "US Citizen",
          "US Citizen",
          "US Citizen",
          "US Citizen",
          "US Citizen",
          "Non-Citizen",
          "US Citizen",
          "US Citizen",
          "US Citizen",
          "US Citizen",
          "US Citizen",
          "US Citizen",
          "US Citizen",
          "US Citizen",
          "US Citizen",
          "US Citizen",
          "US Citizen",
          "US Citizen",
          "US Citizen",
          "US Citizen",
          "US Citizen",
          "US Citizen",
          "US Citizen",
          "US Citizen",
          "US Citizen",
          "US Citizen",
          "US Citizen",
          "US Citizen",
          "US Citizen",
          "US Citizen",
          "US Citizen",
          "US Citizen",
          "US Citizen",
          "US Citizen",
          "US Citizen",
          "US Citizen",
          "US Citizen",
          "US Citizen",
          "US Citizen",
          "US Citizen",
          "US Citizen",
          "US Citizen",
          "US Citizen",
          "US Citizen",
          "US Citizen",
          "US Citizen",
          "US Citizen",
          "US Citizen",
          "US Citizen",
          "US Citizen",
          "US Citizen",
          "US Citizen",
          "US Citizen",
          "US Citizen",
          "US Citizen",
          "US Citizen",
          "US Citizen",
          "US Citizen",
          "US Citizen",
          "US Citizen",
          "US Citizen",
          "US Citizen",
          "US Citizen",
          "US Citizen",
          "US Citizen",
          "US Citizen",
          "Eligible NonCitizen",
          "US Citizen",
          "US Citizen",
          "US Citizen",
          "US Citizen",
          "US Citizen",
          "US Citizen",
          "US Citizen",
          "US Citizen",
          "US Citizen",
          "US Citizen",
          "US Citizen",
          "US Citizen",
          "US Citizen",
          "US Citizen",
          "US Citizen",
          "US Citizen",
          "US Citizen",
          "US Citizen",
          "US Citizen",
          "US Citizen",
          "US Citizen",
          "US Citizen",
          "US Citizen",
          "US Citizen",
          "US Citizen",
          "US Citizen",
          "US Citizen",
          "US Citizen",
          "Eligible NonCitizen",
          "US Citizen",
          "US Citizen",
          "US Citizen",
          "US Citizen",
          "Eligible NonCitizen",
          "US Citizen",
          "US Citizen",
          "Eligible NonCitizen",
          "US Citizen",
          "US Citizen",
          "US Citizen",
          "US Citizen",
          "US Citizen",
          "Eligible NonCitizen",
          "US Citizen",
          "US Citizen",
          "US Citizen",
          "US Citizen",
          "US Citizen",
          "US Citizen",
          "US Citizen",
          "US Citizen",
          "US Citizen",
          "US Citizen",
          "US Citizen",
          "US Citizen",
          "US Citizen",
          "US Citizen",
          "US Citizen",
          "US Citizen",
          "US Citizen",
          "US Citizen",
          "US Citizen",
          "US Citizen",
          "US Citizen",
          "US Citizen",
          "US Citizen",
          "US Citizen",
          "US Citizen",
          "US Citizen",
          "US Citizen",
          "US Citizen",
          "US Citizen",
          "US Citizen",
          "US Citizen",
          "US Citizen",
          "US Citizen",
          "US Citizen",
          "US Citizen",
          "US Citizen",
          "US Citizen",
          "US Citizen",
          "US Citizen",
          "Eligible NonCitizen",
          "US Citizen",
          "US Citizen",
          "Non-Citizen",
          "US Citizen",
          "US Citizen",
          "US Citizen",
          "US Citizen",
          "US Citizen",
          "US Citizen",
          "US Citizen",
          "US Citizen",
          "Non-Citizen",
          "US Citizen",
          "Eligible NonCitizen",
          "US Citizen",
          "US Citizen",
          "US Citizen",
          "US Citizen",
          "US Citizen",
          "US Citizen",
          "US Citizen",
          "US Citizen",
          "US Citizen",
          "US Citizen",
          "US Citizen",
          "US Citizen",
          "US Citizen",
          "Eligible NonCitizen",
          "US Citizen",
          "US Citizen",
          "US Citizen",
          "US Citizen",
          "US Citizen",
          "US Citizen",
          "US Citizen",
          "US Citizen",
          "US Citizen"
         ],
         "y0": " ",
         "yaxis": "y"
        }
       ],
       "layout": {
        "boxmode": "group",
        "legend": {
         "tracegroupgap": 0
        },
        "template": {
         "data": {
          "bar": [
           {
            "error_x": {
             "color": "#2a3f5f"
            },
            "error_y": {
             "color": "#2a3f5f"
            },
            "marker": {
             "line": {
              "color": "#E5ECF6",
              "width": 0.5
             },
             "pattern": {
              "fillmode": "overlay",
              "size": 10,
              "solidity": 0.2
             }
            },
            "type": "bar"
           }
          ],
          "barpolar": [
           {
            "marker": {
             "line": {
              "color": "#E5ECF6",
              "width": 0.5
             },
             "pattern": {
              "fillmode": "overlay",
              "size": 10,
              "solidity": 0.2
             }
            },
            "type": "barpolar"
           }
          ],
          "carpet": [
           {
            "aaxis": {
             "endlinecolor": "#2a3f5f",
             "gridcolor": "white",
             "linecolor": "white",
             "minorgridcolor": "white",
             "startlinecolor": "#2a3f5f"
            },
            "baxis": {
             "endlinecolor": "#2a3f5f",
             "gridcolor": "white",
             "linecolor": "white",
             "minorgridcolor": "white",
             "startlinecolor": "#2a3f5f"
            },
            "type": "carpet"
           }
          ],
          "choropleth": [
           {
            "colorbar": {
             "outlinewidth": 0,
             "ticks": ""
            },
            "type": "choropleth"
           }
          ],
          "contour": [
           {
            "colorbar": {
             "outlinewidth": 0,
             "ticks": ""
            },
            "colorscale": [
             [
              0,
              "#0d0887"
             ],
             [
              0.1111111111111111,
              "#46039f"
             ],
             [
              0.2222222222222222,
              "#7201a8"
             ],
             [
              0.3333333333333333,
              "#9c179e"
             ],
             [
              0.4444444444444444,
              "#bd3786"
             ],
             [
              0.5555555555555556,
              "#d8576b"
             ],
             [
              0.6666666666666666,
              "#ed7953"
             ],
             [
              0.7777777777777778,
              "#fb9f3a"
             ],
             [
              0.8888888888888888,
              "#fdca26"
             ],
             [
              1,
              "#f0f921"
             ]
            ],
            "type": "contour"
           }
          ],
          "contourcarpet": [
           {
            "colorbar": {
             "outlinewidth": 0,
             "ticks": ""
            },
            "type": "contourcarpet"
           }
          ],
          "heatmap": [
           {
            "colorbar": {
             "outlinewidth": 0,
             "ticks": ""
            },
            "colorscale": [
             [
              0,
              "#0d0887"
             ],
             [
              0.1111111111111111,
              "#46039f"
             ],
             [
              0.2222222222222222,
              "#7201a8"
             ],
             [
              0.3333333333333333,
              "#9c179e"
             ],
             [
              0.4444444444444444,
              "#bd3786"
             ],
             [
              0.5555555555555556,
              "#d8576b"
             ],
             [
              0.6666666666666666,
              "#ed7953"
             ],
             [
              0.7777777777777778,
              "#fb9f3a"
             ],
             [
              0.8888888888888888,
              "#fdca26"
             ],
             [
              1,
              "#f0f921"
             ]
            ],
            "type": "heatmap"
           }
          ],
          "histogram": [
           {
            "marker": {
             "pattern": {
              "fillmode": "overlay",
              "size": 10,
              "solidity": 0.2
             }
            },
            "type": "histogram"
           }
          ],
          "histogram2d": [
           {
            "colorbar": {
             "outlinewidth": 0,
             "ticks": ""
            },
            "colorscale": [
             [
              0,
              "#0d0887"
             ],
             [
              0.1111111111111111,
              "#46039f"
             ],
             [
              0.2222222222222222,
              "#7201a8"
             ],
             [
              0.3333333333333333,
              "#9c179e"
             ],
             [
              0.4444444444444444,
              "#bd3786"
             ],
             [
              0.5555555555555556,
              "#d8576b"
             ],
             [
              0.6666666666666666,
              "#ed7953"
             ],
             [
              0.7777777777777778,
              "#fb9f3a"
             ],
             [
              0.8888888888888888,
              "#fdca26"
             ],
             [
              1,
              "#f0f921"
             ]
            ],
            "type": "histogram2d"
           }
          ],
          "histogram2dcontour": [
           {
            "colorbar": {
             "outlinewidth": 0,
             "ticks": ""
            },
            "colorscale": [
             [
              0,
              "#0d0887"
             ],
             [
              0.1111111111111111,
              "#46039f"
             ],
             [
              0.2222222222222222,
              "#7201a8"
             ],
             [
              0.3333333333333333,
              "#9c179e"
             ],
             [
              0.4444444444444444,
              "#bd3786"
             ],
             [
              0.5555555555555556,
              "#d8576b"
             ],
             [
              0.6666666666666666,
              "#ed7953"
             ],
             [
              0.7777777777777778,
              "#fb9f3a"
             ],
             [
              0.8888888888888888,
              "#fdca26"
             ],
             [
              1,
              "#f0f921"
             ]
            ],
            "type": "histogram2dcontour"
           }
          ],
          "mesh3d": [
           {
            "colorbar": {
             "outlinewidth": 0,
             "ticks": ""
            },
            "type": "mesh3d"
           }
          ],
          "parcoords": [
           {
            "line": {
             "colorbar": {
              "outlinewidth": 0,
              "ticks": ""
             }
            },
            "type": "parcoords"
           }
          ],
          "pie": [
           {
            "automargin": true,
            "type": "pie"
           }
          ],
          "scatter": [
           {
            "fillpattern": {
             "fillmode": "overlay",
             "size": 10,
             "solidity": 0.2
            },
            "type": "scatter"
           }
          ],
          "scatter3d": [
           {
            "line": {
             "colorbar": {
              "outlinewidth": 0,
              "ticks": ""
             }
            },
            "marker": {
             "colorbar": {
              "outlinewidth": 0,
              "ticks": ""
             }
            },
            "type": "scatter3d"
           }
          ],
          "scattercarpet": [
           {
            "marker": {
             "colorbar": {
              "outlinewidth": 0,
              "ticks": ""
             }
            },
            "type": "scattercarpet"
           }
          ],
          "scattergeo": [
           {
            "marker": {
             "colorbar": {
              "outlinewidth": 0,
              "ticks": ""
             }
            },
            "type": "scattergeo"
           }
          ],
          "scattergl": [
           {
            "marker": {
             "colorbar": {
              "outlinewidth": 0,
              "ticks": ""
             }
            },
            "type": "scattergl"
           }
          ],
          "scattermap": [
           {
            "marker": {
             "colorbar": {
              "outlinewidth": 0,
              "ticks": ""
             }
            },
            "type": "scattermap"
           }
          ],
          "scattermapbox": [
           {
            "marker": {
             "colorbar": {
              "outlinewidth": 0,
              "ticks": ""
             }
            },
            "type": "scattermapbox"
           }
          ],
          "scatterpolar": [
           {
            "marker": {
             "colorbar": {
              "outlinewidth": 0,
              "ticks": ""
             }
            },
            "type": "scatterpolar"
           }
          ],
          "scatterpolargl": [
           {
            "marker": {
             "colorbar": {
              "outlinewidth": 0,
              "ticks": ""
             }
            },
            "type": "scatterpolargl"
           }
          ],
          "scatterternary": [
           {
            "marker": {
             "colorbar": {
              "outlinewidth": 0,
              "ticks": ""
             }
            },
            "type": "scatterternary"
           }
          ],
          "surface": [
           {
            "colorbar": {
             "outlinewidth": 0,
             "ticks": ""
            },
            "colorscale": [
             [
              0,
              "#0d0887"
             ],
             [
              0.1111111111111111,
              "#46039f"
             ],
             [
              0.2222222222222222,
              "#7201a8"
             ],
             [
              0.3333333333333333,
              "#9c179e"
             ],
             [
              0.4444444444444444,
              "#bd3786"
             ],
             [
              0.5555555555555556,
              "#d8576b"
             ],
             [
              0.6666666666666666,
              "#ed7953"
             ],
             [
              0.7777777777777778,
              "#fb9f3a"
             ],
             [
              0.8888888888888888,
              "#fdca26"
             ],
             [
              1,
              "#f0f921"
             ]
            ],
            "type": "surface"
           }
          ],
          "table": [
           {
            "cells": {
             "fill": {
              "color": "#EBF0F8"
             },
             "line": {
              "color": "white"
             }
            },
            "header": {
             "fill": {
              "color": "#C8D4E3"
             },
             "line": {
              "color": "white"
             }
            },
            "type": "table"
           }
          ]
         },
         "layout": {
          "annotationdefaults": {
           "arrowcolor": "#2a3f5f",
           "arrowhead": 0,
           "arrowwidth": 1
          },
          "autotypenumbers": "strict",
          "coloraxis": {
           "colorbar": {
            "outlinewidth": 0,
            "ticks": ""
           }
          },
          "colorscale": {
           "diverging": [
            [
             0,
             "#8e0152"
            ],
            [
             0.1,
             "#c51b7d"
            ],
            [
             0.2,
             "#de77ae"
            ],
            [
             0.3,
             "#f1b6da"
            ],
            [
             0.4,
             "#fde0ef"
            ],
            [
             0.5,
             "#f7f7f7"
            ],
            [
             0.6,
             "#e6f5d0"
            ],
            [
             0.7,
             "#b8e186"
            ],
            [
             0.8,
             "#7fbc41"
            ],
            [
             0.9,
             "#4d9221"
            ],
            [
             1,
             "#276419"
            ]
           ],
           "sequential": [
            [
             0,
             "#0d0887"
            ],
            [
             0.1111111111111111,
             "#46039f"
            ],
            [
             0.2222222222222222,
             "#7201a8"
            ],
            [
             0.3333333333333333,
             "#9c179e"
            ],
            [
             0.4444444444444444,
             "#bd3786"
            ],
            [
             0.5555555555555556,
             "#d8576b"
            ],
            [
             0.6666666666666666,
             "#ed7953"
            ],
            [
             0.7777777777777778,
             "#fb9f3a"
            ],
            [
             0.8888888888888888,
             "#fdca26"
            ],
            [
             1,
             "#f0f921"
            ]
           ],
           "sequentialminus": [
            [
             0,
             "#0d0887"
            ],
            [
             0.1111111111111111,
             "#46039f"
            ],
            [
             0.2222222222222222,
             "#7201a8"
            ],
            [
             0.3333333333333333,
             "#9c179e"
            ],
            [
             0.4444444444444444,
             "#bd3786"
            ],
            [
             0.5555555555555556,
             "#d8576b"
            ],
            [
             0.6666666666666666,
             "#ed7953"
            ],
            [
             0.7777777777777778,
             "#fb9f3a"
            ],
            [
             0.8888888888888888,
             "#fdca26"
            ],
            [
             1,
             "#f0f921"
            ]
           ]
          },
          "colorway": [
           "#636efa",
           "#EF553B",
           "#00cc96",
           "#ab63fa",
           "#FFA15A",
           "#19d3f3",
           "#FF6692",
           "#B6E880",
           "#FF97FF",
           "#FECB52"
          ],
          "font": {
           "color": "#2a3f5f"
          },
          "geo": {
           "bgcolor": "white",
           "lakecolor": "white",
           "landcolor": "#E5ECF6",
           "showlakes": true,
           "showland": true,
           "subunitcolor": "white"
          },
          "hoverlabel": {
           "align": "left"
          },
          "hovermode": "closest",
          "mapbox": {
           "style": "light"
          },
          "paper_bgcolor": "white",
          "plot_bgcolor": "#E5ECF6",
          "polar": {
           "angularaxis": {
            "gridcolor": "white",
            "linecolor": "white",
            "ticks": ""
           },
           "bgcolor": "#E5ECF6",
           "radialaxis": {
            "gridcolor": "white",
            "linecolor": "white",
            "ticks": ""
           }
          },
          "scene": {
           "xaxis": {
            "backgroundcolor": "#E5ECF6",
            "gridcolor": "white",
            "gridwidth": 2,
            "linecolor": "white",
            "showbackground": true,
            "ticks": "",
            "zerolinecolor": "white"
           },
           "yaxis": {
            "backgroundcolor": "#E5ECF6",
            "gridcolor": "white",
            "gridwidth": 2,
            "linecolor": "white",
            "showbackground": true,
            "ticks": "",
            "zerolinecolor": "white"
           },
           "zaxis": {
            "backgroundcolor": "#E5ECF6",
            "gridcolor": "white",
            "gridwidth": 2,
            "linecolor": "white",
            "showbackground": true,
            "ticks": "",
            "zerolinecolor": "white"
           }
          },
          "shapedefaults": {
           "line": {
            "color": "#2a3f5f"
           }
          },
          "ternary": {
           "aaxis": {
            "gridcolor": "white",
            "linecolor": "white",
            "ticks": ""
           },
           "baxis": {
            "gridcolor": "white",
            "linecolor": "white",
            "ticks": ""
           },
           "bgcolor": "#E5ECF6",
           "caxis": {
            "gridcolor": "white",
            "linecolor": "white",
            "ticks": ""
           }
          },
          "title": {
           "x": 0.05
          },
          "xaxis": {
           "automargin": true,
           "gridcolor": "white",
           "linecolor": "white",
           "ticks": "",
           "title": {
            "standoff": 15
           },
           "zerolinecolor": "white",
           "zerolinewidth": 2
          },
          "yaxis": {
           "automargin": true,
           "gridcolor": "white",
           "linecolor": "white",
           "ticks": "",
           "title": {
            "standoff": 15
           },
           "zerolinecolor": "white",
           "zerolinewidth": 2
          }
         }
        },
        "title": {
         "text": "Salary Distribution by Citizenship Status"
        },
        "xaxis": {
         "anchor": "y",
         "domain": [
          0,
          1
         ],
         "title": {
          "text": "Salary"
         }
        },
        "yaxis": {
         "anchor": "x",
         "domain": [
          0,
          1
         ],
         "title": {
          "text": "CitizenDesc"
         }
        }
       }
      }
     },
     "metadata": {},
     "output_type": "display_data"
    }
   ],
   "source": [
    "fig = px.box(\n",
    "    df_hr,\n",
    "    x=\"Salary\",\n",
    "    y=\"CitizenDesc\",\n",
    "    title=\"Salary Distribution by Citizenship Status\",\n",
    ")\n",
    "fig.show()"
   ]
  },
  {
   "cell_type": "markdown",
   "metadata": {},
   "source": [
    "---\n",
    "\n",
    "### 🎯 Example 4: Salary distribution by performance\n",
    "\n",
    "▶️ Draw horizontal box plots of `Salary` by `PerformanceScore`.\n"
   ]
  },
  {
   "cell_type": "code",
   "execution_count": 10,
   "metadata": {},
   "outputs": [
    {
     "data": {
      "application/vnd.plotly.v1+json": {
       "config": {
        "plotlyServerURL": "https://plot.ly"
       },
       "data": [
        {
         "alignmentgroup": "True",
         "hovertemplate": "Salary=%{x}<br>PerformanceScore=%{y}<extra></extra>",
         "legendgroup": "",
         "marker": {
          "color": "#636efa"
         },
         "name": "",
         "notched": false,
         "offsetgroup": "",
         "orientation": "h",
         "showlegend": false,
         "type": "box",
         "x": {
          "bdata": "KvQAAPWXAQC7/QAA3/0AAInGAADg4AAArHUBAOXnAADdugAAAsQAAI7VAABruAAAqGgBAFXlAAAZzQAA6uEAAPMRAQCS5gAAsK0BAALQAABkxwAAl/0AAL71AACJAwEA1+EAAL2UAQB/nwEASCIBAPTQAAAY9gAACP8AAHf7AABWIgEAE/kAANLyAAB8LwEAwBsBANRsAQBuzgAAv4YBALQYAQDY8AAAUbEBAN3TAADc6wAA+AQBABL9AAAw/QAARgwBAEL6AADp5wAAxcQAAIT2AAAI5wAA0wkBAASaAgCV9wAAYEYBAFXbAACpaAEAwQABACRMAQDv4AAA5tsAAJ/eAACq2QAAT4sBAIDwAACj4wAAxc8AADR6AQA7yAAAX+cAAJDwAAD/tAAA3RMBAIgeAgABIgEAtCUBADL0AACm6gAA+L4AAA3UAAAP3gAAtOsAAPTmAADQgwEAYBgBAG4BAQCU4QAAOfoAAHbQAACi5AAAoRsBAJ3aAAArEgEAULcCABeEAQCzBgEAqwABABnMAACzzwAAicgAADHJAADq5wAAldYAANfhAABz8AAAcMABALcjAQAazwAA9OkAACINAQA67wAACQUBAJ28AABlAgEAaMAAAO31AABF+QAAzIIBABsYAQAs1gAA9voAANHLAABx8gAAlrcAAAMKAQCREwEA9vcAAM9+AQAgvwIAAMMAAIHYAADcDgEA4/0AAFYKAQCKRAEAxMoAADrvAAANsAAANO0AABTsAAD1tgAA5JwBAFr3AADi7gAAhw0BADLFAAAe/wAAkNADAPXSAAB5sQAAPrYAAOX5AACrFgEAFmwBAEZDAQAaAgEAKLQAAAj8AAAK8gAAsD4BALz4AAB2awEA4vwAAEQTAQBbMAEAkM0AANr3AABBygAApQYBAHIeAQBZywAASrkAADTOAABTsQAAsfMAADcLAQCl7wAA2JwBAHTTAAAT2AAAWvUAADv3AADD9AAAiNkAANNGAQD42QAAX+MAAEhlAgAMGwEAqhkBAHfNAADG9wAAsSIBAOfgAABxVwEAJsUAAEi2AABvvQAA+M4AAM/4AABt8gAAsgQBAMLNAAAeGQEAS/YAADa5AABEzwAA3QwBABv4AAC7qQEApWsBADzRAABu6wAArrMAAGLiAACtIwEA8iEBAHJtAQDU/AAAmbcAAJTxAADPtgAAUOgAAF61AACjRQEAsHYBACHxAABx8QAAO7AAAJK2AADL/QAAGtkAAPzEAADu7wAAefcAABtfAQDA1AEAEksCANPsAAC8zwAAeCYCAAdGAgDGUAEAhroAAFy1AAB34gAAz1kBAFPbAADrxgAAPsYAAHfLAAASVwEA0MoAAIb5AADw7AAAIB0BANjWAAA75gAAIQQBAA1WAQAV+gAAsgABANnzAABZuwAAoeMAABv2AACr7wAA2OoAAML4AAAx9gAAZucAAD1rAQD0XwEAUu0AAAoaAQAC5AAAHb0AAGgGAQAT3AAAjfsAADH2AAARJgEAQIgBAD0kAQD9KAEAA+IAAJvkAACQWwEAQ9oAAE+9AQBtwgAAdPIAAO0DAQCAOgEAYsQAAKdLAQDaogEAA+QAAGTXAADO4gAAUOkAAGsTAQAe7AAAZQEBAIG9AAAiXQMAzFwBAPavAAA=",
          "dtype": "i4"
         },
         "x0": " ",
         "xaxis": "x",
         "y": [
          "Exceeds",
          "Fully Meets",
          "Fully Meets",
          "Fully Meets",
          "Fully Meets",
          "Exceeds",
          "Fully Meets",
          "Fully Meets",
          "Fully Meets",
          "Fully Meets",
          "Fully Meets",
          "Fully Meets",
          "Exceeds",
          "Fully Meets",
          "Fully Meets",
          "Fully Meets",
          "Exceeds",
          "Fully Meets",
          "Fully Meets",
          "Fully Meets",
          "Fully Meets",
          "Fully Meets",
          "Exceeds",
          "Needs Improvement",
          "Fully Meets",
          "Fully Meets",
          "Fully Meets",
          "Fully Meets",
          "Fully Meets",
          "Fully Meets",
          "Fully Meets",
          "Fully Meets",
          "Fully Meets",
          "Fully Meets",
          "Fully Meets",
          "Fully Meets",
          "Exceeds",
          "Fully Meets",
          "Fully Meets",
          "Fully Meets",
          "Fully Meets",
          "Fully Meets",
          "Fully Meets",
          "Fully Meets",
          "Fully Meets",
          "Fully Meets",
          "Fully Meets",
          "Fully Meets",
          "Fully Meets",
          "Fully Meets",
          "Fully Meets",
          "Exceeds",
          "Fully Meets",
          "Needs Improvement",
          "Needs Improvement",
          "Exceeds",
          "Fully Meets",
          "Fully Meets",
          "Fully Meets",
          "Fully Meets",
          "Fully Meets",
          "Fully Meets",
          "Fully Meets",
          "Fully Meets",
          "Fully Meets",
          "Fully Meets",
          "Fully Meets",
          "PIP",
          "Fully Meets",
          "PIP",
          "Fully Meets",
          "Fully Meets",
          "PIP",
          "Needs Improvement",
          "Fully Meets",
          "Fully Meets",
          "Exceeds",
          "Exceeds",
          "Fully Meets",
          "Fully Meets",
          "Fully Meets",
          "Fully Meets",
          "Fully Meets",
          "PIP",
          "Needs Improvement",
          "Needs Improvement",
          "Needs Improvement",
          "Fully Meets",
          "Fully Meets",
          "Fully Meets",
          "PIP",
          "PIP",
          "Fully Meets",
          "Fully Meets",
          "Fully Meets",
          "PIP",
          "Exceeds",
          "Fully Meets",
          "Fully Meets",
          "Fully Meets",
          "Fully Meets",
          "Fully Meets",
          "Fully Meets",
          "Fully Meets",
          "Fully Meets",
          "Needs Improvement",
          "Exceeds",
          "Fully Meets",
          "Fully Meets",
          "Fully Meets",
          "Fully Meets",
          "Exceeds",
          "PIP",
          "Fully Meets",
          "Fully Meets",
          "Fully Meets",
          "Fully Meets",
          "Fully Meets",
          "Fully Meets",
          "Fully Meets",
          "Fully Meets",
          "Fully Meets",
          "Fully Meets",
          "Fully Meets",
          "Fully Meets",
          "Exceeds",
          "Fully Meets",
          "Fully Meets",
          "Fully Meets",
          "Fully Meets",
          "Fully Meets",
          "Fully Meets",
          "Fully Meets",
          "Fully Meets",
          "Fully Meets",
          "Fully Meets",
          "Fully Meets",
          "Needs Improvement",
          "Fully Meets",
          "Fully Meets",
          "Fully Meets",
          "Exceeds",
          "Fully Meets",
          "Exceeds",
          "Fully Meets",
          "Exceeds",
          "Fully Meets",
          "Fully Meets",
          "Fully Meets",
          "Fully Meets",
          "Fully Meets",
          "Fully Meets",
          "Fully Meets",
          "Fully Meets",
          "Fully Meets",
          "Fully Meets",
          "Fully Meets",
          "Fully Meets",
          "Fully Meets",
          "Fully Meets",
          "Fully Meets",
          "Fully Meets",
          "Fully Meets",
          "Fully Meets",
          "Fully Meets",
          "Fully Meets",
          "Fully Meets",
          "Exceeds",
          "Fully Meets",
          "Fully Meets",
          "Exceeds",
          "Fully Meets",
          "Exceeds",
          "Fully Meets",
          "Exceeds",
          "Fully Meets",
          "Fully Meets",
          "Fully Meets",
          "Fully Meets",
          "Fully Meets",
          "Fully Meets",
          "Fully Meets",
          "Fully Meets",
          "Fully Meets",
          "Fully Meets",
          "Fully Meets",
          "Fully Meets",
          "Fully Meets",
          "PIP",
          "Fully Meets",
          "Needs Improvement",
          "Exceeds",
          "Fully Meets",
          "Fully Meets",
          "Fully Meets",
          "Fully Meets",
          "Fully Meets",
          "Fully Meets",
          "Fully Meets",
          "Fully Meets",
          "Fully Meets",
          "Exceeds",
          "Fully Meets",
          "Fully Meets",
          "Fully Meets",
          "PIP",
          "Fully Meets",
          "Fully Meets",
          "Exceeds",
          "Needs Improvement",
          "Fully Meets",
          "Fully Meets",
          "Exceeds",
          "Fully Meets",
          "Needs Improvement",
          "Needs Improvement",
          "Fully Meets",
          "Exceeds",
          "Fully Meets",
          "Fully Meets",
          "Exceeds",
          "Fully Meets",
          "Fully Meets",
          "Fully Meets",
          "Fully Meets",
          "Fully Meets",
          "Fully Meets",
          "Fully Meets",
          "Fully Meets",
          "Fully Meets",
          "Fully Meets",
          "Fully Meets",
          "Exceeds",
          "Fully Meets",
          "Fully Meets",
          "Fully Meets",
          "Needs Improvement",
          "Exceeds",
          "Fully Meets",
          "Fully Meets",
          "Fully Meets",
          "Fully Meets",
          "Fully Meets",
          "Fully Meets",
          "Fully Meets",
          "Fully Meets",
          "Needs Improvement",
          "Fully Meets",
          "Fully Meets",
          "Fully Meets",
          "Fully Meets",
          "Fully Meets",
          "Fully Meets",
          "Fully Meets",
          "Fully Meets",
          "Fully Meets",
          "Fully Meets",
          "Exceeds",
          "Needs Improvement",
          "Fully Meets",
          "Fully Meets",
          "Fully Meets",
          "Fully Meets",
          "PIP",
          "Fully Meets",
          "Exceeds",
          "Fully Meets",
          "PIP",
          "Fully Meets",
          "Fully Meets",
          "Fully Meets",
          "Fully Meets",
          "Fully Meets",
          "Fully Meets",
          "Exceeds",
          "Fully Meets",
          "Fully Meets",
          "Fully Meets",
          "Fully Meets",
          "Fully Meets",
          "Fully Meets",
          "Fully Meets",
          "Exceeds",
          "Needs Improvement",
          "Fully Meets",
          "Fully Meets",
          "Fully Meets",
          "Fully Meets",
          "Fully Meets",
          "Exceeds",
          "Fully Meets",
          "Fully Meets",
          "Fully Meets",
          "Exceeds",
          "Fully Meets",
          "Fully Meets",
          "Fully Meets",
          "Needs Improvement",
          "Fully Meets",
          "Fully Meets",
          "Fully Meets",
          "Fully Meets",
          "Fully Meets",
          "Fully Meets",
          "Exceeds",
          "Fully Meets",
          "Fully Meets",
          "PIP",
          "Exceeds",
          "Fully Meets",
          "Fully Meets"
         ],
         "y0": " ",
         "yaxis": "y"
        }
       ],
       "layout": {
        "boxmode": "group",
        "legend": {
         "tracegroupgap": 0
        },
        "template": {
         "data": {
          "bar": [
           {
            "error_x": {
             "color": "#2a3f5f"
            },
            "error_y": {
             "color": "#2a3f5f"
            },
            "marker": {
             "line": {
              "color": "#E5ECF6",
              "width": 0.5
             },
             "pattern": {
              "fillmode": "overlay",
              "size": 10,
              "solidity": 0.2
             }
            },
            "type": "bar"
           }
          ],
          "barpolar": [
           {
            "marker": {
             "line": {
              "color": "#E5ECF6",
              "width": 0.5
             },
             "pattern": {
              "fillmode": "overlay",
              "size": 10,
              "solidity": 0.2
             }
            },
            "type": "barpolar"
           }
          ],
          "carpet": [
           {
            "aaxis": {
             "endlinecolor": "#2a3f5f",
             "gridcolor": "white",
             "linecolor": "white",
             "minorgridcolor": "white",
             "startlinecolor": "#2a3f5f"
            },
            "baxis": {
             "endlinecolor": "#2a3f5f",
             "gridcolor": "white",
             "linecolor": "white",
             "minorgridcolor": "white",
             "startlinecolor": "#2a3f5f"
            },
            "type": "carpet"
           }
          ],
          "choropleth": [
           {
            "colorbar": {
             "outlinewidth": 0,
             "ticks": ""
            },
            "type": "choropleth"
           }
          ],
          "contour": [
           {
            "colorbar": {
             "outlinewidth": 0,
             "ticks": ""
            },
            "colorscale": [
             [
              0,
              "#0d0887"
             ],
             [
              0.1111111111111111,
              "#46039f"
             ],
             [
              0.2222222222222222,
              "#7201a8"
             ],
             [
              0.3333333333333333,
              "#9c179e"
             ],
             [
              0.4444444444444444,
              "#bd3786"
             ],
             [
              0.5555555555555556,
              "#d8576b"
             ],
             [
              0.6666666666666666,
              "#ed7953"
             ],
             [
              0.7777777777777778,
              "#fb9f3a"
             ],
             [
              0.8888888888888888,
              "#fdca26"
             ],
             [
              1,
              "#f0f921"
             ]
            ],
            "type": "contour"
           }
          ],
          "contourcarpet": [
           {
            "colorbar": {
             "outlinewidth": 0,
             "ticks": ""
            },
            "type": "contourcarpet"
           }
          ],
          "heatmap": [
           {
            "colorbar": {
             "outlinewidth": 0,
             "ticks": ""
            },
            "colorscale": [
             [
              0,
              "#0d0887"
             ],
             [
              0.1111111111111111,
              "#46039f"
             ],
             [
              0.2222222222222222,
              "#7201a8"
             ],
             [
              0.3333333333333333,
              "#9c179e"
             ],
             [
              0.4444444444444444,
              "#bd3786"
             ],
             [
              0.5555555555555556,
              "#d8576b"
             ],
             [
              0.6666666666666666,
              "#ed7953"
             ],
             [
              0.7777777777777778,
              "#fb9f3a"
             ],
             [
              0.8888888888888888,
              "#fdca26"
             ],
             [
              1,
              "#f0f921"
             ]
            ],
            "type": "heatmap"
           }
          ],
          "histogram": [
           {
            "marker": {
             "pattern": {
              "fillmode": "overlay",
              "size": 10,
              "solidity": 0.2
             }
            },
            "type": "histogram"
           }
          ],
          "histogram2d": [
           {
            "colorbar": {
             "outlinewidth": 0,
             "ticks": ""
            },
            "colorscale": [
             [
              0,
              "#0d0887"
             ],
             [
              0.1111111111111111,
              "#46039f"
             ],
             [
              0.2222222222222222,
              "#7201a8"
             ],
             [
              0.3333333333333333,
              "#9c179e"
             ],
             [
              0.4444444444444444,
              "#bd3786"
             ],
             [
              0.5555555555555556,
              "#d8576b"
             ],
             [
              0.6666666666666666,
              "#ed7953"
             ],
             [
              0.7777777777777778,
              "#fb9f3a"
             ],
             [
              0.8888888888888888,
              "#fdca26"
             ],
             [
              1,
              "#f0f921"
             ]
            ],
            "type": "histogram2d"
           }
          ],
          "histogram2dcontour": [
           {
            "colorbar": {
             "outlinewidth": 0,
             "ticks": ""
            },
            "colorscale": [
             [
              0,
              "#0d0887"
             ],
             [
              0.1111111111111111,
              "#46039f"
             ],
             [
              0.2222222222222222,
              "#7201a8"
             ],
             [
              0.3333333333333333,
              "#9c179e"
             ],
             [
              0.4444444444444444,
              "#bd3786"
             ],
             [
              0.5555555555555556,
              "#d8576b"
             ],
             [
              0.6666666666666666,
              "#ed7953"
             ],
             [
              0.7777777777777778,
              "#fb9f3a"
             ],
             [
              0.8888888888888888,
              "#fdca26"
             ],
             [
              1,
              "#f0f921"
             ]
            ],
            "type": "histogram2dcontour"
           }
          ],
          "mesh3d": [
           {
            "colorbar": {
             "outlinewidth": 0,
             "ticks": ""
            },
            "type": "mesh3d"
           }
          ],
          "parcoords": [
           {
            "line": {
             "colorbar": {
              "outlinewidth": 0,
              "ticks": ""
             }
            },
            "type": "parcoords"
           }
          ],
          "pie": [
           {
            "automargin": true,
            "type": "pie"
           }
          ],
          "scatter": [
           {
            "fillpattern": {
             "fillmode": "overlay",
             "size": 10,
             "solidity": 0.2
            },
            "type": "scatter"
           }
          ],
          "scatter3d": [
           {
            "line": {
             "colorbar": {
              "outlinewidth": 0,
              "ticks": ""
             }
            },
            "marker": {
             "colorbar": {
              "outlinewidth": 0,
              "ticks": ""
             }
            },
            "type": "scatter3d"
           }
          ],
          "scattercarpet": [
           {
            "marker": {
             "colorbar": {
              "outlinewidth": 0,
              "ticks": ""
             }
            },
            "type": "scattercarpet"
           }
          ],
          "scattergeo": [
           {
            "marker": {
             "colorbar": {
              "outlinewidth": 0,
              "ticks": ""
             }
            },
            "type": "scattergeo"
           }
          ],
          "scattergl": [
           {
            "marker": {
             "colorbar": {
              "outlinewidth": 0,
              "ticks": ""
             }
            },
            "type": "scattergl"
           }
          ],
          "scattermap": [
           {
            "marker": {
             "colorbar": {
              "outlinewidth": 0,
              "ticks": ""
             }
            },
            "type": "scattermap"
           }
          ],
          "scattermapbox": [
           {
            "marker": {
             "colorbar": {
              "outlinewidth": 0,
              "ticks": ""
             }
            },
            "type": "scattermapbox"
           }
          ],
          "scatterpolar": [
           {
            "marker": {
             "colorbar": {
              "outlinewidth": 0,
              "ticks": ""
             }
            },
            "type": "scatterpolar"
           }
          ],
          "scatterpolargl": [
           {
            "marker": {
             "colorbar": {
              "outlinewidth": 0,
              "ticks": ""
             }
            },
            "type": "scatterpolargl"
           }
          ],
          "scatterternary": [
           {
            "marker": {
             "colorbar": {
              "outlinewidth": 0,
              "ticks": ""
             }
            },
            "type": "scatterternary"
           }
          ],
          "surface": [
           {
            "colorbar": {
             "outlinewidth": 0,
             "ticks": ""
            },
            "colorscale": [
             [
              0,
              "#0d0887"
             ],
             [
              0.1111111111111111,
              "#46039f"
             ],
             [
              0.2222222222222222,
              "#7201a8"
             ],
             [
              0.3333333333333333,
              "#9c179e"
             ],
             [
              0.4444444444444444,
              "#bd3786"
             ],
             [
              0.5555555555555556,
              "#d8576b"
             ],
             [
              0.6666666666666666,
              "#ed7953"
             ],
             [
              0.7777777777777778,
              "#fb9f3a"
             ],
             [
              0.8888888888888888,
              "#fdca26"
             ],
             [
              1,
              "#f0f921"
             ]
            ],
            "type": "surface"
           }
          ],
          "table": [
           {
            "cells": {
             "fill": {
              "color": "#EBF0F8"
             },
             "line": {
              "color": "white"
             }
            },
            "header": {
             "fill": {
              "color": "#C8D4E3"
             },
             "line": {
              "color": "white"
             }
            },
            "type": "table"
           }
          ]
         },
         "layout": {
          "annotationdefaults": {
           "arrowcolor": "#2a3f5f",
           "arrowhead": 0,
           "arrowwidth": 1
          },
          "autotypenumbers": "strict",
          "coloraxis": {
           "colorbar": {
            "outlinewidth": 0,
            "ticks": ""
           }
          },
          "colorscale": {
           "diverging": [
            [
             0,
             "#8e0152"
            ],
            [
             0.1,
             "#c51b7d"
            ],
            [
             0.2,
             "#de77ae"
            ],
            [
             0.3,
             "#f1b6da"
            ],
            [
             0.4,
             "#fde0ef"
            ],
            [
             0.5,
             "#f7f7f7"
            ],
            [
             0.6,
             "#e6f5d0"
            ],
            [
             0.7,
             "#b8e186"
            ],
            [
             0.8,
             "#7fbc41"
            ],
            [
             0.9,
             "#4d9221"
            ],
            [
             1,
             "#276419"
            ]
           ],
           "sequential": [
            [
             0,
             "#0d0887"
            ],
            [
             0.1111111111111111,
             "#46039f"
            ],
            [
             0.2222222222222222,
             "#7201a8"
            ],
            [
             0.3333333333333333,
             "#9c179e"
            ],
            [
             0.4444444444444444,
             "#bd3786"
            ],
            [
             0.5555555555555556,
             "#d8576b"
            ],
            [
             0.6666666666666666,
             "#ed7953"
            ],
            [
             0.7777777777777778,
             "#fb9f3a"
            ],
            [
             0.8888888888888888,
             "#fdca26"
            ],
            [
             1,
             "#f0f921"
            ]
           ],
           "sequentialminus": [
            [
             0,
             "#0d0887"
            ],
            [
             0.1111111111111111,
             "#46039f"
            ],
            [
             0.2222222222222222,
             "#7201a8"
            ],
            [
             0.3333333333333333,
             "#9c179e"
            ],
            [
             0.4444444444444444,
             "#bd3786"
            ],
            [
             0.5555555555555556,
             "#d8576b"
            ],
            [
             0.6666666666666666,
             "#ed7953"
            ],
            [
             0.7777777777777778,
             "#fb9f3a"
            ],
            [
             0.8888888888888888,
             "#fdca26"
            ],
            [
             1,
             "#f0f921"
            ]
           ]
          },
          "colorway": [
           "#636efa",
           "#EF553B",
           "#00cc96",
           "#ab63fa",
           "#FFA15A",
           "#19d3f3",
           "#FF6692",
           "#B6E880",
           "#FF97FF",
           "#FECB52"
          ],
          "font": {
           "color": "#2a3f5f"
          },
          "geo": {
           "bgcolor": "white",
           "lakecolor": "white",
           "landcolor": "#E5ECF6",
           "showlakes": true,
           "showland": true,
           "subunitcolor": "white"
          },
          "hoverlabel": {
           "align": "left"
          },
          "hovermode": "closest",
          "mapbox": {
           "style": "light"
          },
          "paper_bgcolor": "white",
          "plot_bgcolor": "#E5ECF6",
          "polar": {
           "angularaxis": {
            "gridcolor": "white",
            "linecolor": "white",
            "ticks": ""
           },
           "bgcolor": "#E5ECF6",
           "radialaxis": {
            "gridcolor": "white",
            "linecolor": "white",
            "ticks": ""
           }
          },
          "scene": {
           "xaxis": {
            "backgroundcolor": "#E5ECF6",
            "gridcolor": "white",
            "gridwidth": 2,
            "linecolor": "white",
            "showbackground": true,
            "ticks": "",
            "zerolinecolor": "white"
           },
           "yaxis": {
            "backgroundcolor": "#E5ECF6",
            "gridcolor": "white",
            "gridwidth": 2,
            "linecolor": "white",
            "showbackground": true,
            "ticks": "",
            "zerolinecolor": "white"
           },
           "zaxis": {
            "backgroundcolor": "#E5ECF6",
            "gridcolor": "white",
            "gridwidth": 2,
            "linecolor": "white",
            "showbackground": true,
            "ticks": "",
            "zerolinecolor": "white"
           }
          },
          "shapedefaults": {
           "line": {
            "color": "#2a3f5f"
           }
          },
          "ternary": {
           "aaxis": {
            "gridcolor": "white",
            "linecolor": "white",
            "ticks": ""
           },
           "baxis": {
            "gridcolor": "white",
            "linecolor": "white",
            "ticks": ""
           },
           "bgcolor": "#E5ECF6",
           "caxis": {
            "gridcolor": "white",
            "linecolor": "white",
            "ticks": ""
           }
          },
          "title": {
           "x": 0.05
          },
          "xaxis": {
           "automargin": true,
           "gridcolor": "white",
           "linecolor": "white",
           "ticks": "",
           "title": {
            "standoff": 15
           },
           "zerolinecolor": "white",
           "zerolinewidth": 2
          },
          "yaxis": {
           "automargin": true,
           "gridcolor": "white",
           "linecolor": "white",
           "ticks": "",
           "title": {
            "standoff": 15
           },
           "zerolinecolor": "white",
           "zerolinewidth": 2
          }
         }
        },
        "title": {
         "text": "Salary Distribution by Performance Score"
        },
        "xaxis": {
         "anchor": "y",
         "domain": [
          0,
          1
         ],
         "title": {
          "text": "Salary"
         }
        },
        "yaxis": {
         "anchor": "x",
         "domain": [
          0,
          1
         ],
         "title": {
          "text": "PerformanceScore"
         }
        }
       }
      }
     },
     "metadata": {},
     "output_type": "display_data"
    }
   ],
   "source": [
    "# YOUR CODE BEGINS\n",
    "fig = px.box(\n",
    "    df_hr,\n",
    "    x=\"Salary\",\n",
    "    y=\"PerformanceScore\",\n",
    "    title=\"Salary Distribution by Performance Score\",\n",
    ")\n",
    "fig.show()\n",
    "# YOUR CODE ENDS"
   ]
  },
  {
   "cell_type": "markdown",
   "metadata": {},
   "source": [
    "---\n",
    "\n",
    "### 🎯 Example 4: Salary distribution by department\n",
    "\n",
    "▶️ Draw horizontal box plots of `Salary` by `Department`.\n"
   ]
  },
  {
   "cell_type": "code",
   "execution_count": 11,
   "metadata": {},
   "outputs": [
    {
     "data": {
      "application/vnd.plotly.v1+json": {
       "config": {
        "plotlyServerURL": "https://plot.ly"
       },
       "data": [
        {
         "alignmentgroup": "True",
         "hovertemplate": "Salary=%{x}<br>Department=%{y}<extra></extra>",
         "legendgroup": "",
         "marker": {
          "color": "#636efa"
         },
         "name": "",
         "notched": false,
         "offsetgroup": "",
         "orientation": "h",
         "showlegend": false,
         "type": "box",
         "x": {
          "bdata": "KvQAAPWXAQC7/QAA3/0AAInGAADg4AAArHUBAOXnAADdugAAAsQAAI7VAABruAAAqGgBAFXlAAAZzQAA6uEAAPMRAQCS5gAAsK0BAALQAABkxwAAl/0AAL71AACJAwEA1+EAAL2UAQB/nwEASCIBAPTQAAAY9gAACP8AAHf7AABWIgEAE/kAANLyAAB8LwEAwBsBANRsAQBuzgAAv4YBALQYAQDY8AAAUbEBAN3TAADc6wAA+AQBABL9AAAw/QAARgwBAEL6AADp5wAAxcQAAIT2AAAI5wAA0wkBAASaAgCV9wAAYEYBAFXbAACpaAEAwQABACRMAQDv4AAA5tsAAJ/eAACq2QAAT4sBAIDwAACj4wAAxc8AADR6AQA7yAAAX+cAAJDwAAD/tAAA3RMBAIgeAgABIgEAtCUBADL0AACm6gAA+L4AAA3UAAAP3gAAtOsAAPTmAADQgwEAYBgBAG4BAQCU4QAAOfoAAHbQAACi5AAAoRsBAJ3aAAArEgEAULcCABeEAQCzBgEAqwABABnMAACzzwAAicgAADHJAADq5wAAldYAANfhAABz8AAAcMABALcjAQAazwAA9OkAACINAQA67wAACQUBAJ28AABlAgEAaMAAAO31AABF+QAAzIIBABsYAQAs1gAA9voAANHLAABx8gAAlrcAAAMKAQCREwEA9vcAAM9+AQAgvwIAAMMAAIHYAADcDgEA4/0AAFYKAQCKRAEAxMoAADrvAAANsAAANO0AABTsAAD1tgAA5JwBAFr3AADi7gAAhw0BADLFAAAe/wAAkNADAPXSAAB5sQAAPrYAAOX5AACrFgEAFmwBAEZDAQAaAgEAKLQAAAj8AAAK8gAAsD4BALz4AAB2awEA4vwAAEQTAQBbMAEAkM0AANr3AABBygAApQYBAHIeAQBZywAASrkAADTOAABTsQAAsfMAADcLAQCl7wAA2JwBAHTTAAAT2AAAWvUAADv3AADD9AAAiNkAANNGAQD42QAAX+MAAEhlAgAMGwEAqhkBAHfNAADG9wAAsSIBAOfgAABxVwEAJsUAAEi2AABvvQAA+M4AAM/4AABt8gAAsgQBAMLNAAAeGQEAS/YAADa5AABEzwAA3QwBABv4AAC7qQEApWsBADzRAABu6wAArrMAAGLiAACtIwEA8iEBAHJtAQDU/AAAmbcAAJTxAADPtgAAUOgAAF61AACjRQEAsHYBACHxAABx8QAAO7AAAJK2AADL/QAAGtkAAPzEAADu7wAAefcAABtfAQDA1AEAEksCANPsAAC8zwAAeCYCAAdGAgDGUAEAhroAAFy1AAB34gAAz1kBAFPbAADrxgAAPsYAAHfLAAASVwEA0MoAAIb5AADw7AAAIB0BANjWAAA75gAAIQQBAA1WAQAV+gAAsgABANnzAABZuwAAoeMAABv2AACr7wAA2OoAAML4AAAx9gAAZucAAD1rAQD0XwEAUu0AAAoaAQAC5AAAHb0AAGgGAQAT3AAAjfsAADH2AAARJgEAQIgBAD0kAQD9KAEAA+IAAJvkAACQWwEAQ9oAAE+9AQBtwgAAdPIAAO0DAQCAOgEAYsQAAKdLAQDaogEAA+QAAGTXAADO4gAAUOkAAGsTAQAe7AAAZQEBAIG9AAAiXQMAzFwBAPavAAA=",
          "dtype": "i4"
         },
         "x0": " ",
         "xaxis": "x",
         "y": [
          "Production       ",
          "IT/IS",
          "Production       ",
          "Production       ",
          "Production       ",
          "Production       ",
          "Software Engineering",
          "Production       ",
          "Production       ",
          "IT/IS",
          "Production       ",
          "Production       ",
          "IT/IS",
          "Production       ",
          "Production       ",
          "Production       ",
          "Production       ",
          "Production       ",
          "IT/IS",
          "Production       ",
          "Production       ",
          "Production       ",
          "Production       ",
          "Production       ",
          "Production       ",
          "IT/IS",
          "Admin Offices",
          "Production       ",
          "Production       ",
          "Admin Offices",
          "Production       ",
          "Production       ",
          "Sales",
          "Production       ",
          "Production       ",
          "Software Engineering",
          "Production       ",
          "Software Engineering",
          "Production       ",
          "IT/IS",
          "Sales",
          "Production       ",
          "IT/IS",
          "Production       ",
          "Production       ",
          "Sales",
          "Production       ",
          "Production       ",
          "IT/IS",
          "Production       ",
          "Production       ",
          "Production       ",
          "Production       ",
          "Production       ",
          "Production       ",
          "Production       ",
          "Production       ",
          "IT/IS",
          "Production       ",
          "IT/IS",
          "Sales",
          "IT/IS",
          "Production       ",
          "Production       ",
          "Production       ",
          "Production       ",
          "Software Engineering",
          "Sales",
          "Production       ",
          "Production       ",
          "IT/IS",
          "Production       ",
          "Sales",
          "Production       ",
          "Production       ",
          "IT/IS",
          "IT/IS",
          "Sales",
          "Production       ",
          "Production       ",
          "Production       ",
          "Production       ",
          "Production       ",
          "Production       ",
          "Production       ",
          "Production       ",
          "Software Engineering",
          "Production       ",
          "Production       ",
          "Production       ",
          "Production       ",
          "IT/IS",
          "Production       ",
          "Production       ",
          "Production       ",
          "Sales",
          "IT/IS",
          "Admin Offices",
          "Sales",
          "IT/IS",
          "Production       ",
          "Production       ",
          "Production       ",
          "Production       ",
          "Sales",
          "Production       ",
          "Production       ",
          "Sales",
          "IT/IS",
          "IT/IS",
          "Production       ",
          "Production       ",
          "Production       ",
          "IT/IS",
          "Production       ",
          "Production       ",
          "Production       ",
          "Production       ",
          "Production       ",
          "Production       ",
          "IT/IS",
          "Sales",
          "Production       ",
          "Production       ",
          "Production       ",
          "Production       ",
          "Production       ",
          "Production       ",
          "Sales",
          "Production       ",
          "IT/IS",
          "Sales",
          "Admin Offices",
          "Production       ",
          "Production       ",
          "Production       ",
          "Production       ",
          "Production       ",
          "Production       ",
          "Production       ",
          "Production       ",
          "Production       ",
          "Production       ",
          "Production       ",
          "IT/IS",
          "Production       ",
          "Production       ",
          "Sales",
          "Production       ",
          "Sales",
          "Executive Office",
          "Production       ",
          "Production       ",
          "Production       ",
          "Production       ",
          "Sales",
          "IT/IS",
          "Production       ",
          "Production       ",
          "Production       ",
          "Admin Offices",
          "Production       ",
          "IT/IS",
          "Production       ",
          "Admin Offices",
          "Production       ",
          "Sales",
          "Production       ",
          "Production       ",
          "Production       ",
          "IT/IS",
          "Production       ",
          "Production       ",
          "Production       ",
          "Production       ",
          "Production       ",
          "Production       ",
          "Production       ",
          "Production       ",
          "Production       ",
          "Software Engineering",
          "Production       ",
          "Production       ",
          "Production       ",
          "Sales",
          "Production       ",
          "Production       ",
          "Production       ",
          "Production       ",
          "Production       ",
          "IT/IS",
          "Production       ",
          "Production       ",
          "IT/IS",
          "Production       ",
          "Production       ",
          "Production       ",
          "IT/IS",
          "Production       ",
          "Production       ",
          "Production       ",
          "Production       ",
          "Sales",
          "Production       ",
          "Production       ",
          "Production       ",
          "Production       ",
          "Sales",
          "Production       ",
          "Production       ",
          "Sales",
          "Production       ",
          "Software Engineering",
          "IT/IS",
          "Production       ",
          "Production       ",
          "Production       ",
          "Production       ",
          "Production       ",
          "Production       ",
          "IT/IS",
          "Production       ",
          "Production       ",
          "Sales",
          "Production       ",
          "Production       ",
          "Production       ",
          "Software Engineering",
          "IT/IS",
          "Production       ",
          "Sales",
          "Production       ",
          "Production       ",
          "Production       ",
          "Production       ",
          "Production       ",
          "Production       ",
          "Production       ",
          "IT/IS",
          "IT/IS",
          "IT/IS",
          "Production       ",
          "Production       ",
          "IT/IS",
          "IT/IS",
          "Software Engineering",
          "Production       ",
          "Production       ",
          "Production       ",
          "IT/IS",
          "Production       ",
          "Production       ",
          "IT/IS",
          "Production       ",
          "IT/IS",
          "Admin Offices",
          "Production       ",
          "Production       ",
          "Sales",
          "Admin Offices",
          "Production       ",
          "IT/IS",
          "IT/IS",
          "Production       ",
          "Production       ",
          "Production       ",
          "Production       ",
          "Sales",
          "Admin Offices",
          "Production       ",
          "Sales",
          "Production       ",
          "Production       ",
          "Production       ",
          "Software Engineering",
          "IT/IS",
          "Production       ",
          "Production       ",
          "Sales",
          "Production       ",
          "Production       ",
          "Production       ",
          "Sales",
          "Production       ",
          "IT/IS",
          "Software Engineering",
          "Production       ",
          "IT/IS",
          "Sales",
          "Production       ",
          "Production       ",
          "Sales",
          "IT/IS",
          "Production       ",
          "Production       ",
          "Production       ",
          "Production       ",
          "Production       ",
          "IT/IS",
          "IT/IS",
          "Production       ",
          "Production       ",
          "Production       ",
          "Production       ",
          "Production       ",
          "Production       ",
          "Production       ",
          "Production       ",
          "IT/IS",
          "IT/IS",
          "Production       "
         ],
         "y0": " ",
         "yaxis": "y"
        }
       ],
       "layout": {
        "boxmode": "group",
        "height": 600,
        "legend": {
         "tracegroupgap": 0
        },
        "template": {
         "data": {
          "bar": [
           {
            "error_x": {
             "color": "#2a3f5f"
            },
            "error_y": {
             "color": "#2a3f5f"
            },
            "marker": {
             "line": {
              "color": "#E5ECF6",
              "width": 0.5
             },
             "pattern": {
              "fillmode": "overlay",
              "size": 10,
              "solidity": 0.2
             }
            },
            "type": "bar"
           }
          ],
          "barpolar": [
           {
            "marker": {
             "line": {
              "color": "#E5ECF6",
              "width": 0.5
             },
             "pattern": {
              "fillmode": "overlay",
              "size": 10,
              "solidity": 0.2
             }
            },
            "type": "barpolar"
           }
          ],
          "carpet": [
           {
            "aaxis": {
             "endlinecolor": "#2a3f5f",
             "gridcolor": "white",
             "linecolor": "white",
             "minorgridcolor": "white",
             "startlinecolor": "#2a3f5f"
            },
            "baxis": {
             "endlinecolor": "#2a3f5f",
             "gridcolor": "white",
             "linecolor": "white",
             "minorgridcolor": "white",
             "startlinecolor": "#2a3f5f"
            },
            "type": "carpet"
           }
          ],
          "choropleth": [
           {
            "colorbar": {
             "outlinewidth": 0,
             "ticks": ""
            },
            "type": "choropleth"
           }
          ],
          "contour": [
           {
            "colorbar": {
             "outlinewidth": 0,
             "ticks": ""
            },
            "colorscale": [
             [
              0,
              "#0d0887"
             ],
             [
              0.1111111111111111,
              "#46039f"
             ],
             [
              0.2222222222222222,
              "#7201a8"
             ],
             [
              0.3333333333333333,
              "#9c179e"
             ],
             [
              0.4444444444444444,
              "#bd3786"
             ],
             [
              0.5555555555555556,
              "#d8576b"
             ],
             [
              0.6666666666666666,
              "#ed7953"
             ],
             [
              0.7777777777777778,
              "#fb9f3a"
             ],
             [
              0.8888888888888888,
              "#fdca26"
             ],
             [
              1,
              "#f0f921"
             ]
            ],
            "type": "contour"
           }
          ],
          "contourcarpet": [
           {
            "colorbar": {
             "outlinewidth": 0,
             "ticks": ""
            },
            "type": "contourcarpet"
           }
          ],
          "heatmap": [
           {
            "colorbar": {
             "outlinewidth": 0,
             "ticks": ""
            },
            "colorscale": [
             [
              0,
              "#0d0887"
             ],
             [
              0.1111111111111111,
              "#46039f"
             ],
             [
              0.2222222222222222,
              "#7201a8"
             ],
             [
              0.3333333333333333,
              "#9c179e"
             ],
             [
              0.4444444444444444,
              "#bd3786"
             ],
             [
              0.5555555555555556,
              "#d8576b"
             ],
             [
              0.6666666666666666,
              "#ed7953"
             ],
             [
              0.7777777777777778,
              "#fb9f3a"
             ],
             [
              0.8888888888888888,
              "#fdca26"
             ],
             [
              1,
              "#f0f921"
             ]
            ],
            "type": "heatmap"
           }
          ],
          "histogram": [
           {
            "marker": {
             "pattern": {
              "fillmode": "overlay",
              "size": 10,
              "solidity": 0.2
             }
            },
            "type": "histogram"
           }
          ],
          "histogram2d": [
           {
            "colorbar": {
             "outlinewidth": 0,
             "ticks": ""
            },
            "colorscale": [
             [
              0,
              "#0d0887"
             ],
             [
              0.1111111111111111,
              "#46039f"
             ],
             [
              0.2222222222222222,
              "#7201a8"
             ],
             [
              0.3333333333333333,
              "#9c179e"
             ],
             [
              0.4444444444444444,
              "#bd3786"
             ],
             [
              0.5555555555555556,
              "#d8576b"
             ],
             [
              0.6666666666666666,
              "#ed7953"
             ],
             [
              0.7777777777777778,
              "#fb9f3a"
             ],
             [
              0.8888888888888888,
              "#fdca26"
             ],
             [
              1,
              "#f0f921"
             ]
            ],
            "type": "histogram2d"
           }
          ],
          "histogram2dcontour": [
           {
            "colorbar": {
             "outlinewidth": 0,
             "ticks": ""
            },
            "colorscale": [
             [
              0,
              "#0d0887"
             ],
             [
              0.1111111111111111,
              "#46039f"
             ],
             [
              0.2222222222222222,
              "#7201a8"
             ],
             [
              0.3333333333333333,
              "#9c179e"
             ],
             [
              0.4444444444444444,
              "#bd3786"
             ],
             [
              0.5555555555555556,
              "#d8576b"
             ],
             [
              0.6666666666666666,
              "#ed7953"
             ],
             [
              0.7777777777777778,
              "#fb9f3a"
             ],
             [
              0.8888888888888888,
              "#fdca26"
             ],
             [
              1,
              "#f0f921"
             ]
            ],
            "type": "histogram2dcontour"
           }
          ],
          "mesh3d": [
           {
            "colorbar": {
             "outlinewidth": 0,
             "ticks": ""
            },
            "type": "mesh3d"
           }
          ],
          "parcoords": [
           {
            "line": {
             "colorbar": {
              "outlinewidth": 0,
              "ticks": ""
             }
            },
            "type": "parcoords"
           }
          ],
          "pie": [
           {
            "automargin": true,
            "type": "pie"
           }
          ],
          "scatter": [
           {
            "fillpattern": {
             "fillmode": "overlay",
             "size": 10,
             "solidity": 0.2
            },
            "type": "scatter"
           }
          ],
          "scatter3d": [
           {
            "line": {
             "colorbar": {
              "outlinewidth": 0,
              "ticks": ""
             }
            },
            "marker": {
             "colorbar": {
              "outlinewidth": 0,
              "ticks": ""
             }
            },
            "type": "scatter3d"
           }
          ],
          "scattercarpet": [
           {
            "marker": {
             "colorbar": {
              "outlinewidth": 0,
              "ticks": ""
             }
            },
            "type": "scattercarpet"
           }
          ],
          "scattergeo": [
           {
            "marker": {
             "colorbar": {
              "outlinewidth": 0,
              "ticks": ""
             }
            },
            "type": "scattergeo"
           }
          ],
          "scattergl": [
           {
            "marker": {
             "colorbar": {
              "outlinewidth": 0,
              "ticks": ""
             }
            },
            "type": "scattergl"
           }
          ],
          "scattermap": [
           {
            "marker": {
             "colorbar": {
              "outlinewidth": 0,
              "ticks": ""
             }
            },
            "type": "scattermap"
           }
          ],
          "scattermapbox": [
           {
            "marker": {
             "colorbar": {
              "outlinewidth": 0,
              "ticks": ""
             }
            },
            "type": "scattermapbox"
           }
          ],
          "scatterpolar": [
           {
            "marker": {
             "colorbar": {
              "outlinewidth": 0,
              "ticks": ""
             }
            },
            "type": "scatterpolar"
           }
          ],
          "scatterpolargl": [
           {
            "marker": {
             "colorbar": {
              "outlinewidth": 0,
              "ticks": ""
             }
            },
            "type": "scatterpolargl"
           }
          ],
          "scatterternary": [
           {
            "marker": {
             "colorbar": {
              "outlinewidth": 0,
              "ticks": ""
             }
            },
            "type": "scatterternary"
           }
          ],
          "surface": [
           {
            "colorbar": {
             "outlinewidth": 0,
             "ticks": ""
            },
            "colorscale": [
             [
              0,
              "#0d0887"
             ],
             [
              0.1111111111111111,
              "#46039f"
             ],
             [
              0.2222222222222222,
              "#7201a8"
             ],
             [
              0.3333333333333333,
              "#9c179e"
             ],
             [
              0.4444444444444444,
              "#bd3786"
             ],
             [
              0.5555555555555556,
              "#d8576b"
             ],
             [
              0.6666666666666666,
              "#ed7953"
             ],
             [
              0.7777777777777778,
              "#fb9f3a"
             ],
             [
              0.8888888888888888,
              "#fdca26"
             ],
             [
              1,
              "#f0f921"
             ]
            ],
            "type": "surface"
           }
          ],
          "table": [
           {
            "cells": {
             "fill": {
              "color": "#EBF0F8"
             },
             "line": {
              "color": "white"
             }
            },
            "header": {
             "fill": {
              "color": "#C8D4E3"
             },
             "line": {
              "color": "white"
             }
            },
            "type": "table"
           }
          ]
         },
         "layout": {
          "annotationdefaults": {
           "arrowcolor": "#2a3f5f",
           "arrowhead": 0,
           "arrowwidth": 1
          },
          "autotypenumbers": "strict",
          "coloraxis": {
           "colorbar": {
            "outlinewidth": 0,
            "ticks": ""
           }
          },
          "colorscale": {
           "diverging": [
            [
             0,
             "#8e0152"
            ],
            [
             0.1,
             "#c51b7d"
            ],
            [
             0.2,
             "#de77ae"
            ],
            [
             0.3,
             "#f1b6da"
            ],
            [
             0.4,
             "#fde0ef"
            ],
            [
             0.5,
             "#f7f7f7"
            ],
            [
             0.6,
             "#e6f5d0"
            ],
            [
             0.7,
             "#b8e186"
            ],
            [
             0.8,
             "#7fbc41"
            ],
            [
             0.9,
             "#4d9221"
            ],
            [
             1,
             "#276419"
            ]
           ],
           "sequential": [
            [
             0,
             "#0d0887"
            ],
            [
             0.1111111111111111,
             "#46039f"
            ],
            [
             0.2222222222222222,
             "#7201a8"
            ],
            [
             0.3333333333333333,
             "#9c179e"
            ],
            [
             0.4444444444444444,
             "#bd3786"
            ],
            [
             0.5555555555555556,
             "#d8576b"
            ],
            [
             0.6666666666666666,
             "#ed7953"
            ],
            [
             0.7777777777777778,
             "#fb9f3a"
            ],
            [
             0.8888888888888888,
             "#fdca26"
            ],
            [
             1,
             "#f0f921"
            ]
           ],
           "sequentialminus": [
            [
             0,
             "#0d0887"
            ],
            [
             0.1111111111111111,
             "#46039f"
            ],
            [
             0.2222222222222222,
             "#7201a8"
            ],
            [
             0.3333333333333333,
             "#9c179e"
            ],
            [
             0.4444444444444444,
             "#bd3786"
            ],
            [
             0.5555555555555556,
             "#d8576b"
            ],
            [
             0.6666666666666666,
             "#ed7953"
            ],
            [
             0.7777777777777778,
             "#fb9f3a"
            ],
            [
             0.8888888888888888,
             "#fdca26"
            ],
            [
             1,
             "#f0f921"
            ]
           ]
          },
          "colorway": [
           "#636efa",
           "#EF553B",
           "#00cc96",
           "#ab63fa",
           "#FFA15A",
           "#19d3f3",
           "#FF6692",
           "#B6E880",
           "#FF97FF",
           "#FECB52"
          ],
          "font": {
           "color": "#2a3f5f"
          },
          "geo": {
           "bgcolor": "white",
           "lakecolor": "white",
           "landcolor": "#E5ECF6",
           "showlakes": true,
           "showland": true,
           "subunitcolor": "white"
          },
          "hoverlabel": {
           "align": "left"
          },
          "hovermode": "closest",
          "mapbox": {
           "style": "light"
          },
          "paper_bgcolor": "white",
          "plot_bgcolor": "#E5ECF6",
          "polar": {
           "angularaxis": {
            "gridcolor": "white",
            "linecolor": "white",
            "ticks": ""
           },
           "bgcolor": "#E5ECF6",
           "radialaxis": {
            "gridcolor": "white",
            "linecolor": "white",
            "ticks": ""
           }
          },
          "scene": {
           "xaxis": {
            "backgroundcolor": "#E5ECF6",
            "gridcolor": "white",
            "gridwidth": 2,
            "linecolor": "white",
            "showbackground": true,
            "ticks": "",
            "zerolinecolor": "white"
           },
           "yaxis": {
            "backgroundcolor": "#E5ECF6",
            "gridcolor": "white",
            "gridwidth": 2,
            "linecolor": "white",
            "showbackground": true,
            "ticks": "",
            "zerolinecolor": "white"
           },
           "zaxis": {
            "backgroundcolor": "#E5ECF6",
            "gridcolor": "white",
            "gridwidth": 2,
            "linecolor": "white",
            "showbackground": true,
            "ticks": "",
            "zerolinecolor": "white"
           }
          },
          "shapedefaults": {
           "line": {
            "color": "#2a3f5f"
           }
          },
          "ternary": {
           "aaxis": {
            "gridcolor": "white",
            "linecolor": "white",
            "ticks": ""
           },
           "baxis": {
            "gridcolor": "white",
            "linecolor": "white",
            "ticks": ""
           },
           "bgcolor": "#E5ECF6",
           "caxis": {
            "gridcolor": "white",
            "linecolor": "white",
            "ticks": ""
           }
          },
          "title": {
           "x": 0.05
          },
          "xaxis": {
           "automargin": true,
           "gridcolor": "white",
           "linecolor": "white",
           "ticks": "",
           "title": {
            "standoff": 15
           },
           "zerolinecolor": "white",
           "zerolinewidth": 2
          },
          "yaxis": {
           "automargin": true,
           "gridcolor": "white",
           "linecolor": "white",
           "ticks": "",
           "title": {
            "standoff": 15
           },
           "zerolinecolor": "white",
           "zerolinewidth": 2
          }
         }
        },
        "title": {
         "text": "Salary Distribution by Department"
        },
        "xaxis": {
         "anchor": "y",
         "domain": [
          0,
          1
         ],
         "title": {
          "text": "Salary"
         }
        },
        "yaxis": {
         "anchor": "x",
         "domain": [
          0,
          1
         ],
         "title": {
          "text": "Department"
         }
        }
       }
      }
     },
     "metadata": {},
     "output_type": "display_data"
    }
   ],
   "source": [
    "# YOUR CODE BEGINS\n",
    "fig = px.box(\n",
    "    df_hr,\n",
    "    x=\"Salary\",\n",
    "    y=\"Department\",\n",
    "    title=\"Salary Distribution by Department\",\n",
    "    height=600,\n",
    ")\n",
    "fig.show()\n",
    "# YOUR CODE ENDS"
   ]
  },
  {
   "cell_type": "markdown",
   "metadata": {},
   "source": [
    "---\n",
    "\n",
    "### 🧶 Histogram\n",
    "\n",
    "Histograms display frequency distributions using bars of different heights.\n",
    "\n",
    "Here is an example histogram showing the distribution of 500 random integers following a normal distribution.\n"
   ]
  },
  {
   "cell_type": "code",
   "execution_count": 12,
   "metadata": {},
   "outputs": [
    {
     "data": {
      "application/vnd.plotly.v1+json": {
       "config": {
        "plotlyServerURL": "https://plot.ly"
       },
       "data": [
        {
         "bingroup": "x",
         "hovertemplate": "x=%{x}<br>count=%{y}<extra></extra>",
         "legendgroup": "",
         "marker": {
          "color": "#636efa",
          "pattern": {
           "shape": ""
          }
         },
         "name": "",
         "orientation": "v",
         "showlegend": false,
         "type": "histogram",
         "x": {
          "bdata": "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",
          "dtype": "f8"
         },
         "xaxis": "x",
         "yaxis": "y"
        }
       ],
       "layout": {
        "barmode": "relative",
        "legend": {
         "tracegroupgap": 0
        },
        "margin": {
         "t": 60
        },
        "template": {
         "data": {
          "bar": [
           {
            "error_x": {
             "color": "#2a3f5f"
            },
            "error_y": {
             "color": "#2a3f5f"
            },
            "marker": {
             "line": {
              "color": "#E5ECF6",
              "width": 0.5
             },
             "pattern": {
              "fillmode": "overlay",
              "size": 10,
              "solidity": 0.2
             }
            },
            "type": "bar"
           }
          ],
          "barpolar": [
           {
            "marker": {
             "line": {
              "color": "#E5ECF6",
              "width": 0.5
             },
             "pattern": {
              "fillmode": "overlay",
              "size": 10,
              "solidity": 0.2
             }
            },
            "type": "barpolar"
           }
          ],
          "carpet": [
           {
            "aaxis": {
             "endlinecolor": "#2a3f5f",
             "gridcolor": "white",
             "linecolor": "white",
             "minorgridcolor": "white",
             "startlinecolor": "#2a3f5f"
            },
            "baxis": {
             "endlinecolor": "#2a3f5f",
             "gridcolor": "white",
             "linecolor": "white",
             "minorgridcolor": "white",
             "startlinecolor": "#2a3f5f"
            },
            "type": "carpet"
           }
          ],
          "choropleth": [
           {
            "colorbar": {
             "outlinewidth": 0,
             "ticks": ""
            },
            "type": "choropleth"
           }
          ],
          "contour": [
           {
            "colorbar": {
             "outlinewidth": 0,
             "ticks": ""
            },
            "colorscale": [
             [
              0,
              "#0d0887"
             ],
             [
              0.1111111111111111,
              "#46039f"
             ],
             [
              0.2222222222222222,
              "#7201a8"
             ],
             [
              0.3333333333333333,
              "#9c179e"
             ],
             [
              0.4444444444444444,
              "#bd3786"
             ],
             [
              0.5555555555555556,
              "#d8576b"
             ],
             [
              0.6666666666666666,
              "#ed7953"
             ],
             [
              0.7777777777777778,
              "#fb9f3a"
             ],
             [
              0.8888888888888888,
              "#fdca26"
             ],
             [
              1,
              "#f0f921"
             ]
            ],
            "type": "contour"
           }
          ],
          "contourcarpet": [
           {
            "colorbar": {
             "outlinewidth": 0,
             "ticks": ""
            },
            "type": "contourcarpet"
           }
          ],
          "heatmap": [
           {
            "colorbar": {
             "outlinewidth": 0,
             "ticks": ""
            },
            "colorscale": [
             [
              0,
              "#0d0887"
             ],
             [
              0.1111111111111111,
              "#46039f"
             ],
             [
              0.2222222222222222,
              "#7201a8"
             ],
             [
              0.3333333333333333,
              "#9c179e"
             ],
             [
              0.4444444444444444,
              "#bd3786"
             ],
             [
              0.5555555555555556,
              "#d8576b"
             ],
             [
              0.6666666666666666,
              "#ed7953"
             ],
             [
              0.7777777777777778,
              "#fb9f3a"
             ],
             [
              0.8888888888888888,
              "#fdca26"
             ],
             [
              1,
              "#f0f921"
             ]
            ],
            "type": "heatmap"
           }
          ],
          "histogram": [
           {
            "marker": {
             "pattern": {
              "fillmode": "overlay",
              "size": 10,
              "solidity": 0.2
             }
            },
            "type": "histogram"
           }
          ],
          "histogram2d": [
           {
            "colorbar": {
             "outlinewidth": 0,
             "ticks": ""
            },
            "colorscale": [
             [
              0,
              "#0d0887"
             ],
             [
              0.1111111111111111,
              "#46039f"
             ],
             [
              0.2222222222222222,
              "#7201a8"
             ],
             [
              0.3333333333333333,
              "#9c179e"
             ],
             [
              0.4444444444444444,
              "#bd3786"
             ],
             [
              0.5555555555555556,
              "#d8576b"
             ],
             [
              0.6666666666666666,
              "#ed7953"
             ],
             [
              0.7777777777777778,
              "#fb9f3a"
             ],
             [
              0.8888888888888888,
              "#fdca26"
             ],
             [
              1,
              "#f0f921"
             ]
            ],
            "type": "histogram2d"
           }
          ],
          "histogram2dcontour": [
           {
            "colorbar": {
             "outlinewidth": 0,
             "ticks": ""
            },
            "colorscale": [
             [
              0,
              "#0d0887"
             ],
             [
              0.1111111111111111,
              "#46039f"
             ],
             [
              0.2222222222222222,
              "#7201a8"
             ],
             [
              0.3333333333333333,
              "#9c179e"
             ],
             [
              0.4444444444444444,
              "#bd3786"
             ],
             [
              0.5555555555555556,
              "#d8576b"
             ],
             [
              0.6666666666666666,
              "#ed7953"
             ],
             [
              0.7777777777777778,
              "#fb9f3a"
             ],
             [
              0.8888888888888888,
              "#fdca26"
             ],
             [
              1,
              "#f0f921"
             ]
            ],
            "type": "histogram2dcontour"
           }
          ],
          "mesh3d": [
           {
            "colorbar": {
             "outlinewidth": 0,
             "ticks": ""
            },
            "type": "mesh3d"
           }
          ],
          "parcoords": [
           {
            "line": {
             "colorbar": {
              "outlinewidth": 0,
              "ticks": ""
             }
            },
            "type": "parcoords"
           }
          ],
          "pie": [
           {
            "automargin": true,
            "type": "pie"
           }
          ],
          "scatter": [
           {
            "fillpattern": {
             "fillmode": "overlay",
             "size": 10,
             "solidity": 0.2
            },
            "type": "scatter"
           }
          ],
          "scatter3d": [
           {
            "line": {
             "colorbar": {
              "outlinewidth": 0,
              "ticks": ""
             }
            },
            "marker": {
             "colorbar": {
              "outlinewidth": 0,
              "ticks": ""
             }
            },
            "type": "scatter3d"
           }
          ],
          "scattercarpet": [
           {
            "marker": {
             "colorbar": {
              "outlinewidth": 0,
              "ticks": ""
             }
            },
            "type": "scattercarpet"
           }
          ],
          "scattergeo": [
           {
            "marker": {
             "colorbar": {
              "outlinewidth": 0,
              "ticks": ""
             }
            },
            "type": "scattergeo"
           }
          ],
          "scattergl": [
           {
            "marker": {
             "colorbar": {
              "outlinewidth": 0,
              "ticks": ""
             }
            },
            "type": "scattergl"
           }
          ],
          "scattermap": [
           {
            "marker": {
             "colorbar": {
              "outlinewidth": 0,
              "ticks": ""
             }
            },
            "type": "scattermap"
           }
          ],
          "scattermapbox": [
           {
            "marker": {
             "colorbar": {
              "outlinewidth": 0,
              "ticks": ""
             }
            },
            "type": "scattermapbox"
           }
          ],
          "scatterpolar": [
           {
            "marker": {
             "colorbar": {
              "outlinewidth": 0,
              "ticks": ""
             }
            },
            "type": "scatterpolar"
           }
          ],
          "scatterpolargl": [
           {
            "marker": {
             "colorbar": {
              "outlinewidth": 0,
              "ticks": ""
             }
            },
            "type": "scatterpolargl"
           }
          ],
          "scatterternary": [
           {
            "marker": {
             "colorbar": {
              "outlinewidth": 0,
              "ticks": ""
             }
            },
            "type": "scatterternary"
           }
          ],
          "surface": [
           {
            "colorbar": {
             "outlinewidth": 0,
             "ticks": ""
            },
            "colorscale": [
             [
              0,
              "#0d0887"
             ],
             [
              0.1111111111111111,
              "#46039f"
             ],
             [
              0.2222222222222222,
              "#7201a8"
             ],
             [
              0.3333333333333333,
              "#9c179e"
             ],
             [
              0.4444444444444444,
              "#bd3786"
             ],
             [
              0.5555555555555556,
              "#d8576b"
             ],
             [
              0.6666666666666666,
              "#ed7953"
             ],
             [
              0.7777777777777778,
              "#fb9f3a"
             ],
             [
              0.8888888888888888,
              "#fdca26"
             ],
             [
              1,
              "#f0f921"
             ]
            ],
            "type": "surface"
           }
          ],
          "table": [
           {
            "cells": {
             "fill": {
              "color": "#EBF0F8"
             },
             "line": {
              "color": "white"
             }
            },
            "header": {
             "fill": {
              "color": "#C8D4E3"
             },
             "line": {
              "color": "white"
             }
            },
            "type": "table"
           }
          ]
         },
         "layout": {
          "annotationdefaults": {
           "arrowcolor": "#2a3f5f",
           "arrowhead": 0,
           "arrowwidth": 1
          },
          "autotypenumbers": "strict",
          "coloraxis": {
           "colorbar": {
            "outlinewidth": 0,
            "ticks": ""
           }
          },
          "colorscale": {
           "diverging": [
            [
             0,
             "#8e0152"
            ],
            [
             0.1,
             "#c51b7d"
            ],
            [
             0.2,
             "#de77ae"
            ],
            [
             0.3,
             "#f1b6da"
            ],
            [
             0.4,
             "#fde0ef"
            ],
            [
             0.5,
             "#f7f7f7"
            ],
            [
             0.6,
             "#e6f5d0"
            ],
            [
             0.7,
             "#b8e186"
            ],
            [
             0.8,
             "#7fbc41"
            ],
            [
             0.9,
             "#4d9221"
            ],
            [
             1,
             "#276419"
            ]
           ],
           "sequential": [
            [
             0,
             "#0d0887"
            ],
            [
             0.1111111111111111,
             "#46039f"
            ],
            [
             0.2222222222222222,
             "#7201a8"
            ],
            [
             0.3333333333333333,
             "#9c179e"
            ],
            [
             0.4444444444444444,
             "#bd3786"
            ],
            [
             0.5555555555555556,
             "#d8576b"
            ],
            [
             0.6666666666666666,
             "#ed7953"
            ],
            [
             0.7777777777777778,
             "#fb9f3a"
            ],
            [
             0.8888888888888888,
             "#fdca26"
            ],
            [
             1,
             "#f0f921"
            ]
           ],
           "sequentialminus": [
            [
             0,
             "#0d0887"
            ],
            [
             0.1111111111111111,
             "#46039f"
            ],
            [
             0.2222222222222222,
             "#7201a8"
            ],
            [
             0.3333333333333333,
             "#9c179e"
            ],
            [
             0.4444444444444444,
             "#bd3786"
            ],
            [
             0.5555555555555556,
             "#d8576b"
            ],
            [
             0.6666666666666666,
             "#ed7953"
            ],
            [
             0.7777777777777778,
             "#fb9f3a"
            ],
            [
             0.8888888888888888,
             "#fdca26"
            ],
            [
             1,
             "#f0f921"
            ]
           ]
          },
          "colorway": [
           "#636efa",
           "#EF553B",
           "#00cc96",
           "#ab63fa",
           "#FFA15A",
           "#19d3f3",
           "#FF6692",
           "#B6E880",
           "#FF97FF",
           "#FECB52"
          ],
          "font": {
           "color": "#2a3f5f"
          },
          "geo": {
           "bgcolor": "white",
           "lakecolor": "white",
           "landcolor": "#E5ECF6",
           "showlakes": true,
           "showland": true,
           "subunitcolor": "white"
          },
          "hoverlabel": {
           "align": "left"
          },
          "hovermode": "closest",
          "mapbox": {
           "style": "light"
          },
          "paper_bgcolor": "white",
          "plot_bgcolor": "#E5ECF6",
          "polar": {
           "angularaxis": {
            "gridcolor": "white",
            "linecolor": "white",
            "ticks": ""
           },
           "bgcolor": "#E5ECF6",
           "radialaxis": {
            "gridcolor": "white",
            "linecolor": "white",
            "ticks": ""
           }
          },
          "scene": {
           "xaxis": {
            "backgroundcolor": "#E5ECF6",
            "gridcolor": "white",
            "gridwidth": 2,
            "linecolor": "white",
            "showbackground": true,
            "ticks": "",
            "zerolinecolor": "white"
           },
           "yaxis": {
            "backgroundcolor": "#E5ECF6",
            "gridcolor": "white",
            "gridwidth": 2,
            "linecolor": "white",
            "showbackground": true,
            "ticks": "",
            "zerolinecolor": "white"
           },
           "zaxis": {
            "backgroundcolor": "#E5ECF6",
            "gridcolor": "white",
            "gridwidth": 2,
            "linecolor": "white",
            "showbackground": true,
            "ticks": "",
            "zerolinecolor": "white"
           }
          },
          "shapedefaults": {
           "line": {
            "color": "#2a3f5f"
           }
          },
          "ternary": {
           "aaxis": {
            "gridcolor": "white",
            "linecolor": "white",
            "ticks": ""
           },
           "baxis": {
            "gridcolor": "white",
            "linecolor": "white",
            "ticks": ""
           },
           "bgcolor": "#E5ECF6",
           "caxis": {
            "gridcolor": "white",
            "linecolor": "white",
            "ticks": ""
           }
          },
          "title": {
           "x": 0.05
          },
          "xaxis": {
           "automargin": true,
           "gridcolor": "white",
           "linecolor": "white",
           "ticks": "",
           "title": {
            "standoff": 15
           },
           "zerolinecolor": "white",
           "zerolinewidth": 2
          },
          "yaxis": {
           "automargin": true,
           "gridcolor": "white",
           "linecolor": "white",
           "ticks": "",
           "title": {
            "standoff": 15
           },
           "zerolinecolor": "white",
           "zerolinewidth": 2
          }
         }
        },
        "xaxis": {
         "anchor": "y",
         "domain": [
          0,
          1
         ],
         "title": {
          "text": "x"
         }
        },
        "yaxis": {
         "anchor": "x",
         "domain": [
          0,
          1
         ],
         "title": {
          "text": "count"
         }
        }
       }
      }
     },
     "metadata": {},
     "output_type": "display_data"
    }
   ],
   "source": [
    "fig = px.histogram(x=np.random.randn(500))\n",
    "fig.show()"
   ]
  },
  {
   "cell_type": "markdown",
   "metadata": {},
   "source": [
    "---\n",
    "\n",
    "### 🎯 Example 4: Salary histogram\n",
    "\n",
    "▶️ Draw a histogram of `Salary` in `df_hr`.\n"
   ]
  },
  {
   "cell_type": "code",
   "execution_count": 13,
   "metadata": {},
   "outputs": [
    {
     "data": {
      "application/vnd.plotly.v1+json": {
       "config": {
        "plotlyServerURL": "https://plot.ly"
       },
       "data": [
        {
         "bingroup": "x",
         "hovertemplate": "Salary=%{x}<br>count=%{y}<extra></extra>",
         "legendgroup": "",
         "marker": {
          "color": "#636efa",
          "pattern": {
           "shape": ""
          }
         },
         "name": "",
         "orientation": "v",
         "showlegend": false,
         "type": "histogram",
         "x": {
          "bdata": "KvQAAPWXAQC7/QAA3/0AAInGAADg4AAArHUBAOXnAADdugAAAsQAAI7VAABruAAAqGgBAFXlAAAZzQAA6uEAAPMRAQCS5gAAsK0BAALQAABkxwAAl/0AAL71AACJAwEA1+EAAL2UAQB/nwEASCIBAPTQAAAY9gAACP8AAHf7AABWIgEAE/kAANLyAAB8LwEAwBsBANRsAQBuzgAAv4YBALQYAQDY8AAAUbEBAN3TAADc6wAA+AQBABL9AAAw/QAARgwBAEL6AADp5wAAxcQAAIT2AAAI5wAA0wkBAASaAgCV9wAAYEYBAFXbAACpaAEAwQABACRMAQDv4AAA5tsAAJ/eAACq2QAAT4sBAIDwAACj4wAAxc8AADR6AQA7yAAAX+cAAJDwAAD/tAAA3RMBAIgeAgABIgEAtCUBADL0AACm6gAA+L4AAA3UAAAP3gAAtOsAAPTmAADQgwEAYBgBAG4BAQCU4QAAOfoAAHbQAACi5AAAoRsBAJ3aAAArEgEAULcCABeEAQCzBgEAqwABABnMAACzzwAAicgAADHJAADq5wAAldYAANfhAABz8AAAcMABALcjAQAazwAA9OkAACINAQA67wAACQUBAJ28AABlAgEAaMAAAO31AABF+QAAzIIBABsYAQAs1gAA9voAANHLAABx8gAAlrcAAAMKAQCREwEA9vcAAM9+AQAgvwIAAMMAAIHYAADcDgEA4/0AAFYKAQCKRAEAxMoAADrvAAANsAAANO0AABTsAAD1tgAA5JwBAFr3AADi7gAAhw0BADLFAAAe/wAAkNADAPXSAAB5sQAAPrYAAOX5AACrFgEAFmwBAEZDAQAaAgEAKLQAAAj8AAAK8gAAsD4BALz4AAB2awEA4vwAAEQTAQBbMAEAkM0AANr3AABBygAApQYBAHIeAQBZywAASrkAADTOAABTsQAAsfMAADcLAQCl7wAA2JwBAHTTAAAT2AAAWvUAADv3AADD9AAAiNkAANNGAQD42QAAX+MAAEhlAgAMGwEAqhkBAHfNAADG9wAAsSIBAOfgAABxVwEAJsUAAEi2AABvvQAA+M4AAM/4AABt8gAAsgQBAMLNAAAeGQEAS/YAADa5AABEzwAA3QwBABv4AAC7qQEApWsBADzRAABu6wAArrMAAGLiAACtIwEA8iEBAHJtAQDU/AAAmbcAAJTxAADPtgAAUOgAAF61AACjRQEAsHYBACHxAABx8QAAO7AAAJK2AADL/QAAGtkAAPzEAADu7wAAefcAABtfAQDA1AEAEksCANPsAAC8zwAAeCYCAAdGAgDGUAEAhroAAFy1AAB34gAAz1kBAFPbAADrxgAAPsYAAHfLAAASVwEA0MoAAIb5AADw7AAAIB0BANjWAAA75gAAIQQBAA1WAQAV+gAAsgABANnzAABZuwAAoeMAABv2AACr7wAA2OoAAML4AAAx9gAAZucAAD1rAQD0XwEAUu0AAAoaAQAC5AAAHb0AAGgGAQAT3AAAjfsAADH2AAARJgEAQIgBAD0kAQD9KAEAA+IAAJvkAACQWwEAQ9oAAE+9AQBtwgAAdPIAAO0DAQCAOgEAYsQAAKdLAQDaogEAA+QAAGTXAADO4gAAUOkAAGsTAQAe7AAAZQEBAIG9AAAiXQMAzFwBAPavAAA=",
          "dtype": "i4"
         },
         "xaxis": "x",
         "yaxis": "y"
        }
       ],
       "layout": {
        "barmode": "relative",
        "legend": {
         "tracegroupgap": 0
        },
        "template": {
         "data": {
          "bar": [
           {
            "error_x": {
             "color": "#2a3f5f"
            },
            "error_y": {
             "color": "#2a3f5f"
            },
            "marker": {
             "line": {
              "color": "#E5ECF6",
              "width": 0.5
             },
             "pattern": {
              "fillmode": "overlay",
              "size": 10,
              "solidity": 0.2
             }
            },
            "type": "bar"
           }
          ],
          "barpolar": [
           {
            "marker": {
             "line": {
              "color": "#E5ECF6",
              "width": 0.5
             },
             "pattern": {
              "fillmode": "overlay",
              "size": 10,
              "solidity": 0.2
             }
            },
            "type": "barpolar"
           }
          ],
          "carpet": [
           {
            "aaxis": {
             "endlinecolor": "#2a3f5f",
             "gridcolor": "white",
             "linecolor": "white",
             "minorgridcolor": "white",
             "startlinecolor": "#2a3f5f"
            },
            "baxis": {
             "endlinecolor": "#2a3f5f",
             "gridcolor": "white",
             "linecolor": "white",
             "minorgridcolor": "white",
             "startlinecolor": "#2a3f5f"
            },
            "type": "carpet"
           }
          ],
          "choropleth": [
           {
            "colorbar": {
             "outlinewidth": 0,
             "ticks": ""
            },
            "type": "choropleth"
           }
          ],
          "contour": [
           {
            "colorbar": {
             "outlinewidth": 0,
             "ticks": ""
            },
            "colorscale": [
             [
              0,
              "#0d0887"
             ],
             [
              0.1111111111111111,
              "#46039f"
             ],
             [
              0.2222222222222222,
              "#7201a8"
             ],
             [
              0.3333333333333333,
              "#9c179e"
             ],
             [
              0.4444444444444444,
              "#bd3786"
             ],
             [
              0.5555555555555556,
              "#d8576b"
             ],
             [
              0.6666666666666666,
              "#ed7953"
             ],
             [
              0.7777777777777778,
              "#fb9f3a"
             ],
             [
              0.8888888888888888,
              "#fdca26"
             ],
             [
              1,
              "#f0f921"
             ]
            ],
            "type": "contour"
           }
          ],
          "contourcarpet": [
           {
            "colorbar": {
             "outlinewidth": 0,
             "ticks": ""
            },
            "type": "contourcarpet"
           }
          ],
          "heatmap": [
           {
            "colorbar": {
             "outlinewidth": 0,
             "ticks": ""
            },
            "colorscale": [
             [
              0,
              "#0d0887"
             ],
             [
              0.1111111111111111,
              "#46039f"
             ],
             [
              0.2222222222222222,
              "#7201a8"
             ],
             [
              0.3333333333333333,
              "#9c179e"
             ],
             [
              0.4444444444444444,
              "#bd3786"
             ],
             [
              0.5555555555555556,
              "#d8576b"
             ],
             [
              0.6666666666666666,
              "#ed7953"
             ],
             [
              0.7777777777777778,
              "#fb9f3a"
             ],
             [
              0.8888888888888888,
              "#fdca26"
             ],
             [
              1,
              "#f0f921"
             ]
            ],
            "type": "heatmap"
           }
          ],
          "histogram": [
           {
            "marker": {
             "pattern": {
              "fillmode": "overlay",
              "size": 10,
              "solidity": 0.2
             }
            },
            "type": "histogram"
           }
          ],
          "histogram2d": [
           {
            "colorbar": {
             "outlinewidth": 0,
             "ticks": ""
            },
            "colorscale": [
             [
              0,
              "#0d0887"
             ],
             [
              0.1111111111111111,
              "#46039f"
             ],
             [
              0.2222222222222222,
              "#7201a8"
             ],
             [
              0.3333333333333333,
              "#9c179e"
             ],
             [
              0.4444444444444444,
              "#bd3786"
             ],
             [
              0.5555555555555556,
              "#d8576b"
             ],
             [
              0.6666666666666666,
              "#ed7953"
             ],
             [
              0.7777777777777778,
              "#fb9f3a"
             ],
             [
              0.8888888888888888,
              "#fdca26"
             ],
             [
              1,
              "#f0f921"
             ]
            ],
            "type": "histogram2d"
           }
          ],
          "histogram2dcontour": [
           {
            "colorbar": {
             "outlinewidth": 0,
             "ticks": ""
            },
            "colorscale": [
             [
              0,
              "#0d0887"
             ],
             [
              0.1111111111111111,
              "#46039f"
             ],
             [
              0.2222222222222222,
              "#7201a8"
             ],
             [
              0.3333333333333333,
              "#9c179e"
             ],
             [
              0.4444444444444444,
              "#bd3786"
             ],
             [
              0.5555555555555556,
              "#d8576b"
             ],
             [
              0.6666666666666666,
              "#ed7953"
             ],
             [
              0.7777777777777778,
              "#fb9f3a"
             ],
             [
              0.8888888888888888,
              "#fdca26"
             ],
             [
              1,
              "#f0f921"
             ]
            ],
            "type": "histogram2dcontour"
           }
          ],
          "mesh3d": [
           {
            "colorbar": {
             "outlinewidth": 0,
             "ticks": ""
            },
            "type": "mesh3d"
           }
          ],
          "parcoords": [
           {
            "line": {
             "colorbar": {
              "outlinewidth": 0,
              "ticks": ""
             }
            },
            "type": "parcoords"
           }
          ],
          "pie": [
           {
            "automargin": true,
            "type": "pie"
           }
          ],
          "scatter": [
           {
            "fillpattern": {
             "fillmode": "overlay",
             "size": 10,
             "solidity": 0.2
            },
            "type": "scatter"
           }
          ],
          "scatter3d": [
           {
            "line": {
             "colorbar": {
              "outlinewidth": 0,
              "ticks": ""
             }
            },
            "marker": {
             "colorbar": {
              "outlinewidth": 0,
              "ticks": ""
             }
            },
            "type": "scatter3d"
           }
          ],
          "scattercarpet": [
           {
            "marker": {
             "colorbar": {
              "outlinewidth": 0,
              "ticks": ""
             }
            },
            "type": "scattercarpet"
           }
          ],
          "scattergeo": [
           {
            "marker": {
             "colorbar": {
              "outlinewidth": 0,
              "ticks": ""
             }
            },
            "type": "scattergeo"
           }
          ],
          "scattergl": [
           {
            "marker": {
             "colorbar": {
              "outlinewidth": 0,
              "ticks": ""
             }
            },
            "type": "scattergl"
           }
          ],
          "scattermap": [
           {
            "marker": {
             "colorbar": {
              "outlinewidth": 0,
              "ticks": ""
             }
            },
            "type": "scattermap"
           }
          ],
          "scattermapbox": [
           {
            "marker": {
             "colorbar": {
              "outlinewidth": 0,
              "ticks": ""
             }
            },
            "type": "scattermapbox"
           }
          ],
          "scatterpolar": [
           {
            "marker": {
             "colorbar": {
              "outlinewidth": 0,
              "ticks": ""
             }
            },
            "type": "scatterpolar"
           }
          ],
          "scatterpolargl": [
           {
            "marker": {
             "colorbar": {
              "outlinewidth": 0,
              "ticks": ""
             }
            },
            "type": "scatterpolargl"
           }
          ],
          "scatterternary": [
           {
            "marker": {
             "colorbar": {
              "outlinewidth": 0,
              "ticks": ""
             }
            },
            "type": "scatterternary"
           }
          ],
          "surface": [
           {
            "colorbar": {
             "outlinewidth": 0,
             "ticks": ""
            },
            "colorscale": [
             [
              0,
              "#0d0887"
             ],
             [
              0.1111111111111111,
              "#46039f"
             ],
             [
              0.2222222222222222,
              "#7201a8"
             ],
             [
              0.3333333333333333,
              "#9c179e"
             ],
             [
              0.4444444444444444,
              "#bd3786"
             ],
             [
              0.5555555555555556,
              "#d8576b"
             ],
             [
              0.6666666666666666,
              "#ed7953"
             ],
             [
              0.7777777777777778,
              "#fb9f3a"
             ],
             [
              0.8888888888888888,
              "#fdca26"
             ],
             [
              1,
              "#f0f921"
             ]
            ],
            "type": "surface"
           }
          ],
          "table": [
           {
            "cells": {
             "fill": {
              "color": "#EBF0F8"
             },
             "line": {
              "color": "white"
             }
            },
            "header": {
             "fill": {
              "color": "#C8D4E3"
             },
             "line": {
              "color": "white"
             }
            },
            "type": "table"
           }
          ]
         },
         "layout": {
          "annotationdefaults": {
           "arrowcolor": "#2a3f5f",
           "arrowhead": 0,
           "arrowwidth": 1
          },
          "autotypenumbers": "strict",
          "coloraxis": {
           "colorbar": {
            "outlinewidth": 0,
            "ticks": ""
           }
          },
          "colorscale": {
           "diverging": [
            [
             0,
             "#8e0152"
            ],
            [
             0.1,
             "#c51b7d"
            ],
            [
             0.2,
             "#de77ae"
            ],
            [
             0.3,
             "#f1b6da"
            ],
            [
             0.4,
             "#fde0ef"
            ],
            [
             0.5,
             "#f7f7f7"
            ],
            [
             0.6,
             "#e6f5d0"
            ],
            [
             0.7,
             "#b8e186"
            ],
            [
             0.8,
             "#7fbc41"
            ],
            [
             0.9,
             "#4d9221"
            ],
            [
             1,
             "#276419"
            ]
           ],
           "sequential": [
            [
             0,
             "#0d0887"
            ],
            [
             0.1111111111111111,
             "#46039f"
            ],
            [
             0.2222222222222222,
             "#7201a8"
            ],
            [
             0.3333333333333333,
             "#9c179e"
            ],
            [
             0.4444444444444444,
             "#bd3786"
            ],
            [
             0.5555555555555556,
             "#d8576b"
            ],
            [
             0.6666666666666666,
             "#ed7953"
            ],
            [
             0.7777777777777778,
             "#fb9f3a"
            ],
            [
             0.8888888888888888,
             "#fdca26"
            ],
            [
             1,
             "#f0f921"
            ]
           ],
           "sequentialminus": [
            [
             0,
             "#0d0887"
            ],
            [
             0.1111111111111111,
             "#46039f"
            ],
            [
             0.2222222222222222,
             "#7201a8"
            ],
            [
             0.3333333333333333,
             "#9c179e"
            ],
            [
             0.4444444444444444,
             "#bd3786"
            ],
            [
             0.5555555555555556,
             "#d8576b"
            ],
            [
             0.6666666666666666,
             "#ed7953"
            ],
            [
             0.7777777777777778,
             "#fb9f3a"
            ],
            [
             0.8888888888888888,
             "#fdca26"
            ],
            [
             1,
             "#f0f921"
            ]
           ]
          },
          "colorway": [
           "#636efa",
           "#EF553B",
           "#00cc96",
           "#ab63fa",
           "#FFA15A",
           "#19d3f3",
           "#FF6692",
           "#B6E880",
           "#FF97FF",
           "#FECB52"
          ],
          "font": {
           "color": "#2a3f5f"
          },
          "geo": {
           "bgcolor": "white",
           "lakecolor": "white",
           "landcolor": "#E5ECF6",
           "showlakes": true,
           "showland": true,
           "subunitcolor": "white"
          },
          "hoverlabel": {
           "align": "left"
          },
          "hovermode": "closest",
          "mapbox": {
           "style": "light"
          },
          "paper_bgcolor": "white",
          "plot_bgcolor": "#E5ECF6",
          "polar": {
           "angularaxis": {
            "gridcolor": "white",
            "linecolor": "white",
            "ticks": ""
           },
           "bgcolor": "#E5ECF6",
           "radialaxis": {
            "gridcolor": "white",
            "linecolor": "white",
            "ticks": ""
           }
          },
          "scene": {
           "xaxis": {
            "backgroundcolor": "#E5ECF6",
            "gridcolor": "white",
            "gridwidth": 2,
            "linecolor": "white",
            "showbackground": true,
            "ticks": "",
            "zerolinecolor": "white"
           },
           "yaxis": {
            "backgroundcolor": "#E5ECF6",
            "gridcolor": "white",
            "gridwidth": 2,
            "linecolor": "white",
            "showbackground": true,
            "ticks": "",
            "zerolinecolor": "white"
           },
           "zaxis": {
            "backgroundcolor": "#E5ECF6",
            "gridcolor": "white",
            "gridwidth": 2,
            "linecolor": "white",
            "showbackground": true,
            "ticks": "",
            "zerolinecolor": "white"
           }
          },
          "shapedefaults": {
           "line": {
            "color": "#2a3f5f"
           }
          },
          "ternary": {
           "aaxis": {
            "gridcolor": "white",
            "linecolor": "white",
            "ticks": ""
           },
           "baxis": {
            "gridcolor": "white",
            "linecolor": "white",
            "ticks": ""
           },
           "bgcolor": "#E5ECF6",
           "caxis": {
            "gridcolor": "white",
            "linecolor": "white",
            "ticks": ""
           }
          },
          "title": {
           "x": 0.05
          },
          "xaxis": {
           "automargin": true,
           "gridcolor": "white",
           "linecolor": "white",
           "ticks": "",
           "title": {
            "standoff": 15
           },
           "zerolinecolor": "white",
           "zerolinewidth": 2
          },
          "yaxis": {
           "automargin": true,
           "gridcolor": "white",
           "linecolor": "white",
           "ticks": "",
           "title": {
            "standoff": 15
           },
           "zerolinecolor": "white",
           "zerolinewidth": 2
          }
         }
        },
        "title": {
         "text": "Salary Distribution"
        },
        "xaxis": {
         "anchor": "y",
         "domain": [
          0,
          1
         ],
         "title": {
          "text": "Salary"
         }
        },
        "yaxis": {
         "anchor": "x",
         "domain": [
          0,
          1
         ],
         "title": {
          "text": "count"
         }
        }
       }
      }
     },
     "metadata": {},
     "output_type": "display_data"
    }
   ],
   "source": [
    "fig = px.histogram(df_hr, x=\"Salary\", title=\"Salary Distribution\")\n",
    "fig.show()"
   ]
  },
  {
   "cell_type": "markdown",
   "metadata": {},
   "source": [
    "---\n",
    "\n",
    "### 🎯 Example 4: Number of absences histogram\n",
    "\n",
    "▶️ Draw a histogram of `Absences` in `df_hr`.\n"
   ]
  },
  {
   "cell_type": "code",
   "execution_count": 14,
   "metadata": {},
   "outputs": [
    {
     "data": {
      "application/vnd.plotly.v1+json": {
       "config": {
        "plotlyServerURL": "https://plot.ly"
       },
       "data": [
        {
         "bingroup": "x",
         "hovertemplate": "Absences=%{x}<br>count=%{y}<extra></extra>",
         "legendgroup": "",
         "marker": {
          "color": "#636efa",
          "pattern": {
           "shape": ""
          }
         },
         "name": "",
         "orientation": "v",
         "showlegend": false,
         "type": "histogram",
         "x": {
          "bdata": "AREDDwIPExMEEAwPCQcBFBAMCA0NAhMDBQIEDgYOCRETAw8EDgMOBwcLCAsEEQMDAgkGBQMQAw8GAg8FCBMBBgIOCAUBCQ8BEQYPEAQOBAYHCAMFEBMTEQcQDwITFAYHDwMHAQUMEwIHDwMUChQHAQoLFAIBAwIRCBQNFAgFAQ8JEAQTBgQEBhIEDgcHCwkJAgEEAgoNChAGAxEUBwkUDQMUAhEUChALEAcODxMGERIOBBALDggQFAcRCgIGDg0BDAYSCw0REwoLDAIEBQMRAQ0GEgcNEw8CBQwGDhANDwkODhAEChMECxAKDQsQBA8MEQgEDQgCBAcNAgIOBw8QAhQEEBEQEw0UDxAJBQkEEgwKDQEOCwMSAQ8EBhILCQUIEA8TCwkSBwQFDREHCwcJEAcODQQQCwI=",
          "dtype": "i1"
         },
         "xaxis": "x",
         "yaxis": "y"
        }
       ],
       "layout": {
        "barmode": "relative",
        "legend": {
         "tracegroupgap": 0
        },
        "template": {
         "data": {
          "bar": [
           {
            "error_x": {
             "color": "#2a3f5f"
            },
            "error_y": {
             "color": "#2a3f5f"
            },
            "marker": {
             "line": {
              "color": "#E5ECF6",
              "width": 0.5
             },
             "pattern": {
              "fillmode": "overlay",
              "size": 10,
              "solidity": 0.2
             }
            },
            "type": "bar"
           }
          ],
          "barpolar": [
           {
            "marker": {
             "line": {
              "color": "#E5ECF6",
              "width": 0.5
             },
             "pattern": {
              "fillmode": "overlay",
              "size": 10,
              "solidity": 0.2
             }
            },
            "type": "barpolar"
           }
          ],
          "carpet": [
           {
            "aaxis": {
             "endlinecolor": "#2a3f5f",
             "gridcolor": "white",
             "linecolor": "white",
             "minorgridcolor": "white",
             "startlinecolor": "#2a3f5f"
            },
            "baxis": {
             "endlinecolor": "#2a3f5f",
             "gridcolor": "white",
             "linecolor": "white",
             "minorgridcolor": "white",
             "startlinecolor": "#2a3f5f"
            },
            "type": "carpet"
           }
          ],
          "choropleth": [
           {
            "colorbar": {
             "outlinewidth": 0,
             "ticks": ""
            },
            "type": "choropleth"
           }
          ],
          "contour": [
           {
            "colorbar": {
             "outlinewidth": 0,
             "ticks": ""
            },
            "colorscale": [
             [
              0,
              "#0d0887"
             ],
             [
              0.1111111111111111,
              "#46039f"
             ],
             [
              0.2222222222222222,
              "#7201a8"
             ],
             [
              0.3333333333333333,
              "#9c179e"
             ],
             [
              0.4444444444444444,
              "#bd3786"
             ],
             [
              0.5555555555555556,
              "#d8576b"
             ],
             [
              0.6666666666666666,
              "#ed7953"
             ],
             [
              0.7777777777777778,
              "#fb9f3a"
             ],
             [
              0.8888888888888888,
              "#fdca26"
             ],
             [
              1,
              "#f0f921"
             ]
            ],
            "type": "contour"
           }
          ],
          "contourcarpet": [
           {
            "colorbar": {
             "outlinewidth": 0,
             "ticks": ""
            },
            "type": "contourcarpet"
           }
          ],
          "heatmap": [
           {
            "colorbar": {
             "outlinewidth": 0,
             "ticks": ""
            },
            "colorscale": [
             [
              0,
              "#0d0887"
             ],
             [
              0.1111111111111111,
              "#46039f"
             ],
             [
              0.2222222222222222,
              "#7201a8"
             ],
             [
              0.3333333333333333,
              "#9c179e"
             ],
             [
              0.4444444444444444,
              "#bd3786"
             ],
             [
              0.5555555555555556,
              "#d8576b"
             ],
             [
              0.6666666666666666,
              "#ed7953"
             ],
             [
              0.7777777777777778,
              "#fb9f3a"
             ],
             [
              0.8888888888888888,
              "#fdca26"
             ],
             [
              1,
              "#f0f921"
             ]
            ],
            "type": "heatmap"
           }
          ],
          "histogram": [
           {
            "marker": {
             "pattern": {
              "fillmode": "overlay",
              "size": 10,
              "solidity": 0.2
             }
            },
            "type": "histogram"
           }
          ],
          "histogram2d": [
           {
            "colorbar": {
             "outlinewidth": 0,
             "ticks": ""
            },
            "colorscale": [
             [
              0,
              "#0d0887"
             ],
             [
              0.1111111111111111,
              "#46039f"
             ],
             [
              0.2222222222222222,
              "#7201a8"
             ],
             [
              0.3333333333333333,
              "#9c179e"
             ],
             [
              0.4444444444444444,
              "#bd3786"
             ],
             [
              0.5555555555555556,
              "#d8576b"
             ],
             [
              0.6666666666666666,
              "#ed7953"
             ],
             [
              0.7777777777777778,
              "#fb9f3a"
             ],
             [
              0.8888888888888888,
              "#fdca26"
             ],
             [
              1,
              "#f0f921"
             ]
            ],
            "type": "histogram2d"
           }
          ],
          "histogram2dcontour": [
           {
            "colorbar": {
             "outlinewidth": 0,
             "ticks": ""
            },
            "colorscale": [
             [
              0,
              "#0d0887"
             ],
             [
              0.1111111111111111,
              "#46039f"
             ],
             [
              0.2222222222222222,
              "#7201a8"
             ],
             [
              0.3333333333333333,
              "#9c179e"
             ],
             [
              0.4444444444444444,
              "#bd3786"
             ],
             [
              0.5555555555555556,
              "#d8576b"
             ],
             [
              0.6666666666666666,
              "#ed7953"
             ],
             [
              0.7777777777777778,
              "#fb9f3a"
             ],
             [
              0.8888888888888888,
              "#fdca26"
             ],
             [
              1,
              "#f0f921"
             ]
            ],
            "type": "histogram2dcontour"
           }
          ],
          "mesh3d": [
           {
            "colorbar": {
             "outlinewidth": 0,
             "ticks": ""
            },
            "type": "mesh3d"
           }
          ],
          "parcoords": [
           {
            "line": {
             "colorbar": {
              "outlinewidth": 0,
              "ticks": ""
             }
            },
            "type": "parcoords"
           }
          ],
          "pie": [
           {
            "automargin": true,
            "type": "pie"
           }
          ],
          "scatter": [
           {
            "fillpattern": {
             "fillmode": "overlay",
             "size": 10,
             "solidity": 0.2
            },
            "type": "scatter"
           }
          ],
          "scatter3d": [
           {
            "line": {
             "colorbar": {
              "outlinewidth": 0,
              "ticks": ""
             }
            },
            "marker": {
             "colorbar": {
              "outlinewidth": 0,
              "ticks": ""
             }
            },
            "type": "scatter3d"
           }
          ],
          "scattercarpet": [
           {
            "marker": {
             "colorbar": {
              "outlinewidth": 0,
              "ticks": ""
             }
            },
            "type": "scattercarpet"
           }
          ],
          "scattergeo": [
           {
            "marker": {
             "colorbar": {
              "outlinewidth": 0,
              "ticks": ""
             }
            },
            "type": "scattergeo"
           }
          ],
          "scattergl": [
           {
            "marker": {
             "colorbar": {
              "outlinewidth": 0,
              "ticks": ""
             }
            },
            "type": "scattergl"
           }
          ],
          "scattermap": [
           {
            "marker": {
             "colorbar": {
              "outlinewidth": 0,
              "ticks": ""
             }
            },
            "type": "scattermap"
           }
          ],
          "scattermapbox": [
           {
            "marker": {
             "colorbar": {
              "outlinewidth": 0,
              "ticks": ""
             }
            },
            "type": "scattermapbox"
           }
          ],
          "scatterpolar": [
           {
            "marker": {
             "colorbar": {
              "outlinewidth": 0,
              "ticks": ""
             }
            },
            "type": "scatterpolar"
           }
          ],
          "scatterpolargl": [
           {
            "marker": {
             "colorbar": {
              "outlinewidth": 0,
              "ticks": ""
             }
            },
            "type": "scatterpolargl"
           }
          ],
          "scatterternary": [
           {
            "marker": {
             "colorbar": {
              "outlinewidth": 0,
              "ticks": ""
             }
            },
            "type": "scatterternary"
           }
          ],
          "surface": [
           {
            "colorbar": {
             "outlinewidth": 0,
             "ticks": ""
            },
            "colorscale": [
             [
              0,
              "#0d0887"
             ],
             [
              0.1111111111111111,
              "#46039f"
             ],
             [
              0.2222222222222222,
              "#7201a8"
             ],
             [
              0.3333333333333333,
              "#9c179e"
             ],
             [
              0.4444444444444444,
              "#bd3786"
             ],
             [
              0.5555555555555556,
              "#d8576b"
             ],
             [
              0.6666666666666666,
              "#ed7953"
             ],
             [
              0.7777777777777778,
              "#fb9f3a"
             ],
             [
              0.8888888888888888,
              "#fdca26"
             ],
             [
              1,
              "#f0f921"
             ]
            ],
            "type": "surface"
           }
          ],
          "table": [
           {
            "cells": {
             "fill": {
              "color": "#EBF0F8"
             },
             "line": {
              "color": "white"
             }
            },
            "header": {
             "fill": {
              "color": "#C8D4E3"
             },
             "line": {
              "color": "white"
             }
            },
            "type": "table"
           }
          ]
         },
         "layout": {
          "annotationdefaults": {
           "arrowcolor": "#2a3f5f",
           "arrowhead": 0,
           "arrowwidth": 1
          },
          "autotypenumbers": "strict",
          "coloraxis": {
           "colorbar": {
            "outlinewidth": 0,
            "ticks": ""
           }
          },
          "colorscale": {
           "diverging": [
            [
             0,
             "#8e0152"
            ],
            [
             0.1,
             "#c51b7d"
            ],
            [
             0.2,
             "#de77ae"
            ],
            [
             0.3,
             "#f1b6da"
            ],
            [
             0.4,
             "#fde0ef"
            ],
            [
             0.5,
             "#f7f7f7"
            ],
            [
             0.6,
             "#e6f5d0"
            ],
            [
             0.7,
             "#b8e186"
            ],
            [
             0.8,
             "#7fbc41"
            ],
            [
             0.9,
             "#4d9221"
            ],
            [
             1,
             "#276419"
            ]
           ],
           "sequential": [
            [
             0,
             "#0d0887"
            ],
            [
             0.1111111111111111,
             "#46039f"
            ],
            [
             0.2222222222222222,
             "#7201a8"
            ],
            [
             0.3333333333333333,
             "#9c179e"
            ],
            [
             0.4444444444444444,
             "#bd3786"
            ],
            [
             0.5555555555555556,
             "#d8576b"
            ],
            [
             0.6666666666666666,
             "#ed7953"
            ],
            [
             0.7777777777777778,
             "#fb9f3a"
            ],
            [
             0.8888888888888888,
             "#fdca26"
            ],
            [
             1,
             "#f0f921"
            ]
           ],
           "sequentialminus": [
            [
             0,
             "#0d0887"
            ],
            [
             0.1111111111111111,
             "#46039f"
            ],
            [
             0.2222222222222222,
             "#7201a8"
            ],
            [
             0.3333333333333333,
             "#9c179e"
            ],
            [
             0.4444444444444444,
             "#bd3786"
            ],
            [
             0.5555555555555556,
             "#d8576b"
            ],
            [
             0.6666666666666666,
             "#ed7953"
            ],
            [
             0.7777777777777778,
             "#fb9f3a"
            ],
            [
             0.8888888888888888,
             "#fdca26"
            ],
            [
             1,
             "#f0f921"
            ]
           ]
          },
          "colorway": [
           "#636efa",
           "#EF553B",
           "#00cc96",
           "#ab63fa",
           "#FFA15A",
           "#19d3f3",
           "#FF6692",
           "#B6E880",
           "#FF97FF",
           "#FECB52"
          ],
          "font": {
           "color": "#2a3f5f"
          },
          "geo": {
           "bgcolor": "white",
           "lakecolor": "white",
           "landcolor": "#E5ECF6",
           "showlakes": true,
           "showland": true,
           "subunitcolor": "white"
          },
          "hoverlabel": {
           "align": "left"
          },
          "hovermode": "closest",
          "mapbox": {
           "style": "light"
          },
          "paper_bgcolor": "white",
          "plot_bgcolor": "#E5ECF6",
          "polar": {
           "angularaxis": {
            "gridcolor": "white",
            "linecolor": "white",
            "ticks": ""
           },
           "bgcolor": "#E5ECF6",
           "radialaxis": {
            "gridcolor": "white",
            "linecolor": "white",
            "ticks": ""
           }
          },
          "scene": {
           "xaxis": {
            "backgroundcolor": "#E5ECF6",
            "gridcolor": "white",
            "gridwidth": 2,
            "linecolor": "white",
            "showbackground": true,
            "ticks": "",
            "zerolinecolor": "white"
           },
           "yaxis": {
            "backgroundcolor": "#E5ECF6",
            "gridcolor": "white",
            "gridwidth": 2,
            "linecolor": "white",
            "showbackground": true,
            "ticks": "",
            "zerolinecolor": "white"
           },
           "zaxis": {
            "backgroundcolor": "#E5ECF6",
            "gridcolor": "white",
            "gridwidth": 2,
            "linecolor": "white",
            "showbackground": true,
            "ticks": "",
            "zerolinecolor": "white"
           }
          },
          "shapedefaults": {
           "line": {
            "color": "#2a3f5f"
           }
          },
          "ternary": {
           "aaxis": {
            "gridcolor": "white",
            "linecolor": "white",
            "ticks": ""
           },
           "baxis": {
            "gridcolor": "white",
            "linecolor": "white",
            "ticks": ""
           },
           "bgcolor": "#E5ECF6",
           "caxis": {
            "gridcolor": "white",
            "linecolor": "white",
            "ticks": ""
           }
          },
          "title": {
           "x": 0.05
          },
          "xaxis": {
           "automargin": true,
           "gridcolor": "white",
           "linecolor": "white",
           "ticks": "",
           "title": {
            "standoff": 15
           },
           "zerolinecolor": "white",
           "zerolinewidth": 2
          },
          "yaxis": {
           "automargin": true,
           "gridcolor": "white",
           "linecolor": "white",
           "ticks": "",
           "title": {
            "standoff": 15
           },
           "zerolinecolor": "white",
           "zerolinewidth": 2
          }
         }
        },
        "title": {
         "text": "Number of Absence Distribution"
        },
        "xaxis": {
         "anchor": "y",
         "domain": [
          0,
          1
         ],
         "title": {
          "text": "Absences"
         }
        },
        "yaxis": {
         "anchor": "x",
         "domain": [
          0,
          1
         ],
         "title": {
          "text": "count"
         }
        }
       }
      }
     },
     "metadata": {},
     "output_type": "display_data"
    }
   ],
   "source": [
    "fig = px.histogram(df_hr, x=\"Absences\", title=\"Number of Absence Distribution\")\n",
    "fig.show()"
   ]
  },
  {
   "cell_type": "markdown",
   "metadata": {},
   "source": [
    "---\n",
    "\n",
    "### 🎯 Example 8: Salary histograms by gender\n",
    "\n",
    "▶️ Draw overlaid histograms of `Salary` in `df_hr` by `GenderID`.\n"
   ]
  },
  {
   "cell_type": "code",
   "execution_count": 15,
   "metadata": {},
   "outputs": [
    {
     "data": {
      "application/vnd.plotly.v1+json": {
       "config": {
        "plotlyServerURL": "https://plot.ly"
       },
       "data": [
        {
         "name": "Male",
         "opacity": 0.6,
         "type": "histogram",
         "x": {
          "bdata": "u/0AAN/9AACJxgAA4OAAAKx1AQDdugAAjtUAAPMRAQCS5gAAsK0BAJf9AAC+9QAAiQMBANfhAAB/nwEA9NAAABj2AAB3+wAAViIBABP5AADUbAEAv4YBALQYAQDY8AAA3dMAABL9AAAw/QAAQvoAAJX3AABV2wAAwQABACRMAQDv4AAAT4sBAKPjAABf5wAAkPAAAP+0AADdEwEAASIBALQlAQAy9AAApuoAAA/eAAD05gAA0IMBAGAYAQBuAQEAlOEAAKLkAACd2gAAF4QBAKsAAQCzzwAAicgAADHJAADq5wAA1+EAAHPwAABwwAEAGs8AADrvAAAJBQEAZQIBAGjAAABF+QAALNYAANHLAABx8gAAAwoBAPb3AADPfgEAIL8CAADDAACB2AAA3A4BAOP9AABWCgEAxMoAADrvAAANsAAANO0AABTsAADknAEAWvcAAOLuAACHDQEAkNADAPXSAAB5sQAAGgIBALA+AQC8+AAAWzABAJDNAABBygAApQYBAHIeAQBZywAASrkAAFOxAACx8wAANwsBAKXvAADYnAEAdNMAABPYAABa9QAAw/QAAIjZAAAMGwEAd80AAMb3AAD4zgAAz/gAAG3yAACyBAEAws0AAB4ZAQBL9gAAG/gAAG7rAACuswAAYuIAAK0jAQDyIQEAcm0BAJTxAADPtgAAXrUAALB2AQCStgAAy/0AAO7vAAAbXwEAwNQBABJLAgDT7AAAxlABAIa6AABT2wAA68YAAD7GAAB3ywAA0MoAAIb5AADY1gAAO+YAACEEAQAV+gAAsgABANnzAABZuwAA2OoAAML4AABm5wAAUu0AAAoaAQAC5AAAHb0AABPcAAAx9gAAPSQBAAPiAABtwgAAdPIAAIA6AQBixAAA2qIBAM7iAABQ6QAAHuwAAIG9AAAiXQMAzFwBAPavAAA=",
          "dtype": "i4"
         }
        },
        {
         "name": "Female",
         "opacity": 0.6,
         "type": "histogram",
         "x": {
          "bdata": "KvQAAPWXAQDl5wAAAsQAAGu4AACoaAEAVeUAABnNAADq4QAAAtAAAGTHAAC9lAEASCIBAAj/AADS8gAAfC8BAMAbAQBuzgAAUbEBANzrAAD4BAEARgwBAOnnAADFxAAAhPYAAAjnAADTCQEABJoCAGBGAQCpaAEA5tsAAJ/eAACq2QAAgPAAAMXPAAA0egEAO8gAAIgeAgD4vgAADdQAALTrAAA5+gAAdtAAAKEbAQArEgEAULcCALMGAQAZzAAAldYAALcjAQD06QAAIg0BAJ28AADt9QAAzIIBABsYAQD2+gAAlrcAAJETAQCKRAEA9bYAADLFAAAe/wAAPrYAAOX5AACrFgEAFmwBAEZDAQAotAAACPwAAAryAAB2awEA4vwAAEQTAQDa9wAANM4AADv3AADTRgEA+NkAAF/jAABIZQIAqhkBALEiAQDn4AAAcVcBACbFAABItgAAb70AADa5AABEzwAA3QwBALupAQClawEAPNEAANT8AACZtwAAUOgAAKNFAQAh8QAAcfEAADuwAAAa2QAA/MQAAHn3AAC8zwAAeCYCAAdGAgBctQAAd+IAAM9ZAQASVwEA8OwAACAdAQANVgEAoeMAABv2AACr7wAAMfYAAD1rAQD0XwEAaAYBAI37AAARJgEAQIgBAP0oAQCb5AAAkFsBAEPaAABPvQEA7QMBAKdLAQAD5AAAZNcAAGsTAQBlAQEA",
          "dtype": "i4"
         }
        }
       ],
       "layout": {
        "barmode": "overlay",
        "template": {
         "data": {
          "bar": [
           {
            "error_x": {
             "color": "#2a3f5f"
            },
            "error_y": {
             "color": "#2a3f5f"
            },
            "marker": {
             "line": {
              "color": "#E5ECF6",
              "width": 0.5
             },
             "pattern": {
              "fillmode": "overlay",
              "size": 10,
              "solidity": 0.2
             }
            },
            "type": "bar"
           }
          ],
          "barpolar": [
           {
            "marker": {
             "line": {
              "color": "#E5ECF6",
              "width": 0.5
             },
             "pattern": {
              "fillmode": "overlay",
              "size": 10,
              "solidity": 0.2
             }
            },
            "type": "barpolar"
           }
          ],
          "carpet": [
           {
            "aaxis": {
             "endlinecolor": "#2a3f5f",
             "gridcolor": "white",
             "linecolor": "white",
             "minorgridcolor": "white",
             "startlinecolor": "#2a3f5f"
            },
            "baxis": {
             "endlinecolor": "#2a3f5f",
             "gridcolor": "white",
             "linecolor": "white",
             "minorgridcolor": "white",
             "startlinecolor": "#2a3f5f"
            },
            "type": "carpet"
           }
          ],
          "choropleth": [
           {
            "colorbar": {
             "outlinewidth": 0,
             "ticks": ""
            },
            "type": "choropleth"
           }
          ],
          "contour": [
           {
            "colorbar": {
             "outlinewidth": 0,
             "ticks": ""
            },
            "colorscale": [
             [
              0,
              "#0d0887"
             ],
             [
              0.1111111111111111,
              "#46039f"
             ],
             [
              0.2222222222222222,
              "#7201a8"
             ],
             [
              0.3333333333333333,
              "#9c179e"
             ],
             [
              0.4444444444444444,
              "#bd3786"
             ],
             [
              0.5555555555555556,
              "#d8576b"
             ],
             [
              0.6666666666666666,
              "#ed7953"
             ],
             [
              0.7777777777777778,
              "#fb9f3a"
             ],
             [
              0.8888888888888888,
              "#fdca26"
             ],
             [
              1,
              "#f0f921"
             ]
            ],
            "type": "contour"
           }
          ],
          "contourcarpet": [
           {
            "colorbar": {
             "outlinewidth": 0,
             "ticks": ""
            },
            "type": "contourcarpet"
           }
          ],
          "heatmap": [
           {
            "colorbar": {
             "outlinewidth": 0,
             "ticks": ""
            },
            "colorscale": [
             [
              0,
              "#0d0887"
             ],
             [
              0.1111111111111111,
              "#46039f"
             ],
             [
              0.2222222222222222,
              "#7201a8"
             ],
             [
              0.3333333333333333,
              "#9c179e"
             ],
             [
              0.4444444444444444,
              "#bd3786"
             ],
             [
              0.5555555555555556,
              "#d8576b"
             ],
             [
              0.6666666666666666,
              "#ed7953"
             ],
             [
              0.7777777777777778,
              "#fb9f3a"
             ],
             [
              0.8888888888888888,
              "#fdca26"
             ],
             [
              1,
              "#f0f921"
             ]
            ],
            "type": "heatmap"
           }
          ],
          "histogram": [
           {
            "marker": {
             "pattern": {
              "fillmode": "overlay",
              "size": 10,
              "solidity": 0.2
             }
            },
            "type": "histogram"
           }
          ],
          "histogram2d": [
           {
            "colorbar": {
             "outlinewidth": 0,
             "ticks": ""
            },
            "colorscale": [
             [
              0,
              "#0d0887"
             ],
             [
              0.1111111111111111,
              "#46039f"
             ],
             [
              0.2222222222222222,
              "#7201a8"
             ],
             [
              0.3333333333333333,
              "#9c179e"
             ],
             [
              0.4444444444444444,
              "#bd3786"
             ],
             [
              0.5555555555555556,
              "#d8576b"
             ],
             [
              0.6666666666666666,
              "#ed7953"
             ],
             [
              0.7777777777777778,
              "#fb9f3a"
             ],
             [
              0.8888888888888888,
              "#fdca26"
             ],
             [
              1,
              "#f0f921"
             ]
            ],
            "type": "histogram2d"
           }
          ],
          "histogram2dcontour": [
           {
            "colorbar": {
             "outlinewidth": 0,
             "ticks": ""
            },
            "colorscale": [
             [
              0,
              "#0d0887"
             ],
             [
              0.1111111111111111,
              "#46039f"
             ],
             [
              0.2222222222222222,
              "#7201a8"
             ],
             [
              0.3333333333333333,
              "#9c179e"
             ],
             [
              0.4444444444444444,
              "#bd3786"
             ],
             [
              0.5555555555555556,
              "#d8576b"
             ],
             [
              0.6666666666666666,
              "#ed7953"
             ],
             [
              0.7777777777777778,
              "#fb9f3a"
             ],
             [
              0.8888888888888888,
              "#fdca26"
             ],
             [
              1,
              "#f0f921"
             ]
            ],
            "type": "histogram2dcontour"
           }
          ],
          "mesh3d": [
           {
            "colorbar": {
             "outlinewidth": 0,
             "ticks": ""
            },
            "type": "mesh3d"
           }
          ],
          "parcoords": [
           {
            "line": {
             "colorbar": {
              "outlinewidth": 0,
              "ticks": ""
             }
            },
            "type": "parcoords"
           }
          ],
          "pie": [
           {
            "automargin": true,
            "type": "pie"
           }
          ],
          "scatter": [
           {
            "fillpattern": {
             "fillmode": "overlay",
             "size": 10,
             "solidity": 0.2
            },
            "type": "scatter"
           }
          ],
          "scatter3d": [
           {
            "line": {
             "colorbar": {
              "outlinewidth": 0,
              "ticks": ""
             }
            },
            "marker": {
             "colorbar": {
              "outlinewidth": 0,
              "ticks": ""
             }
            },
            "type": "scatter3d"
           }
          ],
          "scattercarpet": [
           {
            "marker": {
             "colorbar": {
              "outlinewidth": 0,
              "ticks": ""
             }
            },
            "type": "scattercarpet"
           }
          ],
          "scattergeo": [
           {
            "marker": {
             "colorbar": {
              "outlinewidth": 0,
              "ticks": ""
             }
            },
            "type": "scattergeo"
           }
          ],
          "scattergl": [
           {
            "marker": {
             "colorbar": {
              "outlinewidth": 0,
              "ticks": ""
             }
            },
            "type": "scattergl"
           }
          ],
          "scattermap": [
           {
            "marker": {
             "colorbar": {
              "outlinewidth": 0,
              "ticks": ""
             }
            },
            "type": "scattermap"
           }
          ],
          "scattermapbox": [
           {
            "marker": {
             "colorbar": {
              "outlinewidth": 0,
              "ticks": ""
             }
            },
            "type": "scattermapbox"
           }
          ],
          "scatterpolar": [
           {
            "marker": {
             "colorbar": {
              "outlinewidth": 0,
              "ticks": ""
             }
            },
            "type": "scatterpolar"
           }
          ],
          "scatterpolargl": [
           {
            "marker": {
             "colorbar": {
              "outlinewidth": 0,
              "ticks": ""
             }
            },
            "type": "scatterpolargl"
           }
          ],
          "scatterternary": [
           {
            "marker": {
             "colorbar": {
              "outlinewidth": 0,
              "ticks": ""
             }
            },
            "type": "scatterternary"
           }
          ],
          "surface": [
           {
            "colorbar": {
             "outlinewidth": 0,
             "ticks": ""
            },
            "colorscale": [
             [
              0,
              "#0d0887"
             ],
             [
              0.1111111111111111,
              "#46039f"
             ],
             [
              0.2222222222222222,
              "#7201a8"
             ],
             [
              0.3333333333333333,
              "#9c179e"
             ],
             [
              0.4444444444444444,
              "#bd3786"
             ],
             [
              0.5555555555555556,
              "#d8576b"
             ],
             [
              0.6666666666666666,
              "#ed7953"
             ],
             [
              0.7777777777777778,
              "#fb9f3a"
             ],
             [
              0.8888888888888888,
              "#fdca26"
             ],
             [
              1,
              "#f0f921"
             ]
            ],
            "type": "surface"
           }
          ],
          "table": [
           {
            "cells": {
             "fill": {
              "color": "#EBF0F8"
             },
             "line": {
              "color": "white"
             }
            },
            "header": {
             "fill": {
              "color": "#C8D4E3"
             },
             "line": {
              "color": "white"
             }
            },
            "type": "table"
           }
          ]
         },
         "layout": {
          "annotationdefaults": {
           "arrowcolor": "#2a3f5f",
           "arrowhead": 0,
           "arrowwidth": 1
          },
          "autotypenumbers": "strict",
          "coloraxis": {
           "colorbar": {
            "outlinewidth": 0,
            "ticks": ""
           }
          },
          "colorscale": {
           "diverging": [
            [
             0,
             "#8e0152"
            ],
            [
             0.1,
             "#c51b7d"
            ],
            [
             0.2,
             "#de77ae"
            ],
            [
             0.3,
             "#f1b6da"
            ],
            [
             0.4,
             "#fde0ef"
            ],
            [
             0.5,
             "#f7f7f7"
            ],
            [
             0.6,
             "#e6f5d0"
            ],
            [
             0.7,
             "#b8e186"
            ],
            [
             0.8,
             "#7fbc41"
            ],
            [
             0.9,
             "#4d9221"
            ],
            [
             1,
             "#276419"
            ]
           ],
           "sequential": [
            [
             0,
             "#0d0887"
            ],
            [
             0.1111111111111111,
             "#46039f"
            ],
            [
             0.2222222222222222,
             "#7201a8"
            ],
            [
             0.3333333333333333,
             "#9c179e"
            ],
            [
             0.4444444444444444,
             "#bd3786"
            ],
            [
             0.5555555555555556,
             "#d8576b"
            ],
            [
             0.6666666666666666,
             "#ed7953"
            ],
            [
             0.7777777777777778,
             "#fb9f3a"
            ],
            [
             0.8888888888888888,
             "#fdca26"
            ],
            [
             1,
             "#f0f921"
            ]
           ],
           "sequentialminus": [
            [
             0,
             "#0d0887"
            ],
            [
             0.1111111111111111,
             "#46039f"
            ],
            [
             0.2222222222222222,
             "#7201a8"
            ],
            [
             0.3333333333333333,
             "#9c179e"
            ],
            [
             0.4444444444444444,
             "#bd3786"
            ],
            [
             0.5555555555555556,
             "#d8576b"
            ],
            [
             0.6666666666666666,
             "#ed7953"
            ],
            [
             0.7777777777777778,
             "#fb9f3a"
            ],
            [
             0.8888888888888888,
             "#fdca26"
            ],
            [
             1,
             "#f0f921"
            ]
           ]
          },
          "colorway": [
           "#636efa",
           "#EF553B",
           "#00cc96",
           "#ab63fa",
           "#FFA15A",
           "#19d3f3",
           "#FF6692",
           "#B6E880",
           "#FF97FF",
           "#FECB52"
          ],
          "font": {
           "color": "#2a3f5f"
          },
          "geo": {
           "bgcolor": "white",
           "lakecolor": "white",
           "landcolor": "#E5ECF6",
           "showlakes": true,
           "showland": true,
           "subunitcolor": "white"
          },
          "hoverlabel": {
           "align": "left"
          },
          "hovermode": "closest",
          "mapbox": {
           "style": "light"
          },
          "paper_bgcolor": "white",
          "plot_bgcolor": "#E5ECF6",
          "polar": {
           "angularaxis": {
            "gridcolor": "white",
            "linecolor": "white",
            "ticks": ""
           },
           "bgcolor": "#E5ECF6",
           "radialaxis": {
            "gridcolor": "white",
            "linecolor": "white",
            "ticks": ""
           }
          },
          "scene": {
           "xaxis": {
            "backgroundcolor": "#E5ECF6",
            "gridcolor": "white",
            "gridwidth": 2,
            "linecolor": "white",
            "showbackground": true,
            "ticks": "",
            "zerolinecolor": "white"
           },
           "yaxis": {
            "backgroundcolor": "#E5ECF6",
            "gridcolor": "white",
            "gridwidth": 2,
            "linecolor": "white",
            "showbackground": true,
            "ticks": "",
            "zerolinecolor": "white"
           },
           "zaxis": {
            "backgroundcolor": "#E5ECF6",
            "gridcolor": "white",
            "gridwidth": 2,
            "linecolor": "white",
            "showbackground": true,
            "ticks": "",
            "zerolinecolor": "white"
           }
          },
          "shapedefaults": {
           "line": {
            "color": "#2a3f5f"
           }
          },
          "ternary": {
           "aaxis": {
            "gridcolor": "white",
            "linecolor": "white",
            "ticks": ""
           },
           "baxis": {
            "gridcolor": "white",
            "linecolor": "white",
            "ticks": ""
           },
           "bgcolor": "#E5ECF6",
           "caxis": {
            "gridcolor": "white",
            "linecolor": "white",
            "ticks": ""
           }
          },
          "title": {
           "x": 0.05
          },
          "xaxis": {
           "automargin": true,
           "gridcolor": "white",
           "linecolor": "white",
           "ticks": "",
           "title": {
            "standoff": 15
           },
           "zerolinecolor": "white",
           "zerolinewidth": 2
          },
          "yaxis": {
           "automargin": true,
           "gridcolor": "white",
           "linecolor": "white",
           "ticks": "",
           "title": {
            "standoff": 15
           },
           "zerolinecolor": "white",
           "zerolinewidth": 2
          }
         }
        }
       }
      }
     },
     "metadata": {},
     "output_type": "display_data"
    }
   ],
   "source": [
    "fig = go.Figure()\n",
    "fig.add_trace(go.Histogram(x=df_hr[df_hr[\"GenderID\"] == 0][\"Salary\"], name=\"Male\"))\n",
    "\n",
    "fig.add_trace(go.Histogram(x=df_hr[df_hr[\"GenderID\"] == 1][\"Salary\"], name=\"Female\"))\n",
    "\n",
    "# Overlay both histograms\n",
    "fig.update_layout(barmode=\"overlay\")\n",
    "\n",
    "# Reduce opacity to see both histograms\n",
    "fig.update_traces(opacity=0.6)\n",
    "fig.show()"
   ]
  },
  {
   "cell_type": "markdown",
   "metadata": {},
   "source": [
    ":::{note} Graph objects\n",
    "\n",
    "This example uses the low-level `graph_objects` interface of plotly to create overlaid histograms. This approach provides more control over the individual traces and their properties.\n",
    "\n",
    "You will not be asked to use `graph_objects` in the exercises and case studies. However, it is good to be aware of this interface as you advance your data visualization skills.\n",
    "\n",
    ":::\n"
   ]
  }
 ],
 "metadata": {
  "kernelspec": {
   "display_name": "gies",
   "language": "python",
   "name": "python3"
  },
  "language_info": {
   "codemirror_mode": {
    "name": "ipython",
    "version": 3
   },
   "file_extension": ".py",
   "mimetype": "text/x-python",
   "name": "python",
   "nbconvert_exporter": "python",
   "pygments_lexer": "ipython3",
   "version": "3.13.0"
  }
 },
 "nbformat": 4,
 "nbformat_minor": 4
}
