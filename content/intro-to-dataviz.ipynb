{
 "cells": [
  {
   "cell_type": "markdown",
   "metadata": {},
   "source": [
    "# Introduction to Data Visualization\n"
   ]
  },
  {
   "cell_type": "markdown",
   "metadata": {},
   "source": [
    "Welcome to the final and **the coolest** part of this course! 😎 I'm not saying that the previous topics aren't cool. But visualizations are the bridges that can connect your data analytics skills with the outside world. The last thing you want to do is print out a large DataFrame to report your findings.\n",
    "\n",
    "Data visualization translates raw data into visual stories that reveal patterns, trends, and relationships. Humans process visual information far faster than text or tables—so effective visualizations help analysts think, communicate, and persuade.\n",
    "\n",
    "> There is no such thing as information overload. There is only bad design.\n",
    ">\n",
    "> -- Edward Tufte\n"
   ]
  },
  {
   "cell_type": "markdown",
   "metadata": {},
   "source": [
    "---\n",
    "\n",
    "## ✨ From Data to Visualization: A Workflow\n",
    "\n",
    "1. **Define the Question**: What decision or hypothesis are you exploring?\n",
    "2. **Acquire and Clean Data**: Remove noise, handle missing values.\n",
    "3. **Choose the Visual Form**: Match data type (categorical, continuous, time-series) to appropriate chart.\n",
    "4. **Design and Annotate**: Add titles, captions, and labels.\n",
    "5. **Iterate**: Test different layouts and get user feedback.\n"
   ]
  },
  {
   "cell_type": "markdown",
   "metadata": {},
   "source": [
    "---\n",
    "\n",
    "## 📊 Types of Data Visualization\n",
    "\n",
    "### Exploratory vs. Explanatory\n",
    "\n",
    "![Exploratory vs Explanatory](images/dataviz/exploratory-vs-explanatory.png)\n",
    "\n",
    "When we visualize data, we are not simply drawing charts - we are searching for _patterns_. Most quantitative insights can be grouped into five broad categories of data patterns. Recognizing these patterns helps analysts choose the most effective visual representation for their message.\n",
    "\n",
    "![Data patterns](images/dataviz/data-patterns.png)\n",
    "\n",
    ":::{seealso} Kevin Hartman's Digital Marketing Analytics: In Theory and In Practice\n",
    "\n",
    "This categorization is from Kevin Hartman's [Digital Marketing Analytics: In Theory and In Practice](https://www.amazon.in/Digital-Marketing-Analytics-Theory-Practice/dp/B08J5BD5RM).\n",
    "\n",
    "He taught digital marketing analytics in Gies iDegree programs, although he now teaches at his alma mater, Loyola University Chicago.\n",
    "\n",
    ":::\n",
    "\n",
    "### 1️⃣ Change\n",
    "\n",
    "- **Definition:** Shows how a variable evolves over time.\n",
    "- **Examples:** Line charts, area charts, or bar charts that track trends.\n",
    "- **Use When:** You want to highlight growth, decline, or seasonal fluctuations.\n",
    "\n",
    "### 2️⃣ Clustering\n",
    "\n",
    "- **Definition:** Reveals natural groupings or segments within data.\n",
    "- **Examples:** Scatter plots or bubble charts showing customer segments, product groups, or behavioral clusters.\n",
    "- **Use When:** You want to explore differences and similarities between observations.\n",
    "\n",
    "### 3️⃣ Relativity\n",
    "\n",
    "- **Definition:** Displays how parts relate to a whole.\n",
    "- **Examples:** Pie charts, donut charts, or stacked bar charts.\n",
    "- **Use When:** You want to emphasize proportions or contribution to a total.\n",
    "\n",
    "### 4️⃣ Ranking\n",
    "\n",
    "- **Definition:** Compares ordered categories to identify leaders or laggards.\n",
    "- **Examples:** Horizontal bar charts, lollipop charts, or sorted column charts.\n",
    "- **Use When:** You want to show the top or bottom performers (e.g., top 10 sales regions).\n",
    "\n",
    "### 5️⃣ Correlation\n",
    "\n",
    "- **Definition:** Illustrates relationships between two or more quantitative variables.\n",
    "- **Examples:** Scatter plots, correlation matrices, or regression lines.\n",
    "- **Use When:** You want to determine whether changes in one variable are associated with changes in another.\n",
    "\n",
    "### 🧪 Why It Matters\n",
    "\n",
    "Identifying these five data patterns helps analysts choose the right visualization for their story. Rather than focusing on chart types first, start by asking:\n",
    "\n",
    "> \"What kind of pattern am I trying to show - change, clustering, relativity, ranking, or correlation?\"\n"
   ]
  },
  {
   "cell_type": "markdown",
   "metadata": {},
   "source": [
    "### 🗂️ Common Chart Types\n",
    "\n",
    "| Chart Type             | Best For                                      | Avoid When                |\n",
    "| ---------------------- | --------------------------------------------- | ------------------------- |\n",
    "| **Bar Chart**          | Comparing categorical values                  | Too many categories       |\n",
    "| **Line Chart**         | Showing trends over time                      | Non-sequential categories |\n",
    "| **Scatter Plot**       | Revealing relationships between two variables | Too few data points       |\n",
    "| **Histogram**          | Showing data distribution                     | Comparing multiple groups |\n",
    "| **Box Plot**           | Summarizing distribution & outliers           | Small samples             |\n",
    "| **Pie / Donut Chart**  | Showing parts of a whole                      | Many small slices         |\n",
    "| **Heatmap**            | Displaying matrix or correlation patterns     | Hard-to-read color scales |\n",
    "| **TreeMap / Sunburst** | Hierarchical proportions                      | Need precise comparisons  |\n"
   ]
  },
  {
   "cell_type": "markdown",
   "metadata": {},
   "source": [
    "---\n",
    "\n",
    "## 🧾 Common Pitfalls in Data Visualization\n",
    "\n",
    "| Pitfall          | Description          | Better Practice           |\n",
    "| ---------------- | -------------------- | ------------------------- |\n",
    "| Overuse of 3D    | Distorts proportions | Stick to 2D               |\n",
    "| Too Many Colors  | Confuses audience    | Use ≤ 5 meaningful colors |\n",
    "| Truncated Y-Axis | Misleads differences | Start at 0 for bar charts |\n",
    "| Dense Dashboards | Cognitive overload   | Prioritize key visuals    |\n",
    "| Unlabeled Axes   | Ambiguous meaning    | Always label variables    |\n",
    "\n",
    ":::{danger} Avoid 3D charts\n",
    "\n",
    "There are very few cases where 3D charts are appropriate, such as a surface plot, or a spatial visualization. Otherwise, 3D charts often distort data and make it harder to interpret. Stick to 2D visualizations for clarity.\n",
    "\n",
    "If you need to show multiple dimensions, consider using color, size, or facets instead of adding a third spatial dimension.\n",
    "\n",
    "If you create a 3D chart because it looks \"cool\", I will track you down and personally make you redo it in 2D. 😡\n",
    "\n",
    ":::\n"
   ]
  },
  {
   "cell_type": "markdown",
   "metadata": {},
   "source": [
    "---\n",
    "\n",
    "## 📚 Dataviz libraries\n",
    "\n",
    "The mostly commonly used library for data visualization in introductory data analytics courses is [**matplotlib**](https://matplotlib.org/), a low-level visualization library for Python. [**seaborn**](https://seaborn.pydata.org/) is another popular library built on top of matplotlib that provides a higher-level interface for creating attractive and informative statistical graphics.\n",
    "\n",
    "Below are some of the most popular and battle-tested data visualization libraries - all of which are free and open source:\n",
    "\n",
    "- [**matplotlib**](https://matplotlib.org/): Low-level visualization library for Python\n",
    "- [**seaborn**](https://seaborn.pydata.org/): High-level visualization library for Python **built on matplotlib**\n",
    "- [**bokeh**](https://bokeh.org/): Interactive visualizations for modern web browsers\n",
    "- [**plotnine**](https://plotnine.readthedocs.io/): Python implementation of [ggplot2](https://ggplot2.tidyverse.org/)\n",
    "- [**plotly**](https://plotly.com/python/): Interactive visualization library supporting Python, JavaScript, and R\n",
    "- [**altair**](https://altair-viz.github.io/): Declarative visualization library for Python based on [Vega](https://vega.github.io/vega/)"
   ]
  },
  {
   "cell_type": "markdown",
   "metadata": {},
   "source": [
    "### 🎨 Plot.ly\n",
    "\n",
    "We'll use [plotly](https://plotly.com/python/), which provides both low-level and high-level interfaces to create publication-ready graphs.\n",
    "\n",
    "![plotly logo image](images/dataviz/plotly-logo.png)\n",
    "\n",
    "To use `plotly` in [JupyterLab](https://jupyterlab.readthedocs.io/en/stable/), install the `jupyterlab` and `anywidget` packages in the same environment as you installed `plotly`, using `pip` inside a terminal:\n",
    "\n",
    "```\n",
    "pip install plotly anywidget\n",
    "```\n",
    "\n",
    "or `conda`:\n",
    "\n",
    "```\n",
    "conda install plotly anywidget\n",
    "```\n",
    "\n",
    "You can use the exclamation mark `!` to run shell commands directly from a Jupyter notebook cell:\n",
    "\n",
    "```\n",
    "!pip install plotly anywidget\n",
    "```\n",
    "\n",
    "or \n",
    "\n",
    "```\n",
    "!conda install plotly anywidget\n",
    "```\n",
    "\n",
    "It's generally a better practice to run installation commands in a terminal rather than inside a Jupyter notebook to avoid environment issues.\n",
    "\n",
    ":::{attention} Install `anywidget`\n",
    "\n",
    "The plotly charts in JupyterLab require the `anywidget` package to render properly. Make sure to install it in the same environment where you have plotly and JupyterLab installed.\n",
    "\n",
    ":::\n",
    "\n",
    ":::{important} Manual fallback\n",
    "\n",
    "If your plots are still not rendering correctly after installing `anywidget`, you may need to manually set the renderer for plotly in JupyterLab using the following code:\n",
    "\n",
    "```python\n",
    "import plotly.io as pio\n",
    "pio.renderers.default = \"notebook\"\n",
    "```\n",
    "\n",
    ":::\n"
   ]
  },
  {
   "cell_type": "markdown",
   "metadata": {},
   "source": [
    "---\n",
    "\n",
    "## 🛠️ Exercises using an HR Dataset\n"
   ]
  },
  {
   "cell_type": "markdown",
   "metadata": {},
   "source": [
    "▶️ Import the following Python packages.\n",
    "\n",
    "1. `pandas`: Use alias `pd`.\n",
    "2. `numpy`: Use alias `np`.\n",
    "3. `plotly.express`: Use alias `px`.\n",
    "4. `plotly.graph_objects`: Use alias `go`.\n"
   ]
  },
  {
   "cell_type": "code",
   "execution_count": 1,
   "metadata": {},
   "outputs": [],
   "source": [
    "import pandas as pd\n",
    "import numpy as np\n",
    "\n",
    "import plotly.graph_objects as go\n",
    "import plotly.express as px"
   ]
  },
  {
   "cell_type": "markdown",
   "metadata": {},
   "source": [
    "▶️ Check the version of plotly installed in your environment.\n"
   ]
  },
  {
   "cell_type": "code",
   "execution_count": 2,
   "metadata": {},
   "outputs": [
    {
     "name": "stdout",
     "output_type": "stream",
     "text": [
      "Plotly version: 6.3.1\n"
     ]
    }
   ],
   "source": [
    "import plotly\n",
    "\n",
    "print(f\"Plotly version: {plotly.__version__}\")"
   ]
  },
  {
   "cell_type": "markdown",
   "metadata": {},
   "source": [
    "Today, we work with an HR Dataset to uncover insights about HR metrics, measurement, and analytics. The data has been downloaded from [https://rpubs.com/rhuebner/hr_codebook_v14](https://rpubs.com/rhuebner/hr_codebook_v14) without any modification.\n"
   ]
  },
  {
   "cell_type": "markdown",
   "metadata": {},
   "source": [
    "▶️ Import the HR Dataset. 🐷👧👨🏻‍🦰👩🏼‍🦳👳🏽‍♂️👩🏾‍🦲🐼.\n"
   ]
  },
  {
   "cell_type": "code",
   "execution_count": 3,
   "metadata": {},
   "outputs": [
    {
     "data": {
      "text/html": [
       "<div>\n",
       "<style scoped>\n",
       "    .dataframe tbody tr th:only-of-type {\n",
       "        vertical-align: middle;\n",
       "    }\n",
       "\n",
       "    .dataframe tbody tr th {\n",
       "        vertical-align: top;\n",
       "    }\n",
       "\n",
       "    .dataframe thead th {\n",
       "        text-align: right;\n",
       "    }\n",
       "</style>\n",
       "<table border=\"1\" class=\"dataframe\">\n",
       "  <thead>\n",
       "    <tr style=\"text-align: right;\">\n",
       "      <th></th>\n",
       "      <th>Employee_Name</th>\n",
       "      <th>EmpID</th>\n",
       "      <th>MarriedID</th>\n",
       "      <th>MaritalStatusID</th>\n",
       "      <th>GenderID</th>\n",
       "      <th>EmpStatusID</th>\n",
       "      <th>DeptID</th>\n",
       "      <th>PerfScoreID</th>\n",
       "      <th>FromDiversityJobFairID</th>\n",
       "      <th>Salary</th>\n",
       "      <th>Termd</th>\n",
       "      <th>PositionID</th>\n",
       "      <th>Position</th>\n",
       "      <th>State</th>\n",
       "      <th>Zip</th>\n",
       "      <th>DOB</th>\n",
       "      <th>Sex</th>\n",
       "      <th>MaritalDesc</th>\n",
       "      <th>CitizenDesc</th>\n",
       "      <th>HispanicLatino</th>\n",
       "      <th>RaceDesc</th>\n",
       "      <th>DateofHire</th>\n",
       "      <th>DateofTermination</th>\n",
       "      <th>TermReason</th>\n",
       "      <th>EmploymentStatus</th>\n",
       "      <th>Department</th>\n",
       "      <th>ManagerName</th>\n",
       "      <th>ManagerID</th>\n",
       "      <th>RecruitmentSource</th>\n",
       "      <th>PerformanceScore</th>\n",
       "      <th>EngagementSurvey</th>\n",
       "      <th>EmpSatisfaction</th>\n",
       "      <th>SpecialProjectsCount</th>\n",
       "      <th>LastPerformanceReview_Date</th>\n",
       "      <th>DaysLateLast30</th>\n",
       "      <th>Absences</th>\n",
       "    </tr>\n",
       "  </thead>\n",
       "  <tbody>\n",
       "    <tr>\n",
       "      <th>0</th>\n",
       "      <td>Adinolfi, Wilson  K</td>\n",
       "      <td>10026</td>\n",
       "      <td>0</td>\n",
       "      <td>0</td>\n",
       "      <td>1</td>\n",
       "      <td>1</td>\n",
       "      <td>5</td>\n",
       "      <td>4</td>\n",
       "      <td>0</td>\n",
       "      <td>62506</td>\n",
       "      <td>0</td>\n",
       "      <td>19</td>\n",
       "      <td>Production Technician I</td>\n",
       "      <td>MA</td>\n",
       "      <td>1960</td>\n",
       "      <td>07/10/83</td>\n",
       "      <td>M</td>\n",
       "      <td>Single</td>\n",
       "      <td>US Citizen</td>\n",
       "      <td>No</td>\n",
       "      <td>White</td>\n",
       "      <td>7/5/2011</td>\n",
       "      <td>NaN</td>\n",
       "      <td>N/A-StillEmployed</td>\n",
       "      <td>Active</td>\n",
       "      <td>Production</td>\n",
       "      <td>Michael Albert</td>\n",
       "      <td>22.0</td>\n",
       "      <td>LinkedIn</td>\n",
       "      <td>Exceeds</td>\n",
       "      <td>4.60</td>\n",
       "      <td>5</td>\n",
       "      <td>0</td>\n",
       "      <td>1/17/2019</td>\n",
       "      <td>0</td>\n",
       "      <td>1</td>\n",
       "    </tr>\n",
       "    <tr>\n",
       "      <th>1</th>\n",
       "      <td>Ait Sidi, Karthikeyan</td>\n",
       "      <td>10084</td>\n",
       "      <td>1</td>\n",
       "      <td>1</td>\n",
       "      <td>1</td>\n",
       "      <td>5</td>\n",
       "      <td>3</td>\n",
       "      <td>3</td>\n",
       "      <td>0</td>\n",
       "      <td>104437</td>\n",
       "      <td>1</td>\n",
       "      <td>27</td>\n",
       "      <td>Sr. DBA</td>\n",
       "      <td>MA</td>\n",
       "      <td>2148</td>\n",
       "      <td>05/05/75</td>\n",
       "      <td>M</td>\n",
       "      <td>Married</td>\n",
       "      <td>US Citizen</td>\n",
       "      <td>No</td>\n",
       "      <td>White</td>\n",
       "      <td>3/30/2015</td>\n",
       "      <td>6/16/2016</td>\n",
       "      <td>career change</td>\n",
       "      <td>Voluntarily Terminated</td>\n",
       "      <td>IT/IS</td>\n",
       "      <td>Simon Roup</td>\n",
       "      <td>4.0</td>\n",
       "      <td>Indeed</td>\n",
       "      <td>Fully Meets</td>\n",
       "      <td>4.96</td>\n",
       "      <td>3</td>\n",
       "      <td>6</td>\n",
       "      <td>2/24/2016</td>\n",
       "      <td>0</td>\n",
       "      <td>17</td>\n",
       "    </tr>\n",
       "    <tr>\n",
       "      <th>2</th>\n",
       "      <td>Akinkuolie, Sarah</td>\n",
       "      <td>10196</td>\n",
       "      <td>1</td>\n",
       "      <td>1</td>\n",
       "      <td>0</td>\n",
       "      <td>5</td>\n",
       "      <td>5</td>\n",
       "      <td>3</td>\n",
       "      <td>0</td>\n",
       "      <td>64955</td>\n",
       "      <td>1</td>\n",
       "      <td>20</td>\n",
       "      <td>Production Technician II</td>\n",
       "      <td>MA</td>\n",
       "      <td>1810</td>\n",
       "      <td>09/19/88</td>\n",
       "      <td>F</td>\n",
       "      <td>Married</td>\n",
       "      <td>US Citizen</td>\n",
       "      <td>No</td>\n",
       "      <td>White</td>\n",
       "      <td>7/5/2011</td>\n",
       "      <td>9/24/2012</td>\n",
       "      <td>hours</td>\n",
       "      <td>Voluntarily Terminated</td>\n",
       "      <td>Production</td>\n",
       "      <td>Kissy Sullivan</td>\n",
       "      <td>20.0</td>\n",
       "      <td>LinkedIn</td>\n",
       "      <td>Fully Meets</td>\n",
       "      <td>3.02</td>\n",
       "      <td>3</td>\n",
       "      <td>0</td>\n",
       "      <td>5/15/2012</td>\n",
       "      <td>0</td>\n",
       "      <td>3</td>\n",
       "    </tr>\n",
       "    <tr>\n",
       "      <th>3</th>\n",
       "      <td>Alagbe,Trina</td>\n",
       "      <td>10088</td>\n",
       "      <td>1</td>\n",
       "      <td>1</td>\n",
       "      <td>0</td>\n",
       "      <td>1</td>\n",
       "      <td>5</td>\n",
       "      <td>3</td>\n",
       "      <td>0</td>\n",
       "      <td>64991</td>\n",
       "      <td>0</td>\n",
       "      <td>19</td>\n",
       "      <td>Production Technician I</td>\n",
       "      <td>MA</td>\n",
       "      <td>1886</td>\n",
       "      <td>09/27/88</td>\n",
       "      <td>F</td>\n",
       "      <td>Married</td>\n",
       "      <td>US Citizen</td>\n",
       "      <td>No</td>\n",
       "      <td>White</td>\n",
       "      <td>1/7/2008</td>\n",
       "      <td>NaN</td>\n",
       "      <td>N/A-StillEmployed</td>\n",
       "      <td>Active</td>\n",
       "      <td>Production</td>\n",
       "      <td>Elijiah Gray</td>\n",
       "      <td>16.0</td>\n",
       "      <td>Indeed</td>\n",
       "      <td>Fully Meets</td>\n",
       "      <td>4.84</td>\n",
       "      <td>5</td>\n",
       "      <td>0</td>\n",
       "      <td>1/3/2019</td>\n",
       "      <td>0</td>\n",
       "      <td>15</td>\n",
       "    </tr>\n",
       "    <tr>\n",
       "      <th>4</th>\n",
       "      <td>Anderson, Carol</td>\n",
       "      <td>10069</td>\n",
       "      <td>0</td>\n",
       "      <td>2</td>\n",
       "      <td>0</td>\n",
       "      <td>5</td>\n",
       "      <td>5</td>\n",
       "      <td>3</td>\n",
       "      <td>0</td>\n",
       "      <td>50825</td>\n",
       "      <td>1</td>\n",
       "      <td>19</td>\n",
       "      <td>Production Technician I</td>\n",
       "      <td>MA</td>\n",
       "      <td>2169</td>\n",
       "      <td>09/08/89</td>\n",
       "      <td>F</td>\n",
       "      <td>Divorced</td>\n",
       "      <td>US Citizen</td>\n",
       "      <td>No</td>\n",
       "      <td>White</td>\n",
       "      <td>7/11/2011</td>\n",
       "      <td>9/6/2016</td>\n",
       "      <td>return to school</td>\n",
       "      <td>Voluntarily Terminated</td>\n",
       "      <td>Production</td>\n",
       "      <td>Webster Butler</td>\n",
       "      <td>39.0</td>\n",
       "      <td>Google Search</td>\n",
       "      <td>Fully Meets</td>\n",
       "      <td>5.00</td>\n",
       "      <td>4</td>\n",
       "      <td>0</td>\n",
       "      <td>2/1/2016</td>\n",
       "      <td>0</td>\n",
       "      <td>2</td>\n",
       "    </tr>\n",
       "    <tr>\n",
       "      <th>...</th>\n",
       "      <td>...</td>\n",
       "      <td>...</td>\n",
       "      <td>...</td>\n",
       "      <td>...</td>\n",
       "      <td>...</td>\n",
       "      <td>...</td>\n",
       "      <td>...</td>\n",
       "      <td>...</td>\n",
       "      <td>...</td>\n",
       "      <td>...</td>\n",
       "      <td>...</td>\n",
       "      <td>...</td>\n",
       "      <td>...</td>\n",
       "      <td>...</td>\n",
       "      <td>...</td>\n",
       "      <td>...</td>\n",
       "      <td>...</td>\n",
       "      <td>...</td>\n",
       "      <td>...</td>\n",
       "      <td>...</td>\n",
       "      <td>...</td>\n",
       "      <td>...</td>\n",
       "      <td>...</td>\n",
       "      <td>...</td>\n",
       "      <td>...</td>\n",
       "      <td>...</td>\n",
       "      <td>...</td>\n",
       "      <td>...</td>\n",
       "      <td>...</td>\n",
       "      <td>...</td>\n",
       "      <td>...</td>\n",
       "      <td>...</td>\n",
       "      <td>...</td>\n",
       "      <td>...</td>\n",
       "      <td>...</td>\n",
       "      <td>...</td>\n",
       "    </tr>\n",
       "    <tr>\n",
       "      <th>306</th>\n",
       "      <td>Woodson, Jason</td>\n",
       "      <td>10135</td>\n",
       "      <td>0</td>\n",
       "      <td>0</td>\n",
       "      <td>1</td>\n",
       "      <td>1</td>\n",
       "      <td>5</td>\n",
       "      <td>3</td>\n",
       "      <td>0</td>\n",
       "      <td>65893</td>\n",
       "      <td>0</td>\n",
       "      <td>20</td>\n",
       "      <td>Production Technician II</td>\n",
       "      <td>MA</td>\n",
       "      <td>1810</td>\n",
       "      <td>05/11/85</td>\n",
       "      <td>M</td>\n",
       "      <td>Single</td>\n",
       "      <td>US Citizen</td>\n",
       "      <td>No</td>\n",
       "      <td>White</td>\n",
       "      <td>7/7/2014</td>\n",
       "      <td>NaN</td>\n",
       "      <td>N/A-StillEmployed</td>\n",
       "      <td>Active</td>\n",
       "      <td>Production</td>\n",
       "      <td>Kissy Sullivan</td>\n",
       "      <td>20.0</td>\n",
       "      <td>LinkedIn</td>\n",
       "      <td>Fully Meets</td>\n",
       "      <td>4.07</td>\n",
       "      <td>4</td>\n",
       "      <td>0</td>\n",
       "      <td>2/28/2019</td>\n",
       "      <td>0</td>\n",
       "      <td>13</td>\n",
       "    </tr>\n",
       "    <tr>\n",
       "      <th>307</th>\n",
       "      <td>Ybarra, Catherine</td>\n",
       "      <td>10301</td>\n",
       "      <td>0</td>\n",
       "      <td>0</td>\n",
       "      <td>0</td>\n",
       "      <td>5</td>\n",
       "      <td>5</td>\n",
       "      <td>1</td>\n",
       "      <td>0</td>\n",
       "      <td>48513</td>\n",
       "      <td>1</td>\n",
       "      <td>19</td>\n",
       "      <td>Production Technician I</td>\n",
       "      <td>MA</td>\n",
       "      <td>2458</td>\n",
       "      <td>05/04/82</td>\n",
       "      <td>F</td>\n",
       "      <td>Single</td>\n",
       "      <td>US Citizen</td>\n",
       "      <td>No</td>\n",
       "      <td>Asian</td>\n",
       "      <td>9/2/2008</td>\n",
       "      <td>9/29/2015</td>\n",
       "      <td>Another position</td>\n",
       "      <td>Voluntarily Terminated</td>\n",
       "      <td>Production</td>\n",
       "      <td>Brannon Miller</td>\n",
       "      <td>12.0</td>\n",
       "      <td>Google Search</td>\n",
       "      <td>PIP</td>\n",
       "      <td>3.20</td>\n",
       "      <td>2</td>\n",
       "      <td>0</td>\n",
       "      <td>9/2/2015</td>\n",
       "      <td>5</td>\n",
       "      <td>4</td>\n",
       "    </tr>\n",
       "    <tr>\n",
       "      <th>308</th>\n",
       "      <td>Zamora, Jennifer</td>\n",
       "      <td>10010</td>\n",
       "      <td>0</td>\n",
       "      <td>0</td>\n",
       "      <td>0</td>\n",
       "      <td>1</td>\n",
       "      <td>3</td>\n",
       "      <td>4</td>\n",
       "      <td>0</td>\n",
       "      <td>220450</td>\n",
       "      <td>0</td>\n",
       "      <td>6</td>\n",
       "      <td>CIO</td>\n",
       "      <td>MA</td>\n",
       "      <td>2067</td>\n",
       "      <td>08/30/79</td>\n",
       "      <td>F</td>\n",
       "      <td>Single</td>\n",
       "      <td>US Citizen</td>\n",
       "      <td>No</td>\n",
       "      <td>White</td>\n",
       "      <td>4/10/2010</td>\n",
       "      <td>NaN</td>\n",
       "      <td>N/A-StillEmployed</td>\n",
       "      <td>Active</td>\n",
       "      <td>IT/IS</td>\n",
       "      <td>Janet King</td>\n",
       "      <td>2.0</td>\n",
       "      <td>Employee Referral</td>\n",
       "      <td>Exceeds</td>\n",
       "      <td>4.60</td>\n",
       "      <td>5</td>\n",
       "      <td>6</td>\n",
       "      <td>2/21/2019</td>\n",
       "      <td>0</td>\n",
       "      <td>16</td>\n",
       "    </tr>\n",
       "    <tr>\n",
       "      <th>309</th>\n",
       "      <td>Zhou, Julia</td>\n",
       "      <td>10043</td>\n",
       "      <td>0</td>\n",
       "      <td>0</td>\n",
       "      <td>0</td>\n",
       "      <td>1</td>\n",
       "      <td>3</td>\n",
       "      <td>3</td>\n",
       "      <td>0</td>\n",
       "      <td>89292</td>\n",
       "      <td>0</td>\n",
       "      <td>9</td>\n",
       "      <td>Data Analyst</td>\n",
       "      <td>MA</td>\n",
       "      <td>2148</td>\n",
       "      <td>02/24/79</td>\n",
       "      <td>F</td>\n",
       "      <td>Single</td>\n",
       "      <td>US Citizen</td>\n",
       "      <td>No</td>\n",
       "      <td>White</td>\n",
       "      <td>3/30/2015</td>\n",
       "      <td>NaN</td>\n",
       "      <td>N/A-StillEmployed</td>\n",
       "      <td>Active</td>\n",
       "      <td>IT/IS</td>\n",
       "      <td>Simon Roup</td>\n",
       "      <td>4.0</td>\n",
       "      <td>Employee Referral</td>\n",
       "      <td>Fully Meets</td>\n",
       "      <td>5.00</td>\n",
       "      <td>3</td>\n",
       "      <td>5</td>\n",
       "      <td>2/1/2019</td>\n",
       "      <td>0</td>\n",
       "      <td>11</td>\n",
       "    </tr>\n",
       "    <tr>\n",
       "      <th>310</th>\n",
       "      <td>Zima, Colleen</td>\n",
       "      <td>10271</td>\n",
       "      <td>0</td>\n",
       "      <td>4</td>\n",
       "      <td>0</td>\n",
       "      <td>1</td>\n",
       "      <td>5</td>\n",
       "      <td>3</td>\n",
       "      <td>0</td>\n",
       "      <td>45046</td>\n",
       "      <td>0</td>\n",
       "      <td>19</td>\n",
       "      <td>Production Technician I</td>\n",
       "      <td>MA</td>\n",
       "      <td>1730</td>\n",
       "      <td>08/17/78</td>\n",
       "      <td>F</td>\n",
       "      <td>Widowed</td>\n",
       "      <td>US Citizen</td>\n",
       "      <td>No</td>\n",
       "      <td>Asian</td>\n",
       "      <td>9/29/2014</td>\n",
       "      <td>NaN</td>\n",
       "      <td>N/A-StillEmployed</td>\n",
       "      <td>Active</td>\n",
       "      <td>Production</td>\n",
       "      <td>David Stanley</td>\n",
       "      <td>14.0</td>\n",
       "      <td>LinkedIn</td>\n",
       "      <td>Fully Meets</td>\n",
       "      <td>4.50</td>\n",
       "      <td>5</td>\n",
       "      <td>0</td>\n",
       "      <td>1/30/2019</td>\n",
       "      <td>0</td>\n",
       "      <td>2</td>\n",
       "    </tr>\n",
       "  </tbody>\n",
       "</table>\n",
       "<p>311 rows × 36 columns</p>\n",
       "</div>"
      ],
      "text/plain": [
       "                Employee_Name  EmpID  MarriedID  MaritalStatusID  GenderID  \\\n",
       "0         Adinolfi, Wilson  K  10026          0                0         1   \n",
       "1    Ait Sidi, Karthikeyan     10084          1                1         1   \n",
       "2           Akinkuolie, Sarah  10196          1                1         0   \n",
       "3                Alagbe,Trina  10088          1                1         0   \n",
       "4            Anderson, Carol   10069          0                2         0   \n",
       "..                        ...    ...        ...              ...       ...   \n",
       "306            Woodson, Jason  10135          0                0         1   \n",
       "307        Ybarra, Catherine   10301          0                0         0   \n",
       "308          Zamora, Jennifer  10010          0                0         0   \n",
       "309               Zhou, Julia  10043          0                0         0   \n",
       "310             Zima, Colleen  10271          0                4         0   \n",
       "\n",
       "     EmpStatusID  DeptID  PerfScoreID  FromDiversityJobFairID  Salary  Termd  \\\n",
       "0              1       5            4                       0   62506      0   \n",
       "1              5       3            3                       0  104437      1   \n",
       "2              5       5            3                       0   64955      1   \n",
       "3              1       5            3                       0   64991      0   \n",
       "4              5       5            3                       0   50825      1   \n",
       "..           ...     ...          ...                     ...     ...    ...   \n",
       "306            1       5            3                       0   65893      0   \n",
       "307            5       5            1                       0   48513      1   \n",
       "308            1       3            4                       0  220450      0   \n",
       "309            1       3            3                       0   89292      0   \n",
       "310            1       5            3                       0   45046      0   \n",
       "\n",
       "     PositionID                  Position State   Zip       DOB Sex  \\\n",
       "0            19   Production Technician I    MA  1960  07/10/83  M    \n",
       "1            27                   Sr. DBA    MA  2148  05/05/75  M    \n",
       "2            20  Production Technician II    MA  1810  09/19/88   F   \n",
       "3            19   Production Technician I    MA  1886  09/27/88   F   \n",
       "4            19   Production Technician I    MA  2169  09/08/89   F   \n",
       "..          ...                       ...   ...   ...       ...  ..   \n",
       "306          20  Production Technician II    MA  1810  05/11/85  M    \n",
       "307          19   Production Technician I    MA  2458  05/04/82   F   \n",
       "308           6                       CIO    MA  2067  08/30/79   F   \n",
       "309           9              Data Analyst    MA  2148  02/24/79   F   \n",
       "310          19   Production Technician I    MA  1730  08/17/78   F   \n",
       "\n",
       "    MaritalDesc CitizenDesc HispanicLatino RaceDesc DateofHire  \\\n",
       "0        Single  US Citizen             No    White   7/5/2011   \n",
       "1       Married  US Citizen             No    White  3/30/2015   \n",
       "2       Married  US Citizen             No    White   7/5/2011   \n",
       "3       Married  US Citizen             No    White   1/7/2008   \n",
       "4      Divorced  US Citizen             No    White  7/11/2011   \n",
       "..          ...         ...            ...      ...        ...   \n",
       "306      Single  US Citizen             No    White   7/7/2014   \n",
       "307      Single  US Citizen             No    Asian   9/2/2008   \n",
       "308      Single  US Citizen             No    White  4/10/2010   \n",
       "309      Single  US Citizen             No    White  3/30/2015   \n",
       "310     Widowed  US Citizen             No    Asian  9/29/2014   \n",
       "\n",
       "    DateofTermination         TermReason        EmploymentStatus  \\\n",
       "0                 NaN  N/A-StillEmployed                  Active   \n",
       "1           6/16/2016      career change  Voluntarily Terminated   \n",
       "2           9/24/2012              hours  Voluntarily Terminated   \n",
       "3                 NaN  N/A-StillEmployed                  Active   \n",
       "4            9/6/2016   return to school  Voluntarily Terminated   \n",
       "..                ...                ...                     ...   \n",
       "306               NaN  N/A-StillEmployed                  Active   \n",
       "307         9/29/2015   Another position  Voluntarily Terminated   \n",
       "308               NaN  N/A-StillEmployed                  Active   \n",
       "309               NaN  N/A-StillEmployed                  Active   \n",
       "310               NaN  N/A-StillEmployed                  Active   \n",
       "\n",
       "            Department     ManagerName  ManagerID  RecruitmentSource  \\\n",
       "0    Production         Michael Albert       22.0           LinkedIn   \n",
       "1                IT/IS      Simon Roup        4.0             Indeed   \n",
       "2    Production         Kissy Sullivan       20.0           LinkedIn   \n",
       "3    Production           Elijiah Gray       16.0             Indeed   \n",
       "4    Production         Webster Butler       39.0      Google Search   \n",
       "..                 ...             ...        ...                ...   \n",
       "306  Production         Kissy Sullivan       20.0           LinkedIn   \n",
       "307  Production         Brannon Miller       12.0      Google Search   \n",
       "308              IT/IS      Janet King        2.0  Employee Referral   \n",
       "309              IT/IS      Simon Roup        4.0  Employee Referral   \n",
       "310  Production          David Stanley       14.0           LinkedIn   \n",
       "\n",
       "    PerformanceScore  EngagementSurvey  EmpSatisfaction  SpecialProjectsCount  \\\n",
       "0            Exceeds              4.60                5                     0   \n",
       "1        Fully Meets              4.96                3                     6   \n",
       "2        Fully Meets              3.02                3                     0   \n",
       "3        Fully Meets              4.84                5                     0   \n",
       "4        Fully Meets              5.00                4                     0   \n",
       "..               ...               ...              ...                   ...   \n",
       "306      Fully Meets              4.07                4                     0   \n",
       "307              PIP              3.20                2                     0   \n",
       "308          Exceeds              4.60                5                     6   \n",
       "309      Fully Meets              5.00                3                     5   \n",
       "310      Fully Meets              4.50                5                     0   \n",
       "\n",
       "    LastPerformanceReview_Date  DaysLateLast30  Absences  \n",
       "0                    1/17/2019               0         1  \n",
       "1                    2/24/2016               0        17  \n",
       "2                    5/15/2012               0         3  \n",
       "3                     1/3/2019               0        15  \n",
       "4                     2/1/2016               0         2  \n",
       "..                         ...             ...       ...  \n",
       "306                  2/28/2019               0        13  \n",
       "307                   9/2/2015               5         4  \n",
       "308                  2/21/2019               0        16  \n",
       "309                   2/1/2019               0        11  \n",
       "310                  1/30/2019               0         2  \n",
       "\n",
       "[311 rows x 36 columns]"
      ]
     },
     "metadata": {},
     "output_type": "display_data"
    }
   ],
   "source": [
    "# Display all columns\n",
    "pd.set_option(\"display.max_columns\", 50)\n",
    "\n",
    "df_hr = pd.read_csv(\"https://github.com/bdi475/datasets/raw/main/HR-dataset-v14.csv\")\n",
    "\n",
    "display(df_hr)"
   ]
  },
  {
   "cell_type": "markdown",
   "metadata": {},
   "source": [
    "---\n",
    "\n",
    "### 📦 Box Plot\n",
    "\n",
    "Box plots divide the data into 4 sections that each contain 25% of the data. It is useful to quickly identify the distribution of the data based on Q1, Q2 (median), and Q3.\n",
    "\n",
    "![box plot explanation](images/dataviz/box-plot-explanation.png)\n"
   ]
  },
  {
   "cell_type": "markdown",
   "metadata": {},
   "source": [
    "▶️ Create a simple box plot of 12 different GPAs. NumPy is used here to calculate the statistical figures.\n"
   ]
  },
  {
   "cell_type": "code",
   "execution_count": 4,
   "metadata": {},
   "outputs": [
    {
     "data": {
      "text/plain": [
       "array([3.33, 2.67, 3.  , 3.67, 3.67, 2.33, 3.  , 3.  , 2.67, 4.  , 3.33,\n",
       "       2.67, 4.  ])"
      ]
     },
     "execution_count": 4,
     "metadata": {},
     "output_type": "execute_result"
    }
   ],
   "source": [
    "gpa = np.array(\n",
    "    [3.33, 2.67, 3.0, 3.67, 3.67, 2.33, 3.0, 3.0, 2.67, 4.0, 3.33, 2.67, 4.0]\n",
    ")\n",
    "gpa"
   ]
  },
  {
   "cell_type": "code",
   "execution_count": 5,
   "metadata": {},
   "outputs": [
    {
     "data": {
      "application/vnd.plotly.v1+json": {
       "config": {
        "plotlyServerURL": "https://plot.ly"
       },
       "data": [
        {
         "alignmentgroup": "True",
         "hovertemplate": "x=%{x}<extra></extra>",
         "legendgroup": "",
         "marker": {
          "color": "#636efa"
         },
         "name": "",
         "notched": false,
         "offsetgroup": "",
         "orientation": "h",
         "showlegend": false,
         "type": "box",
         "x": {
          "bdata": "pHA9CtejCkBcj8L1KFwFQAAAAAAAAAhAXI/C9ShcDUBcj8L1KFwNQKRwPQrXowJAAAAAAAAACEAAAAAAAAAIQFyPwvUoXAVAAAAAAAAAEECkcD0K16MKQFyPwvUoXAVAAAAAAAAAEEA=",
          "dtype": "f8"
         },
         "x0": " ",
         "xaxis": "x",
         "y0": " ",
         "yaxis": "y"
        }
       ],
       "layout": {
        "boxmode": "group",
        "legend": {
         "tracegroupgap": 0
        },
        "template": {
         "data": {
          "bar": [
           {
            "error_x": {
             "color": "#2a3f5f"
            },
            "error_y": {
             "color": "#2a3f5f"
            },
            "marker": {
             "line": {
              "color": "#E5ECF6",
              "width": 0.5
             },
             "pattern": {
              "fillmode": "overlay",
              "size": 10,
              "solidity": 0.2
             }
            },
            "type": "bar"
           }
          ],
          "barpolar": [
           {
            "marker": {
             "line": {
              "color": "#E5ECF6",
              "width": 0.5
             },
             "pattern": {
              "fillmode": "overlay",
              "size": 10,
              "solidity": 0.2
             }
            },
            "type": "barpolar"
           }
          ],
          "carpet": [
           {
            "aaxis": {
             "endlinecolor": "#2a3f5f",
             "gridcolor": "white",
             "linecolor": "white",
             "minorgridcolor": "white",
             "startlinecolor": "#2a3f5f"
            },
            "baxis": {
             "endlinecolor": "#2a3f5f",
             "gridcolor": "white",
             "linecolor": "white",
             "minorgridcolor": "white",
             "startlinecolor": "#2a3f5f"
            },
            "type": "carpet"
           }
          ],
          "choropleth": [
           {
            "colorbar": {
             "outlinewidth": 0,
             "ticks": ""
            },
            "type": "choropleth"
           }
          ],
          "contour": [
           {
            "colorbar": {
             "outlinewidth": 0,
             "ticks": ""
            },
            "colorscale": [
             [
              0,
              "#0d0887"
             ],
             [
              0.1111111111111111,
              "#46039f"
             ],
             [
              0.2222222222222222,
              "#7201a8"
             ],
             [
              0.3333333333333333,
              "#9c179e"
             ],
             [
              0.4444444444444444,
              "#bd3786"
             ],
             [
              0.5555555555555556,
              "#d8576b"
             ],
             [
              0.6666666666666666,
              "#ed7953"
             ],
             [
              0.7777777777777778,
              "#fb9f3a"
             ],
             [
              0.8888888888888888,
              "#fdca26"
             ],
             [
              1,
              "#f0f921"
             ]
            ],
            "type": "contour"
           }
          ],
          "contourcarpet": [
           {
            "colorbar": {
             "outlinewidth": 0,
             "ticks": ""
            },
            "type": "contourcarpet"
           }
          ],
          "heatmap": [
           {
            "colorbar": {
             "outlinewidth": 0,
             "ticks": ""
            },
            "colorscale": [
             [
              0,
              "#0d0887"
             ],
             [
              0.1111111111111111,
              "#46039f"
             ],
             [
              0.2222222222222222,
              "#7201a8"
             ],
             [
              0.3333333333333333,
              "#9c179e"
             ],
             [
              0.4444444444444444,
              "#bd3786"
             ],
             [
              0.5555555555555556,
              "#d8576b"
             ],
             [
              0.6666666666666666,
              "#ed7953"
             ],
             [
              0.7777777777777778,
              "#fb9f3a"
             ],
             [
              0.8888888888888888,
              "#fdca26"
             ],
             [
              1,
              "#f0f921"
             ]
            ],
            "type": "heatmap"
           }
          ],
          "histogram": [
           {
            "marker": {
             "pattern": {
              "fillmode": "overlay",
              "size": 10,
              "solidity": 0.2
             }
            },
            "type": "histogram"
           }
          ],
          "histogram2d": [
           {
            "colorbar": {
             "outlinewidth": 0,
             "ticks": ""
            },
            "colorscale": [
             [
              0,
              "#0d0887"
             ],
             [
              0.1111111111111111,
              "#46039f"
             ],
             [
              0.2222222222222222,
              "#7201a8"
             ],
             [
              0.3333333333333333,
              "#9c179e"
             ],
             [
              0.4444444444444444,
              "#bd3786"
             ],
             [
              0.5555555555555556,
              "#d8576b"
             ],
             [
              0.6666666666666666,
              "#ed7953"
             ],
             [
              0.7777777777777778,
              "#fb9f3a"
             ],
             [
              0.8888888888888888,
              "#fdca26"
             ],
             [
              1,
              "#f0f921"
             ]
            ],
            "type": "histogram2d"
           }
          ],
          "histogram2dcontour": [
           {
            "colorbar": {
             "outlinewidth": 0,
             "ticks": ""
            },
            "colorscale": [
             [
              0,
              "#0d0887"
             ],
             [
              0.1111111111111111,
              "#46039f"
             ],
             [
              0.2222222222222222,
              "#7201a8"
             ],
             [
              0.3333333333333333,
              "#9c179e"
             ],
             [
              0.4444444444444444,
              "#bd3786"
             ],
             [
              0.5555555555555556,
              "#d8576b"
             ],
             [
              0.6666666666666666,
              "#ed7953"
             ],
             [
              0.7777777777777778,
              "#fb9f3a"
             ],
             [
              0.8888888888888888,
              "#fdca26"
             ],
             [
              1,
              "#f0f921"
             ]
            ],
            "type": "histogram2dcontour"
           }
          ],
          "mesh3d": [
           {
            "colorbar": {
             "outlinewidth": 0,
             "ticks": ""
            },
            "type": "mesh3d"
           }
          ],
          "parcoords": [
           {
            "line": {
             "colorbar": {
              "outlinewidth": 0,
              "ticks": ""
             }
            },
            "type": "parcoords"
           }
          ],
          "pie": [
           {
            "automargin": true,
            "type": "pie"
           }
          ],
          "scatter": [
           {
            "fillpattern": {
             "fillmode": "overlay",
             "size": 10,
             "solidity": 0.2
            },
            "type": "scatter"
           }
          ],
          "scatter3d": [
           {
            "line": {
             "colorbar": {
              "outlinewidth": 0,
              "ticks": ""
             }
            },
            "marker": {
             "colorbar": {
              "outlinewidth": 0,
              "ticks": ""
             }
            },
            "type": "scatter3d"
           }
          ],
          "scattercarpet": [
           {
            "marker": {
             "colorbar": {
              "outlinewidth": 0,
              "ticks": ""
             }
            },
            "type": "scattercarpet"
           }
          ],
          "scattergeo": [
           {
            "marker": {
             "colorbar": {
              "outlinewidth": 0,
              "ticks": ""
             }
            },
            "type": "scattergeo"
           }
          ],
          "scattergl": [
           {
            "marker": {
             "colorbar": {
              "outlinewidth": 0,
              "ticks": ""
             }
            },
            "type": "scattergl"
           }
          ],
          "scattermap": [
           {
            "marker": {
             "colorbar": {
              "outlinewidth": 0,
              "ticks": ""
             }
            },
            "type": "scattermap"
           }
          ],
          "scattermapbox": [
           {
            "marker": {
             "colorbar": {
              "outlinewidth": 0,
              "ticks": ""
             }
            },
            "type": "scattermapbox"
           }
          ],
          "scatterpolar": [
           {
            "marker": {
             "colorbar": {
              "outlinewidth": 0,
              "ticks": ""
             }
            },
            "type": "scatterpolar"
           }
          ],
          "scatterpolargl": [
           {
            "marker": {
             "colorbar": {
              "outlinewidth": 0,
              "ticks": ""
             }
            },
            "type": "scatterpolargl"
           }
          ],
          "scatterternary": [
           {
            "marker": {
             "colorbar": {
              "outlinewidth": 0,
              "ticks": ""
             }
            },
            "type": "scatterternary"
           }
          ],
          "surface": [
           {
            "colorbar": {
             "outlinewidth": 0,
             "ticks": ""
            },
            "colorscale": [
             [
              0,
              "#0d0887"
             ],
             [
              0.1111111111111111,
              "#46039f"
             ],
             [
              0.2222222222222222,
              "#7201a8"
             ],
             [
              0.3333333333333333,
              "#9c179e"
             ],
             [
              0.4444444444444444,
              "#bd3786"
             ],
             [
              0.5555555555555556,
              "#d8576b"
             ],
             [
              0.6666666666666666,
              "#ed7953"
             ],
             [
              0.7777777777777778,
              "#fb9f3a"
             ],
             [
              0.8888888888888888,
              "#fdca26"
             ],
             [
              1,
              "#f0f921"
             ]
            ],
            "type": "surface"
           }
          ],
          "table": [
           {
            "cells": {
             "fill": {
              "color": "#EBF0F8"
             },
             "line": {
              "color": "white"
             }
            },
            "header": {
             "fill": {
              "color": "#C8D4E3"
             },
             "line": {
              "color": "white"
             }
            },
            "type": "table"
           }
          ]
         },
         "layout": {
          "annotationdefaults": {
           "arrowcolor": "#2a3f5f",
           "arrowhead": 0,
           "arrowwidth": 1
          },
          "autotypenumbers": "strict",
          "coloraxis": {
           "colorbar": {
            "outlinewidth": 0,
            "ticks": ""
           }
          },
          "colorscale": {
           "diverging": [
            [
             0,
             "#8e0152"
            ],
            [
             0.1,
             "#c51b7d"
            ],
            [
             0.2,
             "#de77ae"
            ],
            [
             0.3,
             "#f1b6da"
            ],
            [
             0.4,
             "#fde0ef"
            ],
            [
             0.5,
             "#f7f7f7"
            ],
            [
             0.6,
             "#e6f5d0"
            ],
            [
             0.7,
             "#b8e186"
            ],
            [
             0.8,
             "#7fbc41"
            ],
            [
             0.9,
             "#4d9221"
            ],
            [
             1,
             "#276419"
            ]
           ],
           "sequential": [
            [
             0,
             "#0d0887"
            ],
            [
             0.1111111111111111,
             "#46039f"
            ],
            [
             0.2222222222222222,
             "#7201a8"
            ],
            [
             0.3333333333333333,
             "#9c179e"
            ],
            [
             0.4444444444444444,
             "#bd3786"
            ],
            [
             0.5555555555555556,
             "#d8576b"
            ],
            [
             0.6666666666666666,
             "#ed7953"
            ],
            [
             0.7777777777777778,
             "#fb9f3a"
            ],
            [
             0.8888888888888888,
             "#fdca26"
            ],
            [
             1,
             "#f0f921"
            ]
           ],
           "sequentialminus": [
            [
             0,
             "#0d0887"
            ],
            [
             0.1111111111111111,
             "#46039f"
            ],
            [
             0.2222222222222222,
             "#7201a8"
            ],
            [
             0.3333333333333333,
             "#9c179e"
            ],
            [
             0.4444444444444444,
             "#bd3786"
            ],
            [
             0.5555555555555556,
             "#d8576b"
            ],
            [
             0.6666666666666666,
             "#ed7953"
            ],
            [
             0.7777777777777778,
             "#fb9f3a"
            ],
            [
             0.8888888888888888,
             "#fdca26"
            ],
            [
             1,
             "#f0f921"
            ]
           ]
          },
          "colorway": [
           "#636efa",
           "#EF553B",
           "#00cc96",
           "#ab63fa",
           "#FFA15A",
           "#19d3f3",
           "#FF6692",
           "#B6E880",
           "#FF97FF",
           "#FECB52"
          ],
          "font": {
           "color": "#2a3f5f"
          },
          "geo": {
           "bgcolor": "white",
           "lakecolor": "white",
           "landcolor": "#E5ECF6",
           "showlakes": true,
           "showland": true,
           "subunitcolor": "white"
          },
          "hoverlabel": {
           "align": "left"
          },
          "hovermode": "closest",
          "mapbox": {
           "style": "light"
          },
          "paper_bgcolor": "white",
          "plot_bgcolor": "#E5ECF6",
          "polar": {
           "angularaxis": {
            "gridcolor": "white",
            "linecolor": "white",
            "ticks": ""
           },
           "bgcolor": "#E5ECF6",
           "radialaxis": {
            "gridcolor": "white",
            "linecolor": "white",
            "ticks": ""
           }
          },
          "scene": {
           "xaxis": {
            "backgroundcolor": "#E5ECF6",
            "gridcolor": "white",
            "gridwidth": 2,
            "linecolor": "white",
            "showbackground": true,
            "ticks": "",
            "zerolinecolor": "white"
           },
           "yaxis": {
            "backgroundcolor": "#E5ECF6",
            "gridcolor": "white",
            "gridwidth": 2,
            "linecolor": "white",
            "showbackground": true,
            "ticks": "",
            "zerolinecolor": "white"
           },
           "zaxis": {
            "backgroundcolor": "#E5ECF6",
            "gridcolor": "white",
            "gridwidth": 2,
            "linecolor": "white",
            "showbackground": true,
            "ticks": "",
            "zerolinecolor": "white"
           }
          },
          "shapedefaults": {
           "line": {
            "color": "#2a3f5f"
           }
          },
          "ternary": {
           "aaxis": {
            "gridcolor": "white",
            "linecolor": "white",
            "ticks": ""
           },
           "baxis": {
            "gridcolor": "white",
            "linecolor": "white",
            "ticks": ""
           },
           "bgcolor": "#E5ECF6",
           "caxis": {
            "gridcolor": "white",
            "linecolor": "white",
            "ticks": ""
           }
          },
          "title": {
           "x": 0.05
          },
          "xaxis": {
           "automargin": true,
           "gridcolor": "white",
           "linecolor": "white",
           "ticks": "",
           "title": {
            "standoff": 15
           },
           "zerolinecolor": "white",
           "zerolinewidth": 2
          },
          "yaxis": {
           "automargin": true,
           "gridcolor": "white",
           "linecolor": "white",
           "ticks": "",
           "title": {
            "standoff": 15
           },
           "zerolinecolor": "white",
           "zerolinewidth": 2
          }
         }
        },
        "title": {
         "text": "GPA Distribution (Horizontal Box Plot)"
        },
        "xaxis": {
         "anchor": "y",
         "domain": [
          0,
          1
         ],
         "title": {
          "text": "x"
         }
        },
        "yaxis": {
         "anchor": "x",
         "domain": [
          0,
          1
         ]
        }
       }
      }
     },
     "metadata": {},
     "output_type": "display_data"
    }
   ],
   "source": [
    "fig = px.box(x=gpa, title=\"GPA Distribution (Horizontal Box Plot)\")\n",
    "fig.show()"
   ]
  },
  {
   "cell_type": "code",
   "execution_count": 6,
   "metadata": {},
   "outputs": [
    {
     "name": "stdout",
     "output_type": "stream",
     "text": [
      "Mean: 3.18\n",
      "Median: 3.0\n",
      "Q1: 2.67\n",
      "Q3: 3.67\n",
      "IQR: 1.0\n"
     ]
    }
   ],
   "source": [
    "print(f\"Mean: {np.mean(gpa)}\")\n",
    "print(f\"Median: {np.median(gpa)}\")\n",
    "print(f\"Q1: {np.quantile(gpa, 0.25)}\")\n",
    "print(f\"Q3: {np.quantile(gpa, 0.75)}\")\n",
    "print(f\"IQR: {np.quantile(gpa, 0.75) - np.quantile(gpa, 0.25)}\")"
   ]
  },
  {
   "cell_type": "markdown",
   "metadata": {},
   "source": [
    "**🗺️ Findings**\n",
    "\n",
    "- Median is `3`.\n",
    "- Minimum is `2.33`.\n",
    "- Maximum is `4`.\n",
    "- Interquartile range is `1`.\n",
    "  - You can calculate this value by subtracting Q1 from Q3: `3.67 - 2.67`.\n",
    "- There is a positive skew.\n",
    "  - This is also shown by comparing the mean and the median.\n"
   ]
  },
  {
   "cell_type": "markdown",
   "metadata": {},
   "source": [
    "---\n",
    "\n",
    "### 🎯 Example 1: Salary box plot (vertical)\n",
    "\n",
    "▶️ Draw a vertical box plot of `Salary` in `df_hr`.\n"
   ]
  },
  {
   "cell_type": "code",
   "execution_count": 7,
   "metadata": {},
   "outputs": [
    {
     "data": {
      "application/vnd.plotly.v1+json": {
       "config": {
        "plotlyServerURL": "https://plot.ly"
       },
       "data": [
        {
         "alignmentgroup": "True",
         "hovertemplate": "Salary=%{y}<extra></extra>",
         "legendgroup": "",
         "marker": {
          "color": "#636efa"
         },
         "name": "",
         "notched": false,
         "offsetgroup": "",
         "orientation": "v",
         "showlegend": false,
         "type": "box",
         "x0": " ",
         "xaxis": "x",
         "y": {
          "bdata": "KvQAAPWXAQC7/QAA3/0AAInGAADg4AAArHUBAOXnAADdugAAAsQAAI7VAABruAAAqGgBAFXlAAAZzQAA6uEAAPMRAQCS5gAAsK0BAALQAABkxwAAl/0AAL71AACJAwEA1+EAAL2UAQB/nwEASCIBAPTQAAAY9gAACP8AAHf7AABWIgEAE/kAANLyAAB8LwEAwBsBANRsAQBuzgAAv4YBALQYAQDY8AAAUbEBAN3TAADc6wAA+AQBABL9AAAw/QAARgwBAEL6AADp5wAAxcQAAIT2AAAI5wAA0wkBAASaAgCV9wAAYEYBAFXbAACpaAEAwQABACRMAQDv4AAA5tsAAJ/eAACq2QAAT4sBAIDwAACj4wAAxc8AADR6AQA7yAAAX+cAAJDwAAD/tAAA3RMBAIgeAgABIgEAtCUBADL0AACm6gAA+L4AAA3UAAAP3gAAtOsAAPTmAADQgwEAYBgBAG4BAQCU4QAAOfoAAHbQAACi5AAAoRsBAJ3aAAArEgEAULcCABeEAQCzBgEAqwABABnMAACzzwAAicgAADHJAADq5wAAldYAANfhAABz8AAAcMABALcjAQAazwAA9OkAACINAQA67wAACQUBAJ28AABlAgEAaMAAAO31AABF+QAAzIIBABsYAQAs1gAA9voAANHLAABx8gAAlrcAAAMKAQCREwEA9vcAAM9+AQAgvwIAAMMAAIHYAADcDgEA4/0AAFYKAQCKRAEAxMoAADrvAAANsAAANO0AABTsAAD1tgAA5JwBAFr3AADi7gAAhw0BADLFAAAe/wAAkNADAPXSAAB5sQAAPrYAAOX5AACrFgEAFmwBAEZDAQAaAgEAKLQAAAj8AAAK8gAAsD4BALz4AAB2awEA4vwAAEQTAQBbMAEAkM0AANr3AABBygAApQYBAHIeAQBZywAASrkAADTOAABTsQAAsfMAADcLAQCl7wAA2JwBAHTTAAAT2AAAWvUAADv3AADD9AAAiNkAANNGAQD42QAAX+MAAEhlAgAMGwEAqhkBAHfNAADG9wAAsSIBAOfgAABxVwEAJsUAAEi2AABvvQAA+M4AAM/4AABt8gAAsgQBAMLNAAAeGQEAS/YAADa5AABEzwAA3QwBABv4AAC7qQEApWsBADzRAABu6wAArrMAAGLiAACtIwEA8iEBAHJtAQDU/AAAmbcAAJTxAADPtgAAUOgAAF61AACjRQEAsHYBACHxAABx8QAAO7AAAJK2AADL/QAAGtkAAPzEAADu7wAAefcAABtfAQDA1AEAEksCANPsAAC8zwAAeCYCAAdGAgDGUAEAhroAAFy1AAB34gAAz1kBAFPbAADrxgAAPsYAAHfLAAASVwEA0MoAAIb5AADw7AAAIB0BANjWAAA75gAAIQQBAA1WAQAV+gAAsgABANnzAABZuwAAoeMAABv2AACr7wAA2OoAAML4AAAx9gAAZucAAD1rAQD0XwEAUu0AAAoaAQAC5AAAHb0AAGgGAQAT3AAAjfsAADH2AAARJgEAQIgBAD0kAQD9KAEAA+IAAJvkAACQWwEAQ9oAAE+9AQBtwgAAdPIAAO0DAQCAOgEAYsQAAKdLAQDaogEAA+QAAGTXAADO4gAAUOkAAGsTAQAe7AAAZQEBAIG9AAAiXQMAzFwBAPavAAA=",
          "dtype": "i4"
         },
         "y0": " ",
         "yaxis": "y"
        }
       ],
       "layout": {
        "boxmode": "group",
        "legend": {
         "tracegroupgap": 0
        },
        "template": {
         "data": {
          "bar": [
           {
            "error_x": {
             "color": "#2a3f5f"
            },
            "error_y": {
             "color": "#2a3f5f"
            },
            "marker": {
             "line": {
              "color": "#E5ECF6",
              "width": 0.5
             },
             "pattern": {
              "fillmode": "overlay",
              "size": 10,
              "solidity": 0.2
             }
            },
            "type": "bar"
           }
          ],
          "barpolar": [
           {
            "marker": {
             "line": {
              "color": "#E5ECF6",
              "width": 0.5
             },
             "pattern": {
              "fillmode": "overlay",
              "size": 10,
              "solidity": 0.2
             }
            },
            "type": "barpolar"
           }
          ],
          "carpet": [
           {
            "aaxis": {
             "endlinecolor": "#2a3f5f",
             "gridcolor": "white",
             "linecolor": "white",
             "minorgridcolor": "white",
             "startlinecolor": "#2a3f5f"
            },
            "baxis": {
             "endlinecolor": "#2a3f5f",
             "gridcolor": "white",
             "linecolor": "white",
             "minorgridcolor": "white",
             "startlinecolor": "#2a3f5f"
            },
            "type": "carpet"
           }
          ],
          "choropleth": [
           {
            "colorbar": {
             "outlinewidth": 0,
             "ticks": ""
            },
            "type": "choropleth"
           }
          ],
          "contour": [
           {
            "colorbar": {
             "outlinewidth": 0,
             "ticks": ""
            },
            "colorscale": [
             [
              0,
              "#0d0887"
             ],
             [
              0.1111111111111111,
              "#46039f"
             ],
             [
              0.2222222222222222,
              "#7201a8"
             ],
             [
              0.3333333333333333,
              "#9c179e"
             ],
             [
              0.4444444444444444,
              "#bd3786"
             ],
             [
              0.5555555555555556,
              "#d8576b"
             ],
             [
              0.6666666666666666,
              "#ed7953"
             ],
             [
              0.7777777777777778,
              "#fb9f3a"
             ],
             [
              0.8888888888888888,
              "#fdca26"
             ],
             [
              1,
              "#f0f921"
             ]
            ],
            "type": "contour"
           }
          ],
          "contourcarpet": [
           {
            "colorbar": {
             "outlinewidth": 0,
             "ticks": ""
            },
            "type": "contourcarpet"
           }
          ],
          "heatmap": [
           {
            "colorbar": {
             "outlinewidth": 0,
             "ticks": ""
            },
            "colorscale": [
             [
              0,
              "#0d0887"
             ],
             [
              0.1111111111111111,
              "#46039f"
             ],
             [
              0.2222222222222222,
              "#7201a8"
             ],
             [
              0.3333333333333333,
              "#9c179e"
             ],
             [
              0.4444444444444444,
              "#bd3786"
             ],
             [
              0.5555555555555556,
              "#d8576b"
             ],
             [
              0.6666666666666666,
              "#ed7953"
             ],
             [
              0.7777777777777778,
              "#fb9f3a"
             ],
             [
              0.8888888888888888,
              "#fdca26"
             ],
             [
              1,
              "#f0f921"
             ]
            ],
            "type": "heatmap"
           }
          ],
          "histogram": [
           {
            "marker": {
             "pattern": {
              "fillmode": "overlay",
              "size": 10,
              "solidity": 0.2
             }
            },
            "type": "histogram"
           }
          ],
          "histogram2d": [
           {
            "colorbar": {
             "outlinewidth": 0,
             "ticks": ""
            },
            "colorscale": [
             [
              0,
              "#0d0887"
             ],
             [
              0.1111111111111111,
              "#46039f"
             ],
             [
              0.2222222222222222,
              "#7201a8"
             ],
             [
              0.3333333333333333,
              "#9c179e"
             ],
             [
              0.4444444444444444,
              "#bd3786"
             ],
             [
              0.5555555555555556,
              "#d8576b"
             ],
             [
              0.6666666666666666,
              "#ed7953"
             ],
             [
              0.7777777777777778,
              "#fb9f3a"
             ],
             [
              0.8888888888888888,
              "#fdca26"
             ],
             [
              1,
              "#f0f921"
             ]
            ],
            "type": "histogram2d"
           }
          ],
          "histogram2dcontour": [
           {
            "colorbar": {
             "outlinewidth": 0,
             "ticks": ""
            },
            "colorscale": [
             [
              0,
              "#0d0887"
             ],
             [
              0.1111111111111111,
              "#46039f"
             ],
             [
              0.2222222222222222,
              "#7201a8"
             ],
             [
              0.3333333333333333,
              "#9c179e"
             ],
             [
              0.4444444444444444,
              "#bd3786"
             ],
             [
              0.5555555555555556,
              "#d8576b"
             ],
             [
              0.6666666666666666,
              "#ed7953"
             ],
             [
              0.7777777777777778,
              "#fb9f3a"
             ],
             [
              0.8888888888888888,
              "#fdca26"
             ],
             [
              1,
              "#f0f921"
             ]
            ],
            "type": "histogram2dcontour"
           }
          ],
          "mesh3d": [
           {
            "colorbar": {
             "outlinewidth": 0,
             "ticks": ""
            },
            "type": "mesh3d"
           }
          ],
          "parcoords": [
           {
            "line": {
             "colorbar": {
              "outlinewidth": 0,
              "ticks": ""
             }
            },
            "type": "parcoords"
           }
          ],
          "pie": [
           {
            "automargin": true,
            "type": "pie"
           }
          ],
          "scatter": [
           {
            "fillpattern": {
             "fillmode": "overlay",
             "size": 10,
             "solidity": 0.2
            },
            "type": "scatter"
           }
          ],
          "scatter3d": [
           {
            "line": {
             "colorbar": {
              "outlinewidth": 0,
              "ticks": ""
             }
            },
            "marker": {
             "colorbar": {
              "outlinewidth": 0,
              "ticks": ""
             }
            },
            "type": "scatter3d"
           }
          ],
          "scattercarpet": [
           {
            "marker": {
             "colorbar": {
              "outlinewidth": 0,
              "ticks": ""
             }
            },
            "type": "scattercarpet"
           }
          ],
          "scattergeo": [
           {
            "marker": {
             "colorbar": {
              "outlinewidth": 0,
              "ticks": ""
             }
            },
            "type": "scattergeo"
           }
          ],
          "scattergl": [
           {
            "marker": {
             "colorbar": {
              "outlinewidth": 0,
              "ticks": ""
             }
            },
            "type": "scattergl"
           }
          ],
          "scattermap": [
           {
            "marker": {
             "colorbar": {
              "outlinewidth": 0,
              "ticks": ""
             }
            },
            "type": "scattermap"
           }
          ],
          "scattermapbox": [
           {
            "marker": {
             "colorbar": {
              "outlinewidth": 0,
              "ticks": ""
             }
            },
            "type": "scattermapbox"
           }
          ],
          "scatterpolar": [
           {
            "marker": {
             "colorbar": {
              "outlinewidth": 0,
              "ticks": ""
             }
            },
            "type": "scatterpolar"
           }
          ],
          "scatterpolargl": [
           {
            "marker": {
             "colorbar": {
              "outlinewidth": 0,
              "ticks": ""
             }
            },
            "type": "scatterpolargl"
           }
          ],
          "scatterternary": [
           {
            "marker": {
             "colorbar": {
              "outlinewidth": 0,
              "ticks": ""
             }
            },
            "type": "scatterternary"
           }
          ],
          "surface": [
           {
            "colorbar": {
             "outlinewidth": 0,
             "ticks": ""
            },
            "colorscale": [
             [
              0,
              "#0d0887"
             ],
             [
              0.1111111111111111,
              "#46039f"
             ],
             [
              0.2222222222222222,
              "#7201a8"
             ],
             [
              0.3333333333333333,
              "#9c179e"
             ],
             [
              0.4444444444444444,
              "#bd3786"
             ],
             [
              0.5555555555555556,
              "#d8576b"
             ],
             [
              0.6666666666666666,
              "#ed7953"
             ],
             [
              0.7777777777777778,
              "#fb9f3a"
             ],
             [
              0.8888888888888888,
              "#fdca26"
             ],
             [
              1,
              "#f0f921"
             ]
            ],
            "type": "surface"
           }
          ],
          "table": [
           {
            "cells": {
             "fill": {
              "color": "#EBF0F8"
             },
             "line": {
              "color": "white"
             }
            },
            "header": {
             "fill": {
              "color": "#C8D4E3"
             },
             "line": {
              "color": "white"
             }
            },
            "type": "table"
           }
          ]
         },
         "layout": {
          "annotationdefaults": {
           "arrowcolor": "#2a3f5f",
           "arrowhead": 0,
           "arrowwidth": 1
          },
          "autotypenumbers": "strict",
          "coloraxis": {
           "colorbar": {
            "outlinewidth": 0,
            "ticks": ""
           }
          },
          "colorscale": {
           "diverging": [
            [
             0,
             "#8e0152"
            ],
            [
             0.1,
             "#c51b7d"
            ],
            [
             0.2,
             "#de77ae"
            ],
            [
             0.3,
             "#f1b6da"
            ],
            [
             0.4,
             "#fde0ef"
            ],
            [
             0.5,
             "#f7f7f7"
            ],
            [
             0.6,
             "#e6f5d0"
            ],
            [
             0.7,
             "#b8e186"
            ],
            [
             0.8,
             "#7fbc41"
            ],
            [
             0.9,
             "#4d9221"
            ],
            [
             1,
             "#276419"
            ]
           ],
           "sequential": [
            [
             0,
             "#0d0887"
            ],
            [
             0.1111111111111111,
             "#46039f"
            ],
            [
             0.2222222222222222,
             "#7201a8"
            ],
            [
             0.3333333333333333,
             "#9c179e"
            ],
            [
             0.4444444444444444,
             "#bd3786"
            ],
            [
             0.5555555555555556,
             "#d8576b"
            ],
            [
             0.6666666666666666,
             "#ed7953"
            ],
            [
             0.7777777777777778,
             "#fb9f3a"
            ],
            [
             0.8888888888888888,
             "#fdca26"
            ],
            [
             1,
             "#f0f921"
            ]
           ],
           "sequentialminus": [
            [
             0,
             "#0d0887"
            ],
            [
             0.1111111111111111,
             "#46039f"
            ],
            [
             0.2222222222222222,
             "#7201a8"
            ],
            [
             0.3333333333333333,
             "#9c179e"
            ],
            [
             0.4444444444444444,
             "#bd3786"
            ],
            [
             0.5555555555555556,
             "#d8576b"
            ],
            [
             0.6666666666666666,
             "#ed7953"
            ],
            [
             0.7777777777777778,
             "#fb9f3a"
            ],
            [
             0.8888888888888888,
             "#fdca26"
            ],
            [
             1,
             "#f0f921"
            ]
           ]
          },
          "colorway": [
           "#636efa",
           "#EF553B",
           "#00cc96",
           "#ab63fa",
           "#FFA15A",
           "#19d3f3",
           "#FF6692",
           "#B6E880",
           "#FF97FF",
           "#FECB52"
          ],
          "font": {
           "color": "#2a3f5f"
          },
          "geo": {
           "bgcolor": "white",
           "lakecolor": "white",
           "landcolor": "#E5ECF6",
           "showlakes": true,
           "showland": true,
           "subunitcolor": "white"
          },
          "hoverlabel": {
           "align": "left"
          },
          "hovermode": "closest",
          "mapbox": {
           "style": "light"
          },
          "paper_bgcolor": "white",
          "plot_bgcolor": "#E5ECF6",
          "polar": {
           "angularaxis": {
            "gridcolor": "white",
            "linecolor": "white",
            "ticks": ""
           },
           "bgcolor": "#E5ECF6",
           "radialaxis": {
            "gridcolor": "white",
            "linecolor": "white",
            "ticks": ""
           }
          },
          "scene": {
           "xaxis": {
            "backgroundcolor": "#E5ECF6",
            "gridcolor": "white",
            "gridwidth": 2,
            "linecolor": "white",
            "showbackground": true,
            "ticks": "",
            "zerolinecolor": "white"
           },
           "yaxis": {
            "backgroundcolor": "#E5ECF6",
            "gridcolor": "white",
            "gridwidth": 2,
            "linecolor": "white",
            "showbackground": true,
            "ticks": "",
            "zerolinecolor": "white"
           },
           "zaxis": {
            "backgroundcolor": "#E5ECF6",
            "gridcolor": "white",
            "gridwidth": 2,
            "linecolor": "white",
            "showbackground": true,
            "ticks": "",
            "zerolinecolor": "white"
           }
          },
          "shapedefaults": {
           "line": {
            "color": "#2a3f5f"
           }
          },
          "ternary": {
           "aaxis": {
            "gridcolor": "white",
            "linecolor": "white",
            "ticks": ""
           },
           "baxis": {
            "gridcolor": "white",
            "linecolor": "white",
            "ticks": ""
           },
           "bgcolor": "#E5ECF6",
           "caxis": {
            "gridcolor": "white",
            "linecolor": "white",
            "ticks": ""
           }
          },
          "title": {
           "x": 0.05
          },
          "xaxis": {
           "automargin": true,
           "gridcolor": "white",
           "linecolor": "white",
           "ticks": "",
           "title": {
            "standoff": 15
           },
           "zerolinecolor": "white",
           "zerolinewidth": 2
          },
          "yaxis": {
           "automargin": true,
           "gridcolor": "white",
           "linecolor": "white",
           "ticks": "",
           "title": {
            "standoff": 15
           },
           "zerolinecolor": "white",
           "zerolinewidth": 2
          }
         }
        },
        "title": {
         "text": "Salary Distribution (Vertical)"
        },
        "xaxis": {
         "anchor": "y",
         "domain": [
          0,
          1
         ]
        },
        "yaxis": {
         "anchor": "x",
         "domain": [
          0,
          1
         ],
         "title": {
          "text": "Salary"
         }
        }
       }
      }
     },
     "metadata": {},
     "output_type": "display_data"
    }
   ],
   "source": [
    "fig = px.box(df_hr, y=\"Salary\", title=\"Salary Distribution (Vertical)\")\n",
    "fig.show()"
   ]
  },
  {
   "cell_type": "markdown",
   "metadata": {},
   "source": [
    "---\n",
    "\n",
    "### 🎯 Example 2: Salary box plot (horizontal)\n",
    "\n",
    "▶️ Draw a horizontal box plot of `Salary`.\n"
   ]
  },
  {
   "cell_type": "code",
   "execution_count": 8,
   "metadata": {},
   "outputs": [
    {
     "data": {
      "application/vnd.plotly.v1+json": {
       "config": {
        "plotlyServerURL": "https://plot.ly"
       },
       "data": [
        {
         "alignmentgroup": "True",
         "hovertemplate": "Salary=%{x}<extra></extra>",
         "legendgroup": "",
         "marker": {
          "color": "#636efa"
         },
         "name": "",
         "notched": false,
         "offsetgroup": "",
         "orientation": "h",
         "showlegend": false,
         "type": "box",
         "x": {
          "bdata": "KvQAAPWXAQC7/QAA3/0AAInGAADg4AAArHUBAOXnAADdugAAAsQAAI7VAABruAAAqGgBAFXlAAAZzQAA6uEAAPMRAQCS5gAAsK0BAALQAABkxwAAl/0AAL71AACJAwEA1+EAAL2UAQB/nwEASCIBAPTQAAAY9gAACP8AAHf7AABWIgEAE/kAANLyAAB8LwEAwBsBANRsAQBuzgAAv4YBALQYAQDY8AAAUbEBAN3TAADc6wAA+AQBABL9AAAw/QAARgwBAEL6AADp5wAAxcQAAIT2AAAI5wAA0wkBAASaAgCV9wAAYEYBAFXbAACpaAEAwQABACRMAQDv4AAA5tsAAJ/eAACq2QAAT4sBAIDwAACj4wAAxc8AADR6AQA7yAAAX+cAAJDwAAD/tAAA3RMBAIgeAgABIgEAtCUBADL0AACm6gAA+L4AAA3UAAAP3gAAtOsAAPTmAADQgwEAYBgBAG4BAQCU4QAAOfoAAHbQAACi5AAAoRsBAJ3aAAArEgEAULcCABeEAQCzBgEAqwABABnMAACzzwAAicgAADHJAADq5wAAldYAANfhAABz8AAAcMABALcjAQAazwAA9OkAACINAQA67wAACQUBAJ28AABlAgEAaMAAAO31AABF+QAAzIIBABsYAQAs1gAA9voAANHLAABx8gAAlrcAAAMKAQCREwEA9vcAAM9+AQAgvwIAAMMAAIHYAADcDgEA4/0AAFYKAQCKRAEAxMoAADrvAAANsAAANO0AABTsAAD1tgAA5JwBAFr3AADi7gAAhw0BADLFAAAe/wAAkNADAPXSAAB5sQAAPrYAAOX5AACrFgEAFmwBAEZDAQAaAgEAKLQAAAj8AAAK8gAAsD4BALz4AAB2awEA4vwAAEQTAQBbMAEAkM0AANr3AABBygAApQYBAHIeAQBZywAASrkAADTOAABTsQAAsfMAADcLAQCl7wAA2JwBAHTTAAAT2AAAWvUAADv3AADD9AAAiNkAANNGAQD42QAAX+MAAEhlAgAMGwEAqhkBAHfNAADG9wAAsSIBAOfgAABxVwEAJsUAAEi2AABvvQAA+M4AAM/4AABt8gAAsgQBAMLNAAAeGQEAS/YAADa5AABEzwAA3QwBABv4AAC7qQEApWsBADzRAABu6wAArrMAAGLiAACtIwEA8iEBAHJtAQDU/AAAmbcAAJTxAADPtgAAUOgAAF61AACjRQEAsHYBACHxAABx8QAAO7AAAJK2AADL/QAAGtkAAPzEAADu7wAAefcAABtfAQDA1AEAEksCANPsAAC8zwAAeCYCAAdGAgDGUAEAhroAAFy1AAB34gAAz1kBAFPbAADrxgAAPsYAAHfLAAASVwEA0MoAAIb5AADw7AAAIB0BANjWAAA75gAAIQQBAA1WAQAV+gAAsgABANnzAABZuwAAoeMAABv2AACr7wAA2OoAAML4AAAx9gAAZucAAD1rAQD0XwEAUu0AAAoaAQAC5AAAHb0AAGgGAQAT3AAAjfsAADH2AAARJgEAQIgBAD0kAQD9KAEAA+IAAJvkAACQWwEAQ9oAAE+9AQBtwgAAdPIAAO0DAQCAOgEAYsQAAKdLAQDaogEAA+QAAGTXAADO4gAAUOkAAGsTAQAe7AAAZQEBAIG9AAAiXQMAzFwBAPavAAA=",
          "dtype": "i4"
         },
         "x0": " ",
         "xaxis": "x",
         "y0": " ",
         "yaxis": "y"
        }
       ],
       "layout": {
        "boxmode": "group",
        "legend": {
         "tracegroupgap": 0
        },
        "template": {
         "data": {
          "bar": [
           {
            "error_x": {
             "color": "#2a3f5f"
            },
            "error_y": {
             "color": "#2a3f5f"
            },
            "marker": {
             "line": {
              "color": "#E5ECF6",
              "width": 0.5
             },
             "pattern": {
              "fillmode": "overlay",
              "size": 10,
              "solidity": 0.2
             }
            },
            "type": "bar"
           }
          ],
          "barpolar": [
           {
            "marker": {
             "line": {
              "color": "#E5ECF6",
              "width": 0.5
             },
             "pattern": {
              "fillmode": "overlay",
              "size": 10,
              "solidity": 0.2
             }
            },
            "type": "barpolar"
           }
          ],
          "carpet": [
           {
            "aaxis": {
             "endlinecolor": "#2a3f5f",
             "gridcolor": "white",
             "linecolor": "white",
             "minorgridcolor": "white",
             "startlinecolor": "#2a3f5f"
            },
            "baxis": {
             "endlinecolor": "#2a3f5f",
             "gridcolor": "white",
             "linecolor": "white",
             "minorgridcolor": "white",
             "startlinecolor": "#2a3f5f"
            },
            "type": "carpet"
           }
          ],
          "choropleth": [
           {
            "colorbar": {
             "outlinewidth": 0,
             "ticks": ""
            },
            "type": "choropleth"
           }
          ],
          "contour": [
           {
            "colorbar": {
             "outlinewidth": 0,
             "ticks": ""
            },
            "colorscale": [
             [
              0,
              "#0d0887"
             ],
             [
              0.1111111111111111,
              "#46039f"
             ],
             [
              0.2222222222222222,
              "#7201a8"
             ],
             [
              0.3333333333333333,
              "#9c179e"
             ],
             [
              0.4444444444444444,
              "#bd3786"
             ],
             [
              0.5555555555555556,
              "#d8576b"
             ],
             [
              0.6666666666666666,
              "#ed7953"
             ],
             [
              0.7777777777777778,
              "#fb9f3a"
             ],
             [
              0.8888888888888888,
              "#fdca26"
             ],
             [
              1,
              "#f0f921"
             ]
            ],
            "type": "contour"
           }
          ],
          "contourcarpet": [
           {
            "colorbar": {
             "outlinewidth": 0,
             "ticks": ""
            },
            "type": "contourcarpet"
           }
          ],
          "heatmap": [
           {
            "colorbar": {
             "outlinewidth": 0,
             "ticks": ""
            },
            "colorscale": [
             [
              0,
              "#0d0887"
             ],
             [
              0.1111111111111111,
              "#46039f"
             ],
             [
              0.2222222222222222,
              "#7201a8"
             ],
             [
              0.3333333333333333,
              "#9c179e"
             ],
             [
              0.4444444444444444,
              "#bd3786"
             ],
             [
              0.5555555555555556,
              "#d8576b"
             ],
             [
              0.6666666666666666,
              "#ed7953"
             ],
             [
              0.7777777777777778,
              "#fb9f3a"
             ],
             [
              0.8888888888888888,
              "#fdca26"
             ],
             [
              1,
              "#f0f921"
             ]
            ],
            "type": "heatmap"
           }
          ],
          "histogram": [
           {
            "marker": {
             "pattern": {
              "fillmode": "overlay",
              "size": 10,
              "solidity": 0.2
             }
            },
            "type": "histogram"
           }
          ],
          "histogram2d": [
           {
            "colorbar": {
             "outlinewidth": 0,
             "ticks": ""
            },
            "colorscale": [
             [
              0,
              "#0d0887"
             ],
             [
              0.1111111111111111,
              "#46039f"
             ],
             [
              0.2222222222222222,
              "#7201a8"
             ],
             [
              0.3333333333333333,
              "#9c179e"
             ],
             [
              0.4444444444444444,
              "#bd3786"
             ],
             [
              0.5555555555555556,
              "#d8576b"
             ],
             [
              0.6666666666666666,
              "#ed7953"
             ],
             [
              0.7777777777777778,
              "#fb9f3a"
             ],
             [
              0.8888888888888888,
              "#fdca26"
             ],
             [
              1,
              "#f0f921"
             ]
            ],
            "type": "histogram2d"
           }
          ],
          "histogram2dcontour": [
           {
            "colorbar": {
             "outlinewidth": 0,
             "ticks": ""
            },
            "colorscale": [
             [
              0,
              "#0d0887"
             ],
             [
              0.1111111111111111,
              "#46039f"
             ],
             [
              0.2222222222222222,
              "#7201a8"
             ],
             [
              0.3333333333333333,
              "#9c179e"
             ],
             [
              0.4444444444444444,
              "#bd3786"
             ],
             [
              0.5555555555555556,
              "#d8576b"
             ],
             [
              0.6666666666666666,
              "#ed7953"
             ],
             [
              0.7777777777777778,
              "#fb9f3a"
             ],
             [
              0.8888888888888888,
              "#fdca26"
             ],
             [
              1,
              "#f0f921"
             ]
            ],
            "type": "histogram2dcontour"
           }
          ],
          "mesh3d": [
           {
            "colorbar": {
             "outlinewidth": 0,
             "ticks": ""
            },
            "type": "mesh3d"
           }
          ],
          "parcoords": [
           {
            "line": {
             "colorbar": {
              "outlinewidth": 0,
              "ticks": ""
             }
            },
            "type": "parcoords"
           }
          ],
          "pie": [
           {
            "automargin": true,
            "type": "pie"
           }
          ],
          "scatter": [
           {
            "fillpattern": {
             "fillmode": "overlay",
             "size": 10,
             "solidity": 0.2
            },
            "type": "scatter"
           }
          ],
          "scatter3d": [
           {
            "line": {
             "colorbar": {
              "outlinewidth": 0,
              "ticks": ""
             }
            },
            "marker": {
             "colorbar": {
              "outlinewidth": 0,
              "ticks": ""
             }
            },
            "type": "scatter3d"
           }
          ],
          "scattercarpet": [
           {
            "marker": {
             "colorbar": {
              "outlinewidth": 0,
              "ticks": ""
             }
            },
            "type": "scattercarpet"
           }
          ],
          "scattergeo": [
           {
            "marker": {
             "colorbar": {
              "outlinewidth": 0,
              "ticks": ""
             }
            },
            "type": "scattergeo"
           }
          ],
          "scattergl": [
           {
            "marker": {
             "colorbar": {
              "outlinewidth": 0,
              "ticks": ""
             }
            },
            "type": "scattergl"
           }
          ],
          "scattermap": [
           {
            "marker": {
             "colorbar": {
              "outlinewidth": 0,
              "ticks": ""
             }
            },
            "type": "scattermap"
           }
          ],
          "scattermapbox": [
           {
            "marker": {
             "colorbar": {
              "outlinewidth": 0,
              "ticks": ""
             }
            },
            "type": "scattermapbox"
           }
          ],
          "scatterpolar": [
           {
            "marker": {
             "colorbar": {
              "outlinewidth": 0,
              "ticks": ""
             }
            },
            "type": "scatterpolar"
           }
          ],
          "scatterpolargl": [
           {
            "marker": {
             "colorbar": {
              "outlinewidth": 0,
              "ticks": ""
             }
            },
            "type": "scatterpolargl"
           }
          ],
          "scatterternary": [
           {
            "marker": {
             "colorbar": {
              "outlinewidth": 0,
              "ticks": ""
             }
            },
            "type": "scatterternary"
           }
          ],
          "surface": [
           {
            "colorbar": {
             "outlinewidth": 0,
             "ticks": ""
            },
            "colorscale": [
             [
              0,
              "#0d0887"
             ],
             [
              0.1111111111111111,
              "#46039f"
             ],
             [
              0.2222222222222222,
              "#7201a8"
             ],
             [
              0.3333333333333333,
              "#9c179e"
             ],
             [
              0.4444444444444444,
              "#bd3786"
             ],
             [
              0.5555555555555556,
              "#d8576b"
             ],
             [
              0.6666666666666666,
              "#ed7953"
             ],
             [
              0.7777777777777778,
              "#fb9f3a"
             ],
             [
              0.8888888888888888,
              "#fdca26"
             ],
             [
              1,
              "#f0f921"
             ]
            ],
            "type": "surface"
           }
          ],
          "table": [
           {
            "cells": {
             "fill": {
              "color": "#EBF0F8"
             },
             "line": {
              "color": "white"
             }
            },
            "header": {
             "fill": {
              "color": "#C8D4E3"
             },
             "line": {
              "color": "white"
             }
            },
            "type": "table"
           }
          ]
         },
         "layout": {
          "annotationdefaults": {
           "arrowcolor": "#2a3f5f",
           "arrowhead": 0,
           "arrowwidth": 1
          },
          "autotypenumbers": "strict",
          "coloraxis": {
           "colorbar": {
            "outlinewidth": 0,
            "ticks": ""
           }
          },
          "colorscale": {
           "diverging": [
            [
             0,
             "#8e0152"
            ],
            [
             0.1,
             "#c51b7d"
            ],
            [
             0.2,
             "#de77ae"
            ],
            [
             0.3,
             "#f1b6da"
            ],
            [
             0.4,
             "#fde0ef"
            ],
            [
             0.5,
             "#f7f7f7"
            ],
            [
             0.6,
             "#e6f5d0"
            ],
            [
             0.7,
             "#b8e186"
            ],
            [
             0.8,
             "#7fbc41"
            ],
            [
             0.9,
             "#4d9221"
            ],
            [
             1,
             "#276419"
            ]
           ],
           "sequential": [
            [
             0,
             "#0d0887"
            ],
            [
             0.1111111111111111,
             "#46039f"
            ],
            [
             0.2222222222222222,
             "#7201a8"
            ],
            [
             0.3333333333333333,
             "#9c179e"
            ],
            [
             0.4444444444444444,
             "#bd3786"
            ],
            [
             0.5555555555555556,
             "#d8576b"
            ],
            [
             0.6666666666666666,
             "#ed7953"
            ],
            [
             0.7777777777777778,
             "#fb9f3a"
            ],
            [
             0.8888888888888888,
             "#fdca26"
            ],
            [
             1,
             "#f0f921"
            ]
           ],
           "sequentialminus": [
            [
             0,
             "#0d0887"
            ],
            [
             0.1111111111111111,
             "#46039f"
            ],
            [
             0.2222222222222222,
             "#7201a8"
            ],
            [
             0.3333333333333333,
             "#9c179e"
            ],
            [
             0.4444444444444444,
             "#bd3786"
            ],
            [
             0.5555555555555556,
             "#d8576b"
            ],
            [
             0.6666666666666666,
             "#ed7953"
            ],
            [
             0.7777777777777778,
             "#fb9f3a"
            ],
            [
             0.8888888888888888,
             "#fdca26"
            ],
            [
             1,
             "#f0f921"
            ]
           ]
          },
          "colorway": [
           "#636efa",
           "#EF553B",
           "#00cc96",
           "#ab63fa",
           "#FFA15A",
           "#19d3f3",
           "#FF6692",
           "#B6E880",
           "#FF97FF",
           "#FECB52"
          ],
          "font": {
           "color": "#2a3f5f"
          },
          "geo": {
           "bgcolor": "white",
           "lakecolor": "white",
           "landcolor": "#E5ECF6",
           "showlakes": true,
           "showland": true,
           "subunitcolor": "white"
          },
          "hoverlabel": {
           "align": "left"
          },
          "hovermode": "closest",
          "mapbox": {
           "style": "light"
          },
          "paper_bgcolor": "white",
          "plot_bgcolor": "#E5ECF6",
          "polar": {
           "angularaxis": {
            "gridcolor": "white",
            "linecolor": "white",
            "ticks": ""
           },
           "bgcolor": "#E5ECF6",
           "radialaxis": {
            "gridcolor": "white",
            "linecolor": "white",
            "ticks": ""
           }
          },
          "scene": {
           "xaxis": {
            "backgroundcolor": "#E5ECF6",
            "gridcolor": "white",
            "gridwidth": 2,
            "linecolor": "white",
            "showbackground": true,
            "ticks": "",
            "zerolinecolor": "white"
           },
           "yaxis": {
            "backgroundcolor": "#E5ECF6",
            "gridcolor": "white",
            "gridwidth": 2,
            "linecolor": "white",
            "showbackground": true,
            "ticks": "",
            "zerolinecolor": "white"
           },
           "zaxis": {
            "backgroundcolor": "#E5ECF6",
            "gridcolor": "white",
            "gridwidth": 2,
            "linecolor": "white",
            "showbackground": true,
            "ticks": "",
            "zerolinecolor": "white"
           }
          },
          "shapedefaults": {
           "line": {
            "color": "#2a3f5f"
           }
          },
          "ternary": {
           "aaxis": {
            "gridcolor": "white",
            "linecolor": "white",
            "ticks": ""
           },
           "baxis": {
            "gridcolor": "white",
            "linecolor": "white",
            "ticks": ""
           },
           "bgcolor": "#E5ECF6",
           "caxis": {
            "gridcolor": "white",
            "linecolor": "white",
            "ticks": ""
           }
          },
          "title": {
           "x": 0.05
          },
          "xaxis": {
           "automargin": true,
           "gridcolor": "white",
           "linecolor": "white",
           "ticks": "",
           "title": {
            "standoff": 15
           },
           "zerolinecolor": "white",
           "zerolinewidth": 2
          },
          "yaxis": {
           "automargin": true,
           "gridcolor": "white",
           "linecolor": "white",
           "ticks": "",
           "title": {
            "standoff": 15
           },
           "zerolinecolor": "white",
           "zerolinewidth": 2
          }
         }
        },
        "title": {
         "text": "Salary Distribution (Horizontal)"
        },
        "xaxis": {
         "anchor": "y",
         "domain": [
          0,
          1
         ],
         "title": {
          "text": "Salary"
         }
        },
        "yaxis": {
         "anchor": "x",
         "domain": [
          0,
          1
         ]
        }
       }
      }
     },
     "metadata": {},
     "output_type": "display_data"
    }
   ],
   "source": [
    "fig = px.box(df_hr, x=\"Salary\", title=\"Salary Distribution (Horizontal)\")\n",
    "fig.show()"
   ]
  },
  {
   "cell_type": "markdown",
   "metadata": {},
   "source": [
    "---\n",
    "\n",
    "### 🎯 Example 3: Salary distribution by citizenship status\n",
    "\n",
    "▶️ Draw horizontal box plots of `Salary` by `CitizenDesc`.\n"
   ]
  },
  {
   "cell_type": "code",
   "execution_count": 9,
   "metadata": {},
   "outputs": [
    {
     "data": {
      "application/vnd.plotly.v1+json": {
       "config": {
        "plotlyServerURL": "https://plot.ly"
       },
       "data": [
        {
         "alignmentgroup": "True",
         "hovertemplate": "Salary=%{x}<br>CitizenDesc=%{y}<extra></extra>",
         "legendgroup": "",
         "marker": {
          "color": "#636efa"
         },
         "name": "",
         "notched": false,
         "offsetgroup": "",
         "orientation": "h",
         "showlegend": false,
         "type": "box",
         "x": {
          "bdata": "KvQAAPWXAQC7/QAA3/0AAInGAADg4AAArHUBAOXnAADdugAAAsQAAI7VAABruAAAqGgBAFXlAAAZzQAA6uEAAPMRAQCS5gAAsK0BAALQAABkxwAAl/0AAL71AACJAwEA1+EAAL2UAQB/nwEASCIBAPTQAAAY9gAACP8AAHf7AABWIgEAE/kAANLyAAB8LwEAwBsBANRsAQBuzgAAv4YBALQYAQDY8AAAUbEBAN3TAADc6wAA+AQBABL9AAAw/QAARgwBAEL6AADp5wAAxcQAAIT2AAAI5wAA0wkBAASaAgCV9wAAYEYBAFXbAACpaAEAwQABACRMAQDv4AAA5tsAAJ/eAACq2QAAT4sBAIDwAACj4wAAxc8AADR6AQA7yAAAX+cAAJDwAAD/tAAA3RMBAIgeAgABIgEAtCUBADL0AACm6gAA+L4AAA3UAAAP3gAAtOsAAPTmAADQgwEAYBgBAG4BAQCU4QAAOfoAAHbQAACi5AAAoRsBAJ3aAAArEgEAULcCABeEAQCzBgEAqwABABnMAACzzwAAicgAADHJAADq5wAAldYAANfhAABz8AAAcMABALcjAQAazwAA9OkAACINAQA67wAACQUBAJ28AABlAgEAaMAAAO31AABF+QAAzIIBABsYAQAs1gAA9voAANHLAABx8gAAlrcAAAMKAQCREwEA9vcAAM9+AQAgvwIAAMMAAIHYAADcDgEA4/0AAFYKAQCKRAEAxMoAADrvAAANsAAANO0AABTsAAD1tgAA5JwBAFr3AADi7gAAhw0BADLFAAAe/wAAkNADAPXSAAB5sQAAPrYAAOX5AACrFgEAFmwBAEZDAQAaAgEAKLQAAAj8AAAK8gAAsD4BALz4AAB2awEA4vwAAEQTAQBbMAEAkM0AANr3AABBygAApQYBAHIeAQBZywAASrkAADTOAABTsQAAsfMAADcLAQCl7wAA2JwBAHTTAAAT2AAAWvUAADv3AADD9AAAiNkAANNGAQD42QAAX+MAAEhlAgAMGwEAqhkBAHfNAADG9wAAsSIBAOfgAABxVwEAJsUAAEi2AABvvQAA+M4AAM/4AABt8gAAsgQBAMLNAAAeGQEAS/YAADa5AABEzwAA3QwBABv4AAC7qQEApWsBADzRAABu6wAArrMAAGLiAACtIwEA8iEBAHJtAQDU/AAAmbcAAJTxAADPtgAAUOgAAF61AACjRQEAsHYBACHxAABx8QAAO7AAAJK2AADL/QAAGtkAAPzEAADu7wAAefcAABtfAQDA1AEAEksCANPsAAC8zwAAeCYCAAdGAgDGUAEAhroAAFy1AAB34gAAz1kBAFPbAADrxgAAPsYAAHfLAAASVwEA0MoAAIb5AADw7AAAIB0BANjWAAA75gAAIQQBAA1WAQAV+gAAsgABANnzAABZuwAAoeMAABv2AACr7wAA2OoAAML4AAAx9gAAZucAAD1rAQD0XwEAUu0AAAoaAQAC5AAAHb0AAGgGAQAT3AAAjfsAADH2AAARJgEAQIgBAD0kAQD9KAEAA+IAAJvkAACQWwEAQ9oAAE+9AQBtwgAAdPIAAO0DAQCAOgEAYsQAAKdLAQDaogEAA+QAAGTXAADO4gAAUOkAAGsTAQAe7AAAZQEBAIG9AAAiXQMAzFwBAPavAAA=",
          "dtype": "i4"
         },
         "x0": " ",
         "xaxis": "x",
         "y": [
          "US Citizen",
          "US Citizen",
          "US Citizen",
          "US Citizen",
          "US Citizen",
          "US Citizen",
          "US Citizen",
          "US Citizen",
          "US Citizen",
          "US Citizen",
          "US Citizen",
          "US Citizen",
          "US Citizen",
          "US Citizen",
          "US Citizen",
          "US Citizen",
          "US Citizen",
          "Eligible NonCitizen",
          "US Citizen",
          "US Citizen",
          "US Citizen",
          "US Citizen",
          "US Citizen",
          "US Citizen",
          "US Citizen",
          "US Citizen",
          "US Citizen",
          "US Citizen",
          "US Citizen",
          "US Citizen",
          "US Citizen",
          "US Citizen",
          "Eligible NonCitizen",
          "US Citizen",
          "US Citizen",
          "US Citizen",
          "US Citizen",
          "US Citizen",
          "US Citizen",
          "US Citizen",
          "US Citizen",
          "US Citizen",
          "US Citizen",
          "US Citizen",
          "US Citizen",
          "Eligible NonCitizen",
          "US Citizen",
          "Non-Citizen",
          "US Citizen",
          "US Citizen",
          "US Citizen",
          "US Citizen",
          "US Citizen",
          "US Citizen",
          "US Citizen",
          "US Citizen",
          "US Citizen",
          "US Citizen",
          "US Citizen",
          "US Citizen",
          "US Citizen",
          "US Citizen",
          "US Citizen",
          "Eligible NonCitizen",
          "US Citizen",
          "US Citizen",
          "US Citizen",
          "US Citizen",
          "US Citizen",
          "US Citizen",
          "US Citizen",
          "US Citizen",
          "US Citizen",
          "US Citizen",
          "US Citizen",
          "US Citizen",
          "US Citizen",
          "US Citizen",
          "US Citizen",
          "US Citizen",
          "US Citizen",
          "US Citizen",
          "US Citizen",
          "US Citizen",
          "US Citizen",
          "US Citizen",
          "US Citizen",
          "US Citizen",
          "US Citizen",
          "US Citizen",
          "US Citizen",
          "US Citizen",
          "US Citizen",
          "US Citizen",
          "US Citizen",
          "US Citizen",
          "US Citizen",
          "US Citizen",
          "US Citizen",
          "US Citizen",
          "US Citizen",
          "US Citizen",
          "US Citizen",
          "US Citizen",
          "US Citizen",
          "US Citizen",
          "US Citizen",
          "US Citizen",
          "US Citizen",
          "US Citizen",
          "US Citizen",
          "US Citizen",
          "US Citizen",
          "US Citizen",
          "US Citizen",
          "US Citizen",
          "US Citizen",
          "US Citizen",
          "US Citizen",
          "US Citizen",
          "US Citizen",
          "US Citizen",
          "US Citizen",
          "US Citizen",
          "US Citizen",
          "US Citizen",
          "US Citizen",
          "US Citizen",
          "US Citizen",
          "Non-Citizen",
          "US Citizen",
          "US Citizen",
          "US Citizen",
          "US Citizen",
          "US Citizen",
          "US Citizen",
          "US Citizen",
          "US Citizen",
          "US Citizen",
          "US Citizen",
          "US Citizen",
          "US Citizen",
          "US Citizen",
          "US Citizen",
          "US Citizen",
          "US Citizen",
          "US Citizen",
          "US Citizen",
          "US Citizen",
          "US Citizen",
          "US Citizen",
          "US Citizen",
          "US Citizen",
          "US Citizen",
          "US Citizen",
          "US Citizen",
          "US Citizen",
          "US Citizen",
          "US Citizen",
          "US Citizen",
          "US Citizen",
          "US Citizen",
          "US Citizen",
          "US Citizen",
          "US Citizen",
          "US Citizen",
          "US Citizen",
          "US Citizen",
          "US Citizen",
          "US Citizen",
          "US Citizen",
          "US Citizen",
          "US Citizen",
          "US Citizen",
          "US Citizen",
          "US Citizen",
          "US Citizen",
          "US Citizen",
          "US Citizen",
          "US Citizen",
          "US Citizen",
          "US Citizen",
          "US Citizen",
          "US Citizen",
          "US Citizen",
          "US Citizen",
          "US Citizen",
          "US Citizen",
          "US Citizen",
          "US Citizen",
          "Eligible NonCitizen",
          "US Citizen",
          "US Citizen",
          "US Citizen",
          "US Citizen",
          "US Citizen",
          "US Citizen",
          "US Citizen",
          "US Citizen",
          "US Citizen",
          "US Citizen",
          "US Citizen",
          "US Citizen",
          "US Citizen",
          "US Citizen",
          "US Citizen",
          "US Citizen",
          "US Citizen",
          "US Citizen",
          "US Citizen",
          "US Citizen",
          "US Citizen",
          "US Citizen",
          "US Citizen",
          "US Citizen",
          "US Citizen",
          "US Citizen",
          "US Citizen",
          "US Citizen",
          "Eligible NonCitizen",
          "US Citizen",
          "US Citizen",
          "US Citizen",
          "US Citizen",
          "Eligible NonCitizen",
          "US Citizen",
          "US Citizen",
          "Eligible NonCitizen",
          "US Citizen",
          "US Citizen",
          "US Citizen",
          "US Citizen",
          "US Citizen",
          "Eligible NonCitizen",
          "US Citizen",
          "US Citizen",
          "US Citizen",
          "US Citizen",
          "US Citizen",
          "US Citizen",
          "US Citizen",
          "US Citizen",
          "US Citizen",
          "US Citizen",
          "US Citizen",
          "US Citizen",
          "US Citizen",
          "US Citizen",
          "US Citizen",
          "US Citizen",
          "US Citizen",
          "US Citizen",
          "US Citizen",
          "US Citizen",
          "US Citizen",
          "US Citizen",
          "US Citizen",
          "US Citizen",
          "US Citizen",
          "US Citizen",
          "US Citizen",
          "US Citizen",
          "US Citizen",
          "US Citizen",
          "US Citizen",
          "US Citizen",
          "US Citizen",
          "US Citizen",
          "US Citizen",
          "US Citizen",
          "US Citizen",
          "US Citizen",
          "US Citizen",
          "Eligible NonCitizen",
          "US Citizen",
          "US Citizen",
          "Non-Citizen",
          "US Citizen",
          "US Citizen",
          "US Citizen",
          "US Citizen",
          "US Citizen",
          "US Citizen",
          "US Citizen",
          "US Citizen",
          "Non-Citizen",
          "US Citizen",
          "Eligible NonCitizen",
          "US Citizen",
          "US Citizen",
          "US Citizen",
          "US Citizen",
          "US Citizen",
          "US Citizen",
          "US Citizen",
          "US Citizen",
          "US Citizen",
          "US Citizen",
          "US Citizen",
          "US Citizen",
          "US Citizen",
          "Eligible NonCitizen",
          "US Citizen",
          "US Citizen",
          "US Citizen",
          "US Citizen",
          "US Citizen",
          "US Citizen",
          "US Citizen",
          "US Citizen",
          "US Citizen"
         ],
         "y0": " ",
         "yaxis": "y"
        }
       ],
       "layout": {
        "boxmode": "group",
        "legend": {
         "tracegroupgap": 0
        },
        "template": {
         "data": {
          "bar": [
           {
            "error_x": {
             "color": "#2a3f5f"
            },
            "error_y": {
             "color": "#2a3f5f"
            },
            "marker": {
             "line": {
              "color": "#E5ECF6",
              "width": 0.5
             },
             "pattern": {
              "fillmode": "overlay",
              "size": 10,
              "solidity": 0.2
             }
            },
            "type": "bar"
           }
          ],
          "barpolar": [
           {
            "marker": {
             "line": {
              "color": "#E5ECF6",
              "width": 0.5
             },
             "pattern": {
              "fillmode": "overlay",
              "size": 10,
              "solidity": 0.2
             }
            },
            "type": "barpolar"
           }
          ],
          "carpet": [
           {
            "aaxis": {
             "endlinecolor": "#2a3f5f",
             "gridcolor": "white",
             "linecolor": "white",
             "minorgridcolor": "white",
             "startlinecolor": "#2a3f5f"
            },
            "baxis": {
             "endlinecolor": "#2a3f5f",
             "gridcolor": "white",
             "linecolor": "white",
             "minorgridcolor": "white",
             "startlinecolor": "#2a3f5f"
            },
            "type": "carpet"
           }
          ],
          "choropleth": [
           {
            "colorbar": {
             "outlinewidth": 0,
             "ticks": ""
            },
            "type": "choropleth"
           }
          ],
          "contour": [
           {
            "colorbar": {
             "outlinewidth": 0,
             "ticks": ""
            },
            "colorscale": [
             [
              0,
              "#0d0887"
             ],
             [
              0.1111111111111111,
              "#46039f"
             ],
             [
              0.2222222222222222,
              "#7201a8"
             ],
             [
              0.3333333333333333,
              "#9c179e"
             ],
             [
              0.4444444444444444,
              "#bd3786"
             ],
             [
              0.5555555555555556,
              "#d8576b"
             ],
             [
              0.6666666666666666,
              "#ed7953"
             ],
             [
              0.7777777777777778,
              "#fb9f3a"
             ],
             [
              0.8888888888888888,
              "#fdca26"
             ],
             [
              1,
              "#f0f921"
             ]
            ],
            "type": "contour"
           }
          ],
          "contourcarpet": [
           {
            "colorbar": {
             "outlinewidth": 0,
             "ticks": ""
            },
            "type": "contourcarpet"
           }
          ],
          "heatmap": [
           {
            "colorbar": {
             "outlinewidth": 0,
             "ticks": ""
            },
            "colorscale": [
             [
              0,
              "#0d0887"
             ],
             [
              0.1111111111111111,
              "#46039f"
             ],
             [
              0.2222222222222222,
              "#7201a8"
             ],
             [
              0.3333333333333333,
              "#9c179e"
             ],
             [
              0.4444444444444444,
              "#bd3786"
             ],
             [
              0.5555555555555556,
              "#d8576b"
             ],
             [
              0.6666666666666666,
              "#ed7953"
             ],
             [
              0.7777777777777778,
              "#fb9f3a"
             ],
             [
              0.8888888888888888,
              "#fdca26"
             ],
             [
              1,
              "#f0f921"
             ]
            ],
            "type": "heatmap"
           }
          ],
          "histogram": [
           {
            "marker": {
             "pattern": {
              "fillmode": "overlay",
              "size": 10,
              "solidity": 0.2
             }
            },
            "type": "histogram"
           }
          ],
          "histogram2d": [
           {
            "colorbar": {
             "outlinewidth": 0,
             "ticks": ""
            },
            "colorscale": [
             [
              0,
              "#0d0887"
             ],
             [
              0.1111111111111111,
              "#46039f"
             ],
             [
              0.2222222222222222,
              "#7201a8"
             ],
             [
              0.3333333333333333,
              "#9c179e"
             ],
             [
              0.4444444444444444,
              "#bd3786"
             ],
             [
              0.5555555555555556,
              "#d8576b"
             ],
             [
              0.6666666666666666,
              "#ed7953"
             ],
             [
              0.7777777777777778,
              "#fb9f3a"
             ],
             [
              0.8888888888888888,
              "#fdca26"
             ],
             [
              1,
              "#f0f921"
             ]
            ],
            "type": "histogram2d"
           }
          ],
          "histogram2dcontour": [
           {
            "colorbar": {
             "outlinewidth": 0,
             "ticks": ""
            },
            "colorscale": [
             [
              0,
              "#0d0887"
             ],
             [
              0.1111111111111111,
              "#46039f"
             ],
             [
              0.2222222222222222,
              "#7201a8"
             ],
             [
              0.3333333333333333,
              "#9c179e"
             ],
             [
              0.4444444444444444,
              "#bd3786"
             ],
             [
              0.5555555555555556,
              "#d8576b"
             ],
             [
              0.6666666666666666,
              "#ed7953"
             ],
             [
              0.7777777777777778,
              "#fb9f3a"
             ],
             [
              0.8888888888888888,
              "#fdca26"
             ],
             [
              1,
              "#f0f921"
             ]
            ],
            "type": "histogram2dcontour"
           }
          ],
          "mesh3d": [
           {
            "colorbar": {
             "outlinewidth": 0,
             "ticks": ""
            },
            "type": "mesh3d"
           }
          ],
          "parcoords": [
           {
            "line": {
             "colorbar": {
              "outlinewidth": 0,
              "ticks": ""
             }
            },
            "type": "parcoords"
           }
          ],
          "pie": [
           {
            "automargin": true,
            "type": "pie"
           }
          ],
          "scatter": [
           {
            "fillpattern": {
             "fillmode": "overlay",
             "size": 10,
             "solidity": 0.2
            },
            "type": "scatter"
           }
          ],
          "scatter3d": [
           {
            "line": {
             "colorbar": {
              "outlinewidth": 0,
              "ticks": ""
             }
            },
            "marker": {
             "colorbar": {
              "outlinewidth": 0,
              "ticks": ""
             }
            },
            "type": "scatter3d"
           }
          ],
          "scattercarpet": [
           {
            "marker": {
             "colorbar": {
              "outlinewidth": 0,
              "ticks": ""
             }
            },
            "type": "scattercarpet"
           }
          ],
          "scattergeo": [
           {
            "marker": {
             "colorbar": {
              "outlinewidth": 0,
              "ticks": ""
             }
            },
            "type": "scattergeo"
           }
          ],
          "scattergl": [
           {
            "marker": {
             "colorbar": {
              "outlinewidth": 0,
              "ticks": ""
             }
            },
            "type": "scattergl"
           }
          ],
          "scattermap": [
           {
            "marker": {
             "colorbar": {
              "outlinewidth": 0,
              "ticks": ""
             }
            },
            "type": "scattermap"
           }
          ],
          "scattermapbox": [
           {
            "marker": {
             "colorbar": {
              "outlinewidth": 0,
              "ticks": ""
             }
            },
            "type": "scattermapbox"
           }
          ],
          "scatterpolar": [
           {
            "marker": {
             "colorbar": {
              "outlinewidth": 0,
              "ticks": ""
             }
            },
            "type": "scatterpolar"
           }
          ],
          "scatterpolargl": [
           {
            "marker": {
             "colorbar": {
              "outlinewidth": 0,
              "ticks": ""
             }
            },
            "type": "scatterpolargl"
           }
          ],
          "scatterternary": [
           {
            "marker": {
             "colorbar": {
              "outlinewidth": 0,
              "ticks": ""
             }
            },
            "type": "scatterternary"
           }
          ],
          "surface": [
           {
            "colorbar": {
             "outlinewidth": 0,
             "ticks": ""
            },
            "colorscale": [
             [
              0,
              "#0d0887"
             ],
             [
              0.1111111111111111,
              "#46039f"
             ],
             [
              0.2222222222222222,
              "#7201a8"
             ],
             [
              0.3333333333333333,
              "#9c179e"
             ],
             [
              0.4444444444444444,
              "#bd3786"
             ],
             [
              0.5555555555555556,
              "#d8576b"
             ],
             [
              0.6666666666666666,
              "#ed7953"
             ],
             [
              0.7777777777777778,
              "#fb9f3a"
             ],
             [
              0.8888888888888888,
              "#fdca26"
             ],
             [
              1,
              "#f0f921"
             ]
            ],
            "type": "surface"
           }
          ],
          "table": [
           {
            "cells": {
             "fill": {
              "color": "#EBF0F8"
             },
             "line": {
              "color": "white"
             }
            },
            "header": {
             "fill": {
              "color": "#C8D4E3"
             },
             "line": {
              "color": "white"
             }
            },
            "type": "table"
           }
          ]
         },
         "layout": {
          "annotationdefaults": {
           "arrowcolor": "#2a3f5f",
           "arrowhead": 0,
           "arrowwidth": 1
          },
          "autotypenumbers": "strict",
          "coloraxis": {
           "colorbar": {
            "outlinewidth": 0,
            "ticks": ""
           }
          },
          "colorscale": {
           "diverging": [
            [
             0,
             "#8e0152"
            ],
            [
             0.1,
             "#c51b7d"
            ],
            [
             0.2,
             "#de77ae"
            ],
            [
             0.3,
             "#f1b6da"
            ],
            [
             0.4,
             "#fde0ef"
            ],
            [
             0.5,
             "#f7f7f7"
            ],
            [
             0.6,
             "#e6f5d0"
            ],
            [
             0.7,
             "#b8e186"
            ],
            [
             0.8,
             "#7fbc41"
            ],
            [
             0.9,
             "#4d9221"
            ],
            [
             1,
             "#276419"
            ]
           ],
           "sequential": [
            [
             0,
             "#0d0887"
            ],
            [
             0.1111111111111111,
             "#46039f"
            ],
            [
             0.2222222222222222,
             "#7201a8"
            ],
            [
             0.3333333333333333,
             "#9c179e"
            ],
            [
             0.4444444444444444,
             "#bd3786"
            ],
            [
             0.5555555555555556,
             "#d8576b"
            ],
            [
             0.6666666666666666,
             "#ed7953"
            ],
            [
             0.7777777777777778,
             "#fb9f3a"
            ],
            [
             0.8888888888888888,
             "#fdca26"
            ],
            [
             1,
             "#f0f921"
            ]
           ],
           "sequentialminus": [
            [
             0,
             "#0d0887"
            ],
            [
             0.1111111111111111,
             "#46039f"
            ],
            [
             0.2222222222222222,
             "#7201a8"
            ],
            [
             0.3333333333333333,
             "#9c179e"
            ],
            [
             0.4444444444444444,
             "#bd3786"
            ],
            [
             0.5555555555555556,
             "#d8576b"
            ],
            [
             0.6666666666666666,
             "#ed7953"
            ],
            [
             0.7777777777777778,
             "#fb9f3a"
            ],
            [
             0.8888888888888888,
             "#fdca26"
            ],
            [
             1,
             "#f0f921"
            ]
           ]
          },
          "colorway": [
           "#636efa",
           "#EF553B",
           "#00cc96",
           "#ab63fa",
           "#FFA15A",
           "#19d3f3",
           "#FF6692",
           "#B6E880",
           "#FF97FF",
           "#FECB52"
          ],
          "font": {
           "color": "#2a3f5f"
          },
          "geo": {
           "bgcolor": "white",
           "lakecolor": "white",
           "landcolor": "#E5ECF6",
           "showlakes": true,
           "showland": true,
           "subunitcolor": "white"
          },
          "hoverlabel": {
           "align": "left"
          },
          "hovermode": "closest",
          "mapbox": {
           "style": "light"
          },
          "paper_bgcolor": "white",
          "plot_bgcolor": "#E5ECF6",
          "polar": {
           "angularaxis": {
            "gridcolor": "white",
            "linecolor": "white",
            "ticks": ""
           },
           "bgcolor": "#E5ECF6",
           "radialaxis": {
            "gridcolor": "white",
            "linecolor": "white",
            "ticks": ""
           }
          },
          "scene": {
           "xaxis": {
            "backgroundcolor": "#E5ECF6",
            "gridcolor": "white",
            "gridwidth": 2,
            "linecolor": "white",
            "showbackground": true,
            "ticks": "",
            "zerolinecolor": "white"
           },
           "yaxis": {
            "backgroundcolor": "#E5ECF6",
            "gridcolor": "white",
            "gridwidth": 2,
            "linecolor": "white",
            "showbackground": true,
            "ticks": "",
            "zerolinecolor": "white"
           },
           "zaxis": {
            "backgroundcolor": "#E5ECF6",
            "gridcolor": "white",
            "gridwidth": 2,
            "linecolor": "white",
            "showbackground": true,
            "ticks": "",
            "zerolinecolor": "white"
           }
          },
          "shapedefaults": {
           "line": {
            "color": "#2a3f5f"
           }
          },
          "ternary": {
           "aaxis": {
            "gridcolor": "white",
            "linecolor": "white",
            "ticks": ""
           },
           "baxis": {
            "gridcolor": "white",
            "linecolor": "white",
            "ticks": ""
           },
           "bgcolor": "#E5ECF6",
           "caxis": {
            "gridcolor": "white",
            "linecolor": "white",
            "ticks": ""
           }
          },
          "title": {
           "x": 0.05
          },
          "xaxis": {
           "automargin": true,
           "gridcolor": "white",
           "linecolor": "white",
           "ticks": "",
           "title": {
            "standoff": 15
           },
           "zerolinecolor": "white",
           "zerolinewidth": 2
          },
          "yaxis": {
           "automargin": true,
           "gridcolor": "white",
           "linecolor": "white",
           "ticks": "",
           "title": {
            "standoff": 15
           },
           "zerolinecolor": "white",
           "zerolinewidth": 2
          }
         }
        },
        "title": {
         "text": "Salary Distribution by Citizenship Status"
        },
        "xaxis": {
         "anchor": "y",
         "domain": [
          0,
          1
         ],
         "title": {
          "text": "Salary"
         }
        },
        "yaxis": {
         "anchor": "x",
         "domain": [
          0,
          1
         ],
         "title": {
          "text": "CitizenDesc"
         }
        }
       }
      }
     },
     "metadata": {},
     "output_type": "display_data"
    }
   ],
   "source": [
    "fig = px.box(\n",
    "    df_hr,\n",
    "    x=\"Salary\",\n",
    "    y=\"CitizenDesc\",\n",
    "    title=\"Salary Distribution by Citizenship Status\",\n",
    ")\n",
    "fig.show()"
   ]
  },
  {
   "cell_type": "markdown",
   "metadata": {},
   "source": [
    "---\n",
    "\n",
    "### 🎯 Example 4: Salary distribution by performance\n",
    "\n",
    "▶️ Draw horizontal box plots of `Salary` by `PerformanceScore`.\n"
   ]
  },
  {
   "cell_type": "code",
   "execution_count": 10,
   "metadata": {},
   "outputs": [
    {
     "data": {
      "application/vnd.plotly.v1+json": {
       "config": {
        "plotlyServerURL": "https://plot.ly"
       },
       "data": [
        {
         "alignmentgroup": "True",
         "hovertemplate": "Salary=%{x}<br>PerformanceScore=%{y}<extra></extra>",
         "legendgroup": "",
         "marker": {
          "color": "#636efa"
         },
         "name": "",
         "notched": false,
         "offsetgroup": "",
         "orientation": "h",
         "showlegend": false,
         "type": "box",
         "x": {
          "bdata": "KvQAAPWXAQC7/QAA3/0AAInGAADg4AAArHUBAOXnAADdugAAAsQAAI7VAABruAAAqGgBAFXlAAAZzQAA6uEAAPMRAQCS5gAAsK0BAALQAABkxwAAl/0AAL71AACJAwEA1+EAAL2UAQB/nwEASCIBAPTQAAAY9gAACP8AAHf7AABWIgEAE/kAANLyAAB8LwEAwBsBANRsAQBuzgAAv4YBALQYAQDY8AAAUbEBAN3TAADc6wAA+AQBABL9AAAw/QAARgwBAEL6AADp5wAAxcQAAIT2AAAI5wAA0wkBAASaAgCV9wAAYEYBAFXbAACpaAEAwQABACRMAQDv4AAA5tsAAJ/eAACq2QAAT4sBAIDwAACj4wAAxc8AADR6AQA7yAAAX+cAAJDwAAD/tAAA3RMBAIgeAgABIgEAtCUBADL0AACm6gAA+L4AAA3UAAAP3gAAtOsAAPTmAADQgwEAYBgBAG4BAQCU4QAAOfoAAHbQAACi5AAAoRsBAJ3aAAArEgEAULcCABeEAQCzBgEAqwABABnMAACzzwAAicgAADHJAADq5wAAldYAANfhAABz8AAAcMABALcjAQAazwAA9OkAACINAQA67wAACQUBAJ28AABlAgEAaMAAAO31AABF+QAAzIIBABsYAQAs1gAA9voAANHLAABx8gAAlrcAAAMKAQCREwEA9vcAAM9+AQAgvwIAAMMAAIHYAADcDgEA4/0AAFYKAQCKRAEAxMoAADrvAAANsAAANO0AABTsAAD1tgAA5JwBAFr3AADi7gAAhw0BADLFAAAe/wAAkNADAPXSAAB5sQAAPrYAAOX5AACrFgEAFmwBAEZDAQAaAgEAKLQAAAj8AAAK8gAAsD4BALz4AAB2awEA4vwAAEQTAQBbMAEAkM0AANr3AABBygAApQYBAHIeAQBZywAASrkAADTOAABTsQAAsfMAADcLAQCl7wAA2JwBAHTTAAAT2AAAWvUAADv3AADD9AAAiNkAANNGAQD42QAAX+MAAEhlAgAMGwEAqhkBAHfNAADG9wAAsSIBAOfgAABxVwEAJsUAAEi2AABvvQAA+M4AAM/4AABt8gAAsgQBAMLNAAAeGQEAS/YAADa5AABEzwAA3QwBABv4AAC7qQEApWsBADzRAABu6wAArrMAAGLiAACtIwEA8iEBAHJtAQDU/AAAmbcAAJTxAADPtgAAUOgAAF61AACjRQEAsHYBACHxAABx8QAAO7AAAJK2AADL/QAAGtkAAPzEAADu7wAAefcAABtfAQDA1AEAEksCANPsAAC8zwAAeCYCAAdGAgDGUAEAhroAAFy1AAB34gAAz1kBAFPbAADrxgAAPsYAAHfLAAASVwEA0MoAAIb5AADw7AAAIB0BANjWAAA75gAAIQQBAA1WAQAV+gAAsgABANnzAABZuwAAoeMAABv2AACr7wAA2OoAAML4AAAx9gAAZucAAD1rAQD0XwEAUu0AAAoaAQAC5AAAHb0AAGgGAQAT3AAAjfsAADH2AAARJgEAQIgBAD0kAQD9KAEAA+IAAJvkAACQWwEAQ9oAAE+9AQBtwgAAdPIAAO0DAQCAOgEAYsQAAKdLAQDaogEAA+QAAGTXAADO4gAAUOkAAGsTAQAe7AAAZQEBAIG9AAAiXQMAzFwBAPavAAA=",
          "dtype": "i4"
         },
         "x0": " ",
         "xaxis": "x",
         "y": [
          "Exceeds",
          "Fully Meets",
          "Fully Meets",
          "Fully Meets",
          "Fully Meets",
          "Exceeds",
          "Fully Meets",
          "Fully Meets",
          "Fully Meets",
          "Fully Meets",
          "Fully Meets",
          "Fully Meets",
          "Exceeds",
          "Fully Meets",
          "Fully Meets",
          "Fully Meets",
          "Exceeds",
          "Fully Meets",
          "Fully Meets",
          "Fully Meets",
          "Fully Meets",
          "Fully Meets",
          "Exceeds",
          "Needs Improvement",
          "Fully Meets",
          "Fully Meets",
          "Fully Meets",
          "Fully Meets",
          "Fully Meets",
          "Fully Meets",
          "Fully Meets",
          "Fully Meets",
          "Fully Meets",
          "Fully Meets",
          "Fully Meets",
          "Fully Meets",
          "Exceeds",
          "Fully Meets",
          "Fully Meets",
          "Fully Meets",
          "Fully Meets",
          "Fully Meets",
          "Fully Meets",
          "Fully Meets",
          "Fully Meets",
          "Fully Meets",
          "Fully Meets",
          "Fully Meets",
          "Fully Meets",
          "Fully Meets",
          "Fully Meets",
          "Exceeds",
          "Fully Meets",
          "Needs Improvement",
          "Needs Improvement",
          "Exceeds",
          "Fully Meets",
          "Fully Meets",
          "Fully Meets",
          "Fully Meets",
          "Fully Meets",
          "Fully Meets",
          "Fully Meets",
          "Fully Meets",
          "Fully Meets",
          "Fully Meets",
          "Fully Meets",
          "PIP",
          "Fully Meets",
          "PIP",
          "Fully Meets",
          "Fully Meets",
          "PIP",
          "Needs Improvement",
          "Fully Meets",
          "Fully Meets",
          "Exceeds",
          "Exceeds",
          "Fully Meets",
          "Fully Meets",
          "Fully Meets",
          "Fully Meets",
          "Fully Meets",
          "PIP",
          "Needs Improvement",
          "Needs Improvement",
          "Needs Improvement",
          "Fully Meets",
          "Fully Meets",
          "Fully Meets",
          "PIP",
          "PIP",
          "Fully Meets",
          "Fully Meets",
          "Fully Meets",
          "PIP",
          "Exceeds",
          "Fully Meets",
          "Fully Meets",
          "Fully Meets",
          "Fully Meets",
          "Fully Meets",
          "Fully Meets",
          "Fully Meets",
          "Fully Meets",
          "Needs Improvement",
          "Exceeds",
          "Fully Meets",
          "Fully Meets",
          "Fully Meets",
          "Fully Meets",
          "Exceeds",
          "PIP",
          "Fully Meets",
          "Fully Meets",
          "Fully Meets",
          "Fully Meets",
          "Fully Meets",
          "Fully Meets",
          "Fully Meets",
          "Fully Meets",
          "Fully Meets",
          "Fully Meets",
          "Fully Meets",
          "Fully Meets",
          "Exceeds",
          "Fully Meets",
          "Fully Meets",
          "Fully Meets",
          "Fully Meets",
          "Fully Meets",
          "Fully Meets",
          "Fully Meets",
          "Fully Meets",
          "Fully Meets",
          "Fully Meets",
          "Fully Meets",
          "Needs Improvement",
          "Fully Meets",
          "Fully Meets",
          "Fully Meets",
          "Exceeds",
          "Fully Meets",
          "Exceeds",
          "Fully Meets",
          "Exceeds",
          "Fully Meets",
          "Fully Meets",
          "Fully Meets",
          "Fully Meets",
          "Fully Meets",
          "Fully Meets",
          "Fully Meets",
          "Fully Meets",
          "Fully Meets",
          "Fully Meets",
          "Fully Meets",
          "Fully Meets",
          "Fully Meets",
          "Fully Meets",
          "Fully Meets",
          "Fully Meets",
          "Fully Meets",
          "Fully Meets",
          "Fully Meets",
          "Fully Meets",
          "Fully Meets",
          "Exceeds",
          "Fully Meets",
          "Fully Meets",
          "Exceeds",
          "Fully Meets",
          "Exceeds",
          "Fully Meets",
          "Exceeds",
          "Fully Meets",
          "Fully Meets",
          "Fully Meets",
          "Fully Meets",
          "Fully Meets",
          "Fully Meets",
          "Fully Meets",
          "Fully Meets",
          "Fully Meets",
          "Fully Meets",
          "Fully Meets",
          "Fully Meets",
          "Fully Meets",
          "PIP",
          "Fully Meets",
          "Needs Improvement",
          "Exceeds",
          "Fully Meets",
          "Fully Meets",
          "Fully Meets",
          "Fully Meets",
          "Fully Meets",
          "Fully Meets",
          "Fully Meets",
          "Fully Meets",
          "Fully Meets",
          "Exceeds",
          "Fully Meets",
          "Fully Meets",
          "Fully Meets",
          "PIP",
          "Fully Meets",
          "Fully Meets",
          "Exceeds",
          "Needs Improvement",
          "Fully Meets",
          "Fully Meets",
          "Exceeds",
          "Fully Meets",
          "Needs Improvement",
          "Needs Improvement",
          "Fully Meets",
          "Exceeds",
          "Fully Meets",
          "Fully Meets",
          "Exceeds",
          "Fully Meets",
          "Fully Meets",
          "Fully Meets",
          "Fully Meets",
          "Fully Meets",
          "Fully Meets",
          "Fully Meets",
          "Fully Meets",
          "Fully Meets",
          "Fully Meets",
          "Fully Meets",
          "Exceeds",
          "Fully Meets",
          "Fully Meets",
          "Fully Meets",
          "Needs Improvement",
          "Exceeds",
          "Fully Meets",
          "Fully Meets",
          "Fully Meets",
          "Fully Meets",
          "Fully Meets",
          "Fully Meets",
          "Fully Meets",
          "Fully Meets",
          "Needs Improvement",
          "Fully Meets",
          "Fully Meets",
          "Fully Meets",
          "Fully Meets",
          "Fully Meets",
          "Fully Meets",
          "Fully Meets",
          "Fully Meets",
          "Fully Meets",
          "Fully Meets",
          "Exceeds",
          "Needs Improvement",
          "Fully Meets",
          "Fully Meets",
          "Fully Meets",
          "Fully Meets",
          "PIP",
          "Fully Meets",
          "Exceeds",
          "Fully Meets",
          "PIP",
          "Fully Meets",
          "Fully Meets",
          "Fully Meets",
          "Fully Meets",
          "Fully Meets",
          "Fully Meets",
          "Exceeds",
          "Fully Meets",
          "Fully Meets",
          "Fully Meets",
          "Fully Meets",
          "Fully Meets",
          "Fully Meets",
          "Fully Meets",
          "Exceeds",
          "Needs Improvement",
          "Fully Meets",
          "Fully Meets",
          "Fully Meets",
          "Fully Meets",
          "Fully Meets",
          "Exceeds",
          "Fully Meets",
          "Fully Meets",
          "Fully Meets",
          "Exceeds",
          "Fully Meets",
          "Fully Meets",
          "Fully Meets",
          "Needs Improvement",
          "Fully Meets",
          "Fully Meets",
          "Fully Meets",
          "Fully Meets",
          "Fully Meets",
          "Fully Meets",
          "Exceeds",
          "Fully Meets",
          "Fully Meets",
          "PIP",
          "Exceeds",
          "Fully Meets",
          "Fully Meets"
         ],
         "y0": " ",
         "yaxis": "y"
        }
       ],
       "layout": {
        "boxmode": "group",
        "legend": {
         "tracegroupgap": 0
        },
        "template": {
         "data": {
          "bar": [
           {
            "error_x": {
             "color": "#2a3f5f"
            },
            "error_y": {
             "color": "#2a3f5f"
            },
            "marker": {
             "line": {
              "color": "#E5ECF6",
              "width": 0.5
             },
             "pattern": {
              "fillmode": "overlay",
              "size": 10,
              "solidity": 0.2
             }
            },
            "type": "bar"
           }
          ],
          "barpolar": [
           {
            "marker": {
             "line": {
              "color": "#E5ECF6",
              "width": 0.5
             },
             "pattern": {
              "fillmode": "overlay",
              "size": 10,
              "solidity": 0.2
             }
            },
            "type": "barpolar"
           }
          ],
          "carpet": [
           {
            "aaxis": {
             "endlinecolor": "#2a3f5f",
             "gridcolor": "white",
             "linecolor": "white",
             "minorgridcolor": "white",
             "startlinecolor": "#2a3f5f"
            },
            "baxis": {
             "endlinecolor": "#2a3f5f",
             "gridcolor": "white",
             "linecolor": "white",
             "minorgridcolor": "white",
             "startlinecolor": "#2a3f5f"
            },
            "type": "carpet"
           }
          ],
          "choropleth": [
           {
            "colorbar": {
             "outlinewidth": 0,
             "ticks": ""
            },
            "type": "choropleth"
           }
          ],
          "contour": [
           {
            "colorbar": {
             "outlinewidth": 0,
             "ticks": ""
            },
            "colorscale": [
             [
              0,
              "#0d0887"
             ],
             [
              0.1111111111111111,
              "#46039f"
             ],
             [
              0.2222222222222222,
              "#7201a8"
             ],
             [
              0.3333333333333333,
              "#9c179e"
             ],
             [
              0.4444444444444444,
              "#bd3786"
             ],
             [
              0.5555555555555556,
              "#d8576b"
             ],
             [
              0.6666666666666666,
              "#ed7953"
             ],
             [
              0.7777777777777778,
              "#fb9f3a"
             ],
             [
              0.8888888888888888,
              "#fdca26"
             ],
             [
              1,
              "#f0f921"
             ]
            ],
            "type": "contour"
           }
          ],
          "contourcarpet": [
           {
            "colorbar": {
             "outlinewidth": 0,
             "ticks": ""
            },
            "type": "contourcarpet"
           }
          ],
          "heatmap": [
           {
            "colorbar": {
             "outlinewidth": 0,
             "ticks": ""
            },
            "colorscale": [
             [
              0,
              "#0d0887"
             ],
             [
              0.1111111111111111,
              "#46039f"
             ],
             [
              0.2222222222222222,
              "#7201a8"
             ],
             [
              0.3333333333333333,
              "#9c179e"
             ],
             [
              0.4444444444444444,
              "#bd3786"
             ],
             [
              0.5555555555555556,
              "#d8576b"
             ],
             [
              0.6666666666666666,
              "#ed7953"
             ],
             [
              0.7777777777777778,
              "#fb9f3a"
             ],
             [
              0.8888888888888888,
              "#fdca26"
             ],
             [
              1,
              "#f0f921"
             ]
            ],
            "type": "heatmap"
           }
          ],
          "histogram": [
           {
            "marker": {
             "pattern": {
              "fillmode": "overlay",
              "size": 10,
              "solidity": 0.2
             }
            },
            "type": "histogram"
           }
          ],
          "histogram2d": [
           {
            "colorbar": {
             "outlinewidth": 0,
             "ticks": ""
            },
            "colorscale": [
             [
              0,
              "#0d0887"
             ],
             [
              0.1111111111111111,
              "#46039f"
             ],
             [
              0.2222222222222222,
              "#7201a8"
             ],
             [
              0.3333333333333333,
              "#9c179e"
             ],
             [
              0.4444444444444444,
              "#bd3786"
             ],
             [
              0.5555555555555556,
              "#d8576b"
             ],
             [
              0.6666666666666666,
              "#ed7953"
             ],
             [
              0.7777777777777778,
              "#fb9f3a"
             ],
             [
              0.8888888888888888,
              "#fdca26"
             ],
             [
              1,
              "#f0f921"
             ]
            ],
            "type": "histogram2d"
           }
          ],
          "histogram2dcontour": [
           {
            "colorbar": {
             "outlinewidth": 0,
             "ticks": ""
            },
            "colorscale": [
             [
              0,
              "#0d0887"
             ],
             [
              0.1111111111111111,
              "#46039f"
             ],
             [
              0.2222222222222222,
              "#7201a8"
             ],
             [
              0.3333333333333333,
              "#9c179e"
             ],
             [
              0.4444444444444444,
              "#bd3786"
             ],
             [
              0.5555555555555556,
              "#d8576b"
             ],
             [
              0.6666666666666666,
              "#ed7953"
             ],
             [
              0.7777777777777778,
              "#fb9f3a"
             ],
             [
              0.8888888888888888,
              "#fdca26"
             ],
             [
              1,
              "#f0f921"
             ]
            ],
            "type": "histogram2dcontour"
           }
          ],
          "mesh3d": [
           {
            "colorbar": {
             "outlinewidth": 0,
             "ticks": ""
            },
            "type": "mesh3d"
           }
          ],
          "parcoords": [
           {
            "line": {
             "colorbar": {
              "outlinewidth": 0,
              "ticks": ""
             }
            },
            "type": "parcoords"
           }
          ],
          "pie": [
           {
            "automargin": true,
            "type": "pie"
           }
          ],
          "scatter": [
           {
            "fillpattern": {
             "fillmode": "overlay",
             "size": 10,
             "solidity": 0.2
            },
            "type": "scatter"
           }
          ],
          "scatter3d": [
           {
            "line": {
             "colorbar": {
              "outlinewidth": 0,
              "ticks": ""
             }
            },
            "marker": {
             "colorbar": {
              "outlinewidth": 0,
              "ticks": ""
             }
            },
            "type": "scatter3d"
           }
          ],
          "scattercarpet": [
           {
            "marker": {
             "colorbar": {
              "outlinewidth": 0,
              "ticks": ""
             }
            },
            "type": "scattercarpet"
           }
          ],
          "scattergeo": [
           {
            "marker": {
             "colorbar": {
              "outlinewidth": 0,
              "ticks": ""
             }
            },
            "type": "scattergeo"
           }
          ],
          "scattergl": [
           {
            "marker": {
             "colorbar": {
              "outlinewidth": 0,
              "ticks": ""
             }
            },
            "type": "scattergl"
           }
          ],
          "scattermap": [
           {
            "marker": {
             "colorbar": {
              "outlinewidth": 0,
              "ticks": ""
             }
            },
            "type": "scattermap"
           }
          ],
          "scattermapbox": [
           {
            "marker": {
             "colorbar": {
              "outlinewidth": 0,
              "ticks": ""
             }
            },
            "type": "scattermapbox"
           }
          ],
          "scatterpolar": [
           {
            "marker": {
             "colorbar": {
              "outlinewidth": 0,
              "ticks": ""
             }
            },
            "type": "scatterpolar"
           }
          ],
          "scatterpolargl": [
           {
            "marker": {
             "colorbar": {
              "outlinewidth": 0,
              "ticks": ""
             }
            },
            "type": "scatterpolargl"
           }
          ],
          "scatterternary": [
           {
            "marker": {
             "colorbar": {
              "outlinewidth": 0,
              "ticks": ""
             }
            },
            "type": "scatterternary"
           }
          ],
          "surface": [
           {
            "colorbar": {
             "outlinewidth": 0,
             "ticks": ""
            },
            "colorscale": [
             [
              0,
              "#0d0887"
             ],
             [
              0.1111111111111111,
              "#46039f"
             ],
             [
              0.2222222222222222,
              "#7201a8"
             ],
             [
              0.3333333333333333,
              "#9c179e"
             ],
             [
              0.4444444444444444,
              "#bd3786"
             ],
             [
              0.5555555555555556,
              "#d8576b"
             ],
             [
              0.6666666666666666,
              "#ed7953"
             ],
             [
              0.7777777777777778,
              "#fb9f3a"
             ],
             [
              0.8888888888888888,
              "#fdca26"
             ],
             [
              1,
              "#f0f921"
             ]
            ],
            "type": "surface"
           }
          ],
          "table": [
           {
            "cells": {
             "fill": {
              "color": "#EBF0F8"
             },
             "line": {
              "color": "white"
             }
            },
            "header": {
             "fill": {
              "color": "#C8D4E3"
             },
             "line": {
              "color": "white"
             }
            },
            "type": "table"
           }
          ]
         },
         "layout": {
          "annotationdefaults": {
           "arrowcolor": "#2a3f5f",
           "arrowhead": 0,
           "arrowwidth": 1
          },
          "autotypenumbers": "strict",
          "coloraxis": {
           "colorbar": {
            "outlinewidth": 0,
            "ticks": ""
           }
          },
          "colorscale": {
           "diverging": [
            [
             0,
             "#8e0152"
            ],
            [
             0.1,
             "#c51b7d"
            ],
            [
             0.2,
             "#de77ae"
            ],
            [
             0.3,
             "#f1b6da"
            ],
            [
             0.4,
             "#fde0ef"
            ],
            [
             0.5,
             "#f7f7f7"
            ],
            [
             0.6,
             "#e6f5d0"
            ],
            [
             0.7,
             "#b8e186"
            ],
            [
             0.8,
             "#7fbc41"
            ],
            [
             0.9,
             "#4d9221"
            ],
            [
             1,
             "#276419"
            ]
           ],
           "sequential": [
            [
             0,
             "#0d0887"
            ],
            [
             0.1111111111111111,
             "#46039f"
            ],
            [
             0.2222222222222222,
             "#7201a8"
            ],
            [
             0.3333333333333333,
             "#9c179e"
            ],
            [
             0.4444444444444444,
             "#bd3786"
            ],
            [
             0.5555555555555556,
             "#d8576b"
            ],
            [
             0.6666666666666666,
             "#ed7953"
            ],
            [
             0.7777777777777778,
             "#fb9f3a"
            ],
            [
             0.8888888888888888,
             "#fdca26"
            ],
            [
             1,
             "#f0f921"
            ]
           ],
           "sequentialminus": [
            [
             0,
             "#0d0887"
            ],
            [
             0.1111111111111111,
             "#46039f"
            ],
            [
             0.2222222222222222,
             "#7201a8"
            ],
            [
             0.3333333333333333,
             "#9c179e"
            ],
            [
             0.4444444444444444,
             "#bd3786"
            ],
            [
             0.5555555555555556,
             "#d8576b"
            ],
            [
             0.6666666666666666,
             "#ed7953"
            ],
            [
             0.7777777777777778,
             "#fb9f3a"
            ],
            [
             0.8888888888888888,
             "#fdca26"
            ],
            [
             1,
             "#f0f921"
            ]
           ]
          },
          "colorway": [
           "#636efa",
           "#EF553B",
           "#00cc96",
           "#ab63fa",
           "#FFA15A",
           "#19d3f3",
           "#FF6692",
           "#B6E880",
           "#FF97FF",
           "#FECB52"
          ],
          "font": {
           "color": "#2a3f5f"
          },
          "geo": {
           "bgcolor": "white",
           "lakecolor": "white",
           "landcolor": "#E5ECF6",
           "showlakes": true,
           "showland": true,
           "subunitcolor": "white"
          },
          "hoverlabel": {
           "align": "left"
          },
          "hovermode": "closest",
          "mapbox": {
           "style": "light"
          },
          "paper_bgcolor": "white",
          "plot_bgcolor": "#E5ECF6",
          "polar": {
           "angularaxis": {
            "gridcolor": "white",
            "linecolor": "white",
            "ticks": ""
           },
           "bgcolor": "#E5ECF6",
           "radialaxis": {
            "gridcolor": "white",
            "linecolor": "white",
            "ticks": ""
           }
          },
          "scene": {
           "xaxis": {
            "backgroundcolor": "#E5ECF6",
            "gridcolor": "white",
            "gridwidth": 2,
            "linecolor": "white",
            "showbackground": true,
            "ticks": "",
            "zerolinecolor": "white"
           },
           "yaxis": {
            "backgroundcolor": "#E5ECF6",
            "gridcolor": "white",
            "gridwidth": 2,
            "linecolor": "white",
            "showbackground": true,
            "ticks": "",
            "zerolinecolor": "white"
           },
           "zaxis": {
            "backgroundcolor": "#E5ECF6",
            "gridcolor": "white",
            "gridwidth": 2,
            "linecolor": "white",
            "showbackground": true,
            "ticks": "",
            "zerolinecolor": "white"
           }
          },
          "shapedefaults": {
           "line": {
            "color": "#2a3f5f"
           }
          },
          "ternary": {
           "aaxis": {
            "gridcolor": "white",
            "linecolor": "white",
            "ticks": ""
           },
           "baxis": {
            "gridcolor": "white",
            "linecolor": "white",
            "ticks": ""
           },
           "bgcolor": "#E5ECF6",
           "caxis": {
            "gridcolor": "white",
            "linecolor": "white",
            "ticks": ""
           }
          },
          "title": {
           "x": 0.05
          },
          "xaxis": {
           "automargin": true,
           "gridcolor": "white",
           "linecolor": "white",
           "ticks": "",
           "title": {
            "standoff": 15
           },
           "zerolinecolor": "white",
           "zerolinewidth": 2
          },
          "yaxis": {
           "automargin": true,
           "gridcolor": "white",
           "linecolor": "white",
           "ticks": "",
           "title": {
            "standoff": 15
           },
           "zerolinecolor": "white",
           "zerolinewidth": 2
          }
         }
        },
        "title": {
         "text": "Salary Distribution by Performance Score"
        },
        "xaxis": {
         "anchor": "y",
         "domain": [
          0,
          1
         ],
         "title": {
          "text": "Salary"
         }
        },
        "yaxis": {
         "anchor": "x",
         "domain": [
          0,
          1
         ],
         "title": {
          "text": "PerformanceScore"
         }
        }
       }
      }
     },
     "metadata": {},
     "output_type": "display_data"
    }
   ],
   "source": [
    "# YOUR CODE BEGINS\n",
    "fig = px.box(\n",
    "    df_hr,\n",
    "    x=\"Salary\",\n",
    "    y=\"PerformanceScore\",\n",
    "    title=\"Salary Distribution by Performance Score\",\n",
    ")\n",
    "fig.show()\n",
    "# YOUR CODE ENDS"
   ]
  },
  {
   "cell_type": "markdown",
   "metadata": {},
   "source": [
    "---\n",
    "\n",
    "### 🎯 Example 4: Salary distribution by department\n",
    "\n",
    "▶️ Draw horizontal box plots of `Salary` by `Department`.\n"
   ]
  },
  {
   "cell_type": "code",
   "execution_count": 11,
   "metadata": {},
   "outputs": [
    {
     "data": {
      "application/vnd.plotly.v1+json": {
       "config": {
        "plotlyServerURL": "https://plot.ly"
       },
       "data": [
        {
         "alignmentgroup": "True",
         "hovertemplate": "Salary=%{x}<br>Department=%{y}<extra></extra>",
         "legendgroup": "",
         "marker": {
          "color": "#636efa"
         },
         "name": "",
         "notched": false,
         "offsetgroup": "",
         "orientation": "h",
         "showlegend": false,
         "type": "box",
         "x": {
          "bdata": "KvQAAPWXAQC7/QAA3/0AAInGAADg4AAArHUBAOXnAADdugAAAsQAAI7VAABruAAAqGgBAFXlAAAZzQAA6uEAAPMRAQCS5gAAsK0BAALQAABkxwAAl/0AAL71AACJAwEA1+EAAL2UAQB/nwEASCIBAPTQAAAY9gAACP8AAHf7AABWIgEAE/kAANLyAAB8LwEAwBsBANRsAQBuzgAAv4YBALQYAQDY8AAAUbEBAN3TAADc6wAA+AQBABL9AAAw/QAARgwBAEL6AADp5wAAxcQAAIT2AAAI5wAA0wkBAASaAgCV9wAAYEYBAFXbAACpaAEAwQABACRMAQDv4AAA5tsAAJ/eAACq2QAAT4sBAIDwAACj4wAAxc8AADR6AQA7yAAAX+cAAJDwAAD/tAAA3RMBAIgeAgABIgEAtCUBADL0AACm6gAA+L4AAA3UAAAP3gAAtOsAAPTmAADQgwEAYBgBAG4BAQCU4QAAOfoAAHbQAACi5AAAoRsBAJ3aAAArEgEAULcCABeEAQCzBgEAqwABABnMAACzzwAAicgAADHJAADq5wAAldYAANfhAABz8AAAcMABALcjAQAazwAA9OkAACINAQA67wAACQUBAJ28AABlAgEAaMAAAO31AABF+QAAzIIBABsYAQAs1gAA9voAANHLAABx8gAAlrcAAAMKAQCREwEA9vcAAM9+AQAgvwIAAMMAAIHYAADcDgEA4/0AAFYKAQCKRAEAxMoAADrvAAANsAAANO0AABTsAAD1tgAA5JwBAFr3AADi7gAAhw0BADLFAAAe/wAAkNADAPXSAAB5sQAAPrYAAOX5AACrFgEAFmwBAEZDAQAaAgEAKLQAAAj8AAAK8gAAsD4BALz4AAB2awEA4vwAAEQTAQBbMAEAkM0AANr3AABBygAApQYBAHIeAQBZywAASrkAADTOAABTsQAAsfMAADcLAQCl7wAA2JwBAHTTAAAT2AAAWvUAADv3AADD9AAAiNkAANNGAQD42QAAX+MAAEhlAgAMGwEAqhkBAHfNAADG9wAAsSIBAOfgAABxVwEAJsUAAEi2AABvvQAA+M4AAM/4AABt8gAAsgQBAMLNAAAeGQEAS/YAADa5AABEzwAA3QwBABv4AAC7qQEApWsBADzRAABu6wAArrMAAGLiAACtIwEA8iEBAHJtAQDU/AAAmbcAAJTxAADPtgAAUOgAAF61AACjRQEAsHYBACHxAABx8QAAO7AAAJK2AADL/QAAGtkAAPzEAADu7wAAefcAABtfAQDA1AEAEksCANPsAAC8zwAAeCYCAAdGAgDGUAEAhroAAFy1AAB34gAAz1kBAFPbAADrxgAAPsYAAHfLAAASVwEA0MoAAIb5AADw7AAAIB0BANjWAAA75gAAIQQBAA1WAQAV+gAAsgABANnzAABZuwAAoeMAABv2AACr7wAA2OoAAML4AAAx9gAAZucAAD1rAQD0XwEAUu0AAAoaAQAC5AAAHb0AAGgGAQAT3AAAjfsAADH2AAARJgEAQIgBAD0kAQD9KAEAA+IAAJvkAACQWwEAQ9oAAE+9AQBtwgAAdPIAAO0DAQCAOgEAYsQAAKdLAQDaogEAA+QAAGTXAADO4gAAUOkAAGsTAQAe7AAAZQEBAIG9AAAiXQMAzFwBAPavAAA=",
          "dtype": "i4"
         },
         "x0": " ",
         "xaxis": "x",
         "y": [
          "Production       ",
          "IT/IS",
          "Production       ",
          "Production       ",
          "Production       ",
          "Production       ",
          "Software Engineering",
          "Production       ",
          "Production       ",
          "IT/IS",
          "Production       ",
          "Production       ",
          "IT/IS",
          "Production       ",
          "Production       ",
          "Production       ",
          "Production       ",
          "Production       ",
          "IT/IS",
          "Production       ",
          "Production       ",
          "Production       ",
          "Production       ",
          "Production       ",
          "Production       ",
          "IT/IS",
          "Admin Offices",
          "Production       ",
          "Production       ",
          "Admin Offices",
          "Production       ",
          "Production       ",
          "Sales",
          "Production       ",
          "Production       ",
          "Software Engineering",
          "Production       ",
          "Software Engineering",
          "Production       ",
          "IT/IS",
          "Sales",
          "Production       ",
          "IT/IS",
          "Production       ",
          "Production       ",
          "Sales",
          "Production       ",
          "Production       ",
          "IT/IS",
          "Production       ",
          "Production       ",
          "Production       ",
          "Production       ",
          "Production       ",
          "Production       ",
          "Production       ",
          "Production       ",
          "IT/IS",
          "Production       ",
          "IT/IS",
          "Sales",
          "IT/IS",
          "Production       ",
          "Production       ",
          "Production       ",
          "Production       ",
          "Software Engineering",
          "Sales",
          "Production       ",
          "Production       ",
          "IT/IS",
          "Production       ",
          "Sales",
          "Production       ",
          "Production       ",
          "IT/IS",
          "IT/IS",
          "Sales",
          "Production       ",
          "Production       ",
          "Production       ",
          "Production       ",
          "Production       ",
          "Production       ",
          "Production       ",
          "Production       ",
          "Software Engineering",
          "Production       ",
          "Production       ",
          "Production       ",
          "Production       ",
          "IT/IS",
          "Production       ",
          "Production       ",
          "Production       ",
          "Sales",
          "IT/IS",
          "Admin Offices",
          "Sales",
          "IT/IS",
          "Production       ",
          "Production       ",
          "Production       ",
          "Production       ",
          "Sales",
          "Production       ",
          "Production       ",
          "Sales",
          "IT/IS",
          "IT/IS",
          "Production       ",
          "Production       ",
          "Production       ",
          "IT/IS",
          "Production       ",
          "Production       ",
          "Production       ",
          "Production       ",
          "Production       ",
          "Production       ",
          "IT/IS",
          "Sales",
          "Production       ",
          "Production       ",
          "Production       ",
          "Production       ",
          "Production       ",
          "Production       ",
          "Sales",
          "Production       ",
          "IT/IS",
          "Sales",
          "Admin Offices",
          "Production       ",
          "Production       ",
          "Production       ",
          "Production       ",
          "Production       ",
          "Production       ",
          "Production       ",
          "Production       ",
          "Production       ",
          "Production       ",
          "Production       ",
          "IT/IS",
          "Production       ",
          "Production       ",
          "Sales",
          "Production       ",
          "Sales",
          "Executive Office",
          "Production       ",
          "Production       ",
          "Production       ",
          "Production       ",
          "Sales",
          "IT/IS",
          "Production       ",
          "Production       ",
          "Production       ",
          "Admin Offices",
          "Production       ",
          "IT/IS",
          "Production       ",
          "Admin Offices",
          "Production       ",
          "Sales",
          "Production       ",
          "Production       ",
          "Production       ",
          "IT/IS",
          "Production       ",
          "Production       ",
          "Production       ",
          "Production       ",
          "Production       ",
          "Production       ",
          "Production       ",
          "Production       ",
          "Production       ",
          "Software Engineering",
          "Production       ",
          "Production       ",
          "Production       ",
          "Sales",
          "Production       ",
          "Production       ",
          "Production       ",
          "Production       ",
          "Production       ",
          "IT/IS",
          "Production       ",
          "Production       ",
          "IT/IS",
          "Production       ",
          "Production       ",
          "Production       ",
          "IT/IS",
          "Production       ",
          "Production       ",
          "Production       ",
          "Production       ",
          "Sales",
          "Production       ",
          "Production       ",
          "Production       ",
          "Production       ",
          "Sales",
          "Production       ",
          "Production       ",
          "Sales",
          "Production       ",
          "Software Engineering",
          "IT/IS",
          "Production       ",
          "Production       ",
          "Production       ",
          "Production       ",
          "Production       ",
          "Production       ",
          "IT/IS",
          "Production       ",
          "Production       ",
          "Sales",
          "Production       ",
          "Production       ",
          "Production       ",
          "Software Engineering",
          "IT/IS",
          "Production       ",
          "Sales",
          "Production       ",
          "Production       ",
          "Production       ",
          "Production       ",
          "Production       ",
          "Production       ",
          "Production       ",
          "IT/IS",
          "IT/IS",
          "IT/IS",
          "Production       ",
          "Production       ",
          "IT/IS",
          "IT/IS",
          "Software Engineering",
          "Production       ",
          "Production       ",
          "Production       ",
          "IT/IS",
          "Production       ",
          "Production       ",
          "IT/IS",
          "Production       ",
          "IT/IS",
          "Admin Offices",
          "Production       ",
          "Production       ",
          "Sales",
          "Admin Offices",
          "Production       ",
          "IT/IS",
          "IT/IS",
          "Production       ",
          "Production       ",
          "Production       ",
          "Production       ",
          "Sales",
          "Admin Offices",
          "Production       ",
          "Sales",
          "Production       ",
          "Production       ",
          "Production       ",
          "Software Engineering",
          "IT/IS",
          "Production       ",
          "Production       ",
          "Sales",
          "Production       ",
          "Production       ",
          "Production       ",
          "Sales",
          "Production       ",
          "IT/IS",
          "Software Engineering",
          "Production       ",
          "IT/IS",
          "Sales",
          "Production       ",
          "Production       ",
          "Sales",
          "IT/IS",
          "Production       ",
          "Production       ",
          "Production       ",
          "Production       ",
          "Production       ",
          "IT/IS",
          "IT/IS",
          "Production       ",
          "Production       ",
          "Production       ",
          "Production       ",
          "Production       ",
          "Production       ",
          "Production       ",
          "Production       ",
          "IT/IS",
          "IT/IS",
          "Production       "
         ],
         "y0": " ",
         "yaxis": "y"
        }
       ],
       "layout": {
        "boxmode": "group",
        "height": 600,
        "legend": {
         "tracegroupgap": 0
        },
        "template": {
         "data": {
          "bar": [
           {
            "error_x": {
             "color": "#2a3f5f"
            },
            "error_y": {
             "color": "#2a3f5f"
            },
            "marker": {
             "line": {
              "color": "#E5ECF6",
              "width": 0.5
             },
             "pattern": {
              "fillmode": "overlay",
              "size": 10,
              "solidity": 0.2
             }
            },
            "type": "bar"
           }
          ],
          "barpolar": [
           {
            "marker": {
             "line": {
              "color": "#E5ECF6",
              "width": 0.5
             },
             "pattern": {
              "fillmode": "overlay",
              "size": 10,
              "solidity": 0.2
             }
            },
            "type": "barpolar"
           }
          ],
          "carpet": [
           {
            "aaxis": {
             "endlinecolor": "#2a3f5f",
             "gridcolor": "white",
             "linecolor": "white",
             "minorgridcolor": "white",
             "startlinecolor": "#2a3f5f"
            },
            "baxis": {
             "endlinecolor": "#2a3f5f",
             "gridcolor": "white",
             "linecolor": "white",
             "minorgridcolor": "white",
             "startlinecolor": "#2a3f5f"
            },
            "type": "carpet"
           }
          ],
          "choropleth": [
           {
            "colorbar": {
             "outlinewidth": 0,
             "ticks": ""
            },
            "type": "choropleth"
           }
          ],
          "contour": [
           {
            "colorbar": {
             "outlinewidth": 0,
             "ticks": ""
            },
            "colorscale": [
             [
              0,
              "#0d0887"
             ],
             [
              0.1111111111111111,
              "#46039f"
             ],
             [
              0.2222222222222222,
              "#7201a8"
             ],
             [
              0.3333333333333333,
              "#9c179e"
             ],
             [
              0.4444444444444444,
              "#bd3786"
             ],
             [
              0.5555555555555556,
              "#d8576b"
             ],
             [
              0.6666666666666666,
              "#ed7953"
             ],
             [
              0.7777777777777778,
              "#fb9f3a"
             ],
             [
              0.8888888888888888,
              "#fdca26"
             ],
             [
              1,
              "#f0f921"
             ]
            ],
            "type": "contour"
           }
          ],
          "contourcarpet": [
           {
            "colorbar": {
             "outlinewidth": 0,
             "ticks": ""
            },
            "type": "contourcarpet"
           }
          ],
          "heatmap": [
           {
            "colorbar": {
             "outlinewidth": 0,
             "ticks": ""
            },
            "colorscale": [
             [
              0,
              "#0d0887"
             ],
             [
              0.1111111111111111,
              "#46039f"
             ],
             [
              0.2222222222222222,
              "#7201a8"
             ],
             [
              0.3333333333333333,
              "#9c179e"
             ],
             [
              0.4444444444444444,
              "#bd3786"
             ],
             [
              0.5555555555555556,
              "#d8576b"
             ],
             [
              0.6666666666666666,
              "#ed7953"
             ],
             [
              0.7777777777777778,
              "#fb9f3a"
             ],
             [
              0.8888888888888888,
              "#fdca26"
             ],
             [
              1,
              "#f0f921"
             ]
            ],
            "type": "heatmap"
           }
          ],
          "histogram": [
           {
            "marker": {
             "pattern": {
              "fillmode": "overlay",
              "size": 10,
              "solidity": 0.2
             }
            },
            "type": "histogram"
           }
          ],
          "histogram2d": [
           {
            "colorbar": {
             "outlinewidth": 0,
             "ticks": ""
            },
            "colorscale": [
             [
              0,
              "#0d0887"
             ],
             [
              0.1111111111111111,
              "#46039f"
             ],
             [
              0.2222222222222222,
              "#7201a8"
             ],
             [
              0.3333333333333333,
              "#9c179e"
             ],
             [
              0.4444444444444444,
              "#bd3786"
             ],
             [
              0.5555555555555556,
              "#d8576b"
             ],
             [
              0.6666666666666666,
              "#ed7953"
             ],
             [
              0.7777777777777778,
              "#fb9f3a"
             ],
             [
              0.8888888888888888,
              "#fdca26"
             ],
             [
              1,
              "#f0f921"
             ]
            ],
            "type": "histogram2d"
           }
          ],
          "histogram2dcontour": [
           {
            "colorbar": {
             "outlinewidth": 0,
             "ticks": ""
            },
            "colorscale": [
             [
              0,
              "#0d0887"
             ],
             [
              0.1111111111111111,
              "#46039f"
             ],
             [
              0.2222222222222222,
              "#7201a8"
             ],
             [
              0.3333333333333333,
              "#9c179e"
             ],
             [
              0.4444444444444444,
              "#bd3786"
             ],
             [
              0.5555555555555556,
              "#d8576b"
             ],
             [
              0.6666666666666666,
              "#ed7953"
             ],
             [
              0.7777777777777778,
              "#fb9f3a"
             ],
             [
              0.8888888888888888,
              "#fdca26"
             ],
             [
              1,
              "#f0f921"
             ]
            ],
            "type": "histogram2dcontour"
           }
          ],
          "mesh3d": [
           {
            "colorbar": {
             "outlinewidth": 0,
             "ticks": ""
            },
            "type": "mesh3d"
           }
          ],
          "parcoords": [
           {
            "line": {
             "colorbar": {
              "outlinewidth": 0,
              "ticks": ""
             }
            },
            "type": "parcoords"
           }
          ],
          "pie": [
           {
            "automargin": true,
            "type": "pie"
           }
          ],
          "scatter": [
           {
            "fillpattern": {
             "fillmode": "overlay",
             "size": 10,
             "solidity": 0.2
            },
            "type": "scatter"
           }
          ],
          "scatter3d": [
           {
            "line": {
             "colorbar": {
              "outlinewidth": 0,
              "ticks": ""
             }
            },
            "marker": {
             "colorbar": {
              "outlinewidth": 0,
              "ticks": ""
             }
            },
            "type": "scatter3d"
           }
          ],
          "scattercarpet": [
           {
            "marker": {
             "colorbar": {
              "outlinewidth": 0,
              "ticks": ""
             }
            },
            "type": "scattercarpet"
           }
          ],
          "scattergeo": [
           {
            "marker": {
             "colorbar": {
              "outlinewidth": 0,
              "ticks": ""
             }
            },
            "type": "scattergeo"
           }
          ],
          "scattergl": [
           {
            "marker": {
             "colorbar": {
              "outlinewidth": 0,
              "ticks": ""
             }
            },
            "type": "scattergl"
           }
          ],
          "scattermap": [
           {
            "marker": {
             "colorbar": {
              "outlinewidth": 0,
              "ticks": ""
             }
            },
            "type": "scattermap"
           }
          ],
          "scattermapbox": [
           {
            "marker": {
             "colorbar": {
              "outlinewidth": 0,
              "ticks": ""
             }
            },
            "type": "scattermapbox"
           }
          ],
          "scatterpolar": [
           {
            "marker": {
             "colorbar": {
              "outlinewidth": 0,
              "ticks": ""
             }
            },
            "type": "scatterpolar"
           }
          ],
          "scatterpolargl": [
           {
            "marker": {
             "colorbar": {
              "outlinewidth": 0,
              "ticks": ""
             }
            },
            "type": "scatterpolargl"
           }
          ],
          "scatterternary": [
           {
            "marker": {
             "colorbar": {
              "outlinewidth": 0,
              "ticks": ""
             }
            },
            "type": "scatterternary"
           }
          ],
          "surface": [
           {
            "colorbar": {
             "outlinewidth": 0,
             "ticks": ""
            },
            "colorscale": [
             [
              0,
              "#0d0887"
             ],
             [
              0.1111111111111111,
              "#46039f"
             ],
             [
              0.2222222222222222,
              "#7201a8"
             ],
             [
              0.3333333333333333,
              "#9c179e"
             ],
             [
              0.4444444444444444,
              "#bd3786"
             ],
             [
              0.5555555555555556,
              "#d8576b"
             ],
             [
              0.6666666666666666,
              "#ed7953"
             ],
             [
              0.7777777777777778,
              "#fb9f3a"
             ],
             [
              0.8888888888888888,
              "#fdca26"
             ],
             [
              1,
              "#f0f921"
             ]
            ],
            "type": "surface"
           }
          ],
          "table": [
           {
            "cells": {
             "fill": {
              "color": "#EBF0F8"
             },
             "line": {
              "color": "white"
             }
            },
            "header": {
             "fill": {
              "color": "#C8D4E3"
             },
             "line": {
              "color": "white"
             }
            },
            "type": "table"
           }
          ]
         },
         "layout": {
          "annotationdefaults": {
           "arrowcolor": "#2a3f5f",
           "arrowhead": 0,
           "arrowwidth": 1
          },
          "autotypenumbers": "strict",
          "coloraxis": {
           "colorbar": {
            "outlinewidth": 0,
            "ticks": ""
           }
          },
          "colorscale": {
           "diverging": [
            [
             0,
             "#8e0152"
            ],
            [
             0.1,
             "#c51b7d"
            ],
            [
             0.2,
             "#de77ae"
            ],
            [
             0.3,
             "#f1b6da"
            ],
            [
             0.4,
             "#fde0ef"
            ],
            [
             0.5,
             "#f7f7f7"
            ],
            [
             0.6,
             "#e6f5d0"
            ],
            [
             0.7,
             "#b8e186"
            ],
            [
             0.8,
             "#7fbc41"
            ],
            [
             0.9,
             "#4d9221"
            ],
            [
             1,
             "#276419"
            ]
           ],
           "sequential": [
            [
             0,
             "#0d0887"
            ],
            [
             0.1111111111111111,
             "#46039f"
            ],
            [
             0.2222222222222222,
             "#7201a8"
            ],
            [
             0.3333333333333333,
             "#9c179e"
            ],
            [
             0.4444444444444444,
             "#bd3786"
            ],
            [
             0.5555555555555556,
             "#d8576b"
            ],
            [
             0.6666666666666666,
             "#ed7953"
            ],
            [
             0.7777777777777778,
             "#fb9f3a"
            ],
            [
             0.8888888888888888,
             "#fdca26"
            ],
            [
             1,
             "#f0f921"
            ]
           ],
           "sequentialminus": [
            [
             0,
             "#0d0887"
            ],
            [
             0.1111111111111111,
             "#46039f"
            ],
            [
             0.2222222222222222,
             "#7201a8"
            ],
            [
             0.3333333333333333,
             "#9c179e"
            ],
            [
             0.4444444444444444,
             "#bd3786"
            ],
            [
             0.5555555555555556,
             "#d8576b"
            ],
            [
             0.6666666666666666,
             "#ed7953"
            ],
            [
             0.7777777777777778,
             "#fb9f3a"
            ],
            [
             0.8888888888888888,
             "#fdca26"
            ],
            [
             1,
             "#f0f921"
            ]
           ]
          },
          "colorway": [
           "#636efa",
           "#EF553B",
           "#00cc96",
           "#ab63fa",
           "#FFA15A",
           "#19d3f3",
           "#FF6692",
           "#B6E880",
           "#FF97FF",
           "#FECB52"
          ],
          "font": {
           "color": "#2a3f5f"
          },
          "geo": {
           "bgcolor": "white",
           "lakecolor": "white",
           "landcolor": "#E5ECF6",
           "showlakes": true,
           "showland": true,
           "subunitcolor": "white"
          },
          "hoverlabel": {
           "align": "left"
          },
          "hovermode": "closest",
          "mapbox": {
           "style": "light"
          },
          "paper_bgcolor": "white",
          "plot_bgcolor": "#E5ECF6",
          "polar": {
           "angularaxis": {
            "gridcolor": "white",
            "linecolor": "white",
            "ticks": ""
           },
           "bgcolor": "#E5ECF6",
           "radialaxis": {
            "gridcolor": "white",
            "linecolor": "white",
            "ticks": ""
           }
          },
          "scene": {
           "xaxis": {
            "backgroundcolor": "#E5ECF6",
            "gridcolor": "white",
            "gridwidth": 2,
            "linecolor": "white",
            "showbackground": true,
            "ticks": "",
            "zerolinecolor": "white"
           },
           "yaxis": {
            "backgroundcolor": "#E5ECF6",
            "gridcolor": "white",
            "gridwidth": 2,
            "linecolor": "white",
            "showbackground": true,
            "ticks": "",
            "zerolinecolor": "white"
           },
           "zaxis": {
            "backgroundcolor": "#E5ECF6",
            "gridcolor": "white",
            "gridwidth": 2,
            "linecolor": "white",
            "showbackground": true,
            "ticks": "",
            "zerolinecolor": "white"
           }
          },
          "shapedefaults": {
           "line": {
            "color": "#2a3f5f"
           }
          },
          "ternary": {
           "aaxis": {
            "gridcolor": "white",
            "linecolor": "white",
            "ticks": ""
           },
           "baxis": {
            "gridcolor": "white",
            "linecolor": "white",
            "ticks": ""
           },
           "bgcolor": "#E5ECF6",
           "caxis": {
            "gridcolor": "white",
            "linecolor": "white",
            "ticks": ""
           }
          },
          "title": {
           "x": 0.05
          },
          "xaxis": {
           "automargin": true,
           "gridcolor": "white",
           "linecolor": "white",
           "ticks": "",
           "title": {
            "standoff": 15
           },
           "zerolinecolor": "white",
           "zerolinewidth": 2
          },
          "yaxis": {
           "automargin": true,
           "gridcolor": "white",
           "linecolor": "white",
           "ticks": "",
           "title": {
            "standoff": 15
           },
           "zerolinecolor": "white",
           "zerolinewidth": 2
          }
         }
        },
        "title": {
         "text": "Salary Distribution by Department"
        },
        "xaxis": {
         "anchor": "y",
         "domain": [
          0,
          1
         ],
         "title": {
          "text": "Salary"
         }
        },
        "yaxis": {
         "anchor": "x",
         "domain": [
          0,
          1
         ],
         "title": {
          "text": "Department"
         }
        }
       }
      }
     },
     "metadata": {},
     "output_type": "display_data"
    }
   ],
   "source": [
    "# YOUR CODE BEGINS\n",
    "fig = px.box(\n",
    "    df_hr,\n",
    "    x=\"Salary\",\n",
    "    y=\"Department\",\n",
    "    title=\"Salary Distribution by Department\",\n",
    "    height=600,\n",
    ")\n",
    "fig.show()\n",
    "# YOUR CODE ENDS"
   ]
  },
  {
   "cell_type": "markdown",
   "metadata": {},
   "source": [
    "---\n",
    "\n",
    "### 🧶 Histogram\n",
    "\n",
    "Histograms display frequency distributions using bars of different heights.\n",
    "\n",
    "Here is an example histogram showing the distribution of 500 random integers following a normal distribution.\n"
   ]
  },
  {
   "cell_type": "code",
   "execution_count": 12,
   "metadata": {},
   "outputs": [
    {
     "data": {
      "application/vnd.plotly.v1+json": {
       "config": {
        "plotlyServerURL": "https://plot.ly"
       },
       "data": [
        {
         "bingroup": "x",
         "hovertemplate": "x=%{x}<br>count=%{y}<extra></extra>",
         "legendgroup": "",
         "marker": {
          "color": "#636efa",
          "pattern": {
           "shape": ""
          }
         },
         "name": "",
         "orientation": "v",
         "showlegend": false,
         "type": "histogram",
         "x": {
          "bdata": "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",
          "dtype": "f8"
         },
         "xaxis": "x",
         "yaxis": "y"
        }
       ],
       "layout": {
        "barmode": "relative",
        "legend": {
         "tracegroupgap": 0
        },
        "margin": {
         "t": 60
        },
        "template": {
         "data": {
          "bar": [
           {
            "error_x": {
             "color": "#2a3f5f"
            },
            "error_y": {
             "color": "#2a3f5f"
            },
            "marker": {
             "line": {
              "color": "#E5ECF6",
              "width": 0.5
             },
             "pattern": {
              "fillmode": "overlay",
              "size": 10,
              "solidity": 0.2
             }
            },
            "type": "bar"
           }
          ],
          "barpolar": [
           {
            "marker": {
             "line": {
              "color": "#E5ECF6",
              "width": 0.5
             },
             "pattern": {
              "fillmode": "overlay",
              "size": 10,
              "solidity": 0.2
             }
            },
            "type": "barpolar"
           }
          ],
          "carpet": [
           {
            "aaxis": {
             "endlinecolor": "#2a3f5f",
             "gridcolor": "white",
             "linecolor": "white",
             "minorgridcolor": "white",
             "startlinecolor": "#2a3f5f"
            },
            "baxis": {
             "endlinecolor": "#2a3f5f",
             "gridcolor": "white",
             "linecolor": "white",
             "minorgridcolor": "white",
             "startlinecolor": "#2a3f5f"
            },
            "type": "carpet"
           }
          ],
          "choropleth": [
           {
            "colorbar": {
             "outlinewidth": 0,
             "ticks": ""
            },
            "type": "choropleth"
           }
          ],
          "contour": [
           {
            "colorbar": {
             "outlinewidth": 0,
             "ticks": ""
            },
            "colorscale": [
             [
              0,
              "#0d0887"
             ],
             [
              0.1111111111111111,
              "#46039f"
             ],
             [
              0.2222222222222222,
              "#7201a8"
             ],
             [
              0.3333333333333333,
              "#9c179e"
             ],
             [
              0.4444444444444444,
              "#bd3786"
             ],
             [
              0.5555555555555556,
              "#d8576b"
             ],
             [
              0.6666666666666666,
              "#ed7953"
             ],
             [
              0.7777777777777778,
              "#fb9f3a"
             ],
             [
              0.8888888888888888,
              "#fdca26"
             ],
             [
              1,
              "#f0f921"
             ]
            ],
            "type": "contour"
           }
          ],
          "contourcarpet": [
           {
            "colorbar": {
             "outlinewidth": 0,
             "ticks": ""
            },
            "type": "contourcarpet"
           }
          ],
          "heatmap": [
           {
            "colorbar": {
             "outlinewidth": 0,
             "ticks": ""
            },
            "colorscale": [
             [
              0,
              "#0d0887"
             ],
             [
              0.1111111111111111,
              "#46039f"
             ],
             [
              0.2222222222222222,
              "#7201a8"
             ],
             [
              0.3333333333333333,
              "#9c179e"
             ],
             [
              0.4444444444444444,
              "#bd3786"
             ],
             [
              0.5555555555555556,
              "#d8576b"
             ],
             [
              0.6666666666666666,
              "#ed7953"
             ],
             [
              0.7777777777777778,
              "#fb9f3a"
             ],
             [
              0.8888888888888888,
              "#fdca26"
             ],
             [
              1,
              "#f0f921"
             ]
            ],
            "type": "heatmap"
           }
          ],
          "histogram": [
           {
            "marker": {
             "pattern": {
              "fillmode": "overlay",
              "size": 10,
              "solidity": 0.2
             }
            },
            "type": "histogram"
           }
          ],
          "histogram2d": [
           {
            "colorbar": {
             "outlinewidth": 0,
             "ticks": ""
            },
            "colorscale": [
             [
              0,
              "#0d0887"
             ],
             [
              0.1111111111111111,
              "#46039f"
             ],
             [
              0.2222222222222222,
              "#7201a8"
             ],
             [
              0.3333333333333333,
              "#9c179e"
             ],
             [
              0.4444444444444444,
              "#bd3786"
             ],
             [
              0.5555555555555556,
              "#d8576b"
             ],
             [
              0.6666666666666666,
              "#ed7953"
             ],
             [
              0.7777777777777778,
              "#fb9f3a"
             ],
             [
              0.8888888888888888,
              "#fdca26"
             ],
             [
              1,
              "#f0f921"
             ]
            ],
            "type": "histogram2d"
           }
          ],
          "histogram2dcontour": [
           {
            "colorbar": {
             "outlinewidth": 0,
             "ticks": ""
            },
            "colorscale": [
             [
              0,
              "#0d0887"
             ],
             [
              0.1111111111111111,
              "#46039f"
             ],
             [
              0.2222222222222222,
              "#7201a8"
             ],
             [
              0.3333333333333333,
              "#9c179e"
             ],
             [
              0.4444444444444444,
              "#bd3786"
             ],
             [
              0.5555555555555556,
              "#d8576b"
             ],
             [
              0.6666666666666666,
              "#ed7953"
             ],
             [
              0.7777777777777778,
              "#fb9f3a"
             ],
             [
              0.8888888888888888,
              "#fdca26"
             ],
             [
              1,
              "#f0f921"
             ]
            ],
            "type": "histogram2dcontour"
           }
          ],
          "mesh3d": [
           {
            "colorbar": {
             "outlinewidth": 0,
             "ticks": ""
            },
            "type": "mesh3d"
           }
          ],
          "parcoords": [
           {
            "line": {
             "colorbar": {
              "outlinewidth": 0,
              "ticks": ""
             }
            },
            "type": "parcoords"
           }
          ],
          "pie": [
           {
            "automargin": true,
            "type": "pie"
           }
          ],
          "scatter": [
           {
            "fillpattern": {
             "fillmode": "overlay",
             "size": 10,
             "solidity": 0.2
            },
            "type": "scatter"
           }
          ],
          "scatter3d": [
           {
            "line": {
             "colorbar": {
              "outlinewidth": 0,
              "ticks": ""
             }
            },
            "marker": {
             "colorbar": {
              "outlinewidth": 0,
              "ticks": ""
             }
            },
            "type": "scatter3d"
           }
          ],
          "scattercarpet": [
           {
            "marker": {
             "colorbar": {
              "outlinewidth": 0,
              "ticks": ""
             }
            },
            "type": "scattercarpet"
           }
          ],
          "scattergeo": [
           {
            "marker": {
             "colorbar": {
              "outlinewidth": 0,
              "ticks": ""
             }
            },
            "type": "scattergeo"
           }
          ],
          "scattergl": [
           {
            "marker": {
             "colorbar": {
              "outlinewidth": 0,
              "ticks": ""
             }
            },
            "type": "scattergl"
           }
          ],
          "scattermap": [
           {
            "marker": {
             "colorbar": {
              "outlinewidth": 0,
              "ticks": ""
             }
            },
            "type": "scattermap"
           }
          ],
          "scattermapbox": [
           {
            "marker": {
             "colorbar": {
              "outlinewidth": 0,
              "ticks": ""
             }
            },
            "type": "scattermapbox"
           }
          ],
          "scatterpolar": [
           {
            "marker": {
             "colorbar": {
              "outlinewidth": 0,
              "ticks": ""
             }
            },
            "type": "scatterpolar"
           }
          ],
          "scatterpolargl": [
           {
            "marker": {
             "colorbar": {
              "outlinewidth": 0,
              "ticks": ""
             }
            },
            "type": "scatterpolargl"
           }
          ],
          "scatterternary": [
           {
            "marker": {
             "colorbar": {
              "outlinewidth": 0,
              "ticks": ""
             }
            },
            "type": "scatterternary"
           }
          ],
          "surface": [
           {
            "colorbar": {
             "outlinewidth": 0,
             "ticks": ""
            },
            "colorscale": [
             [
              0,
              "#0d0887"
             ],
             [
              0.1111111111111111,
              "#46039f"
             ],
             [
              0.2222222222222222,
              "#7201a8"
             ],
             [
              0.3333333333333333,
              "#9c179e"
             ],
             [
              0.4444444444444444,
              "#bd3786"
             ],
             [
              0.5555555555555556,
              "#d8576b"
             ],
             [
              0.6666666666666666,
              "#ed7953"
             ],
             [
              0.7777777777777778,
              "#fb9f3a"
             ],
             [
              0.8888888888888888,
              "#fdca26"
             ],
             [
              1,
              "#f0f921"
             ]
            ],
            "type": "surface"
           }
          ],
          "table": [
           {
            "cells": {
             "fill": {
              "color": "#EBF0F8"
             },
             "line": {
              "color": "white"
             }
            },
            "header": {
             "fill": {
              "color": "#C8D4E3"
             },
             "line": {
              "color": "white"
             }
            },
            "type": "table"
           }
          ]
         },
         "layout": {
          "annotationdefaults": {
           "arrowcolor": "#2a3f5f",
           "arrowhead": 0,
           "arrowwidth": 1
          },
          "autotypenumbers": "strict",
          "coloraxis": {
           "colorbar": {
            "outlinewidth": 0,
            "ticks": ""
           }
          },
          "colorscale": {
           "diverging": [
            [
             0,
             "#8e0152"
            ],
            [
             0.1,
             "#c51b7d"
            ],
            [
             0.2,
             "#de77ae"
            ],
            [
             0.3,
             "#f1b6da"
            ],
            [
             0.4,
             "#fde0ef"
            ],
            [
             0.5,
             "#f7f7f7"
            ],
            [
             0.6,
             "#e6f5d0"
            ],
            [
             0.7,
             "#b8e186"
            ],
            [
             0.8,
             "#7fbc41"
            ],
            [
             0.9,
             "#4d9221"
            ],
            [
             1,
             "#276419"
            ]
           ],
           "sequential": [
            [
             0,
             "#0d0887"
            ],
            [
             0.1111111111111111,
             "#46039f"
            ],
            [
             0.2222222222222222,
             "#7201a8"
            ],
            [
             0.3333333333333333,
             "#9c179e"
            ],
            [
             0.4444444444444444,
             "#bd3786"
            ],
            [
             0.5555555555555556,
             "#d8576b"
            ],
            [
             0.6666666666666666,
             "#ed7953"
            ],
            [
             0.7777777777777778,
             "#fb9f3a"
            ],
            [
             0.8888888888888888,
             "#fdca26"
            ],
            [
             1,
             "#f0f921"
            ]
           ],
           "sequentialminus": [
            [
             0,
             "#0d0887"
            ],
            [
             0.1111111111111111,
             "#46039f"
            ],
            [
             0.2222222222222222,
             "#7201a8"
            ],
            [
             0.3333333333333333,
             "#9c179e"
            ],
            [
             0.4444444444444444,
             "#bd3786"
            ],
            [
             0.5555555555555556,
             "#d8576b"
            ],
            [
             0.6666666666666666,
             "#ed7953"
            ],
            [
             0.7777777777777778,
             "#fb9f3a"
            ],
            [
             0.8888888888888888,
             "#fdca26"
            ],
            [
             1,
             "#f0f921"
            ]
           ]
          },
          "colorway": [
           "#636efa",
           "#EF553B",
           "#00cc96",
           "#ab63fa",
           "#FFA15A",
           "#19d3f3",
           "#FF6692",
           "#B6E880",
           "#FF97FF",
           "#FECB52"
          ],
          "font": {
           "color": "#2a3f5f"
          },
          "geo": {
           "bgcolor": "white",
           "lakecolor": "white",
           "landcolor": "#E5ECF6",
           "showlakes": true,
           "showland": true,
           "subunitcolor": "white"
          },
          "hoverlabel": {
           "align": "left"
          },
          "hovermode": "closest",
          "mapbox": {
           "style": "light"
          },
          "paper_bgcolor": "white",
          "plot_bgcolor": "#E5ECF6",
          "polar": {
           "angularaxis": {
            "gridcolor": "white",
            "linecolor": "white",
            "ticks": ""
           },
           "bgcolor": "#E5ECF6",
           "radialaxis": {
            "gridcolor": "white",
            "linecolor": "white",
            "ticks": ""
           }
          },
          "scene": {
           "xaxis": {
            "backgroundcolor": "#E5ECF6",
            "gridcolor": "white",
            "gridwidth": 2,
            "linecolor": "white",
            "showbackground": true,
            "ticks": "",
            "zerolinecolor": "white"
           },
           "yaxis": {
            "backgroundcolor": "#E5ECF6",
            "gridcolor": "white",
            "gridwidth": 2,
            "linecolor": "white",
            "showbackground": true,
            "ticks": "",
            "zerolinecolor": "white"
           },
           "zaxis": {
            "backgroundcolor": "#E5ECF6",
            "gridcolor": "white",
            "gridwidth": 2,
            "linecolor": "white",
            "showbackground": true,
            "ticks": "",
            "zerolinecolor": "white"
           }
          },
          "shapedefaults": {
           "line": {
            "color": "#2a3f5f"
           }
          },
          "ternary": {
           "aaxis": {
            "gridcolor": "white",
            "linecolor": "white",
            "ticks": ""
           },
           "baxis": {
            "gridcolor": "white",
            "linecolor": "white",
            "ticks": ""
           },
           "bgcolor": "#E5ECF6",
           "caxis": {
            "gridcolor": "white",
            "linecolor": "white",
            "ticks": ""
           }
          },
          "title": {
           "x": 0.05
          },
          "xaxis": {
           "automargin": true,
           "gridcolor": "white",
           "linecolor": "white",
           "ticks": "",
           "title": {
            "standoff": 15
           },
           "zerolinecolor": "white",
           "zerolinewidth": 2
          },
          "yaxis": {
           "automargin": true,
           "gridcolor": "white",
           "linecolor": "white",
           "ticks": "",
           "title": {
            "standoff": 15
           },
           "zerolinecolor": "white",
           "zerolinewidth": 2
          }
         }
        },
        "xaxis": {
         "anchor": "y",
         "domain": [
          0,
          1
         ],
         "title": {
          "text": "x"
         }
        },
        "yaxis": {
         "anchor": "x",
         "domain": [
          0,
          1
         ],
         "title": {
          "text": "count"
         }
        }
       }
      }
     },
     "metadata": {},
     "output_type": "display_data"
    }
   ],
   "source": [
    "fig = px.histogram(x=np.random.randn(500))\n",
    "fig.show()"
   ]
  },
  {
   "cell_type": "markdown",
   "metadata": {},
   "source": [
    "---\n",
    "\n",
    "### 🎯 Example 4: Salary histogram\n",
    "\n",
    "▶️ Draw a histogram of `Salary` in `df_hr`.\n"
   ]
  },
  {
   "cell_type": "code",
   "execution_count": 13,
   "metadata": {},
   "outputs": [
    {
     "data": {
      "application/vnd.plotly.v1+json": {
       "config": {
        "plotlyServerURL": "https://plot.ly"
       },
       "data": [
        {
         "bingroup": "x",
         "hovertemplate": "Salary=%{x}<br>count=%{y}<extra></extra>",
         "legendgroup": "",
         "marker": {
          "color": "#636efa",
          "pattern": {
           "shape": ""
          }
         },
         "name": "",
         "orientation": "v",
         "showlegend": false,
         "type": "histogram",
         "x": {
          "bdata": "KvQAAPWXAQC7/QAA3/0AAInGAADg4AAArHUBAOXnAADdugAAAsQAAI7VAABruAAAqGgBAFXlAAAZzQAA6uEAAPMRAQCS5gAAsK0BAALQAABkxwAAl/0AAL71AACJAwEA1+EAAL2UAQB/nwEASCIBAPTQAAAY9gAACP8AAHf7AABWIgEAE/kAANLyAAB8LwEAwBsBANRsAQBuzgAAv4YBALQYAQDY8AAAUbEBAN3TAADc6wAA+AQBABL9AAAw/QAARgwBAEL6AADp5wAAxcQAAIT2AAAI5wAA0wkBAASaAgCV9wAAYEYBAFXbAACpaAEAwQABACRMAQDv4AAA5tsAAJ/eAACq2QAAT4sBAIDwAACj4wAAxc8AADR6AQA7yAAAX+cAAJDwAAD/tAAA3RMBAIgeAgABIgEAtCUBADL0AACm6gAA+L4AAA3UAAAP3gAAtOsAAPTmAADQgwEAYBgBAG4BAQCU4QAAOfoAAHbQAACi5AAAoRsBAJ3aAAArEgEAULcCABeEAQCzBgEAqwABABnMAACzzwAAicgAADHJAADq5wAAldYAANfhAABz8AAAcMABALcjAQAazwAA9OkAACINAQA67wAACQUBAJ28AABlAgEAaMAAAO31AABF+QAAzIIBABsYAQAs1gAA9voAANHLAABx8gAAlrcAAAMKAQCREwEA9vcAAM9+AQAgvwIAAMMAAIHYAADcDgEA4/0AAFYKAQCKRAEAxMoAADrvAAANsAAANO0AABTsAAD1tgAA5JwBAFr3AADi7gAAhw0BADLFAAAe/wAAkNADAPXSAAB5sQAAPrYAAOX5AACrFgEAFmwBAEZDAQAaAgEAKLQAAAj8AAAK8gAAsD4BALz4AAB2awEA4vwAAEQTAQBbMAEAkM0AANr3AABBygAApQYBAHIeAQBZywAASrkAADTOAABTsQAAsfMAADcLAQCl7wAA2JwBAHTTAAAT2AAAWvUAADv3AADD9AAAiNkAANNGAQD42QAAX+MAAEhlAgAMGwEAqhkBAHfNAADG9wAAsSIBAOfgAABxVwEAJsUAAEi2AABvvQAA+M4AAM/4AABt8gAAsgQBAMLNAAAeGQEAS/YAADa5AABEzwAA3QwBABv4AAC7qQEApWsBADzRAABu6wAArrMAAGLiAACtIwEA8iEBAHJtAQDU/AAAmbcAAJTxAADPtgAAUOgAAF61AACjRQEAsHYBACHxAABx8QAAO7AAAJK2AADL/QAAGtkAAPzEAADu7wAAefcAABtfAQDA1AEAEksCANPsAAC8zwAAeCYCAAdGAgDGUAEAhroAAFy1AAB34gAAz1kBAFPbAADrxgAAPsYAAHfLAAASVwEA0MoAAIb5AADw7AAAIB0BANjWAAA75gAAIQQBAA1WAQAV+gAAsgABANnzAABZuwAAoeMAABv2AACr7wAA2OoAAML4AAAx9gAAZucAAD1rAQD0XwEAUu0AAAoaAQAC5AAAHb0AAGgGAQAT3AAAjfsAADH2AAARJgEAQIgBAD0kAQD9KAEAA+IAAJvkAACQWwEAQ9oAAE+9AQBtwgAAdPIAAO0DAQCAOgEAYsQAAKdLAQDaogEAA+QAAGTXAADO4gAAUOkAAGsTAQAe7AAAZQEBAIG9AAAiXQMAzFwBAPavAAA=",
          "dtype": "i4"
         },
         "xaxis": "x",
         "yaxis": "y"
        }
       ],
       "layout": {
        "barmode": "relative",
        "legend": {
         "tracegroupgap": 0
        },
        "template": {
         "data": {
          "bar": [
           {
            "error_x": {
             "color": "#2a3f5f"
            },
            "error_y": {
             "color": "#2a3f5f"
            },
            "marker": {
             "line": {
              "color": "#E5ECF6",
              "width": 0.5
             },
             "pattern": {
              "fillmode": "overlay",
              "size": 10,
              "solidity": 0.2
             }
            },
            "type": "bar"
           }
          ],
          "barpolar": [
           {
            "marker": {
             "line": {
              "color": "#E5ECF6",
              "width": 0.5
             },
             "pattern": {
              "fillmode": "overlay",
              "size": 10,
              "solidity": 0.2
             }
            },
            "type": "barpolar"
           }
          ],
          "carpet": [
           {
            "aaxis": {
             "endlinecolor": "#2a3f5f",
             "gridcolor": "white",
             "linecolor": "white",
             "minorgridcolor": "white",
             "startlinecolor": "#2a3f5f"
            },
            "baxis": {
             "endlinecolor": "#2a3f5f",
             "gridcolor": "white",
             "linecolor": "white",
             "minorgridcolor": "white",
             "startlinecolor": "#2a3f5f"
            },
            "type": "carpet"
           }
          ],
          "choropleth": [
           {
            "colorbar": {
             "outlinewidth": 0,
             "ticks": ""
            },
            "type": "choropleth"
           }
          ],
          "contour": [
           {
            "colorbar": {
             "outlinewidth": 0,
             "ticks": ""
            },
            "colorscale": [
             [
              0,
              "#0d0887"
             ],
             [
              0.1111111111111111,
              "#46039f"
             ],
             [
              0.2222222222222222,
              "#7201a8"
             ],
             [
              0.3333333333333333,
              "#9c179e"
             ],
             [
              0.4444444444444444,
              "#bd3786"
             ],
             [
              0.5555555555555556,
              "#d8576b"
             ],
             [
              0.6666666666666666,
              "#ed7953"
             ],
             [
              0.7777777777777778,
              "#fb9f3a"
             ],
             [
              0.8888888888888888,
              "#fdca26"
             ],
             [
              1,
              "#f0f921"
             ]
            ],
            "type": "contour"
           }
          ],
          "contourcarpet": [
           {
            "colorbar": {
             "outlinewidth": 0,
             "ticks": ""
            },
            "type": "contourcarpet"
           }
          ],
          "heatmap": [
           {
            "colorbar": {
             "outlinewidth": 0,
             "ticks": ""
            },
            "colorscale": [
             [
              0,
              "#0d0887"
             ],
             [
              0.1111111111111111,
              "#46039f"
             ],
             [
              0.2222222222222222,
              "#7201a8"
             ],
             [
              0.3333333333333333,
              "#9c179e"
             ],
             [
              0.4444444444444444,
              "#bd3786"
             ],
             [
              0.5555555555555556,
              "#d8576b"
             ],
             [
              0.6666666666666666,
              "#ed7953"
             ],
             [
              0.7777777777777778,
              "#fb9f3a"
             ],
             [
              0.8888888888888888,
              "#fdca26"
             ],
             [
              1,
              "#f0f921"
             ]
            ],
            "type": "heatmap"
           }
          ],
          "histogram": [
           {
            "marker": {
             "pattern": {
              "fillmode": "overlay",
              "size": 10,
              "solidity": 0.2
             }
            },
            "type": "histogram"
           }
          ],
          "histogram2d": [
           {
            "colorbar": {
             "outlinewidth": 0,
             "ticks": ""
            },
            "colorscale": [
             [
              0,
              "#0d0887"
             ],
             [
              0.1111111111111111,
              "#46039f"
             ],
             [
              0.2222222222222222,
              "#7201a8"
             ],
             [
              0.3333333333333333,
              "#9c179e"
             ],
             [
              0.4444444444444444,
              "#bd3786"
             ],
             [
              0.5555555555555556,
              "#d8576b"
             ],
             [
              0.6666666666666666,
              "#ed7953"
             ],
             [
              0.7777777777777778,
              "#fb9f3a"
             ],
             [
              0.8888888888888888,
              "#fdca26"
             ],
             [
              1,
              "#f0f921"
             ]
            ],
            "type": "histogram2d"
           }
          ],
          "histogram2dcontour": [
           {
            "colorbar": {
             "outlinewidth": 0,
             "ticks": ""
            },
            "colorscale": [
             [
              0,
              "#0d0887"
             ],
             [
              0.1111111111111111,
              "#46039f"
             ],
             [
              0.2222222222222222,
              "#7201a8"
             ],
             [
              0.3333333333333333,
              "#9c179e"
             ],
             [
              0.4444444444444444,
              "#bd3786"
             ],
             [
              0.5555555555555556,
              "#d8576b"
             ],
             [
              0.6666666666666666,
              "#ed7953"
             ],
             [
              0.7777777777777778,
              "#fb9f3a"
             ],
             [
              0.8888888888888888,
              "#fdca26"
             ],
             [
              1,
              "#f0f921"
             ]
            ],
            "type": "histogram2dcontour"
           }
          ],
          "mesh3d": [
           {
            "colorbar": {
             "outlinewidth": 0,
             "ticks": ""
            },
            "type": "mesh3d"
           }
          ],
          "parcoords": [
           {
            "line": {
             "colorbar": {
              "outlinewidth": 0,
              "ticks": ""
             }
            },
            "type": "parcoords"
           }
          ],
          "pie": [
           {
            "automargin": true,
            "type": "pie"
           }
          ],
          "scatter": [
           {
            "fillpattern": {
             "fillmode": "overlay",
             "size": 10,
             "solidity": 0.2
            },
            "type": "scatter"
           }
          ],
          "scatter3d": [
           {
            "line": {
             "colorbar": {
              "outlinewidth": 0,
              "ticks": ""
             }
            },
            "marker": {
             "colorbar": {
              "outlinewidth": 0,
              "ticks": ""
             }
            },
            "type": "scatter3d"
           }
          ],
          "scattercarpet": [
           {
            "marker": {
             "colorbar": {
              "outlinewidth": 0,
              "ticks": ""
             }
            },
            "type": "scattercarpet"
           }
          ],
          "scattergeo": [
           {
            "marker": {
             "colorbar": {
              "outlinewidth": 0,
              "ticks": ""
             }
            },
            "type": "scattergeo"
           }
          ],
          "scattergl": [
           {
            "marker": {
             "colorbar": {
              "outlinewidth": 0,
              "ticks": ""
             }
            },
            "type": "scattergl"
           }
          ],
          "scattermap": [
           {
            "marker": {
             "colorbar": {
              "outlinewidth": 0,
              "ticks": ""
             }
            },
            "type": "scattermap"
           }
          ],
          "scattermapbox": [
           {
            "marker": {
             "colorbar": {
              "outlinewidth": 0,
              "ticks": ""
             }
            },
            "type": "scattermapbox"
           }
          ],
          "scatterpolar": [
           {
            "marker": {
             "colorbar": {
              "outlinewidth": 0,
              "ticks": ""
             }
            },
            "type": "scatterpolar"
           }
          ],
          "scatterpolargl": [
           {
            "marker": {
             "colorbar": {
              "outlinewidth": 0,
              "ticks": ""
             }
            },
            "type": "scatterpolargl"
           }
          ],
          "scatterternary": [
           {
            "marker": {
             "colorbar": {
              "outlinewidth": 0,
              "ticks": ""
             }
            },
            "type": "scatterternary"
           }
          ],
          "surface": [
           {
            "colorbar": {
             "outlinewidth": 0,
             "ticks": ""
            },
            "colorscale": [
             [
              0,
              "#0d0887"
             ],
             [
              0.1111111111111111,
              "#46039f"
             ],
             [
              0.2222222222222222,
              "#7201a8"
             ],
             [
              0.3333333333333333,
              "#9c179e"
             ],
             [
              0.4444444444444444,
              "#bd3786"
             ],
             [
              0.5555555555555556,
              "#d8576b"
             ],
             [
              0.6666666666666666,
              "#ed7953"
             ],
             [
              0.7777777777777778,
              "#fb9f3a"
             ],
             [
              0.8888888888888888,
              "#fdca26"
             ],
             [
              1,
              "#f0f921"
             ]
            ],
            "type": "surface"
           }
          ],
          "table": [
           {
            "cells": {
             "fill": {
              "color": "#EBF0F8"
             },
             "line": {
              "color": "white"
             }
            },
            "header": {
             "fill": {
              "color": "#C8D4E3"
             },
             "line": {
              "color": "white"
             }
            },
            "type": "table"
           }
          ]
         },
         "layout": {
          "annotationdefaults": {
           "arrowcolor": "#2a3f5f",
           "arrowhead": 0,
           "arrowwidth": 1
          },
          "autotypenumbers": "strict",
          "coloraxis": {
           "colorbar": {
            "outlinewidth": 0,
            "ticks": ""
           }
          },
          "colorscale": {
           "diverging": [
            [
             0,
             "#8e0152"
            ],
            [
             0.1,
             "#c51b7d"
            ],
            [
             0.2,
             "#de77ae"
            ],
            [
             0.3,
             "#f1b6da"
            ],
            [
             0.4,
             "#fde0ef"
            ],
            [
             0.5,
             "#f7f7f7"
            ],
            [
             0.6,
             "#e6f5d0"
            ],
            [
             0.7,
             "#b8e186"
            ],
            [
             0.8,
             "#7fbc41"
            ],
            [
             0.9,
             "#4d9221"
            ],
            [
             1,
             "#276419"
            ]
           ],
           "sequential": [
            [
             0,
             "#0d0887"
            ],
            [
             0.1111111111111111,
             "#46039f"
            ],
            [
             0.2222222222222222,
             "#7201a8"
            ],
            [
             0.3333333333333333,
             "#9c179e"
            ],
            [
             0.4444444444444444,
             "#bd3786"
            ],
            [
             0.5555555555555556,
             "#d8576b"
            ],
            [
             0.6666666666666666,
             "#ed7953"
            ],
            [
             0.7777777777777778,
             "#fb9f3a"
            ],
            [
             0.8888888888888888,
             "#fdca26"
            ],
            [
             1,
             "#f0f921"
            ]
           ],
           "sequentialminus": [
            [
             0,
             "#0d0887"
            ],
            [
             0.1111111111111111,
             "#46039f"
            ],
            [
             0.2222222222222222,
             "#7201a8"
            ],
            [
             0.3333333333333333,
             "#9c179e"
            ],
            [
             0.4444444444444444,
             "#bd3786"
            ],
            [
             0.5555555555555556,
             "#d8576b"
            ],
            [
             0.6666666666666666,
             "#ed7953"
            ],
            [
             0.7777777777777778,
             "#fb9f3a"
            ],
            [
             0.8888888888888888,
             "#fdca26"
            ],
            [
             1,
             "#f0f921"
            ]
           ]
          },
          "colorway": [
           "#636efa",
           "#EF553B",
           "#00cc96",
           "#ab63fa",
           "#FFA15A",
           "#19d3f3",
           "#FF6692",
           "#B6E880",
           "#FF97FF",
           "#FECB52"
          ],
          "font": {
           "color": "#2a3f5f"
          },
          "geo": {
           "bgcolor": "white",
           "lakecolor": "white",
           "landcolor": "#E5ECF6",
           "showlakes": true,
           "showland": true,
           "subunitcolor": "white"
          },
          "hoverlabel": {
           "align": "left"
          },
          "hovermode": "closest",
          "mapbox": {
           "style": "light"
          },
          "paper_bgcolor": "white",
          "plot_bgcolor": "#E5ECF6",
          "polar": {
           "angularaxis": {
            "gridcolor": "white",
            "linecolor": "white",
            "ticks": ""
           },
           "bgcolor": "#E5ECF6",
           "radialaxis": {
            "gridcolor": "white",
            "linecolor": "white",
            "ticks": ""
           }
          },
          "scene": {
           "xaxis": {
            "backgroundcolor": "#E5ECF6",
            "gridcolor": "white",
            "gridwidth": 2,
            "linecolor": "white",
            "showbackground": true,
            "ticks": "",
            "zerolinecolor": "white"
           },
           "yaxis": {
            "backgroundcolor": "#E5ECF6",
            "gridcolor": "white",
            "gridwidth": 2,
            "linecolor": "white",
            "showbackground": true,
            "ticks": "",
            "zerolinecolor": "white"
           },
           "zaxis": {
            "backgroundcolor": "#E5ECF6",
            "gridcolor": "white",
            "gridwidth": 2,
            "linecolor": "white",
            "showbackground": true,
            "ticks": "",
            "zerolinecolor": "white"
           }
          },
          "shapedefaults": {
           "line": {
            "color": "#2a3f5f"
           }
          },
          "ternary": {
           "aaxis": {
            "gridcolor": "white",
            "linecolor": "white",
            "ticks": ""
           },
           "baxis": {
            "gridcolor": "white",
            "linecolor": "white",
            "ticks": ""
           },
           "bgcolor": "#E5ECF6",
           "caxis": {
            "gridcolor": "white",
            "linecolor": "white",
            "ticks": ""
           }
          },
          "title": {
           "x": 0.05
          },
          "xaxis": {
           "automargin": true,
           "gridcolor": "white",
           "linecolor": "white",
           "ticks": "",
           "title": {
            "standoff": 15
           },
           "zerolinecolor": "white",
           "zerolinewidth": 2
          },
          "yaxis": {
           "automargin": true,
           "gridcolor": "white",
           "linecolor": "white",
           "ticks": "",
           "title": {
            "standoff": 15
           },
           "zerolinecolor": "white",
           "zerolinewidth": 2
          }
         }
        },
        "title": {
         "text": "Salary Distribution"
        },
        "xaxis": {
         "anchor": "y",
         "domain": [
          0,
          1
         ],
         "title": {
          "text": "Salary"
         }
        },
        "yaxis": {
         "anchor": "x",
         "domain": [
          0,
          1
         ],
         "title": {
          "text": "count"
         }
        }
       }
      }
     },
     "metadata": {},
     "output_type": "display_data"
    }
   ],
   "source": [
    "fig = px.histogram(df_hr, x=\"Salary\", title=\"Salary Distribution\")\n",
    "fig.show()"
   ]
  },
  {
   "cell_type": "markdown",
   "metadata": {},
   "source": [
    "---\n",
    "\n",
    "### 🎯 Example 4: Number of absences histogram\n",
    "\n",
    "▶️ Draw a histogram of `Absences` in `df_hr`.\n"
   ]
  },
  {
   "cell_type": "code",
   "execution_count": 14,
   "metadata": {},
   "outputs": [
    {
     "data": {
      "application/vnd.plotly.v1+json": {
       "config": {
        "plotlyServerURL": "https://plot.ly"
       },
       "data": [
        {
         "bingroup": "x",
         "hovertemplate": "Absences=%{x}<br>count=%{y}<extra></extra>",
         "legendgroup": "",
         "marker": {
          "color": "#636efa",
          "pattern": {
           "shape": ""
          }
         },
         "name": "",
         "orientation": "v",
         "showlegend": false,
         "type": "histogram",
         "x": {
          "bdata": "AREDDwIPExMEEAwPCQcBFBAMCA0NAhMDBQIEDgYOCRETAw8EDgMOBwcLCAsEEQMDAgkGBQMQAw8GAg8FCBMBBgIOCAUBCQ8BEQYPEAQOBAYHCAMFEBMTEQcQDwITFAYHDwMHAQUMEwIHDwMUChQHAQoLFAIBAwIRCBQNFAgFAQ8JEAQTBgQEBhIEDgcHCwkJAgEEAgoNChAGAxEUBwkUDQMUAhEUChALEAcODxMGERIOBBALDggQFAcRCgIGDg0BDAYSCw0REwoLDAIEBQMRAQ0GEgcNEw8CBQwGDhANDwkODhAEChMECxAKDQsQBA8MEQgEDQgCBAcNAgIOBw8QAhQEEBEQEw0UDxAJBQkEEgwKDQEOCwMSAQ8EBhILCQUIEA8TCwkSBwQFDREHCwcJEAcODQQQCwI=",
          "dtype": "i1"
         },
         "xaxis": "x",
         "yaxis": "y"
        }
       ],
       "layout": {
        "barmode": "relative",
        "legend": {
         "tracegroupgap": 0
        },
        "template": {
         "data": {
          "bar": [
           {
            "error_x": {
             "color": "#2a3f5f"
            },
            "error_y": {
             "color": "#2a3f5f"
            },
            "marker": {
             "line": {
              "color": "#E5ECF6",
              "width": 0.5
             },
             "pattern": {
              "fillmode": "overlay",
              "size": 10,
              "solidity": 0.2
             }
            },
            "type": "bar"
           }
          ],
          "barpolar": [
           {
            "marker": {
             "line": {
              "color": "#E5ECF6",
              "width": 0.5
             },
             "pattern": {
              "fillmode": "overlay",
              "size": 10,
              "solidity": 0.2
             }
            },
            "type": "barpolar"
           }
          ],
          "carpet": [
           {
            "aaxis": {
             "endlinecolor": "#2a3f5f",
             "gridcolor": "white",
             "linecolor": "white",
             "minorgridcolor": "white",
             "startlinecolor": "#2a3f5f"
            },
            "baxis": {
             "endlinecolor": "#2a3f5f",
             "gridcolor": "white",
             "linecolor": "white",
             "minorgridcolor": "white",
             "startlinecolor": "#2a3f5f"
            },
            "type": "carpet"
           }
          ],
          "choropleth": [
           {
            "colorbar": {
             "outlinewidth": 0,
             "ticks": ""
            },
            "type": "choropleth"
           }
          ],
          "contour": [
           {
            "colorbar": {
             "outlinewidth": 0,
             "ticks": ""
            },
            "colorscale": [
             [
              0,
              "#0d0887"
             ],
             [
              0.1111111111111111,
              "#46039f"
             ],
             [
              0.2222222222222222,
              "#7201a8"
             ],
             [
              0.3333333333333333,
              "#9c179e"
             ],
             [
              0.4444444444444444,
              "#bd3786"
             ],
             [
              0.5555555555555556,
              "#d8576b"
             ],
             [
              0.6666666666666666,
              "#ed7953"
             ],
             [
              0.7777777777777778,
              "#fb9f3a"
             ],
             [
              0.8888888888888888,
              "#fdca26"
             ],
             [
              1,
              "#f0f921"
             ]
            ],
            "type": "contour"
           }
          ],
          "contourcarpet": [
           {
            "colorbar": {
             "outlinewidth": 0,
             "ticks": ""
            },
            "type": "contourcarpet"
           }
          ],
          "heatmap": [
           {
            "colorbar": {
             "outlinewidth": 0,
             "ticks": ""
            },
            "colorscale": [
             [
              0,
              "#0d0887"
             ],
             [
              0.1111111111111111,
              "#46039f"
             ],
             [
              0.2222222222222222,
              "#7201a8"
             ],
             [
              0.3333333333333333,
              "#9c179e"
             ],
             [
              0.4444444444444444,
              "#bd3786"
             ],
             [
              0.5555555555555556,
              "#d8576b"
             ],
             [
              0.6666666666666666,
              "#ed7953"
             ],
             [
              0.7777777777777778,
              "#fb9f3a"
             ],
             [
              0.8888888888888888,
              "#fdca26"
             ],
             [
              1,
              "#f0f921"
             ]
            ],
            "type": "heatmap"
           }
          ],
          "histogram": [
           {
            "marker": {
             "pattern": {
              "fillmode": "overlay",
              "size": 10,
              "solidity": 0.2
             }
            },
            "type": "histogram"
           }
          ],
          "histogram2d": [
           {
            "colorbar": {
             "outlinewidth": 0,
             "ticks": ""
            },
            "colorscale": [
             [
              0,
              "#0d0887"
             ],
             [
              0.1111111111111111,
              "#46039f"
             ],
             [
              0.2222222222222222,
              "#7201a8"
             ],
             [
              0.3333333333333333,
              "#9c179e"
             ],
             [
              0.4444444444444444,
              "#bd3786"
             ],
             [
              0.5555555555555556,
              "#d8576b"
             ],
             [
              0.6666666666666666,
              "#ed7953"
             ],
             [
              0.7777777777777778,
              "#fb9f3a"
             ],
             [
              0.8888888888888888,
              "#fdca26"
             ],
             [
              1,
              "#f0f921"
             ]
            ],
            "type": "histogram2d"
           }
          ],
          "histogram2dcontour": [
           {
            "colorbar": {
             "outlinewidth": 0,
             "ticks": ""
            },
            "colorscale": [
             [
              0,
              "#0d0887"
             ],
             [
              0.1111111111111111,
              "#46039f"
             ],
             [
              0.2222222222222222,
              "#7201a8"
             ],
             [
              0.3333333333333333,
              "#9c179e"
             ],
             [
              0.4444444444444444,
              "#bd3786"
             ],
             [
              0.5555555555555556,
              "#d8576b"
             ],
             [
              0.6666666666666666,
              "#ed7953"
             ],
             [
              0.7777777777777778,
              "#fb9f3a"
             ],
             [
              0.8888888888888888,
              "#fdca26"
             ],
             [
              1,
              "#f0f921"
             ]
            ],
            "type": "histogram2dcontour"
           }
          ],
          "mesh3d": [
           {
            "colorbar": {
             "outlinewidth": 0,
             "ticks": ""
            },
            "type": "mesh3d"
           }
          ],
          "parcoords": [
           {
            "line": {
             "colorbar": {
              "outlinewidth": 0,
              "ticks": ""
             }
            },
            "type": "parcoords"
           }
          ],
          "pie": [
           {
            "automargin": true,
            "type": "pie"
           }
          ],
          "scatter": [
           {
            "fillpattern": {
             "fillmode": "overlay",
             "size": 10,
             "solidity": 0.2
            },
            "type": "scatter"
           }
          ],
          "scatter3d": [
           {
            "line": {
             "colorbar": {
              "outlinewidth": 0,
              "ticks": ""
             }
            },
            "marker": {
             "colorbar": {
              "outlinewidth": 0,
              "ticks": ""
             }
            },
            "type": "scatter3d"
           }
          ],
          "scattercarpet": [
           {
            "marker": {
             "colorbar": {
              "outlinewidth": 0,
              "ticks": ""
             }
            },
            "type": "scattercarpet"
           }
          ],
          "scattergeo": [
           {
            "marker": {
             "colorbar": {
              "outlinewidth": 0,
              "ticks": ""
             }
            },
            "type": "scattergeo"
           }
          ],
          "scattergl": [
           {
            "marker": {
             "colorbar": {
              "outlinewidth": 0,
              "ticks": ""
             }
            },
            "type": "scattergl"
           }
          ],
          "scattermap": [
           {
            "marker": {
             "colorbar": {
              "outlinewidth": 0,
              "ticks": ""
             }
            },
            "type": "scattermap"
           }
          ],
          "scattermapbox": [
           {
            "marker": {
             "colorbar": {
              "outlinewidth": 0,
              "ticks": ""
             }
            },
            "type": "scattermapbox"
           }
          ],
          "scatterpolar": [
           {
            "marker": {
             "colorbar": {
              "outlinewidth": 0,
              "ticks": ""
             }
            },
            "type": "scatterpolar"
           }
          ],
          "scatterpolargl": [
           {
            "marker": {
             "colorbar": {
              "outlinewidth": 0,
              "ticks": ""
             }
            },
            "type": "scatterpolargl"
           }
          ],
          "scatterternary": [
           {
            "marker": {
             "colorbar": {
              "outlinewidth": 0,
              "ticks": ""
             }
            },
            "type": "scatterternary"
           }
          ],
          "surface": [
           {
            "colorbar": {
             "outlinewidth": 0,
             "ticks": ""
            },
            "colorscale": [
             [
              0,
              "#0d0887"
             ],
             [
              0.1111111111111111,
              "#46039f"
             ],
             [
              0.2222222222222222,
              "#7201a8"
             ],
             [
              0.3333333333333333,
              "#9c179e"
             ],
             [
              0.4444444444444444,
              "#bd3786"
             ],
             [
              0.5555555555555556,
              "#d8576b"
             ],
             [
              0.6666666666666666,
              "#ed7953"
             ],
             [
              0.7777777777777778,
              "#fb9f3a"
             ],
             [
              0.8888888888888888,
              "#fdca26"
             ],
             [
              1,
              "#f0f921"
             ]
            ],
            "type": "surface"
           }
          ],
          "table": [
           {
            "cells": {
             "fill": {
              "color": "#EBF0F8"
             },
             "line": {
              "color": "white"
             }
            },
            "header": {
             "fill": {
              "color": "#C8D4E3"
             },
             "line": {
              "color": "white"
             }
            },
            "type": "table"
           }
          ]
         },
         "layout": {
          "annotationdefaults": {
           "arrowcolor": "#2a3f5f",
           "arrowhead": 0,
           "arrowwidth": 1
          },
          "autotypenumbers": "strict",
          "coloraxis": {
           "colorbar": {
            "outlinewidth": 0,
            "ticks": ""
           }
          },
          "colorscale": {
           "diverging": [
            [
             0,
             "#8e0152"
            ],
            [
             0.1,
             "#c51b7d"
            ],
            [
             0.2,
             "#de77ae"
            ],
            [
             0.3,
             "#f1b6da"
            ],
            [
             0.4,
             "#fde0ef"
            ],
            [
             0.5,
             "#f7f7f7"
            ],
            [
             0.6,
             "#e6f5d0"
            ],
            [
             0.7,
             "#b8e186"
            ],
            [
             0.8,
             "#7fbc41"
            ],
            [
             0.9,
             "#4d9221"
            ],
            [
             1,
             "#276419"
            ]
           ],
           "sequential": [
            [
             0,
             "#0d0887"
            ],
            [
             0.1111111111111111,
             "#46039f"
            ],
            [
             0.2222222222222222,
             "#7201a8"
            ],
            [
             0.3333333333333333,
             "#9c179e"
            ],
            [
             0.4444444444444444,
             "#bd3786"
            ],
            [
             0.5555555555555556,
             "#d8576b"
            ],
            [
             0.6666666666666666,
             "#ed7953"
            ],
            [
             0.7777777777777778,
             "#fb9f3a"
            ],
            [
             0.8888888888888888,
             "#fdca26"
            ],
            [
             1,
             "#f0f921"
            ]
           ],
           "sequentialminus": [
            [
             0,
             "#0d0887"
            ],
            [
             0.1111111111111111,
             "#46039f"
            ],
            [
             0.2222222222222222,
             "#7201a8"
            ],
            [
             0.3333333333333333,
             "#9c179e"
            ],
            [
             0.4444444444444444,
             "#bd3786"
            ],
            [
             0.5555555555555556,
             "#d8576b"
            ],
            [
             0.6666666666666666,
             "#ed7953"
            ],
            [
             0.7777777777777778,
             "#fb9f3a"
            ],
            [
             0.8888888888888888,
             "#fdca26"
            ],
            [
             1,
             "#f0f921"
            ]
           ]
          },
          "colorway": [
           "#636efa",
           "#EF553B",
           "#00cc96",
           "#ab63fa",
           "#FFA15A",
           "#19d3f3",
           "#FF6692",
           "#B6E880",
           "#FF97FF",
           "#FECB52"
          ],
          "font": {
           "color": "#2a3f5f"
          },
          "geo": {
           "bgcolor": "white",
           "lakecolor": "white",
           "landcolor": "#E5ECF6",
           "showlakes": true,
           "showland": true,
           "subunitcolor": "white"
          },
          "hoverlabel": {
           "align": "left"
          },
          "hovermode": "closest",
          "mapbox": {
           "style": "light"
          },
          "paper_bgcolor": "white",
          "plot_bgcolor": "#E5ECF6",
          "polar": {
           "angularaxis": {
            "gridcolor": "white",
            "linecolor": "white",
            "ticks": ""
           },
           "bgcolor": "#E5ECF6",
           "radialaxis": {
            "gridcolor": "white",
            "linecolor": "white",
            "ticks": ""
           }
          },
          "scene": {
           "xaxis": {
            "backgroundcolor": "#E5ECF6",
            "gridcolor": "white",
            "gridwidth": 2,
            "linecolor": "white",
            "showbackground": true,
            "ticks": "",
            "zerolinecolor": "white"
           },
           "yaxis": {
            "backgroundcolor": "#E5ECF6",
            "gridcolor": "white",
            "gridwidth": 2,
            "linecolor": "white",
            "showbackground": true,
            "ticks": "",
            "zerolinecolor": "white"
           },
           "zaxis": {
            "backgroundcolor": "#E5ECF6",
            "gridcolor": "white",
            "gridwidth": 2,
            "linecolor": "white",
            "showbackground": true,
            "ticks": "",
            "zerolinecolor": "white"
           }
          },
          "shapedefaults": {
           "line": {
            "color": "#2a3f5f"
           }
          },
          "ternary": {
           "aaxis": {
            "gridcolor": "white",
            "linecolor": "white",
            "ticks": ""
           },
           "baxis": {
            "gridcolor": "white",
            "linecolor": "white",
            "ticks": ""
           },
           "bgcolor": "#E5ECF6",
           "caxis": {
            "gridcolor": "white",
            "linecolor": "white",
            "ticks": ""
           }
          },
          "title": {
           "x": 0.05
          },
          "xaxis": {
           "automargin": true,
           "gridcolor": "white",
           "linecolor": "white",
           "ticks": "",
           "title": {
            "standoff": 15
           },
           "zerolinecolor": "white",
           "zerolinewidth": 2
          },
          "yaxis": {
           "automargin": true,
           "gridcolor": "white",
           "linecolor": "white",
           "ticks": "",
           "title": {
            "standoff": 15
           },
           "zerolinecolor": "white",
           "zerolinewidth": 2
          }
         }
        },
        "title": {
         "text": "Number of Absence Distribution"
        },
        "xaxis": {
         "anchor": "y",
         "domain": [
          0,
          1
         ],
         "title": {
          "text": "Absences"
         }
        },
        "yaxis": {
         "anchor": "x",
         "domain": [
          0,
          1
         ],
         "title": {
          "text": "count"
         }
        }
       }
      }
     },
     "metadata": {},
     "output_type": "display_data"
    }
   ],
   "source": [
    "fig = px.histogram(df_hr, x=\"Absences\", title=\"Number of Absence Distribution\")\n",
    "fig.show()"
   ]
  },
  {
   "cell_type": "markdown",
   "metadata": {},
   "source": [
    "---\n",
    "\n",
    "### 🎯 Example 8: Salary histograms by gender\n",
    "\n",
    "▶️ Draw overlaid histograms of `Salary` in `df_hr` by `GenderID`.\n"
   ]
  },
  {
   "cell_type": "code",
   "execution_count": 15,
   "metadata": {},
   "outputs": [
    {
     "data": {
      "application/vnd.plotly.v1+json": {
       "config": {
        "plotlyServerURL": "https://plot.ly"
       },
       "data": [
        {
         "name": "Male",
         "opacity": 0.6,
         "type": "histogram",
         "x": {
          "bdata": "u/0AAN/9AACJxgAA4OAAAKx1AQDdugAAjtUAAPMRAQCS5gAAsK0BAJf9AAC+9QAAiQMBANfhAAB/nwEA9NAAABj2AAB3+wAAViIBABP5AADUbAEAv4YBALQYAQDY8AAA3dMAABL9AAAw/QAAQvoAAJX3AABV2wAAwQABACRMAQDv4AAAT4sBAKPjAABf5wAAkPAAAP+0AADdEwEAASIBALQlAQAy9AAApuoAAA/eAAD05gAA0IMBAGAYAQBuAQEAlOEAAKLkAACd2gAAF4QBAKsAAQCzzwAAicgAADHJAADq5wAA1+EAAHPwAABwwAEAGs8AADrvAAAJBQEAZQIBAGjAAABF+QAALNYAANHLAABx8gAAAwoBAPb3AADPfgEAIL8CAADDAACB2AAA3A4BAOP9AABWCgEAxMoAADrvAAANsAAANO0AABTsAADknAEAWvcAAOLuAACHDQEAkNADAPXSAAB5sQAAGgIBALA+AQC8+AAAWzABAJDNAABBygAApQYBAHIeAQBZywAASrkAAFOxAACx8wAANwsBAKXvAADYnAEAdNMAABPYAABa9QAAw/QAAIjZAAAMGwEAd80AAMb3AAD4zgAAz/gAAG3yAACyBAEAws0AAB4ZAQBL9gAAG/gAAG7rAACuswAAYuIAAK0jAQDyIQEAcm0BAJTxAADPtgAAXrUAALB2AQCStgAAy/0AAO7vAAAbXwEAwNQBABJLAgDT7AAAxlABAIa6AABT2wAA68YAAD7GAAB3ywAA0MoAAIb5AADY1gAAO+YAACEEAQAV+gAAsgABANnzAABZuwAA2OoAAML4AABm5wAAUu0AAAoaAQAC5AAAHb0AABPcAAAx9gAAPSQBAAPiAABtwgAAdPIAAIA6AQBixAAA2qIBAM7iAABQ6QAAHuwAAIG9AAAiXQMAzFwBAPavAAA=",
          "dtype": "i4"
         }
        },
        {
         "name": "Female",
         "opacity": 0.6,
         "type": "histogram",
         "x": {
          "bdata": "KvQAAPWXAQDl5wAAAsQAAGu4AACoaAEAVeUAABnNAADq4QAAAtAAAGTHAAC9lAEASCIBAAj/AADS8gAAfC8BAMAbAQBuzgAAUbEBANzrAAD4BAEARgwBAOnnAADFxAAAhPYAAAjnAADTCQEABJoCAGBGAQCpaAEA5tsAAJ/eAACq2QAAgPAAAMXPAAA0egEAO8gAAIgeAgD4vgAADdQAALTrAAA5+gAAdtAAAKEbAQArEgEAULcCALMGAQAZzAAAldYAALcjAQD06QAAIg0BAJ28AADt9QAAzIIBABsYAQD2+gAAlrcAAJETAQCKRAEA9bYAADLFAAAe/wAAPrYAAOX5AACrFgEAFmwBAEZDAQAotAAACPwAAAryAAB2awEA4vwAAEQTAQDa9wAANM4AADv3AADTRgEA+NkAAF/jAABIZQIAqhkBALEiAQDn4AAAcVcBACbFAABItgAAb70AADa5AABEzwAA3QwBALupAQClawEAPNEAANT8AACZtwAAUOgAAKNFAQAh8QAAcfEAADuwAAAa2QAA/MQAAHn3AAC8zwAAeCYCAAdGAgBctQAAd+IAAM9ZAQASVwEA8OwAACAdAQANVgEAoeMAABv2AACr7wAAMfYAAD1rAQD0XwEAaAYBAI37AAARJgEAQIgBAP0oAQCb5AAAkFsBAEPaAABPvQEA7QMBAKdLAQAD5AAAZNcAAGsTAQBlAQEA",
          "dtype": "i4"
         }
        }
       ],
       "layout": {
        "barmode": "overlay",
        "template": {
         "data": {
          "bar": [
           {
            "error_x": {
             "color": "#2a3f5f"
            },
            "error_y": {
             "color": "#2a3f5f"
            },
            "marker": {
             "line": {
              "color": "#E5ECF6",
              "width": 0.5
             },
             "pattern": {
              "fillmode": "overlay",
              "size": 10,
              "solidity": 0.2
             }
            },
            "type": "bar"
           }
          ],
          "barpolar": [
           {
            "marker": {
             "line": {
              "color": "#E5ECF6",
              "width": 0.5
             },
             "pattern": {
              "fillmode": "overlay",
              "size": 10,
              "solidity": 0.2
             }
            },
            "type": "barpolar"
           }
          ],
          "carpet": [
           {
            "aaxis": {
             "endlinecolor": "#2a3f5f",
             "gridcolor": "white",
             "linecolor": "white",
             "minorgridcolor": "white",
             "startlinecolor": "#2a3f5f"
            },
            "baxis": {
             "endlinecolor": "#2a3f5f",
             "gridcolor": "white",
             "linecolor": "white",
             "minorgridcolor": "white",
             "startlinecolor": "#2a3f5f"
            },
            "type": "carpet"
           }
          ],
          "choropleth": [
           {
            "colorbar": {
             "outlinewidth": 0,
             "ticks": ""
            },
            "type": "choropleth"
           }
          ],
          "contour": [
           {
            "colorbar": {
             "outlinewidth": 0,
             "ticks": ""
            },
            "colorscale": [
             [
              0,
              "#0d0887"
             ],
             [
              0.1111111111111111,
              "#46039f"
             ],
             [
              0.2222222222222222,
              "#7201a8"
             ],
             [
              0.3333333333333333,
              "#9c179e"
             ],
             [
              0.4444444444444444,
              "#bd3786"
             ],
             [
              0.5555555555555556,
              "#d8576b"
             ],
             [
              0.6666666666666666,
              "#ed7953"
             ],
             [
              0.7777777777777778,
              "#fb9f3a"
             ],
             [
              0.8888888888888888,
              "#fdca26"
             ],
             [
              1,
              "#f0f921"
             ]
            ],
            "type": "contour"
           }
          ],
          "contourcarpet": [
           {
            "colorbar": {
             "outlinewidth": 0,
             "ticks": ""
            },
            "type": "contourcarpet"
           }
          ],
          "heatmap": [
           {
            "colorbar": {
             "outlinewidth": 0,
             "ticks": ""
            },
            "colorscale": [
             [
              0,
              "#0d0887"
             ],
             [
              0.1111111111111111,
              "#46039f"
             ],
             [
              0.2222222222222222,
              "#7201a8"
             ],
             [
              0.3333333333333333,
              "#9c179e"
             ],
             [
              0.4444444444444444,
              "#bd3786"
             ],
             [
              0.5555555555555556,
              "#d8576b"
             ],
             [
              0.6666666666666666,
              "#ed7953"
             ],
             [
              0.7777777777777778,
              "#fb9f3a"
             ],
             [
              0.8888888888888888,
              "#fdca26"
             ],
             [
              1,
              "#f0f921"
             ]
            ],
            "type": "heatmap"
           }
          ],
          "histogram": [
           {
            "marker": {
             "pattern": {
              "fillmode": "overlay",
              "size": 10,
              "solidity": 0.2
             }
            },
            "type": "histogram"
           }
          ],
          "histogram2d": [
           {
            "colorbar": {
             "outlinewidth": 0,
             "ticks": ""
            },
            "colorscale": [
             [
              0,
              "#0d0887"
             ],
             [
              0.1111111111111111,
              "#46039f"
             ],
             [
              0.2222222222222222,
              "#7201a8"
             ],
             [
              0.3333333333333333,
              "#9c179e"
             ],
             [
              0.4444444444444444,
              "#bd3786"
             ],
             [
              0.5555555555555556,
              "#d8576b"
             ],
             [
              0.6666666666666666,
              "#ed7953"
             ],
             [
              0.7777777777777778,
              "#fb9f3a"
             ],
             [
              0.8888888888888888,
              "#fdca26"
             ],
             [
              1,
              "#f0f921"
             ]
            ],
            "type": "histogram2d"
           }
          ],
          "histogram2dcontour": [
           {
            "colorbar": {
             "outlinewidth": 0,
             "ticks": ""
            },
            "colorscale": [
             [
              0,
              "#0d0887"
             ],
             [
              0.1111111111111111,
              "#46039f"
             ],
             [
              0.2222222222222222,
              "#7201a8"
             ],
             [
              0.3333333333333333,
              "#9c179e"
             ],
             [
              0.4444444444444444,
              "#bd3786"
             ],
             [
              0.5555555555555556,
              "#d8576b"
             ],
             [
              0.6666666666666666,
              "#ed7953"
             ],
             [
              0.7777777777777778,
              "#fb9f3a"
             ],
             [
              0.8888888888888888,
              "#fdca26"
             ],
             [
              1,
              "#f0f921"
             ]
            ],
            "type": "histogram2dcontour"
           }
          ],
          "mesh3d": [
           {
            "colorbar": {
             "outlinewidth": 0,
             "ticks": ""
            },
            "type": "mesh3d"
           }
          ],
          "parcoords": [
           {
            "line": {
             "colorbar": {
              "outlinewidth": 0,
              "ticks": ""
             }
            },
            "type": "parcoords"
           }
          ],
          "pie": [
           {
            "automargin": true,
            "type": "pie"
           }
          ],
          "scatter": [
           {
            "fillpattern": {
             "fillmode": "overlay",
             "size": 10,
             "solidity": 0.2
            },
            "type": "scatter"
           }
          ],
          "scatter3d": [
           {
            "line": {
             "colorbar": {
              "outlinewidth": 0,
              "ticks": ""
             }
            },
            "marker": {
             "colorbar": {
              "outlinewidth": 0,
              "ticks": ""
             }
            },
            "type": "scatter3d"
           }
          ],
          "scattercarpet": [
           {
            "marker": {
             "colorbar": {
              "outlinewidth": 0,
              "ticks": ""
             }
            },
            "type": "scattercarpet"
           }
          ],
          "scattergeo": [
           {
            "marker": {
             "colorbar": {
              "outlinewidth": 0,
              "ticks": ""
             }
            },
            "type": "scattergeo"
           }
          ],
          "scattergl": [
           {
            "marker": {
             "colorbar": {
              "outlinewidth": 0,
              "ticks": ""
             }
            },
            "type": "scattergl"
           }
          ],
          "scattermap": [
           {
            "marker": {
             "colorbar": {
              "outlinewidth": 0,
              "ticks": ""
             }
            },
            "type": "scattermap"
           }
          ],
          "scattermapbox": [
           {
            "marker": {
             "colorbar": {
              "outlinewidth": 0,
              "ticks": ""
             }
            },
            "type": "scattermapbox"
           }
          ],
          "scatterpolar": [
           {
            "marker": {
             "colorbar": {
              "outlinewidth": 0,
              "ticks": ""
             }
            },
            "type": "scatterpolar"
           }
          ],
          "scatterpolargl": [
           {
            "marker": {
             "colorbar": {
              "outlinewidth": 0,
              "ticks": ""
             }
            },
            "type": "scatterpolargl"
           }
          ],
          "scatterternary": [
           {
            "marker": {
             "colorbar": {
              "outlinewidth": 0,
              "ticks": ""
             }
            },
            "type": "scatterternary"
           }
          ],
          "surface": [
           {
            "colorbar": {
             "outlinewidth": 0,
             "ticks": ""
            },
            "colorscale": [
             [
              0,
              "#0d0887"
             ],
             [
              0.1111111111111111,
              "#46039f"
             ],
             [
              0.2222222222222222,
              "#7201a8"
             ],
             [
              0.3333333333333333,
              "#9c179e"
             ],
             [
              0.4444444444444444,
              "#bd3786"
             ],
             [
              0.5555555555555556,
              "#d8576b"
             ],
             [
              0.6666666666666666,
              "#ed7953"
             ],
             [
              0.7777777777777778,
              "#fb9f3a"
             ],
             [
              0.8888888888888888,
              "#fdca26"
             ],
             [
              1,
              "#f0f921"
             ]
            ],
            "type": "surface"
           }
          ],
          "table": [
           {
            "cells": {
             "fill": {
              "color": "#EBF0F8"
             },
             "line": {
              "color": "white"
             }
            },
            "header": {
             "fill": {
              "color": "#C8D4E3"
             },
             "line": {
              "color": "white"
             }
            },
            "type": "table"
           }
          ]
         },
         "layout": {
          "annotationdefaults": {
           "arrowcolor": "#2a3f5f",
           "arrowhead": 0,
           "arrowwidth": 1
          },
          "autotypenumbers": "strict",
          "coloraxis": {
           "colorbar": {
            "outlinewidth": 0,
            "ticks": ""
           }
          },
          "colorscale": {
           "diverging": [
            [
             0,
             "#8e0152"
            ],
            [
             0.1,
             "#c51b7d"
            ],
            [
             0.2,
             "#de77ae"
            ],
            [
             0.3,
             "#f1b6da"
            ],
            [
             0.4,
             "#fde0ef"
            ],
            [
             0.5,
             "#f7f7f7"
            ],
            [
             0.6,
             "#e6f5d0"
            ],
            [
             0.7,
             "#b8e186"
            ],
            [
             0.8,
             "#7fbc41"
            ],
            [
             0.9,
             "#4d9221"
            ],
            [
             1,
             "#276419"
            ]
           ],
           "sequential": [
            [
             0,
             "#0d0887"
            ],
            [
             0.1111111111111111,
             "#46039f"
            ],
            [
             0.2222222222222222,
             "#7201a8"
            ],
            [
             0.3333333333333333,
             "#9c179e"
            ],
            [
             0.4444444444444444,
             "#bd3786"
            ],
            [
             0.5555555555555556,
             "#d8576b"
            ],
            [
             0.6666666666666666,
             "#ed7953"
            ],
            [
             0.7777777777777778,
             "#fb9f3a"
            ],
            [
             0.8888888888888888,
             "#fdca26"
            ],
            [
             1,
             "#f0f921"
            ]
           ],
           "sequentialminus": [
            [
             0,
             "#0d0887"
            ],
            [
             0.1111111111111111,
             "#46039f"
            ],
            [
             0.2222222222222222,
             "#7201a8"
            ],
            [
             0.3333333333333333,
             "#9c179e"
            ],
            [
             0.4444444444444444,
             "#bd3786"
            ],
            [
             0.5555555555555556,
             "#d8576b"
            ],
            [
             0.6666666666666666,
             "#ed7953"
            ],
            [
             0.7777777777777778,
             "#fb9f3a"
            ],
            [
             0.8888888888888888,
             "#fdca26"
            ],
            [
             1,
             "#f0f921"
            ]
           ]
          },
          "colorway": [
           "#636efa",
           "#EF553B",
           "#00cc96",
           "#ab63fa",
           "#FFA15A",
           "#19d3f3",
           "#FF6692",
           "#B6E880",
           "#FF97FF",
           "#FECB52"
          ],
          "font": {
           "color": "#2a3f5f"
          },
          "geo": {
           "bgcolor": "white",
           "lakecolor": "white",
           "landcolor": "#E5ECF6",
           "showlakes": true,
           "showland": true,
           "subunitcolor": "white"
          },
          "hoverlabel": {
           "align": "left"
          },
          "hovermode": "closest",
          "mapbox": {
           "style": "light"
          },
          "paper_bgcolor": "white",
          "plot_bgcolor": "#E5ECF6",
          "polar": {
           "angularaxis": {
            "gridcolor": "white",
            "linecolor": "white",
            "ticks": ""
           },
           "bgcolor": "#E5ECF6",
           "radialaxis": {
            "gridcolor": "white",
            "linecolor": "white",
            "ticks": ""
           }
          },
          "scene": {
           "xaxis": {
            "backgroundcolor": "#E5ECF6",
            "gridcolor": "white",
            "gridwidth": 2,
            "linecolor": "white",
            "showbackground": true,
            "ticks": "",
            "zerolinecolor": "white"
           },
           "yaxis": {
            "backgroundcolor": "#E5ECF6",
            "gridcolor": "white",
            "gridwidth": 2,
            "linecolor": "white",
            "showbackground": true,
            "ticks": "",
            "zerolinecolor": "white"
           },
           "zaxis": {
            "backgroundcolor": "#E5ECF6",
            "gridcolor": "white",
            "gridwidth": 2,
            "linecolor": "white",
            "showbackground": true,
            "ticks": "",
            "zerolinecolor": "white"
           }
          },
          "shapedefaults": {
           "line": {
            "color": "#2a3f5f"
           }
          },
          "ternary": {
           "aaxis": {
            "gridcolor": "white",
            "linecolor": "white",
            "ticks": ""
           },
           "baxis": {
            "gridcolor": "white",
            "linecolor": "white",
            "ticks": ""
           },
           "bgcolor": "#E5ECF6",
           "caxis": {
            "gridcolor": "white",
            "linecolor": "white",
            "ticks": ""
           }
          },
          "title": {
           "x": 0.05
          },
          "xaxis": {
           "automargin": true,
           "gridcolor": "white",
           "linecolor": "white",
           "ticks": "",
           "title": {
            "standoff": 15
           },
           "zerolinecolor": "white",
           "zerolinewidth": 2
          },
          "yaxis": {
           "automargin": true,
           "gridcolor": "white",
           "linecolor": "white",
           "ticks": "",
           "title": {
            "standoff": 15
           },
           "zerolinecolor": "white",
           "zerolinewidth": 2
          }
         }
        }
       }
      }
     },
     "metadata": {},
     "output_type": "display_data"
    }
   ],
   "source": [
    "fig = go.Figure()\n",
    "fig.add_trace(go.Histogram(x=df_hr[df_hr[\"GenderID\"] == 0][\"Salary\"], name=\"Male\"))\n",
    "\n",
    "fig.add_trace(go.Histogram(x=df_hr[df_hr[\"GenderID\"] == 1][\"Salary\"], name=\"Female\"))\n",
    "\n",
    "# Overlay both histograms\n",
    "fig.update_layout(barmode=\"overlay\")\n",
    "\n",
    "# Reduce opacity to see both histograms\n",
    "fig.update_traces(opacity=0.6)\n",
    "fig.show()"
   ]
  },
  {
   "cell_type": "markdown",
   "metadata": {},
   "source": [
    ":::{note} Graph objects\n",
    "\n",
    "This example uses the low-level `graph_objects` interface of plotly to create overlaid histograms. This approach provides more control over the individual traces and their properties.\n",
    "\n",
    "You will not be asked to use `graph_objects` in the exercises and case studies. However, it is good to be aware of this interface as you advance your data visualization skills.\n",
    "\n",
    ":::\n"
   ]
  }
 ],
 "metadata": {
  "kernelspec": {
   "display_name": "gies",
   "language": "python",
   "name": "python3"
  },
  "language_info": {
   "codemirror_mode": {
    "name": "ipython",
    "version": 3
   },
   "file_extension": ".py",
   "mimetype": "text/x-python",
   "name": "python",
   "nbconvert_exporter": "python",
   "pygments_lexer": "ipython3",
   "version": "3.12.4"
  }
 },
 "nbformat": 4,
 "nbformat_minor": 4
}
