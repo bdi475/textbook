{
 "cells": [
  {
   "cell_type": "markdown",
   "metadata": {},
   "source": [
    "# Introduction to Data Visualization\n"
   ]
  },
  {
   "cell_type": "markdown",
   "metadata": {},
   "source": [
    "Welcome to the final and **the coolest** part of this course! 😎 I'm not saying that the previous topics aren't cool. But visualizations are the bridges that can connect your data analytics skills with the outside world. The last thing you want to do is print out a large DataFrame to report your findings.\n",
    "\n",
    "Data visualization translates raw data into visual stories that reveal patterns, trends, and relationships. Humans process visual information far faster than text or tables—so effective visualizations help analysts think, communicate, and persuade.\n",
    "\n",
    "> There is no such thing as information overload. There is only bad design.\n",
    ">\n",
    "> -- Edward Tufte\n"
   ]
  },
  {
   "cell_type": "markdown",
   "metadata": {},
   "source": [
    "---\n",
    "\n",
    "## From Data to Visualization: A Workflow\n",
    "\n",
    "1. **Define the Question**: What decision or hypothesis are you exploring?\n",
    "2. **Acquire and Clean Data**: Remove noise, handle missing values.\n",
    "3. **Choose the Visual Form**: Match data type (categorical, continuous, time-series) to appropriate chart.\n",
    "4. **Design and Annotate**: Add titles, captions, and labels.\n",
    "5. **Iterate**: Test different layouts and get user feedback.\n"
   ]
  },
  {
   "cell_type": "markdown",
   "metadata": {},
   "source": [
    "---\n",
    "\n",
    "## Types of Data Visualization\n",
    "\n",
    "### Exploratory vs. Explanatory Visualization\n",
    "\n",
    "![Exploratory vs Explanatory](images/dataviz/exploratory-vs-explanatory.png)\n",
    "\n",
    "| Type            | Goal                 | Audience     | Typical Tools                                     | Example                                           |\n",
    "| --------------- | -------------------- | ------------ | ------------------------------------------------- | ------------------------------------------------- |\n",
    "| **Exploratory** | Find insights        | Analyst      | Python (pandas, matplotlib, seaborn), R (ggplot2) | \"What drives customer churn?\"                     |\n",
    "| **Explanatory** | Communicate insights | Stakeholders | Tableau, Power BI, Looker Studio                  | \"Churn dropped 10% after loyalty program launch.\" |\n"
   ]
  },
  {
   "cell_type": "markdown",
   "metadata": {},
   "source": [
    "### Data Patterns in Visualization\n",
    "\n",
    "When we visualize data, we are not simply drawing charts - we are searching for _patterns_. Most quantitative insights can be grouped into five broad categories of data patterns. Recognizing these patterns helps analysts choose the most effective visual representation for their message.\n",
    "\n",
    "![Data patterns](images/dataviz/data-patterns.png)\n",
    "\n",
    ":::{seealso} Kevin Hartman's Digital Marketing Analytics: In Theory and In Practice\n",
    "\n",
    "This categorization is from Kevin Hartman's [Digital Marketing Analytics: In Theory and In Practice](https://www.amazon.in/Digital-Marketing-Analytics-Theory-Practice/dp/B08J5BD5RM).\n",
    "\n",
    "He taught digital marketing analytics in Gies iDegree programs, although he now teaches at his alma mater, Loyola University Chicago.\n",
    "\n",
    ":::\n",
    "\n",
    "### 1️⃣ Change\n",
    "\n",
    "- **Definition:** Shows how a variable evolves over time.\n",
    "- **Examples:** Line charts, area charts, or bar charts that track trends.\n",
    "- **Use When:** You want to highlight growth, decline, or seasonal fluctuations.\n",
    "\n",
    "### 2️⃣ Clustering\n",
    "\n",
    "- **Definition:** Reveals natural groupings or segments within data.\n",
    "- **Examples:** Scatter plots or bubble charts showing customer segments, product groups, or behavioral clusters.\n",
    "- **Use When:** You want to explore differences and similarities between observations.\n",
    "\n",
    "### 3️⃣ Relativity\n",
    "\n",
    "- **Definition:** Displays how parts relate to a whole.\n",
    "- **Examples:** Pie charts, donut charts, or stacked bar charts.\n",
    "- **Use When:** You want to emphasize proportions or contribution to a total.\n",
    "\n",
    "### 4️⃣ Ranking\n",
    "\n",
    "- **Definition:** Compares ordered categories to identify leaders or laggards.\n",
    "- **Examples:** Horizontal bar charts, lollipop charts, or sorted column charts.\n",
    "- **Use When:** You want to show the top or bottom performers (e.g., top 10 sales regions).\n",
    "\n",
    "### 5️⃣ Correlation\n",
    "\n",
    "- **Definition:** Illustrates relationships between two or more quantitative variables.\n",
    "- **Examples:** Scatter plots, correlation matrices, or regression lines.\n",
    "- **Use When:** You want to determine whether changes in one variable are associated with changes in another.\n",
    "\n",
    "### 💡 Why It Matters\n",
    "\n",
    "Identifying these five data patterns helps analysts choose the right visualization for their story. Rather than focusing on chart types first, start by asking:\n",
    "\n",
    "> \"What kind of pattern am I trying to show - change, clustering, relativity, ranking, or correlation?\"\n"
   ]
  },
  {
   "cell_type": "markdown",
   "metadata": {},
   "source": [
    "### Common Chart Types\n",
    "\n",
    "| Chart Type             | Best For                                      | Avoid When                |\n",
    "| ---------------------- | --------------------------------------------- | ------------------------- |\n",
    "| **Bar Chart**          | Comparing categorical values                  | Too many categories       |\n",
    "| **Line Chart**         | Showing trends over time                      | Non-sequential categories |\n",
    "| **Scatter Plot**       | Revealing relationships between two variables | Too few data points       |\n",
    "| **Histogram**          | Showing data distribution                     | Comparing multiple groups |\n",
    "| **Box Plot**           | Summarizing distribution & outliers           | Small samples             |\n",
    "| **Pie / Donut Chart**  | Showing parts of a whole                      | Many small slices         |\n",
    "| **Heatmap**            | Displaying matrix or correlation patterns     | Hard-to-read color scales |\n",
    "| **TreeMap / Sunburst** | Hierarchical proportions                      | Need precise comparisons  |\n"
   ]
  },
  {
   "cell_type": "markdown",
   "metadata": {},
   "source": [
    "---\n",
    "\n",
    "## Common Pitfalls in Data Visualization\n",
    "\n",
    "| Pitfall          | Description          | Better Practice           |\n",
    "| ---------------- | -------------------- | ------------------------- |\n",
    "| Overuse of 3D    | Distorts proportions | Stick to 2D               |\n",
    "| Too Many Colors  | Confuses audience    | Use ≤ 5 meaningful colors |\n",
    "| Truncated Y-Axis | Misleads differences | Start at 0 for bar charts |\n",
    "| Dense Dashboards | Cognitive overload   | Prioritize key visuals    |\n",
    "| Unlabeled Axes   | Ambiguous meaning    | Always label variables    |\n",
    "\n",
    ":::{danger} Avoid 3D charts\n",
    "\n",
    "There are very few cases where 3D charts are appropriate, such as a surface plot, or a spatial visualization. Otherwise, 3D charts often distort data and make it harder to interpret. Stick to 2D visualizations for clarity.\n",
    "\n",
    "If you need to show multiple dimensions, consider using color, size, or facets instead of adding a third spatial dimension.\n",
    "\n",
    "If you create a 3D chart because it looks \"cool\", I will track you down and personally make you redo it in 2D. 😡\n",
    "\n",
    ":::\n"
   ]
  },
  {
   "cell_type": "markdown",
   "metadata": {},
   "source": [
    "### 📊 Dataviz libraries\n",
    "\n",
    "The mostly commonly used library for data visualization in introductory data analytics courses is [**matplotlib**](https://matplotlib.org/), a low-level visualization library for Python. [**seaborn**](https://seaborn.pydata.org/) is another popular library built on top of matplotlib that provides a higher-level interface for creating attractive and informative statistical graphics.\n",
    "\n",
    "Below are some of the most popular and battle-tested data visualization libraries - all of which are free and open source:\n",
    "\n",
    "- [**matplotlib**](https://matplotlib.org/): Low-level visualization library for Python\n",
    "- [**seaborn**](https://seaborn.pydata.org/): High-level visualization library for Python **built on matplotlib**\n",
    "- [**bokeh**](https://bokeh.org/): Interactive visualizations for modern web browsers\n",
    "- [**plotnine**](https://plotnine.readthedocs.io/): Python implementation of [ggplot2](https://ggplot2.tidyverse.org/)\n",
    "- [**plotly**](https://plotly.com/python/): Interactive visualization library supporting Python, JavaScript, and R\n",
    "- [**altair**](https://altair-viz.github.io/): Declarative visualization library for Python based on [Vega](https://vega.github.io/vega/)\n",
    "\n",
    "### Plot.ly\n",
    "\n",
    "We'll use [plotly](https://plotly.com/python/), which provides both low-level and high-level interfaces to create publication-ready graphs.\n",
    "\n",
    "![plotly logo image](images/dataviz/plotly-logo.png)\n"
   ]
  },
  {
   "cell_type": "markdown",
   "metadata": {},
   "source": [
    "Import modules used by **🧭 Check Your Work** sections and the autograder.\n"
   ]
  },
  {
   "cell_type": "code",
   "execution_count": null,
   "metadata": {},
   "outputs": [],
   "source": [
    "import unittest\n",
    "import base64\n",
    "import plotly\n",
    "\n",
    "tc = unittest.TestCase()"
   ]
  },
  {
   "cell_type": "markdown",
   "metadata": {},
   "source": [
    "---\n",
    "\n",
    "## ✨ Visualize your dataset\n",
    "\n",
    "▶️ First, run the code below to ensure you're using the correct version of plotly.\n"
   ]
  },
  {
   "cell_type": "markdown",
   "metadata": {},
   "source": [
    "---\n",
    "\n",
    "### 🎯 Pre-exercise: Import Packages\n"
   ]
  },
  {
   "cell_type": "markdown",
   "metadata": {},
   "source": [
    "#### 👇 Tasks\n",
    "\n",
    "- ✔️ Import the following Python packages.\n",
    "  1. `pandas`: Use alias `pd`.\n",
    "  2. `numpy`: Use alias `np`.\n",
    "  3. `plotly.express`: Use alias `px`.\n",
    "  4. `plotly.graph_objects`: Use alias `go`.\n"
   ]
  },
  {
   "cell_type": "code",
   "execution_count": null,
   "metadata": {},
   "outputs": [],
   "source": [
    "# YOUR CODE BEGINS\n",
    "import pandas as pd\n",
    "import numpy as np\n",
    "import plotly.graph_objects as go\n",
    "import plotly.express as px\n",
    "\n",
    "# YOUR CODE ENDS"
   ]
  },
  {
   "cell_type": "markdown",
   "metadata": {},
   "source": [
    "#### 🧭 Check your work\n"
   ]
  },
  {
   "cell_type": "code",
   "execution_count": null,
   "metadata": {
    "nbgrader": {
     "grade": true,
     "grade_id": "pre-exercise",
     "locked": true,
     "points": "1",
     "solution": false
    }
   },
   "outputs": [],
   "source": [
    "import sys\n",
    "\n",
    "tc.assertTrue(\n",
    "    \"pd\" in globals(), \"Check whether you have correctly imported Pandas with an alias.\"\n",
    ")\n",
    "tc.assertTrue(\n",
    "    \"np\" in globals(), \"Check whether you have correctly imported NumPy with an alias.\"\n",
    ")\n",
    "\n",
    "print(f\"The current plotly version is {plotly.__version__}\")\n",
    "plotly_major_version = int(plotly.__version__.split(\".\")[0])\n",
    "tc.assertGreaterEqual(\n",
    "    plotly_major_version, 5, \"Your plotly version should be greater than or equal to 5\"\n",
    ")\n",
    "\n",
    "tc.assertIsNotNone(\n",
    "    go.Figure,\n",
    "    \"Check whether you have correctly imported plotly.graph_objects with an alias go.\",\n",
    ")\n",
    "tc.assertIsNotNone(\n",
    "    px.scatter,\n",
    "    \"Check whether you have correctly imported plotly.express with an alias px.\",\n",
    ")"
   ]
  },
  {
   "cell_type": "markdown",
   "metadata": {},
   "source": [
    "---\n",
    "\n",
    "### 📌 Import dataset\n",
    "\n",
    "Today, we work with an HR Dataset to uncover insights about HR metrics, measurement, and analytics. The data has been downloaded from [https://rpubs.com/rhuebner/hr_codebook_v14](https://rpubs.com/rhuebner/hr_codebook_v14) without any modification.\n"
   ]
  },
  {
   "cell_type": "markdown",
   "metadata": {},
   "source": [
    "▶️ Run the code below to import an HR Dataset. 🐷👧👨🏻‍🦰👩🏼‍🦳👳🏽‍♂️👩🏾‍🦲🐼.\n"
   ]
  },
  {
   "cell_type": "code",
   "execution_count": null,
   "metadata": {},
   "outputs": [],
   "source": [
    "# Display all columns\n",
    "pd.set_option(\"display.max_columns\", 50)\n",
    "\n",
    "df_hr = pd.read_csv(\"https://github.com/bdi475/datasets/raw/main/HR-dataset-v14.csv\")\n",
    "\n",
    "display(df_hr)"
   ]
  },
  {
   "cell_type": "markdown",
   "metadata": {},
   "source": [
    "---\n",
    "\n",
    "## 📦 Box plot: summary of distribution\n",
    "\n",
    "Box plots divide the data into 4 sections that each contain 25% of the data. It is useful to quickly identify the distribution of the data based on Q1, Q2 (median), and Q3.\n",
    "\n",
    "![box plot explanation](https://github.com/bdi475/images/blob/main/lecture-notes/dataviz-python/box-plot-explanation-01.png?raw=true)\n"
   ]
  },
  {
   "cell_type": "markdown",
   "metadata": {},
   "source": [
    "---\n",
    "\n",
    "### 📌 GPA example\n",
    "\n",
    "Before using the HR dataset, let's create a simple box plot of 12 different GPAs. NumPy is used here to calculate statistical figures.\n"
   ]
  },
  {
   "cell_type": "code",
   "execution_count": null,
   "metadata": {},
   "outputs": [],
   "source": [
    "gpa = np.array(\n",
    "    [3.33, 2.67, 3.0, 3.67, 3.67, 2.33, 3.0, 3.0, 2.67, 4.0, 3.33, 2.67, 4.0]\n",
    ")\n",
    "gpa"
   ]
  },
  {
   "cell_type": "code",
   "execution_count": null,
   "metadata": {},
   "outputs": [],
   "source": [
    "fig = px.box(x=gpa, title=\"GPA Distribution (Horizontal Box Plot)\")\n",
    "fig.show()"
   ]
  },
  {
   "cell_type": "code",
   "execution_count": null,
   "metadata": {},
   "outputs": [],
   "source": [
    "print(f\"Mean: {np.mean(gpa)}\")\n",
    "print(f\"Median: {np.median(gpa)}\")\n",
    "print(f\"Q1: {np.quantile(gpa, 0.25)}\")\n",
    "print(f\"Q3: {np.quantile(gpa, 0.75)}\")\n",
    "print(f\"IQR: {np.quantile(gpa, 0.75) - np.quantile(gpa, 0.25)}\")"
   ]
  },
  {
   "cell_type": "markdown",
   "metadata": {},
   "source": [
    "### 🦄 Findings\n",
    "\n",
    "- Median is `3`.\n",
    "- Minimum is `2.33`.\n",
    "- Maximum is `4`.\n",
    "- Interquartile range is `1`.\n",
    "  - You can calculate this value by subtracting Q1 from Q3: `3.67 - 2.67`.\n",
    "- There is a positive skew.\n",
    "  - This is also shown by comparing the mean and the median.\n"
   ]
  },
  {
   "cell_type": "markdown",
   "metadata": {},
   "source": [
    "---\n",
    "\n",
    "### 🎯 Exercise 1: Salary box plot (vertical)\n",
    "\n",
    "#### 👇 Tasks\n",
    "\n",
    "- ✔️ Draw a vertical box plot of `Salary` in `df_hr`.\n",
    "- ✔️ Store your figure to a variable named `fig`.\n",
    "- ✔️ Add an appropriate title to your figure.\n",
    "- ✔️ Display the figure using `fig.show()`\n"
   ]
  },
  {
   "cell_type": "code",
   "execution_count": null,
   "metadata": {},
   "outputs": [],
   "source": [
    "# YOUR CODE BEGINS\n",
    "fig = px.box(df_hr, y=\"Salary\", title=\"Salary Distribution (Vertical)\")\n",
    "fig.show()\n",
    "# YOUR CODE ENDS"
   ]
  },
  {
   "cell_type": "markdown",
   "metadata": {},
   "source": [
    "#### 🔑 Sample output\n",
    "\n",
    "![Salary distribution vertical](https://github.com/bdi475/images/blob/main/exercises/intro-to-dataviz/salary_dispersion_box_plot_vertical.png?raw=true)\n"
   ]
  },
  {
   "cell_type": "markdown",
   "metadata": {},
   "source": [
    "#### 🧭 Check your work\n"
   ]
  },
  {
   "cell_type": "code",
   "execution_count": null,
   "metadata": {
    "nbgrader": {
     "grade": true,
     "grade_id": "exercise-01",
     "locked": true,
     "points": "1",
     "solution": false
    }
   },
   "outputs": [],
   "source": [
    "tc.assertEqual(len(fig.data), 1, \"There must be only one plot in your figure\")\n",
    "tc.assertIsNotNone(fig.layout.title.text, \"Missing figure title\")\n",
    "tc.assertEqual(fig.data[0].type, \"box\", \"Not a box plot\")\n",
    "tc.assertEqual(\n",
    "    fig.data[0].orientation, \"v\", \"Your plot should have a vertical orientation\"\n",
    ")\n",
    "np.testing.assert_array_equal(fig.data[0].y, df_hr[\"Salary\"], \"Incorrect data\")"
   ]
  },
  {
   "cell_type": "markdown",
   "metadata": {},
   "source": [
    "---\n",
    "\n",
    "### 🎯 Exercise 2: Salary box plot (horizontal)\n",
    "\n",
    "#### 👇 Tasks\n",
    "\n",
    "- ✔️ Draw a horizontal box plot of `Salary`.\n",
    "- ✔️ Store your figure to a variable named `fig`.\n",
    "- ✔️ Add an appropriate title to your figure.\n",
    "- ✔️ Display the figure using `fig.show()`\n"
   ]
  },
  {
   "cell_type": "code",
   "execution_count": null,
   "metadata": {},
   "outputs": [],
   "source": [
    "# YOUR CODE BEGINS\n",
    "fig = px.box(df_hr, x=\"Salary\", title=\"Salary Distribution (Horizontal)\")\n",
    "fig.show()\n",
    "# YOUR CODE ENDS"
   ]
  },
  {
   "cell_type": "markdown",
   "metadata": {},
   "source": [
    "#### 🔑 Sample output\n",
    "\n",
    "![Salary distribution horizontal](https://github.com/bdi475/images/blob/main/exercises/intro-to-dataviz/salary_dispersion_box_plot_horizontal.png?raw=true)\n"
   ]
  },
  {
   "cell_type": "markdown",
   "metadata": {},
   "source": [
    "#### 🧭 Check your work\n"
   ]
  },
  {
   "cell_type": "code",
   "execution_count": null,
   "metadata": {
    "nbgrader": {
     "grade": true,
     "grade_id": "exercise-02",
     "locked": true,
     "points": "1",
     "solution": false
    }
   },
   "outputs": [],
   "source": [
    "tc.assertEqual(len(fig.data), 1, \"There must be only one plot in your figure\")\n",
    "tc.assertIsNotNone(fig.layout.title.text, \"Missing figure title\")\n",
    "tc.assertEqual(fig.data[0].type, \"box\", \"Not a box plot\")\n",
    "tc.assertEqual(\n",
    "    fig.data[0].orientation, \"h\", \"Your plot should have a horizontal orientation\"\n",
    ")\n",
    "np.testing.assert_array_equal(fig.data[0].x, df_hr[\"Salary\"], \"Incorrect data\")"
   ]
  },
  {
   "cell_type": "markdown",
   "metadata": {},
   "source": [
    "---\n",
    "\n",
    "### 🎯 Exercise 3: Salary distribution by citizenship status\n",
    "\n",
    "#### 👇 Tasks\n",
    "\n",
    "- ✔️ Draw horizontal box plots of `Salary` by `CitizenDesc`.\n",
    "- ✔️ Store your figure to a variable named `fig`.\n",
    "- ✔️ Add an appropriate title to your figure.\n",
    "- ✔️ Display the figure using `fig.show()`\n"
   ]
  },
  {
   "cell_type": "code",
   "execution_count": null,
   "metadata": {},
   "outputs": [],
   "source": [
    "# YOUR CODE BEGINS\n",
    "fig = px.box(\n",
    "    df_hr,\n",
    "    x=\"Salary\",\n",
    "    y=\"CitizenDesc\",\n",
    "    title=\"Salary Distribution by Citizenship Status\",\n",
    ")\n",
    "fig.show()\n",
    "# YOUR CODE ENDS"
   ]
  },
  {
   "cell_type": "markdown",
   "metadata": {},
   "source": [
    "#### 🔑 Sample output\n",
    "\n",
    "![Salary distribution by citizenship status box plots](https://github.com/bdi475/images/blob/main/exercises/intro-to-dataviz/salary_dispersion_by_citizenship_status_box_plots_horizontal.png?raw=true)\n"
   ]
  },
  {
   "cell_type": "markdown",
   "metadata": {},
   "source": [
    "#### 🧭 Check your work\n"
   ]
  },
  {
   "cell_type": "code",
   "execution_count": null,
   "metadata": {
    "nbgrader": {
     "grade": true,
     "grade_id": "exercise-03",
     "locked": true,
     "points": "1",
     "solution": false
    }
   },
   "outputs": [],
   "source": [
    "tc.assertEqual(len(fig.data), 1, \"There must be only one plot in your figure\")\n",
    "tc.assertIsNotNone(fig.layout.title.text, \"Missing figure title\")\n",
    "tc.assertEqual(fig.data[0].type, \"box\", \"Not a box plot\")\n",
    "tc.assertEqual(\n",
    "    fig.data[0].orientation, \"h\", \"Your plot should have a horizontal orientation\"\n",
    ")\n",
    "np.testing.assert_array_equal(fig.data[0].x, df_hr[\"Salary\"], \"Incorrect x-axis data\")\n",
    "np.testing.assert_array_equal(\n",
    "    fig.data[0].y, df_hr[\"CitizenDesc\"], \"Incorrect y-axis data\"\n",
    ")"
   ]
  },
  {
   "cell_type": "markdown",
   "metadata": {},
   "source": [
    "---\n",
    "\n",
    "### 🎯 Exercise 4: Salary distribution by performance\n",
    "\n",
    "#### 👇 Tasks\n",
    "\n",
    "- ✔️ Draw horizontal box plots of `Salary` by `PerformanceScore`.\n",
    "- ✔️ Store your figure to a variable named `fig`.\n",
    "- ✔️ Add an appropriate title to your figure.\n",
    "- ✔️ Display the figure using `fig.show()`\n"
   ]
  },
  {
   "cell_type": "code",
   "execution_count": null,
   "metadata": {},
   "outputs": [],
   "source": [
    "# YOUR CODE BEGINS\n",
    "fig = px.box(\n",
    "    df_hr,\n",
    "    x=\"Salary\",\n",
    "    y=\"PerformanceScore\",\n",
    "    title=\"Salary Distribution by Performance Score\",\n",
    ")\n",
    "fig.show()\n",
    "# YOUR CODE ENDS"
   ]
  },
  {
   "cell_type": "markdown",
   "metadata": {},
   "source": [
    "#### 🔑 Sample output\n",
    "\n",
    "![Salary distribution by performance score box plots](https://github.com/bdi475/images/blob/main/exercises/intro-to-dataviz/salary_dispersion_by_performance_score_box_plots_horizontal.png?raw=true)\n"
   ]
  },
  {
   "cell_type": "markdown",
   "metadata": {},
   "source": [
    "#### 🧭 Check your work\n"
   ]
  },
  {
   "cell_type": "code",
   "execution_count": null,
   "metadata": {
    "nbgrader": {
     "grade": true,
     "grade_id": "exercise-04",
     "locked": true,
     "points": "1",
     "solution": false
    }
   },
   "outputs": [],
   "source": [
    "tc.assertEqual(len(fig.data), 1, \"There must be only one plot in your figure\")\n",
    "tc.assertIsNotNone(fig.layout.title.text, \"Missing figure title\")\n",
    "tc.assertEqual(fig.data[0].type, \"box\", \"Not a box plot\")\n",
    "tc.assertEqual(\n",
    "    fig.data[0].orientation, \"h\", \"Your plot should have a horizontal orientation\"\n",
    ")\n",
    "np.testing.assert_array_equal(fig.data[0].x, df_hr[\"Salary\"], \"Incorrect x-axis data\")\n",
    "np.testing.assert_array_equal(\n",
    "    fig.data[0].y, df_hr[\"PerformanceScore\"], \"Incorrect y-axis data\"\n",
    ")"
   ]
  },
  {
   "cell_type": "markdown",
   "metadata": {},
   "source": [
    "---\n",
    "\n",
    "### 🎯 Exercise 5: Salary distribution by department\n",
    "\n",
    "#### 👇 Tasks\n",
    "\n",
    "- ✔️ Draw horizontal box plots of `Salary` by `Department`.\n",
    "- ✔️ Store your figure to a variable named `fig`.\n",
    "- ✔️ Add an appropriate title to your figure.\n",
    "- ✔️ Set the height of your figure to `600`.\n",
    "- ✔️ Display the figure using `fig.show()`\n"
   ]
  },
  {
   "cell_type": "code",
   "execution_count": null,
   "metadata": {},
   "outputs": [],
   "source": [
    "# YOUR CODE BEGINS\n",
    "fig = px.box(\n",
    "    df_hr,\n",
    "    x=\"Salary\",\n",
    "    y=\"Department\",\n",
    "    title=\"Salary Distribution by Department\",\n",
    "    height=600,\n",
    ")\n",
    "fig.show()\n",
    "# YOUR CODE ENDS"
   ]
  },
  {
   "cell_type": "markdown",
   "metadata": {},
   "source": [
    "#### 🔑 Sample output\n",
    "\n",
    "![Salary distribution by department box plots](https://github.com/bdi475/images/blob/main/exercises/intro-to-dataviz/salary_dispersion_by_department_box_plots_horizontal.png?raw=true)\n"
   ]
  },
  {
   "cell_type": "markdown",
   "metadata": {},
   "source": [
    "#### 🧭 Check your work\n"
   ]
  },
  {
   "cell_type": "code",
   "execution_count": null,
   "metadata": {
    "nbgrader": {
     "grade": true,
     "grade_id": "exercise-05",
     "locked": true,
     "points": "1",
     "solution": false
    }
   },
   "outputs": [],
   "source": [
    "tc.assertEqual(len(fig.data), 1, \"There must be only one plot in your figure\")\n",
    "tc.assertIsNotNone(fig.layout.title.text, \"Missing figure title\")\n",
    "tc.assertEqual(fig.data[0].type, \"box\", \"Not a box plot\")\n",
    "tc.assertEqual(\n",
    "    fig.data[0].orientation, \"h\", \"Your plot should have a horizontal orientation\"\n",
    ")\n",
    "tc.assertEqual(fig.layout.height, 600, \"Incorrect height\")\n",
    "np.testing.assert_array_equal(fig.data[0].x, df_hr[\"Salary\"], \"Incorrect x-axis data\")\n",
    "np.testing.assert_array_equal(\n",
    "    fig.data[0].y, df_hr[\"Department\"], \"Incorrect y-axis data\"\n",
    ")"
   ]
  },
  {
   "cell_type": "markdown",
   "metadata": {},
   "source": [
    "---\n",
    "\n",
    "## 🟪 Histogram: frequency distribution\n",
    "\n",
    "Histograms display frequency distributions using bars of different heights.\n"
   ]
  },
  {
   "cell_type": "code",
   "execution_count": null,
   "metadata": {},
   "outputs": [],
   "source": [
    "fig = px.histogram(x=np.random.randn(500))\n",
    "fig.show()"
   ]
  },
  {
   "cell_type": "markdown",
   "metadata": {},
   "source": [
    "---\n",
    "\n",
    "### 🎯 Exercise 6: Salary histogram\n",
    "\n",
    "#### 👇 Tasks\n",
    "\n",
    "- ✔️ Draw a histogram of `Salary` in `df_hr`.\n",
    "- ✔️ Store your figure to a variable named `fig`.\n",
    "- ✔️ Add an appropriate title to your figure.\n",
    "- ✔️ Display the figure using `fig.show()`\n"
   ]
  },
  {
   "cell_type": "code",
   "execution_count": null,
   "metadata": {},
   "outputs": [],
   "source": [
    "# YOUR CODE BEGINS\n",
    "fig = px.histogram(df_hr, x=\"Salary\", title=\"Salary Distribution\")\n",
    "fig.show()\n",
    "# YOUR CODE ENDS"
   ]
  },
  {
   "cell_type": "markdown",
   "metadata": {},
   "source": [
    "#### 🔑 Sample output\n",
    "\n",
    "![Salary distribution histogram](https://github.com/bdi475/images/blob/main/exercises/intro-to-dataviz/salary_histogram.png?raw=true)\n"
   ]
  },
  {
   "cell_type": "markdown",
   "metadata": {},
   "source": [
    "#### 🧭 Check your work\n"
   ]
  },
  {
   "cell_type": "code",
   "execution_count": null,
   "metadata": {
    "nbgrader": {
     "grade": true,
     "grade_id": "exercise-06",
     "locked": true,
     "points": "1",
     "solution": false
    }
   },
   "outputs": [],
   "source": [
    "tc.assertEqual(len(fig.data), 1, \"There must be only one plot in your figure\")\n",
    "tc.assertIsNotNone(fig.layout.title.text, \"Missing figure title\")\n",
    "tc.assertEqual(fig.data[0].type, \"histogram\", \"Not a histogram\")\n",
    "tc.assertEqual(\n",
    "    fig.data[0].orientation, \"v\", \"Your plot should have a vertical orientation\"\n",
    ")\n",
    "np.testing.assert_array_equal(fig.data[0].x, df_hr[\"Salary\"], \"Incorrect data\")"
   ]
  },
  {
   "cell_type": "markdown",
   "metadata": {},
   "source": [
    "---\n",
    "\n",
    "### 🎯 Exercise 7: Number of absences histogram\n",
    "\n",
    "#### 👇 Tasks\n",
    "\n",
    "- ✔️ Draw a histogram of `Absences` in `df_hr`.\n",
    "- ✔️ Store your figure to a variable named `fig`.\n",
    "- ✔️ Add an appropriate title to your figure.\n",
    "- ✔️ Display the figure using `fig.show()`\n"
   ]
  },
  {
   "cell_type": "code",
   "execution_count": null,
   "metadata": {},
   "outputs": [],
   "source": [
    "# YOUR CODE BEGINS\n",
    "fig = px.histogram(df_hr, x=\"Absences\", title=\"Number of Absence Distribution\")\n",
    "fig.show()\n",
    "# YOUR CODE ENDS"
   ]
  },
  {
   "cell_type": "markdown",
   "metadata": {},
   "source": [
    "#### 🔑 Sample output\n",
    "\n",
    "![Number of absence histogram](https://github.com/bdi475/images/blob/main/exercises/intro-to-dataviz/number_of_absences_histogram.png?raw=true)\n"
   ]
  },
  {
   "cell_type": "markdown",
   "metadata": {},
   "source": [
    "#### 🧭 Check your work\n"
   ]
  },
  {
   "cell_type": "code",
   "execution_count": null,
   "metadata": {
    "nbgrader": {
     "grade": true,
     "grade_id": "exercise-07",
     "locked": true,
     "points": "1",
     "solution": false
    }
   },
   "outputs": [],
   "source": [
    "tc.assertEqual(len(fig.data), 1, \"There must be only one plot in your figure\")\n",
    "tc.assertIsNotNone(fig.layout.title.text, \"Missing figure title\")\n",
    "tc.assertEqual(fig.data[0].type, \"histogram\", \"Not a histogram\")\n",
    "tc.assertEqual(\n",
    "    fig.data[0].orientation, \"v\", \"Your plot should have a vertical orientation\"\n",
    ")\n",
    "np.testing.assert_array_equal(fig.data[0].x, df_hr[\"Absences\"], \"Incorrect data\")"
   ]
  },
  {
   "cell_type": "markdown",
   "metadata": {},
   "source": [
    "---\n",
    "\n",
    "### 🎯 Exercise 8: Salary histograms by gender\n",
    "\n",
    "#### 👇 Tasks\n",
    "\n",
    "- ✔️ Draw overlaid histograms of `Salary` in `df_hr` by `GenderID`.\n",
    "- ✔️ Full code is provided below.\n",
    "\n",
    "```python\n",
    "# BEGIN SOLUTION\n",
    "fig = go.Figure()\n",
    "fig.add_trace(\n",
    "    go.Histogram(\n",
    "        x=df_hr[df_hr['GenderID'] == 0]['Salary'],\n",
    "        name='Male'\n",
    "    )\n",
    ")\n",
    "\n",
    "fig.add_trace(\n",
    "    go.Histogram(\n",
    "        x=df_hr[df_hr['GenderID'] == 1]['Salary'],\n",
    "        name='Female'\n",
    "    )\n",
    ")\n",
    "\n",
    "# Overlay both histograms\n",
    "fig.update_layout(barmode='overlay')\n",
    "\n",
    "# Reduce opacity to see both histograms\n",
    "fig.update_traces(opacity=0.6)\n",
    "fig.show()\n",
    "# END SOLUTION\n",
    "```\n"
   ]
  },
  {
   "cell_type": "code",
   "execution_count": null,
   "metadata": {},
   "outputs": [],
   "source": [
    "# YOUR CODE BEGINS\n",
    "fig = go.Figure()\n",
    "fig.add_trace(go.Histogram(x=df_hr[df_hr[\"GenderID\"] == 0][\"Salary\"], name=\"Male\"))\n",
    "\n",
    "fig.add_trace(go.Histogram(x=df_hr[df_hr[\"GenderID\"] == 1][\"Salary\"], name=\"Female\"))\n",
    "\n",
    "# Overlay both histograms\n",
    "fig.update_layout(barmode=\"overlay\")\n",
    "\n",
    "# Reduce opacity to see both histograms\n",
    "fig.update_traces(opacity=0.6)\n",
    "fig.show()\n",
    "# YOUR CODE ENDS"
   ]
  },
  {
   "cell_type": "markdown",
   "metadata": {},
   "source": [
    "#### 🧭 Check your work\n"
   ]
  },
  {
   "cell_type": "code",
   "execution_count": null,
   "metadata": {
    "nbgrader": {
     "grade": true,
     "grade_id": "exercise-08",
     "locked": true,
     "points": "1",
     "solution": false
    }
   },
   "outputs": [],
   "source": [
    "tc.assertEqual(len(fig.data), 2, \"There must be two plots in your figure\")\n",
    "tc.assertEqual(fig.data[0].type, \"histogram\", \"Not a histogram\")\n",
    "tc.assertEqual(fig.data[1].type, \"histogram\", \"Not a histogram\")\n",
    "np.testing.assert_array_equal(\n",
    "    fig.data[0].x, df_hr[df_hr[\"GenderID\"] == 0][\"Salary\"], \"Incorrect data\"\n",
    ")\n",
    "np.testing.assert_array_equal(\n",
    "    fig.data[1].x, df_hr[df_hr[\"GenderID\"] == 1][\"Salary\"], \"Incorrect data\"\n",
    ")"
   ]
  }
 ],
 "metadata": {
  "kernelspec": {
   "display_name": "gies",
   "language": "python",
   "name": "python3"
  },
  "language_info": {
   "codemirror_mode": {
    "name": "ipython",
    "version": 3
   },
   "file_extension": ".py",
   "mimetype": "text/x-python",
   "name": "python",
   "nbconvert_exporter": "python",
   "pygments_lexer": "ipython3",
   "version": "3.12.6"
  }
 },
 "nbformat": 4,
 "nbformat_minor": 4
}
