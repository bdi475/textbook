{
 "cells": [
  {
   "cell_type": "markdown",
   "metadata": {
    "id": "iOTHDynIZP_O"
   },
   "source": [
    "# Pandas Missing Values, Datetime, Aggregation, and Merging\n"
   ]
  },
  {
   "cell_type": "markdown",
   "metadata": {
    "id": "PrDpf27sZP_P"
   },
   "source": [
    "▶️ Import `pandas` and `numpy`.\n"
   ]
  },
  {
   "cell_type": "code",
   "execution_count": 2,
   "metadata": {
    "id": "3tEX2t2XZP_Q"
   },
   "outputs": [],
   "source": [
    "import pandas as pd\n",
    "import numpy as np"
   ]
  },
  {
   "cell_type": "markdown",
   "metadata": {
    "id": "CAMvaxOqZP_R"
   },
   "source": [
    "### 📌 Load employees data\n",
    "\n",
    "▶️ Run the code cell below to create a new `DataFrame` named `df_emp`.\n"
   ]
  },
  {
   "cell_type": "code",
   "execution_count": null,
   "metadata": {
    "colab": {
     "base_uri": "https://localhost:8080/",
     "height": 175
    },
    "id": "p8IMV_ypZP_R",
    "outputId": "4ffb7dc4-b072-483b-97e0-51fd6f911dae"
   },
   "outputs": [
    {
     "data": {
      "text/html": [
       "<div>\n",
       "<style scoped>\n",
       "    .dataframe tbody tr th:only-of-type {\n",
       "        vertical-align: middle;\n",
       "    }\n",
       "\n",
       "    .dataframe tbody tr th {\n",
       "        vertical-align: top;\n",
       "    }\n",
       "\n",
       "    .dataframe thead th {\n",
       "        text-align: right;\n",
       "    }\n",
       "</style>\n",
       "<table border=\"1\" class=\"dataframe\">\n",
       "  <thead>\n",
       "    <tr style=\"text-align: right;\">\n",
       "      <th></th>\n",
       "      <th>emp_id</th>\n",
       "      <th>name</th>\n",
       "      <th>dept</th>\n",
       "      <th>office_phone</th>\n",
       "      <th>start_date</th>\n",
       "      <th>salary</th>\n",
       "    </tr>\n",
       "  </thead>\n",
       "  <tbody>\n",
       "    <tr>\n",
       "      <th>0</th>\n",
       "      <td>30</td>\n",
       "      <td>Toby</td>\n",
       "      <td>HR</td>\n",
       "      <td>(217)123-4500</td>\n",
       "      <td>2017-05-01</td>\n",
       "      <td>202000</td>\n",
       "    </tr>\n",
       "    <tr>\n",
       "      <th>1</th>\n",
       "      <td>40</td>\n",
       "      <td>Jim</td>\n",
       "      <td>Sales</td>\n",
       "      <td>NaN</td>\n",
       "      <td>2018-02-01</td>\n",
       "      <td>185000</td>\n",
       "    </tr>\n",
       "    <tr>\n",
       "      <th>2</th>\n",
       "      <td>10</td>\n",
       "      <td>Pam</td>\n",
       "      <td>Sales</td>\n",
       "      <td>NaN</td>\n",
       "      <td>2020-08-01</td>\n",
       "      <td>240000</td>\n",
       "    </tr>\n",
       "    <tr>\n",
       "      <th>3</th>\n",
       "      <td>20</td>\n",
       "      <td>Kelly</td>\n",
       "      <td>Customer Service</td>\n",
       "      <td>(217)987-6600</td>\n",
       "      <td>2019-12-01</td>\n",
       "      <td>160500</td>\n",
       "    </tr>\n",
       "  </tbody>\n",
       "</table>\n",
       "</div>"
      ],
      "text/plain": [
       "   emp_id   name              dept   office_phone  start_date  salary\n",
       "0      30   Toby                HR  (217)123-4500  2017-05-01  202000\n",
       "1      40    Jim             Sales            NaN  2018-02-01  185000\n",
       "2      10    Pam             Sales            NaN  2020-08-01  240000\n",
       "3      20  Kelly  Customer Service  (217)987-6600  2019-12-01  160500"
      ]
     },
     "execution_count": 3,
     "metadata": {},
     "output_type": "execute_result"
    }
   ],
   "source": [
    "df_emp = pd.DataFrame(\n",
    "    {\n",
    "        \"emp_id\": [30, 40, 10, 20],\n",
    "        \"name\": [\"Toby\", \"Jim\", \"Pam\", \"Kelly\"],\n",
    "        \"dept\": [\"HR\", \"Sales\", \"Sales\", \"Customer Service\"],\n",
    "        \"office_phone\": [\"(217)123-4500\", np.nan, np.nan, \"(217)987-6600\"],\n",
    "        \"start_date\": [\"2017-05-01\", \"2018-02-01\", \"2020-08-01\", \"2019-12-01\"],\n",
    "        \"salary\": [202000, 185000, 240000, 160500],\n",
    "    }\n",
    ")\n",
    "\n",
    "# Create a backup copy of the original DataFrame\n",
    "df_emp_backup = df_emp.copy()\n",
    "\n",
    "df_emp"
   ]
  },
  {
   "cell_type": "markdown",
   "metadata": {
    "id": "fsKh45UXZP_S"
   },
   "source": [
    "▶️ Run `df_emp.info()` for a summary of the DataFrame, including the data types of each column and the number of non-null entries.\n"
   ]
  },
  {
   "cell_type": "code",
   "execution_count": 4,
   "metadata": {
    "colab": {
     "base_uri": "https://localhost:8080/"
    },
    "id": "m4oM1DSlZP_S",
    "outputId": "57e232dc-61d0-4ce0-d9ed-106d50a3ce68"
   },
   "outputs": [
    {
     "name": "stdout",
     "output_type": "stream",
     "text": [
      "<class 'pandas.core.frame.DataFrame'>\n",
      "RangeIndex: 4 entries, 0 to 3\n",
      "Data columns (total 6 columns):\n",
      " #   Column        Non-Null Count  Dtype \n",
      "---  ------        --------------  ----- \n",
      " 0   emp_id        4 non-null      int64 \n",
      " 1   name          4 non-null      object\n",
      " 2   dept          4 non-null      object\n",
      " 3   office_phone  2 non-null      object\n",
      " 4   start_date    4 non-null      object\n",
      " 5   salary        4 non-null      int64 \n",
      "dtypes: int64(2), object(4)\n",
      "memory usage: 324.0+ bytes\n"
     ]
    }
   ],
   "source": [
    "df_emp.info()"
   ]
  },
  {
   "cell_type": "markdown",
   "metadata": {
    "id": "MujFJOTdZP_a"
   },
   "source": [
    "---\n",
    "\n",
    "## 🗓️ Working with Datetime Values\n",
    "\n",
    "Datetime values are common in datasets. They can represent dates, times, or both. Pandas provides powerful tools to work with datetime data.\n",
    "\n",
    "A few common datetime formats include:\n",
    "\n",
    "- `YYYY-MM-DD` (e.g., `2021-03-15`)\n",
    "- `MM/DD/YYYY` (e.g., `03/15/2021`)\n",
    "- `DD-Mon-YYYY` (e.g., `15-Mar-2021`)\n",
    "- `YYYYMMDD` (e.g., `20210315`)\n",
    "\n",
    "When you read a CSV file, pandas does not automatically recognize datetime columns. We can verify this by checking the data type of the \"start_date\" column.\n"
   ]
  },
  {
   "cell_type": "code",
   "execution_count": 6,
   "metadata": {},
   "outputs": [
    {
     "data": {
      "text/plain": [
       "0    2017-05-01\n",
       "1    2018-02-01\n",
       "2    2020-08-01\n",
       "3    2019-12-01\n",
       "Name: start_date, dtype: object"
      ]
     },
     "execution_count": 6,
     "metadata": {},
     "output_type": "execute_result"
    }
   ],
   "source": [
    "df_emp[\"start_date\"]"
   ]
  },
  {
   "cell_type": "markdown",
   "metadata": {
    "id": "1Dlee0xrZP_a"
   },
   "source": [
    "▶️ Run `str(df_emp[\"start_date\"].dtype)` to check the data type of the \"start_date\" column.\n"
   ]
  },
  {
   "cell_type": "code",
   "execution_count": 5,
   "metadata": {
    "colab": {
     "base_uri": "https://localhost:8080/",
     "height": 35
    },
    "id": "rOoMIVWyZP_a",
    "outputId": "3594ff2a-58d3-4568-8a70-44b08c509f1a"
   },
   "outputs": [
    {
     "data": {
      "text/plain": [
       "'object'"
      ]
     },
     "execution_count": 5,
     "metadata": {},
     "output_type": "execute_result"
    }
   ],
   "source": [
    "str(df_emp[\"start_date\"].dtype)"
   ]
  },
  {
   "cell_type": "markdown",
   "metadata": {
    "id": "SVZNJsfiZP_b"
   },
   "source": [
    "The \"start_date\" column is currently of type `object`, which means it is treated as a string.\n",
    "\n",
    "To use datetime functionalities, we need to convert this column to a datetime type. There are two ways to convert a column to datetime:\n",
    "\n",
    "1. **During CSV Import**: Use the `parse_dates` parameter in `pd.read_csv()`.\n",
    "\n",
    "   ```python\n",
    "   df = pd.read_csv('data.csv', parse_dates=['date_column'])\n",
    "   ```\n",
    "\n",
    "2. **After CSV Import**: Use `pd.to_datetime()` to convert a column.\n",
    "\n",
    "   ```python\n",
    "   df['date_column'] = pd.to_datetime(df['date_column'])\n",
    "   ```\n"
   ]
  },
  {
   "cell_type": "markdown",
   "metadata": {
    "id": "equOau8hZP_b"
   },
   "source": [
    "---\n",
    "\n",
    "**🎯 Example: Parse the `start_date` column as datetime**\n",
    "\n",
    "We will create a new column \"start_date_parsed\" that contains the parsed datetime values.\n"
   ]
  },
  {
   "cell_type": "code",
   "execution_count": 7,
   "metadata": {
    "colab": {
     "base_uri": "https://localhost:8080/",
     "height": 0
    },
    "id": "Jx-lRjW2ZP_b",
    "outputId": "ed272ee3-8ebb-47c0-cfe0-d75b1c4c019c"
   },
   "outputs": [
    {
     "data": {
      "text/html": [
       "<div>\n",
       "<style scoped>\n",
       "    .dataframe tbody tr th:only-of-type {\n",
       "        vertical-align: middle;\n",
       "    }\n",
       "\n",
       "    .dataframe tbody tr th {\n",
       "        vertical-align: top;\n",
       "    }\n",
       "\n",
       "    .dataframe thead th {\n",
       "        text-align: right;\n",
       "    }\n",
       "</style>\n",
       "<table border=\"1\" class=\"dataframe\">\n",
       "  <thead>\n",
       "    <tr style=\"text-align: right;\">\n",
       "      <th></th>\n",
       "      <th>emp_id</th>\n",
       "      <th>name</th>\n",
       "      <th>dept</th>\n",
       "      <th>office_phone</th>\n",
       "      <th>start_date</th>\n",
       "      <th>salary</th>\n",
       "      <th>start_date_parsed</th>\n",
       "    </tr>\n",
       "  </thead>\n",
       "  <tbody>\n",
       "    <tr>\n",
       "      <th>0</th>\n",
       "      <td>30</td>\n",
       "      <td>Toby</td>\n",
       "      <td>HR</td>\n",
       "      <td>(217)123-4500</td>\n",
       "      <td>2017-05-01</td>\n",
       "      <td>202000</td>\n",
       "      <td>2017-05-01</td>\n",
       "    </tr>\n",
       "    <tr>\n",
       "      <th>1</th>\n",
       "      <td>40</td>\n",
       "      <td>Jim</td>\n",
       "      <td>Sales</td>\n",
       "      <td>NaN</td>\n",
       "      <td>2018-02-01</td>\n",
       "      <td>185000</td>\n",
       "      <td>2018-02-01</td>\n",
       "    </tr>\n",
       "    <tr>\n",
       "      <th>2</th>\n",
       "      <td>10</td>\n",
       "      <td>Pam</td>\n",
       "      <td>Sales</td>\n",
       "      <td>NaN</td>\n",
       "      <td>2020-08-01</td>\n",
       "      <td>240000</td>\n",
       "      <td>2020-08-01</td>\n",
       "    </tr>\n",
       "    <tr>\n",
       "      <th>3</th>\n",
       "      <td>20</td>\n",
       "      <td>Kelly</td>\n",
       "      <td>Customer Service</td>\n",
       "      <td>(217)987-6600</td>\n",
       "      <td>2019-12-01</td>\n",
       "      <td>160500</td>\n",
       "      <td>2019-12-01</td>\n",
       "    </tr>\n",
       "  </tbody>\n",
       "</table>\n",
       "</div>"
      ],
      "text/plain": [
       "   emp_id   name              dept   office_phone  start_date  salary  \\\n",
       "0      30   Toby                HR  (217)123-4500  2017-05-01  202000   \n",
       "1      40    Jim             Sales            NaN  2018-02-01  185000   \n",
       "2      10    Pam             Sales            NaN  2020-08-01  240000   \n",
       "3      20  Kelly  Customer Service  (217)987-6600  2019-12-01  160500   \n",
       "\n",
       "  start_date_parsed  \n",
       "0        2017-05-01  \n",
       "1        2018-02-01  \n",
       "2        2020-08-01  \n",
       "3        2019-12-01  "
      ]
     },
     "execution_count": 7,
     "metadata": {},
     "output_type": "execute_result"
    }
   ],
   "source": [
    "df_emp[\"start_date_parsed\"] = pd.to_datetime(df_emp[\"start_date\"])\n",
    "\n",
    "df_emp"
   ]
  },
  {
   "cell_type": "markdown",
   "metadata": {
    "id": "Pf2-Dw4AZP_b"
   },
   "source": [
    "▶️ Run `str(df_emp[\"start_date_parsed\"].dtype)` to check the data type of the new \"start_date_parsed\" column.\n"
   ]
  },
  {
   "cell_type": "code",
   "execution_count": null,
   "metadata": {
    "colab": {
     "base_uri": "https://localhost:8080/",
     "height": 0
    },
    "id": "ledL5fT4ZP_c",
    "nbgrader": {
     "grade": true,
     "grade_id": "challenge-06",
     "locked": true,
     "points": "1",
     "solution": false
    },
    "outputId": "4f4e4f1f-9628-4d66-ab61-61752d70c804"
   },
   "outputs": [
    {
     "data": {
      "text/plain": [
       "'datetime64[ns]'"
      ]
     },
     "execution_count": 22,
     "metadata": {},
     "output_type": "execute_result"
    }
   ],
   "source": [
    "str(df_emp[\"start_date_parsed\"].dtype)"
   ]
  },
  {
   "cell_type": "markdown",
   "metadata": {
    "id": "Y4LiwVWIZP_c"
   },
   "source": [
    "▶️ Drop the \"start_date\" column and rename \"start_date_parsed\" to \"start_date\".\n",
    "\n",
    "These steps could be done in a single line, but we will break them down to illustrate the process.\n"
   ]
  },
  {
   "cell_type": "code",
   "execution_count": 8,
   "metadata": {
    "colab": {
     "base_uri": "https://localhost:8080/",
     "height": 0
    },
    "id": "SHKw6ATaZP_c",
    "outputId": "b2778496-eb94-4e6a-feed-4a580ed84d07"
   },
   "outputs": [
    {
     "data": {
      "text/html": [
       "<div>\n",
       "<style scoped>\n",
       "    .dataframe tbody tr th:only-of-type {\n",
       "        vertical-align: middle;\n",
       "    }\n",
       "\n",
       "    .dataframe tbody tr th {\n",
       "        vertical-align: top;\n",
       "    }\n",
       "\n",
       "    .dataframe thead th {\n",
       "        text-align: right;\n",
       "    }\n",
       "</style>\n",
       "<table border=\"1\" class=\"dataframe\">\n",
       "  <thead>\n",
       "    <tr style=\"text-align: right;\">\n",
       "      <th></th>\n",
       "      <th>emp_id</th>\n",
       "      <th>name</th>\n",
       "      <th>dept</th>\n",
       "      <th>office_phone</th>\n",
       "      <th>salary</th>\n",
       "      <th>start_date</th>\n",
       "    </tr>\n",
       "  </thead>\n",
       "  <tbody>\n",
       "    <tr>\n",
       "      <th>0</th>\n",
       "      <td>30</td>\n",
       "      <td>Toby</td>\n",
       "      <td>HR</td>\n",
       "      <td>(217)123-4500</td>\n",
       "      <td>202000</td>\n",
       "      <td>2017-05-01</td>\n",
       "    </tr>\n",
       "    <tr>\n",
       "      <th>1</th>\n",
       "      <td>40</td>\n",
       "      <td>Jim</td>\n",
       "      <td>Sales</td>\n",
       "      <td>NaN</td>\n",
       "      <td>185000</td>\n",
       "      <td>2018-02-01</td>\n",
       "    </tr>\n",
       "    <tr>\n",
       "      <th>2</th>\n",
       "      <td>10</td>\n",
       "      <td>Pam</td>\n",
       "      <td>Sales</td>\n",
       "      <td>NaN</td>\n",
       "      <td>240000</td>\n",
       "      <td>2020-08-01</td>\n",
       "    </tr>\n",
       "    <tr>\n",
       "      <th>3</th>\n",
       "      <td>20</td>\n",
       "      <td>Kelly</td>\n",
       "      <td>Customer Service</td>\n",
       "      <td>(217)987-6600</td>\n",
       "      <td>160500</td>\n",
       "      <td>2019-12-01</td>\n",
       "    </tr>\n",
       "  </tbody>\n",
       "</table>\n",
       "</div>"
      ],
      "text/plain": [
       "   emp_id   name              dept   office_phone  salary start_date\n",
       "0      30   Toby                HR  (217)123-4500  202000 2017-05-01\n",
       "1      40    Jim             Sales            NaN  185000 2018-02-01\n",
       "2      10    Pam             Sales            NaN  240000 2020-08-01\n",
       "3      20  Kelly  Customer Service  (217)987-6600  160500 2019-12-01"
      ]
     },
     "execution_count": 8,
     "metadata": {},
     "output_type": "execute_result"
    }
   ],
   "source": [
    "df_emp.drop(columns=[\"start_date\"], inplace=True)\n",
    "df_emp.rename(columns={\"start_date_parsed\": \"start_date\"}, inplace=True)\n",
    "\n",
    "df_emp"
   ]
  },
  {
   "cell_type": "markdown",
   "metadata": {},
   "source": [
    "▶️ Check the data types of the columns to confirm the change.\n"
   ]
  },
  {
   "cell_type": "code",
   "execution_count": 9,
   "metadata": {},
   "outputs": [
    {
     "data": {
      "text/plain": [
       "emp_id                   int64\n",
       "name                    object\n",
       "dept                    object\n",
       "office_phone            object\n",
       "salary                   int64\n",
       "start_date      datetime64[ns]\n",
       "dtype: object"
      ]
     },
     "execution_count": 9,
     "metadata": {},
     "output_type": "execute_result"
    }
   ],
   "source": [
    "df_emp.dtypes"
   ]
  },
  {
   "cell_type": "markdown",
   "metadata": {},
   "source": [
    "Now the \"start_date\" column is of type `datetime64[ns]`, which allows us to perform datetime operations on it.\n"
   ]
  },
  {
   "cell_type": "markdown",
   "metadata": {},
   "source": [
    "---\n",
    "\n",
    "### Extracting Date Components\n",
    "\n",
    "We can easily extract components like year, month, and day from datetime columns using the `.dt` accessor.\n",
    "\n",
    "```python\n",
    "df['year'] = df['date_column'].dt.year\n",
    "df['month'] = df['date_column'].dt.month\n",
    "df['day'] = df['date_column'].dt.day\n",
    "df['weekday'] = df['date_column'].dt.weekday     # e.g., 0=Monday, 6=Sunday\n",
    "df['weekday'] = df['date_column'].dt.day_name()  # e.g., 'Monday'\n",
    "```\n",
    "\n",
    "We can also extract more specific components like hour, minute, and second if the datetime includes time.\n",
    "\n",
    "```python\n",
    "df['hour'] = df['date_column'].dt.hour\n",
    "df['minute'] = df['date_column'].dt.minute\n",
    "df['second'] = df['date_column'].dt.second\n",
    "```\n"
   ]
  },
  {
   "cell_type": "markdown",
   "metadata": {},
   "source": [
    "---\n",
    "\n",
    "▶️ Extract the year, month, and day from the \"start_date\" column into new columns \"start_year\", \"start_month\", and \"start_day\".\n",
    "\n",
    "```python\n",
    "df['start_year'] = df['start_date'].dt.year\n",
    "df['start_month'] = df['start_date'].dt.month\n",
    "df['start_day'] = df['start_date'].dt.day\n",
    "```\n"
   ]
  },
  {
   "cell_type": "code",
   "execution_count": 11,
   "metadata": {
    "colab": {
     "base_uri": "https://localhost:8080/",
     "height": 0
    },
    "id": "EV7ezb12ZP_d",
    "outputId": "4b70bcb7-268c-44b3-a6dc-5bbe345f3b3c"
   },
   "outputs": [
    {
     "data": {
      "text/html": [
       "<div>\n",
       "<style scoped>\n",
       "    .dataframe tbody tr th:only-of-type {\n",
       "        vertical-align: middle;\n",
       "    }\n",
       "\n",
       "    .dataframe tbody tr th {\n",
       "        vertical-align: top;\n",
       "    }\n",
       "\n",
       "    .dataframe thead th {\n",
       "        text-align: right;\n",
       "    }\n",
       "</style>\n",
       "<table border=\"1\" class=\"dataframe\">\n",
       "  <thead>\n",
       "    <tr style=\"text-align: right;\">\n",
       "      <th></th>\n",
       "      <th>emp_id</th>\n",
       "      <th>name</th>\n",
       "      <th>dept</th>\n",
       "      <th>office_phone</th>\n",
       "      <th>salary</th>\n",
       "      <th>start_date</th>\n",
       "      <th>start_year</th>\n",
       "      <th>start_month</th>\n",
       "      <th>start_day</th>\n",
       "    </tr>\n",
       "  </thead>\n",
       "  <tbody>\n",
       "    <tr>\n",
       "      <th>0</th>\n",
       "      <td>30</td>\n",
       "      <td>Toby</td>\n",
       "      <td>HR</td>\n",
       "      <td>(217)123-4500</td>\n",
       "      <td>202000</td>\n",
       "      <td>2017-05-01</td>\n",
       "      <td>2017</td>\n",
       "      <td>5</td>\n",
       "      <td>1</td>\n",
       "    </tr>\n",
       "    <tr>\n",
       "      <th>1</th>\n",
       "      <td>40</td>\n",
       "      <td>Jim</td>\n",
       "      <td>Sales</td>\n",
       "      <td>NaN</td>\n",
       "      <td>185000</td>\n",
       "      <td>2018-02-01</td>\n",
       "      <td>2018</td>\n",
       "      <td>2</td>\n",
       "      <td>1</td>\n",
       "    </tr>\n",
       "    <tr>\n",
       "      <th>2</th>\n",
       "      <td>10</td>\n",
       "      <td>Pam</td>\n",
       "      <td>Sales</td>\n",
       "      <td>NaN</td>\n",
       "      <td>240000</td>\n",
       "      <td>2020-08-01</td>\n",
       "      <td>2020</td>\n",
       "      <td>8</td>\n",
       "      <td>1</td>\n",
       "    </tr>\n",
       "    <tr>\n",
       "      <th>3</th>\n",
       "      <td>20</td>\n",
       "      <td>Kelly</td>\n",
       "      <td>Customer Service</td>\n",
       "      <td>(217)987-6600</td>\n",
       "      <td>160500</td>\n",
       "      <td>2019-12-01</td>\n",
       "      <td>2019</td>\n",
       "      <td>12</td>\n",
       "      <td>1</td>\n",
       "    </tr>\n",
       "  </tbody>\n",
       "</table>\n",
       "</div>"
      ],
      "text/plain": [
       "   emp_id   name              dept   office_phone  salary start_date  \\\n",
       "0      30   Toby                HR  (217)123-4500  202000 2017-05-01   \n",
       "1      40    Jim             Sales            NaN  185000 2018-02-01   \n",
       "2      10    Pam             Sales            NaN  240000 2020-08-01   \n",
       "3      20  Kelly  Customer Service  (217)987-6600  160500 2019-12-01   \n",
       "\n",
       "   start_year  start_month  start_day  \n",
       "0        2017            5          1  \n",
       "1        2018            2          1  \n",
       "2        2020            8          1  \n",
       "3        2019           12          1  "
      ]
     },
     "execution_count": 11,
     "metadata": {},
     "output_type": "execute_result"
    }
   ],
   "source": [
    "df_emp[\"start_year\"] = df_emp[\"start_date\"].dt.year\n",
    "df_emp[\"start_month\"] = df_emp[\"start_date\"].dt.month\n",
    "df_emp[\"start_day\"] = df_emp[\"start_date\"].dt.day\n",
    "\n",
    "df_emp"
   ]
  },
  {
   "cell_type": "markdown",
   "metadata": {},
   "source": [
    "If you're working with quarterly or weekly data, you can extract those components as well.\n",
    "\n",
    "```python\n",
    "df['quarter'] = df['date_column'].dt.quarter          # e.g., 1, 2, 3, 4\n",
    "df['week'] = df['date_column'].dt.isocalendar().week  # e.g., 1-52\n",
    "```\n"
   ]
  },
  {
   "cell_type": "code",
   "execution_count": 15,
   "metadata": {
    "colab": {
     "base_uri": "https://localhost:8080/"
    },
    "id": "S1BNkuoXZP_e",
    "outputId": "25e82539-bf88-49ac-a4a5-5503fcb8a095"
   },
   "outputs": [
    {
     "data": {
      "text/plain": [
       "0    2\n",
       "1    1\n",
       "2    3\n",
       "3    4\n",
       "Name: start_date, dtype: int32"
      ]
     },
     "execution_count": 15,
     "metadata": {},
     "output_type": "execute_result"
    }
   ],
   "source": [
    "df_emp[\"start_date\"].dt.quarter"
   ]
  },
  {
   "cell_type": "code",
   "execution_count": 16,
   "metadata": {},
   "outputs": [
    {
     "data": {
      "text/plain": [
       "0    18\n",
       "1     5\n",
       "2    31\n",
       "3    48\n",
       "Name: week, dtype: UInt32"
      ]
     },
     "execution_count": 16,
     "metadata": {},
     "output_type": "execute_result"
    }
   ],
   "source": [
    "df_emp[\"start_date\"].dt.isocalendar().week"
   ]
  },
  {
   "cell_type": "markdown",
   "metadata": {
    "id": "eaLOr7kzZP_f"
   },
   "source": [
    "---\n",
    "\n",
    "## 🔬 Grouping and Aggregating Data with Pandas\n",
    "\n",
    "A common task in data analysis is to summarize data by certain criteria, such as calculating averages or totals for different groups within the data.\n",
    "\n",
    "In the employees dataset, you might want to find out the average salary by department, or the total number of employees hired each year.\n",
    "\n",
    "Pandas allows you to use the `groupby()` method to group data by one or more columns, and then apply aggregation functions like `mean()`, `sum()`, `count()`, etc. This follows the [_split-apply-combine_](https://pandas.pydata.org/pandas-docs/stable/user_guide/groupby.html) pattern used in many data analysis workflows.\n",
    "\n",
    "The split-apply-combine consists of three steps:\n",
    "\n",
    "1. **Split**: Divide the data into groups based on one or more keys (columns).\n",
    "2. **Apply**: Apply a function (e.g., aggregation, transformation) to each group.\n",
    "3. **Combine**: Combine the results back into a DataFrame.\n"
   ]
  },
  {
   "cell_type": "markdown",
   "metadata": {
    "id": "Wx_F1m0jZP_f"
   },
   "source": [
    "---\n",
    "\n",
    "To illustrate the split-apply-combine process, we will create a new `DataFrame`.\n",
    "\n",
    "▶️ Create a new `DataFrame` named `df`.\n"
   ]
  },
  {
   "cell_type": "code",
   "execution_count": 17,
   "metadata": {
    "colab": {
     "base_uri": "https://localhost:8080/",
     "height": 0
    },
    "id": "aegh3ITuZP_f",
    "outputId": "4ba0efec-a481-4aeb-e19b-b0005032390e"
   },
   "outputs": [
    {
     "data": {
      "text/html": [
       "<div>\n",
       "<style scoped>\n",
       "    .dataframe tbody tr th:only-of-type {\n",
       "        vertical-align: middle;\n",
       "    }\n",
       "\n",
       "    .dataframe tbody tr th {\n",
       "        vertical-align: top;\n",
       "    }\n",
       "\n",
       "    .dataframe thead th {\n",
       "        text-align: right;\n",
       "    }\n",
       "</style>\n",
       "<table border=\"1\" class=\"dataframe\">\n",
       "  <thead>\n",
       "    <tr style=\"text-align: right;\">\n",
       "      <th></th>\n",
       "      <th>name</th>\n",
       "      <th>dept</th>\n",
       "      <th>salary</th>\n",
       "    </tr>\n",
       "  </thead>\n",
       "  <tbody>\n",
       "    <tr>\n",
       "      <th>0</th>\n",
       "      <td>Mary</td>\n",
       "      <td>Finance</td>\n",
       "      <td>240000</td>\n",
       "    </tr>\n",
       "    <tr>\n",
       "      <th>1</th>\n",
       "      <td>Roy</td>\n",
       "      <td>Purchase</td>\n",
       "      <td>160000</td>\n",
       "    </tr>\n",
       "    <tr>\n",
       "      <th>2</th>\n",
       "      <td>John</td>\n",
       "      <td>Finance</td>\n",
       "      <td>250000</td>\n",
       "    </tr>\n",
       "    <tr>\n",
       "      <th>3</th>\n",
       "      <td>Joe</td>\n",
       "      <td>Purchase</td>\n",
       "      <td>170000</td>\n",
       "    </tr>\n",
       "    <tr>\n",
       "      <th>4</th>\n",
       "      <td>Paul</td>\n",
       "      <td>Finance</td>\n",
       "      <td>260000</td>\n",
       "    </tr>\n",
       "    <tr>\n",
       "      <th>5</th>\n",
       "      <td>Erin</td>\n",
       "      <td>Purchase</td>\n",
       "      <td>180000</td>\n",
       "    </tr>\n",
       "  </tbody>\n",
       "</table>\n",
       "</div>"
      ],
      "text/plain": [
       "   name      dept  salary\n",
       "0  Mary   Finance  240000\n",
       "1   Roy  Purchase  160000\n",
       "2  John   Finance  250000\n",
       "3   Joe  Purchase  170000\n",
       "4  Paul   Finance  260000\n",
       "5  Erin  Purchase  180000"
      ]
     },
     "execution_count": 17,
     "metadata": {},
     "output_type": "execute_result"
    }
   ],
   "source": [
    "df = pd.DataFrame(\n",
    "    {\n",
    "        \"name\": [\"Mary\", \"Roy\", \"John\", \"Joe\", \"Paul\", \"Erin\"],\n",
    "        \"dept\": [\"Finance\", \"Purchase\", \"Finance\", \"Purchase\", \"Finance\", \"Purchase\"],\n",
    "        \"salary\": [240000, 160000, 250000, 170000, 260000, 180000],\n",
    "    }\n",
    ")\n",
    "\n",
    "df"
   ]
  },
  {
   "cell_type": "markdown",
   "metadata": {
    "id": "pZXeajctZP_f"
   },
   "source": [
    "---\n",
    "\n",
    "▶️ Run `df.groupby('dept')`.\n",
    "\n",
    "This creates a `DataFrameGroupBy` object, which represents the grouped data but does not perform any computations yet.\n"
   ]
  },
  {
   "cell_type": "code",
   "execution_count": 18,
   "metadata": {
    "colab": {
     "base_uri": "https://localhost:8080/"
    },
    "id": "2jnNv2bKZP_g",
    "outputId": "fb94d4d6-5751-4913-f1cd-d72e7f68ab67"
   },
   "outputs": [
    {
     "data": {
      "text/plain": [
       "<pandas.core.groupby.generic.DataFrameGroupBy object at 0x0000020205FD1B80>"
      ]
     },
     "execution_count": 18,
     "metadata": {},
     "output_type": "execute_result"
    }
   ],
   "source": [
    "df.groupby(\"dept\")"
   ]
  },
  {
   "cell_type": "markdown",
   "metadata": {
    "id": "sA382AveZP_g"
   },
   "source": [
    ":::{tip} What just happened?\n",
    "\n",
    "- Internally, Pandas creates one group per department when you run `.groupby('dept')`.\n",
    "- However, you won't be able to see the groups until we apply aggregation function(s) to each group.\n",
    "- The strange-looking output (in the form of `<pandas.core.groupby.generic.DataFrameGroupBy object at 0x0000012345678910>`) tells us that the result is a `DataFrameGroupBy` object.\n",
    "  :::\n",
    "\n",
    "This diagram illustrates the `DataFrameGroupBy` object created by `df.groupby('dept')`.\n",
    "\n",
    "![groupby object](https://github.com/bdi475/images/blob/main/pandas/df-groupby-object-01.png?raw=true)\n"
   ]
  },
  {
   "cell_type": "markdown",
   "metadata": {
    "id": "zoy1sS_TZP_g"
   },
   "source": [
    "---\n",
    "\n",
    "### 📌 Aggregating a `DataFrameGroupBy` object\n",
    "\n",
    "▶️ Run `df.groupby('dept').agg({'salary': 'mean'})` below.\n"
   ]
  },
  {
   "cell_type": "code",
   "execution_count": null,
   "metadata": {
    "colab": {
     "base_uri": "https://localhost:8080/",
     "height": 0
    },
    "id": "_vwXFa0eZP_g",
    "outputId": "deab5191-992d-4c9f-8f8f-a8d3627589d5"
   },
   "outputs": [
    {
     "data": {
      "text/html": [
       "<div>\n",
       "<style scoped>\n",
       "    .dataframe tbody tr th:only-of-type {\n",
       "        vertical-align: middle;\n",
       "    }\n",
       "\n",
       "    .dataframe tbody tr th {\n",
       "        vertical-align: top;\n",
       "    }\n",
       "\n",
       "    .dataframe thead th {\n",
       "        text-align: right;\n",
       "    }\n",
       "</style>\n",
       "<table border=\"1\" class=\"dataframe\">\n",
       "  <thead>\n",
       "    <tr style=\"text-align: right;\">\n",
       "      <th></th>\n",
       "      <th>salary</th>\n",
       "    </tr>\n",
       "    <tr>\n",
       "      <th>dept</th>\n",
       "      <th></th>\n",
       "    </tr>\n",
       "  </thead>\n",
       "  <tbody>\n",
       "    <tr>\n",
       "      <th>Finance</th>\n",
       "      <td>250000.0</td>\n",
       "    </tr>\n",
       "    <tr>\n",
       "      <th>Purchase</th>\n",
       "      <td>170000.0</td>\n",
       "    </tr>\n",
       "  </tbody>\n",
       "</table>\n",
       "</div>"
      ],
      "text/plain": [
       "            salary\n",
       "dept              \n",
       "Finance   250000.0\n",
       "Purchase  170000.0"
      ]
     },
     "execution_count": 35,
     "metadata": {},
     "output_type": "execute_result"
    }
   ],
   "source": [
    "### BEGIN SOLUTION\n",
    "df.groupby(\"dept\").agg({\"salary\": \"mean\"})\n",
    "### END SOLUTION"
   ]
  },
  {
   "cell_type": "markdown",
   "metadata": {
    "id": "oSqzzMznZP_g"
   },
   "source": [
    "👉 Your resulting `DataFrame` now displays average salary by `dept`.\n",
    "\n",
    "#### Columns used as \"pivots\"\n",
    "\n",
    "```python\n",
    "df_salary_by_dept = df.groupby('dept').agg({'salary': 'mean'})\n",
    "\n",
    "display(df_salary_by_dept)\n",
    "print(df_salary_by_dept.columns)\n",
    "```\n",
    "\n",
    "▶️ Copy the provided code above to the code cell below and run it.\n"
   ]
  },
  {
   "cell_type": "code",
   "execution_count": null,
   "metadata": {
    "colab": {
     "base_uri": "https://localhost:8080/",
     "height": 0
    },
    "id": "73WSumuaZP_g",
    "outputId": "2543c4a7-2a82-4102-e1b2-d846e70e26b0"
   },
   "outputs": [
    {
     "data": {
      "text/html": [
       "<div>\n",
       "<style scoped>\n",
       "    .dataframe tbody tr th:only-of-type {\n",
       "        vertical-align: middle;\n",
       "    }\n",
       "\n",
       "    .dataframe tbody tr th {\n",
       "        vertical-align: top;\n",
       "    }\n",
       "\n",
       "    .dataframe thead th {\n",
       "        text-align: right;\n",
       "    }\n",
       "</style>\n",
       "<table border=\"1\" class=\"dataframe\">\n",
       "  <thead>\n",
       "    <tr style=\"text-align: right;\">\n",
       "      <th></th>\n",
       "      <th>salary</th>\n",
       "    </tr>\n",
       "    <tr>\n",
       "      <th>dept</th>\n",
       "      <th></th>\n",
       "    </tr>\n",
       "  </thead>\n",
       "  <tbody>\n",
       "    <tr>\n",
       "      <th>Finance</th>\n",
       "      <td>250000.0</td>\n",
       "    </tr>\n",
       "    <tr>\n",
       "      <th>Purchase</th>\n",
       "      <td>170000.0</td>\n",
       "    </tr>\n",
       "  </tbody>\n",
       "</table>\n",
       "</div>"
      ],
      "text/plain": [
       "            salary\n",
       "dept              \n",
       "Finance   250000.0\n",
       "Purchase  170000.0"
      ]
     },
     "metadata": {},
     "output_type": "display_data"
    },
    {
     "name": "stdout",
     "output_type": "stream",
     "text": [
      "Index(['salary'], dtype='object')\n"
     ]
    }
   ],
   "source": [
    "### BEGIN SOLUTION\n",
    "df_salary_by_dept = df.groupby(\"dept\").agg({\"salary\": \"mean\"})\n",
    "\n",
    "display(df_salary_by_dept)\n",
    "print(df_salary_by_dept.columns)\n",
    "### END SOLUTION"
   ]
  },
  {
   "cell_type": "markdown",
   "metadata": {
    "id": "rkWW_vFQZP_g"
   },
   "source": [
    "👉 There is only one column shown when you print out `df_salary_by_dept.columns`! 🙀\n",
    "\n",
    "This is because the column(s) you use to create groups are used as **index** by default.\n",
    "\n",
    "![groupby agg result](https://github.com/bdi475/images/blob/main/pandas/df-groupby-agg-as-index-true-01.png?raw=true)\n"
   ]
  },
  {
   "cell_type": "markdown",
   "metadata": {
    "id": "nqVBCHgSZP_h"
   },
   "source": [
    "---\n",
    "\n",
    "### 📌 Aggregating a `DataFrameGroupBy` object with optional `index=False`\n",
    "\n",
    "```python\n",
    "df_salary_by_dept2 = df.groupby('dept', as_index=False).agg({'salary': 'mean'})\n",
    "\n",
    "display(df_salary_by_dept2)\n",
    "print(df_salary_by_dept2.columns)\n",
    "```\n",
    "\n",
    "▶️ Copy the provided code to the code cell below and run it.\n"
   ]
  },
  {
   "cell_type": "code",
   "execution_count": null,
   "metadata": {
    "colab": {
     "base_uri": "https://localhost:8080/",
     "height": 0
    },
    "id": "jZxf3MalZP_h",
    "outputId": "dd5409ba-46cb-4206-b4ed-dfab0f7e2560"
   },
   "outputs": [
    {
     "data": {
      "text/html": [
       "<div>\n",
       "<style scoped>\n",
       "    .dataframe tbody tr th:only-of-type {\n",
       "        vertical-align: middle;\n",
       "    }\n",
       "\n",
       "    .dataframe tbody tr th {\n",
       "        vertical-align: top;\n",
       "    }\n",
       "\n",
       "    .dataframe thead th {\n",
       "        text-align: right;\n",
       "    }\n",
       "</style>\n",
       "<table border=\"1\" class=\"dataframe\">\n",
       "  <thead>\n",
       "    <tr style=\"text-align: right;\">\n",
       "      <th></th>\n",
       "      <th>dept</th>\n",
       "      <th>salary</th>\n",
       "    </tr>\n",
       "  </thead>\n",
       "  <tbody>\n",
       "    <tr>\n",
       "      <th>0</th>\n",
       "      <td>Finance</td>\n",
       "      <td>250000.0</td>\n",
       "    </tr>\n",
       "    <tr>\n",
       "      <th>1</th>\n",
       "      <td>Purchase</td>\n",
       "      <td>170000.0</td>\n",
       "    </tr>\n",
       "  </tbody>\n",
       "</table>\n",
       "</div>"
      ],
      "text/plain": [
       "       dept    salary\n",
       "0   Finance  250000.0\n",
       "1  Purchase  170000.0"
      ]
     },
     "metadata": {},
     "output_type": "display_data"
    },
    {
     "name": "stdout",
     "output_type": "stream",
     "text": [
      "Index(['dept', 'salary'], dtype='object')\n"
     ]
    }
   ],
   "source": [
    "### BEGIN SOLUTION\n",
    "df_salary_by_dept2 = df.groupby(\"dept\", as_index=False).agg({\"salary\": \"mean\"})\n",
    "\n",
    "display(df_salary_by_dept2)\n",
    "print(df_salary_by_dept2.columns)\n",
    "### END SOLUTION"
   ]
  },
  {
   "cell_type": "markdown",
   "metadata": {
    "id": "vS8RuwH-ZP_h"
   },
   "source": [
    "👉 Now, printing out the columns show both `dept` and `salary`. Supplying `as_index=False` to `groupby()` keeps the columns you use as the \"pivot\" as regular columns.\n",
    "\n",
    "![groupby agg result](https://github.com/bdi475/images/blob/main/pandas/df-groupby-agg-as-index-false-01.png?raw=true)\n"
   ]
  },
  {
   "cell_type": "markdown",
   "metadata": {
    "id": "J-TV3mS5ZP_h"
   },
   "source": [
    "---\n",
    "\n",
    "### 📌 Creating multiple aggregation measures\n",
    "\n",
    "```python\n",
    "df_salary_by_dept3 = df.groupby('dept', as_index=False).agg({'salary': ['min', 'max', 'mean', 'sum', 'count', 'std']})\n",
    "\n",
    "display(df_salary_by_dept3)\n",
    "print(df_salary_by_dept3.columns)\n",
    "```\n",
    "\n",
    "▶️ Copy the provided code to the code cell below and run it.\n"
   ]
  },
  {
   "cell_type": "code",
   "execution_count": null,
   "metadata": {
    "colab": {
     "base_uri": "https://localhost:8080/",
     "height": 0
    },
    "id": "DXXyIe86ZP_h",
    "outputId": "cb6229b4-accc-4ea0-b554-52e6ff3c24ac"
   },
   "outputs": [
    {
     "data": {
      "text/html": [
       "<div>\n",
       "<style scoped>\n",
       "    .dataframe tbody tr th:only-of-type {\n",
       "        vertical-align: middle;\n",
       "    }\n",
       "\n",
       "    .dataframe tbody tr th {\n",
       "        vertical-align: top;\n",
       "    }\n",
       "\n",
       "    .dataframe thead tr th {\n",
       "        text-align: left;\n",
       "    }\n",
       "</style>\n",
       "<table border=\"1\" class=\"dataframe\">\n",
       "  <thead>\n",
       "    <tr>\n",
       "      <th></th>\n",
       "      <th>dept</th>\n",
       "      <th colspan=\"6\" halign=\"left\">salary</th>\n",
       "    </tr>\n",
       "    <tr>\n",
       "      <th></th>\n",
       "      <th></th>\n",
       "      <th>min</th>\n",
       "      <th>max</th>\n",
       "      <th>mean</th>\n",
       "      <th>sum</th>\n",
       "      <th>count</th>\n",
       "      <th>std</th>\n",
       "    </tr>\n",
       "  </thead>\n",
       "  <tbody>\n",
       "    <tr>\n",
       "      <th>0</th>\n",
       "      <td>Finance</td>\n",
       "      <td>240000</td>\n",
       "      <td>260000</td>\n",
       "      <td>250000.0</td>\n",
       "      <td>750000</td>\n",
       "      <td>3</td>\n",
       "      <td>10000.0</td>\n",
       "    </tr>\n",
       "    <tr>\n",
       "      <th>1</th>\n",
       "      <td>Purchase</td>\n",
       "      <td>160000</td>\n",
       "      <td>180000</td>\n",
       "      <td>170000.0</td>\n",
       "      <td>510000</td>\n",
       "      <td>3</td>\n",
       "      <td>10000.0</td>\n",
       "    </tr>\n",
       "  </tbody>\n",
       "</table>\n",
       "</div>"
      ],
      "text/plain": [
       "       dept  salary                                         \n",
       "                min     max      mean     sum count      std\n",
       "0   Finance  240000  260000  250000.0  750000     3  10000.0\n",
       "1  Purchase  160000  180000  170000.0  510000     3  10000.0"
      ]
     },
     "metadata": {},
     "output_type": "display_data"
    },
    {
     "name": "stdout",
     "output_type": "stream",
     "text": [
      "MultiIndex([(  'dept',      ''),\n",
      "            ('salary',   'min'),\n",
      "            ('salary',   'max'),\n",
      "            ('salary',  'mean'),\n",
      "            ('salary',   'sum'),\n",
      "            ('salary', 'count'),\n",
      "            ('salary',   'std')],\n",
      "           )\n"
     ]
    }
   ],
   "source": [
    "### BEGIN SOLUTION\n",
    "df_salary_by_dept3 = df.groupby(\"dept\", as_index=False).agg(\n",
    "    {\"salary\": [\"min\", \"max\", \"mean\", \"sum\", \"count\", \"std\"]}\n",
    ")\n",
    "\n",
    "display(df_salary_by_dept3)\n",
    "print(df_salary_by_dept3.columns)\n",
    "### END SOLUTION"
   ]
  },
  {
   "cell_type": "markdown",
   "metadata": {
    "id": "9guV__JjZP_h"
   },
   "source": [
    "---\n",
    "\n",
    "### 📌 Flattening multi-level index columns\n",
    "\n",
    "When you apply two or more aggregation functions to a column, your DataFrame creates a hierarchically structured columns. It is often easier to work with a DataFrame if you have a flat-level columns. You can manually assign the column names after `.agg()` in these cases to _flatten_ the columns.\n",
    "\n",
    "```python\n",
    "df_salary_by_dept4 = df.groupby('dept', as_index=False).agg({'salary': ['min', 'max', 'mean', 'sum', 'count', 'std']})\n",
    "\n",
    "display(df_salary_by_dept4)\n",
    "print('Columns before (multi-level, not flat):')\n",
    "print(df_salary_by_dept4.columns)\n",
    "\n",
    "# manually assign column names\n",
    "df_salary_by_dept4.columns = ['dept', 'min_salary', 'max_salary', 'mean_salary', 'total_salary', 'num_employees', 'std_dev']\n",
    "\n",
    "display(df_salary_by_dept4)\n",
    "print('Columns after (flat-level):')\n",
    "print(df_salary_by_dept4.columns)\n",
    "```\n",
    "\n",
    "▶️ Copy the provided code to the code cell below and run it.\n"
   ]
  },
  {
   "cell_type": "code",
   "execution_count": null,
   "metadata": {
    "colab": {
     "base_uri": "https://localhost:8080/",
     "height": 0
    },
    "id": "gOM4qc7cZP_i",
    "outputId": "4c61fdec-60e6-49ac-b762-419fa8e2f3ba"
   },
   "outputs": [
    {
     "data": {
      "text/html": [
       "<div>\n",
       "<style scoped>\n",
       "    .dataframe tbody tr th:only-of-type {\n",
       "        vertical-align: middle;\n",
       "    }\n",
       "\n",
       "    .dataframe tbody tr th {\n",
       "        vertical-align: top;\n",
       "    }\n",
       "\n",
       "    .dataframe thead tr th {\n",
       "        text-align: left;\n",
       "    }\n",
       "</style>\n",
       "<table border=\"1\" class=\"dataframe\">\n",
       "  <thead>\n",
       "    <tr>\n",
       "      <th></th>\n",
       "      <th>dept</th>\n",
       "      <th colspan=\"6\" halign=\"left\">salary</th>\n",
       "    </tr>\n",
       "    <tr>\n",
       "      <th></th>\n",
       "      <th></th>\n",
       "      <th>min</th>\n",
       "      <th>max</th>\n",
       "      <th>mean</th>\n",
       "      <th>sum</th>\n",
       "      <th>count</th>\n",
       "      <th>std</th>\n",
       "    </tr>\n",
       "  </thead>\n",
       "  <tbody>\n",
       "    <tr>\n",
       "      <th>0</th>\n",
       "      <td>Finance</td>\n",
       "      <td>240000</td>\n",
       "      <td>260000</td>\n",
       "      <td>250000.0</td>\n",
       "      <td>750000</td>\n",
       "      <td>3</td>\n",
       "      <td>10000.0</td>\n",
       "    </tr>\n",
       "    <tr>\n",
       "      <th>1</th>\n",
       "      <td>Purchase</td>\n",
       "      <td>160000</td>\n",
       "      <td>180000</td>\n",
       "      <td>170000.0</td>\n",
       "      <td>510000</td>\n",
       "      <td>3</td>\n",
       "      <td>10000.0</td>\n",
       "    </tr>\n",
       "  </tbody>\n",
       "</table>\n",
       "</div>"
      ],
      "text/plain": [
       "       dept  salary                                         \n",
       "                min     max      mean     sum count      std\n",
       "0   Finance  240000  260000  250000.0  750000     3  10000.0\n",
       "1  Purchase  160000  180000  170000.0  510000     3  10000.0"
      ]
     },
     "metadata": {},
     "output_type": "display_data"
    },
    {
     "name": "stdout",
     "output_type": "stream",
     "text": [
      "Columns before (multi-level, not flat):\n",
      "MultiIndex([(  'dept',      ''),\n",
      "            ('salary',   'min'),\n",
      "            ('salary',   'max'),\n",
      "            ('salary',  'mean'),\n",
      "            ('salary',   'sum'),\n",
      "            ('salary', 'count'),\n",
      "            ('salary',   'std')],\n",
      "           )\n"
     ]
    },
    {
     "data": {
      "text/html": [
       "<div>\n",
       "<style scoped>\n",
       "    .dataframe tbody tr th:only-of-type {\n",
       "        vertical-align: middle;\n",
       "    }\n",
       "\n",
       "    .dataframe tbody tr th {\n",
       "        vertical-align: top;\n",
       "    }\n",
       "\n",
       "    .dataframe thead th {\n",
       "        text-align: right;\n",
       "    }\n",
       "</style>\n",
       "<table border=\"1\" class=\"dataframe\">\n",
       "  <thead>\n",
       "    <tr style=\"text-align: right;\">\n",
       "      <th></th>\n",
       "      <th>dept</th>\n",
       "      <th>min_salary</th>\n",
       "      <th>max_salary</th>\n",
       "      <th>mean_salary</th>\n",
       "      <th>total_salary</th>\n",
       "      <th>num_employees</th>\n",
       "      <th>std_dev</th>\n",
       "    </tr>\n",
       "  </thead>\n",
       "  <tbody>\n",
       "    <tr>\n",
       "      <th>0</th>\n",
       "      <td>Finance</td>\n",
       "      <td>240000</td>\n",
       "      <td>260000</td>\n",
       "      <td>250000.0</td>\n",
       "      <td>750000</td>\n",
       "      <td>3</td>\n",
       "      <td>10000.0</td>\n",
       "    </tr>\n",
       "    <tr>\n",
       "      <th>1</th>\n",
       "      <td>Purchase</td>\n",
       "      <td>160000</td>\n",
       "      <td>180000</td>\n",
       "      <td>170000.0</td>\n",
       "      <td>510000</td>\n",
       "      <td>3</td>\n",
       "      <td>10000.0</td>\n",
       "    </tr>\n",
       "  </tbody>\n",
       "</table>\n",
       "</div>"
      ],
      "text/plain": [
       "       dept  min_salary  max_salary  mean_salary  total_salary  num_employees  \\\n",
       "0   Finance      240000      260000     250000.0        750000              3   \n",
       "1  Purchase      160000      180000     170000.0        510000              3   \n",
       "\n",
       "   std_dev  \n",
       "0  10000.0  \n",
       "1  10000.0  "
      ]
     },
     "metadata": {},
     "output_type": "display_data"
    },
    {
     "name": "stdout",
     "output_type": "stream",
     "text": [
      "Columns after (flat-level):\n",
      "Index(['dept', 'min_salary', 'max_salary', 'mean_salary', 'total_salary',\n",
      "       'num_employees', 'std_dev'],\n",
      "      dtype='object')\n"
     ]
    }
   ],
   "source": [
    "# YOUR CODE BEGINS\n",
    "df_salary_by_dept4 = df.groupby(\"dept\", as_index=False).agg(\n",
    "    {\"salary\": [\"min\", \"max\", \"mean\", \"sum\", \"count\", \"std\"]}\n",
    ")\n",
    "\n",
    "display(df_salary_by_dept4)\n",
    "print(\"Columns before (multi-level, not flat):\")\n",
    "print(df_salary_by_dept4.columns)\n",
    "\n",
    "# manually assign column names\n",
    "df_salary_by_dept4.columns = [\n",
    "    \"dept\",\n",
    "    \"min_salary\",\n",
    "    \"max_salary\",\n",
    "    \"mean_salary\",\n",
    "    \"total_salary\",\n",
    "    \"num_employees\",\n",
    "    \"std_dev\",\n",
    "]\n",
    "\n",
    "display(df_salary_by_dept4)\n",
    "print(\"Columns after (flat-level):\")\n",
    "print(df_salary_by_dept4.columns)\n",
    "# YOUR CODE ENDS"
   ]
  },
  {
   "cell_type": "markdown",
   "metadata": {
    "id": "RocPAn8fZP_i"
   },
   "source": [
    "---\n",
    "\n",
    "## 📞 Exercises Using Bank Marketing Calls Data\n",
    "\n",
    "For the next part of this lecture, you'll work with a dataset related with direct marketing campaigns (phone calls) of a banking institution. \n",
    "\n",
    "**Data Source**: [Moro et al., 2014] S. Moro, P. Cortez and P. Rita. A Data-Driven Approach to Predict the Success of Bank Telemarketing. Decision Support Systems, Elsevier, 62:22-31, June 2014\n",
    "\n",
    "| Column Name     | Type        | Description                                                                                                                                                     |\n",
    "|-----------------|-------------|-----------------------------------------------------------------------------------------------------------------------------------------------------------------|\n",
    "| `age`           | Numeric     | Age                                                                                                                                                             |\n",
    "| `job`           | Categorical | admin.', 'blue-collar',   'entrepreneur', 'housemaid', 'management', 'retired', 'self-employed',   'services', 'student', 'technician', 'unemployed', 'unknown' |\n",
    "| `marital`       | Categorical | single', 'married', 'divorced', 'unknown'                                                                                                                       |\n",
    "| `education`     | Categorical | basic.4y', 'basic.6y', 'basic.9y', 'high.school', 'illiterate',   'professional.course', 'university.degree', 'unknown'                                         |\n",
    "| `contact_type`  | Categorical | cellular', 'telephone'                                                                                                                                          |\n",
    "| `num_contacts`  | Numeric     | Number of contacts performed during this campaign for this client                                                                                               |\n",
    "| `prev_outcome`  | Categorical | Outcome of the previous marketing campaign - 'failure', 'nonexistent',   'success'                                                                              |\n",
    "| `place_deposit` | Numeric     | Did the client subscribe to a term deposit? This column indicates whether the campaign was successful (1) or not (0) for each client.                                        |\n",
    "\n",
    "---\n",
    "\n",
    "Your goal is to analyze the dataset to discover relationships between personal factors and marketing campaign result of each individual.\n",
    "\n",
    "**`place_deposit`** column indicates whether a marketing campaign was successful.\n",
    "z\n",
    "\n",
    "- ✅ If `1`, the individual has placed a deposit within the bank. This is considered a **successful campaign**.\n",
    "- 🚫 If `0`, the individual has not placed a deposit within the bank. This is considered an **unsuccessful campaign**.\n"
   ]
  },
  {
   "cell_type": "markdown",
   "metadata": {
    "id": "xgCY4cSsZP_i"
   },
   "source": [
    "---\n",
    "\n",
    "### 📌 Load data\n"
   ]
  },
  {
   "cell_type": "markdown",
   "metadata": {
    "id": "YTOzzTqSZP_i"
   },
   "source": [
    "▶️ Run the code cell below to create a new `DataFrame` named `df_m`.\n"
   ]
  },
  {
   "cell_type": "code",
   "execution_count": null,
   "metadata": {
    "colab": {
     "base_uri": "https://localhost:8080/",
     "height": 0
    },
    "id": "PFD6O4lWZP_i",
    "outputId": "e1a25185-74d2-4c22-a074-7c5ebbb85634"
   },
   "outputs": [
    {
     "data": {
      "text/html": [
       "<div>\n",
       "<style scoped>\n",
       "    .dataframe tbody tr th:only-of-type {\n",
       "        vertical-align: middle;\n",
       "    }\n",
       "\n",
       "    .dataframe tbody tr th {\n",
       "        vertical-align: top;\n",
       "    }\n",
       "\n",
       "    .dataframe thead th {\n",
       "        text-align: right;\n",
       "    }\n",
       "</style>\n",
       "<table border=\"1\" class=\"dataframe\">\n",
       "  <thead>\n",
       "    <tr style=\"text-align: right;\">\n",
       "      <th></th>\n",
       "      <th>age</th>\n",
       "      <th>job</th>\n",
       "      <th>marital</th>\n",
       "      <th>education</th>\n",
       "      <th>contact_type</th>\n",
       "      <th>num_contacts</th>\n",
       "      <th>prev_outcome</th>\n",
       "      <th>place_deposit</th>\n",
       "    </tr>\n",
       "  </thead>\n",
       "  <tbody>\n",
       "    <tr>\n",
       "      <th>0</th>\n",
       "      <td>56</td>\n",
       "      <td>housemaid</td>\n",
       "      <td>married</td>\n",
       "      <td>basic.4y</td>\n",
       "      <td>telephone</td>\n",
       "      <td>1</td>\n",
       "      <td>nonexistent</td>\n",
       "      <td>False</td>\n",
       "    </tr>\n",
       "    <tr>\n",
       "      <th>1</th>\n",
       "      <td>57</td>\n",
       "      <td>services</td>\n",
       "      <td>married</td>\n",
       "      <td>high.school</td>\n",
       "      <td>telephone</td>\n",
       "      <td>1</td>\n",
       "      <td>nonexistent</td>\n",
       "      <td>False</td>\n",
       "    </tr>\n",
       "    <tr>\n",
       "      <th>2</th>\n",
       "      <td>37</td>\n",
       "      <td>services</td>\n",
       "      <td>married</td>\n",
       "      <td>high.school</td>\n",
       "      <td>telephone</td>\n",
       "      <td>1</td>\n",
       "      <td>nonexistent</td>\n",
       "      <td>False</td>\n",
       "    </tr>\n",
       "    <tr>\n",
       "      <th>3</th>\n",
       "      <td>40</td>\n",
       "      <td>admin.</td>\n",
       "      <td>married</td>\n",
       "      <td>basic.6y</td>\n",
       "      <td>telephone</td>\n",
       "      <td>1</td>\n",
       "      <td>nonexistent</td>\n",
       "      <td>False</td>\n",
       "    </tr>\n",
       "    <tr>\n",
       "      <th>4</th>\n",
       "      <td>56</td>\n",
       "      <td>services</td>\n",
       "      <td>married</td>\n",
       "      <td>high.school</td>\n",
       "      <td>telephone</td>\n",
       "      <td>1</td>\n",
       "      <td>nonexistent</td>\n",
       "      <td>False</td>\n",
       "    </tr>\n",
       "    <tr>\n",
       "      <th>...</th>\n",
       "      <td>...</td>\n",
       "      <td>...</td>\n",
       "      <td>...</td>\n",
       "      <td>...</td>\n",
       "      <td>...</td>\n",
       "      <td>...</td>\n",
       "      <td>...</td>\n",
       "      <td>...</td>\n",
       "    </tr>\n",
       "    <tr>\n",
       "      <th>41183</th>\n",
       "      <td>73</td>\n",
       "      <td>retired</td>\n",
       "      <td>married</td>\n",
       "      <td>professional.course</td>\n",
       "      <td>cellular</td>\n",
       "      <td>1</td>\n",
       "      <td>nonexistent</td>\n",
       "      <td>True</td>\n",
       "    </tr>\n",
       "    <tr>\n",
       "      <th>41184</th>\n",
       "      <td>46</td>\n",
       "      <td>blue-collar</td>\n",
       "      <td>married</td>\n",
       "      <td>professional.course</td>\n",
       "      <td>cellular</td>\n",
       "      <td>1</td>\n",
       "      <td>nonexistent</td>\n",
       "      <td>False</td>\n",
       "    </tr>\n",
       "    <tr>\n",
       "      <th>41185</th>\n",
       "      <td>56</td>\n",
       "      <td>retired</td>\n",
       "      <td>married</td>\n",
       "      <td>university.degree</td>\n",
       "      <td>cellular</td>\n",
       "      <td>2</td>\n",
       "      <td>nonexistent</td>\n",
       "      <td>False</td>\n",
       "    </tr>\n",
       "    <tr>\n",
       "      <th>41186</th>\n",
       "      <td>44</td>\n",
       "      <td>technician</td>\n",
       "      <td>married</td>\n",
       "      <td>professional.course</td>\n",
       "      <td>cellular</td>\n",
       "      <td>1</td>\n",
       "      <td>nonexistent</td>\n",
       "      <td>True</td>\n",
       "    </tr>\n",
       "    <tr>\n",
       "      <th>41187</th>\n",
       "      <td>74</td>\n",
       "      <td>retired</td>\n",
       "      <td>married</td>\n",
       "      <td>professional.course</td>\n",
       "      <td>cellular</td>\n",
       "      <td>3</td>\n",
       "      <td>failure</td>\n",
       "      <td>False</td>\n",
       "    </tr>\n",
       "  </tbody>\n",
       "</table>\n",
       "<p>41188 rows × 8 columns</p>\n",
       "</div>"
      ],
      "text/plain": [
       "       age          job  marital            education contact_type  \\\n",
       "0       56    housemaid  married             basic.4y    telephone   \n",
       "1       57     services  married          high.school    telephone   \n",
       "2       37     services  married          high.school    telephone   \n",
       "3       40       admin.  married             basic.6y    telephone   \n",
       "4       56     services  married          high.school    telephone   \n",
       "...    ...          ...      ...                  ...          ...   \n",
       "41183   73      retired  married  professional.course     cellular   \n",
       "41184   46  blue-collar  married  professional.course     cellular   \n",
       "41185   56      retired  married    university.degree     cellular   \n",
       "41186   44   technician  married  professional.course     cellular   \n",
       "41187   74      retired  married  professional.course     cellular   \n",
       "\n",
       "       num_contacts prev_outcome  place_deposit  \n",
       "0                 1  nonexistent          False  \n",
       "1                 1  nonexistent          False  \n",
       "2                 1  nonexistent          False  \n",
       "3                 1  nonexistent          False  \n",
       "4                 1  nonexistent          False  \n",
       "...             ...          ...            ...  \n",
       "41183             1  nonexistent           True  \n",
       "41184             1  nonexistent          False  \n",
       "41185             2  nonexistent          False  \n",
       "41186             1  nonexistent           True  \n",
       "41187             3      failure          False  \n",
       "\n",
       "[41188 rows x 8 columns]"
      ]
     },
     "execution_count": 40,
     "metadata": {},
     "output_type": "execute_result"
    }
   ],
   "source": [
    "df_m = pd.read_csv(\n",
    "    \"https://github.com/bdi475/datasets/blob/main/bank-direct-marketing.csv?raw=true\"\n",
    ")\n",
    "df_m_backup = df_m.copy()\n",
    "df_m"
   ]
  },
  {
   "cell_type": "markdown",
   "metadata": {
    "id": "mcbi75E0ZP_i"
   },
   "source": [
    "---\n",
    "\n",
    "### 🎯 Challenge 11: Marketing success rate by marital status\n",
    "\n",
    "#### 👇 Tasks\n",
    "\n",
    "- ✔️ Using `df_m`, create an aggregated table named `df_by_marital` that lists the success rate (average of the `place_deposit` column) by marital status.\n",
    "- ✔️ Use the `as_index=False` option.\n",
    "- ✔️ The aggregated DataFrame should have two columns - \"marital\" and \"success_rate\".\n",
    "- ✔️ `df_by_marital` should only have the following two columns in the same order.\n",
    "  - `marital`: Marital status (e.g., single, divorced, married, unknown)\n",
    "  - `success_rate`: Average success rate (between 0-1)\n",
    "- ✔️ Both columns should not be used as an index column.\n",
    "  - Printing `df_by_marital.columns.to_list()` should print out `['marital', 'success_rate']`.\n",
    "- ✔️ Sort `df_by_marital` by `success_rate` in descending order _in-place_.\n",
    "\n",
    "#### 🔑 Expected Output\n",
    "\n",
    "|     | marital  | success_rate |\n",
    "| --: | :------- | -----------: |\n",
    "|   3 | unknown  |         0.15 |\n",
    "|   2 | single   |     0.140041 |\n",
    "|   0 | divorced |     0.103209 |\n",
    "|   1 | married  |     0.101573 |\n"
   ]
  },
  {
   "cell_type": "code",
   "execution_count": null,
   "metadata": {
    "colab": {
     "base_uri": "https://localhost:8080/",
     "height": 0
    },
    "id": "LwInwVdVZP_j",
    "outputId": "d0fb67dd-65e9-47c1-fa30-054e3f45fef3"
   },
   "outputs": [
    {
     "data": {
      "text/html": [
       "<div>\n",
       "<style scoped>\n",
       "    .dataframe tbody tr th:only-of-type {\n",
       "        vertical-align: middle;\n",
       "    }\n",
       "\n",
       "    .dataframe tbody tr th {\n",
       "        vertical-align: top;\n",
       "    }\n",
       "\n",
       "    .dataframe thead th {\n",
       "        text-align: right;\n",
       "    }\n",
       "</style>\n",
       "<table border=\"1\" class=\"dataframe\">\n",
       "  <thead>\n",
       "    <tr style=\"text-align: right;\">\n",
       "      <th></th>\n",
       "      <th>marital</th>\n",
       "      <th>success_rate</th>\n",
       "    </tr>\n",
       "  </thead>\n",
       "  <tbody>\n",
       "    <tr>\n",
       "      <th>3</th>\n",
       "      <td>unknown</td>\n",
       "      <td>0.150000</td>\n",
       "    </tr>\n",
       "    <tr>\n",
       "      <th>2</th>\n",
       "      <td>single</td>\n",
       "      <td>0.140041</td>\n",
       "    </tr>\n",
       "    <tr>\n",
       "      <th>0</th>\n",
       "      <td>divorced</td>\n",
       "      <td>0.103209</td>\n",
       "    </tr>\n",
       "    <tr>\n",
       "      <th>1</th>\n",
       "      <td>married</td>\n",
       "      <td>0.101573</td>\n",
       "    </tr>\n",
       "  </tbody>\n",
       "</table>\n",
       "</div>"
      ],
      "text/plain": [
       "    marital  success_rate\n",
       "3   unknown      0.150000\n",
       "2    single      0.140041\n",
       "0  divorced      0.103209\n",
       "1   married      0.101573"
      ]
     },
     "execution_count": 41,
     "metadata": {},
     "output_type": "execute_result"
    }
   ],
   "source": [
    "### BEGIN SOLUTION\n",
    "df_by_marital = df_m.groupby(\"marital\", as_index=False).agg({\"place_deposit\": \"mean\"})\n",
    "df_by_marital.rename(columns={\"place_deposit\": \"success_rate\"}, inplace=True)\n",
    "df_by_marital.sort_values(\"success_rate\", ascending=False, inplace=True)\n",
    "### END SOLUTION\n",
    "\n",
    "df_by_marital"
   ]
  },
  {
   "cell_type": "markdown",
   "metadata": {
    "id": "cFSLnaLHZP_j"
   },
   "source": [
    "#### 🧭 Check Your Work\n",
    "\n",
    "- Once you're done, run the code cell below to test correctness.\n",
    "- ✔️ If the code cell runs without an error, you're good to move on.\n",
    "- ❌ If the code cell throws an error, go back and fix incorrect parts.\n"
   ]
  },
  {
   "cell_type": "code",
   "execution_count": null,
   "metadata": {
    "id": "79IBa8lFZP_j",
    "nbgrader": {
     "grade": true,
     "grade_id": "challenge-11",
     "locked": true,
     "points": "1",
     "solution": false
    }
   },
   "outputs": [],
   "source": [
    "# Challenge 11 Autograder\n",
    "df_check = (\n",
    "    df_m_backup.groupby(\"marital\", as_index=bool(0))\n",
    "    .agg({\"place_deposit\": \"mean\"})\n",
    "    .rename(columns={\"_\".join([\"place\", \"deposit\"]): \"success_rate\"})\n",
    "    .sort_values(\"success_rate\")\n",
    "    .iloc[::-1]\n",
    ")\n",
    "df_check = df_check[[\"success_rate\", \"marital\"][::-1]].copy()\n",
    "\n",
    "# Check result\n",
    "pd.testing.assert_frame_equal(\n",
    "    df_by_marital.reset_index(drop=True), df_check.reset_index(drop=True)\n",
    ")"
   ]
  },
  {
   "cell_type": "markdown",
   "metadata": {
    "id": "Z_abf3SEZP_j"
   },
   "source": [
    "---\n",
    "\n",
    "### 🎯 Challenge 12: Marketing success rate by job\n",
    "\n",
    "#### 👇 Tasks\n",
    "\n",
    "- ✔️ Using `df_m`, create an aggregated table named `df_by_job` to that lists the average success rate in direct marketing campaigns by job.\n",
    "- ✔️ Use the `as_index=False` option.\n",
    "- ✔️ `df_by_job` should only have the following two columns in the same order.\n",
    "  - `job`: Job (e.g., student, technician, housemaid, etc)\n",
    "  - `success_rate`: Average success rate (between 0-1)\n",
    "- ✔️ Both columns should not be used as an index column.\n",
    "  - Printing `df_by_job.columns.to_list()` should print out `['job', 'success_rate']`.\n",
    "- ✔️ Sort `df_by_job` by `success_rate` in descending order.\n",
    "\n",
    "#### 🔑 Expected Output\n",
    "\n",
    "|     | job           | success_rate |\n",
    "| --: | :------------ | -----------: |\n",
    "|   8 | student       |     0.314286 |\n",
    "|   5 | retired       |     0.252326 |\n",
    "|  10 | unemployed    |     0.142012 |\n",
    "|   0 | admin.        |     0.129726 |\n",
    "|   4 | management    |     0.112175 |\n",
    "|  11 | unknown       |     0.112121 |\n",
    "|   9 | technician    |      0.10826 |\n",
    "|   6 | self-employed |     0.104856 |\n",
    "|   3 | housemaid     |          0.1 |\n",
    "|   2 | entrepreneur  |    0.0851648 |\n",
    "|   7 | services      |    0.0813807 |\n",
    "|   1 | blue-collar   |    0.0689432 |\n"
   ]
  },
  {
   "cell_type": "code",
   "execution_count": null,
   "metadata": {
    "colab": {
     "base_uri": "https://localhost:8080/",
     "height": 0
    },
    "id": "3-asxscfZP_j",
    "outputId": "bde2cd6c-8ba5-49bb-c81e-f975dfb49b4a"
   },
   "outputs": [
    {
     "data": {
      "text/html": [
       "<div>\n",
       "<style scoped>\n",
       "    .dataframe tbody tr th:only-of-type {\n",
       "        vertical-align: middle;\n",
       "    }\n",
       "\n",
       "    .dataframe tbody tr th {\n",
       "        vertical-align: top;\n",
       "    }\n",
       "\n",
       "    .dataframe thead th {\n",
       "        text-align: right;\n",
       "    }\n",
       "</style>\n",
       "<table border=\"1\" class=\"dataframe\">\n",
       "  <thead>\n",
       "    <tr style=\"text-align: right;\">\n",
       "      <th></th>\n",
       "      <th>job</th>\n",
       "      <th>success_rate</th>\n",
       "    </tr>\n",
       "  </thead>\n",
       "  <tbody>\n",
       "    <tr>\n",
       "      <th>8</th>\n",
       "      <td>student</td>\n",
       "      <td>0.314286</td>\n",
       "    </tr>\n",
       "    <tr>\n",
       "      <th>5</th>\n",
       "      <td>retired</td>\n",
       "      <td>0.252326</td>\n",
       "    </tr>\n",
       "    <tr>\n",
       "      <th>10</th>\n",
       "      <td>unemployed</td>\n",
       "      <td>0.142012</td>\n",
       "    </tr>\n",
       "    <tr>\n",
       "      <th>0</th>\n",
       "      <td>admin.</td>\n",
       "      <td>0.129726</td>\n",
       "    </tr>\n",
       "    <tr>\n",
       "      <th>4</th>\n",
       "      <td>management</td>\n",
       "      <td>0.112175</td>\n",
       "    </tr>\n",
       "    <tr>\n",
       "      <th>11</th>\n",
       "      <td>unknown</td>\n",
       "      <td>0.112121</td>\n",
       "    </tr>\n",
       "    <tr>\n",
       "      <th>9</th>\n",
       "      <td>technician</td>\n",
       "      <td>0.108260</td>\n",
       "    </tr>\n",
       "    <tr>\n",
       "      <th>6</th>\n",
       "      <td>self-employed</td>\n",
       "      <td>0.104856</td>\n",
       "    </tr>\n",
       "    <tr>\n",
       "      <th>3</th>\n",
       "      <td>housemaid</td>\n",
       "      <td>0.100000</td>\n",
       "    </tr>\n",
       "    <tr>\n",
       "      <th>2</th>\n",
       "      <td>entrepreneur</td>\n",
       "      <td>0.085165</td>\n",
       "    </tr>\n",
       "    <tr>\n",
       "      <th>7</th>\n",
       "      <td>services</td>\n",
       "      <td>0.081381</td>\n",
       "    </tr>\n",
       "    <tr>\n",
       "      <th>1</th>\n",
       "      <td>blue-collar</td>\n",
       "      <td>0.068943</td>\n",
       "    </tr>\n",
       "  </tbody>\n",
       "</table>\n",
       "</div>"
      ],
      "text/plain": [
       "              job  success_rate\n",
       "8         student      0.314286\n",
       "5         retired      0.252326\n",
       "10     unemployed      0.142012\n",
       "0          admin.      0.129726\n",
       "4      management      0.112175\n",
       "11        unknown      0.112121\n",
       "9      technician      0.108260\n",
       "6   self-employed      0.104856\n",
       "3       housemaid      0.100000\n",
       "2    entrepreneur      0.085165\n",
       "7        services      0.081381\n",
       "1     blue-collar      0.068943"
      ]
     },
     "execution_count": 43,
     "metadata": {},
     "output_type": "execute_result"
    }
   ],
   "source": [
    "### BEGIN SOLUTION\n",
    "df_by_job = df_m.groupby(\"job\", as_index=False).agg({\"place_deposit\": \"mean\"})\n",
    "df_by_job.rename(columns={\"place_deposit\": \"success_rate\"}, inplace=True)\n",
    "df_by_job.sort_values(\"success_rate\", ascending=False, inplace=True)\n",
    "### END SOLUTION\n",
    "\n",
    "df_by_job"
   ]
  },
  {
   "cell_type": "markdown",
   "metadata": {
    "id": "y86n6-c2ZP_j"
   },
   "source": [
    "#### 🧭 Check Your Work\n",
    "\n",
    "- Once you're done, run the code cell below to test correctness.\n",
    "- ✔️ If the code cell runs without an error, you're good to move on.\n",
    "- ❌ If the code cell throws an error, go back and fix incorrect parts.\n"
   ]
  },
  {
   "cell_type": "code",
   "execution_count": null,
   "metadata": {
    "id": "B4ByU-sDZP_k",
    "nbgrader": {
     "grade": true,
     "grade_id": "challenge-12",
     "locked": true,
     "points": "1",
     "solution": false
    }
   },
   "outputs": [],
   "source": [
    "# Challenge 12 Autograder\n",
    "df_check = (\n",
    "    df_m_backup.groupby(\"job\")\n",
    "    .agg({\"place_deposit\": \"mean\"})\n",
    "    .reset_index()\n",
    "    .rename(columns={\"_\".join([\"place\", \"deposit\"]): \"success_rate\"})\n",
    "    .sort_values(\"success_rate\")\n",
    "    .iloc[::-1]\n",
    ")\n",
    "df_check = df_check[[\"success_rate\", \"job\"][::-1]].copy()\n",
    "\n",
    "pd.testing.assert_frame_equal(\n",
    "    df_by_job.reset_index(drop=True), df_check.reset_index(drop=True)\n",
    ")"
   ]
  },
  {
   "cell_type": "markdown",
   "metadata": {
    "id": "-NzZdqbaZP_k"
   },
   "source": [
    "---\n",
    "\n",
    "### 🎯 Challenge 13: Marketing success rate by contact type with count\n",
    "\n",
    "#### 👇 Tasks\n",
    "\n",
    "- ✔️ Using `df_m`, create an aggregated table named `df_by_contact_type` that lists the number of campaigns and the average success rate by contact type.\n",
    "- ✔️ Use the `as_index=False` option.\n",
    "- ✔️ `df_by_contact_type` should only have the following three columns in the same order.\n",
    "  - `contact_type`: Contact method (e.g., cellular, telephone)\n",
    "  - `count`: Number of potential customers that were contacted using the corresponding contact type\n",
    "  - `success_rate`: Average success rate (between 0-1)\n",
    "- ✔️ All three columns should not be used as an index column.\n",
    "  - Printing `df_by_contact_type.columns.to_list()` should print out `['contact_type', 'count', 'success_rate']`.\n",
    "- ✔️ Sort `df_by_contact_type` by `success_rate` in descending order.\n",
    "\n",
    "#### 🔑 Expected Output\n",
    "\n",
    "|     | contact_type | count | success_rate |\n",
    "| --: | :----------- | ----: | -----------: |\n",
    "|   0 | cellular     | 26144 |     0.147376 |\n",
    "|   1 | telephone    | 15044 |    0.0523132 |\n"
   ]
  },
  {
   "cell_type": "code",
   "execution_count": null,
   "metadata": {
    "colab": {
     "base_uri": "https://localhost:8080/",
     "height": 0
    },
    "id": "kvI78MN5ZP_k",
    "outputId": "93850121-906e-4451-faac-c1689c43075a"
   },
   "outputs": [
    {
     "data": {
      "text/html": [
       "<div>\n",
       "<style scoped>\n",
       "    .dataframe tbody tr th:only-of-type {\n",
       "        vertical-align: middle;\n",
       "    }\n",
       "\n",
       "    .dataframe tbody tr th {\n",
       "        vertical-align: top;\n",
       "    }\n",
       "\n",
       "    .dataframe thead th {\n",
       "        text-align: right;\n",
       "    }\n",
       "</style>\n",
       "<table border=\"1\" class=\"dataframe\">\n",
       "  <thead>\n",
       "    <tr style=\"text-align: right;\">\n",
       "      <th></th>\n",
       "      <th>contact_type</th>\n",
       "      <th>count</th>\n",
       "      <th>success_rate</th>\n",
       "    </tr>\n",
       "  </thead>\n",
       "  <tbody>\n",
       "    <tr>\n",
       "      <th>0</th>\n",
       "      <td>cellular</td>\n",
       "      <td>26144</td>\n",
       "      <td>0.147376</td>\n",
       "    </tr>\n",
       "    <tr>\n",
       "      <th>1</th>\n",
       "      <td>telephone</td>\n",
       "      <td>15044</td>\n",
       "      <td>0.052313</td>\n",
       "    </tr>\n",
       "  </tbody>\n",
       "</table>\n",
       "</div>"
      ],
      "text/plain": [
       "  contact_type  count  success_rate\n",
       "0     cellular  26144      0.147376\n",
       "1    telephone  15044      0.052313"
      ]
     },
     "execution_count": 45,
     "metadata": {},
     "output_type": "execute_result"
    }
   ],
   "source": [
    "### BEGIN SOLUTION\n",
    "df_by_contact_type = df_m.groupby(\"contact_type\", as_index=False).agg(\n",
    "    {\"place_deposit\": [\"count\", \"mean\"]}\n",
    ")\n",
    "\n",
    "# flatten columns\n",
    "df_by_contact_type.columns = [\"contact_type\", \"count\", \"success_rate\"]\n",
    "\n",
    "df_by_contact_type.sort_values(\"success_rate\", ascending=False, inplace=True)\n",
    "### END SOLUTION\n",
    "df_by_contact_type"
   ]
  },
  {
   "cell_type": "markdown",
   "metadata": {
    "id": "T1Kx95fUZP_l"
   },
   "source": [
    "#### 🧭 Check Your Work\n",
    "\n",
    "- Once you're done, run the code cell below to test correctness.\n",
    "- ✔️ If the code cell runs without an error, you're good to move on.\n",
    "- ❌ If the code cell throws an error, go back and fix incorrect parts.\n"
   ]
  },
  {
   "cell_type": "code",
   "execution_count": null,
   "metadata": {
    "id": "YfFL-b3_ZP_l",
    "nbgrader": {
     "grade": true,
     "grade_id": "challenge-13",
     "locked": true,
     "points": "1",
     "solution": false
    }
   },
   "outputs": [],
   "source": [
    "# Challenge 13 Autograder\n",
    "df_check = (\n",
    "    df_m_backup.groupby(\"_\".join([\"contact\", \"type\"]))\n",
    "    .agg({\"place_deposit\": [\"count\", \"mean\"]})\n",
    "    .reset_index()\n",
    ")\n",
    "df_check.columns = [\"SUCCESS_RATE\".lower(), \"COUNT\".lower(), \"CONTACT_TYPE\".lower()][\n",
    "    ::-1\n",
    "]\n",
    "df_check = df_check.sort_values(\"success_rate\").iloc[::-1]\n",
    "\n",
    "pd.testing.assert_frame_equal(\n",
    "    df_by_contact_type.reset_index(drop=True), df_check.reset_index(drop=True)\n",
    ")"
   ]
  },
  {
   "cell_type": "markdown",
   "metadata": {
    "id": "XaZNtlCDZP_l"
   },
   "source": [
    "---\n",
    "\n",
    "### 📌 Grouping by multiple columns\n",
    "\n",
    "You can run a `groupby()` with two or more columns by supplying a `list` of columns to the `groupby()` function.\n",
    "\n",
    "```python\n",
    "# example\n",
    "df.groupby(['column1', 'column2'], as_index=False).agg({ 'column3': ... })\n",
    "```\n"
   ]
  },
  {
   "cell_type": "markdown",
   "metadata": {
    "id": "mYV31pABZP_l"
   },
   "source": [
    "---\n",
    "\n",
    "### 🎯 Challenge 14: Marketing success rate by marital status and contact type\n",
    "\n",
    "#### 👇 Tasks\n",
    "\n",
    "- ✔️ Using `df_m`, create an aggregated table named `df_by_type_and_marital` that lists the average success rate in direct marketing campaigns by marital status and contact type.\n",
    "- ✔️ Use the `as_index=False` option.\n",
    "- ✔️ `df_by_type_and_marital` should only have the following three columns in the same order.\n",
    "  - `marital`: Marital status (e.g., single, divorced, married, unknown)\n",
    "  - `contact_type`: Contact method (e.g., cellular, telephone)\n",
    "  - `success_rate`: Average success rate (between 0-1)\n",
    "- ✔️ All three columns should not be used as an index column.\n",
    "  - Printing `df_by_type_and_marital.columns.to_list()` should print out `['marital', 'contact_type', 'success_rate']`.\n",
    "- ✔️ Sort `df_by_type_and_marital` by `success_rate` in descending order.\n",
    "\n",
    "#### 🔑 Expected Output\n",
    "\n",
    "|     | marital  | contact_type | success_rate |\n",
    "| --: | :------- | :----------- | -----------: |\n",
    "|   6 | unknown  | cellular     |     0.207547 |\n",
    "|   4 | single   | cellular     |     0.173875 |\n",
    "|   0 | divorced | cellular     |      0.13652 |\n",
    "|   2 | married  | cellular     |     0.135341 |\n",
    "|   5 | single   | telephone    |    0.0648844 |\n",
    "|   3 | married  | telephone    |    0.0487554 |\n",
    "|   1 | divorced | telephone    |    0.0463615 |\n",
    "|   7 | unknown  | telephone    |     0.037037 |\n"
   ]
  },
  {
   "cell_type": "code",
   "execution_count": null,
   "metadata": {
    "colab": {
     "base_uri": "https://localhost:8080/",
     "height": 0
    },
    "id": "qVaYvj1XZP_l",
    "outputId": "f60485f5-f105-4120-c9cb-7ae10c9ac5ef"
   },
   "outputs": [
    {
     "data": {
      "text/html": [
       "<div>\n",
       "<style scoped>\n",
       "    .dataframe tbody tr th:only-of-type {\n",
       "        vertical-align: middle;\n",
       "    }\n",
       "\n",
       "    .dataframe tbody tr th {\n",
       "        vertical-align: top;\n",
       "    }\n",
       "\n",
       "    .dataframe thead th {\n",
       "        text-align: right;\n",
       "    }\n",
       "</style>\n",
       "<table border=\"1\" class=\"dataframe\">\n",
       "  <thead>\n",
       "    <tr style=\"text-align: right;\">\n",
       "      <th></th>\n",
       "      <th>marital</th>\n",
       "      <th>contact_type</th>\n",
       "      <th>success_rate</th>\n",
       "    </tr>\n",
       "  </thead>\n",
       "  <tbody>\n",
       "    <tr>\n",
       "      <th>6</th>\n",
       "      <td>unknown</td>\n",
       "      <td>cellular</td>\n",
       "      <td>0.207547</td>\n",
       "    </tr>\n",
       "    <tr>\n",
       "      <th>4</th>\n",
       "      <td>single</td>\n",
       "      <td>cellular</td>\n",
       "      <td>0.173875</td>\n",
       "    </tr>\n",
       "    <tr>\n",
       "      <th>0</th>\n",
       "      <td>divorced</td>\n",
       "      <td>cellular</td>\n",
       "      <td>0.136520</td>\n",
       "    </tr>\n",
       "    <tr>\n",
       "      <th>2</th>\n",
       "      <td>married</td>\n",
       "      <td>cellular</td>\n",
       "      <td>0.135341</td>\n",
       "    </tr>\n",
       "    <tr>\n",
       "      <th>5</th>\n",
       "      <td>single</td>\n",
       "      <td>telephone</td>\n",
       "      <td>0.064884</td>\n",
       "    </tr>\n",
       "    <tr>\n",
       "      <th>3</th>\n",
       "      <td>married</td>\n",
       "      <td>telephone</td>\n",
       "      <td>0.048755</td>\n",
       "    </tr>\n",
       "    <tr>\n",
       "      <th>1</th>\n",
       "      <td>divorced</td>\n",
       "      <td>telephone</td>\n",
       "      <td>0.046362</td>\n",
       "    </tr>\n",
       "    <tr>\n",
       "      <th>7</th>\n",
       "      <td>unknown</td>\n",
       "      <td>telephone</td>\n",
       "      <td>0.037037</td>\n",
       "    </tr>\n",
       "  </tbody>\n",
       "</table>\n",
       "</div>"
      ],
      "text/plain": [
       "    marital contact_type  success_rate\n",
       "6   unknown     cellular      0.207547\n",
       "4    single     cellular      0.173875\n",
       "0  divorced     cellular      0.136520\n",
       "2   married     cellular      0.135341\n",
       "5    single    telephone      0.064884\n",
       "3   married    telephone      0.048755\n",
       "1  divorced    telephone      0.046362\n",
       "7   unknown    telephone      0.037037"
      ]
     },
     "execution_count": 47,
     "metadata": {},
     "output_type": "execute_result"
    }
   ],
   "source": [
    "### BEGIN SOLUTION\n",
    "df_by_type_and_marital = df_m.groupby([\"marital\", \"contact_type\"], as_index=False).agg(\n",
    "    {\"place_deposit\": \"mean\"}\n",
    ")\n",
    "df_by_type_and_marital.rename(columns={\"place_deposit\": \"success_rate\"}, inplace=True)\n",
    "df_by_type_and_marital.sort_values(\"success_rate\", ascending=False, inplace=True)\n",
    "### END SOLUTION\n",
    "\n",
    "df_by_type_and_marital"
   ]
  },
  {
   "cell_type": "markdown",
   "metadata": {
    "id": "2M-MZInzZP_m"
   },
   "source": [
    "#### 🧭 Check Your Work\n",
    "\n",
    "- Once you're done, run the code cell below to test correctness.\n",
    "- ✔️ If the code cell runs without an error, you're good to move on.\n",
    "- ❌ If the code cell throws an error, go back and fix incorrect parts.\n"
   ]
  },
  {
   "cell_type": "code",
   "execution_count": null,
   "metadata": {
    "id": "_kJs-N2iZP_m",
    "nbgrader": {
     "grade": true,
     "grade_id": "challenge-14",
     "locked": true,
     "points": "1",
     "solution": false
    }
   },
   "outputs": [],
   "source": [
    "# Challenge 14 Autograder\n",
    "df_check = (\n",
    "    df_m_backup.groupby([\"MARITAL\".lower(), \"_\".join([\"contact\", \"type\"])])\n",
    "    .agg({\"place_deposit\": \"mean\"})\n",
    "    .reset_index()\n",
    ")\n",
    "df_check.rename(\n",
    "    columns={\"place_deposit\": \"_\".join([\"SUCCESS\", \"RATE\"]).lower()}, inplace=bool(1)\n",
    ")\n",
    "df_check = df_check.sort_values(\"success_rate\").iloc[::-1]\n",
    "\n",
    "pd.testing.assert_frame_equal(\n",
    "    df_by_type_and_marital.reset_index(drop=True), df_check.reset_index(drop=True)\n",
    ")"
   ]
  },
  {
   "cell_type": "markdown",
   "metadata": {
    "id": "5BD2x2-gZP_m"
   },
   "source": [
    "---\n",
    "\n",
    "## 🧲 Merging two DataFrames (Joins)\n",
    "\n",
    "Another common operation with tables is to merge two or more tables into one larger table.\n",
    "\n",
    "To demonstrate how merging works, we'll work a record of transactions from a small food stand selling only two items - sweetcorns 🌽 and beers 🍺. The tables associated with the food stand's transactions are shown below.\n",
    "\n",
    "### Products (`df_products`)\n",
    "\n",
    "| product_id | product_name | price |\n",
    "| ---------- | ------------ | ----- |\n",
    "| SC         | Sweetcorn    | 3.0   |\n",
    "| CB         | Beer         | 5.0   |\n",
    "\n",
    "### Transactions (`df_transactions`)\n",
    "\n",
    "| transaction_id | product_id |\n",
    "| -------------- | ---------- |\n",
    "| 1              | SC         |\n",
    "| 2              | SC         |\n",
    "| 3              | CB         |\n",
    "| 4              | SC         |\n",
    "| 5              | SC         |\n",
    "| 6              | SC         |\n",
    "| 7              | CB         |\n",
    "| 8              | SC         |\n",
    "| 9              | CB         |\n",
    "| 10             | SC         |\n",
    "\n",
    "▶️ Run the code below to create the two tables as DataFrames.\n"
   ]
  },
  {
   "cell_type": "code",
   "execution_count": null,
   "metadata": {
    "colab": {
     "base_uri": "https://localhost:8080/",
     "height": 458
    },
    "id": "YySnQhLEZP_m",
    "outputId": "2c0fa329-d27a-4ef6-eda3-19ef74936fb5"
   },
   "outputs": [
    {
     "data": {
      "text/html": [
       "<div>\n",
       "<style scoped>\n",
       "    .dataframe tbody tr th:only-of-type {\n",
       "        vertical-align: middle;\n",
       "    }\n",
       "\n",
       "    .dataframe tbody tr th {\n",
       "        vertical-align: top;\n",
       "    }\n",
       "\n",
       "    .dataframe thead th {\n",
       "        text-align: right;\n",
       "    }\n",
       "</style>\n",
       "<table border=\"1\" class=\"dataframe\">\n",
       "  <thead>\n",
       "    <tr style=\"text-align: right;\">\n",
       "      <th></th>\n",
       "      <th>product_id</th>\n",
       "      <th>product_name</th>\n",
       "      <th>price</th>\n",
       "    </tr>\n",
       "  </thead>\n",
       "  <tbody>\n",
       "    <tr>\n",
       "      <th>0</th>\n",
       "      <td>SC</td>\n",
       "      <td>Sweetcorn</td>\n",
       "      <td>3.0</td>\n",
       "    </tr>\n",
       "    <tr>\n",
       "      <th>1</th>\n",
       "      <td>CB</td>\n",
       "      <td>Beer</td>\n",
       "      <td>5.0</td>\n",
       "    </tr>\n",
       "  </tbody>\n",
       "</table>\n",
       "</div>"
      ],
      "text/plain": [
       "  product_id product_name  price\n",
       "0         SC    Sweetcorn    3.0\n",
       "1         CB         Beer    5.0"
      ]
     },
     "metadata": {},
     "output_type": "display_data"
    },
    {
     "data": {
      "text/html": [
       "<div>\n",
       "<style scoped>\n",
       "    .dataframe tbody tr th:only-of-type {\n",
       "        vertical-align: middle;\n",
       "    }\n",
       "\n",
       "    .dataframe tbody tr th {\n",
       "        vertical-align: top;\n",
       "    }\n",
       "\n",
       "    .dataframe thead th {\n",
       "        text-align: right;\n",
       "    }\n",
       "</style>\n",
       "<table border=\"1\" class=\"dataframe\">\n",
       "  <thead>\n",
       "    <tr style=\"text-align: right;\">\n",
       "      <th></th>\n",
       "      <th>transaction_id</th>\n",
       "      <th>product_id</th>\n",
       "    </tr>\n",
       "  </thead>\n",
       "  <tbody>\n",
       "    <tr>\n",
       "      <th>0</th>\n",
       "      <td>1</td>\n",
       "      <td>SC</td>\n",
       "    </tr>\n",
       "    <tr>\n",
       "      <th>1</th>\n",
       "      <td>2</td>\n",
       "      <td>SC</td>\n",
       "    </tr>\n",
       "    <tr>\n",
       "      <th>2</th>\n",
       "      <td>3</td>\n",
       "      <td>CB</td>\n",
       "    </tr>\n",
       "    <tr>\n",
       "      <th>3</th>\n",
       "      <td>4</td>\n",
       "      <td>SC</td>\n",
       "    </tr>\n",
       "    <tr>\n",
       "      <th>4</th>\n",
       "      <td>5</td>\n",
       "      <td>SC</td>\n",
       "    </tr>\n",
       "    <tr>\n",
       "      <th>5</th>\n",
       "      <td>6</td>\n",
       "      <td>SC</td>\n",
       "    </tr>\n",
       "    <tr>\n",
       "      <th>6</th>\n",
       "      <td>7</td>\n",
       "      <td>CB</td>\n",
       "    </tr>\n",
       "    <tr>\n",
       "      <th>7</th>\n",
       "      <td>8</td>\n",
       "      <td>SC</td>\n",
       "    </tr>\n",
       "    <tr>\n",
       "      <th>8</th>\n",
       "      <td>9</td>\n",
       "      <td>CB</td>\n",
       "    </tr>\n",
       "    <tr>\n",
       "      <th>9</th>\n",
       "      <td>10</td>\n",
       "      <td>SC</td>\n",
       "    </tr>\n",
       "  </tbody>\n",
       "</table>\n",
       "</div>"
      ],
      "text/plain": [
       "   transaction_id product_id\n",
       "0               1         SC\n",
       "1               2         SC\n",
       "2               3         CB\n",
       "3               4         SC\n",
       "4               5         SC\n",
       "5               6         SC\n",
       "6               7         CB\n",
       "7               8         SC\n",
       "8               9         CB\n",
       "9              10         SC"
      ]
     },
     "metadata": {},
     "output_type": "display_data"
    }
   ],
   "source": [
    "# DO NOT CHANGE THE CODE BELOW\n",
    "df_products = pd.DataFrame(\n",
    "    {\n",
    "        \"product_id\": [\"SC\", \"CB\"],\n",
    "        \"product_name\": [\"Sweetcorn\", \"Beer\"],\n",
    "        \"price\": [3.0, 5.0],\n",
    "    }\n",
    ")\n",
    "\n",
    "df_transactions = pd.DataFrame(\n",
    "    {\n",
    "        \"transaction_id\": [1, 2, 3, 4, 5, 6, 7, 8, 9, 10],\n",
    "        \"product_id\": [\"SC\", \"SC\", \"CB\", \"SC\", \"SC\", \"SC\", \"CB\", \"SC\", \"CB\", \"SC\"],\n",
    "    }\n",
    ")\n",
    "\n",
    "df_products_backup = df_products.copy()\n",
    "df_transactions_backup = df_transactions.copy()\n",
    "\n",
    "display(df_products)\n",
    "display(df_transactions)"
   ]
  },
  {
   "cell_type": "markdown",
   "metadata": {
    "id": "sM-87UnyZP_m"
   },
   "source": [
    "---\n",
    "\n",
    "### 🎯 Challenge 15: Merge products into transactions\n",
    "\n",
    "#### 👇 Tasks\n",
    "\n",
    "- ✔️ Using `df_products` and `df_transactions`, create a merged table as shown below.\n",
    "- ✔️ Use a left merge.\n",
    "- ✔️ Name the merged DataFrame `df_merged`.\n",
    "\n",
    "#### 🚀 Hints\n",
    "\n",
    "The code below merges `right_dataframe` into `left_dataframe` using `shared_key_column`. The resulting type of the merge is a left-merge.\n",
    "\n",
    "```python\n",
    "merged_dataframe = pd.merge(\n",
    "    left=left_dataframe,\n",
    "    right=right_dataframe,\n",
    "    on='shared_key_column',\n",
    "    how='left'\n",
    ")\n",
    "```\n",
    "\n",
    "#### 🧭 Expected Output of `df_merged`\n",
    "\n",
    "|     | transaction_id | product_id | product_name | price |\n",
    "| --- | -------------- | ---------- | ------------ | ----- |\n",
    "| 0   | 1              | SC         | Sweetcorn    | 3.0   |\n",
    "| 1   | 2              | SC         | Sweetcorn    | 3.0   |\n",
    "| 2   | 3              | CB         | Beer         | 5.0   |\n",
    "| 3   | 4              | SC         | Sweetcorn    | 3.0   |\n",
    "| 4   | 5              | SC         | Sweetcorn    | 3.0   |\n",
    "| 5   | 6              | SC         | Sweetcorn    | 3.0   |\n",
    "| 6   | 7              | CB         | Beer         | 5.0   |\n",
    "| 7   | 8              | SC         | Sweetcorn    | 3.0   |\n",
    "| 8   | 9              | CB         | Beer         | 5.0   |\n",
    "| 9   | 10             | SC         | Sweetcorn    | 3.0   |\n"
   ]
  },
  {
   "cell_type": "code",
   "execution_count": null,
   "metadata": {
    "colab": {
     "base_uri": "https://localhost:8080/",
     "height": 0
    },
    "id": "rKoP1HdPZP_n",
    "outputId": "94c2f8c0-364d-441a-9884-8b526821b04c"
   },
   "outputs": [
    {
     "data": {
      "text/html": [
       "<div>\n",
       "<style scoped>\n",
       "    .dataframe tbody tr th:only-of-type {\n",
       "        vertical-align: middle;\n",
       "    }\n",
       "\n",
       "    .dataframe tbody tr th {\n",
       "        vertical-align: top;\n",
       "    }\n",
       "\n",
       "    .dataframe thead th {\n",
       "        text-align: right;\n",
       "    }\n",
       "</style>\n",
       "<table border=\"1\" class=\"dataframe\">\n",
       "  <thead>\n",
       "    <tr style=\"text-align: right;\">\n",
       "      <th></th>\n",
       "      <th>transaction_id</th>\n",
       "      <th>product_id</th>\n",
       "      <th>product_name</th>\n",
       "      <th>price</th>\n",
       "    </tr>\n",
       "  </thead>\n",
       "  <tbody>\n",
       "    <tr>\n",
       "      <th>0</th>\n",
       "      <td>1</td>\n",
       "      <td>SC</td>\n",
       "      <td>Sweetcorn</td>\n",
       "      <td>3.0</td>\n",
       "    </tr>\n",
       "    <tr>\n",
       "      <th>1</th>\n",
       "      <td>2</td>\n",
       "      <td>SC</td>\n",
       "      <td>Sweetcorn</td>\n",
       "      <td>3.0</td>\n",
       "    </tr>\n",
       "    <tr>\n",
       "      <th>2</th>\n",
       "      <td>3</td>\n",
       "      <td>CB</td>\n",
       "      <td>Beer</td>\n",
       "      <td>5.0</td>\n",
       "    </tr>\n",
       "    <tr>\n",
       "      <th>3</th>\n",
       "      <td>4</td>\n",
       "      <td>SC</td>\n",
       "      <td>Sweetcorn</td>\n",
       "      <td>3.0</td>\n",
       "    </tr>\n",
       "    <tr>\n",
       "      <th>4</th>\n",
       "      <td>5</td>\n",
       "      <td>SC</td>\n",
       "      <td>Sweetcorn</td>\n",
       "      <td>3.0</td>\n",
       "    </tr>\n",
       "    <tr>\n",
       "      <th>5</th>\n",
       "      <td>6</td>\n",
       "      <td>SC</td>\n",
       "      <td>Sweetcorn</td>\n",
       "      <td>3.0</td>\n",
       "    </tr>\n",
       "    <tr>\n",
       "      <th>6</th>\n",
       "      <td>7</td>\n",
       "      <td>CB</td>\n",
       "      <td>Beer</td>\n",
       "      <td>5.0</td>\n",
       "    </tr>\n",
       "    <tr>\n",
       "      <th>7</th>\n",
       "      <td>8</td>\n",
       "      <td>SC</td>\n",
       "      <td>Sweetcorn</td>\n",
       "      <td>3.0</td>\n",
       "    </tr>\n",
       "    <tr>\n",
       "      <th>8</th>\n",
       "      <td>9</td>\n",
       "      <td>CB</td>\n",
       "      <td>Beer</td>\n",
       "      <td>5.0</td>\n",
       "    </tr>\n",
       "    <tr>\n",
       "      <th>9</th>\n",
       "      <td>10</td>\n",
       "      <td>SC</td>\n",
       "      <td>Sweetcorn</td>\n",
       "      <td>3.0</td>\n",
       "    </tr>\n",
       "  </tbody>\n",
       "</table>\n",
       "</div>"
      ],
      "text/plain": [
       "   transaction_id product_id product_name  price\n",
       "0               1         SC    Sweetcorn    3.0\n",
       "1               2         SC    Sweetcorn    3.0\n",
       "2               3         CB         Beer    5.0\n",
       "3               4         SC    Sweetcorn    3.0\n",
       "4               5         SC    Sweetcorn    3.0\n",
       "5               6         SC    Sweetcorn    3.0\n",
       "6               7         CB         Beer    5.0\n",
       "7               8         SC    Sweetcorn    3.0\n",
       "8               9         CB         Beer    5.0\n",
       "9              10         SC    Sweetcorn    3.0"
      ]
     },
     "metadata": {},
     "output_type": "display_data"
    }
   ],
   "source": [
    "### BEGIN SOLUTION\n",
    "df_merged = pd.merge(\n",
    "    left=df_transactions, right=df_products, on=\"product_id\", how=\"left\"\n",
    ")\n",
    "### END SOLUTION\n",
    "\n",
    "display(df_merged)"
   ]
  },
  {
   "cell_type": "markdown",
   "metadata": {
    "id": "J-JihhqoZP_n"
   },
   "source": [
    "#### 🧭 Check Your Work\n",
    "\n",
    "- Once you're done, run the code cell below to test correctness.\n",
    "- ✔️ If the code cell runs without an error, you're good to move on.\n",
    "- ❌ If the code cell throws an error, go back and fix incorrect parts.\n"
   ]
  },
  {
   "cell_type": "code",
   "execution_count": null,
   "metadata": {
    "id": "dRlDqfUpZP_n",
    "nbgrader": {
     "grade": true,
     "grade_id": "challenge-15",
     "locked": true,
     "points": "1",
     "solution": false
    }
   },
   "outputs": [],
   "source": [
    "# Challenge 15 Autograder\n",
    "df_merged_SOL = df_transactions_backup.merge(\n",
    "    df_products_backup, on=\"_\".join([\"product\", \"id\"]), how=\"inner\"\n",
    ").sort_values(\"_\".join([\"transaction\", \"id\"]))\n",
    "\n",
    "pd.testing.assert_frame_equal(\n",
    "    df_merged.reset_index(drop=True), df_merged_SOL.reset_index(drop=True)\n",
    ")"
   ]
  },
  {
   "cell_type": "markdown",
   "metadata": {
    "id": "AgSc5R5tZP_n"
   },
   "source": [
    "---\n",
    "\n",
    "### 🎯 Challenge 16: Total sales by product\n",
    "\n",
    "#### 👇 Tasks\n",
    "\n",
    "- ✔️ Using `df_merged` from the previous exercise, find the total sales by product.\n",
    "- ✔️ Store the grouped result (a DataFrame) to `df_sales_by_product`.\n",
    "- ✔️ Use the `groupby()` method on the `product_id` column.\n",
    "- ✔️ `df_sales_by_product` should contain flat-level columns.\n",
    "  - Printing `df_sales_by_product.columns.to_list()` should print out `['product_id', 'price']`.\n",
    "\n",
    "#### 🧭 Expected Output of `df_sales_by_product`\n",
    "\n",
    "|     | product_id | price |\n",
    "| --- | ---------- | ----- |\n",
    "| 0   | CB         | 15.0  |\n",
    "| 1   | SC         | 21.0  |\n"
   ]
  },
  {
   "cell_type": "code",
   "execution_count": null,
   "metadata": {
    "colab": {
     "base_uri": "https://localhost:8080/",
     "height": 0
    },
    "id": "3s07ttdgZP_o",
    "outputId": "2e34d1b2-da41-4687-f7b7-7ad5ff9821a1"
   },
   "outputs": [
    {
     "data": {
      "text/html": [
       "<div>\n",
       "<style scoped>\n",
       "    .dataframe tbody tr th:only-of-type {\n",
       "        vertical-align: middle;\n",
       "    }\n",
       "\n",
       "    .dataframe tbody tr th {\n",
       "        vertical-align: top;\n",
       "    }\n",
       "\n",
       "    .dataframe thead th {\n",
       "        text-align: right;\n",
       "    }\n",
       "</style>\n",
       "<table border=\"1\" class=\"dataframe\">\n",
       "  <thead>\n",
       "    <tr style=\"text-align: right;\">\n",
       "      <th></th>\n",
       "      <th>product_id</th>\n",
       "      <th>price</th>\n",
       "    </tr>\n",
       "  </thead>\n",
       "  <tbody>\n",
       "    <tr>\n",
       "      <th>0</th>\n",
       "      <td>CB</td>\n",
       "      <td>15.0</td>\n",
       "    </tr>\n",
       "    <tr>\n",
       "      <th>1</th>\n",
       "      <td>SC</td>\n",
       "      <td>21.0</td>\n",
       "    </tr>\n",
       "  </tbody>\n",
       "</table>\n",
       "</div>"
      ],
      "text/plain": [
       "  product_id  price\n",
       "0         CB   15.0\n",
       "1         SC   21.0"
      ]
     },
     "metadata": {},
     "output_type": "display_data"
    }
   ],
   "source": [
    "### BEGIN SOLUTION\n",
    "df_sales_by_product = df_merged.groupby(\"product_id\", as_index=False).agg(\n",
    "    {\"price\": \"sum\"}\n",
    ")\n",
    "### END SOLUTION\n",
    "\n",
    "display(df_sales_by_product)"
   ]
  },
  {
   "cell_type": "markdown",
   "metadata": {
    "id": "mkJpFgdpZP_o"
   },
   "source": [
    "#### 🧭 Check Your Work\n",
    "\n",
    "- Once you're done, run the code cell below to test correctness.\n",
    "- ✔️ If the code cell runs without an error, you're good to move on.\n",
    "- ❌ If the code cell throws an error, go back and fix incorrect parts.\n"
   ]
  },
  {
   "cell_type": "code",
   "execution_count": null,
   "metadata": {
    "id": "Fbhn8gvzZP_o",
    "nbgrader": {
     "grade": true,
     "grade_id": "challenge-16",
     "locked": true,
     "points": "1",
     "solution": false
    }
   },
   "outputs": [],
   "source": [
    "# Challenge 16 Autograder\n",
    "df_merged_SOL = df_transactions_backup.merge(\n",
    "    df_products_backup, on=\"product_id\", how=\"left\"\n",
    ")\n",
    "df_sales_by_product_SOL = (\n",
    "    df_merged_SOL.groupby(\"PRODUCT_ID\".lower()).agg({\"price\": \"sum\"}).reset_index()\n",
    ")\n",
    "\n",
    "pd.testing.assert_frame_equal(df_sales_by_product, df_sales_by_product_SOL)"
   ]
  },
  {
   "cell_type": "markdown",
   "metadata": {
    "id": "mPVxtO_-ZP_o"
   },
   "source": [
    "---\n",
    "\n",
    "### 🎯 Challenge of the day: Total sales by product (OPTIONAL)\n",
    "\n",
    "⚠️ This challenge is a chance to showcase your problem-solving abilities. The code examples used in the lecture may not be sufficient to perform this task.\n",
    "\n",
    "#### 👇 Tasks\n",
    "\n",
    "- ✔️ Using `df_merged` from the previous exercise, find the total sales by product.\n",
    "- ✔️ Store the grouped result (a DataFrame) to `df_sales_by_id_name`.\n",
    "  - This time, include the `product_name` information in addition to the `product_id` column.\n",
    "- ✔️ Use the `groupby()` method.\n",
    "- ✔️ `df_sales_by_id_name` should contain flat-level columns in the order shown below.\n",
    "  - Printing `df_sales_by_id_name.columns.to_list()` should print out `['product_id', 'product_name', 'price']`.\n",
    "\n",
    "#### 🧭 Expected Output of `df_sales_by_id_name`\n",
    "\n",
    "|     | product_id | product_name | price |\n",
    "| --- | ---------- | ------------ | ----- |\n",
    "| 0   | CB         | Beer         | 15    |\n",
    "| 1   | SC         | Sweetcorn    | 21    |\n"
   ]
  },
  {
   "cell_type": "code",
   "execution_count": null,
   "metadata": {
    "colab": {
     "base_uri": "https://localhost:8080/",
     "height": 112
    },
    "id": "jdPHYciSZP_o",
    "outputId": "704eda4d-20c9-4fb2-9e3d-bda53ebd2dd2"
   },
   "outputs": [
    {
     "data": {
      "text/html": [
       "<div>\n",
       "<style scoped>\n",
       "    .dataframe tbody tr th:only-of-type {\n",
       "        vertical-align: middle;\n",
       "    }\n",
       "\n",
       "    .dataframe tbody tr th {\n",
       "        vertical-align: top;\n",
       "    }\n",
       "\n",
       "    .dataframe thead th {\n",
       "        text-align: right;\n",
       "    }\n",
       "</style>\n",
       "<table border=\"1\" class=\"dataframe\">\n",
       "  <thead>\n",
       "    <tr style=\"text-align: right;\">\n",
       "      <th></th>\n",
       "      <th>product_id</th>\n",
       "      <th>product_name</th>\n",
       "      <th>price</th>\n",
       "    </tr>\n",
       "  </thead>\n",
       "  <tbody>\n",
       "    <tr>\n",
       "      <th>0</th>\n",
       "      <td>CB</td>\n",
       "      <td>Beer</td>\n",
       "      <td>15.0</td>\n",
       "    </tr>\n",
       "    <tr>\n",
       "      <th>1</th>\n",
       "      <td>SC</td>\n",
       "      <td>Sweetcorn</td>\n",
       "      <td>21.0</td>\n",
       "    </tr>\n",
       "  </tbody>\n",
       "</table>\n",
       "</div>"
      ],
      "text/plain": [
       "  product_id product_name  price\n",
       "0         CB         Beer   15.0\n",
       "1         SC    Sweetcorn   21.0"
      ]
     },
     "metadata": {},
     "output_type": "display_data"
    }
   ],
   "source": [
    "### BEGIN SOLUTION\n",
    "df_sales_by_id_name = df_merged.groupby(\n",
    "    [\"product_id\", \"product_name\"], as_index=False\n",
    ").agg({\"price\": \"sum\"})\n",
    "### END SOLUTION\n",
    "\n",
    "display(df_sales_by_id_name)"
   ]
  },
  {
   "cell_type": "markdown",
   "metadata": {
    "id": "yqC1kDY0ZP_p"
   },
   "source": [
    "#### 🧭 Check Your Work\n",
    "\n",
    "- Once you're done, run the code cell below to test correctness.\n",
    "- ✔️ If the code cell runs without an error, you're good to move on.\n",
    "- ❌ If the code cell throws an error, go back and fix incorrect parts.\n"
   ]
  },
  {
   "cell_type": "code",
   "execution_count": null,
   "metadata": {
    "id": "3MyG-_n9ZP_p",
    "nbgrader": {
     "grade": true,
     "grade_id": "challenge-17-optional",
     "locked": true,
     "points": "1",
     "solution": false
    }
   },
   "outputs": [],
   "source": [
    "# Challenge 17 Autograder (OPTIONAL)\n",
    "# DO NOT CHANGE THE CODE BELOW\n",
    "df_merged_SOL = df_transactions_backup.merge(\n",
    "    df_products_backup, on=\"product_id\", how=\"left\"\n",
    ")\n",
    "\n",
    "df_sales_by_id_name_SOL = df_merged_SOL.groupby(\n",
    "    [\"product_id\", \"product_name\"], as_index=False\n",
    ").agg({\"price\": \"sum\"})\n",
    "\n",
    "\n",
    "pd.testing.assert_frame_equal(df_sales_by_id_name, df_sales_by_id_name_SOL)"
   ]
  }
 ],
 "metadata": {
  "colab": {
   "collapsed_sections": [
    "133JiIE8ZP_U",
    "B_khqcJVZP_V",
    "NOcLkTpsZP_W",
    "5ylKOUiWZP_W",
    "kokPa7N-ZP_X",
    "ena54NwVZP_X",
    "b2-nsJ7vZP_Y",
    "490tZZZ2ZP_Y",
    "SBXyHc4nZP_Y",
    "zXqaEcOFZP_Y",
    "Ts70IMbwZP_Z",
    "lxVm_Ez3ZP_Z",
    "mWyKD9tdZP_a",
    "equOau8hZP_b",
    "QRoFjF1lZP_b",
    "Y4LiwVWIZP_c",
    "Y3m6ztE_ZP_c",
    "tk83UjMXZP_c",
    "MgodIR_ZZP_d",
    "jP2Q5eGdZP_d",
    "67X51EUIZP_d",
    "xwMnIax_ZP_e",
    "pOxNYj-fZP_e",
    "Wx_F1m0jZP_f",
    "pZXeajctZP_f",
    "sA382AveZP_g",
    "zoy1sS_TZP_g",
    "oSqzzMznZP_g",
    "nqVBCHgSZP_h",
    "J-TV3mS5ZP_h",
    "9guV__JjZP_h",
    "xgCY4cSsZP_i",
    "mcbi75E0ZP_i",
    "cFSLnaLHZP_j",
    "Z_abf3SEZP_j",
    "y86n6-c2ZP_j",
    "-NzZdqbaZP_k",
    "T1Kx95fUZP_l",
    "XaZNtlCDZP_l",
    "mYV31pABZP_l",
    "2M-MZInzZP_m",
    "sM-87UnyZP_m",
    "J-JihhqoZP_n",
    "AgSc5R5tZP_n",
    "mkJpFgdpZP_o"
   ],
   "provenance": []
  },
  "kernelspec": {
   "display_name": "gies",
   "language": "python",
   "name": "python3"
  },
  "language_info": {
   "codemirror_mode": {
    "name": "ipython",
    "version": 3
   },
   "file_extension": ".py",
   "mimetype": "text/x-python",
   "name": "python",
   "nbconvert_exporter": "python",
   "pygments_lexer": "ipython3",
   "version": "3.12.6"
  }
 },
 "nbformat": 4,
 "nbformat_minor": 4
}
