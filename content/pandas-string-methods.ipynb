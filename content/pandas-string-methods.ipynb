{
 "cells": [
  {
   "cell_type": "markdown",
   "id": "07be8d1b",
   "metadata": {},
   "source": [
    "# Pandas String Methods\n",
    "\n",
    "While Pandas was initially developed for financial data analysis, it now provides robust support for string manipulation.\n",
    "\n",
    "These string methods allow for operations such as searching, replacing, splitting, and pattern matching using regular expressions.\n",
    "\n",
    "The string methods in Pandas are accessed through the `.str` accessor, which can be applied to Series and DataFrame columns containing string data. The operations are vectorized, meaning they can be applied to entire columns efficiently.\n",
    "\n",
    ":::{tip} What is the `.str` accessor?\n",
    "\n",
    "The `.str` accessor in Pandas is a way to access string methods for Series and DataFrame columns that contain string data. It allows you to perform vectorized string operations on entire columns without the need for explicit loops.\n",
    "\n",
    "For example, if you have a DataFrame `df` with a column `text_column`, you can use the `.str` accessor to apply string methods like this:\n",
    "\n",
    "```python\n",
    "df[\"text_column\"].str.upper()\n",
    "df[\"text_column\"].str.strip()\n",
    "df[\"text_column\"].str.contains(\"pattern\")\n",
    "df[\"text_column\"].str.replace(\"old\", \"new\")\n",
    "```\n",
    "\n",
    ":::\n",
    "\n",
    ":::{seealso} What does \"vectorized\" mean?\n",
    "\n",
    "Vectorized operations in Pandas refer to the ability to perform operations on entire arrays or Series of data at once, rather than iterating through individual elements. This leads to more efficient and faster computations, as the underlying libraries (like NumPy) are optimized for such operations.\n",
    "\n",
    "Non-vectorized operations, on the other hand, involve looping through each element one by one, which can be significantly slower, especially for large datasets.\n",
    "\n",
    "Generally speaking, using a `for` loop to iterate through rows in a DataFrame is an anti-pattern in Pandas. Instead, leveraging vectorized operations through methods like `.str` for string manipulation is the preferred approach.\n",
    "\n",
    ":::\n"
   ]
  },
  {
   "cell_type": "markdown",
   "id": "377a5510",
   "metadata": {},
   "source": [
    "▶️ Import `pandas` and `numpy`.\n"
   ]
  },
  {
   "cell_type": "code",
   "execution_count": 1,
   "id": "65dc377b",
   "metadata": {},
   "outputs": [],
   "source": [
    "import pandas as pd\n",
    "import numpy as np"
   ]
  },
  {
   "cell_type": "markdown",
   "id": "711918b1",
   "metadata": {},
   "source": [
    "---\n",
    "\n",
    "## 🧹 Clean Data using String Methods\n",
    "\n",
    "We will use a sample dataset containing course information to demonstrate various string methods in Pandas.\n"
   ]
  },
  {
   "cell_type": "markdown",
   "id": "e6258f30",
   "metadata": {},
   "source": [
    "▶️ Create a new `DataFrame` named `df_courses`.\n"
   ]
  },
  {
   "cell_type": "code",
   "execution_count": 2,
   "id": "6ce57636",
   "metadata": {},
   "outputs": [
    {
     "data": {
      "text/html": [
       "<div>\n",
       "<style scoped>\n",
       "    .dataframe tbody tr th:only-of-type {\n",
       "        vertical-align: middle;\n",
       "    }\n",
       "\n",
       "    .dataframe tbody tr th {\n",
       "        vertical-align: top;\n",
       "    }\n",
       "\n",
       "    .dataframe thead th {\n",
       "        text-align: right;\n",
       "    }\n",
       "</style>\n",
       "<table border=\"1\" class=\"dataframe\">\n",
       "  <thead>\n",
       "    <tr style=\"text-align: right;\">\n",
       "      <th></th>\n",
       "      <th>Course Code</th>\n",
       "      <th>Course Title</th>\n",
       "      <th>Semesters</th>\n",
       "    </tr>\n",
       "  </thead>\n",
       "  <tbody>\n",
       "    <tr>\n",
       "      <th>0</th>\n",
       "      <td>fin 221</td>\n",
       "      <td>Corporate Finance</td>\n",
       "      <td>Fall 2025</td>\n",
       "    </tr>\n",
       "    <tr>\n",
       "      <th>1</th>\n",
       "      <td>ACCY 301</td>\n",
       "      <td>Atg Measurement &amp; Disclosure</td>\n",
       "      <td>Fall_2025</td>\n",
       "    </tr>\n",
       "    <tr>\n",
       "      <th>2</th>\n",
       "      <td>BAdm 350</td>\n",
       "      <td>IT for Networked Orgs</td>\n",
       "      <td>Spring/2026</td>\n",
       "    </tr>\n",
       "    <tr>\n",
       "      <th>3</th>\n",
       "      <td>FIN 445</td>\n",
       "      <td>Real Estate Investment</td>\n",
       "      <td>Spring_2026</td>\n",
       "    </tr>\n",
       "  </tbody>\n",
       "</table>\n",
       "</div>"
      ],
      "text/plain": [
       "       Course Code                  Course Title    Semesters\n",
       "0        fin 221               Corporate Finance    Fall 2025\n",
       "1         ACCY 301  Atg Measurement & Disclosure    Fall_2025\n",
       "2         BAdm 350         IT for Networked Orgs  Spring/2026\n",
       "3    FIN 445              Real Estate Investment  Spring_2026"
      ]
     },
     "metadata": {},
     "output_type": "display_data"
    }
   ],
   "source": [
    "data = {\n",
    "    \"Course Code\": [\"      fin 221  \", \"ACCY 301\", \"      BAdm 350\", \"FIN 445      \"],\n",
    "    \"Course Title\": [\n",
    "        \"Corporate Finance\",\n",
    "        \"Atg Measurement & Disclosure\",\n",
    "        \"IT for Networked Orgs\",\n",
    "        \"Real Estate Investment\",\n",
    "    ],\n",
    "    \"Semesters\": [\"Fall 2025\", \"Fall_2025\", \"Spring/2026\", \"Spring_2026\"],\n",
    "}\n",
    "df_courses = pd.DataFrame(data)\n",
    "\n",
    "display(df_courses)"
   ]
  },
  {
   "cell_type": "markdown",
   "id": "6aa4c332",
   "metadata": {},
   "source": [
    "The `Course_Code` and `Semesters` columns contain inconsistent formatting, such as leading/trailing spaces and mixed case letters. We will use string methods to clean this data.\n"
   ]
  },
  {
   "cell_type": "markdown",
   "id": "d508d71e",
   "metadata": {},
   "source": [
    "### 🔠 Change Case\n",
    "\n",
    "It's common to standardize text by converting it to a consistent case.\n",
    "\n",
    "- `.str.lower()`: Converts all characters in the string to lowercase.\n",
    "- `.str.upper()`: Converts all characters in the string to uppercase.\n",
    "- `.str.title()`: Converts the first character of each word to uppercase and the rest to lowercase.\n",
    "- `.str.capitalize()`: Converts the first character of the string to uppercase and the rest to lowercase.\n"
   ]
  },
  {
   "cell_type": "markdown",
   "id": "477fd7a1",
   "metadata": {},
   "source": [
    "▶️ Use the `.str.upper()` method to convert all text in the `Course_Code` column to uppercase letters.\n"
   ]
  },
  {
   "cell_type": "code",
   "execution_count": 3,
   "id": "41eb3e79",
   "metadata": {},
   "outputs": [
    {
     "data": {
      "text/html": [
       "<div>\n",
       "<style scoped>\n",
       "    .dataframe tbody tr th:only-of-type {\n",
       "        vertical-align: middle;\n",
       "    }\n",
       "\n",
       "    .dataframe tbody tr th {\n",
       "        vertical-align: top;\n",
       "    }\n",
       "\n",
       "    .dataframe thead th {\n",
       "        text-align: right;\n",
       "    }\n",
       "</style>\n",
       "<table border=\"1\" class=\"dataframe\">\n",
       "  <thead>\n",
       "    <tr style=\"text-align: right;\">\n",
       "      <th></th>\n",
       "      <th>Course Code</th>\n",
       "      <th>Course Title</th>\n",
       "      <th>Semesters</th>\n",
       "    </tr>\n",
       "  </thead>\n",
       "  <tbody>\n",
       "    <tr>\n",
       "      <th>0</th>\n",
       "      <td>FIN 221</td>\n",
       "      <td>Corporate Finance</td>\n",
       "      <td>Fall 2025</td>\n",
       "    </tr>\n",
       "    <tr>\n",
       "      <th>1</th>\n",
       "      <td>ACCY 301</td>\n",
       "      <td>Atg Measurement &amp; Disclosure</td>\n",
       "      <td>Fall_2025</td>\n",
       "    </tr>\n",
       "    <tr>\n",
       "      <th>2</th>\n",
       "      <td>BADM 350</td>\n",
       "      <td>IT for Networked Orgs</td>\n",
       "      <td>Spring/2026</td>\n",
       "    </tr>\n",
       "    <tr>\n",
       "      <th>3</th>\n",
       "      <td>FIN 445</td>\n",
       "      <td>Real Estate Investment</td>\n",
       "      <td>Spring_2026</td>\n",
       "    </tr>\n",
       "  </tbody>\n",
       "</table>\n",
       "</div>"
      ],
      "text/plain": [
       "       Course Code                  Course Title    Semesters\n",
       "0        FIN 221               Corporate Finance    Fall 2025\n",
       "1         ACCY 301  Atg Measurement & Disclosure    Fall_2025\n",
       "2         BADM 350         IT for Networked Orgs  Spring/2026\n",
       "3    FIN 445              Real Estate Investment  Spring_2026"
      ]
     },
     "metadata": {},
     "output_type": "display_data"
    }
   ],
   "source": [
    "df_courses[\"Course Code\"] = df_courses[\"Course Code\"].str.upper()\n",
    "\n",
    "display(df_courses)"
   ]
  },
  {
   "cell_type": "markdown",
   "id": "ff524eb0",
   "metadata": {},
   "source": [
    "---\n",
    "\n",
    "### ↔️ Remove whitespace\n",
    "\n",
    "Text data often has extra whitespace that needs to be removed.\n",
    "\n",
    "- `.str.strip()`: Removes leading and trailing whitespace.\n",
    "- `.str.lstrip()`: Removes leading whitespace.\n",
    "- `.str.rstrip()`: Removes trailing whitespace.\n"
   ]
  },
  {
   "cell_type": "markdown",
   "id": "12c70a77",
   "metadata": {},
   "source": [
    "▶️ The `\"Course_Code\"` column has leading and trailing spaces. Use `.values` to print the raw values of the column.\n"
   ]
  },
  {
   "cell_type": "code",
   "execution_count": 4,
   "id": "d72453aa",
   "metadata": {},
   "outputs": [
    {
     "name": "stdout",
     "output_type": "stream",
     "text": [
      "Before removing whitespaces:\n"
     ]
    },
    {
     "data": {
      "text/plain": [
       "array(['      FIN 221  ', 'ACCY 301', '      BADM 350', 'FIN 445      '],\n",
       "      dtype=object)"
      ]
     },
     "execution_count": 4,
     "metadata": {},
     "output_type": "execute_result"
    }
   ],
   "source": [
    "print(\"Before removing whitespaces:\")\n",
    "df_courses[\"Course Code\"].values"
   ]
  },
  {
   "cell_type": "markdown",
   "id": "35b8c455",
   "metadata": {},
   "source": [
    "▶️ Use the `.str.strip()` method to remove leading and trailing whitespace from the `Course_Code` column.\n"
   ]
  },
  {
   "cell_type": "code",
   "execution_count": 5,
   "id": "a774e56d",
   "metadata": {},
   "outputs": [],
   "source": [
    "df_courses[\"Course Code\"] = df_courses[\"Course Code\"].str.strip()"
   ]
  },
  {
   "cell_type": "markdown",
   "id": "5dcc48d5",
   "metadata": {},
   "source": [
    "▶️ Check the cleaned values in the `Course_Code` column using `.values`.\n"
   ]
  },
  {
   "cell_type": "code",
   "execution_count": 6,
   "id": "785b3a2b",
   "metadata": {},
   "outputs": [
    {
     "name": "stdout",
     "output_type": "stream",
     "text": [
      "After removing whitespaces:\n"
     ]
    },
    {
     "data": {
      "text/plain": [
       "array(['FIN 221', 'ACCY 301', 'BADM 350', 'FIN 445'], dtype=object)"
      ]
     },
     "execution_count": 6,
     "metadata": {},
     "output_type": "execute_result"
    }
   ],
   "source": [
    "print(\"After removing whitespaces:\")\n",
    "df_courses[\"Course Code\"].values"
   ]
  },
  {
   "cell_type": "markdown",
   "id": "a736f018",
   "metadata": {},
   "source": [
    "---\n",
    "\n",
    "### 🔁 Replace Substrings\n",
    "\n",
    "The `\"Semesters\"` column uses inconsistent delimiters (`/` and `_`). We will standardize this by replacing these characters with a space.\n"
   ]
  },
  {
   "cell_type": "code",
   "execution_count": 7,
   "id": "8098b1ab",
   "metadata": {},
   "outputs": [
    {
     "data": {
      "text/html": [
       "<div>\n",
       "<style scoped>\n",
       "    .dataframe tbody tr th:only-of-type {\n",
       "        vertical-align: middle;\n",
       "    }\n",
       "\n",
       "    .dataframe tbody tr th {\n",
       "        vertical-align: top;\n",
       "    }\n",
       "\n",
       "    .dataframe thead th {\n",
       "        text-align: right;\n",
       "    }\n",
       "</style>\n",
       "<table border=\"1\" class=\"dataframe\">\n",
       "  <thead>\n",
       "    <tr style=\"text-align: right;\">\n",
       "      <th></th>\n",
       "      <th>Course Code</th>\n",
       "      <th>Course Title</th>\n",
       "      <th>Semesters</th>\n",
       "    </tr>\n",
       "  </thead>\n",
       "  <tbody>\n",
       "    <tr>\n",
       "      <th>0</th>\n",
       "      <td>FIN 221</td>\n",
       "      <td>Corporate Finance</td>\n",
       "      <td>Fall 2025</td>\n",
       "    </tr>\n",
       "    <tr>\n",
       "      <th>1</th>\n",
       "      <td>ACCY 301</td>\n",
       "      <td>Atg Measurement &amp; Disclosure</td>\n",
       "      <td>Fall 2025</td>\n",
       "    </tr>\n",
       "    <tr>\n",
       "      <th>2</th>\n",
       "      <td>BADM 350</td>\n",
       "      <td>IT for Networked Orgs</td>\n",
       "      <td>Spring 2026</td>\n",
       "    </tr>\n",
       "    <tr>\n",
       "      <th>3</th>\n",
       "      <td>FIN 445</td>\n",
       "      <td>Real Estate Investment</td>\n",
       "      <td>Spring 2026</td>\n",
       "    </tr>\n",
       "  </tbody>\n",
       "</table>\n",
       "</div>"
      ],
      "text/plain": [
       "  Course Code                  Course Title    Semesters\n",
       "0     FIN 221             Corporate Finance    Fall 2025\n",
       "1    ACCY 301  Atg Measurement & Disclosure    Fall 2025\n",
       "2    BADM 350         IT for Networked Orgs  Spring 2026\n",
       "3     FIN 445        Real Estate Investment  Spring 2026"
      ]
     },
     "metadata": {},
     "output_type": "display_data"
    }
   ],
   "source": [
    "df_courses[\"Semesters\"] = (\n",
    "    df_courses[\"Semesters\"].str.replace(\"/\", \" \").str.replace(\"_\", \" \")\n",
    ")\n",
    "\n",
    "display(df_courses)"
   ]
  },
  {
   "cell_type": "markdown",
   "id": "3f29cf25",
   "metadata": {},
   "source": [
    ":::{seealso} Why do we call `.str.replace()` twice in succession?\n",
    "\n",
    "The `.str.replace()` method in Pandas is used to replace occurrences of a specified substring with another substring. In this case, we are calling it twice in succession to handle two different delimiters that need to be replaced.\n",
    "\n",
    "This is called _chaining_ methods, and it allows us to apply multiple transformations in a single line of code. Each call to `.str.replace()` processes the result of the previous call.\n",
    "\n",
    "The two methods below achieve the same result:\n",
    "\n",
    "```python\n",
    "# Method 1 - Separate calls\n",
    "df[\"col\"] = df[\"col\"].str.replace(\"/\", \" \")\n",
    "df[\"col\"] = df[\"col\"].str.replace(\"_\", \" \")\n",
    "\n",
    "# Method 2 - Chained calls\n",
    "df[\"col\"] = df[\"col\"].str.replace(\"/\", \" \").str.replace(\"_\", \" \")\n",
    "```\n",
    "\n",
    "You can chain multiple string methods together to perform complex transformations in a concise manner. For example, we can chain all the string methods we've discussed so far:\n",
    "\n",
    "```python\n",
    "df[\"col\"] = df[\"col\"].str.upper().str.lower().str.replace(\"/\", \" \").str.replace(\"_\", \" \")\n",
    "```\n",
    "\n",
    ":::\n"
   ]
  },
  {
   "cell_type": "markdown",
   "id": "f29834bd",
   "metadata": {},
   "source": [
    "---\n",
    "\n",
    "### 🔍 Check for Substrings\n",
    "\n",
    "We can check if a substring exists within each string in a column using the `.str.contains()` method. This method returns a boolean Series indicating whether each string contains the specified substring.\n",
    "\n",
    "▶️ Use the `.str.contains()` method to indicate whether a course is a Finance course (i.e., if the `\"Course Code\"` contains the substring `\"FIN\"`). Store the result in a new column named `\"Is Finance\"`.\n"
   ]
  },
  {
   "cell_type": "code",
   "execution_count": 8,
   "id": "caf75443",
   "metadata": {},
   "outputs": [
    {
     "data": {
      "text/html": [
       "<div>\n",
       "<style scoped>\n",
       "    .dataframe tbody tr th:only-of-type {\n",
       "        vertical-align: middle;\n",
       "    }\n",
       "\n",
       "    .dataframe tbody tr th {\n",
       "        vertical-align: top;\n",
       "    }\n",
       "\n",
       "    .dataframe thead th {\n",
       "        text-align: right;\n",
       "    }\n",
       "</style>\n",
       "<table border=\"1\" class=\"dataframe\">\n",
       "  <thead>\n",
       "    <tr style=\"text-align: right;\">\n",
       "      <th></th>\n",
       "      <th>Course Code</th>\n",
       "      <th>Course Title</th>\n",
       "      <th>Semesters</th>\n",
       "      <th>Is Finance</th>\n",
       "    </tr>\n",
       "  </thead>\n",
       "  <tbody>\n",
       "    <tr>\n",
       "      <th>0</th>\n",
       "      <td>FIN 221</td>\n",
       "      <td>Corporate Finance</td>\n",
       "      <td>Fall 2025</td>\n",
       "      <td>True</td>\n",
       "    </tr>\n",
       "    <tr>\n",
       "      <th>1</th>\n",
       "      <td>ACCY 301</td>\n",
       "      <td>Atg Measurement &amp; Disclosure</td>\n",
       "      <td>Fall 2025</td>\n",
       "      <td>False</td>\n",
       "    </tr>\n",
       "    <tr>\n",
       "      <th>2</th>\n",
       "      <td>BADM 350</td>\n",
       "      <td>IT for Networked Orgs</td>\n",
       "      <td>Spring 2026</td>\n",
       "      <td>False</td>\n",
       "    </tr>\n",
       "    <tr>\n",
       "      <th>3</th>\n",
       "      <td>FIN 445</td>\n",
       "      <td>Real Estate Investment</td>\n",
       "      <td>Spring 2026</td>\n",
       "      <td>True</td>\n",
       "    </tr>\n",
       "  </tbody>\n",
       "</table>\n",
       "</div>"
      ],
      "text/plain": [
       "  Course Code                  Course Title    Semesters  Is Finance\n",
       "0     FIN 221             Corporate Finance    Fall 2025        True\n",
       "1    ACCY 301  Atg Measurement & Disclosure    Fall 2025       False\n",
       "2    BADM 350         IT for Networked Orgs  Spring 2026       False\n",
       "3     FIN 445        Real Estate Investment  Spring 2026        True"
      ]
     },
     "metadata": {},
     "output_type": "display_data"
    }
   ],
   "source": [
    "df_courses[\"Is Finance\"] = df_courses[\"Course Code\"].str.contains(\"FIN\")\n",
    "\n",
    "display(df_courses)"
   ]
  },
  {
   "cell_type": "markdown",
   "id": "6b61d256",
   "metadata": {},
   "source": [
    "---\n",
    "\n",
    "## 📚 List of `.str` Methods\n",
    "\n",
    "Here are some commonly used string methods available through the `.str` accessor in Pandas. You will not need to memorize all of these, but it's useful to be familiar with them and know where to find this reference.\n",
    "\n",
    "| Method                                       | Description                                                                                                     | Example Usage                                      |\n",
    "| -------------------------------------------- | --------------------------------------------------------------------------------------------------------------- | -------------------------------------------------- |\n",
    "| `.str.lower()`                               | Converts all characters in the string to lowercase                                                              | `df[\"col\"].str.lower()`                            |\n",
    "| `.str.upper()`                               | Converts all characters in the string to uppercase                                                              | `df[\"col\"].str.upper()`                            |\n",
    "| `.str.title()`                               | Converts the first character of each word to uppercase and the rest                                             | `df[\"col\"].str.title()`                            |\n",
    "| `.str.capitalize()`                          | Converts the first character of the string to uppercase and the rest to lowercase                               | `df[\"col\"].str.capitalize()`                       |\n",
    "| `.str.strip()`                               | Removes leading and trailing whitespace                                                                         | `df[\"col\"].str.strip()`                            |\n",
    "| `.str.lstrip()`                              | Removes leading whitespace                                                                                      | `df[\"col\"].str.lstrip()`                           |\n",
    "| `.str.rstrip()`                              | Removes trailing whitespace                                                                                     | `df[\"col\"].str.rstrip()`                           |\n",
    "| `.str.replace(old, new)`                     | Replaces occurrences of a substring with another substring                                                      | `df[\"col\"].str.replace(\"old\", \"new\")`              |\n",
    "| `.str.contains(substring)`                   | Checks if the string contains a specified substring. Returns a boolean Series                                   | `df[\"col\"].str.contains(\"pattern\")`                |\n",
    "| `.str.startswith(prefix)`                    | Checks if the string starts with a specified prefix. Returns a boolean Series                                   | `df[\"col\"].str.startswith(\"prefix\")`               |\n",
    "| `.str.endswith(suffix)`                      | Checks if the string ends with a specified suffix. Returns a boolean Series                                     | `df[\"col\"].str.endswith(\"suffix\")`                 |\n",
    "| `.str.len()`                                 | Returns the length of each string in the Series                                                                 | `df[\"col\"].str.len()`                              |\n",
    "| `.str.split(delimiter)`                      | Splits each string by the specified delimiter and returns a list of substrings                                  | `df[\"col\"].str.split(\",\")`                         |\n",
    "| `.str.join(delimiter)`                       | Joins lists of strings in each element of the Series into a single string, separated by the specified delimiter | `df[\"col\"].str.join(\",\")`                          |\n",
    "| `.str.extract(pattern)`                      | Extracts groups from the first match of a regular expression pattern                                            | `df[\"col\"].str.extract(r\"(\\\\d+)\")`                 |\n",
    "| `.str.pad(width, side='left', fillchar=' ')` | Pads strings to a specified width with a specified character                                                    | `df[\"col\"].str.pad(10, side='left', fillchar='0')` |\n",
    "| `.str.zfill(width)`                          | Pads strings on the left with zeros to a specified width                                                        | `df[\"col\"].str.zfill(5)`                           |\n"
   ]
  },
  {
   "cell_type": "markdown",
   "id": "47a2856b",
   "metadata": {},
   "source": [
    "---\n",
    "\n",
    "## 🧵 Using Regular Expression to Extract Information\n",
    "\n",
    "A regular expression (regex or regexp for short) is a sequence of characters that forms a search pattern. It can be used for string matching, extraction, and manipulation.\n",
    "\n",
    "Regexs are powerful tools for pattern matching and text processing. They allow you to define complex search patterns using a combination of literal characters and special symbols. Although it may seem complex at first, mastering regex can greatly enhance your ability to work with text data.\n",
    "\n",
    "Pandas string methods support regex for advanced string operations. For example, you can use regex patterns with methods like `.str.contains()`, `.str.replace()`, and `.str.extract()` to perform sophisticated text manipulations.\n",
    "\n",
    "In this example, we will extract course information from a single string column.\n",
    "\n",
    ":::{warning} This example is complicated!\n",
    "\n",
    "The goal is to expose you to the idea of using regex with Pandas string methods, and to demonstrate how powerful they can be. **You do not need to memorize the regex pattern or understand the details of how it works**. Even experienced programmers often look up regex patterns when they need to use them.\n",
    "\n",
    ":::\n"
   ]
  },
  {
   "cell_type": "markdown",
   "id": "5a70ca01",
   "metadata": {},
   "source": [
    "▶️ Create a new `DataFrame` named `df_info`.\n"
   ]
  },
  {
   "cell_type": "code",
   "execution_count": 9,
   "id": "f96f4a15",
   "metadata": {},
   "outputs": [
    {
     "data": {
      "text/html": [
       "<div>\n",
       "<style scoped>\n",
       "    .dataframe tbody tr th:only-of-type {\n",
       "        vertical-align: middle;\n",
       "    }\n",
       "\n",
       "    .dataframe tbody tr th {\n",
       "        vertical-align: top;\n",
       "    }\n",
       "\n",
       "    .dataframe thead th {\n",
       "        text-align: right;\n",
       "    }\n",
       "</style>\n",
       "<table border=\"1\" class=\"dataframe\">\n",
       "  <thead>\n",
       "    <tr style=\"text-align: right;\">\n",
       "      <th></th>\n",
       "      <th>Course Title</th>\n",
       "    </tr>\n",
       "  </thead>\n",
       "  <tbody>\n",
       "    <tr>\n",
       "      <th>0</th>\n",
       "      <td>CS 124: Introduction to Computer Science</td>\n",
       "    </tr>\n",
       "    <tr>\n",
       "      <th>1</th>\n",
       "      <td>FIN221 - Corporate Finance</td>\n",
       "    </tr>\n",
       "    <tr>\n",
       "      <th>2</th>\n",
       "      <td>PSYC 100-Introduction to Psychology</td>\n",
       "    </tr>\n",
       "    <tr>\n",
       "      <th>3</th>\n",
       "      <td>MATH285 Intro to Differential Equations</td>\n",
       "    </tr>\n",
       "  </tbody>\n",
       "</table>\n",
       "</div>"
      ],
      "text/plain": [
       "                               Course Title\n",
       "0  CS 124: Introduction to Computer Science\n",
       "1                FIN221 - Corporate Finance\n",
       "2       PSYC 100-Introduction to Psychology\n",
       "3   MATH285 Intro to Differential Equations"
      ]
     },
     "metadata": {},
     "output_type": "display_data"
    }
   ],
   "source": [
    "df_info = pd.DataFrame(\n",
    "    {\n",
    "        \"Course Title\": [\n",
    "            \"CS 124: Introduction to Computer Science\",\n",
    "            \"FIN221 - Corporate Finance\",\n",
    "            \"PSYC 100-Introduction to Psychology\",\n",
    "            \"MATH285 Intro to Differential Equations\",\n",
    "        ]\n",
    "    }\n",
    ")\n",
    "\n",
    "display(df_info)"
   ]
  },
  {
   "cell_type": "markdown",
   "id": "b2cf5b82",
   "metadata": {},
   "source": [
    "We need to define a pattern with \"capture groups\" (sections enclosed in parentheses ()) for each piece of information we want to extract.\n",
    "\n",
    "Here's the pattern we'll use: `^([A-Z]{2,4})\\s?(\\d{3})\\s?[:-]?\\s?(.*)$`\n",
    "\n",
    "Let's break that down:\n",
    "\n",
    "- `^`: Asserts the start of the string.\n",
    "- `([A-Z]{2,4})`: **(Capture Group 1)** Matches and captures 2 to 4 uppercase letters (the department code, like \"CS\" or \"MATH\").\n",
    "- `\\s?`: Matches an optional single whitespace character.\n",
    "- `(\\d{3})`: **(Capture Group 2)** Matches and captures exactly 3 digits (the course number, like \"124\" or \"221\").\n",
    "- `\\s?[:-]?\\s?`: Matches an optional separator, which could be a space, a colon :, or a hyphen -.\n",
    "- `(.*)`: **(Capture Group 3)** Matches and captures all remaining characters in the string (the course title).\n",
    "- `$`: Asserts the end of the string.\n"
   ]
  },
  {
   "cell_type": "code",
   "execution_count": 10,
   "id": "d97fffa9",
   "metadata": {},
   "outputs": [
    {
     "data": {
      "text/html": [
       "<div>\n",
       "<style scoped>\n",
       "    .dataframe tbody tr th:only-of-type {\n",
       "        vertical-align: middle;\n",
       "    }\n",
       "\n",
       "    .dataframe tbody tr th {\n",
       "        vertical-align: top;\n",
       "    }\n",
       "\n",
       "    .dataframe thead th {\n",
       "        text-align: right;\n",
       "    }\n",
       "</style>\n",
       "<table border=\"1\" class=\"dataframe\">\n",
       "  <thead>\n",
       "    <tr style=\"text-align: right;\">\n",
       "      <th></th>\n",
       "      <th>Course Title</th>\n",
       "      <th>Dept</th>\n",
       "      <th>Number</th>\n",
       "      <th>Title</th>\n",
       "    </tr>\n",
       "  </thead>\n",
       "  <tbody>\n",
       "    <tr>\n",
       "      <th>0</th>\n",
       "      <td>CS 124: Introduction to Computer Science</td>\n",
       "      <td>CS</td>\n",
       "      <td>124</td>\n",
       "      <td>Introduction to Computer Science</td>\n",
       "    </tr>\n",
       "    <tr>\n",
       "      <th>1</th>\n",
       "      <td>FIN221 - Corporate Finance</td>\n",
       "      <td>FIN</td>\n",
       "      <td>221</td>\n",
       "      <td>Corporate Finance</td>\n",
       "    </tr>\n",
       "    <tr>\n",
       "      <th>2</th>\n",
       "      <td>PSYC 100-Introduction to Psychology</td>\n",
       "      <td>PSYC</td>\n",
       "      <td>100</td>\n",
       "      <td>Introduction to Psychology</td>\n",
       "    </tr>\n",
       "    <tr>\n",
       "      <th>3</th>\n",
       "      <td>MATH285 Intro to Differential Equations</td>\n",
       "      <td>MATH</td>\n",
       "      <td>285</td>\n",
       "      <td>Intro to Differential Equations</td>\n",
       "    </tr>\n",
       "  </tbody>\n",
       "</table>\n",
       "</div>"
      ],
      "text/plain": [
       "                               Course Title  Dept Number  \\\n",
       "0  CS 124: Introduction to Computer Science    CS    124   \n",
       "1                FIN221 - Corporate Finance   FIN    221   \n",
       "2       PSYC 100-Introduction to Psychology  PSYC    100   \n",
       "3   MATH285 Intro to Differential Equations  MATH    285   \n",
       "\n",
       "                              Title  \n",
       "0  Introduction to Computer Science  \n",
       "1                 Corporate Finance  \n",
       "2        Introduction to Psychology  \n",
       "3   Intro to Differential Equations  "
      ]
     },
     "metadata": {},
     "output_type": "display_data"
    }
   ],
   "source": [
    "# Define the regex pattern with capture groups\n",
    "pattern = r\"^([A-Z]{2,4})\\s?(\\d{3})\\s?[:-]?\\s?(.*)$\"\n",
    "\n",
    "# Apply the .extract() method\n",
    "df_info[[\"Dept\", \"Number\", \"Title\"]] = df_info[\"Course Title\"].str.extract(pattern)\n",
    "\n",
    "display(df_info)"
   ]
  }
 ],
 "metadata": {
  "kernelspec": {
   "display_name": "gies",
   "language": "python",
   "name": "python3"
  },
  "language_info": {
   "codemirror_mode": {
    "name": "ipython",
    "version": 3
   },
   "file_extension": ".py",
   "mimetype": "text/x-python",
   "name": "python",
   "nbconvert_exporter": "python",
   "pygments_lexer": "ipython3",
   "version": "3.12.6"
  }
 },
 "nbformat": 4,
 "nbformat_minor": 5
}
