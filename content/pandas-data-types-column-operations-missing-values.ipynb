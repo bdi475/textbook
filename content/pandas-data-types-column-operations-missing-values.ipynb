{
 "cells": [
  {
   "cell_type": "markdown",
   "metadata": {
    "id": "znpt9QdbdxtK"
   },
   "source": [
    "# Pandas Data Types, Column Operations, and Missing Values\n"
   ]
  },
  {
   "cell_type": "markdown",
   "metadata": {
    "id": "BLAgknPNdxtM"
   },
   "source": [
    "▶️ Import `pandas` and `numpy`.\n"
   ]
  },
  {
   "cell_type": "code",
   "execution_count": 1,
   "metadata": {
    "id": "FhImrAevdxtN"
   },
   "outputs": [],
   "source": [
    "import pandas as pd\n",
    "import numpy as np"
   ]
  },
  {
   "cell_type": "markdown",
   "metadata": {},
   "source": [
    "▶️ Create a `DataFrame` named `df_emp` with the following data:\n"
   ]
  },
  {
   "cell_type": "code",
   "execution_count": 2,
   "metadata": {
    "id": "YnK3Qwo5dxtR",
    "nbgrader": {
     "grade": true,
     "grade_id": "challenge-01",
     "locked": true,
     "points": "1",
     "solution": false
    }
   },
   "outputs": [
    {
     "data": {
      "text/html": [
       "<div>\n",
       "<style scoped>\n",
       "    .dataframe tbody tr th:only-of-type {\n",
       "        vertical-align: middle;\n",
       "    }\n",
       "\n",
       "    .dataframe tbody tr th {\n",
       "        vertical-align: top;\n",
       "    }\n",
       "\n",
       "    .dataframe thead th {\n",
       "        text-align: right;\n",
       "    }\n",
       "</style>\n",
       "<table border=\"1\" class=\"dataframe\">\n",
       "  <thead>\n",
       "    <tr style=\"text-align: right;\">\n",
       "      <th></th>\n",
       "      <th>emp_id</th>\n",
       "      <th>name</th>\n",
       "      <th>dept</th>\n",
       "      <th>office_phone</th>\n",
       "      <th>start_date</th>\n",
       "      <th>salary</th>\n",
       "    </tr>\n",
       "  </thead>\n",
       "  <tbody>\n",
       "    <tr>\n",
       "      <th>0</th>\n",
       "      <td>30</td>\n",
       "      <td>Colby</td>\n",
       "      <td>Sales</td>\n",
       "      <td>(217)123-4500</td>\n",
       "      <td>2017-05-01</td>\n",
       "      <td>202000</td>\n",
       "    </tr>\n",
       "    <tr>\n",
       "      <th>1</th>\n",
       "      <td>40</td>\n",
       "      <td>Adam</td>\n",
       "      <td>Marketing</td>\n",
       "      <td>NaN</td>\n",
       "      <td>2018-02-01</td>\n",
       "      <td>185000</td>\n",
       "    </tr>\n",
       "    <tr>\n",
       "      <th>2</th>\n",
       "      <td>10</td>\n",
       "      <td>Eli</td>\n",
       "      <td>Sales</td>\n",
       "      <td>NaN</td>\n",
       "      <td>2020-08-01</td>\n",
       "      <td>240000</td>\n",
       "    </tr>\n",
       "    <tr>\n",
       "      <th>3</th>\n",
       "      <td>20</td>\n",
       "      <td>Dylan</td>\n",
       "      <td>Marketing</td>\n",
       "      <td>(217)987-6543</td>\n",
       "      <td>2019-12-01</td>\n",
       "      <td>160500</td>\n",
       "    </tr>\n",
       "  </tbody>\n",
       "</table>\n",
       "</div>"
      ],
      "text/plain": [
       "   emp_id   name       dept   office_phone  start_date  salary\n",
       "0      30  Colby      Sales  (217)123-4500  2017-05-01  202000\n",
       "1      40   Adam  Marketing            NaN  2018-02-01  185000\n",
       "2      10    Eli      Sales            NaN  2020-08-01  240000\n",
       "3      20  Dylan  Marketing  (217)987-6543  2019-12-01  160500"
      ]
     },
     "execution_count": 2,
     "metadata": {},
     "output_type": "execute_result"
    }
   ],
   "source": [
    "df_emp = pd.DataFrame(\n",
    "    {\n",
    "        \"emp_id\": [30, 40, 10, 20],\n",
    "        \"name\": [\"Colby\", \"Adam\", \"Eli\", \"Dylan\"],\n",
    "        \"dept\": [\"Sales\", \"Marketing\", \"Sales\", \"Marketing\"],\n",
    "        \"office_phone\": [\"(217)123-4500\", np.nan, np.nan, \"(217)987-6543\"],\n",
    "        \"start_date\": [\"2017-05-01\", \"2018-02-01\", \"2020-08-01\", \"2019-12-01\"],\n",
    "        \"salary\": [202000, 185000, 240000, 160500],\n",
    "    }\n",
    ")\n",
    "\n",
    "# Used for intermediate checks\n",
    "df_emp_backup = df_emp.copy()\n",
    "\n",
    "df_emp"
   ]
  },
  {
   "cell_type": "markdown",
   "metadata": {
    "id": "pBpqGW4Qdxtc"
   },
   "source": [
    "---\n",
    "\n",
    "## 🧮 NumPy and Pandas Data Types\n",
    "\n",
    "Pandas is built on top of NumPy, a powerful library for numerical computing in Python. As a result, many of the data types in Pandas are derived from NumPy's `ndarray` and its data types (`dtypes`). This means that you can expect similar behavior and performance characteristics when working with data in Pandas.\n",
    "\n",
    "### 🔮 NumPy Data Types\n",
    "\n",
    "Here are some of the most commonly used data types in NumPy:\n",
    "\n",
    "1. 🔢 Numeric Types\n",
    "   - **Signed integers**: `int8`, `int16`, `int32`, `int64`\n",
    "   - **Unsigned integers**: `uint8`, `uint16`, `uint32`, `uint64`\n",
    "   - **Floating point**: `float16`, `float32`, `float64`, etc.\n",
    "2. 🚦 Boolean type\n",
    "   - **Boolean**: `bool_`\n",
    "3. 📝 String (Text)\n",
    "   - **Fixed-length Unicode (string)**: `str_` or `U` (e.g., `U20` for 20-character string)\n",
    "   - **Fixed-length bytes (string)**: `bytes_` or `S` (e.g., `S10` for 10-byte string)\n",
    "4. 📅 Datetime and Timedelta\n",
    "   - **Dates and times**: `datetime64` with various precisions (`[Y, M, D, h, m, s, ms, us, ns]`)\n",
    "   - **Time differences**: `timedelta64`\n",
    "\n",
    ":::{seealso} Why are there different numbers after the data types (e.g., `int8`, `int16`, `float32`)?\n",
    "\n",
    "The numbers indicate the number of bits used to represent the data type. For example, `int8` uses 8 bits (1 byte) for storage, while `int32` uses 32 bits (4 bytes). This allows for a trade-off between memory usage and the range of values that can be represented.\n",
    "\n",
    "This was particularly important in the early days of computing when memory was limited. If you have experience with low-level programming (like C or C++), you may have encountered situations where choosing the right data type was crucial for performance. Today, it still matters for performance and memory efficiency, especially when working with large datasets.\n",
    "\n",
    "Although you may not need to worry about these details in everyday programming, understanding them can help you write more efficient code when working with large arrays or datasets.\n",
    "\n",
    ":::\n",
    "\n",
    "You can check the `dtype` of a NumPy array using the `.dtype` attribute:\n",
    "\n",
    "```python\n",
    "import numpy as np\n",
    "\n",
    "a = np.array([1, 2, 3], dtype=np.int16)\n",
    "print(a.dtype)   # int16\n",
    "```\n"
   ]
  },
  {
   "cell_type": "markdown",
   "metadata": {
    "id": "jx9Fuxrodxtc"
   },
   "source": [
    "You can check the data types of each column using the `dtypes` property.\n"
   ]
  },
  {
   "cell_type": "markdown",
   "metadata": {},
   "source": [
    "---\n",
    "\n",
    "### 🐼 Pandas Data Types\n",
    "\n",
    "Pandas extend NumPy's type systems. This means that you can use many of the same data types in Pandas that you would use in NumPy, and vice versa.\n",
    "\n",
    "The main difference is that Pandas also provides some additional data types that are specific to Pandas.\n",
    "\n",
    "Here are the most important additional `dtypes` pandas introduces:\n",
    "\n",
    "1. 📦 `object` dtype (legacy, but important)\n",
    "   - A \"catch-all\" type for mixed or non-numeric data\n",
    "   - Commonly used for strings in older pandas versions\n",
    "   - Backed by generic Python objects\n",
    "2. 📝 StringDType (`string`)\n",
    "   - Introduced to replace `object` for text\n",
    "   - A dedicated string type introduced in pandas 1.0\n",
    "   - More efficient and consistent than `object` for text data\n",
    "   - Supports missing values (NA) natively\n",
    "   - `codes = pd.Series([\"ACCY\", \"FIN\", \"BDI\", None], dtype=\"string\")`\n",
    "3. 🗂️ CategoricalDType (`category`)\n",
    "   - For categorical data with a fixed number of possible values\n",
    "   - More memory-efficient than using `object` or `string` for repeated values\n",
    "   - Stores data as integer codes with a mapping to the actual categories\n",
    "   - `standing = pd.Series([\"freshman\", \"sophomore\", \"junior\", \"senior\"], dtype=\"category\")`\n",
    "4. 🚦 Nullable Boolean (`boolean`)\n",
    "   - A boolean type that supports missing values (NA)\n",
    "   - Different from the standard `bool` type, which does not support NA\n",
    "   - `is_enrolled = pd.Series([True, False, None, True], dtype=\"boolean\")`\n",
    "5. 🔢 Nullable Integer (`Int64`, `Int32`, etc.)\n",
    "   - Integer types that support missing values (NA)\n",
    "   - Different from standard NumPy integer types, which do not support NA\n",
    "   - `credits = pd.Series([84, 99, None, 120], dtype=\"Int64\")`\n",
    "6. 📅 Datetime with Timezone (`datetime64[ns, tz]`)\n",
    "   - Datetime type that includes timezone information\n",
    "   - Useful for handling time series data across different time zones\n",
    "   - `enrollment_date = pd.Series([\"2025-09-01\", \"2025-08-24\", None, \"2025-08-03\"], dtype=\"datetime64[ns, US/Central]\")`\n",
    "7. ⏰ PeriodDType (`period`)\n",
    "   - For representing time periods (e.g., months, quarters)\n",
    "   - Useful for time series analysis\n",
    "   - `period = pd.Series(pd.period_range(\"2024-01\", periods=4, freq=\"Q\"))`\n",
    "\n",
    "Please refer to the [relevant Pandas documentation page](https://pandas.pydata.org/docs/user_guide/basics.html#dtypes) for the list of all extension types.\n"
   ]
  },
  {
   "cell_type": "code",
   "execution_count": 3,
   "metadata": {
    "colab": {
     "base_uri": "https://localhost:8080/"
    },
    "id": "o96fg8-9dxtc",
    "outputId": "4531ea95-c7c4-429a-adc9-2dffba798155"
   },
   "outputs": [
    {
     "data": {
      "text/plain": [
       "emp_id           int64\n",
       "name            object\n",
       "dept            object\n",
       "office_phone    object\n",
       "start_date      object\n",
       "salary           int64\n",
       "dtype: object"
      ]
     },
     "execution_count": 3,
     "metadata": {},
     "output_type": "execute_result"
    }
   ],
   "source": [
    "df_emp.dtypes"
   ]
  },
  {
   "cell_type": "markdown",
   "metadata": {
    "id": "RZ8AAme0dxtc"
   },
   "source": [
    "To retrieve the data type of a column (`Series`), access the `dtype` property.\n"
   ]
  },
  {
   "cell_type": "code",
   "execution_count": 4,
   "metadata": {
    "colab": {
     "base_uri": "https://localhost:8080/",
     "height": 35
    },
    "id": "zQ5YRApQdxtc",
    "outputId": "e2908b44-311a-49f4-c203-0de26bb63226"
   },
   "outputs": [
    {
     "data": {
      "text/plain": [
       "'object'"
      ]
     },
     "execution_count": 4,
     "metadata": {},
     "output_type": "execute_result"
    }
   ],
   "source": [
    "str(df_emp[\"name\"].dtype)"
   ]
  },
  {
   "cell_type": "markdown",
   "metadata": {
    "id": "I3OQ0n9Fdxtd"
   },
   "source": [
    ":::{seealso} String Data Type in Pandas\n",
    "\n",
    "Note that the older versions of Pandas did not have a dedicated `string` type and stored strings as `object`s.\n",
    "\n",
    "To improve performance and consistency, Pandas 1.0 introduced the `StringDtype` to provide a more efficient way to store and manipulate string data. This is especially useful for large datasets with many string entries, as it can help reduce memory usage and improve performance for string operations.\n",
    "\n",
    "By default, when you create a `DataFrame` or `Series` with string data, Pandas will use the `object` dtype. However, you can explicitly specify the `StringDtype` when creating a `DataFrame` or `Series` if you want to take advantage of its benefits.\n",
    "\n",
    "```python\n",
    "s = pd.Series([\"Business\", \"Data\", \"Innovation\"], dtype=\"string\")\n",
    "print(s.dtype)  # string\n",
    "```\n",
    "\n",
    ":::\n"
   ]
  },
  {
   "cell_type": "markdown",
   "metadata": {},
   "source": [
    "---\n",
    "\n",
    "## 🧰 Pandas Column Operations\n",
    "\n",
    "Pandas provides a wide range of operations for manipulating columns in a DataFrame. Here are some common column operations you can perform:\n",
    "\n",
    "| Operation                   | Code Example                            | Description                                  |\n",
    "| --------------------------- | --------------------------------------- | -------------------------------------------- |\n",
    "| **Select single column**    | `df[\"col1\"]`                            | Returns a `Series` for the column            |\n",
    "| **Select multiple columns** | `df[[\"col1\", \"col2\"]]`                  | Returns a `DataFrame` with chosen columns    |\n",
    "| **Rename columns**          | `df.rename(columns={\"old\": \"new\"})`     | Rename columns using a mapping dictionary    |\n",
    "| **Drop columns**            | `df.drop(columns=[\"col1\", \"col2\"])`     | Remove one or more columns from DataFrame    |\n",
    "| **Add new column**          | `df[\"total\"] = df[\"price\"] * df[\"qty\"]` | Create a new column from existing ones       |\n",
    "| **Reorder columns**         | `df = df[[\"col3\", \"col1\", \"col2\"]]`     | Rearrange column order manually              |\n",
    "| **Change dtype**            | `df[\"age\"] = df[\"age\"].astype(int)`     | Convert a column’s data type                 |\n",
    "| **Rename all columns**      | `df.columns = df.columns.str.upper()`   | Apply transformation to all column names     |\n",
    "| **Select by index**         | `df.iloc[:, [0, 2]]`                    | Select columns by their position (1st & 3rd) |\n"
   ]
  },
  {
   "cell_type": "markdown",
   "metadata": {},
   "source": [
    "---\n",
    "\n",
    "### 🧲 Select Subset of Columns\n",
    "\n",
    "You can select a subset of columns from a DataFrame using either the bracket notation `df[]` or the `.loc[]` accessor.\n",
    "\n",
    "Selecting a single column returns a `Series`.\n"
   ]
  },
  {
   "cell_type": "code",
   "execution_count": 5,
   "metadata": {},
   "outputs": [
    {
     "data": {
      "text/plain": [
       "0    Colby\n",
       "1     Adam\n",
       "2      Eli\n",
       "3    Dylan\n",
       "Name: name, dtype: object"
      ]
     },
     "execution_count": 5,
     "metadata": {},
     "output_type": "execute_result"
    }
   ],
   "source": [
    "df_emp[\"name\"]"
   ]
  },
  {
   "cell_type": "code",
   "execution_count": 6,
   "metadata": {},
   "outputs": [
    {
     "data": {
      "text/plain": [
       "0    Colby\n",
       "1     Adam\n",
       "2      Eli\n",
       "3    Dylan\n",
       "Name: name, dtype: object"
      ]
     },
     "execution_count": 6,
     "metadata": {},
     "output_type": "execute_result"
    }
   ],
   "source": [
    "df_emp.loc[:, \"name\"]"
   ]
  },
  {
   "cell_type": "code",
   "execution_count": 7,
   "metadata": {},
   "outputs": [
    {
     "data": {
      "text/plain": [
       "pandas.core.series.Series"
      ]
     },
     "execution_count": 7,
     "metadata": {},
     "output_type": "execute_result"
    }
   ],
   "source": [
    "type(df_emp[\"name\"])"
   ]
  },
  {
   "cell_type": "markdown",
   "metadata": {},
   "source": [
    "Selecting multiple columns returns a `DataFrame`.\n"
   ]
  },
  {
   "cell_type": "code",
   "execution_count": 8,
   "metadata": {},
   "outputs": [
    {
     "data": {
      "text/html": [
       "<div>\n",
       "<style scoped>\n",
       "    .dataframe tbody tr th:only-of-type {\n",
       "        vertical-align: middle;\n",
       "    }\n",
       "\n",
       "    .dataframe tbody tr th {\n",
       "        vertical-align: top;\n",
       "    }\n",
       "\n",
       "    .dataframe thead th {\n",
       "        text-align: right;\n",
       "    }\n",
       "</style>\n",
       "<table border=\"1\" class=\"dataframe\">\n",
       "  <thead>\n",
       "    <tr style=\"text-align: right;\">\n",
       "      <th></th>\n",
       "      <th>name</th>\n",
       "      <th>dept</th>\n",
       "    </tr>\n",
       "  </thead>\n",
       "  <tbody>\n",
       "    <tr>\n",
       "      <th>0</th>\n",
       "      <td>Colby</td>\n",
       "      <td>Sales</td>\n",
       "    </tr>\n",
       "    <tr>\n",
       "      <th>1</th>\n",
       "      <td>Adam</td>\n",
       "      <td>Marketing</td>\n",
       "    </tr>\n",
       "    <tr>\n",
       "      <th>2</th>\n",
       "      <td>Eli</td>\n",
       "      <td>Sales</td>\n",
       "    </tr>\n",
       "    <tr>\n",
       "      <th>3</th>\n",
       "      <td>Dylan</td>\n",
       "      <td>Marketing</td>\n",
       "    </tr>\n",
       "  </tbody>\n",
       "</table>\n",
       "</div>"
      ],
      "text/plain": [
       "    name       dept\n",
       "0  Colby      Sales\n",
       "1   Adam  Marketing\n",
       "2    Eli      Sales\n",
       "3  Dylan  Marketing"
      ]
     },
     "execution_count": 8,
     "metadata": {},
     "output_type": "execute_result"
    }
   ],
   "source": [
    "df_emp[[\"name\", \"dept\"]]"
   ]
  },
  {
   "cell_type": "code",
   "execution_count": 9,
   "metadata": {},
   "outputs": [
    {
     "data": {
      "text/html": [
       "<div>\n",
       "<style scoped>\n",
       "    .dataframe tbody tr th:only-of-type {\n",
       "        vertical-align: middle;\n",
       "    }\n",
       "\n",
       "    .dataframe tbody tr th {\n",
       "        vertical-align: top;\n",
       "    }\n",
       "\n",
       "    .dataframe thead th {\n",
       "        text-align: right;\n",
       "    }\n",
       "</style>\n",
       "<table border=\"1\" class=\"dataframe\">\n",
       "  <thead>\n",
       "    <tr style=\"text-align: right;\">\n",
       "      <th></th>\n",
       "      <th>name</th>\n",
       "      <th>dept</th>\n",
       "    </tr>\n",
       "  </thead>\n",
       "  <tbody>\n",
       "    <tr>\n",
       "      <th>0</th>\n",
       "      <td>Colby</td>\n",
       "      <td>Sales</td>\n",
       "    </tr>\n",
       "    <tr>\n",
       "      <th>1</th>\n",
       "      <td>Adam</td>\n",
       "      <td>Marketing</td>\n",
       "    </tr>\n",
       "    <tr>\n",
       "      <th>2</th>\n",
       "      <td>Eli</td>\n",
       "      <td>Sales</td>\n",
       "    </tr>\n",
       "    <tr>\n",
       "      <th>3</th>\n",
       "      <td>Dylan</td>\n",
       "      <td>Marketing</td>\n",
       "    </tr>\n",
       "  </tbody>\n",
       "</table>\n",
       "</div>"
      ],
      "text/plain": [
       "    name       dept\n",
       "0  Colby      Sales\n",
       "1   Adam  Marketing\n",
       "2    Eli      Sales\n",
       "3  Dylan  Marketing"
      ]
     },
     "execution_count": 9,
     "metadata": {},
     "output_type": "execute_result"
    }
   ],
   "source": [
    "df_emp.loc[:, [\"name\", \"dept\"]]"
   ]
  },
  {
   "cell_type": "code",
   "execution_count": 10,
   "metadata": {},
   "outputs": [
    {
     "data": {
      "text/plain": [
       "pandas.core.frame.DataFrame"
      ]
     },
     "execution_count": 10,
     "metadata": {},
     "output_type": "execute_result"
    }
   ],
   "source": [
    "type(df_emp[[\"name\", \"dept\"]])"
   ]
  },
  {
   "cell_type": "markdown",
   "metadata": {},
   "source": [
    ":::{seealso} Difference between `df[]` and `df.loc[]`\n",
    "\n",
    "Both `df[]` and `df.loc[]` can be used to select columns in a DataFrame. Omitting the `.loc` is a shorthand for selecting columns directly, while `df.loc[]` provides more flexibility for complex selections, including row and column slicing. For simple column selections, using `df[]` is more concise.\n",
    "\n",
    "```python\n",
    "# Select a single column\n",
    "df[\"col1\"]          # Shorthand\n",
    "df.loc[:, \"col1\"]   # More explicit\n",
    "\n",
    "# Select multiple columns\n",
    "df[[\"col1\", \"col2\"]]        # Shorthand\n",
    "df.loc[:, [\"col1\", \"col2\"]] # More explicit\n",
    "```\n",
    "\n",
    "They have some differences in functionality and flexibility.\n",
    "\n",
    "- `df[\"col\"]` may return a _view_ or a _copy_ of the data, which can lead to the `SettingWithCopyWarning` if you try to modify the result.\n",
    "- In contrast, `df.loc[]` always returns a _view_, making it safer for assignments.\n",
    "\n",
    "To update values, prefer using `df.loc[]`:\n",
    "\n",
    ":::\n"
   ]
  },
  {
   "cell_type": "markdown",
   "metadata": {
    "id": "GfgfDjHFdxtd"
   },
   "source": [
    "---\n",
    "\n",
    "### 🏷️ Rename Column(s)\n",
    "\n",
    "You can rename columns using the `rename()` method. This method allows you to specify a mapping of old column names to new column names.\n",
    "\n",
    "The `rename()` method does not modify the original DataFrame by default. Instead, it returns a new DataFrame with the updated column names. If you want to modify the original DataFrame in place, you can set the `inplace` parameter to `True`.\n",
    "\n",
    "```python\n",
    "# Rename a column and return a new DataFrame without modifying the original\n",
    "# df's column names will remain unchanged\n",
    "df_renamed = df.rename(columns={\"name_before\": \"name_after\"})\n",
    "\n",
    "# Rename a column and update the original DataFrame\n",
    "df.rename(columns={\"name_before\": \"name_after\"}, inplace=True)\n",
    "```\n",
    "\n",
    ":::{danger} Avoid assignment with `inplace=True`\n",
    "\n",
    "When using `inplace=True`, the original DataFrame is modified directly. The `rename()` method will return `None`. This is because the operation is performed in place, and there is no new DataFrame to return.\n",
    "\n",
    "**🚫 Incorrect: Assigning the result to a variable with `inplace=True`**\n",
    "\n",
    "```python\n",
    "# df becomes None\n",
    "df = df.rename(columns={\"name_before\": \"name_after\"}, inplace=True)\n",
    "\n",
    "display(df) # Output: None\n",
    "```\n",
    "\n",
    "**✅ Correct: Use inplace=True without assignment**\n",
    "\n",
    "```python\n",
    "df.rename(columns={\"name_before\": \"name_after\"}, inplace=True)\n",
    "```\n",
    "\n",
    ":::\n",
    "\n",
    ":::{seealso} `.rename()` can rename both columns and index (row labels)\n",
    "\n",
    "The `rename()` method can be used to rename columns and/or the index (row labels) of a DataFrame. You can specify the `columns` parameter to rename columns and the `index` parameter to rename index labels.\n",
    "\n",
    "Alternatively, you can use the `axis` parameter to specify whether you want to rename columns (`axis=1`) or index (`axis=0`).\n",
    "\n",
    "**Rename columns:**\n",
    "\n",
    "```python\n",
    "df.rename(columns={\"old_col\": \"new_col\"}, inplace=True)\n",
    "# or\n",
    "df.rename({\"old_col\": \"new_col\"}, axis=1, inplace=True)\n",
    "```\n",
    "\n",
    "**Rename index (row labels):**\n",
    "\n",
    "```python\n",
    "df.rename(index={\"old_index\": \"new_index\"}, inplace=True)\n",
    "# or\n",
    "df.rename({\"old_index\": \"new_index\"}, axis=0, inplace=True)\n",
    "```\n",
    "\n",
    ":::\n"
   ]
  },
  {
   "cell_type": "markdown",
   "metadata": {
    "id": "i52-gE8zdxtd"
   },
   "source": [
    "---\n",
    "\n",
    "**🎯 Example: Rename `\"office_phone\"` column to `\"phone_num\"` (out-of-place)**\n"
   ]
  },
  {
   "cell_type": "code",
   "execution_count": 11,
   "metadata": {
    "colab": {
     "base_uri": "https://localhost:8080/",
     "height": 175
    },
    "id": "8DKNfKqWdxte",
    "outputId": "5edfb5dd-092b-4a2e-b8a2-8e3415c6b4ab"
   },
   "outputs": [
    {
     "data": {
      "text/html": [
       "<div>\n",
       "<style scoped>\n",
       "    .dataframe tbody tr th:only-of-type {\n",
       "        vertical-align: middle;\n",
       "    }\n",
       "\n",
       "    .dataframe tbody tr th {\n",
       "        vertical-align: top;\n",
       "    }\n",
       "\n",
       "    .dataframe thead th {\n",
       "        text-align: right;\n",
       "    }\n",
       "</style>\n",
       "<table border=\"1\" class=\"dataframe\">\n",
       "  <thead>\n",
       "    <tr style=\"text-align: right;\">\n",
       "      <th></th>\n",
       "      <th>emp_id</th>\n",
       "      <th>name</th>\n",
       "      <th>dept</th>\n",
       "      <th>phone_num</th>\n",
       "      <th>start_date</th>\n",
       "      <th>salary</th>\n",
       "    </tr>\n",
       "  </thead>\n",
       "  <tbody>\n",
       "    <tr>\n",
       "      <th>0</th>\n",
       "      <td>30</td>\n",
       "      <td>Colby</td>\n",
       "      <td>Sales</td>\n",
       "      <td>(217)123-4500</td>\n",
       "      <td>2017-05-01</td>\n",
       "      <td>202000</td>\n",
       "    </tr>\n",
       "    <tr>\n",
       "      <th>1</th>\n",
       "      <td>40</td>\n",
       "      <td>Adam</td>\n",
       "      <td>Marketing</td>\n",
       "      <td>NaN</td>\n",
       "      <td>2018-02-01</td>\n",
       "      <td>185000</td>\n",
       "    </tr>\n",
       "    <tr>\n",
       "      <th>2</th>\n",
       "      <td>10</td>\n",
       "      <td>Eli</td>\n",
       "      <td>Sales</td>\n",
       "      <td>NaN</td>\n",
       "      <td>2020-08-01</td>\n",
       "      <td>240000</td>\n",
       "    </tr>\n",
       "    <tr>\n",
       "      <th>3</th>\n",
       "      <td>20</td>\n",
       "      <td>Dylan</td>\n",
       "      <td>Marketing</td>\n",
       "      <td>(217)987-6543</td>\n",
       "      <td>2019-12-01</td>\n",
       "      <td>160500</td>\n",
       "    </tr>\n",
       "  </tbody>\n",
       "</table>\n",
       "</div>"
      ],
      "text/plain": [
       "   emp_id   name       dept      phone_num  start_date  salary\n",
       "0      30  Colby      Sales  (217)123-4500  2017-05-01  202000\n",
       "1      40   Adam  Marketing            NaN  2018-02-01  185000\n",
       "2      10    Eli      Sales            NaN  2020-08-01  240000\n",
       "3      20  Dylan  Marketing  (217)987-6543  2019-12-01  160500"
      ]
     },
     "execution_count": 11,
     "metadata": {},
     "output_type": "execute_result"
    }
   ],
   "source": [
    "df_renamed = df_emp.rename(columns={\"office_phone\": \"phone_num\"})\n",
    "\n",
    "df_renamed"
   ]
  },
  {
   "cell_type": "markdown",
   "metadata": {
    "id": "yi4owfA9dxte"
   },
   "source": [
    "---\n",
    "\n",
    "**🎯 Example: Rename `\"office_phone\"` column to `\"phone_num\"` (in-place)**\n"
   ]
  },
  {
   "cell_type": "code",
   "execution_count": 12,
   "metadata": {
    "colab": {
     "base_uri": "https://localhost:8080/",
     "height": 0
    },
    "id": "CHzAmnEzdxtf",
    "outputId": "677c062f-693a-4624-e007-cc281e4430fa"
   },
   "outputs": [
    {
     "data": {
      "text/html": [
       "<div>\n",
       "<style scoped>\n",
       "    .dataframe tbody tr th:only-of-type {\n",
       "        vertical-align: middle;\n",
       "    }\n",
       "\n",
       "    .dataframe tbody tr th {\n",
       "        vertical-align: top;\n",
       "    }\n",
       "\n",
       "    .dataframe thead th {\n",
       "        text-align: right;\n",
       "    }\n",
       "</style>\n",
       "<table border=\"1\" class=\"dataframe\">\n",
       "  <thead>\n",
       "    <tr style=\"text-align: right;\">\n",
       "      <th></th>\n",
       "      <th>emp_id</th>\n",
       "      <th>name</th>\n",
       "      <th>dept</th>\n",
       "      <th>phone_num</th>\n",
       "      <th>start_date</th>\n",
       "      <th>salary</th>\n",
       "    </tr>\n",
       "  </thead>\n",
       "  <tbody>\n",
       "    <tr>\n",
       "      <th>0</th>\n",
       "      <td>30</td>\n",
       "      <td>Colby</td>\n",
       "      <td>Sales</td>\n",
       "      <td>(217)123-4500</td>\n",
       "      <td>2017-05-01</td>\n",
       "      <td>202000</td>\n",
       "    </tr>\n",
       "    <tr>\n",
       "      <th>1</th>\n",
       "      <td>40</td>\n",
       "      <td>Adam</td>\n",
       "      <td>Marketing</td>\n",
       "      <td>NaN</td>\n",
       "      <td>2018-02-01</td>\n",
       "      <td>185000</td>\n",
       "    </tr>\n",
       "    <tr>\n",
       "      <th>2</th>\n",
       "      <td>10</td>\n",
       "      <td>Eli</td>\n",
       "      <td>Sales</td>\n",
       "      <td>NaN</td>\n",
       "      <td>2020-08-01</td>\n",
       "      <td>240000</td>\n",
       "    </tr>\n",
       "    <tr>\n",
       "      <th>3</th>\n",
       "      <td>20</td>\n",
       "      <td>Dylan</td>\n",
       "      <td>Marketing</td>\n",
       "      <td>(217)987-6543</td>\n",
       "      <td>2019-12-01</td>\n",
       "      <td>160500</td>\n",
       "    </tr>\n",
       "  </tbody>\n",
       "</table>\n",
       "</div>"
      ],
      "text/plain": [
       "   emp_id   name       dept      phone_num  start_date  salary\n",
       "0      30  Colby      Sales  (217)123-4500  2017-05-01  202000\n",
       "1      40   Adam  Marketing            NaN  2018-02-01  185000\n",
       "2      10    Eli      Sales            NaN  2020-08-01  240000\n",
       "3      20  Dylan  Marketing  (217)987-6543  2019-12-01  160500"
      ]
     },
     "execution_count": 12,
     "metadata": {},
     "output_type": "execute_result"
    }
   ],
   "source": [
    "# Create a copy of the original DataFrame for this demo\n",
    "df_emp2 = df_emp.copy()\n",
    "\n",
    "df_emp2.rename(columns={\"office_phone\": \"phone_num\"}, inplace=True)\n",
    "\n",
    "df_emp2"
   ]
  },
  {
   "cell_type": "markdown",
   "metadata": {},
   "source": [
    "Compare the original `df_emp` and modified `df_emp2` DataFrames to see the change.\n"
   ]
  },
  {
   "cell_type": "code",
   "execution_count": 13,
   "metadata": {},
   "outputs": [
    {
     "data": {
      "text/html": [
       "<div>\n",
       "<style scoped>\n",
       "    .dataframe tbody tr th:only-of-type {\n",
       "        vertical-align: middle;\n",
       "    }\n",
       "\n",
       "    .dataframe tbody tr th {\n",
       "        vertical-align: top;\n",
       "    }\n",
       "\n",
       "    .dataframe thead th {\n",
       "        text-align: right;\n",
       "    }\n",
       "</style>\n",
       "<table border=\"1\" class=\"dataframe\">\n",
       "  <thead>\n",
       "    <tr style=\"text-align: right;\">\n",
       "      <th></th>\n",
       "      <th>emp_id</th>\n",
       "      <th>name</th>\n",
       "      <th>dept</th>\n",
       "      <th>office_phone</th>\n",
       "      <th>start_date</th>\n",
       "      <th>salary</th>\n",
       "    </tr>\n",
       "  </thead>\n",
       "  <tbody>\n",
       "    <tr>\n",
       "      <th>0</th>\n",
       "      <td>30</td>\n",
       "      <td>Colby</td>\n",
       "      <td>Sales</td>\n",
       "      <td>(217)123-4500</td>\n",
       "      <td>2017-05-01</td>\n",
       "      <td>202000</td>\n",
       "    </tr>\n",
       "  </tbody>\n",
       "</table>\n",
       "</div>"
      ],
      "text/plain": [
       "   emp_id   name   dept   office_phone  start_date  salary\n",
       "0      30  Colby  Sales  (217)123-4500  2017-05-01  202000"
      ]
     },
     "metadata": {},
     "output_type": "display_data"
    },
    {
     "data": {
      "text/html": [
       "<div>\n",
       "<style scoped>\n",
       "    .dataframe tbody tr th:only-of-type {\n",
       "        vertical-align: middle;\n",
       "    }\n",
       "\n",
       "    .dataframe tbody tr th {\n",
       "        vertical-align: top;\n",
       "    }\n",
       "\n",
       "    .dataframe thead th {\n",
       "        text-align: right;\n",
       "    }\n",
       "</style>\n",
       "<table border=\"1\" class=\"dataframe\">\n",
       "  <thead>\n",
       "    <tr style=\"text-align: right;\">\n",
       "      <th></th>\n",
       "      <th>emp_id</th>\n",
       "      <th>name</th>\n",
       "      <th>dept</th>\n",
       "      <th>phone_num</th>\n",
       "      <th>start_date</th>\n",
       "      <th>salary</th>\n",
       "    </tr>\n",
       "  </thead>\n",
       "  <tbody>\n",
       "    <tr>\n",
       "      <th>0</th>\n",
       "      <td>30</td>\n",
       "      <td>Colby</td>\n",
       "      <td>Sales</td>\n",
       "      <td>(217)123-4500</td>\n",
       "      <td>2017-05-01</td>\n",
       "      <td>202000</td>\n",
       "    </tr>\n",
       "  </tbody>\n",
       "</table>\n",
       "</div>"
      ],
      "text/plain": [
       "   emp_id   name   dept      phone_num  start_date  salary\n",
       "0      30  Colby  Sales  (217)123-4500  2017-05-01  202000"
      ]
     },
     "metadata": {},
     "output_type": "display_data"
    }
   ],
   "source": [
    "# Use head(1) to only show the first row for brevity\n",
    "display(df_emp.head(1))\n",
    "display(df_emp2.head(1))"
   ]
  },
  {
   "cell_type": "markdown",
   "metadata": {},
   "source": [
    "You can see that the `\"office_phone\"` column has been renamed to `\"phone_num\"` in `df_emp2`, while `df_emp` remains unchanged.\n"
   ]
  },
  {
   "cell_type": "markdown",
   "metadata": {
    "id": "gZqtvNrjdxtg"
   },
   "source": [
    "---\n",
    "\n",
    "**🎯 Example: Rename `\"name\"` to `\"first_name\"` and `\"salary\"` to `\"base_salary\"` (in-place)**\n",
    "\n",
    "You can rename multiple columns at once by providing a dictionary with multiple key-value pairs to the `columns` parameter of the `rename()` method.\n"
   ]
  },
  {
   "cell_type": "code",
   "execution_count": 14,
   "metadata": {
    "colab": {
     "base_uri": "https://localhost:8080/",
     "height": 175
    },
    "id": "24a-bqfgdxtg",
    "outputId": "fc1be8cc-b452-43df-a35e-69e9ac818924"
   },
   "outputs": [
    {
     "data": {
      "text/html": [
       "<div>\n",
       "<style scoped>\n",
       "    .dataframe tbody tr th:only-of-type {\n",
       "        vertical-align: middle;\n",
       "    }\n",
       "\n",
       "    .dataframe tbody tr th {\n",
       "        vertical-align: top;\n",
       "    }\n",
       "\n",
       "    .dataframe thead th {\n",
       "        text-align: right;\n",
       "    }\n",
       "</style>\n",
       "<table border=\"1\" class=\"dataframe\">\n",
       "  <thead>\n",
       "    <tr style=\"text-align: right;\">\n",
       "      <th></th>\n",
       "      <th>emp_id</th>\n",
       "      <th>first_name</th>\n",
       "      <th>dept</th>\n",
       "      <th>office_phone</th>\n",
       "      <th>start_date</th>\n",
       "      <th>base_salary</th>\n",
       "    </tr>\n",
       "  </thead>\n",
       "  <tbody>\n",
       "    <tr>\n",
       "      <th>0</th>\n",
       "      <td>30</td>\n",
       "      <td>Colby</td>\n",
       "      <td>Sales</td>\n",
       "      <td>(217)123-4500</td>\n",
       "      <td>2017-05-01</td>\n",
       "      <td>202000</td>\n",
       "    </tr>\n",
       "    <tr>\n",
       "      <th>1</th>\n",
       "      <td>40</td>\n",
       "      <td>Adam</td>\n",
       "      <td>Marketing</td>\n",
       "      <td>NaN</td>\n",
       "      <td>2018-02-01</td>\n",
       "      <td>185000</td>\n",
       "    </tr>\n",
       "    <tr>\n",
       "      <th>2</th>\n",
       "      <td>10</td>\n",
       "      <td>Eli</td>\n",
       "      <td>Sales</td>\n",
       "      <td>NaN</td>\n",
       "      <td>2020-08-01</td>\n",
       "      <td>240000</td>\n",
       "    </tr>\n",
       "    <tr>\n",
       "      <th>3</th>\n",
       "      <td>20</td>\n",
       "      <td>Dylan</td>\n",
       "      <td>Marketing</td>\n",
       "      <td>(217)987-6543</td>\n",
       "      <td>2019-12-01</td>\n",
       "      <td>160500</td>\n",
       "    </tr>\n",
       "  </tbody>\n",
       "</table>\n",
       "</div>"
      ],
      "text/plain": [
       "   emp_id first_name       dept   office_phone  start_date  base_salary\n",
       "0      30      Colby      Sales  (217)123-4500  2017-05-01       202000\n",
       "1      40       Adam  Marketing            NaN  2018-02-01       185000\n",
       "2      10        Eli      Sales            NaN  2020-08-01       240000\n",
       "3      20      Dylan  Marketing  (217)987-6543  2019-12-01       160500"
      ]
     },
     "execution_count": 14,
     "metadata": {},
     "output_type": "execute_result"
    }
   ],
   "source": [
    "df_emp3 = df_emp.copy()\n",
    "\n",
    "df_emp3.rename(columns={\"name\": \"first_name\", \"salary\": \"base_salary\"}, inplace=True)\n",
    "\n",
    "df_emp3"
   ]
  },
  {
   "cell_type": "markdown",
   "metadata": {
    "id": "9Rfkhez9dxth"
   },
   "source": [
    "---\n",
    "\n",
    "### 🗑️ Drop Column(s)\n",
    "\n",
    "You can rename a column using `df.drop(columns=[\"col1\", \"col2\"])`. Similar to `rename()`, the `drop()` method does not modify the original DataFrame by default. Instead, it returns a new DataFrame with the specified columns removed. If you want to modify the original DataFrame in place, you can set the `inplace` parameter to `True`.\n",
    "\n",
    "```python\n",
    "# Copy df, drop columns\n",
    "# df will remain unchaged\n",
    "df_dropped = df.drop(columns=[\"col1\", \"col2\"])\n",
    "\n",
    "# Drop columns in place, modifying the original df\n",
    "df.drop(columns=[\"col1\", \"col2\"], inplace=True)\n",
    "```\n"
   ]
  },
  {
   "cell_type": "markdown",
   "metadata": {
    "id": "M5IABrx5dxth"
   },
   "source": [
    "---\n",
    "\n",
    "**🎯 Example: Drop `start_date` column (out-of-place)**\n"
   ]
  },
  {
   "cell_type": "code",
   "execution_count": 15,
   "metadata": {
    "colab": {
     "base_uri": "https://localhost:8080/",
     "height": 0
    },
    "id": "sIPj1J1Fdxth",
    "outputId": "a9c4ff41-abc4-4d25-a9ea-f67c2a9d4b50"
   },
   "outputs": [
    {
     "data": {
      "text/html": [
       "<div>\n",
       "<style scoped>\n",
       "    .dataframe tbody tr th:only-of-type {\n",
       "        vertical-align: middle;\n",
       "    }\n",
       "\n",
       "    .dataframe tbody tr th {\n",
       "        vertical-align: top;\n",
       "    }\n",
       "\n",
       "    .dataframe thead th {\n",
       "        text-align: right;\n",
       "    }\n",
       "</style>\n",
       "<table border=\"1\" class=\"dataframe\">\n",
       "  <thead>\n",
       "    <tr style=\"text-align: right;\">\n",
       "      <th></th>\n",
       "      <th>emp_id</th>\n",
       "      <th>name</th>\n",
       "      <th>dept</th>\n",
       "      <th>office_phone</th>\n",
       "      <th>salary</th>\n",
       "    </tr>\n",
       "  </thead>\n",
       "  <tbody>\n",
       "    <tr>\n",
       "      <th>0</th>\n",
       "      <td>30</td>\n",
       "      <td>Colby</td>\n",
       "      <td>Sales</td>\n",
       "      <td>(217)123-4500</td>\n",
       "      <td>202000</td>\n",
       "    </tr>\n",
       "    <tr>\n",
       "      <th>1</th>\n",
       "      <td>40</td>\n",
       "      <td>Adam</td>\n",
       "      <td>Marketing</td>\n",
       "      <td>NaN</td>\n",
       "      <td>185000</td>\n",
       "    </tr>\n",
       "    <tr>\n",
       "      <th>2</th>\n",
       "      <td>10</td>\n",
       "      <td>Eli</td>\n",
       "      <td>Sales</td>\n",
       "      <td>NaN</td>\n",
       "      <td>240000</td>\n",
       "    </tr>\n",
       "    <tr>\n",
       "      <th>3</th>\n",
       "      <td>20</td>\n",
       "      <td>Dylan</td>\n",
       "      <td>Marketing</td>\n",
       "      <td>(217)987-6543</td>\n",
       "      <td>160500</td>\n",
       "    </tr>\n",
       "  </tbody>\n",
       "</table>\n",
       "</div>"
      ],
      "text/plain": [
       "   emp_id   name       dept   office_phone  salary\n",
       "0      30  Colby      Sales  (217)123-4500  202000\n",
       "1      40   Adam  Marketing            NaN  185000\n",
       "2      10    Eli      Sales            NaN  240000\n",
       "3      20  Dylan  Marketing  (217)987-6543  160500"
      ]
     },
     "execution_count": 15,
     "metadata": {},
     "output_type": "execute_result"
    }
   ],
   "source": [
    "df_dropped = df_emp.drop(columns=[\"start_date\"])\n",
    "\n",
    "df_dropped"
   ]
  },
  {
   "cell_type": "markdown",
   "metadata": {
    "id": "yqbe-fo2dxtj"
   },
   "source": [
    "---\n",
    "\n",
    "**🎯 Example: Drop `\"name\"` and `\"salary\"` columns in-place**\n"
   ]
  },
  {
   "cell_type": "code",
   "execution_count": 16,
   "metadata": {
    "colab": {
     "base_uri": "https://localhost:8080/",
     "height": 0
    },
    "id": "3kLq1SfYdxtk",
    "outputId": "1ca12054-fccf-4bda-843e-d925fa246392"
   },
   "outputs": [
    {
     "data": {
      "text/html": [
       "<div>\n",
       "<style scoped>\n",
       "    .dataframe tbody tr th:only-of-type {\n",
       "        vertical-align: middle;\n",
       "    }\n",
       "\n",
       "    .dataframe tbody tr th {\n",
       "        vertical-align: top;\n",
       "    }\n",
       "\n",
       "    .dataframe thead th {\n",
       "        text-align: right;\n",
       "    }\n",
       "</style>\n",
       "<table border=\"1\" class=\"dataframe\">\n",
       "  <thead>\n",
       "    <tr style=\"text-align: right;\">\n",
       "      <th></th>\n",
       "      <th>emp_id</th>\n",
       "      <th>dept</th>\n",
       "      <th>office_phone</th>\n",
       "      <th>start_date</th>\n",
       "    </tr>\n",
       "  </thead>\n",
       "  <tbody>\n",
       "    <tr>\n",
       "      <th>0</th>\n",
       "      <td>30</td>\n",
       "      <td>Sales</td>\n",
       "      <td>(217)123-4500</td>\n",
       "      <td>2017-05-01</td>\n",
       "    </tr>\n",
       "    <tr>\n",
       "      <th>1</th>\n",
       "      <td>40</td>\n",
       "      <td>Marketing</td>\n",
       "      <td>NaN</td>\n",
       "      <td>2018-02-01</td>\n",
       "    </tr>\n",
       "    <tr>\n",
       "      <th>2</th>\n",
       "      <td>10</td>\n",
       "      <td>Sales</td>\n",
       "      <td>NaN</td>\n",
       "      <td>2020-08-01</td>\n",
       "    </tr>\n",
       "    <tr>\n",
       "      <th>3</th>\n",
       "      <td>20</td>\n",
       "      <td>Marketing</td>\n",
       "      <td>(217)987-6543</td>\n",
       "      <td>2019-12-01</td>\n",
       "    </tr>\n",
       "  </tbody>\n",
       "</table>\n",
       "</div>"
      ],
      "text/plain": [
       "   emp_id       dept   office_phone  start_date\n",
       "0      30      Sales  (217)123-4500  2017-05-01\n",
       "1      40  Marketing            NaN  2018-02-01\n",
       "2      10      Sales            NaN  2020-08-01\n",
       "3      20  Marketing  (217)987-6543  2019-12-01"
      ]
     },
     "execution_count": 16,
     "metadata": {},
     "output_type": "execute_result"
    }
   ],
   "source": [
    "# Create a copy of the original DataFrame to preserve the original DataFrame\n",
    "df_emp4 = df_emp.copy()\n",
    "\n",
    "df_emp4.drop(columns=[\"name\", \"salary\"], inplace=True)\n",
    "\n",
    "df_emp4"
   ]
  },
  {
   "cell_type": "markdown",
   "metadata": {
    "id": "hsUboLqadxtn"
   },
   "source": [
    "---\n",
    "\n",
    "## 🕳️ Working with Missing Values\n",
    "\n",
    "In real-world datasets, it's common to encounter missing or null values. These missing values can arise for various reasons, such as unknown values, data entry errors, incomplete data collection, or intentional omissions. Handling missing values is a crucial step in data preprocessing, as they can significantly impact the results of your analysis or machine learning models.\n",
    "\n",
    "### 🧩 Missing Value Markers in Pandas\n",
    "\n",
    "While Python has its own built-in `None` type to represent missing values, Pandas provides a more comprehensive approach to handling missing data. Pandas recognizes several markers for missing values, allowing for greater flexibility in data representation.\n",
    "\n",
    "#### 🧪 `np.nan` (Not a Number) - Most Common Marker\n",
    "\n",
    "The most common marker for missing values in Pandas is NumPy's `np.nan` (`NaN`), which stands for \"Not a Number\". It is a special floating-point value defined by the [IEEE 754 standard](https://en.wikipedia.org/wiki/IEEE_754). The `NaN` value represents missing or undefined numerical data.\n",
    "\n",
    "Note that `NaN` is a float, so if a column contains any `NaN` values, Pandas will automatically convert the entire column to a floating-point type to accommodate the `NaN` unless you use one of the _nullable_ types.\n",
    "\n",
    "#### 🐼 `pd.NA` (Pandas NA)\n",
    "\n",
    "Pandas introduced a new scalar value `pd.NA` in version 1.0 to represent missing values in a more consistent way across different data types. `pd.NA` is part of Pandas' nullable data types, which allow for missing values in integer, boolean, and string columns without converting them to floating-point types.\n",
    "\n",
    "#### ⏳ `pd.NaT` (Not a Time)\n",
    "\n",
    "For datetime-like data, Pandas uses `pd.NaT` to represent missing or null date and time values. `NaT` is similar to `NaN` but specifically designed for datetime objects.\n",
    "\n",
    "---\n",
    "\n",
    "### 🔍 Methods to Detect Missing Values\n",
    "\n",
    "You can use the `isna()` or `isnull()` methods to detect missing values in a DataFrame. Both methods are equivalent and return a DataFrame of the same shape as the original, with `True` for missing values and `False` for non-missing values.\n",
    "\n",
    "```python\n",
    "# Detect missing values in the entire DataFrame\n",
    "df[\"my_column\"].isna() # or df[\"my_column\"].isnull()\n",
    "```\n",
    "\n",
    "Recall that a column in a DataFrame is a `Series`, so you can test the `isna()` method on a `Series`.\n"
   ]
  },
  {
   "cell_type": "code",
   "execution_count": 17,
   "metadata": {},
   "outputs": [
    {
     "data": {
      "text/plain": [
       "0    False\n",
       "1     True\n",
       "2    False\n",
       "3     True\n",
       "dtype: bool"
      ]
     },
     "execution_count": 17,
     "metadata": {},
     "output_type": "execute_result"
    }
   ],
   "source": [
    "my_series = pd.Series([\"Hello\", np.nan, \"Pandas\", pd.NA])\n",
    "my_series.isna()"
   ]
  },
  {
   "cell_type": "markdown",
   "metadata": {},
   "source": [
    "Here is a visual representation of the `isna()` method:\n",
    "\n",
    "![notna](images/pandas/isna-series.png)\n"
   ]
  },
  {
   "cell_type": "markdown",
   "metadata": {},
   "source": [
    "---\n",
    "\n",
    "**🎯 Example: Find employees without a phone number**\n",
    "\n",
    "First, create a boolean mask that identifies rows where the `\"office_phone\"` column is `NaN` using the `isna()` method. Then, use this mask to filter the DataFrame and display only the rows with missing phone numbers.\n"
   ]
  },
  {
   "cell_type": "code",
   "execution_count": 18,
   "metadata": {},
   "outputs": [
    {
     "data": {
      "text/plain": [
       "0    False\n",
       "1     True\n",
       "2     True\n",
       "3    False\n",
       "Name: office_phone, dtype: bool"
      ]
     },
     "execution_count": 18,
     "metadata": {},
     "output_type": "execute_result"
    }
   ],
   "source": [
    "mask = df_emp[\"office_phone\"].isna()\n",
    "mask"
   ]
  },
  {
   "cell_type": "markdown",
   "metadata": {},
   "source": [
    "Use the boolean mask to filter the DataFrame and display rows with missing phone numbers.\n"
   ]
  },
  {
   "cell_type": "code",
   "execution_count": 19,
   "metadata": {},
   "outputs": [
    {
     "data": {
      "text/html": [
       "<div>\n",
       "<style scoped>\n",
       "    .dataframe tbody tr th:only-of-type {\n",
       "        vertical-align: middle;\n",
       "    }\n",
       "\n",
       "    .dataframe tbody tr th {\n",
       "        vertical-align: top;\n",
       "    }\n",
       "\n",
       "    .dataframe thead th {\n",
       "        text-align: right;\n",
       "    }\n",
       "</style>\n",
       "<table border=\"1\" class=\"dataframe\">\n",
       "  <thead>\n",
       "    <tr style=\"text-align: right;\">\n",
       "      <th></th>\n",
       "      <th>emp_id</th>\n",
       "      <th>name</th>\n",
       "      <th>dept</th>\n",
       "      <th>office_phone</th>\n",
       "      <th>start_date</th>\n",
       "      <th>salary</th>\n",
       "    </tr>\n",
       "  </thead>\n",
       "  <tbody>\n",
       "    <tr>\n",
       "      <th>1</th>\n",
       "      <td>40</td>\n",
       "      <td>Adam</td>\n",
       "      <td>Marketing</td>\n",
       "      <td>NaN</td>\n",
       "      <td>2018-02-01</td>\n",
       "      <td>185000</td>\n",
       "    </tr>\n",
       "    <tr>\n",
       "      <th>2</th>\n",
       "      <td>10</td>\n",
       "      <td>Eli</td>\n",
       "      <td>Sales</td>\n",
       "      <td>NaN</td>\n",
       "      <td>2020-08-01</td>\n",
       "      <td>240000</td>\n",
       "    </tr>\n",
       "  </tbody>\n",
       "</table>\n",
       "</div>"
      ],
      "text/plain": [
       "   emp_id  name       dept office_phone  start_date  salary\n",
       "1      40  Adam  Marketing          NaN  2018-02-01  185000\n",
       "2      10   Eli      Sales          NaN  2020-08-01  240000"
      ]
     },
     "execution_count": 19,
     "metadata": {},
     "output_type": "execute_result"
    }
   ],
   "source": [
    "df_emp[mask]\n",
    "# This can be done in one line as well:\n",
    "# df_emp[df_emp[\"office_phone\"].isna()]"
   ]
  },
  {
   "cell_type": "markdown",
   "metadata": {
    "id": "N2QJdhyvdxtp"
   },
   "source": [
    "If you want to detect non-missing values, you can use the `notna()` or `notnull()` methods.\n",
    "\n",
    "```python\n",
    "# Detect non-missing values in the entire DataFrame\n",
    "df[\"my_column\"].notna() # or df[\"my_column\"].notnull()\n",
    "```\n"
   ]
  },
  {
   "cell_type": "code",
   "execution_count": 20,
   "metadata": {},
   "outputs": [
    {
     "data": {
      "text/plain": [
       "0     True\n",
       "1    False\n",
       "2     True\n",
       "3    False\n",
       "dtype: bool"
      ]
     },
     "execution_count": 20,
     "metadata": {},
     "output_type": "execute_result"
    }
   ],
   "source": [
    "my_series = pd.Series([\"Hello\", np.nan, \"Pandas\", pd.NA])\n",
    "my_series.notna()"
   ]
  },
  {
   "cell_type": "markdown",
   "metadata": {},
   "source": [
    "Here is a visual representation of the `notna()` method:\n",
    "\n",
    "![notna](images/pandas/notna-series.png)\n"
   ]
  },
  {
   "cell_type": "markdown",
   "metadata": {},
   "source": [
    "---\n",
    "\n",
    "**🎯 Example: Find employees with a phone number**\n",
    "\n",
    "First, create a boolean mask that identifies rows where the `\"office_phone\"` column is not `NaN` using the `notna()` method. Then, use this mask to filter the DataFrame and display only the rows with non-missing phone numbers.\n"
   ]
  },
  {
   "cell_type": "code",
   "execution_count": 21,
   "metadata": {},
   "outputs": [
    {
     "data": {
      "text/plain": [
       "0     True\n",
       "1    False\n",
       "2    False\n",
       "3     True\n",
       "Name: office_phone, dtype: bool"
      ]
     },
     "execution_count": 21,
     "metadata": {},
     "output_type": "execute_result"
    }
   ],
   "source": [
    "mask = df_emp[\"office_phone\"].notna()\n",
    "mask"
   ]
  },
  {
   "cell_type": "markdown",
   "metadata": {},
   "source": [
    "Use the boolean mask to filter the DataFrame and display rows with phone numbers.\n"
   ]
  },
  {
   "cell_type": "code",
   "execution_count": 22,
   "metadata": {},
   "outputs": [
    {
     "data": {
      "text/html": [
       "<div>\n",
       "<style scoped>\n",
       "    .dataframe tbody tr th:only-of-type {\n",
       "        vertical-align: middle;\n",
       "    }\n",
       "\n",
       "    .dataframe tbody tr th {\n",
       "        vertical-align: top;\n",
       "    }\n",
       "\n",
       "    .dataframe thead th {\n",
       "        text-align: right;\n",
       "    }\n",
       "</style>\n",
       "<table border=\"1\" class=\"dataframe\">\n",
       "  <thead>\n",
       "    <tr style=\"text-align: right;\">\n",
       "      <th></th>\n",
       "      <th>emp_id</th>\n",
       "      <th>name</th>\n",
       "      <th>dept</th>\n",
       "      <th>office_phone</th>\n",
       "      <th>start_date</th>\n",
       "      <th>salary</th>\n",
       "    </tr>\n",
       "  </thead>\n",
       "  <tbody>\n",
       "    <tr>\n",
       "      <th>0</th>\n",
       "      <td>30</td>\n",
       "      <td>Colby</td>\n",
       "      <td>Sales</td>\n",
       "      <td>(217)123-4500</td>\n",
       "      <td>2017-05-01</td>\n",
       "      <td>202000</td>\n",
       "    </tr>\n",
       "    <tr>\n",
       "      <th>3</th>\n",
       "      <td>20</td>\n",
       "      <td>Dylan</td>\n",
       "      <td>Marketing</td>\n",
       "      <td>(217)987-6543</td>\n",
       "      <td>2019-12-01</td>\n",
       "      <td>160500</td>\n",
       "    </tr>\n",
       "  </tbody>\n",
       "</table>\n",
       "</div>"
      ],
      "text/plain": [
       "   emp_id   name       dept   office_phone  start_date  salary\n",
       "0      30  Colby      Sales  (217)123-4500  2017-05-01  202000\n",
       "3      20  Dylan  Marketing  (217)987-6543  2019-12-01  160500"
      ]
     },
     "execution_count": 22,
     "metadata": {},
     "output_type": "execute_result"
    }
   ],
   "source": [
    "df_emp[mask]\n",
    "# This can be done in one line as well:\n",
    "# df_emp[df_emp[\"office_phone\"].notna()]"
   ]
  },
  {
   "cell_type": "markdown",
   "metadata": {},
   "source": [
    ":::{important} How to Handle Missing Values\n",
    "\n",
    "Missing values can occur in your dataset for various reasons. In data analysis, handling missing values is crucial to ensure the quality and accuracy of your results. There are several strategies to deal with missing data, depending on the context and the nature of your dataset.\n",
    "\n",
    "Here are some common methods to handle missing values in a Pandas DataFrame:\n",
    "\n",
    "1. **Drop Missing Values**: Remove rows or columns with missing values using `dropna()`.\n",
    "\n",
    "   ```python\n",
    "   df.dropna()  # Drop rows with any missing values\n",
    "   df.dropna(axis=1)  # Drop columns with any missing values\n",
    "   ```\n",
    "\n",
    "2. **Fill Missing Values**: Replace missing values with a specific value or a computed value (e.g., mean, median) using `fillna()`.\n",
    "\n",
    "   ```python\n",
    "   df.fillna(0)  # Replace missing values with 0\n",
    "   df[\"col1\"].fillna(df[\"col1\"].mean(), inplace=True)  # Replace with mean\n",
    "   ```\n",
    "\n",
    "3. **Interpolate Missing Values**: Use interpolation to estimate missing values based on surrounding data.\n",
    "\n",
    "   ```python\n",
    "   df.interpolate()\n",
    "   ```\n",
    "\n",
    "By using these methods, you can ensure that your DataFrame is clean and ready for analysis.\n",
    "\n",
    ":::\n"
   ]
  }
 ],
 "metadata": {
  "colab": {
   "provenance": []
  },
  "kernelspec": {
   "display_name": "gies",
   "language": "python",
   "name": "python3"
  },
  "language_info": {
   "codemirror_mode": {
    "name": "ipython",
    "version": 3
   },
   "file_extension": ".py",
   "mimetype": "text/x-python",
   "name": "python",
   "nbconvert_exporter": "python",
   "pygments_lexer": "ipython3",
   "version": "3.12.6"
  }
 },
 "nbformat": 4,
 "nbformat_minor": 4
}
