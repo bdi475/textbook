{
 "cells": [
  {
   "cell_type": "markdown",
   "id": "52d52999",
   "metadata": {},
   "source": [
    "# Problem Set - Python Applications\n",
    "\n",
    "- 🏆 60 points available\n",
    "- ✏️ Last updated on 9/16/2025\n"
   ]
  },
  {
   "cell_type": "markdown",
   "id": "dbb8486f",
   "metadata": {
    "id": "DiznwS2xem7h"
   },
   "source": [
    "▶️ First, run the code cell below to import unittest, the module used for the **🧭 Check Your Work** boxes and the autograder.\n"
   ]
  },
  {
   "cell_type": "code",
   "execution_count": null,
   "id": "d911d7fb",
   "metadata": {
    "id": "xOFvIip0em7h"
   },
   "outputs": [],
   "source": [
    "# DO NOT MODIFY THE CODE IN THIS CELL\n",
    "import unittest\n",
    "\n",
    "tc = unittest.TestCase()"
   ]
  },
  {
   "cell_type": "markdown",
   "id": "cac11410",
   "metadata": {},
   "source": [
    "---\n",
    "\n",
    "### 🎯 Problem 1: Compare Nike and McDonald's Advertising Spending 📊\n",
    "\n",
    "#### 👇 Tasks\n",
    "\n",
    "You are given two list variables named `nike_spending` and `mcdonalds_spending`. Each list contains advertising spending (in millions) for fiscal years 2015–2019.\n",
    "\n",
    "Create the following three variables using one or more `for` loops:\n",
    "\n",
    "1. `nike_total`: The sum of Nike's ad spending for FY 2015–2019 (in millions).\n",
    "2. `mcdonalds_total`: The sum of McDonald's ad spending for FY 2015–2019 (in millions).\n",
    "3. `nike_higher_spending_years`: The number of years Nike's ad spending surpassed McDonald's.\n",
    "\n",
    "#### 💡 Expected Output\n",
    "\n",
    "```plaintext\n",
    "Nike Total: 7240, McDonald's Total: 7560, Nike spent more on advertising 0 time(s)!\n",
    "```\n"
   ]
  },
  {
   "cell_type": "code",
   "execution_count": null,
   "id": "2a853316",
   "metadata": {
    "id": "jfnhv8_Yem7j"
   },
   "outputs": [],
   "source": [
    "nike_spending = [1400, 1470, 1460, 1440, 1470]\n",
    "mcdonalds_spending = [1430, 1460, 1510, 1540, 1620]\n",
    "\n",
    "# YOUR CODE BEGINS\n",
    "\n",
    "# YOUR CODE ENDS\n",
    "\n",
    "# DO NOT CHANGE THE CODE BELOW\n",
    "print(\n",
    "    f\"Nike Total: {nike_total}, McDonald's Total: {mcdonalds_total}, Nike spent more on advertising {nike_higher_spending_years} time(s)!\"\n",
    ")"
   ]
  },
  {
   "cell_type": "markdown",
   "id": "7a2bc4ad",
   "metadata": {
    "id": "EdrK-mBsem7r"
   },
   "source": [
    "#### 🧭 Check Your Work\n",
    "\n",
    "Run the code cell below to test your solution.\n",
    "\n",
    "- ✔️ If the code cell runs without errors, you're good to move on.\n",
    "- ❌ If the code cell produces an error, review your code and fix any mistakes.\n"
   ]
  },
  {
   "cell_type": "code",
   "execution_count": null,
   "id": "6bd27917",
   "metadata": {
    "deletable": false,
    "editable": false
   },
   "outputs": [],
   "source": [
    "_test_case = \"compare-nike-and-mcdonalds-advertising-spending\"\n",
    "_points = 7\n",
    "\n",
    "tc.assertEqual(nike_total, 7240)\n",
    "tc.assertEqual(mcdonalds_total, 7560)\n",
    "tc.assertEqual(nike_higher_spending_years, 1)"
   ]
  },
  {
   "cell_type": "markdown",
   "id": "22266848",
   "metadata": {
    "id": "Dg-bBkF8fGaN"
   },
   "source": [
    "---\n",
    "\n",
    "### 🎯 Problem 2: McDonald's Employees-to-Locations Ratio 🍔\n",
    "\n",
    "#### 👇 Tasks\n",
    "\n",
    "You are given a `list` variable named `mcdonalds`, which contains a list of dictionaries.  \n",
    "Each dictionary represents a fiscal year and contains the following keys:\n",
    "\n",
    "- `\"year\"`: The fiscal year\n",
    "- `\"num_employees\"`: The number of employees in that year\n",
    "- `\"num_locations\"`: The number of locations in that year\n",
    "\n",
    "👉 Create a new `list` variable named `loc_emp_ratios`. Use a `for` loop to calculate the ratio of employees to locations for fiscal years 2015–2019. During each iteration in the `for` loop, append the new ratio to the `loc_emp_ratios` list.\n",
    "\n",
    "#### 🧭 Example\n",
    "\n",
    "If `num_employees` is `11500` and `num_locations` is `1000` for a given year,  \n",
    "the ratio is `11.5` (`11500 / 1000`).\n",
    "\n",
    "#### 💡 Sample Output\n",
    "\n",
    "Your printed values will be different — this only demonstrates the format.\n",
    "\n",
    "```plaintext\n",
    "[11.0, 10.2, 8.7, 5.6, 5.4]\n",
    "```\n"
   ]
  },
  {
   "cell_type": "code",
   "execution_count": null,
   "id": "08b5949c",
   "metadata": {
    "colab": {
     "base_uri": "https://localhost:8080/"
    },
    "id": "OoYuVAyhem7q",
    "outputId": "8eea66d1-ee93-464c-9889-346fd512d07a"
   },
   "outputs": [],
   "source": [
    "mcdonalds = [\n",
    "    {\"year\": 2015, \"num_employees\": 401775, \"num_locations\": 36525},\n",
    "    {\"year\": 2016, \"num_employees\": 376380, \"num_locations\": 36900},\n",
    "    {\"year\": 2017, \"num_employees\": 236988, \"num_locations\": 27240},\n",
    "    {\"year\": 2018, \"num_employees\": 211988, \"num_locations\": 37855},\n",
    "    {\"year\": 2019, \"num_employees\": 208953, \"num_locations\": 38695},\n",
    "]\n",
    "\n",
    "# YOUR CODE BEGINS\n",
    "\n",
    "# YOUR CODE ENDS\n",
    "\n",
    "print(loc_emp_ratios)"
   ]
  },
  {
   "cell_type": "markdown",
   "id": "576a4028-6cbd-4433-bc8b-966ffabd89d7",
   "metadata": {
    "id": "EdrK-mBsem7r"
   },
   "source": [
    "#### 🧭 Check Your Work\n",
    "\n",
    "Run the code cell below to test your solution.\n",
    "\n",
    "- ✔️ If the code cell runs without errors, you're good to move on.\n",
    "- ❌ If the code cell produces an error, review your code and fix any mistakes.\n"
   ]
  },
  {
   "cell_type": "code",
   "execution_count": null,
   "id": "cd666161",
   "metadata": {
    "deletable": false,
    "editable": false,
    "id": "DXDG3nzpem7r"
   },
   "outputs": [],
   "source": [
    "_test_case = \"mcdonalds-employees-to-locations-ratio\"\n",
    "_points = 8\n",
    "\n",
    "tc.assertEqual(loc_emp_ratios, [11.0, 10.2, 8.7, 5.6, 5.4])"
   ]
  },
  {
   "cell_type": "markdown",
   "id": "c674e55c",
   "metadata": {},
   "source": [
    "---\n",
    "\n",
    "### 🎯 Problem 3: Is McDonald's a fast-food company? 🏬\n",
    "\n",
    "#### 👇 Tasks\n",
    "\n",
    "Is McDonald's a fast-food company? Well duh, right? McDonald's is also a brilliant real estate company. We will examine the franchise revenue percentages from real estate.\n",
    "\n",
    "You are given a `list` of dictionaries named `franchise_revenues`. Each dictionary contains the amount of franchise revenues from `rents` and `royalties` each year in millions (from fiscal years 2015-2019).\n",
    "\n",
    "👉 Using a `for` loop, add a new key-value pair to each dictionary in the `franchise_revenues` list.\n",
    "\n",
    "1. **Key** should be named `rents_percent`.\n",
    "2. **Value** should be the percent of `rents` out of the total franchise revenues. As an example, if `rents` is `3000` and `royalties` is `2000`, `rents_percent` will be `60` (`3000 / (3000 + 2000) * 100`).\n",
    "\n",
    "#### 🧭 Example\n",
    "\n",
    "As an example, the first dictionary in `franchise_revenues` should be `{'rents': 5860.6, 'royalties': 2980.7, 'rents_percent': 66.2866...}` after you run your code.\n",
    "\n",
    "#### 💡 Expected Output\n",
    "\n",
    "```plaintext\n",
    "FY 2015: 66.3% of franchise revenues came from real estate.\n",
    "FY 2016: 66.1% of franchise revenues came from real estate.\n",
    "FY 2017: 64.9% of franchise revenues came from real estate.\n",
    "FY 2018: 64.6% of franchise revenues came from real estate.\n",
    "FY 2019: 64.6% of franchise revenues came from real estate.\n",
    "```\n"
   ]
  },
  {
   "cell_type": "code",
   "execution_count": null,
   "id": "5a9e94eb",
   "metadata": {},
   "outputs": [],
   "source": [
    "franchise_revenues = [\n",
    "    {\"rents\": 5860.6, \"royalties\": 2980.7},\n",
    "    {\"rents\": 6107.6, \"royalties\": 3129.9},\n",
    "    {\"rents\": 6496.3, \"royalties\": 3518.7},\n",
    "    {\"rents\": 7082.2, \"royalties\": 3886.3},\n",
    "    {\"rents\": 7500.2, \"royalties\": 4107.1},\n",
    "]\n",
    "\n",
    "# YOUR CODE BEGINS\n",
    "\n",
    "# YOUR CODE ENDS\n",
    "\n",
    "# DO NOT CHANGE THE CODE BELOW\n",
    "fy = 2015\n",
    "\n",
    "for o in franchise_revenues:\n",
    "    print(\n",
    "        f\"FY {fy}: {'{:.1f}%'.format(o['rents_percent'])} of franchise revenues came from real estate.\"\n",
    "    )\n",
    "    fy += 1"
   ]
  },
  {
   "cell_type": "markdown",
   "id": "8a605a0d",
   "metadata": {},
   "source": [
    "#### 🧭 Check Your Work\n",
    "\n",
    "Run the code cell below to test your solution.\n",
    "\n",
    "- ✔️ If the code cell runs without errors, you're good to move on.\n",
    "- ❌ If the code cell produces an error, review your code and fix any mistakes.\n"
   ]
  },
  {
   "cell_type": "code",
   "execution_count": null,
   "id": "2e0d35aa",
   "metadata": {
    "deletable": false,
    "editable": false
   },
   "outputs": [],
   "source": [
    "_test_case = \"is-mcdonalds-a-fast-food-company\"\n",
    "_points = 8\n",
    "\n",
    "for o in franchise_revenues:\n",
    "    o[\"rents_percent\"] = int(o[\"rents_percent\"])\n",
    "\n",
    "tc.assertListEqual(\n",
    "    franchise_revenues,\n",
    "    [\n",
    "        {\"rents\": 5860.6, \"royalties\": 2980.7, \"rents_percent\": 66},\n",
    "        {\"rents\": 6107.6, \"royalties\": 3129.9, \"rents_percent\": 66},\n",
    "        {\"rents\": 6496.3, \"royalties\": 3518.7, \"rents_percent\": 64},\n",
    "        {\"rents\": 7082.2, \"royalties\": 3886.3, \"rents_percent\": 64},\n",
    "        {\"rents\": 7500.2, \"royalties\": 4107.1, \"rents_percent\": 64},\n",
    "    ],\n",
    ")"
   ]
  },
  {
   "cell_type": "markdown",
   "id": "431ce706",
   "metadata": {},
   "source": [
    "---\n",
    "\n",
    "### 🎯 Problem 4: Find the Company with Highest Revenue per Employee 🛢️\n",
    "\n",
    "#### 👇 Tasks\n",
    "\n",
    "You are given the following three lists containing information about five companies in Oman.\n",
    "\n",
    "1. `company`: Names of the company\n",
    "2. `revenue`: Revenue of each company (in millions)\n",
    "3. `num_employees`: Number of employees\n",
    "\n",
    "_Revenue per Employee_ is calculated by `revenue / num_employees`.\n",
    "\n",
    "👉 **Use a `for` loop** to find the company with the highest revenue per employee and update the following two keys in the `highest` dictionary.\n",
    "\n",
    "1. `company`: Name of the company with the highest revenue per employee. (`highest[\"company\"]`)\n",
    "2. `revenue_per_employee`: Revenue per employee (`highest[\"revenue_per_employee\"]`)\n",
    "\n",
    "#### 💡 Expected Output\n",
    "\n",
    "```plaintext\n",
    "Shell Oman's revenue per employee is the highest at 5.25!\n",
    "```\n"
   ]
  },
  {
   "cell_type": "code",
   "execution_count": null,
   "id": "2172758e",
   "metadata": {},
   "outputs": [],
   "source": [
    "company = [\n",
    "    \"Oman Telecommunications\",\n",
    "    \"Bank Dhofar\",\n",
    "    \"Bank Muscat\",\n",
    "    \"Shell Oman\",\n",
    "    \"Oman Oil Marketing\",\n",
    "]\n",
    "revenue = [5685.3, 583.0, 1624.3, 1375.5, 1626.5]\n",
    "num_employees = [2511, 1600, 3779, 262, 800]\n",
    "highest = {\"company\": \"\", \"revenue_per_employee\": 0}\n",
    "\n",
    "# YOUR CODE BEGINS\n",
    "\n",
    "# YOUR CODE ENDS\n",
    "\n",
    "print(\n",
    "    f\"{highest['company']}'s revenue per employee is the highest at {highest['revenue_per_employee']}!\"\n",
    ")"
   ]
  },
  {
   "cell_type": "markdown",
   "id": "8c1adc29",
   "metadata": {},
   "source": [
    "#### 🧭 Check Your Work\n",
    "\n",
    "Run the code cell below to test your solution.\n",
    "\n",
    "- ✔️ If the code cell runs without errors, you're good to move on.\n",
    "- ❌ If the code cell produces an error, review your code and fix any mistakes.\n"
   ]
  },
  {
   "cell_type": "code",
   "execution_count": null,
   "id": "8b3e392a",
   "metadata": {
    "deletable": false,
    "editable": false
   },
   "outputs": [],
   "source": [
    "_test_case = \"company-with-highest-revenue-per-employee\"\n",
    "_points = 9\n",
    "\n",
    "tc.assertEqual(highest, {\"company\": \"Shell Oman\", \"revenue_per_employee\": 5.25})"
   ]
  },
  {
   "cell_type": "markdown",
   "id": "870e130f",
   "metadata": {},
   "source": [
    "---\n",
    "\n",
    "### 🎯 Problem 5: Sales Tax Calculation 💵\n",
    "\n",
    "#### 👇 Tasks\n",
    "\n",
    "👉 Create a function that calculates the after-tax price given a before-tax price and the sales tax percentage. The function, `calculate_total()`, should take the following two parameters.\n",
    "\n",
    "1. `price`: before-tax price of an item\n",
    "2. `tax`: the sales tax percentage in decimal\n",
    "\n",
    "- `0.08` indicates 8%\n",
    "- `0.2` indicates 20%\n",
    "\n",
    "#### 🧭 Example\n",
    "\n",
    "```python\n",
    "# The code below should print 108\n",
    "# This after-tax price can be calculated by 100 * (1 + 0.08)\n",
    "print(calculate_total(100, 0.08))\n",
    "```\n",
    "\n",
    "#### 💡 Expected Output\n",
    "\n",
    "```plaintext\n",
    "108.0\n",
    "24.0\n",
    "10.5\n",
    "```\n"
   ]
  },
  {
   "cell_type": "code",
   "execution_count": null,
   "id": "d97bf4a0",
   "metadata": {},
   "outputs": [],
   "source": [
    "# YOUR CODE BEGINS\n",
    "\n",
    "# YOUR CODE ENDS\n",
    "\n",
    "print(calculate_total(100, 0.08))\n",
    "print(calculate_total(20, 0.2))\n",
    "print(calculate_total(10, 0.05))"
   ]
  },
  {
   "cell_type": "markdown",
   "id": "099af16a",
   "metadata": {},
   "source": [
    "#### 🧭 Check Your Work\n",
    "\n",
    "Run the code cell below to test your solution.\n",
    "\n",
    "- ✔️ If the code cell runs without errors, you're good to move on.\n",
    "- ❌ If the code cell produces an error, review your code and fix any mistakes.\n"
   ]
  },
  {
   "cell_type": "code",
   "execution_count": null,
   "id": "c9de6ebc",
   "metadata": {
    "deletable": false,
    "editable": false
   },
   "outputs": [],
   "source": [
    "_test_case = \"sales-tax-calculation\"\n",
    "_points = 9\n",
    "\n",
    "tc.assertAlmostEqual(calculate_total(100, 0.08), 108.0)\n",
    "tc.assertAlmostEqual(calculate_total(20, 0.2), 24.0)\n",
    "tc.assertAlmostEqual(calculate_total(10, 0.05), 10.5)\n",
    "tc.assertAlmostEqual(calculate_total(200, 0.12), 224)\n",
    "tc.assertAlmostEqual(calculate_total(100, 1), 200)"
   ]
  },
  {
   "cell_type": "markdown",
   "id": "8a2ae9c9",
   "metadata": {},
   "source": [
    "---\n",
    "\n",
    "### 🎯 Problem 6: Mean population of cities in Texas 🏠\n",
    "\n",
    "#### 👇 Tasks\n",
    "\n",
    "You are given a `list` variable named `cities` that contains a list of dictionaries. Each dictionary contains the name, state, and population of a city.\n",
    "\n",
    "👉 Use a `for` loop to find the mean population of cities in Texas (TX). Store the result in a new variable named `texas_mean_pop`.\n",
    "\n",
    "#### 🧭 Hint\n",
    "\n",
    "Use the following two variables with a for loop (this is only a suggestion, we only check your `texas_mean_pop` result):\n",
    "\n",
    "1. `pop_sum`: Increment `pop_sum` by `population` if a city's state is `\"TX\"`.\n",
    "2. `num_cities` Increment `num_cities` by 1 if a city's state is `\"TX\"`.\n",
    "\n",
    "Then, `texas_mean_pop` would be `pop_sum / num_cities`.\n",
    "\n",
    "#### 💡 Expected Output\n",
    "\n",
    "```plaintext\n",
    "Mean city population of Texas is 1560856.6666666667.\n",
    "```\n"
   ]
  },
  {
   "cell_type": "code",
   "execution_count": null,
   "id": "97bb3d38",
   "metadata": {},
   "outputs": [],
   "source": [
    "cities = [\n",
    "    {\"name\": \"Austin\", \"state\": \"TX\", \"population\": 1011790},\n",
    "    {\"name\": \"Boston\", \"state\": \"MA\", \"population\": 695506},\n",
    "    {\"name\": \"Houston\", \"state\": \"TX\", \"population\": 2323660},\n",
    "    {\"name\": \"Los Angeles\", \"state\": \"CA\", \"population\": 3983540},\n",
    "    {\"name\": \"Dallas\", \"state\": \"TX\", \"population\": 1347120},\n",
    "    {\"name\": \"San Diego\", \"state\": \"CA\", \"population\": 1427720},\n",
    "]\n",
    "\n",
    "# YOUR CODE BEGINS\n",
    "\n",
    "# YOUR CODE ENDS\n",
    "\n",
    "print(f\"Mean city population of Texas is {texas_mean_pop}.\")"
   ]
  },
  {
   "cell_type": "markdown",
   "id": "2bcbdfa9",
   "metadata": {},
   "source": [
    "#### 🧭 Check Your Work\n",
    "\n",
    "Run the code cell below to test your solution.\n",
    "\n",
    "- ✔️ If the code cell runs without errors, you're good to move on.\n",
    "- ❌ If the code cell produces an error, review your code and fix any mistakes.\n"
   ]
  },
  {
   "cell_type": "code",
   "execution_count": null,
   "id": "c39fac10",
   "metadata": {
    "deletable": false,
    "editable": false
   },
   "outputs": [],
   "source": [
    "_test_case = \"mean-population-of-cities-in-texas\"\n",
    "_points = 9\n",
    "\n",
    "tc.assertAlmostEqual(texas_mean_pop, 1560856.6666666667)"
   ]
  },
  {
   "cell_type": "markdown",
   "id": "137820e2",
   "metadata": {},
   "source": [
    "---\n",
    "\n",
    "### 🎯 Problem 7: Mean population of cities in a given state 🔮\n",
    "\n",
    "#### 👇 Tasks\n",
    "\n",
    "Let's make your logic from the previous question reusable by creating a function.\n",
    "\n",
    "👉 Create a function named `get_mean_pop` that takes the following two inputs (parameters):\n",
    "\n",
    "1. `cities` - a list of dictionaries. Each dictionary in the list contains the name, state, and population of a city.\n",
    "2. `state` - a string value containing the 2-letter state code (e.g., `\"CA\"`, `\"CO\"`).\n",
    "\n",
    "- The `get_mean_pop()` should return the mean population of cities in a given `state` inside the given `cities`.\n",
    "\n",
    "#### 🧭 Example 1\n",
    "\n",
    "`get_mean_pop(cities_group1, \"CA\")` should return the mean population of cities in California (`\"Los Angeles\"` and `\"San Diego\"`) present in `cities_group1`. The exact value is 2705630.0.\n",
    "\n",
    "#### 🧭 Example 2\n",
    "\n",
    "`get_mean_pop(cities_group2, \"CO\")` should return the mean population of cities in Colorado (`\"Colorado Springs\"` and `\"Denver\"`) present in `cities_group2`. The exact value is 597552.5.\n",
    "\n",
    "#### 💡 Expected Output\n",
    "\n",
    "```plaintext\n",
    "1560856.6666666667\n",
    "2705630.0\n",
    "695506.0\n",
    "597552.5\n",
    "```\n"
   ]
  },
  {
   "cell_type": "code",
   "execution_count": null,
   "id": "cf80dd85",
   "metadata": {},
   "outputs": [],
   "source": [
    "cities_group1 = [\n",
    "    {\"name\": \"Austin\", \"state\": \"TX\", \"population\": 1011790},\n",
    "    {\"name\": \"Boston\", \"state\": \"MA\", \"population\": 695506},\n",
    "    {\"name\": \"Houston\", \"state\": \"TX\", \"population\": 2323660},\n",
    "    {\"name\": \"Los Angeles\", \"state\": \"CA\", \"population\": 3983540},\n",
    "    {\"name\": \"Dallas\", \"state\": \"TX\", \"population\": 1347120},\n",
    "    {\"name\": \"San Diego\", \"state\": \"CA\", \"population\": 1427720},\n",
    "]\n",
    "\n",
    "cities_group2 = [\n",
    "    {\"name\": \"Colorado Springs\", \"state\": \"CO\", \"population\": 489529},\n",
    "    {\"name\": \"Denver\", \"state\": \"CO\", \"population\": 705576},\n",
    "]\n",
    "\n",
    "\n",
    "# YOUR CODE BEGINS\n",
    "\n",
    "# YOUR CODE ENDS\n",
    "\n",
    "print(get_mean_pop(cities_group1, \"TX\"))\n",
    "print(get_mean_pop(cities_group1, \"CA\"))\n",
    "print(get_mean_pop(cities_group1, \"MA\"))\n",
    "print(get_mean_pop(cities_group2, \"CO\"))"
   ]
  },
  {
   "cell_type": "markdown",
   "id": "e91617a6",
   "metadata": {},
   "source": [
    "#### 🧭 Check Your Work\n",
    "\n",
    "Run the code cell below to test your solution.\n",
    "\n",
    "- ✔️ If the code cell runs without errors, you're good to move on.\n",
    "- ❌ If the code cell produces an error, review your code and fix any mistakes.\n"
   ]
  },
  {
   "cell_type": "code",
   "execution_count": null,
   "id": "9aebfc97",
   "metadata": {
    "deletable": false,
    "editable": false
   },
   "outputs": [],
   "source": [
    "_test_case = \"mean-population-of-cities-in-any-state\"\n",
    "_points = 10\n",
    "\n",
    "test_cities = [\n",
    "    {\"name\": \"Las Vegas\", \"state\": \"NV\", \"population\": 667501},\n",
    "    {\"name\": \"Denver\", \"state\": \"CO\", \"population\": 749103},\n",
    "    {\"name\": \"Colorado Springs\", \"state\": \"CO\", \"population\": 489529},\n",
    "    {\"name\": \"Aurora\", \"state\": \"CO\", \"population\": 388723},\n",
    "    {\"name\": \"Henderson\", \"state\": \"NV\", \"population\": 341531},\n",
    "    {\"name\": \"Anaheim\", \"state\": \"CA\", \"population\": 349699},\n",
    "]\n",
    "\n",
    "tc.assertAlmostEqual(get_mean_pop(cities_group1, \"TX\"), 1560856.6666666667)\n",
    "tc.assertAlmostEqual(get_mean_pop(cities_group1, \"CA\"), 2705630.0)\n",
    "tc.assertAlmostEqual(get_mean_pop(cities_group1, \"MA\"), 695506.0)\n",
    "tc.assertAlmostEqual(get_mean_pop(cities_group2, \"CO\"), 597552.5)\n",
    "tc.assertAlmostEqual(get_mean_pop(test_cities, \"NV\"), 504516.0)\n",
    "tc.assertAlmostEqual(get_mean_pop(test_cities, \"CO\"), 542451.6666666666)\n",
    "tc.assertAlmostEqual(get_mean_pop(test_cities, \"CA\"), 349699.0)"
   ]
  }
 ],
 "metadata": {
  "kernelspec": {
   "display_name": "gies",
   "language": "python",
   "name": "python3"
  },
  "language_info": {
   "codemirror_mode": {
    "name": "ipython",
    "version": 3
   },
   "file_extension": ".py",
   "mimetype": "text/x-python",
   "name": "python",
   "nbconvert_exporter": "python",
   "pygments_lexer": "ipython3",
   "version": "3.12.6"
  }
 },
 "nbformat": 4,
 "nbformat_minor": 5
}
