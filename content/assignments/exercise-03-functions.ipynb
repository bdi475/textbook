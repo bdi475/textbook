{
 "cells": [
  {
   "cell_type": "markdown",
   "id": "52d52999",
   "metadata": {},
   "source": [
    "# Exercise 3 - Functions\n",
    "\n",
    "- 🏆 20 points available\n",
    "- ✏️ Last updated on 9/7/2025"
   ]
  },
  {
   "cell_type": "markdown",
   "id": "dbb8486f",
   "metadata": {
    "id": "DiznwS2xem7h"
   },
   "source": [
    "▶️ First, run the code cell below to import unittest, the module used for the **🧭 Check Your Work** boxes and the autograder."
   ]
  },
  {
   "cell_type": "code",
   "execution_count": null,
   "id": "d911d7fb",
   "metadata": {
    "id": "xOFvIip0em7h"
   },
   "outputs": [],
   "source": [
    "# DO NOT MODIFY THE CODE IN THIS CELL\n",
    "import unittest\n",
    "tc = unittest.TestCase()"
   ]
  },
  {
   "cell_type": "markdown",
   "id": "cac11410",
   "metadata": {},
   "source": [
    "---\n",
    "\n",
    "### 🎯 Challenge 1: Find the Smaller Number\n",
    "\n",
    "#### 👇 Tasks\n",
    "\n",
    "Create a function named `find_smaller` that takes two numbers as input (parameters).\n",
    "\n",
    "1. The function should return the smaller of the two values.  \n",
    "2. If both values are equal, return either one.  \n",
    "3. Do not use Python’s built-in `min()` function.  \n",
    "\n",
    "#### 💡 Expected Output\n",
    "\n",
    "```plaintext\n",
    "7\n",
    "-10\n",
    "0\n",
    "```"
   ]
  },
  {
   "cell_type": "code",
   "execution_count": null,
   "id": "2a853316",
   "metadata": {
    "id": "jfnhv8_Yem7j"
   },
   "outputs": [],
   "source": [
    "# YOUR CODE BEGINS\n",
    "\n",
    "# YOUR CODE ENDS\n",
    "\n",
    "print(find_smaller(9, 7))\n",
    "print(find_smaller(-10, -5))\n",
    "print(find_smaller(0, 0))"
   ]
  },
  {
   "cell_type": "markdown",
   "id": "7a2bc4ad",
   "metadata": {
    "id": "EdrK-mBsem7r"
   },
   "source": [
    "#### 🧭 Check Your Work\n",
    "\n",
    "Run the code cell below to test your solution.\n",
    "\n",
    "- ✔️ If the code cell runs without errors, you're good to move on.\n",
    "- ❌ If the code cell produces an error, review your code and fix any mistakes."
   ]
  },
  {
   "cell_type": "code",
   "execution_count": null,
   "id": "6bd27917",
   "metadata": {},
   "outputs": [],
   "source": [
    "_test_case = 'find-smaller'\n",
    "_points = 3\n",
    "\n",
    "tc.assertEqual(find_smaller(5, 5), 5)\n",
    "tc.assertEqual(find_smaller(8, 5), 5)\n",
    "tc.assertEqual(find_smaller(-7, -2), -7)"
   ]
  },
  {
   "cell_type": "markdown",
   "id": "22266848",
   "metadata": {
    "id": "Dg-bBkF8fGaN"
   },
   "source": [
    "---\n",
    "\n",
    "### 🎯 Challenge 2: Find the Largest Number in a List\n",
    "\n",
    "#### 👇 Tasks\n",
    "\n",
    "Create a function named `find_largest` that takes one parameter of type `list`.\n",
    "\n",
    "1. The list will only contain numbers.  \n",
    "2. You can assume the list will always have at least one element.  \n",
    "3. The `find_largest` function should return the largest value in the list.  \n",
    "\n",
    "#### ⚔️ Special Requirement\n",
    "Do not use Python’s built-in `max()` function.  \n",
    "\n",
    "#### 🧭 Tips\n",
    "1. Create a variable named `largest` inside the function. Initialize it with the first element of the list.  \n",
    "2. Use a `for` loop to iterate through the list. For each value, update `largest` if `value > largest`.  \n",
    "\n",
    "#### 🔑 Expected Output\n",
    "\n",
    "```plaintext\n",
    "8\n",
    "5\n",
    "10\n",
    "```"
   ]
  },
  {
   "cell_type": "code",
   "execution_count": null,
   "id": "08b5949c",
   "metadata": {
    "colab": {
     "base_uri": "https://localhost:8080/"
    },
    "id": "OoYuVAyhem7q",
    "outputId": "8eea66d1-ee93-464c-9889-346fd512d07a"
   },
   "outputs": [],
   "source": [
    "# YOUR CODE BEGINS\n",
    "\n",
    "# YOUR CODE ENDS\n",
    "\n",
    "print(find_largest([5, 3, 8]))\n",
    "print(find_largest([5, -7, -4]))\n",
    "print(find_largest([9, 5, 4, 1, 3, 7, 0, 10]))"
   ]
  },
  {
   "cell_type": "markdown",
   "id": "576a4028-6cbd-4433-bc8b-966ffabd89d7",
   "metadata": {
    "id": "EdrK-mBsem7r"
   },
   "source": [
    "#### 🧭 Check Your Work\n",
    "\n",
    "Run the code cell below to test your solution.\n",
    "\n",
    "- ✔️ If the code cell runs without errors, you're good to move on.\n",
    "- ❌ If the code cell produces an error, review your code and fix any mistakes."
   ]
  },
  {
   "cell_type": "code",
   "execution_count": null,
   "id": "cd666161",
   "metadata": {
    "id": "DXDG3nzpem7r"
   },
   "outputs": [],
   "source": [
    "_test_case = 'find-the-largest-number-in-a-list'\n",
    "_points = 4\n",
    "\n",
    "tc_input_lists = [\n",
    "    [4, 7, 3],\n",
    "    [-1, -12, -3, -4, -5],\n",
    "    [0, 0]\n",
    "]\n",
    "\n",
    "for l in tc_input_lists:\n",
    "    tc.assertEqual(find_largest(l), max(l), f'find_largest({l}) should print out {max(l)}, not {find_largest(l)}.')"
   ]
  },
  {
   "cell_type": "markdown",
   "id": "acdf6787-9f77-423f-9541-6686b70c98ee",
   "metadata": {
    "id": "Dg-bBkF8fGaN"
   },
   "source": [
    "---\n",
    "\n",
    "### 🎯 Challenge 3: Multiples of Four Checker\n",
    "\n",
    "#### 👇 Tasks\n",
    "\n",
    "Create a function named `is_multiple_of_four` that takes one numeric parameter.\n",
    "\n",
    "1. The function should return `True` if the input is a multiple of `4`.  \n",
    "2. Otherwise, it should return `False`.  \n",
    "\n",
    "#### 💡 Expected Output\n",
    "\n",
    "```plaintext\n",
    "False\n",
    "True\n",
    "False\n",
    "True\n",
    "```"
   ]
  },
  {
   "cell_type": "code",
   "execution_count": null,
   "id": "68f0eddd-6f51-416b-938b-dcd32c0f4c17",
   "metadata": {},
   "outputs": [],
   "source": [
    "# YOUR CODE BEGINS\n",
    "\n",
    "# YOUR CODE ENDS\n",
    "\n",
    "print(is_multiple_of_four(3))\n",
    "print(is_multiple_of_four(8))\n",
    "print(is_multiple_of_four(-10))\n",
    "print(is_multiple_of_four(-4))"
   ]
  },
  {
   "cell_type": "markdown",
   "id": "9d8edbb5-3e08-4e06-8d2b-f6f18c75b082",
   "metadata": {
    "id": "EdrK-mBsem7r"
   },
   "source": [
    "#### 🧭 Check Your Work\n",
    "\n",
    "Run the code cell below to test your solution.\n",
    "\n",
    "- ✔️ If the code cell runs without errors, you're good to move on.\n",
    "- ❌ If the code cell produces an error, review your code and fix any mistakes."
   ]
  },
  {
   "cell_type": "code",
   "execution_count": null,
   "id": "4900231a",
   "metadata": {},
   "outputs": [],
   "source": [
    "_test_case = 'multiples-of-four-checker'\n",
    "_points = 3\n",
    "\n",
    "tc.assertEqual(is_multiple_of_four(7), False)\n",
    "tc.assertEqual(is_multiple_of_four(-16), True)\n",
    "tc.assertEqual(is_multiple_of_four(4), True)"
   ]
  },
  {
   "cell_type": "markdown",
   "id": "ca368045-ca13-4578-8de7-161c02934411",
   "metadata": {
    "id": "Dg-bBkF8fGaN"
   },
   "source": [
    "---\n",
    "\n",
    "### 🎯 Challenge 4: Calculate Revenue from an Order\n",
    "\n",
    "#### 👇 Tasks\n",
    "\n",
    "1. Create a function named `get_revenue` that takes one parameter of type `dict` (dictionary).  \n",
    "2. The input dictionary will contain details about a product order with three keys: `product`, `quantity`, and `unit_price`.  \n",
    "3. The `get_revenue` function should return the product of `quantity` and `unit_price`.  \n",
    "\n",
    "\n",
    "#### 🔑 Expected Output\n",
    "\n",
    "```plaintext\n",
    "40.0\n",
    "45.0\n",
    "149.9\n",
    "```"
   ]
  },
  {
   "cell_type": "code",
   "execution_count": null,
   "id": "a37cf021-8d0d-4777-8dbb-9dc7198c11b4",
   "metadata": {},
   "outputs": [],
   "source": [
    "o1 = {\"product\": \"Tape\", \"quantity\": 20, \"unit_price\": 2.0}\n",
    "o2 = {\"product\": \"Ruler\", \"quantity\": 30, \"unit_price\": 1.5}\n",
    "o3 = {\"product\": \"Flash Cards\", \"quantity\": 10, \"unit_price\": 14.99}\n",
    "\n",
    "# YOUR CODE BEGINS\n",
    "\n",
    "# YOUR CODE ENDS\n",
    "\n",
    "print(get_revenue(o1))\n",
    "print(get_revenue(o2))\n",
    "print(get_revenue(o3))"
   ]
  },
  {
   "cell_type": "markdown",
   "id": "2ad6fd19-8315-413b-9c4b-2c8e218cbd77",
   "metadata": {
    "id": "EdrK-mBsem7r"
   },
   "source": [
    "#### 🧭 Check Your Work\n",
    "\n",
    "Run the code cell below to test your solution.\n",
    "\n",
    "- ✔️ If the code cell runs without errors, you're good to move on.\n",
    "- ❌ If the code cell produces an error, review your code and fix any mistakes."
   ]
  },
  {
   "cell_type": "code",
   "execution_count": null,
   "id": "3ca28c33-8027-4609-af29-ba8eef7a920b",
   "metadata": {},
   "outputs": [],
   "source": [
    "_test_case = 'calculate-revenue-from-order'\n",
    "_points = 5\n",
    "\n",
    "tc.assertEqual(get_revenue({\"quantity\": 15, \"unit_price\": 3.0}), 45.0)\n",
    "tc.assertEqual(get_revenue({\"quantity\": 0, \"unit_price\": 45.0}), 0)"
   ]
  },
  {
   "cell_type": "markdown",
   "id": "9383c11b-6d1e-4263-b256-fb919463ad4f",
   "metadata": {
    "id": "Dg-bBkF8fGaN"
   },
   "source": [
    "---\n",
    "\n",
    "### 🎯 Challenge 5: Convert USD to INR with a Fee\n",
    "\n",
    "#### 👇 Tasks\n",
    "\n",
    "You are working as a bank teller responsible for converting United States Dollars (USD $) to Indian Rupees (INR ₹).\n",
    "\n",
    "Create a function named `usd_to_inr_with_fee` that takes the following three parameters (in this order):\n",
    "\n",
    "1. `amount`: The amount in USD (can be `int` or `float`).  \n",
    "2. `rate`: The conversion rate between USD and INR. For example, a rate of `90` means that 100 USD converts to 9000 INR (assuming the fee is already paid).  \n",
    "3. `fee`: A fixed currency conversion fee in USD (applies regardless of the amount).  \n",
    "\n",
    "The function should:  \n",
    "- **First subtract** the `fee` from `amount`.  \n",
    "- Multiply the result by the `rate`.  \n",
    "- Return the converted amount in INR.  \n",
    "\n",
    "Mathematical formula:  \n",
    "\n",
    "$$(amount - fee) \\times rate$$\n",
    "\n",
    "#### 🔑 Expected Output\n",
    "\n",
    "```plaintext\n",
    "8000\n",
    "10620\n",
    "19700\n",
    "```"
   ]
  },
  {
   "cell_type": "code",
   "execution_count": null,
   "id": "7817af28-fb1d-4046-9027-0723a95e3742",
   "metadata": {
    "scrolled": true
   },
   "outputs": [],
   "source": [
    "# YOUR CODE BEGINS\n",
    "\n",
    "# YOUR CODE ENDS\n",
    "\n",
    "print(usd_to_inr_with_fee(105, 80, 5))  # amount = 105,\n",
    "                                        # rate = 80\n",
    "                                        # fee = 5\n",
    "print(usd_to_inr_with_fee(120, 90, 2))\n",
    "print(usd_to_inr_with_fee(200, 100, 3))"
   ]
  },
  {
   "cell_type": "markdown",
   "id": "d12b2810-d44c-460e-b27b-5cfedaf4e1ed",
   "metadata": {
    "id": "EdrK-mBsem7r"
   },
   "source": [
    "#### 🧭 Check Your Work\n",
    "\n",
    "Run the code cell below to test your solution.\n",
    "\n",
    "- ✔️ If the code cell runs without errors, you're good to move on.\n",
    "- ❌ If the code cell produces an error, review your code and fix any mistakes."
   ]
  },
  {
   "cell_type": "code",
   "execution_count": null,
   "id": "c164366b-4ed2-4dea-9b40-7f262d80c06c",
   "metadata": {},
   "outputs": [],
   "source": [
    "_test_case = 'convert-usd-to-inr-with-a-fee'\n",
    "_points = 5\n",
    "\n",
    "tc.assertAlmostEqual(usd_to_inr_with_fee(5550, 70, 4), 388220)\n",
    "tc.assertAlmostEqual(usd_to_inr_with_fee(2255, 71, 15), 159040)\n",
    "tc.assertAlmostEqual(usd_to_inr_with_fee(2421, 72, 10), 173592)"
   ]
  }
 ],
 "metadata": {
  "kernelspec": {
   "display_name": "Python 3 (ipykernel)",
   "language": "python",
   "name": "python3"
  },
  "language_info": {
   "codemirror_mode": {
    "name": "ipython",
    "version": 3
   },
   "file_extension": ".py",
   "mimetype": "text/x-python",
   "name": "python",
   "nbconvert_exporter": "python",
   "pygments_lexer": "ipython3",
   "version": "3.10.10"
  }
 },
 "nbformat": 4,
 "nbformat_minor": 5
}
