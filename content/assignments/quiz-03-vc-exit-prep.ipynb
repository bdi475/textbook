{
 "cells": [
  {
   "cell_type": "markdown",
   "id": "32a23185",
   "metadata": {},
   "source": [
    "# Quiz 3 Prep - Venture Capital Exit Analysis\n",
    "\n",
    "- 🏆 25 points available\n"
   ]
  },
  {
   "cell_type": "markdown",
   "id": "91c6f1f2",
   "metadata": {},
   "source": [
    "▶️ First, run the code below to import `unittest`, a module used for **🧭 Check Your Work** sections and the autograder.\n"
   ]
  },
  {
   "cell_type": "code",
   "execution_count": null,
   "id": "6a9fefca",
   "metadata": {},
   "outputs": [],
   "source": [
    "# DO NOT MODIFY THE CODE IN THIS CELL\n",
    "import unittest\n",
    "\n",
    "tc = unittest.TestCase()"
   ]
  },
  {
   "cell_type": "markdown",
   "id": "abab4537-7d48-478b-aab6-a6ccda834b9c",
   "metadata": {},
   "source": [
    "▶️ Run the code below to import `pandas` and `numpy`.\n"
   ]
  },
  {
   "cell_type": "code",
   "execution_count": null,
   "id": "19247c62-4f3f-4697-98ce-60b118c342ff",
   "metadata": {},
   "outputs": [],
   "source": [
    "import pandas as pd\n",
    "import numpy as np"
   ]
  },
  {
   "cell_type": "markdown",
   "id": "59897797-f3e9-4c7f-b82f-ec296de1fb5b",
   "metadata": {},
   "source": [
    "---\n",
    "\n",
    "### 🗃️ Dataset\n",
    "\n",
    "You will be working with two datasets in this notebook:\n",
    "\n",
    "- `df_companies` contains some basic information about various companies.\n",
    "- `df_info` contains additional information about the companie.\n"
   ]
  },
  {
   "cell_type": "code",
   "execution_count": null,
   "id": "775c481b-2bae-40da-931e-5073803efa79",
   "metadata": {},
   "outputs": [],
   "source": [
    "df_companies = pd.read_csv(\n",
    "    \"https://raw.githubusercontent.com/bdi475/datasets/refs/heads/main/fake-companies.csv\"\n",
    ")\n",
    "df_companies_backup = df_companies.copy()\n",
    "df_companies.head()"
   ]
  },
  {
   "cell_type": "code",
   "execution_count": null,
   "id": "53c8ff16-3e80-44f3-abf3-4f3a2324dae8",
   "metadata": {},
   "outputs": [],
   "source": [
    "df_info = pd.read_csv(\n",
    "    \"https://raw.githubusercontent.com/bdi475/datasets/refs/heads/main/fake-company-info.csv\"\n",
    ")\n",
    "df_info_backup = df_info.copy()\n",
    "df_info.head()"
   ]
  },
  {
   "cell_type": "markdown",
   "id": "313edb71",
   "metadata": {},
   "source": [
    "---\n",
    "\n",
    "### 🎯 Challenge 1: Find the Number of Companies in the Dataset\n",
    "\n",
    "#### 👇 Tasks\n",
    "\n",
    "- ✔️ Find the number of companies (i.e., number of rows) in the `df_companies` DataFrame.\n",
    "- ✔️ Store the result to a new variable named `num_companies`.\n"
   ]
  },
  {
   "cell_type": "code",
   "execution_count": null,
   "id": "1dfe7cc8-da38-47f2-a042-89abbdbecef2",
   "metadata": {},
   "outputs": [],
   "source": [
    "# YOUR CODE BEGINS\n",
    "\n",
    "# YOUR CODE ENDS\n",
    "\n",
    "print(f\"There are {num_companies} companies in the dataset.\")"
   ]
  },
  {
   "cell_type": "markdown",
   "id": "bd79bf15",
   "metadata": {},
   "source": [
    "#### 🧭 Check Your Work\n",
    "\n",
    "Run the code cell below to test your solution.\n",
    "\n",
    "- ✔️ If the code cell runs without errors, you're good to move on.\n",
    "- ❌ If the code cell produces an error, review your code and fix any mistakes.\n"
   ]
  },
  {
   "cell_type": "code",
   "execution_count": null,
   "id": "3d57285f",
   "metadata": {
    "deletable": false,
    "editable": false
   },
   "outputs": [],
   "source": [
    "_test_case = \"num_companies\"\n",
    "_points = 1\n",
    "\n",
    "tc.assertEqual(num_companies, df_companies_backup.index.size)"
   ]
  },
  {
   "cell_type": "markdown",
   "id": "734ae5f1",
   "metadata": {},
   "source": [
    "---\n",
    "\n",
    "### 🎯 Challenge 2: Find the Number of Profitable Companies\n",
    "\n",
    "#### 👇 Tasks\n",
    "\n",
    "- ✔️ Find the number of **profitable** companies in the `df_companies` DataFrame.\n",
    "  - A company is considered **profitable** if the `\"is_profitable\"` column is `True`.\n",
    "- ✔️ Store the result to a new variable named `num_profitable_companies`.\n"
   ]
  },
  {
   "cell_type": "code",
   "execution_count": null,
   "id": "eda2a9fa",
   "metadata": {},
   "outputs": [],
   "source": [
    "# YOUR CODE BEGINS\n",
    "\n",
    "# YOUR CODE ENDS\n",
    "\n",
    "print(f\"There are {num_profitable_companies} profitable companies in the dataset.\")"
   ]
  },
  {
   "cell_type": "markdown",
   "id": "ac17fd92",
   "metadata": {},
   "source": [
    "#### 🧭 Check Your Work\n",
    "\n",
    "Run the code cell below to test your solution.\n",
    "\n",
    "- ✔️ If the code cell runs without errors, you're good to move on.\n",
    "- ❌ If the code cell produces an error, review your code and fix any mistakes.\n"
   ]
  },
  {
   "cell_type": "code",
   "execution_count": null,
   "id": "238f77de",
   "metadata": {
    "deletable": false,
    "editable": false
   },
   "outputs": [],
   "source": [
    "_test_case = \"num-profitable-companies\"\n",
    "_points = 3\n",
    "\n",
    "tc.assertEqual(\n",
    "    num_profitable_companies,\n",
    "    df_companies_backup.query(\"_\".join([\"Is\", \"Profitable\"]).lower()).index.size,\n",
    ")"
   ]
  },
  {
   "cell_type": "markdown",
   "id": "2964d402",
   "metadata": {},
   "source": [
    "---\n",
    "\n",
    "### 🎯 Challenge 3: Filter Companies without a Country\n",
    "\n",
    "#### 👇 Tasks\n",
    "\n",
    "- ✔️ Filter the `df_companies` DataFrame to find all companies where the `country` column is missing (i.e., contains `np.nan` values).\n",
    "- ✔️ Store the resulting DataFrame to a new variable named `df_missing_country`.\n",
    "\n",
    "#### 📤 Expected Output\n",
    "\n",
    "|     | company_id | company_name | country | is_profitable | branches |\n",
    "| --: | ---------: | :----------- | ------: | :------------ | -------: |\n",
    "| 120 |     528219 | Stein Group  |     nan | True          |        4 |\n",
    "| 222 |     146245 | Lopez-Scott  |     nan | True          |        1 |\n"
   ]
  },
  {
   "cell_type": "code",
   "execution_count": null,
   "id": "8a38fc8e",
   "metadata": {},
   "outputs": [],
   "source": [
    "# YOUR CODE BEGINS\n",
    "\n",
    "# YOUR CODE ENDS\n",
    "\n",
    "display(df_missing_country)"
   ]
  },
  {
   "cell_type": "markdown",
   "id": "c903a673",
   "metadata": {},
   "source": [
    "#### 🧭 Check Your Work\n",
    "\n",
    "Run the code cell below to test your solution.\n",
    "\n",
    "- ✔️ If the code cell runs without errors, you're good to move on.\n",
    "- ❌ If the code cell produces an error, review your code and fix any mistakes.\n"
   ]
  },
  {
   "cell_type": "code",
   "execution_count": null,
   "id": "6b8b249f",
   "metadata": {
    "deletable": false,
    "editable": false
   },
   "outputs": [],
   "source": [
    "_test_case = \"filter-companies-without-country-values\"\n",
    "_points = 3\n",
    "\n",
    "pd.testing.assert_frame_equal(\n",
    "    df_missing_country.sort_values(\"company_id\").reset_index(drop=True),\n",
    "    df_companies_backup.query(\"~~~country.notna()\")\n",
    "    .sort_values(\"company_id\")\n",
    "    .reset_index(drop=True),\n",
    "    check_dtype=False,\n",
    "    check_column_type=False,\n",
    ")"
   ]
  },
  {
   "cell_type": "markdown",
   "id": "0c5a9db6-599c-44c0-9e38-8d430d5dd97c",
   "metadata": {},
   "source": [
    "---\n",
    "\n",
    "▶️ Run the code below to merge `df_info` into `df_companies`.\n",
    "\n",
    "We provide this code for you, so you don't need to modify it.\n"
   ]
  },
  {
   "cell_type": "code",
   "execution_count": null,
   "id": "5f2d330b-654d-46fd-8513-f89b66babe4f",
   "metadata": {},
   "outputs": [],
   "source": [
    "# DO NOT CHANGE THE CODE IN THIS CELL\n",
    "# Merge df_info into df_companies\n",
    "# fmt: off\n",
    "df = pd.merge(\n",
    "    left=df_companies, \n",
    "    right=df_info, \n",
    "    on=\"company_id\", \n",
    "    how=\"inner\"\n",
    ")\n",
    "df_backup = df.copy()\n",
    "original_columns = df.columns.tolist() # for grading purposes\n",
    "# fmt: on\n",
    "\n",
    "print(f\"The merged DataFrame has {df.shape[0]} rows and {df.shape[1]} columns.\")"
   ]
  },
  {
   "cell_type": "markdown",
   "id": "e21f3edf",
   "metadata": {},
   "source": [
    "The code above merges the two DataFrames using an inner join on the `\"company_id\"` column. The resulting DataFrame `df` contains all columns from both DataFrames.\n",
    "\n",
    "For the remaining challenges, you will work with the merged DataFrame `df`.\n",
    "\n",
    "▶️ Display the first three rows of the merged DataFrame `df` to understand its structure.\n"
   ]
  },
  {
   "cell_type": "code",
   "execution_count": null,
   "id": "fd68d3b2-082c-4aea-a694-5026a265718f",
   "metadata": {},
   "outputs": [],
   "source": [
    "df.head(3)"
   ]
  },
  {
   "cell_type": "markdown",
   "id": "bd4208ef",
   "metadata": {},
   "source": [
    "---\n",
    "\n",
    "### 🎯 Challenge 4: Filter and Sort Indian Companies\n",
    "\n",
    "#### 👇 Tasks\n",
    "\n",
    "- ✔️ Filter the `df` DataFrame to find all companies where the `\"country\"` column is \"India\".\n",
    "- ✔️ Store the filtered DataFrame to a new variable named `df_indian_companies`.\n",
    "- ✔️ Sort `df_indian_companies` by the `\"revenue\"` column in descending order.\n"
   ]
  },
  {
   "cell_type": "code",
   "execution_count": null,
   "id": "febecd15",
   "metadata": {},
   "outputs": [],
   "source": [
    "# YOUR CODE BEGINS\n",
    "\n",
    "# YOUR CODE ENDS\n",
    "\n",
    "display(df_indian_companies)"
   ]
  },
  {
   "cell_type": "markdown",
   "id": "d44b8fed",
   "metadata": {},
   "source": [
    "#### 🧭 Check Your Work\n",
    "\n",
    "Run the code cell below to test your solution.\n",
    "\n",
    "- ✔️ If the code cell runs without errors, you're good to move on.\n",
    "- ❌ If the code cell produces an error, review your code and fix any mistakes.\n"
   ]
  },
  {
   "cell_type": "code",
   "execution_count": null,
   "id": "011f9e16",
   "metadata": {
    "deletable": false,
    "editable": false
   },
   "outputs": [],
   "source": [
    "_test_case = \"filter-and-sort-indian-companies\"\n",
    "_points = 3\n",
    "\n",
    "pd.testing.assert_frame_equal(\n",
    "    df_indian_companies[original_columns].reset_index(drop=True),\n",
    "    df_backup[original_columns]\n",
    "    .query(\"country == '\" + \"in\".capitalize() + \"DIA'\".lower())\n",
    "    .sort_values(\"revenue\")[::-1]\n",
    "    .reset_index(drop=True),\n",
    ")"
   ]
  },
  {
   "cell_type": "markdown",
   "id": "bf60a4dc",
   "metadata": {},
   "source": [
    "---\n",
    "\n",
    "### 🎯 Challenge 5: Convert `\"inception_date\"` to a DateTime Type and Extract Inception Year\n",
    "\n",
    "#### 👇 Tasks\n",
    "\n",
    "- ✔️ Convert the `\"inception_date\"` column in the `df` DataFrame to a DateTime type (`datetime64[ns]`).\n",
    "  - Hint: Use the `pd.to_datetime()` method.\n",
    "- ✔️ Add a new column named `\"inception_year\"` to the DataFrame that extracts the year from the `\"inception_date\"` column.\n",
    "  - Hint: Use the `.dt` accessor to extract the year from a DateTime column.\n",
    "  - The `\"inception_year\"` column should contain integer values representing the year (e.g., `2018`, `2019`, etc.).\n",
    "- ✔️ Directly update the `df` DataFrame without creating a new DataFrame.\n",
    "\n",
    "#### 📤 Expected Output\n",
    "\n",
    "|     | inception_date | inception_year |\n",
    "| --: | :------------- | -------------: |\n",
    "|   0 | 2015-08-01     |           2015 |\n",
    "|   1 | 2012-11-29     |           2012 |\n",
    "|   2 | 2018-05-18     |           2018 |\n",
    "\n",
    "```\n",
    "inception_date dtype: datetime64[ns]\n",
    "inception_year dtype: int32\n",
    "```\n"
   ]
  },
  {
   "cell_type": "code",
   "execution_count": null,
   "id": "f6dc79d5",
   "metadata": {},
   "outputs": [],
   "source": [
    "# YOUR CODE BEGINS\n",
    "\n",
    "# YOUR CODE ENDS\n",
    "\n",
    "# Select and display the relevant columns to verify the changes\n",
    "display(df[[\"inception_date\", \"inception_year\"]].head(3))\n",
    "print(f\"inception_date dtype: {df['inception_date'].dtype}\")\n",
    "print(f\"inception_year dtype: {df['inception_year'].dtype}\")"
   ]
  },
  {
   "cell_type": "markdown",
   "id": "0e4607ea",
   "metadata": {},
   "source": [
    "#### 🧭 Check Your Work\n",
    "\n",
    "Run the code cell below to test your solution.\n",
    "\n",
    "- ✔️ If the code cell runs without errors, you're good to move on.\n",
    "- ❌ If the code cell produces an error, review your code and fix any mistakes.\n"
   ]
  },
  {
   "cell_type": "code",
   "execution_count": null,
   "id": "1fcacd83",
   "metadata": {
    "deletable": false,
    "editable": false
   },
   "outputs": [],
   "source": [
    "_test_case = \"extract-inception-year\"\n",
    "_points = 3\n",
    "\n",
    "df_backup2 = df_backup.copy()\n",
    "df_backup2[\"inception_date\"] = df_backup2[\"inception_date\"].astype(\n",
    "    \"date\".upper().lower() + \"TIME\".lower() + \"64[ns]\"\n",
    ")\n",
    "df_backup2[\"inception_year\"] = (\n",
    "    df_backup2[\"inception_date\"].astype(str).str[:4].astype(\"int32\")\n",
    ")\n",
    "\n",
    "pd.testing.assert_frame_equal(\n",
    "    df[[\"company_id\", \"inception_date\", \"inception_year\"]]\n",
    "    .sort_values(\"company_id\")\n",
    "    .reset_index(drop=True),\n",
    "    df_backup2[[\"company_id\", \"inception_date\", \"inception_year\"]]\n",
    "    .sort_values(\"company_id\")\n",
    "    .reset_index(drop=True),\n",
    "    check_dtype=False,\n",
    "    check_column_type=False,\n",
    ")"
   ]
  },
  {
   "cell_type": "markdown",
   "id": "e93db56e",
   "metadata": {},
   "source": [
    "---\n",
    "\n",
    "### 🎯 Challenge 6: Filter and Sort Companies with an Inception Year of 2018\n",
    "\n",
    "#### 👇 Tasks\n",
    "\n",
    "- ✔️ Filter the `df` DataFrame to find all companies where the inception year is 2018.\n",
    "- ✔️ Store the filtered DataFrame to a new variable named `df_companies_2018`.\n",
    "- ✔️ Sort `df_companies_2018` by the `\"inception_date\"` column in ascending order.\n",
    "\n",
    "#### 📤 Expected Output\n",
    "\n",
    "|     | company_id | company_name            | country                   | is_profitable | branches | ceo           | industry    | revenue | inception_date | inception_year |\n",
    "| --: | ---------: | :---------------------- | :------------------------ | :------------ | -------: | :------------ | :---------- | ------: | :------------- | -------------: |\n",
    "| 210 |     151345 | Wilson, Wright and Paul | Liberia                   | True          |        3 | David Stewart | Agriculture | 4741676 | 2018-01-01     |           2018 |\n",
    "| 134 |     760106 | Bennett-Ellis           | Jamaica                   | True          |        3 | Tracy Rivera  | Agriculture | 5201671 | 2018-01-07     |           2018 |\n",
    "|  41 |     353038 | Hester Inc              | Saint Pierre and Miquelon | True          |        5 | Karen Woods   | Software    | 7394055 | 2018-01-09     |           2018 |\n"
   ]
  },
  {
   "cell_type": "code",
   "execution_count": null,
   "id": "56d56f97",
   "metadata": {},
   "outputs": [],
   "source": [
    "# YOUR CODE BEGINS\n",
    "\n",
    "# YOUR CODE ENDS\n",
    "\n",
    "# Display the first 3 rows of the resulting DataFrame\n",
    "display(df_companies_2018.head(3))"
   ]
  },
  {
   "cell_type": "markdown",
   "id": "81ccfdf7",
   "metadata": {},
   "source": [
    "#### 🧭 Check Your Work\n",
    "\n",
    "Run the code cell below to test your solution.\n",
    "\n",
    "- ✔️ If the code cell runs without errors, you're good to move on.\n",
    "- ❌ If the code cell produces an error, review your code and fix any mistakes.\n"
   ]
  },
  {
   "cell_type": "code",
   "execution_count": null,
   "id": "b3404d57",
   "metadata": {
    "deletable": false,
    "editable": false
   },
   "outputs": [],
   "source": [
    "_test_case = \"companies-with-inception-year-2018\"\n",
    "_points = 2\n",
    "\n",
    "pd.testing.assert_frame_equal(\n",
    "    df_companies_2018.reset_index(drop=True),\n",
    "    df_backup2.query(\"inception_\" + \"YEAR\".lower() + \" == (1009 * 2)\")\n",
    "    .sort_values(\"inception_date\")[::-1][::-1]\n",
    "    .reset_index(drop=True),\n",
    ")"
   ]
  },
  {
   "cell_type": "markdown",
   "id": "a65e2c7b",
   "metadata": {},
   "source": [
    "---\n",
    "\n",
    "### 🎯 Challenge 7: Total Revenue by Country\n",
    "\n",
    "#### 👇 Tasks\n",
    "\n",
    "- ✔️ Group the `df` DataFrame by the `\"country\"` column and calculate the total (sum) revenue for each country.\n",
    "  - The resulting DataFrame should have two columns: `\"country\"` and `\"revenue\"`.\n",
    "- ✔️ Store the resulting DataFrame to a new variable named `df_revenue_by_country`.\n",
    "- ✔️ Sort `df_revenue_by_country` by the total revenue in descending order.\n",
    "\n",
    "#### 📤 Expected Output\n",
    "\n",
    "|     | country                |  revenue |\n",
    "| --: | :--------------------- | -------: |\n",
    "| 118 | Saint Kitts and Nevis  | 30231545 |\n",
    "|  92 | Malta                  | 28409854 |\n",
    "|  16 | Bosnia and Herzegovina | 25415016 |\n"
   ]
  },
  {
   "cell_type": "code",
   "execution_count": null,
   "id": "e57236af",
   "metadata": {},
   "outputs": [],
   "source": [
    "# YOUR CODE BEGINS\n",
    "\n",
    "# YOUR CODE ENDS\n",
    "\n",
    "# Display the first 3 rows of the resulting DataFrame\n",
    "display(df_revenue_by_country.head(3))"
   ]
  },
  {
   "cell_type": "markdown",
   "id": "b5ff0364",
   "metadata": {},
   "source": [
    "#### 🧭 Check Your Work\n",
    "\n",
    "Run the code cell below to test your solution.\n",
    "\n",
    "- ✔️ If the code cell runs without errors, you're good to move on.\n",
    "- ❌ If the code cell produces an error, review your code and fix any mistakes.\n"
   ]
  },
  {
   "cell_type": "code",
   "execution_count": null,
   "id": "371edc24",
   "metadata": {
    "deletable": false,
    "editable": false
   },
   "outputs": [],
   "source": [
    "_test_case = \"total-revenue-by-country\"\n",
    "_points = 3\n",
    "\n",
    "pd.testing.assert_frame_equal(\n",
    "    df_revenue_by_country.reset_index(drop=True),\n",
    "    df_backup2.pivot_table(index=\"country\", values=\"REVENUE\".lower(), aggfunc=\"sum\")\n",
    "    .reset_index()\n",
    "    .sort_values(\"REVENUE\".lower())[::-1]\n",
    "    .reset_index(drop=True),\n",
    ")"
   ]
  },
  {
   "cell_type": "markdown",
   "id": "fb397634",
   "metadata": {},
   "source": [
    "---\n",
    "\n",
    "### 🎯 Challenge 8: Number of Companies by Industry\n",
    "\n",
    "#### 👇 Tasks\n",
    "\n",
    "- ✔️ Group the `df` DataFrame by the `\"industry\"` column and calculate the number of companies in each industry.\n",
    "  - The resulting DataFrame should have two columns: `\"industry\"` and `\"num_companies\"`.\n",
    "- ✔️ Store the resulting DataFrame to a new variable named `df_num_companies_by_industry`.\n",
    "- ✔️ Sort `df_num_companies_by_industry` by the number of companies in descending order.\n",
    "\n",
    "#### 📤 Expected Output\n",
    "\n",
    "|     | industry           | num_companies |\n",
    "| --: | :----------------- | ------------: |\n",
    "|   0 | Agriculture        |            64 |\n",
    "|   2 | Financial Services |            52 |\n",
    "|   3 | Manufacturing      |            47 |\n"
   ]
  },
  {
   "cell_type": "code",
   "execution_count": null,
   "id": "13589f38",
   "metadata": {},
   "outputs": [],
   "source": [
    "# YOUR CODE BEGINS\n",
    "\n",
    "# YOUR CODE ENDS\n",
    "\n",
    "# Display the first 3 rows of the resulting DataFrame\n",
    "display(df_num_companies_by_industry.head(3))"
   ]
  },
  {
   "cell_type": "markdown",
   "id": "b5d0a5e9",
   "metadata": {},
   "source": [
    "#### 🧭 Check Your Work\n",
    "\n",
    "Run the code cell below to test your solution.\n",
    "\n",
    "- ✔️ If the code cell runs without errors, you're good to move on.\n",
    "- ❌ If the code cell produces an error, review your code and fix any mistakes.\n"
   ]
  },
  {
   "cell_type": "code",
   "execution_count": null,
   "id": "cf8143a6",
   "metadata": {
    "deletable": false,
    "editable": false
   },
   "outputs": [],
   "source": [
    "_test_case = \"number-of-companies-by-industry\"\n",
    "_points = 4\n",
    "\n",
    "pd.testing.assert_frame_equal(\n",
    "    df_num_companies_by_industry.reset_index(drop=True),\n",
    "    df_backup2.pivot_table(\n",
    "        index=\"industry\", values=\"COMPANY_ID\".lower(), aggfunc=\"count\"\n",
    "    )\n",
    "    .rename({\"company_id\": \"num_companies\"}, axis=1)\n",
    "    .reset_index()\n",
    "    .sort_values(\"num_companies\", ascending=False)\n",
    "    .reset_index(drop=True),\n",
    ")"
   ]
  },
  {
   "cell_type": "markdown",
   "id": "776bd598",
   "metadata": {},
   "source": [
    "---\n",
    "\n",
    "### 🎯 Challenge 9: Filter Companies that are Not Profitable with 6 or More Branches\n",
    "\n",
    "#### 👇 Tasks\n",
    "\n",
    "- ✔️ Filter the `df` DataFrame to find all companies that are **not profitable** (i.e., where the `\"is_profitable\"` column is `False`) and have 6 or more branches (i.e., where the `\"branches\"` column is greater than or equal to 6).\n",
    "- ✔️ Store the resulting DataFrame to a new variable named `df_no_profit`.\n",
    "- ✔️ You do not need to sort the resulting DataFrame.\n",
    "\n",
    "#### 📤 Expected Output\n",
    "\n",
    "|     | company_id | company_name | country | is_profitable | branches | ceo          | industry    | revenue | inception_date | inception_year |\n",
    "| --: | ---------: | :----------- | :------ | :------------ | -------: | :----------- | :---------- | ------: | :------------- | -------------: |\n",
    "|   9 |     296886 | Pearson Ltd  | France  | False         |        7 | Gina Buckley | Agriculture | 7896239 | 2014-04-19     |           2014 |\n"
   ]
  },
  {
   "cell_type": "code",
   "execution_count": null,
   "id": "42da466d",
   "metadata": {},
   "outputs": [],
   "source": [
    "# YOUR CODE BEGINS\n",
    "\n",
    "# YOUR CODE ENDS\n",
    "\n",
    "# Display the first 3 rows of the resulting DataFrame\n",
    "display(df_no_profit.head(3))"
   ]
  },
  {
   "cell_type": "markdown",
   "id": "1f440d18",
   "metadata": {},
   "source": [
    "#### 🧭 Check Your Work\n",
    "\n",
    "Run the code cell below to test your solution.\n",
    "\n",
    "- ✔️ If the code cell runs without errors, you're good to move on.\n",
    "- ❌ If the code cell produces an error, review your code and fix any mistakes.\n"
   ]
  },
  {
   "cell_type": "code",
   "execution_count": null,
   "id": "367fa7b7",
   "metadata": {
    "deletable": false,
    "editable": false
   },
   "outputs": [],
   "source": [
    "_test_case = \"no-profit-companies-with-6-or-more-branches\"\n",
    "_points = 3\n",
    "\n",
    "pd.testing.assert_frame_equal(\n",
    "    df_no_profit.reset_index(drop=True),\n",
    "    df_backup2.query(\"~IS_PROFITABLE & (BRANCHES >= 6)\".lower()).reset_index(drop=True),\n",
    ")"
   ]
  }
 ],
 "metadata": {
  "kernelspec": {
   "display_name": "gies",
   "language": "python",
   "name": "python3"
  },
  "language_info": {
   "codemirror_mode": {
    "name": "ipython",
    "version": 3
   },
   "file_extension": ".py",
   "mimetype": "text/x-python",
   "name": "python",
   "nbconvert_exporter": "python",
   "pygments_lexer": "ipython3",
   "version": "3.12.6"
  }
 },
 "nbformat": 4,
 "nbformat_minor": 5
}
