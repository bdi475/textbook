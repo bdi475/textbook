{
 "cells": [
  {
   "cell_type": "markdown",
   "metadata": {},
   "source": [
    "# Airbnb Listings Analysis using SQL\n",
    "\n",
    "- 🏆 80 points available\n",
    "- 🤠 Author: Park (ypark32@illinois.edu)\n",
    "- ✏️ Last updated on 10/12/2023"
   ]
  },
  {
   "cell_type": "markdown",
   "metadata": {},
   "source": [
    "---\n",
    "\n",
    "▶️ First, run the code cell below to import `unittest`, a module used for **🧭 Check Your Work** sections and the autograder."
   ]
  },
  {
   "cell_type": "code",
   "execution_count": null,
   "metadata": {},
   "outputs": [],
   "source": [
    "# DO NOT MODIFY THE CODE IN THIS CELL\n",
    "import base64\n",
    "import unittest\n",
    "tc = unittest.TestCase()"
   ]
  },
  {
   "cell_type": "markdown",
   "metadata": {},
   "source": [
    "---\n",
    "\n",
    "## 💎 Case overview\n",
    "\n",
    "![Airbnb logo](https://github.com/bdi475/images/blob/main/case-studies/airbnb-sql/airbnb-logo-black-background.png?raw=true)\n",
    "\n",
    "[Airbnb](https://airbnb.com/) is a popular platform for hosts to accommodate guests with short-term stays and leisure activities. It was born in 2008 when the two founders welcomed three guests to their San Francisco home. Airbnb has grown to serve 4 million hosts in about 100,000 cities. That makes Airbnb's valuation worth more than top three hotel chains combined as of December 2020 ([source](https://www.businessinsider.com/airbnb-ipo-valuation-tops-three-hotel-chains-combined-opening-day-2020-12)).\n",
    "\n",
    "### ⚔️ Your goal\n",
    "\n",
    "You have recently joined a property management firm as a business development manager. Your role is to establish and deepen relationships with the property owners. Your success on building relationships largely depends on the firm's ability to offer value-adding services to the property owners.\n",
    "\n",
    "A common concern that most property owners face is dealing with vacant properties. The traditional approach to to fill up vacant properties is to run paid advertisements or to provide sign-up incentives (e.g., free rent for a month if leased for 13+ months, gift cards, referral bonus, free parking). You have a better idea - why not convert some of the vacant properties into vacation rentals?\n",
    "\n",
    "In this case study, you'll use SQL analyze all Airbnb listings in the city your firm is operating in. Below are some of the questions you'll be answering.\n",
    "\n",
    "- 👉 Are there properties that can accommodate more than 8 guests?\n",
    "- 👉 Are there properties that target guests staying over a month?\n",
    "- 👉 Are there properties that have more than 5 bedrooms and 3 bathrooms?\n",
    "- 👉 What are the average price, occupancy (availability), and review score by room type?\n",
    "- 👉 Can you calculate the metrics of interest (number of listings, average price, average occupancy, average review score) by the number of bedrooms?\n",
    "- 👉 How about by neighbourhoods? Can you also find the average property dimensions (number of bedrooms & bathrooms)?\n",
    "- 👉 How do the metrics and dimensions differ between superhost and non-superhost listings?\n",
    "- 👉 Can you find all listings that were never booked?\n",
    "- 👉 Can you find the top 15 highest-rated listings?\n",
    "- 👉 Can you find listings with the keyword \"bright\"?\n",
    "\n",
    "Note that looking at *just* the listings data is not sufficient to determine whether converting a vacant property to an Airbnb listing is a good idea. The analysis you perform here is preliminary. If you'd like, you can download additional booking data at [http://insideairbnb.com/get-the-data.html](http://insideairbnb.com/get-the-data.html) to explore further on your own."
   ]
  },
  {
   "cell_type": "markdown",
   "metadata": {},
   "source": [
    "---\n",
    "\n",
    "### 🎯 Part 1: Choose a city 🌄\n",
    "\n",
    "Guess what - you get to pick your own city! 😺 \n",
    "\n",
    "Go to [this Google spreadsheet](https://docs.google.com/spreadsheets/d/1Yv3acCW6NYgcwVVo55TcgQ-aXcAsSmoVo_Su79xm9Js/edit?usp=sharing) and mark your NetID in any row where the city has not been taken yet (the selection is based on a first-come, first-served basis). Store the copied URL to a new variable named `file_url`.\n",
    "\n",
    "#### 🔑 Sample Code\n",
    "```python\n",
    "file_url = 'https://github.com/bdi475/datasets/raw/main/case-studies/airbnb-sql/Chicago.csv'\n",
    "```"
   ]
  },
  {
   "cell_type": "code",
   "execution_count": null,
   "metadata": {},
   "outputs": [],
   "source": [
    "# YOUR CODE BEGINS\n",
    "\n",
    "# YOUR CODE ENDS\n",
    "\n",
    "print(f'CSV File URL: {file_url}')"
   ]
  },
  {
   "cell_type": "markdown",
   "metadata": {},
   "source": [
    "#### 🧭 Check Your Work\n",
    "\n",
    "Run the code cell below to test your solution.\n",
    "\n",
    "- ✔️ If the code cell runs without errors, you're good to move on.\n",
    "- ❌ If the code cell produces an error, review your code and fix any mistakes."
   ]
  },
  {
   "cell_type": "code",
   "execution_count": null,
   "metadata": {
    "deletable": false,
    "editable": false,
    "nbgrader": {
     "grade": true,
     "grade_id": "part-01",
     "locked": true,
     "points": "2",
     "solution": false
    }
   },
   "outputs": [],
   "source": [
    "# DO NOT CHANGE THE CODE IN THIS CELL\n",
    "_test_case = 'part-01'\n",
    "_points = 2\n",
    "\n",
    "import pandas as pd\n",
    "df_check = pd.read_csv(file_url)\n",
    "\n",
    "tc.assertEqual(set(df_check.columns), set(['name', 'neighbourhood', 'room_type', 'bedrooms', 'bathrooms', \n",
    "                                           'accommodates', 'minimum_nights', 'price', 'availability_365', \n",
    "                                           'number_of_reviews', 'review_score', 'latitude', 'longitude', 'is_superhost']))\n",
    "\n",
    "tc.assertGreater(df_check.shape[0], 100, 'The city should have at least 100 listings')"
   ]
  },
  {
   "cell_type": "markdown",
   "metadata": {},
   "source": [
    "---\n",
    "\n",
    "### 🎯 Part 2: Import packages\n",
    "\n",
    "#### 👇 Tasks\n",
    "\n",
    "- ✔️ Import the following Python packages.\n",
    "    1. `pandas`: Use alias `pd`.\n",
    "    2. `numpy`: Use alias `np`.\n",
    "    3. `sqlite3`: No alias"
   ]
  },
  {
   "cell_type": "code",
   "execution_count": null,
   "metadata": {},
   "outputs": [],
   "source": [
    "# YOUR CODE BEGINS\n",
    "\n",
    "# YOUR CODE ENDS"
   ]
  },
  {
   "cell_type": "markdown",
   "metadata": {},
   "source": [
    "#### 🧭 Check Your Work\n",
    "\n",
    "Run the code cell below to test your solution.\n",
    "\n",
    "- ✔️ If the code cell runs without errors, you're good to move on.\n",
    "- ❌ If the code cell produces an error, review your code and fix any mistakes."
   ]
  },
  {
   "cell_type": "code",
   "execution_count": null,
   "metadata": {
    "deletable": false,
    "editable": false,
    "nbgrader": {
     "grade": true,
     "grade_id": "part-02",
     "locked": true,
     "points": "2",
     "solution": false
    }
   },
   "outputs": [],
   "source": [
    "# DO NOT CHANGE THE CODE IN THIS CELL\n",
    "_test_case = 'part-02'\n",
    "_points = 2\n",
    "\n",
    "import sys\n",
    "\n",
    "tc.assertIsNotNone(pd.__version__, 'Check whether you have correctly imported Pandas with an alias.')\n",
    "tc.assertIsNotNone(np.__version__, 'Check whether you have correctly imported NumPy with an alias.')\n",
    "tc.assertTrue('sqlite3' in globals(), 'Check whether you have correctly imported the sqlite3 package.')"
   ]
  },
  {
   "cell_type": "markdown",
   "metadata": {},
   "source": [
    "---\n",
    "\n",
    "### 🔨 Create and populate the `listings` table\n",
    "\n",
    "▶️ Run the code below to create a new SQLite database. The code will also create and populate the `listings` table."
   ]
  },
  {
   "cell_type": "code",
   "execution_count": null,
   "metadata": {},
   "outputs": [],
   "source": [
    "# DO NOT CHANGE THE CODE BELOW\n",
    "# Connect to airbnb.db database file\n",
    "# If the file does not exist, create a new file\n",
    "conn = sqlite3.connect('airbnb.db')\n",
    "\n",
    "# Create a cursor\n",
    "# A cursor enables users of a DBMS to traverse through the result set\n",
    "# without having to retrieve all results at once\n",
    "c = conn.cursor()\n",
    "\n",
    "# Drop (delete) listings table if it already exists\n",
    "c.execute('DROP TABLE IF EXISTS listings')\n",
    "conn.commit()\n",
    "\n",
    "# Create table\n",
    "# Triple quotes (''') denote multiline strings\n",
    "create_table_query = '''\n",
    "CREATE TABLE IF NOT EXISTS listings (\n",
    "    name TEXT,\n",
    "    neighbourhood TEXT,\n",
    "    room_type TEXT,\n",
    "    bedrooms REAL,\n",
    "    bathrooms REAL,\n",
    "    price REAL,\n",
    "    accommodates INT,\n",
    "    minimum_nights INT,\n",
    "    availability_365 INT,\n",
    "    number_of_reviews INTEGER,\n",
    "    review_score REAL,\n",
    "    is_superhost INT,\n",
    "    latitude REAL,\n",
    "    longitude REAL\n",
    ")\n",
    "'''\n",
    "c.execute(create_table_query)\n",
    "conn.commit()\n",
    "\n",
    "# Populate the listings table\n",
    "df_listings = pd.read_csv(file_url)\n",
    "df_listings.to_sql(name='listings', index=False, con=conn, if_exists='append')\n",
    "\n",
    "conn.close()"
   ]
  },
  {
   "cell_type": "markdown",
   "metadata": {},
   "source": [
    "#### 🔬 `listings` table column descriptions\n",
    "\n",
    "| Column Name         | Description                                                              |\n",
    "|---------------------|--------------------------------------------------------------------------|\n",
    "| `name`              | Listing title                                                            |\n",
    "| `neighbourhood`     | Neighbourhood                                                            |\n",
    "| `room_type`         | Room type (e.g., Shared room, Private room, Entire home/apt, Hotel room) |\n",
    "| `bedrooms`          | Number of bedrooms                                                       |\n",
    "| `bathrooms`         | Number of bathrooms                                                      |\n",
    "| `accommodates`      | Number of maximum guests                                                 |\n",
    "| `minimum_nights`    | Number of minimum nights required to book                                |\n",
    "| `price`             | Base nightly price - the actual price will vary by specific dates        |\n",
    "| `availability_365`  | Number of available days during the past 365 days                        |\n",
    "| `number_of_reviews` | Total number of reviews                                                  |\n",
    "| `review_score`      | Guest feedback rating                                                    |\n",
    "| `latitude`          | Latitude                                                                 |\n",
    "| `longitude`         | Longitude                                                                |\n",
    "| `is_superhost`      | Whether the host is a superhost (0 == not a superhost, 1 == superhost)   |"
   ]
  },
  {
   "cell_type": "markdown",
   "metadata": {},
   "source": [
    "---\n",
    "\n",
    "### 🎯 Part 3: Select all columns and rows from the `listings` table\n",
    "\n",
    "#### 👇 Tasks\n",
    "\n",
    "- ✔️ Write a query that selects all columns and rows from the `listings` table.\n",
    "- ✔️ Store your query to a new variable named `query_select_all`.\n",
    "\n",
    "#### 🔥 Need help?\n",
    "\n",
    "Refer to the 🚀 **Hint** section below the 🧭 **Check your work** code cell."
   ]
  },
  {
   "cell_type": "code",
   "execution_count": null,
   "metadata": {},
   "outputs": [],
   "source": [
    "# YOUR CODE BEGINS\n",
    "\n",
    "# YOUR CODE ENDS\n",
    "\n",
    "conn = sqlite3.connect('airbnb.db')\n",
    "df_result = pd.read_sql_query(query_select_all, con=conn)\n",
    "display(df_result)\n",
    "conn.close()"
   ]
  },
  {
   "cell_type": "markdown",
   "metadata": {},
   "source": [
    "#### 🧭 Check Your Work\n",
    "\n",
    "Run the code cell below to test your solution.\n",
    "\n",
    "- ✔️ If the code cell runs without errors, you're good to move on.\n",
    "- ❌ If the code cell produces an error, review your code and fix any mistakes."
   ]
  },
  {
   "cell_type": "code",
   "execution_count": null,
   "metadata": {
    "deletable": false,
    "editable": false,
    "nbgrader": {
     "grade": true,
     "grade_id": "part-03",
     "locked": true,
     "points": "3",
     "solution": false
    }
   },
   "outputs": [],
   "source": [
    "# DO NOT CHANGE THE CODE IN THIS CELL\n",
    "_test_case = 'part-03'\n",
    "_points = 3\n",
    "\n",
    "conn = sqlite3.connect('airbnb.db')\n",
    "decoded_query = base64.b64decode(b'ClNFTEVDVCAqCkZST00gbGlzdGluZ3MK').decode()\n",
    "df_check = pd.read_sql_query(decoded_query, con=conn)\n",
    "tc.assertEqual(df_result.shape, df_check.shape, 'Number of rows and/or columns is different')\n",
    "conn.close()"
   ]
  },
  {
   "cell_type": "markdown",
   "metadata": {},
   "source": [
    "#### 🚀 Hint\n",
    "\n",
    "The query below selects all rows and columns from a database table named `my_table`.\n",
    "\n",
    "```sql\n",
    "SELECT *\n",
    "FROM my_table;\n",
    "```"
   ]
  },
  {
   "cell_type": "markdown",
   "metadata": {},
   "source": [
    "---\n",
    "\n",
    "### 🎯 Part 4: Listings that can accommodate 8 or more people\n",
    "\n",
    "#### 👇 Tasks\n",
    "\n",
    "- ✔️ Using the `listings` table, find all listings that can accommodate 8 or more people (`accommodates >= 8`).\n",
    "- ✔️ Select only the following 5 columns (in the same order):\n",
    "    - `name`, `room_type`, `bedrooms`, `bathrooms`, `accommodates`\n",
    "- ✔️ Store your query to a new variable named `query_eight_or_more`.\n",
    "- ✔️ Sort the result by `accommodates` in descending order.\n",
    "\n",
    "#### 🔑 Output Format\n",
    "\n",
    "Your query result will likely have different number of rows and cell values.\n",
    "\n",
    "|   |                                       name |       room_type | bedrooms | bathrooms | accommodates |\n",
    "|--:|-------------------------------------------:|----------------:|---------:|----------:|-------------:|\n",
    "| 0 |   Elegant Rantoul Oasis: 20 mins to campus | Entire home/apt |      5.0 |       4.0 |           14 |\n",
    "| 1 |         Exquisite 1980's Historic Building | Entire home/apt |      2.0 |       2.0 |           10 |\n",
    "| 2 | Quiet Area in Urbana - Perfect for Groups! | Entire home/apt |      3.0 |       2.0 |            9 |\n",
    "| 3 |     Spacious Champaign Apt w/Pool Gym Wifi | Entire home/apt |      1.0 |       1.0 |            8 |\n",
    "\n",
    "#### 🔥 Need help?\n",
    "\n",
    "Refer to the 🚀 **Hint** section below the 🧭 **Check your work** code cell."
   ]
  },
  {
   "cell_type": "code",
   "execution_count": null,
   "metadata": {},
   "outputs": [],
   "source": [
    "# YOUR CODE BEGINS\n",
    "\n",
    "# YOUR CODE ENDS\n",
    "\n",
    "conn = sqlite3.connect('airbnb.db')\n",
    "df_result = pd.read_sql_query(query_eight_or_more, con=conn)\n",
    "display(df_result)\n",
    "conn.close()"
   ]
  },
  {
   "cell_type": "markdown",
   "metadata": {},
   "source": [
    "#### 🧭 Check Your Work\n",
    "\n",
    "Run the code cell below to test your solution.\n",
    "\n",
    "- ✔️ If the code cell runs without errors, you're good to move on.\n",
    "- ❌ If the code cell produces an error, review your code and fix any mistakes."
   ]
  },
  {
   "cell_type": "code",
   "execution_count": null,
   "metadata": {
    "deletable": false,
    "editable": false,
    "nbgrader": {
     "grade": true,
     "grade_id": "part-04",
     "locked": true,
     "points": "3",
     "solution": false
    }
   },
   "outputs": [],
   "source": [
    "# DO NOT CHANGE THE CODE IN THIS CELL\n",
    "_test_case = 'part-04'\n",
    "_points = 3\n",
    "\n",
    "conn = sqlite3.connect('airbnb.db')\n",
    "decoded_query = base64.b64decode(\n",
    "b'ClNFTEVDVCBuYW1lLCByb29tX3R5cGUsIGJlZHJvb21zLCBiYXRocm9vbXMsIGFjY29tbW9kYXRlcwp\\\n",
    "GUk9NIGxpc3RpbmdzCldIRVJFIGFjY29tbW9kYXRlcyA+PSA4Ck9SREVSIEJZIGFjY29tbW9kYXRlcyBERVNDCg=='\n",
    ").decode()\n",
    "df_check = pd.read_sql_query(decoded_query, con=conn)\n",
    "tc.assertEqual(df_result.columns.tolist(), df_check.columns.tolist(), 'Incorrect set of columns or order')\n",
    "tc.assertEqual(df_result.shape, df_check.shape, 'Number of rows and/or columns is different')\n",
    "pd.testing.assert_series_equal(df_result['accommodates'].reset_index(drop=True),\n",
    "                               df_check['accommodates'].reset_index(drop=True))\n",
    "pd.testing.assert_frame_equal(df_result.sort_values(df_result.columns.tolist()).reset_index(drop=True),\n",
    "                              df_check.sort_values(df_check.columns.tolist()).reset_index(drop=True))\n",
    "\n",
    "conn.close()"
   ]
  },
  {
   "cell_type": "markdown",
   "metadata": {},
   "source": [
    "#### 🚀 Hint\n",
    "\n",
    "The query below selects 5 columns from `my_table` where `column5` is greater than or equal to 8. The result will be sorted by `column5` in descending order.\n",
    "\n",
    "```sql\n",
    "SELECT column1, column2, column3, column4, column5\n",
    "FROM my_table\n",
    "WHERE column5 >= 8\n",
    "ORDER BY column5 DESC;\n",
    "```"
   ]
  },
  {
   "cell_type": "markdown",
   "metadata": {},
   "source": [
    "---\n",
    "\n",
    "### 🎯 Part 5: Average price of all listings\n",
    "\n",
    "#### 👇 Tasks\n",
    "\n",
    "- ✔️ Using the `listings` table, find the average price of all listings:\n",
    "- ✔️ Store your query to a new variable named `query_avg_price`.\n",
    "- ✔️ Result of your query should have only one column and one row.\n",
    "    - The name of the column does not matter.\n",
    "    \n",
    "#### 🔑 Output Format\n",
    "\n",
    "You are free to rename your `AVG(price)` column.\n",
    "\n",
    "|   |      AVG(price) |\n",
    "|--:|----------------:|\n",
    "| 0 |      145.666667 |\n",
    "\n",
    "#### 🔥 Need help?\n",
    "\n",
    "Refer to the 🚀 **Hint** section below the 🧭 **Check your work** code cell."
   ]
  },
  {
   "cell_type": "code",
   "execution_count": null,
   "metadata": {},
   "outputs": [],
   "source": [
    "# YOUR CODE BEGINS\n",
    "\n",
    "# YOUR CODE ENDS\n",
    "\n",
    "conn = sqlite3.connect('airbnb.db')\n",
    "df_result = pd.read_sql_query(query_avg_price, con=conn)\n",
    "display(df_result)\n",
    "conn.close()"
   ]
  },
  {
   "cell_type": "markdown",
   "metadata": {},
   "source": [
    "#### 🧭 Check Your Work\n",
    "\n",
    "Run the code cell below to test your solution.\n",
    "\n",
    "- ✔️ If the code cell runs without errors, you're good to move on.\n",
    "- ❌ If the code cell produces an error, review your code and fix any mistakes."
   ]
  },
  {
   "cell_type": "code",
   "execution_count": null,
   "metadata": {
    "deletable": false,
    "editable": false,
    "nbgrader": {
     "grade": true,
     "grade_id": "part-05",
     "locked": true,
     "points": "4",
     "solution": false
    }
   },
   "outputs": [],
   "source": [
    "# DO NOT CHANGE THE CODE IN THIS CELL\n",
    "_test_case = 'part-05'\n",
    "_points = 4\n",
    "\n",
    "conn = sqlite3.connect('airbnb.db')\n",
    "decoded_query = base64.b64decode(\n",
    "    b'ClNFTEVDVCBBVkcocHJpY2UpCkZST00gbGlzdGluZ3MK'\n",
    ").decode()\n",
    "df_check = pd.read_sql_query(decoded_query, con=conn)\n",
    "tc.assertEqual(df_result.shape, df_check.shape, 'Number of rows and/or columns is different')\n",
    "tc.assertEqual(df_result.iloc[0, 0], df_check.iloc[0, 0], f'Average price should be {df_check.iloc[0, 0]}')\n",
    "conn.close()"
   ]
  },
  {
   "cell_type": "markdown",
   "metadata": {},
   "source": [
    "#### 🚀 Hint\n",
    "\n",
    "The query below calculates the average of `my_column` in `my_table`.\n",
    "\n",
    "```sql\n",
    "SELECT AVG(my_column)\n",
    "FROM my_table;\n",
    "```"
   ]
  },
  {
   "cell_type": "markdown",
   "metadata": {},
   "source": [
    "---\n",
    "\n",
    "### 🎯 Part 6: Long-term stays\n",
    "\n",
    "#### 👇 Tasks\n",
    "\n",
    "- ✔️ Using the `listings` table, find all listings with minimum nights of 30 or more (`minimum_nights >= 30`).\n",
    "- ✔️ Select only the following 7 columns (in the same order):\n",
    "    - `name`, `room_type`, `bedrooms`, `bathrooms`, `minimum_nights`, `price`, `review_score`\n",
    "- ✔️ Store your query to a new variable named `query_long_term_stays`.\n",
    "- ✔️ Sort the result by `price` in ascending order.\n",
    "\n",
    "#### 🔑 Output Format\n",
    "\n",
    "Your query result will likely have different number of rows and cell values.\n",
    "\n",
    "|   | name                                      | room_type    | bedrooms | bathrooms | minimum_nights | price | review_score |\n",
    "|---|-------------------------------------------|--------------|----------|-----------|----------------|-------|--------------|\n",
    "| 0 | Peace within the city for solo travelers  | Private room | 1.0      | 1.0       | 35             | 25.0  | 95.0         |\n",
    "| 1 | Room close to Downtown Champaign          | Private room | 1.0      | 1.0       | 30             | 33.0  | 95.0         |\n",
    "| 2 | Perfect spot to work on your next startup | Private room | 1.0      | 1.0       | 30             | 65.0  | 98.0         |\n",
    "\n",
    "#### 🔥 Need help?\n",
    "\n",
    "Refer to the 🚀 **Hint** section below the 🧭 **Check your work** code cell."
   ]
  },
  {
   "cell_type": "code",
   "execution_count": null,
   "metadata": {},
   "outputs": [],
   "source": [
    "# YOUR CODE BEGINS\n",
    "\n",
    "# YOUR CODE ENDS\n",
    "\n",
    "conn = sqlite3.connect('airbnb.db')\n",
    "df_result = pd.read_sql_query(query_long_term_stays, con=conn)\n",
    "display(df_result)\n",
    "conn.close()"
   ]
  },
  {
   "cell_type": "markdown",
   "metadata": {},
   "source": [
    "#### 🧭 Check Your Work\n",
    "\n",
    "Run the code cell below to test your solution.\n",
    "\n",
    "- ✔️ If the code cell runs without errors, you're good to move on.\n",
    "- ❌ If the code cell produces an error, review your code and fix any mistakes."
   ]
  },
  {
   "cell_type": "code",
   "execution_count": null,
   "metadata": {
    "deletable": false,
    "editable": false,
    "nbgrader": {
     "grade": true,
     "grade_id": "part-06",
     "locked": true,
     "points": "4",
     "solution": false
    }
   },
   "outputs": [],
   "source": [
    "# DO NOT CHANGE THE CODE IN THIS CELL\n",
    "_test_case = 'part-06'\n",
    "_points = 4\n",
    "\n",
    "conn = sqlite3.connect('airbnb.db')\n",
    "decoded_query = base64.b64decode(\n",
    "b'ClNFTEVDVCBuYW1lLCByb29tX3R5cGUsIGJlZHJvb21zLCBiYXRocm9vbXMsIG1pbmltdW1fbmlnaHRz\\\n",
    "LCBwcmljZSwgcmV2aWV3X3Njb3JlCkZST00gbGlzdGluZ3MKV0hFUkUgbWluaW11bV9uaWdodHMgPj0gMzAKT1JERVIgQlkgcHJpY2UK'\n",
    ").decode()\n",
    "df_check = pd.read_sql_query(decoded_query, con=conn)\n",
    "tc.assertEqual(df_result.columns.tolist(), df_check.columns.tolist(), 'Incorrect set of columns or order')\n",
    "tc.assertEqual(df_result.shape, df_check.shape, 'Number of rows and/or columns is different')\n",
    "pd.testing.assert_series_equal(df_result['price'].reset_index(drop=True),\n",
    "                               df_check['price'].reset_index(drop=True))\n",
    "pd.testing.assert_frame_equal(df_result.sort_values(df_result.columns.tolist()).reset_index(drop=True),\n",
    "                              df_check.sort_values(df_check.columns.tolist()).reset_index(drop=True))\n",
    "\n",
    "conn.close()"
   ]
  },
  {
   "cell_type": "markdown",
   "metadata": {},
   "source": [
    "#### 🚀 Hint\n",
    "\n",
    "The query below selects 7 columns from `my_table` where `column5` is greater than or equal to 30. The result will be sorted by `column6` in ascending order.\n",
    "\n",
    "```sql\n",
    "SELECT column1, column2, column3, column4, column5, column6, column7\n",
    "FROM my_table\n",
    "WHERE column5 >= 30\n",
    "ORDER BY column6;\n",
    "```"
   ]
  },
  {
   "cell_type": "markdown",
   "metadata": {},
   "source": [
    "---\n",
    "\n",
    "### 🎯 Part 7: Large listings\n",
    "\n",
    "#### 👇 Tasks\n",
    "\n",
    "- ✔️ Using the `listings` table, find all rows where the listing has:\n",
    "    - 6 or more bedrooms\n",
    "    - **AND** 4 or more bathrooms\n",
    "- ✔️ Select only the following 5 columns (in the same order):\n",
    "    - `name`, `bedrooms`, `bathrooms`, `price`, `review_score`\n",
    "- ✔️ Store your query to a new variable named `query_large_listings`.\n",
    "\n",
    "#### 🔑 Output Format\n",
    "\n",
    "Your query result will likely have different number of rows and cell values.\n",
    "\n",
    "\n",
    "|   |                                   name | bedrooms | bathrooms | price | review_score |\n",
    "|--:|---------------------------------------:|---------:|----------:|------:|-------------:|\n",
    "| 0 |     5 min away from Downtown Champaign |      6.0 |       4.0 | 550.4 |         99.0 |\n",
    "| 1 |   Large Bedroom & Bath close to campus |      6.0 |       5.0 | 483.0 |         98.0 |\n",
    "| 2 | Big family welcomed, graduation season |      6.0 |       4.5 | 379.9 |         94.0 |\n",
    "| 3 |                   LARGEST HOME IN TOWN |      8.0 |       7.0 | 600.0 |         93.0 |\n",
    "\n",
    "#### 🔥 Need help?\n",
    "\n",
    "Refer to the 🚀 **Hint** section below the 🧭 **Check your work** code cell."
   ]
  },
  {
   "cell_type": "code",
   "execution_count": null,
   "metadata": {},
   "outputs": [],
   "source": [
    "# YOUR CODE BEGINS\n",
    "\n",
    "# YOUR CODE ENDS\n",
    "\n",
    "conn = sqlite3.connect('airbnb.db')\n",
    "df_result = pd.read_sql_query(query_large_listings, con=conn)\n",
    "display(df_result)\n",
    "conn.close()"
   ]
  },
  {
   "cell_type": "markdown",
   "metadata": {},
   "source": [
    "#### 🧭 Check Your Work\n",
    "\n",
    "Run the code cell below to test your solution.\n",
    "\n",
    "- ✔️ If the code cell runs without errors, you're good to move on.\n",
    "- ❌ If the code cell produces an error, review your code and fix any mistakes."
   ]
  },
  {
   "cell_type": "code",
   "execution_count": null,
   "metadata": {
    "deletable": false,
    "editable": false,
    "nbgrader": {
     "grade": true,
     "grade_id": "part-07",
     "locked": true,
     "points": "4",
     "solution": false
    }
   },
   "outputs": [],
   "source": [
    "# DO NOT CHANGE THE CODE IN THIS CELL\n",
    "_test_case = 'part-07'\n",
    "_points = 4\n",
    "\n",
    "conn = sqlite3.connect('airbnb.db')\n",
    "decoded_query = base64.b64decode(\n",
    "b'ClNFTEVDVCBuYW1lLCBiZWRyb29tcywgYmF0aHJvb21zLCBwcmljZSwgcmV2aWV3X3Njb3JlCkZST00gb\\\n",
    "GlzdGluZ3MKV0hFUkUgKGJlZHJvb21zID49IDYpIEFORCAoYmF0aHJvb21zID49IDQpCg=='\n",
    ").decode()\n",
    "df_check = pd.read_sql_query(decoded_query, con=conn)\n",
    "tc.assertEqual(df_result.columns.tolist(), df_check.columns.tolist(), 'Incorrect set of columns or order')\n",
    "tc.assertEqual(df_result.shape, df_check.shape, 'Number of rows and/or columns is different')\n",
    "pd.testing.assert_frame_equal(df_result.sort_values(df_result.columns.tolist()).reset_index(drop=True),\n",
    "                              df_check.sort_values(df_check.columns.tolist()).reset_index(drop=True))\n",
    "conn.close()"
   ]
  },
  {
   "cell_type": "markdown",
   "metadata": {},
   "source": [
    "#### 🚀 Hint\n",
    "\n",
    "The query below selects 5 columns from `my_table` where `column2` is greater than or equal to 6 and `column3` is greater than or equal to 4.\n",
    "\n",
    "```sql\n",
    "SELECT column1, column2, column3, column4, column5\n",
    "FROM my_table\n",
    "WHERE (column2 >= 6) AND (column3 >= 4);\n",
    "```"
   ]
  },
  {
   "cell_type": "markdown",
   "metadata": {},
   "source": [
    "---\n",
    "\n",
    "### 🎯 Part 8: Average price of large listings\n",
    "\n",
    "#### 👇 Tasks\n",
    "\n",
    "- ✔️ Using the `listings` table, find the average price of listings with:\n",
    "    - 6 or more bedrooms\n",
    "    - **AND** 4 or more bathrooms\n",
    "- ✔️ Store your query to a new variable named `query_large_listings_avg_price`.\n",
    "- ✔️ The result of your query should have only one column and one row.\n",
    "    - The name of the column does not matter.\n",
    "    \n",
    "#### 🔑 Output Format\n",
    "\n",
    "Your query result may have a different column name.\n",
    "\n",
    "|   | AVG(price) |\n",
    "|--:|-----------:|\n",
    "| 0 |      475.5 |\n",
    "\n",
    "\n",
    "#### 🔥 Need help?\n",
    "\n",
    "Refer to the 🚀 **Hint** section below the 🧭 **Check your work** code cell."
   ]
  },
  {
   "cell_type": "code",
   "execution_count": null,
   "metadata": {},
   "outputs": [],
   "source": [
    "# YOUR CODE BEGINS\n",
    "\n",
    "# YOUR CODE ENDS\n",
    "\n",
    "conn = sqlite3.connect('airbnb.db')\n",
    "df_result = pd.read_sql_query(query_large_listings_avg_price, con=conn)\n",
    "display(df_result)\n",
    "conn.close()"
   ]
  },
  {
   "cell_type": "markdown",
   "metadata": {},
   "source": [
    "#### 🧭 Check Your Work\n",
    "\n",
    "Run the code cell below to test your solution.\n",
    "\n",
    "- ✔️ If the code cell runs without errors, you're good to move on.\n",
    "- ❌ If the code cell produces an error, review your code and fix any mistakes."
   ]
  },
  {
   "cell_type": "code",
   "execution_count": null,
   "metadata": {
    "deletable": false,
    "editable": false,
    "nbgrader": {
     "grade": true,
     "grade_id": "part-08",
     "locked": true,
     "points": "5",
     "solution": false
    }
   },
   "outputs": [],
   "source": [
    "# DO NOT CHANGE THE CODE IN THIS CELL\n",
    "_test_case = 'part-08'\n",
    "_points = 5\n",
    "\n",
    "conn = sqlite3.connect('airbnb.db')\n",
    "decoded_query = base64.b64decode(\n",
    "    b'ClNFTEVDVCBBVkcocHJpY2UpCkZST00gbGlzdGluZ3MKV0hFUkUgKGJlZHJvb21zID49IDYpIEFORCAoYmF0aHJvb21zID49IDQpCg=='\n",
    ").decode()\n",
    "df_check = pd.read_sql_query(decoded_query, con=conn)\n",
    "tc.assertEqual(df_result.shape, df_check.shape, 'Number of rows and/or columns is different')\n",
    "tc.assertEqual(df_result.iloc[0, 0], df_check.iloc[0, 0], f'Average price should be {df_check.iloc[0, 0]}')\n",
    "conn.close()"
   ]
  },
  {
   "cell_type": "markdown",
   "metadata": {},
   "source": [
    "#### 🚀 Hint\n",
    "\n",
    "The query below calculates the average of `column4` where `column2` is greater or equal to 6 and `column3` is greater or equal to 4.\n",
    "\n",
    "```sql\n",
    "SELECT AVG(column4)\n",
    "FROM my_table\n",
    "WHERE (column2 >= 6) AND (column3 >= 4);\n",
    "```"
   ]
  },
  {
   "cell_type": "markdown",
   "metadata": {},
   "source": [
    "---\n",
    "\n",
    "### 🎯 Part 9: Number of listings by neighbourhood\n",
    "\n",
    "#### 👇 Tasks\n",
    "\n",
    "- ✔️ Using the `listings` table, find the number of listings by `neighbourhood`.\n",
    "- ✔️ Store your query to a new variable named `query_num_listings_by_neighbourhood`.\n",
    "- ✔️ The result of your query should have the following two columns:\n",
    "    - `neighbourhood`\n",
    "    - `num_listings`\n",
    "- ✔️ Sort the result by `num_listings` in descending order.\n",
    "\n",
    "#### 🔑 Output Format\n",
    "\n",
    "Your query result will likely have different number of rows and cell values.\n",
    "\n",
    "|   | neighbourhood | num_listings |\n",
    "|--:|--------------:|-------------:|\n",
    "| 0 |     Champaign |           60 |\n",
    "| 1 |        Urbana |           50 |\n",
    "| 2 |         Savoy |           30 |\n",
    "| 3 |        Fisher |           20 |\n",
    "\n",
    "#### 🔥 No hint\n",
    "\n",
    "Refer to the 🚀 **Hint** section below the 🧭 **Check your work** code cell."
   ]
  },
  {
   "cell_type": "code",
   "execution_count": null,
   "metadata": {},
   "outputs": [],
   "source": [
    "# YOUR CODE BEGINS\n",
    "\n",
    "# YOUR CODE ENDS\n",
    "\n",
    "conn = sqlite3.connect('airbnb.db')\n",
    "df_result = pd.read_sql_query(query_num_listings_by_neighbourhood, con=conn)\n",
    "display(df_result)\n",
    "conn.close()"
   ]
  },
  {
   "cell_type": "markdown",
   "metadata": {},
   "source": [
    "#### 🧭 Check Your Work\n",
    "\n",
    "Run the code cell below to test your solution.\n",
    "\n",
    "- ✔️ If the code cell runs without errors, you're good to move on.\n",
    "- ❌ If the code cell produces an error, review your code and fix any mistakes."
   ]
  },
  {
   "cell_type": "code",
   "execution_count": null,
   "metadata": {
    "deletable": false,
    "editable": false,
    "nbgrader": {
     "grade": true,
     "grade_id": "part-09",
     "locked": true,
     "points": "5",
     "solution": false
    }
   },
   "outputs": [],
   "source": [
    "# DO NOT CHANGE THE CODE IN THIS CELL\n",
    "_test_case = 'part-09'\n",
    "_points = 5\n",
    "\n",
    "conn = sqlite3.connect('airbnb.db')\n",
    "decoded_query = base64.b64decode(\n",
    "b'ClNFTEVDVCBuZWlnaGJvdXJob29kLCBDT1VOVCgqKSBhcyBudW1fbGlzdGluZ3MKRlJPTSBsaXN0aW\\\n",
    "5ncwpHUk9VUCBCWSBuZWlnaGJvdXJob29kCk9SREVSIEJZIG51bV9saXN0aW5ncyBERVNDOwo='\n",
    ").decode()\n",
    "df_check = pd.read_sql_query(decoded_query, con=conn)\n",
    "tc.assertEqual(df_result.columns.tolist(), df_check.columns.tolist(), 'Incorrect set of columns or order')\n",
    "tc.assertEqual(df_result.shape, df_check.shape, 'Number of rows and/or columns is different')\n",
    "pd.testing.assert_series_equal(df_result['num_listings'].reset_index(drop=True),\n",
    "                               df_check['num_listings'].reset_index(drop=True))\n",
    "pd.testing.assert_frame_equal(df_result.sort_values(df_result.columns.tolist()).reset_index(drop=True),\n",
    "                              df_check.sort_values(df_check.columns.tolist()).reset_index(drop=True))\n",
    "conn.close()"
   ]
  },
  {
   "cell_type": "markdown",
   "metadata": {},
   "source": [
    "#### 🚀 Hint\n",
    "\n",
    "Assuming that the `listings` table has a `city` column, the query below counts the number of listings for each `city`. It sorts the result by `num_listings` in descending order.\n",
    "\n",
    "```sql\n",
    "SELECT city, COUNT(*) AS num_listings\n",
    "FROM listings\n",
    "GROUP BY city\n",
    "ORDER BY num_listings DESC;\n",
    "```"
   ]
  },
  {
   "cell_type": "markdown",
   "metadata": {},
   "source": [
    "---\n",
    "\n",
    "### 🎯 Part 10: Number of superhost/non-superhost listings\n",
    "\n",
    "#### 👇 Tasks\n",
    "\n",
    "- ✔️ Using the `listings` table, find the number of listings of superhost/non-superhost.\n",
    "- ✔️ Store your query to a new variable named `query_num_listings_by_host_status`.\n",
    "- ✔️ The result of your query should have the following two columns:\n",
    "    - `is_superhost`: `0` or `1`\n",
    "    - `num_listings`\n",
    "- ✔️ Sort the result by `is_superhost` in ascending order.\n",
    "\n",
    "#### 🔑 Output Format\n",
    "\n",
    "Your query result will likely have different cell values.\n",
    "\n",
    "\n",
    "|   | is_superhost | num_listings |\n",
    "|--:|-------------:|-------------:|\n",
    "| 0 |            0 |          500 |\n",
    "| 1 |            1 |          400 |\n",
    "\n",
    "#### 💣 No hint\n",
    "\n",
    "Try this one on your own!"
   ]
  },
  {
   "cell_type": "code",
   "execution_count": null,
   "metadata": {},
   "outputs": [],
   "source": [
    "# YOUR CODE BEGINS\n",
    "\n",
    "# YOUR CODE ENDS\n",
    "\n",
    "conn = sqlite3.connect('airbnb.db')\n",
    "df_result = pd.read_sql_query(query_num_listings_by_host_status, con=conn)\n",
    "display(df_result)\n",
    "conn.close()"
   ]
  },
  {
   "cell_type": "markdown",
   "metadata": {},
   "source": [
    "#### 🧭 Check Your Work\n",
    "\n",
    "Run the code cell below to test your solution.\n",
    "\n",
    "- ✔️ If the code cell runs without errors, you're good to move on.\n",
    "- ❌ If the code cell produces an error, review your code and fix any mistakes."
   ]
  },
  {
   "cell_type": "code",
   "execution_count": null,
   "metadata": {
    "deletable": false,
    "editable": false,
    "nbgrader": {
     "grade": true,
     "grade_id": "part-10",
     "locked": true,
     "points": "4",
     "solution": false
    }
   },
   "outputs": [],
   "source": [
    "# DO NOT CHANGE THE CODE IN THIS CELL\n",
    "_test_case = 'part-10'\n",
    "_points = 4\n",
    "\n",
    "conn = sqlite3.connect('airbnb.db')\n",
    "decoded_query = base64.b64decode(\n",
    "    b'ClNFTEVDVCBpc19zdXBlcmhvc3QsIENPVU5UKCopIGFzIG51bV9saXN0aW5ncwpGUk9NIGxpc3RpbmdzCkdST1VQIEJZIGlzX3N1cGVyaG9zdApPUkRFUiBCWSBpc19zdXBlcmhvc3Q7Cg=='\n",
    ").decode()\n",
    "df_check = pd.read_sql_query(decoded_query, con=conn)\n",
    "tc.assertEqual(df_result.columns.tolist(), df_check.columns.tolist(), 'Incorrect set of columns or order')\n",
    "tc.assertEqual(df_result.shape, df_check.shape, 'Number of rows and/or columns is different')\n",
    "pd.testing.assert_series_equal(df_result['is_superhost'].reset_index(drop=True),\n",
    "                               df_check['is_superhost'].reset_index(drop=True))\n",
    "pd.testing.assert_frame_equal(df_result.sort_values(df_result.columns.tolist()).reset_index(drop=True),\n",
    "                              df_check.sort_values(df_check.columns.tolist()).reset_index(drop=True))\n",
    "conn.close()"
   ]
  },
  {
   "cell_type": "markdown",
   "metadata": {},
   "source": [
    "---\n",
    "\n",
    "## 💵 Metrics of interest\n",
    "\n",
    "In this part, you will analyze the key metrics of rental properties such as occupancy rate (`availability_365`), rental rates (`price`), and guest feedback (`review_score`).\n",
    "\n",
    "---\n",
    "\n",
    "### 🎯 Part 11: Metrics by room types\n",
    "\n",
    "#### 👇 Tasks\n",
    "\n",
    "- ✔️ Using the `listings` table, find the **averages** of following three columns by `room_type`:\n",
    "    - `price`\n",
    "    - `availability_365`\n",
    "    - `review_score`\n",
    "- ✔️ Store your query to a new variable named `query_metrics_by_room_type`.\n",
    "- ✔️ The result of your query should have the following 4 columns (in the same order):\n",
    "    - `room_type`\n",
    "    - `avg_price`\n",
    "    - `avg_availability`\n",
    "    - `avg_review_score`\n",
    "- ✔️ Sort the result by `avg_availability` in ascending order.\n",
    "\n",
    "#### 🔑 Output Format\n",
    "\n",
    "Your query result will likely have different cell values and may have different number of rows.\n",
    "\n",
    "|   |       room_type |  avg_price | avg_availability | avg_review_score |\n",
    "|--:|----------------:|-----------:|-----------------:|-----------------:|\n",
    "| 0 |     Shared room |  40.100000 |       162.821215 |        95.491510 |\n",
    "| 1 |    Private room |  60.236737 |       189.997992 |        95.500100 |\n",
    "| 2 | Entire home/apt | 104.599667 |       225.127593 |        92.105033 |\n",
    "| 3 |      Hotel room |  66.666667 |       310.444444 |        88.666667 |\n",
    "\n",
    "\n",
    "#### 🔥 Need help?\n",
    "\n",
    "Refer to the 🚀 **Hint** section below the 🧭 **Check your work** code cell."
   ]
  },
  {
   "cell_type": "code",
   "execution_count": null,
   "metadata": {},
   "outputs": [],
   "source": [
    "# YOUR CODE BEGINS\n",
    "\n",
    "# YOUR CODE ENDS\n",
    "\n",
    "conn = sqlite3.connect('airbnb.db')\n",
    "df_result = pd.read_sql_query(query_metrics_by_room_type, con=conn)\n",
    "display(df_result)\n",
    "conn.close()"
   ]
  },
  {
   "cell_type": "markdown",
   "metadata": {},
   "source": [
    "#### 🧭 Check Your Work\n",
    "\n",
    "Run the code cell below to test your solution.\n",
    "\n",
    "- ✔️ If the code cell runs without errors, you're good to move on.\n",
    "- ❌ If the code cell produces an error, review your code and fix any mistakes."
   ]
  },
  {
   "cell_type": "code",
   "execution_count": null,
   "metadata": {
    "deletable": false,
    "editable": false,
    "nbgrader": {
     "grade": true,
     "grade_id": "part-11",
     "locked": true,
     "points": "5",
     "solution": false
    }
   },
   "outputs": [],
   "source": [
    "# DO NOT CHANGE THE CODE IN THIS CELL\n",
    "_test_case = 'part-11'\n",
    "_points = 5\n",
    "\n",
    "conn = sqlite3.connect('airbnb.db')\n",
    "decoded_query = base64.b64decode(\n",
    "    b'ClNFTEVDVCAKICAgIHJvb21fdHlwZSwKICAgIEFWRyhwcmljZSkgQVMgYXZnX3ByaWNlLCAKICAgIEFWRyhhdmFpbGFiaWxpdHlfMzY1KSBBUyBhdmdfYXZhaWxhYmlsaXR5LCAKICAgIEFWRyhyZXZpZXdfc2NvcmUpIEFTIGF2Z19yZXZpZXdfc2NvcmUKRlJPTSBsaXN0aW5ncwpHUk9VUCBCWSByb29tX3R5cGUKT1JERVIgQlkgYXZnX2F2YWlsYWJpbGl0eTsK'\n",
    ").decode()\n",
    "df_check = pd.read_sql_query(decoded_query, con=conn)\n",
    "tc.assertEqual(df_result.columns.tolist(), df_check.columns.tolist(), 'Incorrect set of columns or order')\n",
    "tc.assertEqual(df_result.shape, df_check.shape, 'Number of rows and/or columns is different')\n",
    "pd.testing.assert_series_equal(df_result['avg_availability'].reset_index(drop=True),\n",
    "                               df_check['avg_availability'].reset_index(drop=True))\n",
    "pd.testing.assert_frame_equal(df_result.sort_values(df_result.columns.tolist()).reset_index(drop=True),\n",
    "                              df_check.sort_values(df_check.columns.tolist()).reset_index(drop=True))\n",
    "conn.close()"
   ]
  },
  {
   "cell_type": "markdown",
   "metadata": {},
   "source": [
    "#### 🚀 Hint\n",
    "\n",
    "Below is a **fully-functional** solution query. You do not have to change anything.\n",
    "\n",
    "```sql\n",
    "SELECT \n",
    "    room_type, \n",
    "    AVG(price) AS avg_price, \n",
    "    AVG(availability_365) AS avg_availability, \n",
    "    AVG(review_score) AS avg_review_score\n",
    "FROM listings\n",
    "GROUP BY room_type\n",
    "ORDER BY avg_availability;\n",
    "```"
   ]
  },
  {
   "cell_type": "markdown",
   "metadata": {},
   "source": [
    "---\n",
    "\n",
    "### 🎯 Part 12: Metrics by number of bedrooms\n",
    "\n",
    "#### 👇 Tasks\n",
    "\n",
    "- ✔️ Using the `listings` table, find the following measures by the number of bedrooms (`bedrooms`):\n",
    "    - Count of rows (number of listings)\n",
    "    - Average `price`\n",
    "    - Average `availability_365`\n",
    "    - Average `review_score`\n",
    "- ✔️ Store your query to a new variable named `query_metrics_by_bedrooms`.\n",
    "- ✔️ The result of your query should have the following 5 columns (in the same order):\n",
    "    - `bedrooms`\n",
    "    - `num_listings`\n",
    "    - `avg_price`\n",
    "    - `avg_availability`\n",
    "    - `avg_review_score`\n",
    "- ✔️ Sort the result by `bedrooms` in ascending order.\n",
    "\n",
    "#### 🔑 Output Format\n",
    "\n",
    "Your query result will likely have different cell values and may have different number of rows.\n",
    "\n",
    "|   | bedrooms | num_listings |  avg_price | avg_availability | avg_review_score |\n",
    "|--:|---------:|-------------:|-----------:|-----------------:|-----------------:|\n",
    "| 0 |      1.0 |          524 |  95.839695 |       218.353053 |        94.398855 |\n",
    "| 1 |      2.0 |          207 | 143.144928 |       202.579710 |        94.275362 |\n",
    "| 2 |      3.0 |           98 | 227.326531 |       211.755102 |        96.285714 |\n",
    "| 3 |      4.0 |           27 | 364.111111 |       205.592593 |        95.481481 |\n",
    "| 4 |      5.0 |            9 | 491.555556 |       245.333333 |        95.666667 |\n",
    "| 5 |      6.0 |            4 | 477.250000 |       262.500000 |        96.500000 |\n",
    "\n",
    "\n",
    "#### 💣 No hint\n",
    "\n",
    "Try this one on your own!"
   ]
  },
  {
   "cell_type": "code",
   "execution_count": null,
   "metadata": {},
   "outputs": [],
   "source": [
    "# YOUR CODE BEGINS\n",
    "\n",
    "# YOUR CODE ENDS\n",
    "\n",
    "conn = sqlite3.connect('airbnb.db')\n",
    "df_result = pd.read_sql_query(query_metrics_by_bedrooms, con=conn)\n",
    "display(df_result)\n",
    "conn.close()"
   ]
  },
  {
   "cell_type": "markdown",
   "metadata": {},
   "source": [
    "#### 🧭 Check Your Work\n",
    "\n",
    "Run the code cell below to test your solution.\n",
    "\n",
    "- ✔️ If the code cell runs without errors, you're good to move on.\n",
    "- ❌ If the code cell produces an error, review your code and fix any mistakes."
   ]
  },
  {
   "cell_type": "code",
   "execution_count": null,
   "metadata": {
    "deletable": false,
    "editable": false,
    "nbgrader": {
     "grade": true,
     "grade_id": "part-12",
     "locked": true,
     "points": "6",
     "solution": false
    }
   },
   "outputs": [],
   "source": [
    "# DO NOT CHANGE THE CODE IN THIS CELL\n",
    "_test_case = 'part-12'\n",
    "_points = 6\n",
    "\n",
    "conn = sqlite3.connect('airbnb.db')\n",
    "decoded_query = base64.b64decode(\n",
    "b'ClNFTEVDVCAKICAgIGJlZHJvb21zLAogICAgQ09VTlQoKikgQVMgbnVtX2xpc3RpbmdzLAogICAgQVZHKHByaWN\\\n",
    "lKSBBUyBhdmdfcHJpY2UsIAogICAgQVZHKGF2YWlsYWJpbGl0eV8zNjUpIEFTIGF2Z19hdmFpbGFiaWxpdHksIAog\\\n",
    "ICAgQVZHKHJldmlld19zY29yZSkgQVMgYXZnX3Jldmlld19zY29yZQpGUk9NIGxpc3RpbmdzCkdST1VQIEJZIGJlZHJvb21zCk9SREVSIEJZIGJlZHJvb21zOwo='\n",
    ").decode()\n",
    "df_check = pd.read_sql_query(decoded_query, con=conn)\n",
    "tc.assertEqual(df_result.columns.tolist(), df_check.columns.tolist(), 'Incorrect set of columns or order')\n",
    "tc.assertEqual(df_result.shape, df_check.shape, 'Number of rows and/or columns is different')\n",
    "pd.testing.assert_series_equal(df_result['avg_availability'].reset_index(drop=True),\n",
    "                               df_check['avg_availability'].reset_index(drop=True))\n",
    "pd.testing.assert_frame_equal(df_result.sort_values(df_result.columns.tolist()).reset_index(drop=True),\n",
    "                              df_check.sort_values(df_check.columns.tolist()).reset_index(drop=True))\n",
    "conn.close()"
   ]
  },
  {
   "cell_type": "markdown",
   "metadata": {
    "tags": []
   },
   "source": [
    "---\n",
    "\n",
    "### 🎯 Part 13: Metrics by neighbourhood\n",
    "\n",
    "#### 👇 Tasks\n",
    "\n",
    "- ✔️ Using the `listings` table, find the following measures by the neighbourhood (`neighbourhood`):\n",
    "    - Count of rows (number of listings)\n",
    "    - Average `price`\n",
    "    - Average `availability_365`\n",
    "    - Average `review_score`\n",
    "- ✔️ Store your query to a new variable named `query_metrics_by_neighbourhood`.\n",
    "- ✔️ The result of your query should have the following 5 columns (in the same order):\n",
    "    - `neighbourhood`\n",
    "    - `num_listings`\n",
    "    - `avg_price`\n",
    "    - `avg_availability`\n",
    "    - `avg_review_score`\n",
    "- ✔️ Sort the result by `num_listings` in descending order.\n",
    "\n",
    "#### 🔑 Output Format\n",
    "\n",
    "Your query result will likely have different number of rows and cell values.\n",
    "\n",
    "|   | neighbourhood | num_listings |  avg_price | avg_availability | avg_review_score |\n",
    "|--:|--------------:|-------------:|-----------:|-----------------:|-----------------:|\n",
    "| 0 |     Champaign |          107 | 120.299065 |       238.392523 |        93.504673 |\n",
    "| 1 |        Urbana |           75 |  88.938776 |       197.938776 |        95.306122 |\n",
    "| 2 |       Mahomet |           41 |  95.347826 |       237.304348 |        93.000000 |\n",
    "| 3 |       Rantoul |           26 | 287.000000 |       195.166667 |        97.166667 |\n",
    "\n",
    "#### 💣 No hint\n",
    "\n",
    "Try this one on your own!"
   ]
  },
  {
   "cell_type": "code",
   "execution_count": null,
   "metadata": {},
   "outputs": [],
   "source": [
    "# YOUR CODE BEGINS\n",
    "\n",
    "# YOUR CODE ENDS\n",
    "\n",
    "conn = sqlite3.connect('airbnb.db')\n",
    "df_result = pd.read_sql_query(query_metrics_by_neighbourhood, con=conn)\n",
    "display(df_result)\n",
    "conn.close()"
   ]
  },
  {
   "cell_type": "markdown",
   "metadata": {},
   "source": [
    "#### 🧭 Check Your Work\n",
    "\n",
    "Run the code cell below to test your solution.\n",
    "\n",
    "- ✔️ If the code cell runs without errors, you're good to move on.\n",
    "- ❌ If the code cell produces an error, review your code and fix any mistakes."
   ]
  },
  {
   "cell_type": "code",
   "execution_count": null,
   "metadata": {
    "deletable": false,
    "editable": false,
    "nbgrader": {
     "grade": true,
     "grade_id": "part-13",
     "locked": true,
     "points": "6",
     "solution": false
    }
   },
   "outputs": [],
   "source": [
    "# DO NOT CHANGE THE CODE IN THIS CELL\n",
    "_test_case = 'part-13'\n",
    "_points = 6\n",
    "\n",
    "conn = sqlite3.connect('airbnb.db')\n",
    "decoded_query = base64.b64decode(\n",
    "b'ClNFTEVDVCAKICAgIG5laWdoYm91cmhvb2QsCiAgICBDT1VOVCgqKSBBUyBudW1fbGlzdGluZ3MsCiAg\\\n",
    "ICBBVkcocHJpY2UpIEFTIGF2Z19wcmljZSwgCiAgICBBVkcoYXZhaWxhYmlsaXR5XzM2NSkgQVMgYXZnX2\\\n",
    "F2YWlsYWJpbGl0eSwgCiAgICBBVkcocmV2aWV3X3Njb3JlKSBBUyBhdmdfcmV2aWV3X3Njb3JlCkZST00g\\\n",
    "bGlzdGluZ3MKR1JPVVAgQlkgbmVpZ2hib3VyaG9vZApPUkRFUiBCWSBudW1fbGlzdGluZ3MgREVTQzsK'\n",
    ").decode()\n",
    "df_check = pd.read_sql_query(decoded_query, con=conn)\n",
    "tc.assertEqual(df_result.columns.tolist(), df_check.columns.tolist(), 'Incorrect set of columns or order')\n",
    "tc.assertEqual(df_result.shape, df_check.shape, 'Number of rows and/or columns is different')\n",
    "pd.testing.assert_series_equal(df_result['num_listings'].reset_index(drop=True),\n",
    "                               df_check['num_listings'].reset_index(drop=True))\n",
    "pd.testing.assert_frame_equal(df_result.sort_values(df_result.columns.tolist()).reset_index(drop=True),\n",
    "                              df_check.sort_values(df_check.columns.tolist()).reset_index(drop=True))\n",
    "conn.close()"
   ]
  },
  {
   "cell_type": "markdown",
   "metadata": {},
   "source": [
    "---\n",
    "\n",
    "### 🎯 Part 14: Metrics by neighbourhood, expanded\n",
    "\n",
    "#### 👇 Tasks\n",
    "- ✔️ This time, you will include more details on the listing size (average number of bedrooms, bathrooms, accommodations).\n",
    "- ✔️ Using the `listings` table, find the following measures by the neighbourhood (`neighbourhood`):\n",
    "    - Count of rows (number of listings)\n",
    "    - Average number of `bedrooms`\n",
    "    - Average number of `bathrooms`\n",
    "    - Average number of maximum guests (average of `accommodates`)\n",
    "    - Average `price`\n",
    "    - Average `availability_365`\n",
    "    - Average `review_score`\n",
    "- ✔️ Store your query to a new variable named `query_details_by_neighbourhood`.\n",
    "- ✔️ The result of your query should have the following 8 columns (in the same order):\n",
    "    - `neighbourhood`\n",
    "    - `num_listings`\n",
    "    - `avg_bedrooms`,\n",
    "    - `avg_bathrooms`,\n",
    "    - `avg_accommodates`,\n",
    "    - `avg_price`\n",
    "    - `avg_availability`\n",
    "    - `avg_review_score`\n",
    "- ✔️ Sort the result by `num_listings` in descending order.\n",
    "\n",
    "#### 🔑 Output Format\n",
    "\n",
    "Your query result will likely have different number of rows and cell values.\n",
    "\n",
    "|   | neighbourhood | num_listings | avg_bedrooms | avg_bathrooms | avg_accommodates |  avg_price | avg_availability | avg_review_score |\n",
    "|--:|--------------:|-------------:|-------------:|--------------:|-----------------:|-----------:|-----------------:|-----------------:|\n",
    "| 0 |     Champaign |          107 |     1.736842 |      1.552632 |         4.771930 | 108.192982 |       186.982456 |        95.631579 |\n",
    "| 1 |        Urbana |           75 |     1.500000 |      1.166667 |         3.666667 | 117.666667 |       212.666667 |        98.333333 |\n",
    "| 2 |       Mahomet |           41 |     1.333333 |      1.500000 |         2.333333 |  49.000000 |        31.666667 |        98.333333 |\n",
    "| 3 |       Rantoul |           26 |     1.000000 |      1.000000 |         2.000000 |  29.000000 |       322.500000 |        96.000000 |\n",
    "\n",
    "#### 🔥 Need help?\n",
    "\n",
    "The query will build upon the previous part and will be highly similar."
   ]
  },
  {
   "cell_type": "code",
   "execution_count": null,
   "metadata": {},
   "outputs": [],
   "source": [
    "# YOUR CODE BEGINS\n",
    "\n",
    "# YOUR CODE ENDS\n",
    "\n",
    "conn = sqlite3.connect('airbnb.db')\n",
    "df_result = pd.read_sql_query(query_details_by_neighbourhood, con=conn)\n",
    "display(df_result)\n",
    "conn.close()"
   ]
  },
  {
   "cell_type": "markdown",
   "metadata": {},
   "source": [
    "#### 🧭 Check Your Work\n",
    "\n",
    "Run the code cell below to test your solution.\n",
    "\n",
    "- ✔️ If the code cell runs without errors, you're good to move on.\n",
    "- ❌ If the code cell produces an error, review your code and fix any mistakes."
   ]
  },
  {
   "cell_type": "code",
   "execution_count": null,
   "metadata": {
    "deletable": false,
    "editable": false,
    "nbgrader": {
     "grade": true,
     "grade_id": "part-14",
     "locked": true,
     "points": "6",
     "solution": false
    }
   },
   "outputs": [],
   "source": [
    "# DO NOT CHANGE THE CODE IN THIS CELL\n",
    "_test_case = 'part-14'\n",
    "_points = 6\n",
    "\n",
    "conn = sqlite3.connect('airbnb.db')\n",
    "decoded_query = base64.b64decode(\n",
    "b'ClNFTEVDVCAKICAgIG5laWdoYm91cmhvb2QsCiAgICBDT1VOVCgqKSBBUyBudW1fbGlzdGluZ3MsCiAgICBBVkcoYmVkcm9vbXMpI\\\n",
    "GFzIGF2Z19iZWRyb29tcywKICAgIEFWRyhiYXRocm9vbXMpIGFzIGF2Z19iYXRocm9vbXMsCiAgICBBVkcoYWNjb21tb2RhdGVzKSBh\\\n",
    "cyBhdmdfYWNjb21tb2RhdGVzLAogICAgQVZHKHByaWNlKSBBUyBhdmdfcHJpY2UsIAogICAgQVZHKGF2YWlsYWJpbGl0eV8zNjUpIEF\\\n",
    "TIGF2Z19hdmFpbGFiaWxpdHksIAogICAgQVZHKHJldmlld19zY29yZSkgQVMgYXZnX3Jldmlld19zY29yZQpGUk9NIGxpc3RpbmdzCk\\\n",
    "dST1VQIEJZIG5laWdoYm91cmhvb2QKT1JERVIgQlkgbnVtX2xpc3RpbmdzIERFU0M7Cg=='\n",
    ").decode()\n",
    "df_check = pd.read_sql_query(decoded_query, con=conn)\n",
    "tc.assertEqual(df_result.columns.tolist(), df_check.columns.tolist(), 'Incorrect set of columns or order')\n",
    "tc.assertEqual(df_result.shape, df_check.shape, 'Number of rows and/or columns is different')\n",
    "pd.testing.assert_series_equal(df_result['num_listings'].reset_index(drop=True),\n",
    "                               df_check['num_listings'].reset_index(drop=True))\n",
    "pd.testing.assert_frame_equal(df_result.sort_values(df_result.columns.tolist()).reset_index(drop=True),\n",
    "                              df_check.sort_values(df_check.columns.tolist()).reset_index(drop=True))\n",
    "conn.close()"
   ]
  },
  {
   "cell_type": "markdown",
   "metadata": {},
   "source": [
    "---\n",
    "\n",
    "### 🎯 Part 15: Metrics by host status, expanded\n",
    "\n",
    "#### 👇 Tasks\n",
    "- ✔️ This time, you will repeat the previous analysis using `is_superhost` instead of `neighbourhood`.\n",
    "- ✔️ Using the `listings` table, find the following measures by the host status (`is_superhost`):\n",
    "    - Count of rows (number of listings)\n",
    "    - Average number of `bedrooms`\n",
    "    - Average number of `bathrooms`\n",
    "    - Average number of maximum guests (average of `accommodates`)\n",
    "    - Average `price`\n",
    "    - Average `availability_365`\n",
    "    - Average `review_score`\n",
    "- ✔️ Store your query to a new variable named `query_details_by_host_status`.\n",
    "- ✔️ The result of your query should have the following 8 columns (in the same order):\n",
    "    - `is_superhost`\n",
    "    - `num_listings`\n",
    "    - `avg_bedrooms`,\n",
    "    - `avg_bathrooms`,\n",
    "    - `avg_accommodates`,\n",
    "    - `avg_price`\n",
    "    - `avg_availability`\n",
    "    - `avg_review_score`\n",
    "- ✔️ Sort the result by `is_superhost` in ascending order.\n",
    "\n",
    "#### 🔑 Output Format\n",
    "\n",
    "Your query result will likely have different number of rows and cell values.\n",
    "\n",
    "|   | is_superhost | num_listings | avg_bedrooms | avg_bathrooms | avg_accommodates |  avg_price | avg_availability | avg_review_score |\n",
    "|--:|-------------:|-------------:|-------------:|--------------:|-----------------:|-----------:|-----------------:|-----------------:|\n",
    "| 0 |            0 |          400 |     1.465113 |      1.630648 |         4.132415 | 132.887151 |       220.066667 |        93.015012 |\n",
    "| 1 |            1 |          500 |     1.357654 |      1.554667 |         5.142551 | 144.887511 |       193.269997 |        97.425115 |"
   ]
  },
  {
   "cell_type": "code",
   "execution_count": null,
   "metadata": {},
   "outputs": [],
   "source": [
    "# YOUR CODE BEGINS\n",
    "\n",
    "# YOUR CODE ENDS\n",
    "\n",
    "conn = sqlite3.connect('airbnb.db')\n",
    "df_result = pd.read_sql_query(query_details_by_host_status, con=conn)\n",
    "display(df_result)\n",
    "conn.close()"
   ]
  },
  {
   "cell_type": "markdown",
   "metadata": {},
   "source": [
    "#### 🧭 Check Your Work\n",
    "\n",
    "Run the code cell below to test your solution.\n",
    "\n",
    "- ✔️ If the code cell runs without errors, you're good to move on.\n",
    "- ❌ If the code cell produces an error, review your code and fix any mistakes."
   ]
  },
  {
   "cell_type": "code",
   "execution_count": null,
   "metadata": {
    "deletable": false,
    "editable": false,
    "nbgrader": {
     "grade": true,
     "grade_id": "part-15",
     "locked": true,
     "points": "6",
     "solution": false
    }
   },
   "outputs": [],
   "source": [
    "# DO NOT CHANGE THE CODE IN THIS CELL\n",
    "_test_case = 'part-15'\n",
    "_points = 6\n",
    "\n",
    "conn = sqlite3.connect('airbnb.db')\n",
    "decoded_query = base64.b64decode(\n",
    "b'ClNFTEVDVCAKICAgIGlzX3N1cGVyaG9zdCwKICAgIENPVU5UKCopIEFTIG51bV9saXN0aW5ncywKICAgIEFWRyhiZWRyb29tcy\\\n",
    "kgYXMgYXZnX2JlZHJvb21zLAogICAgQVZHKGJhdGhyb29tcykgYXMgYXZnX2JhdGhyb29tcywKICAgIEFWRyhhY2NvbW1vZGF0ZX\\\n",
    "MpIGFzIGF2Z19hY2NvbW1vZGF0ZXMsCiAgICBBVkcocHJpY2UpIEFTIGF2Z19wcmljZSwgCiAgICBBVkcoYXZhaWxhYmlsaXR5Xz\\\n",
    "M2NSkgQVMgYXZnX2F2YWlsYWJpbGl0eSwgCiAgICBBVkcocmV2aWV3X3Njb3JlKSBBUyBhdmdfcmV2aWV3X3Njb3JlCkZST00gbG\\\n",
    "lzdGluZ3MKR1JPVVAgQlkgaXNfc3VwZXJob3N0Ck9SREVSIEJZIGlzX3N1cGVyaG9zdDsK'\n",
    ").decode()\n",
    "df_check = pd.read_sql_query(decoded_query, con=conn)\n",
    "tc.assertEqual(df_result.columns.tolist(), df_check.columns.tolist(), 'Incorrect set of columns or order')\n",
    "tc.assertEqual(df_result.shape, df_check.shape, 'Number of rows and/or columns is different')\n",
    "pd.testing.assert_series_equal(df_result['is_superhost'].reset_index(drop=True),\n",
    "                               df_check['is_superhost'].reset_index(drop=True))\n",
    "pd.testing.assert_frame_equal(df_result.sort_values(df_result.columns.tolist()).reset_index(drop=True),\n",
    "                              df_check.sort_values(df_check.columns.tolist()).reset_index(drop=True))\n",
    "conn.close()"
   ]
  },
  {
   "cell_type": "markdown",
   "metadata": {},
   "source": [
    "---\n",
    "\n",
    "## 🐳 More queries!\n",
    "\n",
    "In this part, you will try out queries that calculate metrics of interest by more than one criteria. In Pandas terms, this would be grouping by more than one column.\n",
    "\n",
    "**The fully-working query for each part will be given to you.** Your task is to *try* to understand what each query does. 🐬\n",
    "\n",
    "![SQL Query Meme](https://github.com/bdi475/images/blob/main/case-studies/airbnb-sql/my-sql-query-meme-01.jpg?raw=true)"
   ]
  },
  {
   "cell_type": "markdown",
   "metadata": {},
   "source": [
    "---\n",
    "\n",
    "### 🎯 Part 16: Metrics by neighbourhood + room type\n",
    "\n",
    "#### 👇 Tasks\n",
    "- ✔️ Store your query to a new variable named `query_neighbourhood_room_type`.\n",
    "\n",
    "![query](https://github.com/bdi475/images/blob/main/case-studies/airbnb-sql/query-neighbourhood-room-type-popularity-01.png?raw=true)"
   ]
  },
  {
   "cell_type": "code",
   "execution_count": null,
   "metadata": {},
   "outputs": [],
   "source": [
    "# YOUR CODE BEGINS\n",
    "\n",
    "# YOUR CODE ENDS\n",
    "\n",
    "conn = sqlite3.connect('airbnb.db')\n",
    "df_result = pd.read_sql_query(query_neighbourhood_room_type, con=conn)\n",
    "display(df_result)\n",
    "conn.close()"
   ]
  },
  {
   "cell_type": "markdown",
   "metadata": {},
   "source": [
    "#### 🧭 Check Your Work\n",
    "\n",
    "Run the code cell below to test your solution.\n",
    "\n",
    "- ✔️ If the code cell runs without errors, you're good to move on.\n",
    "- ❌ If the code cell produces an error, review your code and fix any mistakes."
   ]
  },
  {
   "cell_type": "code",
   "execution_count": null,
   "metadata": {
    "deletable": false,
    "editable": false,
    "nbgrader": {
     "grade": true,
     "grade_id": "part-16",
     "locked": true,
     "points": "3",
     "solution": false
    }
   },
   "outputs": [],
   "source": [
    "# DO NOT CHANGE THE CODE IN THIS CELL\n",
    "_test_case = 'part-16'\n",
    "_points = 3\n",
    "\n",
    "conn = sqlite3.connect('airbnb.db')\n",
    "decoded_query = base64.b64decode(\n",
    "b'ClNFTEVDVCAKICAgIG5laWdoYm91cmhvb2QsCiAgICByb29tX3R5cGUsCiAgICBDT1VOVCgqKSBBUyBudW1fbGlzdGluZ3MsCiAg\\\n",
    "ICBBVkcoYmVkcm9vbXMpIGFzIGF2Z19iZWRyb29tcywKICAgIEFWRyhiYXRocm9vbXMpIGFzIGF2Z19iYXRocm9vbXMsCiAgICBBVk\\\n",
    "coYWNjb21tb2RhdGVzKSBhcyBhdmdfYWNjb21tb2RhdGVzLAogICAgQVZHKHByaWNlKSBBUyBhdmdfcHJpY2UsIAogICAgQVZHKGF2\\\n",
    "YWlsYWJpbGl0eV8zNjUpIEFTIGF2Z19hdmFpbGFiaWxpdHksIAogICAgQVZHKHJldmlld19zY29yZSkgQVMgYXZnX3Jldmlld19zY2\\\n",
    "9yZQpGUk9NIGxpc3RpbmdzCkdST1VQIEJZIG5laWdoYm91cmhvb2QsIHJvb21fdHlwZQpIQVZJTkcgbnVtX2xpc3RpbmdzID4gMjAK\\\n",
    "T1JERVIgQlkgYXZnX2F2YWlsYWJpbGl0eQpMSU1JVCAxMDsK'\n",
    ").decode()\n",
    "df_check = pd.read_sql_query(decoded_query, con=conn)\n",
    "tc.assertEqual(df_result.columns.tolist(), df_check.columns.tolist(), 'Incorrect set of columns or order')\n",
    "tc.assertEqual(df_result.shape, df_check.shape, 'Number of rows and/or columns is different')\n",
    "pd.testing.assert_series_equal(df_result['avg_availability'].reset_index(drop=True),\n",
    "                               df_check['avg_availability'].reset_index(drop=True))\n",
    "pd.testing.assert_frame_equal(df_result.sort_values(df_result.columns.tolist()).reset_index(drop=True),\n",
    "                              df_check.sort_values(df_check.columns.tolist()).reset_index(drop=True))\n",
    "conn.close()"
   ]
  },
  {
   "cell_type": "markdown",
   "metadata": {},
   "source": [
    "---\n",
    "\n",
    "### 🎯 Part 17: Rounded metrics by neighbourhood + room type\n",
    "\n",
    "#### 👇 Tasks\n",
    "- ✔️ Store your query to a new variable named `query_neighbourhood_room_type_rounded`.\n",
    "- ✔️ The query below performs identical tasks to the previous deliverable, but rounds up the numbers to 1 decimal place.\n",
    "\n",
    "![query](https://github.com/bdi475/images/blob/main/case-studies/airbnb-sql/query-neighbourhood-room-type-popularity-rounded-01.png?raw=true)"
   ]
  },
  {
   "cell_type": "code",
   "execution_count": null,
   "metadata": {},
   "outputs": [],
   "source": [
    "# YOUR CODE BEGINS\n",
    "\n",
    "# YOUR CODE ENDS\n",
    "\n",
    "conn = sqlite3.connect('airbnb.db')\n",
    "df_result = pd.read_sql_query(query_neighbourhood_room_type_rounded, con=conn)\n",
    "display(df_result)\n",
    "conn.close()"
   ]
  },
  {
   "cell_type": "markdown",
   "metadata": {},
   "source": [
    "#### 🧭 Check Your Work\n",
    "\n",
    "Run the code cell below to test your solution.\n",
    "\n",
    "- ✔️ If the code cell runs without errors, you're good to move on.\n",
    "- ❌ If the code cell produces an error, review your code and fix any mistakes."
   ]
  },
  {
   "cell_type": "code",
   "execution_count": null,
   "metadata": {
    "deletable": false,
    "editable": false,
    "nbgrader": {
     "grade": true,
     "grade_id": "part-17",
     "locked": true,
     "points": "3",
     "solution": false
    }
   },
   "outputs": [],
   "source": [
    "# DO NOT CHANGE THE CODE IN THIS CELL\n",
    "_test_case = 'part-17'\n",
    "_points = 3\n",
    "\n",
    "conn = sqlite3.connect('airbnb.db')\n",
    "decoded_query = base64.b64decode(\n",
    "b'ClNFTEVDVCAKICAgIG5laWdoYm91cmhvb2QsCiAgICByb29tX3R5cGUsCiAgICBDT1VOVCgqKSBBUyBudW1fbGlzdGluZ3\\\n",
    "MsCiAgICBST1VORChBVkcoYmVkcm9vbXMpLCAxKSBhcyBhdmdfYmVkcm9vbXMsCiAgICBST1VORChBVkcoYmF0aHJvb21zKS\\\n",
    "wgMSkgYXMgYXZnX2JhdGhyb29tcywKICAgIFJPVU5EKEFWRyhhY2NvbW1vZGF0ZXMpLCAxKSBhcyBhdmdfYWNjb21tb2RhdG\\\n",
    "VzLAogICAgUk9VTkQoQVZHKHByaWNlKSwgMSkgQVMgYXZnX3ByaWNlLCAKICAgIFJPVU5EKEFWRyhhdmFpbGFiaWxpdHlfMz\\\n",
    "Y1KSwgMSkgQVMgYXZnX2F2YWlsYWJpbGl0eSwgCiAgICBST1VORChBVkcocmV2aWV3X3Njb3JlKSwgMSkgQVMgYXZnX3Jldm\\\n",
    "lld19zY29yZQpGUk9NIGxpc3RpbmdzCkdST1VQIEJZIG5laWdoYm91cmhvb2QsIHJvb21fdHlwZQpIQVZJTkcgbnVtX2xpc3\\\n",
    "RpbmdzID4gMjAKT1JERVIgQlkgYXZnX2F2YWlsYWJpbGl0eQpMSU1JVCAxMDsK'\n",
    ").decode()\n",
    "df_check = pd.read_sql_query(decoded_query, con=conn)\n",
    "tc.assertEqual(df_result.columns.tolist(), df_check.columns.tolist(), 'Incorrect set of columns or order')\n",
    "tc.assertEqual(df_result.shape, df_check.shape, 'Number of rows and/or columns is different')\n",
    "pd.testing.assert_series_equal(df_result['avg_availability'].reset_index(drop=True),\n",
    "                               df_check['avg_availability'].reset_index(drop=True))\n",
    "pd.testing.assert_frame_equal(df_result.sort_values(df_result.columns.tolist()).reset_index(drop=True),\n",
    "                              df_check.sort_values(df_check.columns.tolist()).reset_index(drop=True))\n",
    "conn.close()"
   ]
  },
  {
   "cell_type": "markdown",
   "metadata": {},
   "source": [
    "---\n",
    "\n",
    "### 🎯 Part 18: Listings that were never booked\n",
    "\n",
    "#### 👇 Tasks\n",
    "- ✔️ Store your query to a new variable named `query_never_booked_listings`.\n",
    "\n",
    "![query](https://github.com/bdi475/images/blob/main/case-studies/airbnb-sql/query-never-booked-listings-01.png?raw=true)"
   ]
  },
  {
   "cell_type": "code",
   "execution_count": null,
   "metadata": {},
   "outputs": [],
   "source": [
    "# YOUR CODE BEGINS\n",
    "\n",
    "# YOUR CODE ENDS\n",
    "\n",
    "conn = sqlite3.connect('airbnb.db')\n",
    "df_result = pd.read_sql_query(query_never_booked_listings, con=conn)\n",
    "display(df_result)\n",
    "conn.close()"
   ]
  },
  {
   "cell_type": "markdown",
   "metadata": {},
   "source": [
    "#### 🧭 Check Your Work\n",
    "\n",
    "Run the code cell below to test your solution.\n",
    "\n",
    "- ✔️ If the code cell runs without errors, you're good to move on.\n",
    "- ❌ If the code cell produces an error, review your code and fix any mistakes."
   ]
  },
  {
   "cell_type": "code",
   "execution_count": null,
   "metadata": {
    "deletable": false,
    "editable": false,
    "nbgrader": {
     "grade": true,
     "grade_id": "part-18",
     "locked": true,
     "points": "3",
     "solution": false
    }
   },
   "outputs": [],
   "source": [
    "# DO NOT CHANGE THE CODE IN THIS CELL\n",
    "_test_case = 'part-18'\n",
    "_points = 3\n",
    "\n",
    "conn = sqlite3.connect('airbnb.db')\n",
    "decoded_query = base64.b64decode(\n",
    "b'ClNFTEVDVCBuYW1lLCBuZWlnaGJvdXJob29kLCByb29tX3R5cGUsIGJlZHJvb21zLCBiYXRocm9vbXMsI\\\n",
    "GFjY29tbW9kYXRlcywgcHJpY2UsIGF2YWlsYWJpbGl0eV8zNjUKRlJPTSBsaXN0aW5ncwpXSEVSRSBhdmFp\\\n",
    "bGFiaWxpdHlfMzY1ID0gMzY1Ck9SREVSIEJZIG5hbWU7Cg=='\n",
    ").decode()\n",
    "df_check = pd.read_sql_query(decoded_query, con=conn)\n",
    "tc.assertEqual(df_result.columns.tolist(), df_check.columns.tolist(), 'Incorrect set of columns or order')\n",
    "tc.assertEqual(df_result.shape, df_check.shape, 'Number of rows and/or columns is different')\n",
    "pd.testing.assert_series_equal(df_result['name'].reset_index(drop=True),\n",
    "                               df_check['name'].reset_index(drop=True))\n",
    "pd.testing.assert_frame_equal(df_result.sort_values(df_result.columns.tolist()).reset_index(drop=True),\n",
    "                              df_check.sort_values(df_check.columns.tolist()).reset_index(drop=True))\n",
    "conn.close()"
   ]
  },
  {
   "cell_type": "markdown",
   "metadata": {},
   "source": [
    "---\n",
    "\n",
    "### 🎯 Part 19: Top 15 highest-rated listings\n",
    "\n",
    "#### 👇 Tasks\n",
    "- ✔️ Store your query to a new variable named `query_highest_rated_listings`.\n",
    "\n",
    "![query](https://github.com/bdi475/images/blob/main/case-studies/airbnb-sql/query-highest-rated-listings-01.png?raw=true)"
   ]
  },
  {
   "cell_type": "code",
   "execution_count": null,
   "metadata": {},
   "outputs": [],
   "source": [
    "# YOUR CODE BEGINS\n",
    "\n",
    "# YOUR CODE ENDS\n",
    "\n",
    "conn = sqlite3.connect('airbnb.db')\n",
    "df_result = pd.read_sql_query(query_highest_rated_listings, con=conn)\n",
    "display(df_result)\n",
    "conn.close()"
   ]
  },
  {
   "cell_type": "markdown",
   "metadata": {},
   "source": [
    "#### 🧭 Check Your Work\n",
    "\n",
    "Run the code cell below to test your solution.\n",
    "\n",
    "- ✔️ If the code cell runs without errors, you're good to move on.\n",
    "- ❌ If the code cell produces an error, review your code and fix any mistakes."
   ]
  },
  {
   "cell_type": "code",
   "execution_count": null,
   "metadata": {
    "deletable": false,
    "editable": false,
    "nbgrader": {
     "grade": true,
     "grade_id": "part-19",
     "locked": true,
     "points": "3",
     "solution": false
    }
   },
   "outputs": [],
   "source": [
    "# DO NOT CHANGE THE CODE IN THIS CELL\n",
    "_test_case = 'part-19'\n",
    "_points = 3\n",
    "\n",
    "conn = sqlite3.connect('airbnb.db')\n",
    "decoded_query = base64.b64decode(\n",
    "b'ClNFTEVDVAogICAgbmFtZSwgbmVpZ2hib3VyaG9vZCwgcm9vbV90eXBlLCBiZWRyb29tcywgYmF0aHJvb21zLCAKICAgIGFjY\\\n",
    "29tbW9kYXRlcywgcHJpY2UsIHJldmlld19zY29yZSwgbnVtYmVyX29mX3Jldmlld3MKRlJPTSBsaXN0aW5ncwpPUkRFUiBCWSBy\\\n",
    "ZXZpZXdfc2NvcmUgREVTQywgbnVtYmVyX29mX3Jldmlld3MgZEVTQwpMSU1JVCAxNTsK'\n",
    ").decode()\n",
    "df_check = pd.read_sql_query(decoded_query, con=conn)\n",
    "tc.assertEqual(df_result.columns.tolist(), df_check.columns.tolist(), 'Incorrect set of columns or order')\n",
    "tc.assertEqual(df_result.shape, df_check.shape, 'Number of rows and/or columns is different')\n",
    "pd.testing.assert_series_equal(df_result['review_score'].reset_index(drop=True),\n",
    "                               df_check['review_score'].reset_index(drop=True))\n",
    "pd.testing.assert_frame_equal(df_result.sort_values(df_result.columns.tolist()).reset_index(drop=True),\n",
    "                              df_check.sort_values(df_check.columns.tolist()).reset_index(drop=True))\n",
    "conn.close()"
   ]
  },
  {
   "cell_type": "markdown",
   "metadata": {},
   "source": [
    "---\n",
    "\n",
    "### 🎯 Part 20: Search by keyword\n",
    "\n",
    "#### 👇 Tasks\n",
    "- ✔️ Store your query to a new variable named `query_bright_listings`.\n",
    "\n",
    "![query](https://github.com/bdi475/images/blob/main/case-studies/airbnb-sql/query-search-by-keyword-01.png?raw=true)"
   ]
  },
  {
   "cell_type": "code",
   "execution_count": null,
   "metadata": {},
   "outputs": [],
   "source": [
    "# YOUR CODE BEGINS\n",
    "\n",
    "# YOUR CODE ENDS\n",
    "\n",
    "conn = sqlite3.connect('airbnb.db')\n",
    "df_result = pd.read_sql_query(query_bright_listings, con=conn)\n",
    "display(df_result)\n",
    "conn.close()"
   ]
  },
  {
   "cell_type": "markdown",
   "metadata": {},
   "source": [
    "#### 🧭 Check Your Work\n",
    "\n",
    "Run the code cell below to test your solution.\n",
    "\n",
    "- ✔️ If the code cell runs without errors, you're good to move on.\n",
    "- ❌ If the code cell produces an error, review your code and fix any mistakes."
   ]
  },
  {
   "cell_type": "code",
   "execution_count": null,
   "metadata": {
    "deletable": false,
    "editable": false,
    "nbgrader": {
     "grade": true,
     "grade_id": "part-20",
     "locked": true,
     "points": "3",
     "solution": false
    }
   },
   "outputs": [],
   "source": [
    "# DO NOT CHANGE THE CODE IN THIS CELL\n",
    "_test_case = 'part-20'\n",
    "_points = 3\n",
    "\n",
    "conn = sqlite3.connect('airbnb.db')\n",
    "decoded_query = base64.b64decode(\n",
    "b'ClNFTEVDVCBuYW1lLCBwcmljZSwgcmV2aWV3X3Njb3JlLCBudW1iZXJfb2ZfcmV2aWV3cwpGUk9NIG\\\n",
    "xpc3RpbmdzCldIRVJFIExPV0VSKG5hbWUpIExJS0UgJyVicmlnaHQlJwpPUkRFUiBCWSByZXZpZXdfc2\\\n",
    "NvcmUgREVTQywgbnVtYmVyX29mX3Jldmlld3MgREVTQwpMSU1JVCAxMDsK'\n",
    ").decode()\n",
    "df_check = pd.read_sql_query(decoded_query, con=conn)\n",
    "tc.assertEqual(df_result.columns.tolist(), df_check.columns.tolist(), 'Incorrect set of columns or order')\n",
    "tc.assertEqual(df_result.shape, df_check.shape, 'Number of rows and/or columns is different')\n",
    "pd.testing.assert_series_equal(df_result['review_score'].reset_index(drop=True),\n",
    "                               df_check['review_score'].reset_index(drop=True))\n",
    "pd.testing.assert_frame_equal(df_result.sort_values(df_result.columns.tolist()).reset_index(drop=True),\n",
    "                              df_check.sort_values(df_check.columns.tolist()).reset_index(drop=True))\n",
    "conn.close()"
   ]
  },
  {
   "cell_type": "markdown",
   "metadata": {},
   "source": [
    "---\n",
    "\n",
    "## 🍸 Submitting your notebook\n"
   ]
  },
  {
   "cell_type": "markdown",
   "metadata": {},
   "source": [
    "There is one final step before exporting the notebook as an `.ipynb` file for submission. Restart your runtime (kernal) and run all cells from the beginning to ensure that your notebook does not contain any error.\n",
    "\n",
    "- Go to the **\"Runtime\"** (\"Kernel\" if you're on Jupyter Lab) menu on top.\n",
    "- Select **\"Restart and run all\"**.\n",
    "- Make sure no code cell throws an error.\n",
    "- Failing to pass this step may result in a significant loss of points since the autograder will fail to run.<br /><br />\n",
    "\n",
    "![image.png](data:image/png;base64,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)"
   ]
  },
  {
   "cell_type": "code",
   "execution_count": null,
   "metadata": {},
   "outputs": [],
   "source": [
    "print('🎯 Restart and run all successful')"
   ]
  }
 ],
 "metadata": {
  "kernelspec": {
   "display_name": "Python 3 (ipykernel)",
   "language": "python",
   "name": "python3"
  },
  "language_info": {
   "codemirror_mode": {
    "name": "ipython",
    "version": 3
   },
   "file_extension": ".py",
   "mimetype": "text/x-python",
   "name": "python",
   "nbconvert_exporter": "python",
   "pygments_lexer": "ipython3",
   "version": "3.9.7"
  }
 },
 "nbformat": 4,
 "nbformat_minor": 4
}
