{
 "cells": [
  {
   "cell_type": "markdown",
   "metadata": {},
   "source": [
    "# City of Chicago Uber/Lyft Vehicles Registered\n",
    "\n",
    "- 🏆 80 points available\n",
    "- 🤠 Author: Park (ypark32@illinois.edu)\n",
    "- ✏️ Last updated on 3/20/2025\n"
   ]
  },
  {
   "cell_type": "markdown",
   "metadata": {},
   "source": [
    "---\n",
    "\n",
    "▶️ First, run the code cell below to import `unittest`, a module used for **🧭 Check Your Work** sections and the autograder.\n"
   ]
  },
  {
   "cell_type": "code",
   "execution_count": null,
   "metadata": {},
   "outputs": [],
   "source": [
    "# DO NOT MODIFY THE CODE IN THIS CELL\n",
    "import unittest\n",
    "\n",
    "tc = unittest.TestCase()"
   ]
  },
  {
   "cell_type": "markdown",
   "metadata": {},
   "source": [
    "---\n",
    "\n",
    "## 💎 Case Overview\n",
    "\n",
    "There are four Transportation Network Providers (often called rideshare companies 🚗) licensed to operate in Chicago. These rideshare companies are required to routinely report vehicle, driver, and trip information to the City of Chicago, which is published on the [Chicago Data Portal](https://data.cityofchicago.org/). The latest vehicle dataset can be downloaded at [registered vehicles dataset](https://data.cityofchicago.org/Transportation/Transportation-Network-Providers-Vehicles/bc6b-sq4u). The original dataset has been preprocessed to fit this case study.\n",
    "\n",
    "The reporting is done on a monthly basis, as indicated by the `REPORTED_YEAR` and `REPORTED_MONTH` columns. For each registered vehicle at a given month, the following information is provided:\n",
    "\n",
    "| Column Name       | Description                                                                                                                                                                                                                      |\n",
    "| ----------------- | -------------------------------------------------------------------------------------------------------------------------------------------------------------------------------------------------------------------------------- |\n",
    "| `REPORTD_YEAR`    | The year in which the vehicle was reported                                                                                                                                                                                       |\n",
    "| `REPORTED_MONTH`  | The month in which the vehicle was reported                                                                                                                                                                                      |\n",
    "| `STATE`           | The state of the license plate                                                                                                                                                                                                   |\n",
    "| `MAKE`            | The make of the vehicle                                                                                                                                                                                                          |\n",
    "| `MODEL`           | The model of the vehicle                                                                                                                                                                                                         |\n",
    "| `COLOR`           | The color of the vehicle                                                                                                                                                                                                         |\n",
    "| `MODEL_YEAR`      | The model year of the vehicle                                                                                                                                                                                                    |\n",
    "| `NUMBER_OF_TRIPS` | Number of trips provided in this month. Due to the complexities of matching, errors are possible in both directions. Values over 999 are converted to null as suspected error values that interfere with easy data visualization |\n",
    "| `MULTIPLE_TNPS`   | Whether the vehicle was reported by multiple TNPs in this month. Matching is imperfect so some vehicle records that should have been combined may be separate.                                                                   |\n",
    "\n",
    "### ⚔️ Your Goal\n",
    "\n",
    "In this case study, you'll use Pandas to explore and analyze over 1 million monthly rideshare vehicle registrations. Below are some of the questions you'll be answering.\n",
    "\n",
    "- How many total trips did drivers make between 2015 and 2024?\n",
    "- How many trips did drivers make per month on average between 2015 and 2024?\n",
    "- Do Lincoln drivers make more trips compared to the overall average?\n",
    "- Do any drivers drive a red Tesla?\n",
    "- Do any drivers drive a Porsche or a Hummer?\n",
    "- Are there any vehicles that are brand new?\n",
    "- Do drivers who drive for two or more rideshare companies (e.g., Uber **and** Lyft) make more trips on average compared to other drivers who drive for only one rideshare company?\n",
    "- Which automakers are popular amongst rideshare drivers?\n",
    "- Which automakers have the highest number of trips on average?\n",
    "- How many trips do drivers of the Japanese Big 3 automakers make on average?\n",
    "- Which make/model is the most popular amongst rideshare drivers?\n",
    "- How about car colors?\n",
    "\n",
    "### Notes\n",
    "\n",
    "- Vehicle registrations that made less than 100 monthly trips are excluded. If you'd like to use the full dataset, you can download the full data (~500 MB) at [registered vehicles dataset](https://data.cityofchicago.org/Transportation/Transportation-Network-Providers-Vehicles/bc6b-sq4u).\n",
    "- A vehicle will likely be registered multiple times. For example, if a driver drives a Camry for 12 months, there will be 12 rows of duplicate vehicle information.\n"
   ]
  },
  {
   "cell_type": "markdown",
   "metadata": {},
   "source": [
    "---\n",
    "\n",
    "### 🎯 Part 1: Import `numpy` and `pandas`\n",
    "\n",
    "#### 👇 Tasks\n",
    "\n",
    "- ✔️ Import the following Python packages.\n",
    "  1. `pandas`: Use alias `pd`.\n",
    "  2. `numpy`: Use alias `np`.\n"
   ]
  },
  {
   "cell_type": "code",
   "execution_count": null,
   "metadata": {},
   "outputs": [],
   "source": [
    "# YOUR CODE BEGINS\n",
    "\n",
    "# YOUR CODE ENDS"
   ]
  },
  {
   "cell_type": "markdown",
   "metadata": {},
   "source": [
    "#### 🧭 Check Your Work\n",
    "\n",
    "Run the code cell below to test your solution.\n",
    "\n",
    "- ✔️ If the code cell runs without errors, you're good to move on.\n",
    "- ❌ If the code cell produces an error, review your code and fix any mistakes."
   ]
  },
  {
   "cell_type": "code",
   "execution_count": null,
   "metadata": {
    "deletable": false,
    "editable": false,
    "nbgrader": {
     "grade": true,
     "grade_id": "part-01",
     "locked": true,
     "points": "2",
     "solution": false
    }
   },
   "outputs": [],
   "source": [
    "# DO NOT CHANGE THE CODE IN THIS CELL\n",
    "_test_case = \"part-01\"\n",
    "_points = 2\n",
    "\n",
    "tc.assertTrue(\n",
    "    \"pd\" in globals(), \"Check whether you have correctly import Pandas with an alias.\"\n",
    ")\n",
    "tc.assertTrue(\n",
    "    \"np\" in globals(), \"Check whether you have correctly import NumPy with an alias.\"\n",
    ")"
   ]
  },
  {
   "cell_type": "markdown",
   "metadata": {},
   "source": [
    "---\n",
    "\n",
    "## 🔭 Explore Data\n",
    "\n",
    "### 📌 Load Data\n"
   ]
  },
  {
   "cell_type": "markdown",
   "metadata": {},
   "source": [
    "▶️ Run the code cell below to configure Pandas, create a new `DataFrame` named `df_v` from a ZIP file, and clone the dataset for intermediate checks.\n"
   ]
  },
  {
   "cell_type": "code",
   "execution_count": null,
   "metadata": {},
   "outputs": [],
   "source": [
    "# DO NOT CHANGE THE CODE IN THIS CELL\n",
    "# Display precision of decimal places to 1\n",
    "# Precision of decimal places does not have a significance in this case study\n",
    "pd.set_option(\"display.precision\", 1)\n",
    "\n",
    "df_v = pd.read_csv(\n",
    "    \"https://github.com/bdi475/datasets/blob/main/chicago-ridesharing-vehicles-202409.zip?raw=true\",\n",
    "    compression=\"zip\",\n",
    ")\n",
    "\n",
    "# Used to keep a clean copy\n",
    "df_v_backup = df_v.copy()\n",
    "\n",
    "# Display the first 5 rows\n",
    "df_v.head()"
   ]
  },
  {
   "cell_type": "markdown",
   "metadata": {},
   "source": [
    "---\n",
    "\n",
    "### 🎯 Part2: Find the Number of Rows and Columns in the Dataset\n",
    "\n",
    "#### 👇 Tasks\n",
    "\n",
    "- ✔️ Store the number of rows in `df_v` to a new variable named `num_rows`.\n",
    "- ✔️ Store the number of columns in `df_v` to a new variable named `num_cols`.\n",
    "- ✔️ Both `num_rows` and `num_cols` must be `int`s.\n",
    "- ✔️ Use `.shape`, not `len()`.\n"
   ]
  },
  {
   "cell_type": "code",
   "execution_count": null,
   "metadata": {},
   "outputs": [],
   "source": [
    "# YOUR CODE BEGINS\n",
    "\n",
    "# YOUR CODE ENDS\n",
    "\n",
    "print(f\"There are {num_rows} rows and {num_cols} columns in the dataset.\")\n",
    "print(\n",
    "    \"🐼 With over two million rows, this dataset is by far the largest one we've worked with so far!!\"\n",
    ")"
   ]
  },
  {
   "cell_type": "markdown",
   "metadata": {},
   "source": [
    "#### 🧭 Check Your Work\n",
    "\n",
    "Run the code cell below to test your solution.\n",
    "\n",
    "- ✔️ If the code cell runs without errors, you're good to move on.\n",
    "- ❌ If the code cell produces an error, review your code and fix any mistakes."
   ]
  },
  {
   "cell_type": "code",
   "execution_count": null,
   "metadata": {
    "deletable": false,
    "editable": false,
    "nbgrader": {
     "grade": true,
     "grade_id": "part-02",
     "locked": true,
     "points": "2",
     "solution": false
    }
   },
   "outputs": [],
   "source": [
    "# DO NOT CHANGE THE CODE IN THIS CELL\n",
    "_test_case = \"part-02\"\n",
    "_points = 2\n",
    "\n",
    "tc.assertEqual(\n",
    "    num_rows,\n",
    "    len(df_v_backup.index),\n",
    "    f\"Number of rows should be {len(df_v_backup.index)}\",\n",
    ")\n",
    "tc.assertEqual(\n",
    "    num_cols,\n",
    "    len(df_v_backup.columns),\n",
    "    f\"Number of columns should be {len(df_v_backup.columns)}\",\n",
    ")"
   ]
  },
  {
   "cell_type": "markdown",
   "metadata": {},
   "source": [
    "---\n",
    "\n",
    "### 🎯 Part 3: Concise Summary of the Dataset\n",
    "\n",
    "#### 👇 Tasks\n",
    "\n",
    "- ✔️ Use the `info()` method to print out a concise summary of `df_v`.\n",
    "\n",
    "#### 🚀 Hints\n",
    "\n",
    "- `my_dataframe.info()` prints out a concise summary of `my_dataframe`.\n"
   ]
  },
  {
   "cell_type": "code",
   "execution_count": null,
   "metadata": {},
   "outputs": [],
   "source": [
    "# YOUR CODE BEGINS\n",
    "\n",
    "# YOUR CODE ENDS"
   ]
  },
  {
   "cell_type": "code",
   "execution_count": null,
   "metadata": {
    "deletable": false,
    "editable": false,
    "nbgrader": {
     "grade": true,
     "grade_id": "part-03",
     "locked": true,
     "points": "2",
     "solution": false
    }
   },
   "outputs": [],
   "source": [
    "# DO NOT CHANGE THE CODE IN THIS CELL\n",
    "_test_case = \"part-03\"\n",
    "_points = 2"
   ]
  },
  {
   "cell_type": "markdown",
   "metadata": {},
   "source": [
    "---\n",
    "\n",
    "### 🎯 Part 4: Total Number of Trips\n",
    "\n",
    "#### 👇 Tasks\n",
    "\n",
    "- ✔️ Calculate the total number of trips (monthly) made by all registered vehicles in `df_v`.\n",
    "- ✔️ Store the result in a new variable named `total_num_trips`.\n",
    "- ✔️ `total_num_trips` should be an `int` type (e.g., `int`, `np.int64`).\n",
    "\n",
    "#### 🚀 Hints\n",
    "\n",
    "- Sum all values in the `NUMBER_OF_TRIPS` column.\n"
   ]
  },
  {
   "cell_type": "code",
   "execution_count": null,
   "metadata": {},
   "outputs": [],
   "source": [
    "# YOUR CODE BEGINS\n",
    "\n",
    "# YOUR CODE ENDS\n",
    "\n",
    "print(\n",
    "    f'{round(total_num_trips / (10 ** 6), 2)} million ridesharing trips have taken place in Chicago since {df_v[\"REPORTED_YEAR\"].min()}.'\n",
    ")"
   ]
  },
  {
   "cell_type": "markdown",
   "metadata": {},
   "source": [
    "#### 🧭 Check Your Work\n",
    "\n",
    "Run the code cell below to test your solution.\n",
    "\n",
    "- ✔️ If the code cell runs without errors, you're good to move on.\n",
    "- ❌ If the code cell produces an error, review your code and fix any mistakes."
   ]
  },
  {
   "cell_type": "code",
   "execution_count": null,
   "metadata": {
    "deletable": false,
    "editable": false,
    "nbgrader": {
     "grade": true,
     "grade_id": "part-04",
     "locked": true,
     "points": "3",
     "solution": false
    }
   },
   "outputs": [],
   "source": [
    "# DO NOT CHANGE THE CODE IN THIS CELL\n",
    "_test_case = \"part-04\"\n",
    "_points = 3\n",
    "\n",
    "tc.assertEqual(\n",
    "    total_num_trips, np.sum(df_v_backup[\"_\".join([\"nUmbEr\", \"oF\", \"TrIpS\"]).upper()])\n",
    ")"
   ]
  },
  {
   "cell_type": "markdown",
   "metadata": {},
   "source": [
    "---\n",
    "\n",
    "### 🎯 Part 5: Average Number of Trips (Monthly)\n",
    "\n",
    "#### 👇 Tasks\n",
    "\n",
    "- ✔️ Calculate the average number of trips (monthly) made by all registered vehicles in `df_v`.\n",
    "- ✔️ Store the result in a new variable named `avg_num_trips`.\n",
    "- ✔️ `avg_num_trips` should be a `float` type (e.g., `float`, `np.float64`).\n",
    "\n",
    "#### 🚀 Hints\n",
    "\n",
    "- Find the mean of all values in the `NUMBER_OF_TRIPS` column.\n"
   ]
  },
  {
   "cell_type": "code",
   "execution_count": null,
   "metadata": {},
   "outputs": [],
   "source": [
    "# YOUR CODE BEGINS\n",
    "\n",
    "# YOUR CODE ENDS\n",
    "\n",
    "print(\n",
    "    f\"On average, a registered vehicle made {round(avg_num_trips, 1)} trips each month.\"\n",
    ")"
   ]
  },
  {
   "cell_type": "markdown",
   "metadata": {},
   "source": [
    "#### 🧭 Check Your Work\n",
    "\n",
    "Run the code cell below to test your solution.\n",
    "\n",
    "- ✔️ If the code cell runs without errors, you're good to move on.\n",
    "- ❌ If the code cell produces an error, review your code and fix any mistakes."
   ]
  },
  {
   "cell_type": "code",
   "execution_count": null,
   "metadata": {
    "deletable": false,
    "editable": false,
    "nbgrader": {
     "grade": true,
     "grade_id": "part-05",
     "locked": true,
     "points": "3",
     "solution": false
    }
   },
   "outputs": [],
   "source": [
    "# DO NOT CHANGE THE CODE IN THIS CELL\n",
    "_test_case = \"part-05\"\n",
    "_points = 3\n",
    "\n",
    "tc.assertAlmostEqual(\n",
    "    avg_num_trips, np.mean(df_v_backup[\"_\".join([\"nUmbEr\", \"oF\", \"TrIpS\"]).upper()])\n",
    ")"
   ]
  },
  {
   "cell_type": "markdown",
   "metadata": {},
   "source": [
    "---\n",
    "\n",
    "### 🎯 Part 6: Filter Lincoln Vehicles\n",
    "\n",
    "#### 👇 Tasks\n",
    "\n",
    "- ✔️ Using `df_v`, filter rows where the vehicle's `MAKE` is `\"Lincoln\"`.\n",
    "  - Store the result in a new variable named `df_lincoln`.\n",
    "- ✔️ `df_v` should remain unaltered after your code.\n"
   ]
  },
  {
   "cell_type": "code",
   "execution_count": null,
   "metadata": {},
   "outputs": [],
   "source": [
    "# YOUR CODE BEGINS\n",
    "\n",
    "# YOUR CODE ENDS\n",
    "\n",
    "display(df_lincoln.head(5))\n",
    "print(f\"There are {df_lincoln.shape[0]} monthly Lincoln vehicle registrations.\")"
   ]
  },
  {
   "cell_type": "markdown",
   "metadata": {},
   "source": [
    "#### 🧭 Check Your Work\n",
    "\n",
    "Run the code cell below to test your solution.\n",
    "\n",
    "- ✔️ If the code cell runs without errors, you're good to move on.\n",
    "- ❌ If the code cell produces an error, review your code and fix any mistakes."
   ]
  },
  {
   "cell_type": "code",
   "execution_count": null,
   "metadata": {
    "deletable": false,
    "editable": false,
    "nbgrader": {
     "grade": true,
     "grade_id": "part-06",
     "locked": true,
     "points": "2",
     "solution": false
    }
   },
   "outputs": [],
   "source": [
    "# DO NOT CHANGE THE CODE IN THIS CELL\n",
    "_test_case = \"part-06\"\n",
    "_points = 2\n",
    "\n",
    "tc.assertEqual(df_v.shape, df_v_backup.shape, \"df_v should remain unaltered.\")\n",
    "\n",
    "pd.testing.assert_frame_equal(\n",
    "    df_lincoln.sort_values(df_v_backup.columns.tolist())\n",
    "    .head(100)\n",
    "    .reset_index(drop=True),\n",
    "    df_v_backup.query(f'{\"\".join([\"ma\", \"ke\"]).upper()} == \"{\"lIncOlN\".capitalize()}\"')\n",
    "    .sort_values(df_v_backup.columns.tolist())\n",
    "    .head(100)\n",
    "    .reset_index(drop=True),\n",
    "    check_like=True,\n",
    ")"
   ]
  },
  {
   "cell_type": "markdown",
   "metadata": {},
   "source": [
    "---\n",
    "\n",
    "### 🎯 Part 7: Average Number of Trips (Monthly) for Lincoln Vehicles\n",
    "\n",
    "#### 👇 Tasks\n",
    "\n",
    "- ✔️ Using `df_lincoln`, calculate the average number of trips (monthly) for all Lincoln vehicles.\n",
    "- ✔️ Store the result in a new variable named `avg_num_trips_lincoln`.\n",
    "- ✔️ `avg_num_trips_lincoln` should be a `float` type (e.g., `float`, `np.float64`).\n",
    "\n",
    "#### 🚀 Hints\n",
    "\n",
    "- Find the mean of all\n",
    "  values in `df_lincoln`'s `NUMBER_OF_TRIPS` column.\n"
   ]
  },
  {
   "cell_type": "code",
   "execution_count": null,
   "metadata": {},
   "outputs": [],
   "source": [
    "# YOUR CODE BEGINS\n",
    "\n",
    "# YOUR CODE ENDS\n",
    "\n",
    "print(\n",
    "    f\"Lincoln drivers made {round(avg_num_trips_lincoln, 1)} monthly trips on average.\"\n",
    ")\n",
    "print(\n",
    "    f\"This is higher than the overall average of {round(avg_num_trips, 1)} trips (monthly).\"\n",
    ")"
   ]
  },
  {
   "cell_type": "markdown",
   "metadata": {},
   "source": [
    "#### 🧭 Check Your Work\n",
    "\n",
    "Run the code cell below to test your solution.\n",
    "\n",
    "- ✔️ If the code cell runs without errors, you're good to move on.\n",
    "- ❌ If the code cell produces an error, review your code and fix any mistakes."
   ]
  },
  {
   "cell_type": "code",
   "execution_count": null,
   "metadata": {
    "deletable": false,
    "editable": false,
    "nbgrader": {
     "grade": true,
     "grade_id": "part-07",
     "locked": true,
     "points": "3",
     "solution": false
    }
   },
   "outputs": [],
   "source": [
    "# DO NOT CHANGE THE CODE IN THIS CELL\n",
    "_test_case = \"part-07\"\n",
    "_points = 3\n",
    "\n",
    "tc.assertAlmostEqual(\n",
    "    avg_num_trips_lincoln,\n",
    "    df_v_backup.query(f'{\"\".join([\"mA\", \"Ke\"]).upper()} == \"{\"LiNCoLN\".capitalize()}\"')[\n",
    "        \"_\".join([\"NuMBeR\", \"oF\", \"tRiPs\"]).upper()\n",
    "    ].mean(),\n",
    ")"
   ]
  },
  {
   "cell_type": "markdown",
   "metadata": {},
   "source": [
    "---\n",
    "\n",
    "### 🎯 Part 8: Red Tesla Vehicles\n",
    "\n",
    "#### 👇 Tasks\n",
    "\n",
    "- ✔️ Using `df_v`, filter rows where:\n",
    "  - `MAKE` is `\"Tesla\"`, **AND**\n",
    "  - `COLOR` is `\"Red\"`.\n",
    "- ✔️ Store the result in a new variable named `df_red_tesla`.\n",
    "- ✔️ `df_v` should remain unaltered after your code.\n",
    "\n",
    "#### 🚀 Hints\n",
    "\n",
    "- Use the logical AND operator (`&`) to check whether the two conditions are both satisfied.\n"
   ]
  },
  {
   "cell_type": "code",
   "execution_count": null,
   "metadata": {},
   "outputs": [],
   "source": [
    "# YOUR CODE BEGINS\n",
    "\n",
    "# YOUR CODE ENDS\n",
    "\n",
    "print(f\"There are {df_red_tesla.shape[0]} monthly red Tesla vehicle registrations.\")\n",
    "df_red_tesla.head(5)"
   ]
  },
  {
   "cell_type": "markdown",
   "metadata": {},
   "source": [
    "#### 🧭 Check Your Work\n",
    "\n",
    "Run the code cell below to test your solution.\n",
    "\n",
    "- ✔️ If the code cell runs without errors, you're good to move on.\n",
    "- ❌ If the code cell produces an error, review your code and fix any mistakes."
   ]
  },
  {
   "cell_type": "code",
   "execution_count": null,
   "metadata": {
    "deletable": false,
    "editable": false,
    "nbgrader": {
     "grade": true,
     "grade_id": "part-08",
     "locked": true,
     "points": "4",
     "solution": false
    }
   },
   "outputs": [],
   "source": [
    "# DO NOT CHANGE THE CODE IN THIS CELL\n",
    "_test_case = \"part-08\"\n",
    "_points = 4\n",
    "\n",
    "tc.assertEqual(df_v.shape, df_v_backup.shape, \"df_v should remain unaltered.\")\n",
    "\n",
    "pd.testing.assert_frame_equal(\n",
    "    df_v_backup.query(\n",
    "        f'{\"\".join([\"mA\", \"kE\"]).upper()} == \"{\"\".join([\"T\", \"e\", \"s\", \"l\", \"a\"])}\" \\\n",
    "                                          & {\"\".join([\"c\", \"OLO\", \"r\"]).upper()} == \"{(\"r\" + \"E\" + \"D\").capitalize()}\"'\n",
    "    )\n",
    "    .sort_values(df_v_backup.columns.tolist())\n",
    "    .reset_index(drop=True),\n",
    "    df_red_tesla.sort_values(df_red_tesla.columns.tolist()).reset_index(drop=True),\n",
    ")"
   ]
  },
  {
   "cell_type": "markdown",
   "metadata": {},
   "source": [
    "---\n",
    "\n",
    "### 🎯 Part 9: Porsche + Hummer\n",
    "\n",
    "#### 👇 Tasks\n",
    "\n",
    "- ✔️ Using `df_v`, filter rows where:\n",
    "  - `MAKE` is `\"Porsche\"`, **OR**\n",
    "  - `MAKE` is `\"Hummer\"`.\n",
    "- ✔️ Store the result in a new variable named `df_porsche_hummer`.\n",
    "- ✔️ `df_v` should remain unaltered after your code.\n",
    "\n",
    "#### 🚀 Hints\n",
    "\n",
    "- Use the logical OR operator (`|`) to check whether at least one of the two conditions is met.\n"
   ]
  },
  {
   "cell_type": "code",
   "execution_count": null,
   "metadata": {},
   "outputs": [],
   "source": [
    "# YOUR CODE BEGINS\n",
    "\n",
    "# YOUR CODE ENDS\n",
    "\n",
    "display(df_porsche_hummer.head(5))\n",
    "print(\n",
    "    f\"There are {df_porsche_hummer.shape[0]} Porsche and Hummer monthly vehicle registrations.\"\n",
    ")"
   ]
  },
  {
   "cell_type": "markdown",
   "metadata": {},
   "source": [
    "#### 🧭 Check Your Work\n",
    "\n",
    "Run the code cell below to test your solution.\n",
    "\n",
    "- ✔️ If the code cell runs without errors, you're good to move on.\n",
    "- ❌ If the code cell produces an error, review your code and fix any mistakes."
   ]
  },
  {
   "cell_type": "code",
   "execution_count": null,
   "metadata": {
    "deletable": false,
    "editable": false,
    "nbgrader": {
     "grade": true,
     "grade_id": "part-09",
     "locked": true,
     "points": "4",
     "solution": false
    }
   },
   "outputs": [],
   "source": [
    "# DO NOT CHANGE THE CODE IN THIS CELL\n",
    "_test_case = \"part-09\"\n",
    "_points = 4\n",
    "\n",
    "tc.assertEqual(df_v.shape, df_v_backup.shape, \"df_v should remain unaltered.\")\n",
    "\n",
    "pd.testing.assert_frame_equal(\n",
    "    df_v_backup.query(\n",
    "        f'{\"mAKe\".upper()} == \"{\"PORsCHE\".capitalize()}\" \\\n",
    "                                      | {\"mAke\".upper()} == \"{\"HuMMeR\".capitalize()}\"'\n",
    "    )\n",
    "    .sort_values(df_v_backup.columns.tolist())\n",
    "    .reset_index(drop=True),\n",
    "    df_porsche_hummer.sort_values(df_v_backup.columns.tolist()).reset_index(drop=True),\n",
    ")"
   ]
  },
  {
   "cell_type": "markdown",
   "metadata": {},
   "source": [
    "---\n",
    "\n",
    "### 🎯 Part 10: Maximum Number of Trips\n",
    "\n",
    "#### 👇 Tasks\n",
    "\n",
    "- ✔️ Find the maximum number of monthly trips for a given vehicle in `df_v`.\n",
    "- ✔️ Store the value in a new variable named `max_num_trips`.\n",
    "\n",
    "#### 🚀 Hints\n",
    "\n",
    "- Find the maximum value of the `\"NUMBER_OF_TRIPS\"` column.\n"
   ]
  },
  {
   "cell_type": "code",
   "execution_count": null,
   "metadata": {},
   "outputs": [],
   "source": [
    "# YOUR CODE BEGINS\n",
    "\n",
    "# YOUR CODE ENDS\n",
    "\n",
    "print(f\"The maximum reported number of monthly trips is {max_num_trips}.\")"
   ]
  },
  {
   "cell_type": "markdown",
   "metadata": {},
   "source": [
    "#### 🧭 Check Your Work\n",
    "\n",
    "Run the code cell below to test your solution.\n",
    "\n",
    "- ✔️ If the code cell runs without errors, you're good to move on.\n",
    "- ❌ If the code cell produces an error, review your code and fix any mistakes."
   ]
  },
  {
   "cell_type": "code",
   "execution_count": null,
   "metadata": {
    "deletable": false,
    "editable": false,
    "nbgrader": {
     "grade": true,
     "grade_id": "part-10",
     "locked": true,
     "points": "3",
     "solution": false
    }
   },
   "outputs": [],
   "source": [
    "# DO NOT CHANGE THE CODE IN THIS CELL\n",
    "_test_case = \"part-10\"\n",
    "_points = 3\n",
    "\n",
    "tc.assertEqual(max_num_trips, 999)"
   ]
  },
  {
   "cell_type": "markdown",
   "metadata": {},
   "source": [
    "---\n",
    "\n",
    "### 🎯 Part 11: Black Lincoln Mkz with 999+ Trips\n",
    "\n",
    "#### 👇 Tasks\n",
    "\n",
    "- ✔️ Using `df_v`, filter rows where:\n",
    "  - `MODEL` is `\"Mkz\"`, **AND**\n",
    "  - `COLOR` is `\"Black\"`, **AND**\n",
    "  - `NUMBER_OF_TRIPS` is greater than or equal to `999`.\n",
    "- ✔️ Store the result in a new variable named `df_black_mkz`.\n",
    "- ✔️ `df_v` should remain unaltered after your code.\n",
    "\n",
    "#### 🚀 Hints\n",
    "\n",
    "- Use the logical AND operator (`&`) with parentheses to check whether two or more conditions are satisfied.\n",
    "- **Example**: `df_filtered = df[(condition1) & (condition2) & (condition3)]`\n",
    "\n",
    "#### 🔑 Expected Output\n",
    "\n",
    "Your index column may contain different values.\n",
    "\n",
    "|         | REPORTED_YEAR | REPORTED_MONTH | STATE | MAKE    | MODEL | COLOR | MODEL_YEAR | NUMBER_OF_TRIPS | MULTIPLE_TNPS |\n",
    "| ------: | ------------: | -------------: | :---- | :------ | :---- | :---- | ---------: | --------------: | :------------ |\n",
    "|  535247 |          2018 |              1 | IL    | Lincoln | Mkz   | Black |       2017 |             999 | True          |\n",
    "|  951816 |          2019 |              3 | IL    | Lincoln | Mkz   | Black |       2016 |             999 | True          |\n",
    "| 1083696 |          2019 |              8 | IL    | Lincoln | Mkz   | Black |       2018 |             999 | True          |\n",
    "| 1278280 |          2020 |              2 | IL    | Lincoln | Mkz   | Black |       2017 |             999 | True          |\n",
    "| 1573809 |          2021 |             11 | IL    | Lincoln | Mkz   | Black |       2020 |             999 | True          |\n"
   ]
  },
  {
   "cell_type": "code",
   "execution_count": null,
   "metadata": {},
   "outputs": [],
   "source": [
    "# YOUR CODE BEGINS\n",
    "\n",
    "# YOUR CODE ENDS\n",
    "\n",
    "display(df_black_mkz)\n",
    "print(\n",
    "    f\"There are {df_black_mkz.shape[0]} black Mkzs that have made 999+ trips in a given month.\"\n",
    ")"
   ]
  },
  {
   "cell_type": "markdown",
   "metadata": {},
   "source": [
    "#### 🧭 Check Your Work\n",
    "\n",
    "Run the code cell below to test your solution.\n",
    "\n",
    "- ✔️ If the code cell runs without errors, you're good to move on.\n",
    "- ❌ If the code cell produces an error, review your code and fix any mistakes."
   ]
  },
  {
   "cell_type": "code",
   "execution_count": null,
   "metadata": {
    "deletable": false,
    "editable": false,
    "nbgrader": {
     "grade": true,
     "grade_id": "part-11",
     "locked": true,
     "points": "4",
     "solution": false
    }
   },
   "outputs": [],
   "source": [
    "# DO NOT CHANGE THE CODE IN THIS CELL\n",
    "_test_case = \"part-11\"\n",
    "_points = 4\n",
    "\n",
    "tc.assertEqual(df_v.shape, df_v_backup.shape, \"df_v should remain unaltered.\")\n",
    "\n",
    "pd.testing.assert_frame_equal(\n",
    "    df_v_backup.query(\n",
    "        f'{\"mOdEL\".upper()} == \"{\"mKz\".capitalize()}\" \\\n",
    "                                      & {\"cOlOr\".upper()} == \"{\"bLaCK\".capitalize()}\" \\\n",
    "                                      & {\"_\".join([\"nUMBEr\", \"OF\", \"TripS\"]).upper()} > (100 * 10 - 2)'\n",
    "    )\n",
    "    .sort_values(df_v_backup.columns.tolist())\n",
    "    .reset_index(drop=True),\n",
    "    df_black_mkz.sort_values(df_v_backup.columns.tolist()).reset_index(drop=True),\n",
    ")"
   ]
  },
  {
   "cell_type": "markdown",
   "metadata": {},
   "source": [
    "---\n",
    "\n",
    "### 🎯 Part 12: Latest Model Year Vehicles\n",
    "\n",
    "#### 👇 Tasks\n",
    "\n",
    "- ✔️ Using `df_v`, filter rows where the vehicle's `\"MODEL_YEAR\"` (NOT `REPORTED_YEAR`) is 2025 or newer (`>=2025`).\n",
    "- ✔️ Store the result in a new variable named `df_latest_models`.\n",
    "- ✔️ `df_v` should remain unaltered after your code.\n",
    "\n",
    "#### 🔑 Expected Output\n",
    "\n",
    "Your index column may contain different values.\n",
    "\n",
    "|         | REPORTED_YEAR | REPORTED_MONTH | STATE | MAKE   | MODEL | COLOR  | MODEL_YEAR | NUMBER_OF_TRIPS | MULTIPLE_TNPS |\n",
    "| ------: | ------------: | -------------: | :---- | :----- | :---- | :----- | ---------: | --------------: | :------------ |\n",
    "| 2248734 |          2024 |              5 | IL    | Toyota | Camry | Silver |       2025 |             238 | False         |\n",
    "| 2249850 |          2024 |              5 | IL    | Toyota | Camry | Silver |       2025 |             187 | False         |\n",
    "| 2252980 |          2024 |              5 | IL    | Toyota | Camry | White  |       2025 |             265 | False         |\n",
    "| 2260939 |          2024 |              5 | IL    | Toyota | Camry | Silver |       2025 |             127 | False         |\n",
    "| 2262341 |          2024 |              5 | IL    | Toyota | Camry | Silver |       2025 |             169 | False         |\n"
   ]
  },
  {
   "cell_type": "code",
   "execution_count": null,
   "metadata": {},
   "outputs": [],
   "source": [
    "# YOUR CODE BEGINS\n",
    "\n",
    "# YOUR CODE ENDS\n",
    "\n",
    "display(df_latest_models.head(5))\n",
    "print(f\"There are {df_latest_models.shape[0]} latest model registrations.\")"
   ]
  },
  {
   "cell_type": "markdown",
   "metadata": {},
   "source": [
    "#### 🧭 Check Your Work\n",
    "\n",
    "Run the code cell below to test your solution.\n",
    "\n",
    "- ✔️ If the code cell runs without errors, you're good to move on.\n",
    "- ❌ If the code cell produces an error, review your code and fix any mistakes."
   ]
  },
  {
   "cell_type": "code",
   "execution_count": null,
   "metadata": {
    "deletable": false,
    "editable": false,
    "nbgrader": {
     "grade": true,
     "grade_id": "part-12",
     "locked": true,
     "points": "3",
     "solution": false
    }
   },
   "outputs": [],
   "source": [
    "# DO NOT CHANGE THE CODE IN THIS CELL\n",
    "_test_case = \"part-12\"\n",
    "_points = 3\n",
    "\n",
    "tc.assertEqual(df_v.shape, df_v_backup.shape, \"df_v should remain unaltered.\")\n",
    "\n",
    "pd.testing.assert_frame_equal(\n",
    "    df_v_backup.query(f'{\"_\".join([\"MoDeL\", \"YeaR\"]).upper()} > (1010 * 2 + 4)')\n",
    "    .sort_values(df_v_backup.columns.tolist())\n",
    "    .reset_index(drop=True),\n",
    "    df_latest_models.sort_values(df_v_backup.columns.tolist()).reset_index(drop=True),\n",
    ")"
   ]
  },
  {
   "cell_type": "markdown",
   "metadata": {},
   "source": [
    "---\n",
    "\n",
    "### 🎯 Part 13: Compare Average Number of Trips by `MULTIPLE_TNPS`\n",
    "\n",
    "A driver can choose to drive for only one ridesharing service (e.g., only for Uber) or choose to drive for two or more services (e.g., for both Uber **and** Lyft).\n",
    "\n",
    "`MULTIPLE_TNPS` column indicates whether a driver is registered with multiple rideshare services. The `MULTIPLE_TNPS` value of a registered vehicle will be:\n",
    "\n",
    "- `False` if the driver is only registered for one service (e.g., only for Uber)\n",
    "- `True` if the driver is registered for two or more services (e.g., both Uber **and** Lyft)\n",
    "\n",
    "**Question**: Do drivers make more trips on average if they are registered with multiple rideshare services?\n",
    "\n",
    "Your goal is to answer that question using data. 📐\n",
    "\n",
    "#### 👇 Tasks\n",
    "\n",
    "- ✔️ Using `df_v`, calculate the following two metrics:\n",
    "  1. Average number of trips by vehicles where `MULTIPLE_TNPS` is `False`.\n",
    "     - ✏️ Store this in a new variable named `avg_num_trips_single_tnps`.\n",
    "     - `avg_num_trips_single_tnps` should be a `float`-typed variable.\n",
    "  2. Average number of trips by vehicles where `MULTIPLE_TNPS` is `True`.\n",
    "     - ✏️ Store this in a new variable named `avg_num_trips_multiple_tnps`.\n",
    "     - `avg_num_trips_multiple_tnps` should be a `float`-typed variable.\n",
    "- ✔️ `df_v` should remain unaltered after your code.\n",
    "\n",
    "#### 🚀 Hints\n",
    "\n",
    "- There are many ways to do this. The process described below is only one of them.\n",
    "- Create the following two `DataFrame`s using filter.\n",
    "  1. `df_single_tnps`: Only contains rows where `MULTIPLE_TNPS` is `False`.\n",
    "  2. `df_multiple_tnps`: Only contains rows where `MULTIPLE_TNPS` is `True`.\n",
    "- For each of the two `DataFrame`s you've created, calculate the average of `NUMBER_OF_TRIPS`.\n",
    "  - **Example**: `df_single_tnps['NUMBER_OF_TRIPS'].mean()`\n"
   ]
  },
  {
   "cell_type": "code",
   "execution_count": null,
   "metadata": {},
   "outputs": [],
   "source": [
    "# YOUR CODE BEGINS\n",
    "\n",
    "# YOUR CODE ENDS\n",
    "\n",
    "print(\n",
    "    f\"Drivers driving for a single rideshare service made {round(avg_num_trips_single_tnps, 1)} trips (monthly) on average.\"\n",
    ")\n",
    "print(\n",
    "    f\"Drivers driving for multiple rideshare services made {round(avg_num_trips_multiple_tnps, 1)} trips (monthly) on average.\"\n",
    ")"
   ]
  },
  {
   "cell_type": "markdown",
   "metadata": {},
   "source": [
    "#### 🧭 Check Your Work\n",
    "\n",
    "Run the code cell below to test your solution.\n",
    "\n",
    "- ✔️ If the code cell runs without errors, you're good to move on.\n",
    "- ❌ If the code cell produces an error, review your code and fix any mistakes."
   ]
  },
  {
   "cell_type": "code",
   "execution_count": null,
   "metadata": {
    "deletable": false,
    "editable": false,
    "nbgrader": {
     "grade": true,
     "grade_id": "part-13",
     "locked": true,
     "points": "6",
     "solution": false
    }
   },
   "outputs": [],
   "source": [
    "# DO NOT CHANGE THE CODE IN THIS CELL\n",
    "_test_case = \"part-13\"\n",
    "_points = 6\n",
    "\n",
    "tc.assertEqual(df_v.shape, df_v_backup.shape, \"df_v should remain unaltered.\")\n",
    "\n",
    "col_check = \"_\".join([\"MulTiPle\", \"\".join([\"T\", \"n\", \"P\", \"s\"])]).upper()\n",
    "col_metric = \"_\".join(\n",
    "    [\"\".join([\"NuM\", \"beR\"]), \"oF\", \"\".join([\"T\", \"r\", \"I\", \"P\", \"s\"])]\n",
    ").upper()\n",
    "\n",
    "tc.assertAlmostEqual(\n",
    "    avg_num_trips_single_tnps, np.mean(df_v.query(f\"~{col_check}\")[col_metric])\n",
    ")\n",
    "tc.assertAlmostEqual(\n",
    "    avg_num_trips_multiple_tnps, np.mean(df_v.query(f\"{col_check}\")[col_metric])\n",
    ")"
   ]
  },
  {
   "cell_type": "markdown",
   "metadata": {},
   "source": [
    "---\n",
    "\n",
    "## 🔮 Make/Model/Color Analysis\n",
    "\n",
    "So far, we've looked at _individual_ vehicle registrations. In this section, we will _aggregate_ vehicles by one or more criteria.\n"
   ]
  },
  {
   "cell_type": "markdown",
   "metadata": {},
   "source": [
    "---\n",
    "\n",
    "### 🎯 Part 14: Create a Summary of Metrics by Vehicle Manufacturer\n",
    "\n",
    "Our first _level of aggregation_ is the vehicle manufacturer (`\"MAKE\"`). For each vehicle manufacturer, you'll be calculating the total number of registered vehicles (`\"NUM_REG\"`, the total number of trips (`\"TOTAL_NUM_TRIPS\"`), and the average number of trips (`\"AVG_NUM_TRIPS\"`).\n",
    "\n",
    "#### 👇 Tasks\n",
    "\n",
    "- ✔️ Copy the code from the image above into the code cell below.\n",
    "  - 😺 _Try_ to understand what the code does.\n",
    "- ✔️ `df_v` should remain unaltered after your code.\n",
    "- ✔️ **We will provide you with the code for this deliverable.**\n",
    "\n",
    "![Groupby make](https://github.com/bdi475/images/blob/main/case-studies/rideshare-vehicles/carbon-groupby-make-01.png?raw=true)\n"
   ]
  },
  {
   "cell_type": "code",
   "execution_count": null,
   "metadata": {},
   "outputs": [],
   "source": [
    "# YOUR CODE BEGINS\n",
    "\n",
    "# YOUR CODE ENDS"
   ]
  },
  {
   "cell_type": "markdown",
   "metadata": {},
   "source": [
    "#### 🧭 Check Your Work\n",
    "\n",
    "Run the code cell below to test your solution.\n",
    "\n",
    "- ✔️ If the code cell runs without errors, you're good to move on.\n",
    "- ❌ If the code cell produces an error, review your code and fix any mistakes."
   ]
  },
  {
   "cell_type": "code",
   "execution_count": null,
   "metadata": {
    "deletable": false,
    "editable": false,
    "nbgrader": {
     "grade": true,
     "grade_id": "part-14",
     "locked": true,
     "points": "3",
     "solution": false
    }
   },
   "outputs": [],
   "source": [
    "# DO NOT CHANGE THE CODE IN THIS CELL\n",
    "_test_case = \"part-14\"\n",
    "_points = 3\n",
    "\n",
    "df_check = (\n",
    "    df_v_backup.groupby(\"\".join([\"m\", \"ak\", \"e\"]).upper())\n",
    "    .agg({\"number_of_trips\".upper(): [\"\".join([\"c\", \"ou\", \"n\", \"t\"]), \"sum\", \"mean\"]})\n",
    "    .reset_index()\n",
    ")\n",
    "df_check.columns = [\"AVG_NUM_TRIPS\", \"TOTAL_NUM_TRIPS\", \"NUM_REG\", \"MAKE\"][::-1]\n",
    "df_check = df_check.sort_values(df_check.columns.tolist()).reset_index(drop=True)\n",
    "df_by_make_backup = df_check.copy()\n",
    "\n",
    "tc.assertEqual(df_v.shape, df_v_backup.shape, \"df_v should remain unaltered.\")\n",
    "\n",
    "pd.testing.assert_frame_equal(\n",
    "    df_check, df_by_make.sort_values(df_by_make.columns.tolist()).reset_index(drop=True)\n",
    ")"
   ]
  },
  {
   "cell_type": "markdown",
   "metadata": {},
   "source": [
    "---\n",
    "\n",
    "### 🎯 Part 15: Sort by Number of Registered Vehicles\n",
    "\n",
    "Can you sort `df_by_make` by popularity (i.e., number of registrations)?\n",
    "\n",
    "#### 👇 Tasks\n",
    "\n",
    "- ✔️ Sort `df_by_make` by the `\"NUM_REG\"` column in **descending** order.\n",
    "- ✔️ Store the sorted result in a new variable named `df_by_make_popularity`.\n",
    "- ✔️ `df_by_make` should remain unaltered after your code (out-of-place sort).\n",
    "  - In other words, your code should store the sorted result in `df_by_make_popularity` **without affecting `df_by_make`**.\n",
    "\n",
    "#### 🔑 Expected Output\n",
    "\n",
    "Your index column may contain different values.\n",
    "\n",
    "|     | MAKE      | NUM_REG | TOTAL_NUM_TRIPS | AVG_NUM_TRIPS |\n",
    "| --: | :-------- | ------: | --------------: | ------------: |\n",
    "|  49 | Toyota    |  702188 |       188895048 |         269.0 |\n",
    "|  35 | Nissan    |  258408 |        60317213 |         233.4 |\n",
    "|  16 | Honda     |  214145 |        50758111 |         237.0 |\n",
    "|   8 | Chevrolet |  175259 |        37702454 |         215.1 |\n",
    "|  18 | Hyundai   |  163474 |        39390000 |         241.0 |\n"
   ]
  },
  {
   "cell_type": "code",
   "execution_count": null,
   "metadata": {},
   "outputs": [],
   "source": [
    "# YOUR CODE BEGINS\n",
    "\n",
    "# YOUR CODE ENDS\n",
    "\n",
    "df_by_make_popularity.head(5)"
   ]
  },
  {
   "cell_type": "markdown",
   "metadata": {},
   "source": [
    "#### 🧭 Check Your Work\n",
    "\n",
    "Run the code cell below to test your solution.\n",
    "\n",
    "- ✔️ If the code cell runs without errors, you're good to move on.\n",
    "- ❌ If the code cell produces an error, review your code and fix any mistakes."
   ]
  },
  {
   "cell_type": "code",
   "execution_count": null,
   "metadata": {
    "deletable": false,
    "editable": false,
    "nbgrader": {
     "grade": true,
     "grade_id": "part-15",
     "locked": true,
     "points": "3",
     "solution": false
    }
   },
   "outputs": [],
   "source": [
    "# DO NOT CHANGE THE CODE IN THIS CELL\n",
    "_test_case = \"part-15\"\n",
    "_points = 3\n",
    "\n",
    "df_check = df_by_make_backup.sort_values(\n",
    "    \"_\".join([\"num\", \"reg\"]).upper(), ascending=bool(0), inplace=bool(0)\n",
    ")\n",
    "\n",
    "pd.testing.assert_frame_equal(\n",
    "    df_by_make_backup.sort_values(df_by_make_backup.columns.tolist()).reset_index(\n",
    "        drop=True\n",
    "    ),\n",
    "    df_by_make.sort_values(df_by_make.columns.tolist()).reset_index(drop=True),\n",
    "    \"df_by_make should remain unaltered.\",\n",
    ")\n",
    "\n",
    "pd.testing.assert_series_equal(\n",
    "    df_check[\"NUM_REG\"].reset_index(drop=True),\n",
    "    df_by_make_popularity[\"NUM_REG\"].reset_index(drop=True),\n",
    ")"
   ]
  },
  {
   "cell_type": "markdown",
   "metadata": {},
   "source": [
    "---\n",
    "\n",
    "### 🎯 Part 16: Sort by Average Number of Trips (Monthly)\n",
    "\n",
    "#### 👇 Tasks\n",
    "\n",
    "- ✔️ Sort `df_by_make` from 🎯 Part 14 (**NOT** `df_by_make_popularity`) by the `\"AVG_NUM_TRIPS\"` column in **descending** order.\n",
    "- ✔️ Store the sorted result in a new variable named `df_by_make_trips`.\n",
    "- ✔️ Drop the `\"NUM_REG\"` and `\"TOTAL_NUM_TRIPS\"` columns from `df_by_make_trips`.\n",
    "  - After your code runs, `df_by_make_trips` should only have two columns - `\"MAKE\"` and `\"AVG_NUM_TRIPS\"`.\n",
    "- ✔️ `df_by_make` should remain unaltered after your code.\n",
    "  - In other words, your code should (1) store the sorted result in `df_by_make_trips` and (2) drop `\"NUM_REG\"` and `\"TOTAL_NUM_TRIPS\"` columns **without affecting `df_by_make`**.\n",
    "- ⚠️ **Warning**: Running your code more than once may throw an error because you cannot drop a column that has already been dropped. Despite the error message, this is not a huge problem as it won't have any effect on your `DataFrame`. The error message will go away if you go back a few steps and restart with a _fresh_ `df_by_make`.\n",
    "\n",
    "#### 🔑 Expected Output\n",
    "\n",
    "Your index column may contain different values.\n",
    "\n",
    "|     | MAKE     | AVG_NUM_TRIPS |\n",
    "| --: | :------- | ------------: |\n",
    "|   6 | Byd      |         288.1 |\n",
    "|  37 | Polestar |         287.5 |\n",
    "|  48 | Tesla    |         287.5 |\n",
    "|  28 | Mercedes |         269.5 |\n",
    "|  49 | Toyota   |         269.0 |\n"
   ]
  },
  {
   "cell_type": "code",
   "execution_count": null,
   "metadata": {},
   "outputs": [],
   "source": [
    "# YOUR CODE BEGINS\n",
    "\n",
    "# YOUR CODE ENDS\n",
    "\n",
    "df_by_make_trips.head(5)"
   ]
  },
  {
   "cell_type": "markdown",
   "metadata": {},
   "source": [
    "#### 🧭 Check Your Work\n",
    "\n",
    "Run the code cell below to test your solution.\n",
    "\n",
    "- ✔️ If the code cell runs without errors, you're good to move on.\n",
    "- ❌ If the code cell produces an error, review your code and fix any mistakes."
   ]
  },
  {
   "cell_type": "code",
   "execution_count": null,
   "metadata": {
    "deletable": false,
    "editable": false,
    "nbgrader": {
     "grade": true,
     "grade_id": "part-16",
     "locked": true,
     "points": "5",
     "solution": false
    }
   },
   "outputs": [],
   "source": [
    "# DO NOT CHANGE THE CODE IN THIS CELL\n",
    "_test_case = \"part-16\"\n",
    "_points = 5\n",
    "\n",
    "df_check = df_by_make_backup.sort_values(\n",
    "    \"_\".join([\"avg\", \"num\", \"trips\"]).upper(), ascending=bool(0), inplace=bool(0)\n",
    ").drop(columns=[\"NUM_REG\", \"TOTAL_NUM_TRIPS\"])\n",
    "\n",
    "pd.testing.assert_frame_equal(\n",
    "    df_check.reset_index(drop=True), df_by_make_trips.reset_index(drop=True)\n",
    ")"
   ]
  },
  {
   "cell_type": "markdown",
   "metadata": {},
   "source": [
    "---\n",
    "\n",
    "### 🎯 Part 17: Average Number of Trips of Japanese Big 3\n",
    "\n",
    "#### 👇 Tasks\n",
    "\n",
    "- ✔️ Using `df_by_make_trips`, retrieve the following three values.\n",
    "  1. `avg_num_trips_toyota`: Average number of trips (monthly) of Toyota vehicles\n",
    "  2. `avg_num_trips_nissan`: Average number of trips (monthly) of Nissan vehicles\n",
    "  3. `avg_num_trips_honda`: Average number of trips (monthly) of Honda vehicles\n",
    "- ✔️ All 3 variables must be `float`-typed.\n",
    "- ✔️ `df_by_make_trips` should remain unaltered after your code.\n",
    "- ⚠️ You must perform this task **programmatically**. You cannot manually enter the numbers (e.g., `avg_num_trips_toyota = 269.0` is NOT a correct answer).\n",
    "\n",
    "#### 🚀 Hints\n",
    "\n",
    "To retrieve the value of `major1` column of `Dylan` from `df_you`, you can use the following code:\n",
    "\n",
    "```python\n",
    "df_you[df_you['name'] == 'Dylan']['major1'].iloc[0]\n",
    "```\n",
    "\n",
    "**The code above will...**\n",
    "\n",
    "1. Filter row(s) where `name` is `\"Dylan\"`.\n",
    "2. Retrieve the `major1` column as a Pandas `Series`.\n",
    "3. Get the value of the first row in the `Series` (`iloc[0]` returns the value of the first row).\n"
   ]
  },
  {
   "cell_type": "code",
   "execution_count": null,
   "metadata": {},
   "outputs": [],
   "source": [
    "# YOUR CODE BEGINS\n",
    "\n",
    "# YOUR CODE ENDS\n",
    "\n",
    "print(\n",
    "    f\"Toyota vehicles have an average number of {round(avg_num_trips_toyota, 1)} trips (monthly).\"\n",
    ")\n",
    "print(\n",
    "    f\"Nissan vehicles have an average number of {round(avg_num_trips_nissan, 1)} trips (monthly).\"\n",
    ")\n",
    "print(\n",
    "    f\"Honda vehicles have an average number of {round(avg_num_trips_honda, 1)} trips (monthly).\"\n",
    ")"
   ]
  },
  {
   "cell_type": "markdown",
   "metadata": {},
   "source": [
    "#### 🧭 Check Your Work\n",
    "\n",
    "Run the code cell below to test your solution.\n",
    "\n",
    "- ✔️ If the code cell runs without errors, you're good to move on.\n",
    "- ❌ If the code cell produces an error, review your code and fix any mistakes."
   ]
  },
  {
   "cell_type": "code",
   "execution_count": null,
   "metadata": {
    "deletable": false,
    "editable": false,
    "nbgrader": {
     "grade": true,
     "grade_id": "part-17",
     "locked": true,
     "points": "6",
     "solution": false
    }
   },
   "outputs": [],
   "source": [
    "# DO NOT CHANGE THE CODE IN THIS CELL\n",
    "_test_case = \"part-17\"\n",
    "_points = 6\n",
    "\n",
    "df_check = (\n",
    "    df_v_backup.groupby(\"MAKE\")\n",
    "    .agg(\n",
    "        {\n",
    "            \"number_of_trips\".upper(): [\n",
    "                \"\".join([\"c\", \"ou\", \"n\", \"t\"]),\n",
    "                \"sum\",\n",
    "                \"MEAN\".lower(),\n",
    "            ]\n",
    "        }\n",
    "    )\n",
    "    .reset_index()\n",
    ")\n",
    "df_check.columns = [\"AVG_NUM_TRIPS\", \"TOTAL_NUM_TRIPS\", \"NUM_REG\", \"MAKE\"][::-1]\n",
    "\n",
    "col_check = \"_\".join([\"avg\", \"num\", \"trips\"]).upper()\n",
    "make_check = list(map(lambda x: x.capitalize(), [\"toYOta\", \"niSSan\", \"hONDa\"]))\n",
    "var_check = [avg_num_trips_toyota, avg_num_trips_nissan, avg_num_trips_honda]\n",
    "\n",
    "for i in range(len(var_check)):\n",
    "    tc.assertAlmostEqual(\n",
    "        var_check[i], df_check.query(f'MAKE == \"{make_check[i]}\"')[col_check].iloc[0]\n",
    "    )"
   ]
  },
  {
   "cell_type": "markdown",
   "metadata": {},
   "source": [
    "---\n",
    "\n",
    "### 🎯 Part 18: Create a Summary of Metrics by Vehicle Model\n",
    "\n",
    "Our second _level of aggregation_ is the vehicle manufacturer (`\"MAKE\"`) **and** model (`\"MODEL\"`). For each vehicle model, you'll be calculating the total number of registered vehicles (`\"NUM_REG\"`, the total number of trips (`\"TOTAL_NUM_TRIPS\"`), and the average number of trips (`\"AVG_NUM_TRIPS\"`).\n",
    "\n",
    "**Again, we will provide you with the code for this deliverable.**\n",
    "\n",
    "![Groupby make](https://github.com/bdi475/images/blob/main/case-studies/rideshare-vehicles/carbon-groupby-make-and-model-01.png?raw=true)\n"
   ]
  },
  {
   "cell_type": "markdown",
   "metadata": {},
   "source": [
    "#### 👇 Tasks\n",
    "\n",
    "- ✔️ Copy the code from the image above into the code cell below.\n",
    "  - 😺 _Try_ to understand what the code does.\n",
    "- ✔️ `df_v` should remain unaltered after your code.\n"
   ]
  },
  {
   "cell_type": "code",
   "execution_count": null,
   "metadata": {},
   "outputs": [],
   "source": [
    "# YOUR CODE BEGINS\n",
    "\n",
    "# YOUR CODE ENDS"
   ]
  },
  {
   "cell_type": "markdown",
   "metadata": {},
   "source": [
    "#### 🧭 Check Your Work\n",
    "\n",
    "Run the code cell below to test your solution.\n",
    "\n",
    "- ✔️ If the code cell runs without errors, you're good to move on.\n",
    "- ❌ If the code cell produces an error, review your code and fix any mistakes."
   ]
  },
  {
   "cell_type": "code",
   "execution_count": null,
   "metadata": {
    "deletable": false,
    "editable": false,
    "nbgrader": {
     "grade": true,
     "grade_id": "part-18",
     "locked": true,
     "points": "3",
     "solution": false
    }
   },
   "outputs": [],
   "source": [
    "# DO NOT CHANGE THE CODE IN THIS CELL\n",
    "_test_case = \"part-18\"\n",
    "_points = 3\n",
    "\n",
    "df_check = (\n",
    "    df_v_backup.groupby([\"MODEL\", \"MAKE\"][::-1])\n",
    "    .agg(\n",
    "        {\n",
    "            \"number_of_trips\".upper(): [\n",
    "                \"\".join([\"c\", \"ou\", \"n\", \"t\"]),\n",
    "                \"SuM\".lower(),\n",
    "                \"MeaN\".lower(),\n",
    "            ]\n",
    "        }\n",
    "    )\n",
    "    .reset_index()\n",
    ")\n",
    "df_check.columns = [\"AVG_NUM_TRIPS\", \"TOTAL_NUM_TRIPS\", \"NUM_REG\", \"MODEL\", \"MAKE\"][\n",
    "    ::-1\n",
    "]\n",
    "\n",
    "tc.assertEqual(df_v.shape, df_v_backup.shape, \"df_v should remain unaltered.\")\n",
    "\n",
    "pd.testing.assert_frame_equal(\n",
    "    df_check.sort_values(df_check.columns.tolist()).reset_index(drop=True),\n",
    "    df_by_model.sort_values(df_by_model.columns.tolist()).reset_index(drop=True),\n",
    ")"
   ]
  },
  {
   "cell_type": "markdown",
   "metadata": {},
   "source": [
    "---\n",
    "\n",
    "### 🎯 Part 19: Rename Columns\n",
    "\n",
    "#### 👇 Tasks\n",
    "\n",
    "- ✔️ Rename the following columns in `df_by_model`:\n",
    "  1. `\"MAKE\"` to `\"manufacturer\"`\n",
    "  2. `\"MODEL\"` to `\"model\"`\n",
    "  3. `\"NUM_REG\"` to `\"registrations\"`\n",
    "  4. `\"AVG_NUM_TRIPS\"` to `\"avg_trips\"`\n",
    "- ⚠️ Don't worry about the `\"TOTAL_NUM_TRIPS\"` column. You'll drop this column soon.\n",
    "\n",
    "#### 🚀 Hints\n",
    "\n",
    "To rename a column named `\"col1\"` to `\"col1_renamed\"` and `\"col2\"` to `\"col2_renamed\"` in `my_dataframe`, use the following code.\n",
    "\n",
    "![rename inplace](https://github.com/bdi475/images/blob/main/case-studies/rideshare-vehicles/carbon-rename-columns-inplace-02.png?raw=true)\n",
    "\n",
    "#### 🔑 Expected Output\n",
    "\n",
    "Your index column may contain different values.\n",
    "\n",
    "|     | MAKE  | MODEL      | NUM_REG | TOTAL_NUM_TRIPS | AVG_NUM_TRIPS |\n",
    "| --: | :---- | :--------- | ------: | --------------: | ------------: |\n",
    "|   0 | Acura | Ilx        |    1593 |          339824 |         213.3 |\n",
    "|   1 | Acura | Integra    |      72 |           14113 |         196.0 |\n",
    "|   2 | Acura | Mdx        |   17316 |         4076282 |         235.4 |\n",
    "|   3 | Acura | Mdx Hybrid |     134 |           32447 |         242.1 |\n",
    "|   4 | Acura | Rdx        |    2975 |          672284 |         226.0 |\n"
   ]
  },
  {
   "cell_type": "code",
   "execution_count": null,
   "metadata": {},
   "outputs": [],
   "source": [
    "# YOUR CODE BEGINS\n",
    "\n",
    "# YOUR CODE ENDS\n",
    "\n",
    "df_by_model.head(5)"
   ]
  },
  {
   "cell_type": "markdown",
   "metadata": {},
   "source": [
    "#### 🧭 Check Your Work\n",
    "\n",
    "Run the code cell below to test your solution.\n",
    "\n",
    "- ✔️ If the code cell runs without errors, you're good to move on.\n",
    "- ❌ If the code cell produces an error, review your code and fix any mistakes."
   ]
  },
  {
   "cell_type": "code",
   "execution_count": null,
   "metadata": {
    "deletable": false,
    "editable": false,
    "nbgrader": {
     "grade": true,
     "grade_id": "part-19",
     "locked": true,
     "points": "3",
     "solution": false
    }
   },
   "outputs": [],
   "source": [
    "# DO NOT CHANGE THE CODE IN THIS CELL\n",
    "_test_case = \"part-19\"\n",
    "_points = 3\n",
    "\n",
    "df_check = (\n",
    "    df_v_backup.groupby([\"MODEL\", \"MAKE\"][::-1])\n",
    "    .agg(\n",
    "        {\n",
    "            \"number_of_trips\".upper(): [\n",
    "                \"\".join([\"c\", \"ou\", \"n\", \"t\"]),\n",
    "                \"sum\",\n",
    "                \"meaN\".lower(),\n",
    "            ]\n",
    "        }\n",
    "    )\n",
    "    .reset_index()\n",
    ")\n",
    "df_check.columns = [\n",
    "    \"avg_trips\",\n",
    "    \"TOTAL_NUM_TRIPS\",\n",
    "    \"registrations\",\n",
    "    \"model\",\n",
    "    \"manufacturer\",\n",
    "][::-1]\n",
    "\n",
    "pd.testing.assert_frame_equal(\n",
    "    df_check.sort_values(df_check.columns.tolist()).reset_index(drop=True),\n",
    "    df_by_model.sort_values(df_by_model.columns.tolist()).reset_index(drop=True),\n",
    ")"
   ]
  },
  {
   "cell_type": "markdown",
   "metadata": {},
   "source": [
    "---\n",
    "\n",
    "### 🎯 Part 20: Drop `TOTAL_NUM_TRIPS` Column\n",
    "\n",
    "#### 👇 Tasks\n",
    "\n",
    "- ✔️ Drop the `\"TOTAL_NUM_TRIPS\"` column from `df_by_model`.\n",
    "- ⚠️ **Warning**: Running your code more than once may throw an error because you cannot drop a column that has already been dropped. Despite the error message, this is not a huge problem as it won't have any effect on your `DataFrame`. The error message will go away if you go back a few steps and restart with a _fresh_ `df_by_model`.\n",
    "\n",
    "#### 🔑 Expected Output\n",
    "\n",
    "Your index column may contain different values.\n",
    "\n",
    "|     | manufacturer | model      | registrations | avg_trips |\n",
    "| --: | :----------- | :--------- | ------------: | --------: |\n",
    "|   0 | Acura        | Ilx        |          1593 |     213.3 |\n",
    "|   1 | Acura        | Integra    |            72 |     196.0 |\n",
    "|   2 | Acura        | Mdx        |         17316 |     235.4 |\n",
    "|   3 | Acura        | Mdx Hybrid |           134 |     242.1 |\n",
    "|   4 | Acura        | Rdx        |          2975 |     226.0 |\n"
   ]
  },
  {
   "cell_type": "code",
   "execution_count": null,
   "metadata": {},
   "outputs": [],
   "source": [
    "# YOUR CODE BEGINS\n",
    "\n",
    "# YOUR CODE ENDS\n",
    "\n",
    "df_by_model.head(5)"
   ]
  },
  {
   "cell_type": "markdown",
   "metadata": {},
   "source": [
    "#### 🧭 Check Your Work\n",
    "\n",
    "Run the code cell below to test your solution.\n",
    "\n",
    "- ✔️ If the code cell runs without errors, you're good to move on.\n",
    "- ❌ If the code cell produces an error, review your code and fix any mistakes."
   ]
  },
  {
   "cell_type": "code",
   "execution_count": null,
   "metadata": {
    "deletable": false,
    "editable": false,
    "nbgrader": {
     "grade": true,
     "grade_id": "part-20",
     "locked": true,
     "points": "2",
     "solution": false
    }
   },
   "outputs": [],
   "source": [
    "# DO NOT CHANGE THE CODE IN THIS CELL\n",
    "_test_case = \"part-20\"\n",
    "_points = 2\n",
    "\n",
    "df_check = (\n",
    "    df_v_backup.groupby([\"MODEL\", \"MAKE\"][::-1])\n",
    "    .agg(\n",
    "        {\n",
    "            \"number_of_trips\".upper(): [\n",
    "                \"\".join([\"c\", \"ou\", \"n\", \"t\"]),\n",
    "                \"\".join([\"me\", \"an\"]),\n",
    "            ]\n",
    "        }\n",
    "    )\n",
    "    .reset_index()\n",
    ")\n",
    "df_check.columns = list(\n",
    "    map(\n",
    "        lambda x: x.lower(),\n",
    "        [\"AVg_TriPS\", \"ReGisTraTiONS\", \"MoDeL\", \"ManUfacTurer\"][::-1],\n",
    "    )\n",
    ")\n",
    "\n",
    "pd.testing.assert_frame_equal(\n",
    "    df_check.sort_values(df_check.columns.tolist()).reset_index(drop=True),\n",
    "    df_by_model.sort_values(df_by_model.columns.tolist()).reset_index(drop=True),\n",
    ")"
   ]
  },
  {
   "cell_type": "markdown",
   "metadata": {},
   "source": [
    "---\n",
    "\n",
    "### 🎯 Part 21: Sort by Number of Registered Vehicles\n",
    "\n",
    "Can you sort `df_by_model` by popularity?\n",
    "\n",
    "#### 👇 Tasks\n",
    "\n",
    "- ✔️ Sort `df_by_model` by the `\"registrations\"` column in **descending** order.\n",
    "- ✔️ Update `df_by_model` without creating a new variable.\n",
    "  - In other words, you're performing an **in-place** sort.\n",
    "\n",
    "#### 🔑 Expected Output\n",
    "\n",
    "Your index column may contain different values.\n",
    "\n",
    "|     | manufacturer | model   | registrations | avg_trips |\n",
    "| --: | :----------- | :------ | ------------: | --------: |\n",
    "| 664 | Toyota       | Camry   |        206733 |     266.5 |\n",
    "| 686 | Toyota       | Prius   |        116086 |     286.5 |\n",
    "| 669 | Toyota       | Corolla |        113473 |     259.3 |\n",
    "| 565 | Nissan       | Altima  |         82660 |     237.1 |\n",
    "| 580 | Nissan       | Sentra  |         74164 |     241.4 |\n"
   ]
  },
  {
   "cell_type": "code",
   "execution_count": null,
   "metadata": {},
   "outputs": [],
   "source": [
    "# YOUR CODE BEGINS\n",
    "\n",
    "# YOUR CODE ENDS\n",
    "\n",
    "df_by_model.head(5)"
   ]
  },
  {
   "cell_type": "markdown",
   "metadata": {},
   "source": [
    "#### 🧭 Check Your Work\n",
    "\n",
    "Run the code cell below to test your solution.\n",
    "\n",
    "- ✔️ If the code cell runs without errors, you're good to move on.\n",
    "- ❌ If the code cell produces an error, review your code and fix any mistakes."
   ]
  },
  {
   "cell_type": "code",
   "execution_count": null,
   "metadata": {
    "deletable": false,
    "editable": false,
    "nbgrader": {
     "grade": true,
     "grade_id": "part-21",
     "locked": true,
     "points": "2",
     "solution": false
    }
   },
   "outputs": [],
   "source": [
    "# DO NOT CHANGE THE CODE IN THIS CELL\n",
    "_test_case = \"part-21\"\n",
    "_points = 2\n",
    "\n",
    "df_check = (\n",
    "    df_v_backup.groupby([\"MODEL\", \"MAKE\"][::-1])\n",
    "    .agg({\"number_of_trips\".upper(): [\"\".join([\"c\", \"o\", \"u\", \"n\", \"t\"]), \"mean\"]})\n",
    "    .sort_values((\"NUMBER_OF_TRIPS\", \"count\"), ascending=False)\n",
    "    .reset_index()\n",
    ")\n",
    "df_check.columns = list(\n",
    "    map(\n",
    "        lambda x: x.lower(),\n",
    "        [\"AVg_TriPS\", \"ReGisTraTiONS\", \"MoDeL\", \"ManUfacTurer\"][::-1],\n",
    "    )\n",
    ")\n",
    "\n",
    "pd.testing.assert_series_equal(\n",
    "    df_check[\"registrations\"].reset_index(drop=True),\n",
    "    df_by_model[\"registrations\"].reset_index(drop=True),\n",
    ")\n",
    "pd.testing.assert_frame_equal(\n",
    "    df_check.sort_values(\n",
    "        [\"registrations\", \"manufacturer\", \"model\"], ascending=[False, True, True]\n",
    "    ).reset_index(drop=True),\n",
    "    df_by_model.sort_values(\n",
    "        [\"registrations\", \"manufacturer\", \"model\"], ascending=[False, True, True]\n",
    "    ).reset_index(drop=True),\n",
    ")"
   ]
  },
  {
   "cell_type": "markdown",
   "metadata": {},
   "source": [
    "---\n",
    "\n",
    "### 🎯 Part 22: Number of Lincoln LS Registrations\n",
    "\n",
    "#### 👇 Tasks\n",
    "\n",
    "- ✔️ Using `df_by_model`, retrieve the number of Lincoln LS registrations.\n",
    "  - `manufacturer == \"Lincoln\"`\n",
    "  - `model == \"Ls\"` (case-sensitive)\n",
    "- ✔️ Store the result in a new variable named `num_lincoln_ls_registrations`.\n",
    "- ✔️ `num_lincoln_ls_registrations` should be an `int` type.\n",
    "- ✔️ `df_by_model` should remain unaltered after your code.\n",
    "- ⚠️ Filtering by the `model` column only (`model == 'Ls'`) may yield incorrect results as Lexus also has a model with the same name (Lexus LS). Use both `manufacturer` and `model` columns to find the matching row.\n",
    "\n",
    "#### 🚀 Hints\n",
    "\n",
    "To retrieve the `\"fav_restaurant\"` column value of a person where `name == 'Josh'` **and** `city == 'Chicago'`, use the code below.\n",
    "\n",
    "```python\n",
    "df_you[(df_you['name'] == 'Josh') & (df_you['city'] == 'Chicago')]['fav_restaurant'].iloc[0]\n",
    "```\n",
    "\n",
    "**The code above will...**\n",
    "\n",
    "1. Filter row(s) where `name` is `\"Josh\"` **and** `city` is `\"Chicago\"`.\n",
    "2. Retrieve the `fav_restaurant` column as a Pandas `Series`.\n",
    "3. Get the value of the first element from the `Series` (`iloc[0]` returns the value of the element at index position 0, which is the first element).\n"
   ]
  },
  {
   "cell_type": "code",
   "execution_count": null,
   "metadata": {},
   "outputs": [],
   "source": [
    "# YOUR CODE BEGINS\n",
    "\n",
    "# YOUR CODE ENDS\n",
    "\n",
    "print(f\"There are {num_lincoln_ls_registrations} Lincoln Ls registrations.\")"
   ]
  },
  {
   "cell_type": "markdown",
   "metadata": {},
   "source": [
    "#### 🧭 Check Your Work\n",
    "\n",
    "Run the code cell below to test your solution.\n",
    "\n",
    "- ✔️ If the code cell runs without errors, you're good to move on.\n",
    "- ❌ If the code cell produces an error, review your code and fix any mistakes."
   ]
  },
  {
   "cell_type": "code",
   "execution_count": null,
   "metadata": {
    "deletable": false,
    "editable": false,
    "nbgrader": {
     "grade": true,
     "grade_id": "part-22",
     "locked": true,
     "points": "2",
     "solution": false
    }
   },
   "outputs": [],
   "source": [
    "# DO NOT CHANGE THE CODE IN THIS CELL\n",
    "_test_case = \"part-22\"\n",
    "_points = 2\n",
    "\n",
    "df_check = (\n",
    "    df_v_backup.groupby([\"MODEL\", \"MAKE\"][::-1])\n",
    "    .agg({\"number_of_trips\".upper(): \"\".join([\"c\", \"o\", \"u\", \"n\", \"t\"])})\n",
    "    .reset_index()\n",
    ")\n",
    "\n",
    "tc.assertEqual(\n",
    "    num_lincoln_ls_registrations,\n",
    "    df_check.query(\n",
    "        f'MAKE == \"{\"lInCoLn\".capitalize()}\" & MODEL == \"{\"lS\".capitalize()}\"'\n",
    "    )[\"_\".join([\"nUmBer\", \"oF\", \"tRiPs\"]).upper()].iloc[0],\n",
    ")"
   ]
  },
  {
   "cell_type": "markdown",
   "metadata": {},
   "source": [
    "---\n",
    "\n",
    "### 🎯 Part 23: Number of Ford 500 Registrations\n",
    "\n",
    "This part is very similar to the previous one.\n",
    "\n",
    "#### 👇 Tasks\n",
    "\n",
    "- ✔️ Using `df_by_model`, retrieve the number of Ford 500 registrations.\n",
    "  - `manufacturer == 'Ford'`\n",
    "  - `model == '500'` (⚠️ string `'500'`, not number `500`)\n",
    "- ✔️ Store the result in a new variable named `num_ford_500_registrations`.\n",
    "- ✔️ `num_ford_500_registrations` should be an `int` type.\n",
    "- ✔️ `df_by_model` should remain unaltered after your code.\n",
    "- ⚠️ Filtering by the `model` column only (`model == '500'`) may yield incorrect results as Fiat also has a model with the same name (Fiat 500). Use both `manufacturer` and `model` columns to find the matching row.\n"
   ]
  },
  {
   "cell_type": "code",
   "execution_count": null,
   "metadata": {},
   "outputs": [],
   "source": [
    "# YOUR CODE BEGINS\n",
    "\n",
    "# YOUR CODE ENDS\n",
    "\n",
    "print(f\"There are {num_ford_500_registrations} Ford 500 registrations.\")"
   ]
  },
  {
   "cell_type": "markdown",
   "metadata": {},
   "source": [
    "#### 🧭 Check Your Work\n",
    "\n",
    "Run the code cell below to test your solution.\n",
    "\n",
    "- ✔️ If the code cell runs without errors, you're good to move on.\n",
    "- ❌ If the code cell produces an error, review your code and fix any mistakes."
   ]
  },
  {
   "cell_type": "code",
   "execution_count": null,
   "metadata": {
    "deletable": false,
    "editable": false,
    "nbgrader": {
     "grade": true,
     "grade_id": "part-23",
     "locked": true,
     "points": "2",
     "solution": false
    }
   },
   "outputs": [],
   "source": [
    "# DO NOT CHANGE THE CODE IN THIS CELL\n",
    "_test_case = \"part-23\"\n",
    "_points = 2\n",
    "\n",
    "df_check = (\n",
    "    df_v_backup.groupby([\"MODEL\", \"MAKE\"][::-1])\n",
    "    .agg({\"number_of_trips\".upper(): \"\".join([\"c\", \"o\", \"u\", \"n\", \"t\"])})\n",
    "    .reset_index()\n",
    ")\n",
    "\n",
    "tc.assertEqual(\n",
    "    num_ford_500_registrations,\n",
    "    df_check.query(f'MAKE == \"{\"fOrD\".capitalize()}\" & MODEL == \"{5 * 5 * 4 * 5}\"')[\n",
    "        \"_\".join([\"nUmBer\", \"oF\", \"tRiPs\"]).upper()\n",
    "    ].iloc[0],\n",
    ")"
   ]
  },
  {
   "cell_type": "markdown",
   "metadata": {},
   "source": [
    "---\n",
    "\n",
    "### 🎯 Part 24: Create a Summary of Metrics by Vehicle Model and Color\n",
    "\n",
    "Our final _level of aggregation_ is the vehicle manufacturer (`\"MAKE\"`), model (`\"MODEL\"`), and color (`\"COLOR\"`).\n",
    "\n",
    "#### 👇 Tasks\n",
    "\n",
    "- ✔️ Copy the code from the image above into the code cell below.\n",
    "  - 😺 _Try_ to understand what the code does.\n",
    "- ✔️ `df_v` should remain unaltered after your code.\n",
    "- ✔️ **Again, we will provide you with the code for this deliverable.**\n",
    "\n",
    "![Groupby make](https://github.com/bdi475/images/blob/main/case-studies/rideshare-vehicles/carbon-groupby-make-model-color-01.png?raw=true)\n",
    "\n",
    "#### 🔑 Expected Output\n",
    "\n",
    "Your index column may contain different values.\n",
    "\n",
    "Note that the `COLOR` column has not been cleaned and contains double quotes in some cells.\n",
    "\n",
    "|     | MAKE  | MODEL | COLOR    | REPORTED_MONTH |\n",
    "| --: | :---- | :---- | :------- | -------------: |\n",
    "|   0 | Acura | Ilx   | \"        |              1 |\n",
    "|   1 | Acura | Ilx   | \"Grey\"   |              1 |\n",
    "|   2 | Acura | Ilx   | Black    |            749 |\n",
    "|   3 | Acura | Ilx   | Blue     |             86 |\n",
    "|   4 | Acura | Ilx   | Brown    |             14 |\n",
    "|   5 | Acura | Ilx   | Burgundy |             12 |\n"
   ]
  },
  {
   "cell_type": "code",
   "execution_count": null,
   "metadata": {},
   "outputs": [],
   "source": [
    "# YOUR CODE BEGINS\n",
    "\n",
    "# YOUR CODE ENDS"
   ]
  },
  {
   "cell_type": "markdown",
   "metadata": {},
   "source": [
    "#### 🧭 Check Your Work\n",
    "\n",
    "Run the code cell below to test your solution.\n",
    "\n",
    "- ✔️ If the code cell runs without errors, you're good to move on.\n",
    "- ❌ If the code cell produces an error, review your code and fix any mistakes."
   ]
  },
  {
   "cell_type": "code",
   "execution_count": null,
   "metadata": {
    "deletable": false,
    "editable": false,
    "nbgrader": {
     "grade": true,
     "grade_id": "part-24",
     "locked": true,
     "points": "2",
     "solution": false
    }
   },
   "outputs": [],
   "source": [
    "# DO NOT CHANGE THE CODE IN THIS CELL\n",
    "_test_case = \"part-24\"\n",
    "_points = 2\n",
    "\n",
    "df_check = (\n",
    "    df_v_backup.groupby([\"COLOR\", \"MODEL\", \"MAKE\"][::-1])\n",
    "    .agg({\"nUMbEr_of_trIPs\".upper(): \"\".join([\"c\", \"ou\", \"n\", \"t\"])})\n",
    "    .reset_index()\n",
    ")\n",
    "df_check.columns = [\"REPORTED_MONTH\", \"COLOR\", \"MODEL\", \"MAKE\"][::-1]\n",
    "\n",
    "tc.assertEqual(df_v.shape, df_v_backup.shape, \"df_v should remain unaltered.\")\n",
    "\n",
    "pd.testing.assert_frame_equal(\n",
    "    df_check.sort_values(df_check.columns.tolist()).reset_index(drop=True),\n",
    "    df_by_color.sort_values(df_by_color.columns.tolist()).reset_index(drop=True),\n",
    ")"
   ]
  },
  {
   "cell_type": "markdown",
   "metadata": {},
   "source": [
    "---\n",
    "\n",
    "### 🎯 Part 25: Rename Columns\n",
    "\n",
    "#### 👇 Tasks\n",
    "\n",
    "- ✔️ Rename the following columns in `df_by_color` **in place**:\n",
    "  1. `\"MAKE\"` to `\"manufacturer\"`\n",
    "  2. `\"MODEL\"` to `\"model\"`\n",
    "  3. `\"COLOR\"` to `\"color\"`\n",
    "  4. `\"REPORTED_MONTH\"` to `\"registrations\"`\n",
    "\n",
    "#### 🔑 Expected Output\n",
    "\n",
    "Your index column may contain different values.\n",
    "\n",
    "|     | manufacturer | model | color  | registrations |\n",
    "| --: | :----------- | :---- | :----- | ------------: |\n",
    "|   0 | Acura        | Ilx   | \"      |             1 |\n",
    "|   1 | Acura        | Ilx   | \"Grey\" |             1 |\n",
    "|   2 | Acura        | Ilx   | Black  |           749 |\n"
   ]
  },
  {
   "cell_type": "code",
   "execution_count": null,
   "metadata": {},
   "outputs": [],
   "source": [
    "# YOUR CODE BEGINS\n",
    "\n",
    "# YOUR CODE ENDS\n",
    "\n",
    "df_by_color.head(3)"
   ]
  },
  {
   "cell_type": "markdown",
   "metadata": {},
   "source": [
    "#### 🧭 Check Your Work\n",
    "\n",
    "Run the code cell below to test your solution.\n",
    "\n",
    "- ✔️ If the code cell runs without errors, you're good to move on.\n",
    "- ❌ If the code cell produces an error, review your code and fix any mistakes."
   ]
  },
  {
   "cell_type": "code",
   "execution_count": null,
   "metadata": {
    "deletable": false,
    "editable": false,
    "nbgrader": {
     "grade": true,
     "grade_id": "part-25",
     "locked": true,
     "points": "3",
     "solution": false
    }
   },
   "outputs": [],
   "source": [
    "# DO NOT CHANGE THE CODE IN THIS CELL\n",
    "_test_case = \"part-25\"\n",
    "_points = 3\n",
    "\n",
    "df_check = (\n",
    "    df_v_backup.groupby([\"COLOR\", \"MODEL\", \"MAKE\"][::-1])\n",
    "    .agg({\"number_of_trips\".upper(): \"\".join([\"c\", \"ou\", \"n\", \"t\"])})\n",
    "    .reset_index()\n",
    ")\n",
    "df_check.columns = list(\n",
    "    map(lambda x: x.lower(), [\"RegIstraTioNs\", \"CoLoR\", \"MoDeL\", \"ManUFacTuReR\"][::-1])\n",
    ")\n",
    "\n",
    "tc.assertEqual(df_by_color.shape, df_check.shape)\n",
    "tc.assertEqual(df_by_color.columns.tolist(), df_check.columns.tolist())"
   ]
  },
  {
   "cell_type": "markdown",
   "metadata": {},
   "source": [
    "---\n",
    "\n",
    "### 🎯 Part 26: Sort by Number of Registered Vehicles\n"
   ]
  },
  {
   "cell_type": "markdown",
   "metadata": {},
   "source": [
    "#### 👇 Tasks\n",
    "\n",
    "- ✔️ Sort `df_by_color` by the `\"registrations\"` column in **descending** order.\n",
    "- ✔️ Update `df_by_color` without creating a new variable.\n",
    "  - In other words, you're performing an **in-place** sort.\n",
    "\n",
    "#### 🔑 Expected Output\n",
    "\n",
    "Your index column may contain different values.\n",
    "\n",
    "|      | manufacturer | model   | color  | registrations |\n",
    "| ---: | :----------- | :------ | :----- | ------------: |\n",
    "| 8272 | Toyota       | Camry   | Black  |         65331 |\n",
    "| 8313 | Toyota       | Camry   | Silver |         49194 |\n",
    "| 8321 | Toyota       | Camry   | White  |         35804 |\n",
    "| 8447 | Toyota       | Corolla | Silver |         31255 |\n",
    "| 8691 | Toyota       | Prius   | Silver |         28866 |\n"
   ]
  },
  {
   "cell_type": "code",
   "execution_count": null,
   "metadata": {},
   "outputs": [],
   "source": [
    "# YOUR CODE BEGINS\n",
    "\n",
    "# YOUR CODE ENDS\n",
    "\n",
    "df_by_color.head(5)"
   ]
  },
  {
   "cell_type": "markdown",
   "metadata": {},
   "source": [
    "#### 🧭 Check Your Work\n",
    "\n",
    "Run the code cell below to test your solution.\n",
    "\n",
    "- ✔️ If the code cell runs without errors, you're good to move on.\n",
    "- ❌ If the code cell produces an error, review your code and fix any mistakes."
   ]
  },
  {
   "cell_type": "code",
   "execution_count": null,
   "metadata": {
    "deletable": false,
    "editable": false,
    "nbgrader": {
     "grade": true,
     "grade_id": "part-26",
     "locked": true,
     "points": "3",
     "solution": false
    }
   },
   "outputs": [],
   "source": [
    "# DO NOT CHANGE THE CODE IN THIS CELL\n",
    "_test_case = \"part-26\"\n",
    "_points = 3\n",
    "\n",
    "df_check = (\n",
    "    df_v_backup.groupby([\"COLOR\", \"MODEL\", \"MAKE\"][::-1])\n",
    "    .agg({\"number_of_trips\".upper(): \"\".join([\"c\", \"ou\", \"n\", \"t\"])})\n",
    "    .reset_index()\n",
    ")\n",
    "df_check.columns = list(\n",
    "    map(lambda x: x.lower(), [\"RegIstraTioNs\", \"CoLoR\", \"MoDeL\", \"ManUFacTuReR\"][::-1])\n",
    ")\n",
    "\n",
    "pd.testing.assert_series_equal(\n",
    "    df_check[\"registrations\"].sort_values(ascending=False).reset_index(drop=True),\n",
    "    df_by_color[\"registrations\"].reset_index(drop=True),\n",
    ")\n",
    "pd.testing.assert_frame_equal(\n",
    "    df_check.sort_values([\"manufacturer\", \"model\", \"color\"]).reset_index(drop=True),\n",
    "    df_by_color.sort_values([\"manufacturer\", \"model\", \"color\"]).reset_index(drop=True),\n",
    ")"
   ]
  },
  {
   "cell_type": "markdown",
   "metadata": {},
   "source": [
    "---\n",
    "\n",
    "## 🍸 Submitting Your Notebook\n"
   ]
  },
  {
   "cell_type": "markdown",
   "metadata": {},
   "source": [
    "There is one final step before exporting the notebook as an `.ipynb` file for submission. Restart your runtime (kernal) and run all cells from the beginning to ensure that your notebook does not contain any errors.\n",
    "\n",
    "- Go to the **\"Runtime\"** menu (\"Kernel\" if you're on Jupyter Lab) on top.\n",
    "- Select **\"Restart and run all\"**.\n",
    "- Make sure no code cell throws an error.\n",
    "- Failing to pass this step may result in a significant loss of points since the autograder will fail to run.<br /><br />\n",
    "\n",
    "![image.png](data:image/png;base64,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)\n"
   ]
  },
  {
   "cell_type": "code",
   "execution_count": null,
   "metadata": {},
   "outputs": [],
   "source": [
    "print(\"🎯 Restart and run all successful\")"
   ]
  }
 ],
 "metadata": {
  "kernelspec": {
   "display_name": "Python 3 (ipykernel)",
   "language": "python",
   "name": "python3"
  },
  "language_info": {
   "codemirror_mode": {
    "name": "ipython",
    "version": 3
   },
   "file_extension": ".py",
   "mimetype": "text/x-python",
   "name": "python",
   "nbconvert_exporter": "python",
   "pygments_lexer": "ipython3",
   "version": "3.10.10"
  }
 },
 "nbformat": 4,
 "nbformat_minor": 4
}
