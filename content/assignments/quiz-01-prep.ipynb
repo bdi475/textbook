{
 "cells": [
  {
   "cell_type": "markdown",
   "id": "52d52999",
   "metadata": {},
   "source": [
    "# Quiz 1 Prep (Optional)\n",
    "\n",
    "- 🏆 25 points available\n",
    "- ✏️ Last updated on 9/9/2025"
   ]
  },
  {
   "cell_type": "markdown",
   "id": "dbb8486f",
   "metadata": {
    "id": "DiznwS2xem7h"
   },
   "source": [
    "▶️ First, run the code cell below to import unittest, the module used for the **🧭 Check Your Work** boxes and the autograder."
   ]
  },
  {
   "cell_type": "code",
   "execution_count": null,
   "id": "d911d7fb",
   "metadata": {
    "id": "xOFvIip0em7h"
   },
   "outputs": [],
   "source": [
    "# DO NOT MODIFY THE CODE IN THIS CELL\n",
    "import unittest\n",
    "tc = unittest.TestCase()"
   ]
  },
  {
   "cell_type": "markdown",
   "id": "66f46781",
   "metadata": {
    "id": "i3PWWkSaem7i"
   },
   "source": [
    "---\n",
    "\n",
    "### 🎯 Challenge 1: Average of Positive Transactions\n",
    "\n",
    "#### 👇 Tasks\n",
    "\n",
    "The `transactions` variable contains a list of transaction amounts. Your task is to calculate the **average of all positive transactions** and store the result in a new variable named `pos_avg`.\n",
    "\n",
    "You can assume that there will be at least one positive number in the `transactions` list.\n",
    "\n",
    "#### 📘 Example\n",
    "\n",
    "```python\n",
    "transactions = [10, -5, -15, 30, 20]\n",
    "```\n",
    "\n",
    "- `pos_avg` is `20` (`(10 + 30 + 20) / 3`).\n",
    "\n",
    "#### 📏 Rules\n",
    "\n",
    "- You may create additional variables as needed for your calculations.\n",
    "- You **must not** manually compute the average by counting the positives yourself — use code to track the count.\n",
    "- Use a `for` loop to complete this task."
   ]
  },
  {
   "cell_type": "code",
   "execution_count": null,
   "id": "2a853316",
   "metadata": {
    "id": "jfnhv8_Yem7j"
   },
   "outputs": [],
   "source": [
    "transactions = [15, 8, 7, 5, 15, 72, -20, -66, 9, -4, \n",
    "                -11, 21, 19, 33, -40, -9, -8, -7, 0, \n",
    "                -55, 10, 20, -30, -1, -2, -5, -10, 4, \n",
    "                7, 8, 10, 9, -50, -10, -1, -3, -8]\n",
    "\n",
    "# YOUR CODE BEGINS\n",
    "\n",
    "# YOUR CODE ENDS\n",
    "\n",
    "print(f\"Average of positive transactions is {pos_avg}\")"
   ]
  },
  {
   "cell_type": "markdown",
   "id": "7a2bc4ad",
   "metadata": {
    "id": "EdrK-mBsem7r"
   },
   "source": [
    "#### 🧭 Check Your Work\n",
    "\n",
    "Run the code cell below to test your solution.\n",
    "\n",
    "- ✔️ If the code cell runs without errors, you're good to move on.\n",
    "- ❌ If the code cell produces an error, review your code and fix any mistakes."
   ]
  },
  {
   "cell_type": "code",
   "execution_count": null,
   "id": "6bd27917",
   "metadata": {},
   "outputs": [],
   "source": [
    "_test_case = 'avg-of-positive-transactions'\n",
    "_points = 6\n",
    "\n",
    "tc.assertAlmostEqual(pos_avg, 16)"
   ]
  },
  {
   "cell_type": "markdown",
   "id": "22266848",
   "metadata": {
    "id": "Dg-bBkF8fGaN"
   },
   "source": [
    "---\n",
    "\n",
    "### 🎯 Challenge 2: Compare Lists by Index\n",
    "\n",
    "#### 👇 Tasks\n",
    "\n",
    "You are given two lists: `t1` and `t2`. Your task is to compare their values **at each index** using a `for` loop, and count the number of occurrences where the value in `t1` is equal to the corresponding value in `t2`. Store the counted result to a variable named `num_equal`.\n",
    "\n",
    "You can assume that both lists have the same length (i.e., the same number of elements).\n",
    "\n",
    "#### 🧭 Sample Input\n",
    "\n",
    "```python\n",
    "t1 = [100, -50, 400, 300, 0]\n",
    "t2 = [-100, 50, 400, -800, 0]\n",
    "```\n",
    "\n",
    "#### 🔑 Expected Output\n",
    "\n",
    "```\n",
    "2\n",
    "```\n",
    "\n",
    "**Explanation**: `t1` and `t2` values at indices 2 and 4 are identical."
   ]
  },
  {
   "cell_type": "code",
   "execution_count": null,
   "id": "08b5949c",
   "metadata": {
    "colab": {
     "base_uri": "https://localhost:8080/"
    },
    "id": "OoYuVAyhem7q",
    "outputId": "8eea66d1-ee93-464c-9889-346fd512d07a"
   },
   "outputs": [],
   "source": [
    "t1 = [-51, -22, 24, -4, 17, 40, -7, \n",
    "      -59, 21, 82, -19, 25, 65, -99, \n",
    "      54, 72, -16, -57, -20, 17]\n",
    "t2 = [-64, -14, 30, -87, -98, 5, -7, \n",
    "      -10, 21, -98, 93, 43, 65, 66, \n",
    "      51, -98, -16, 57, -56, -17]\n",
    "\n",
    "# YOUR CODE BEGINS\n",
    "\n",
    "# YOUR CODE ENDS\n",
    "\n",
    "print(num_equal)"
   ]
  },
  {
   "cell_type": "markdown",
   "id": "576a4028-6cbd-4433-bc8b-966ffabd89d7",
   "metadata": {
    "id": "EdrK-mBsem7r"
   },
   "source": [
    "#### 🧭 Check Your Work\n",
    "\n",
    "Run the code cell below to test your solution.\n",
    "\n",
    "- ✔️ If the code cell runs without errors, you're good to move on.\n",
    "- ❌ If the code cell produces an error, review your code and fix any mistakes."
   ]
  },
  {
   "cell_type": "code",
   "execution_count": null,
   "id": "cd666161",
   "metadata": {
    "id": "DXDG3nzpem7r"
   },
   "outputs": [],
   "source": [
    "_test_case = 'compare-lists-by-index'\n",
    "_points = 6\n",
    "\n",
    "tc.assertEqual(num_equal, 4)"
   ]
  },
  {
   "cell_type": "markdown",
   "id": "acdf6787-9f77-423f-9541-6686b70c98ee",
   "metadata": {
    "id": "Dg-bBkF8fGaN"
   },
   "source": [
    "---\n",
    "\n",
    "### 🎯 Challenge 3: Average of Odd Numbers\n",
    "\n",
    "#### 👇 Tasks\n",
    "\n",
    "- Find the average of only the **odd** numbers in the `nums` list.\n",
    "- Store the result in a variable named `result`.\n",
    "\n",
    "#### 🔑 Hint\n",
    "\n",
    "Create extra variables to keep a count of the number of odd numbers and their total."
   ]
  },
  {
   "cell_type": "code",
   "execution_count": null,
   "id": "68f0eddd-6f51-416b-938b-dcd32c0f4c17",
   "metadata": {},
   "outputs": [],
   "source": [
    "nums = [10, 5, 6, 4, 3, 1, 2, 7, 8, 2, 4, 3, 1, 5, \n",
    "        3, 7, 1, 4, 6, 3, 3, 9, 6, 5, 1, 2, 1, 12, \n",
    "        8, 6, 5, 3, 2, 2, 4, 5, 1, 3, 6, 4, 1, 3, \n",
    "        2, 7, 8, 8, 8, 8, 9, 5, 1, 3, 4, 5, 6, 1, 2]\n",
    "result = 0\n",
    "\n",
    "# YOUR CODE BEGINS\n",
    "\n",
    "# YOUR CODE ENDS\n",
    "\n",
    "print(result)"
   ]
  },
  {
   "cell_type": "markdown",
   "id": "9d8edbb5-3e08-4e06-8d2b-f6f18c75b082",
   "metadata": {
    "id": "EdrK-mBsem7r"
   },
   "source": [
    "#### 🧭 Check Your Work\n",
    "\n",
    "Run the code cell below to test your solution.\n",
    "\n",
    "- ✔️ If the code cell runs without errors, you're good to move on.\n",
    "- ❌ If the code cell produces an error, review your code and fix any mistakes."
   ]
  },
  {
   "cell_type": "code",
   "execution_count": null,
   "id": "4900231a",
   "metadata": {},
   "outputs": [],
   "source": [
    "_test_case = 'average-of-odd-numbers'\n",
    "_points = 6\n",
    "\n",
    "tc.assertAlmostEqual(result, 3.6666666666666665)"
   ]
  },
  {
   "cell_type": "markdown",
   "id": "ca368045-ca13-4578-8de7-161c02934411",
   "metadata": {
    "id": "Dg-bBkF8fGaN"
   },
   "source": [
    "---\n",
    "\n",
    "### 🎯 Challenge 4: Smallest Odd Number in List\n",
    "\n",
    "#### 👇 Tasks\n",
    "\n",
    "You are given a list called `nums`. Your task is to find the **smallest odd number** in the list and store it in a variable named `smallest_odd`.\n",
    "\n",
    "You can assume that the `nums` list contains at least one odd number.\n",
    "\n",
    "#### 🧭 Sample\n",
    "\n",
    "```python\n",
    "nums = [3, 37, 9, 24, 5, -82]\n",
    "# Expected output: 3\n",
    "```"
   ]
  },
  {
   "cell_type": "code",
   "execution_count": null,
   "id": "a37cf021-8d0d-4777-8dbb-9dc7198c11b4",
   "metadata": {},
   "outputs": [],
   "source": [
    "nums = [-12, 3, -25, -4, -8, -5, -9, -33, -90]\n",
    "\n",
    "# YOUR CODE BEGINS\n",
    "\n",
    "# YOUR CODE ENDS\n",
    "\n",
    "print(smallest_odd)"
   ]
  },
  {
   "cell_type": "markdown",
   "id": "2ad6fd19-8315-413b-9c4b-2c8e218cbd77",
   "metadata": {
    "id": "EdrK-mBsem7r"
   },
   "source": [
    "#### 🧭 Check Your Work\n",
    "\n",
    "Run the code cell below to test your solution.\n",
    "\n",
    "- ✔️ If the code cell runs without errors, you're good to move on.\n",
    "- ❌ If the code cell produces an error, review your code and fix any mistakes."
   ]
  },
  {
   "cell_type": "code",
   "execution_count": null,
   "id": "3ca28c33-8027-4609-af29-ba8eef7a920b",
   "metadata": {},
   "outputs": [],
   "source": [
    "_test_case = 'smallest-odd-number-in-list'\n",
    "_points = 7\n",
    "\n",
    "tc.assertEqual(smallest_odd, -33)"
   ]
  }
 ],
 "metadata": {
  "kernelspec": {
   "display_name": "Python 3 (ipykernel)",
   "language": "python",
   "name": "python3"
  },
  "language_info": {
   "codemirror_mode": {
    "name": "ipython",
    "version": 3
   },
   "file_extension": ".py",
   "mimetype": "text/x-python",
   "name": "python",
   "nbconvert_exporter": "python",
   "pygments_lexer": "ipython3",
   "version": "3.10.10"
  }
 },
 "nbformat": 4,
 "nbformat_minor": 5
}
