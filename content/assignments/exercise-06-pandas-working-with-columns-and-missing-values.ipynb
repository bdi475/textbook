{
 "cells": [
  {
   "cell_type": "markdown",
   "id": "3160a0b6",
   "metadata": {},
   "source": [
    "# Exercise 6 - Working with Columns & Missing values\n",
    "\n",
    "- 🏆 20 points available\n",
    "- ✏️ Last updated on 09/23/2025\n"
   ]
  },
  {
   "cell_type": "markdown",
   "id": "7b520e54",
   "metadata": {
    "id": "DiznwS2xem7h"
   },
   "source": [
    "▶️ First, run the code cell below to import `unittest`, a module used for **🧭 Check Your Work** sections and the autograder.\n"
   ]
  },
  {
   "cell_type": "code",
   "execution_count": null,
   "id": "8fb2dd58",
   "metadata": {
    "id": "xOFvIip0em7h"
   },
   "outputs": [],
   "source": [
    "# DO NOT MODIFY THE CODE IN THIS CELL\n",
    "import unittest\n",
    "\n",
    "tc = unittest.TestCase()"
   ]
  },
  {
   "cell_type": "markdown",
   "id": "16024056",
   "metadata": {},
   "source": [
    "---\n",
    "\n",
    "### 🎯 Part 1: Import Pandas and NumPy\n"
   ]
  },
  {
   "cell_type": "markdown",
   "id": "e6e25d32",
   "metadata": {
    "id": "i3PWWkSaem7i"
   },
   "source": [
    "#### 👇 Tasks\n",
    "\n",
    "- ✔️ Import the following Python packages.\n",
    "  1. `pandas`: Use alias `pd`.\n",
    "  2. `numpy`: Use alias `np`.\n"
   ]
  },
  {
   "cell_type": "code",
   "execution_count": null,
   "id": "797e2871",
   "metadata": {
    "id": "jfnhv8_Yem7j"
   },
   "outputs": [],
   "source": [
    "# YOUR CODE BEGINS\n",
    "\n",
    "# YOUR CODE ENDS"
   ]
  },
  {
   "cell_type": "markdown",
   "id": "32796155",
   "metadata": {
    "id": "EdrK-mBsem7r"
   },
   "source": [
    "#### 🧭 Check Your Work\n",
    "\n",
    "Run the code cell below to test your solution.\n",
    "\n",
    "- ✔️ If the code cell runs without errors, you're good to move on.\n",
    "- ❌ If the code cell produces an error, review your code and fix any mistakes.\n"
   ]
  },
  {
   "cell_type": "code",
   "execution_count": null,
   "id": "266244dd",
   "metadata": {
    "deletable": false,
    "editable": false
   },
   "outputs": [],
   "source": [
    "_test_case = \"part-01\"\n",
    "_points = 2\n",
    "\n",
    "tc.assertTrue(\n",
    "    \"pd\" in globals(), \"Check whether you have correctly import Pandas with an alias.\"\n",
    ")\n",
    "tc.assertTrue(\n",
    "    \"np\" in globals(), \"Check whether you have correctly import NumPy with an alias.\"\n",
    ")"
   ]
  },
  {
   "cell_type": "markdown",
   "id": "e0393df2",
   "metadata": {},
   "source": [
    "---\n",
    "\n",
    "### 📌 Load data\n",
    "\n",
    "For the remainder of this exercise, you'll be working with a small DataFrame named `df_emp`.\n",
    "\n",
    "▶️ Run the code cell below to create `df_emp`.\n"
   ]
  },
  {
   "cell_type": "code",
   "execution_count": null,
   "id": "9c652f4f",
   "metadata": {},
   "outputs": [],
   "source": [
    "# DO NOT CHANGE THE CODE IN THIS CELL\n",
    "df_emp = pd.DataFrame(\n",
    "    {\n",
    "        \"emp_id\": [30, 40, 10, 20],\n",
    "        \"name\": [\"Nupur\", \"Matt\", \"Ethan\", \"John\"],\n",
    "        \"dept\": [\"Sales\", \"Marketing\", \"Sales\", \"Marketing\"],\n",
    "        \"office_phone\": [\"(217)123-4500\", np.nan, np.nan, \"(217)987-6543\"],\n",
    "        \"start_date\": [\"2017-05-01\", \"2018-02-01\", \"2020-08-01\", \"2019-12-01\"],\n",
    "        \"salary\": [202000, 185000, 240000, 160500],\n",
    "    }\n",
    ")\n",
    "\n",
    "# Used for intermediate checks\n",
    "df_emp_backup = df_emp.copy()\n",
    "\n",
    "df_emp"
   ]
  },
  {
   "cell_type": "markdown",
   "id": "7353ba28",
   "metadata": {
    "id": "Dg-bBkF8fGaN"
   },
   "source": [
    "---\n",
    "\n",
    "### 🎯 Part 2: Find the number of rows and columns\n",
    "\n",
    "#### 👇 Tasks\n",
    "\n",
    "- ✔️ Store the number of rows in `df_emp` to a new variable named `num_rows`.\n",
    "- ✔️ Store the number of columns in `df_emp` to a new variable named `num_cols`.\n",
    "- ✔️ Use `.shape`, not `len()`.\n"
   ]
  },
  {
   "cell_type": "code",
   "execution_count": null,
   "id": "6c03308e",
   "metadata": {},
   "outputs": [],
   "source": [
    "# YOUR CODE BEGINS\n",
    "\n",
    "# YOUR CODE ENDS\n",
    "\n",
    "print(f\"Number of rows: {num_rows}\")\n",
    "print(f\"Number of columns: {num_cols}\")"
   ]
  },
  {
   "cell_type": "markdown",
   "id": "f227cc58",
   "metadata": {
    "id": "EdrK-mBsem7r"
   },
   "source": [
    "#### 🧭 Check Your Work\n",
    "\n",
    "Run the code cell below to test your solution.\n",
    "\n",
    "- ✔️ If the code cell runs without errors, you're good to move on.\n",
    "- ❌ If the code cell produces an error, review your code and fix any mistakes.\n"
   ]
  },
  {
   "cell_type": "code",
   "execution_count": null,
   "id": "f452eb07",
   "metadata": {
    "deletable": false,
    "editable": false
   },
   "outputs": [],
   "source": [
    "_test_case = \"part-02\"\n",
    "_points = 2\n",
    "\n",
    "tc.assertEqual(\n",
    "    num_rows,\n",
    "    len(df_emp_backup.index),\n",
    "    f\"Number of rows should be {len(df_emp_backup.index)}\",\n",
    ")\n",
    "tc.assertEqual(\n",
    "    num_cols,\n",
    "    len(df_emp_backup.columns),\n",
    "    f\"Number of columns should be {len(df_emp_backup.columns)}\",\n",
    ")"
   ]
  },
  {
   "cell_type": "markdown",
   "id": "08f4e881",
   "metadata": {
    "id": "Dg-bBkF8fGaN"
   },
   "source": [
    "---\n",
    "\n",
    "### 🎯 Part 3: Find all rows with non-missing phone numbers\n",
    "\n",
    "#### 👇 Tasks\n",
    "\n",
    "- ✔️ Using `df_emp`, find rows where `office_phone` contains a non-missing value.\n",
    "- ✔️ Store the filtered rows to `df_with_phones`.\n",
    "- ✔️ `df_emp` should remain unaltered.\n",
    "\n",
    "#### 🔑 Expected Output of `df_with_phones`\n",
    "\n",
    "|     | emp_id | name  | dept      | office_phone  | start_date | salary |\n",
    "| --- | ------ | ----- | --------- | ------------- | ---------- | ------ |\n",
    "| 0   | 30     | Nupur | Sales     | (217)123-4500 | 2017-05-01 | 202000 |\n",
    "| 3   | 20     | John  | Marketing | (217)987-6543 | 2019-12-01 | 160500 |\n"
   ]
  },
  {
   "cell_type": "code",
   "execution_count": null,
   "id": "b70f82be",
   "metadata": {},
   "outputs": [],
   "source": [
    "# Reset df_emp\n",
    "df_emp = df_emp_backup.copy()\n",
    "\n",
    "# YOUR CODE BEGINS\n",
    "\n",
    "# YOUR CODE ENDS\n",
    "\n",
    "display(df_with_phones)"
   ]
  },
  {
   "cell_type": "markdown",
   "id": "d06d7f63",
   "metadata": {
    "id": "EdrK-mBsem7r"
   },
   "source": [
    "#### 🧭 Check Your Work\n",
    "\n",
    "Run the code cell below to test your solution.\n",
    "\n",
    "- ✔️ If the code cell runs without errors, you're good to move on.\n",
    "- ❌ If the code cell produces an error, review your code and fix any mistakes.\n"
   ]
  },
  {
   "cell_type": "code",
   "execution_count": null,
   "id": "69aacdd2",
   "metadata": {
    "deletable": false,
    "editable": false
   },
   "outputs": [],
   "source": [
    "_test_case = \"part-03\"\n",
    "_points = 3\n",
    "\n",
    "pd.testing.assert_frame_equal(\n",
    "    df_emp, df_emp_backup, \"The original DataFrame should remain unaltered\"\n",
    ")\n",
    "\n",
    "# Check result\n",
    "pd.testing.assert_frame_equal(\n",
    "    df_with_phones.sort_values(df_with_phones.columns.tolist()).reset_index(drop=True),\n",
    "    df_emp_backup.query(f\"office_phone == office_phone\")\n",
    "    .sort_values(df_emp_backup.columns.tolist())\n",
    "    .reset_index(drop=True),\n",
    ")"
   ]
  },
  {
   "cell_type": "markdown",
   "id": "65aeff1c",
   "metadata": {
    "id": "Dg-bBkF8fGaN"
   },
   "source": [
    "---\n",
    "\n",
    "### 🎯 Part 4: Sort by department and salary\n",
    "\n",
    "#### 👇 Tasks\n",
    "\n",
    "- ✔️ Sort `df_emp` by `dept` in **ascending** order and then by `salary` in **ascending** order.\n",
    "  - Employees within a same department must be sorted by `salary` in ascending order.\n",
    "  - Store the result to a new variable named `df_by_dept_salary`.\n",
    "- ✔️ `df_emp` should remain unaltered after your code.\n",
    "\n",
    "▶️ Run the code cell below to reset your `df_emp`.\n",
    "\n",
    "#### 🔑 Expected Output of `df_by_dept_salary`\n",
    "\n",
    "|     | emp_id | name  | dept      | office_phone  | start_date | salary |\n",
    "| --- | ------ | ----- | --------- | ------------- | ---------- | ------ |\n",
    "| 3   | 20     | John  | Marketing | (217)987-6543 | 2019-12-01 | 160500 |\n",
    "| 1   | 40     | Matt  | Marketing | NaN           | 2018-02-01 | 185000 |\n",
    "| 0   | 30     | Nupur | Sales     | (217)123-4500 | 2017-05-01 | 202000 |\n",
    "| 2   | 10     | Ethan | Sales     | NaN           | 2020-08-01 | 240000 |\n"
   ]
  },
  {
   "cell_type": "code",
   "execution_count": null,
   "id": "d8fc01f9",
   "metadata": {},
   "outputs": [],
   "source": [
    "# Reset df_emp\n",
    "df_emp = df_emp_backup.copy()\n",
    "\n",
    "# YOUR CODE BEGINS\n",
    "\n",
    "# YOUR CODE ENDS\n",
    "\n",
    "display(df_by_dept_salary)"
   ]
  },
  {
   "cell_type": "markdown",
   "id": "742ab0d1",
   "metadata": {
    "id": "EdrK-mBsem7r"
   },
   "source": [
    "#### 🧭 Check Your Work\n",
    "\n",
    "Run the code cell below to test your solution.\n",
    "\n",
    "- ✔️ If the code cell runs without errors, you're good to move on.\n",
    "- ❌ If the code cell produces an error, review your code and fix any mistakes.\n"
   ]
  },
  {
   "cell_type": "code",
   "execution_count": null,
   "id": "9ed6ea16",
   "metadata": {
    "deletable": false,
    "editable": false
   },
   "outputs": [],
   "source": [
    "_test_case = \"part-04\"\n",
    "_points = 3\n",
    "\n",
    "df_SOL = df_emp_backup.sort_values(\n",
    "    [\"salary\", \"dept\"][::-1], ascending=[not x for x in [False, False]]\n",
    ")\n",
    "\n",
    "pd.testing.assert_frame_equal(\n",
    "    df_emp, df_emp_backup, \"The original DataFrame should remain unaltered\"\n",
    ")\n",
    "\n",
    "# check result\n",
    "pd.testing.assert_frame_equal(\n",
    "    df_by_dept_salary.reset_index(drop=True), df_SOL.reset_index(drop=True)\n",
    ")"
   ]
  },
  {
   "cell_type": "markdown",
   "id": "b29142de",
   "metadata": {
    "id": "Dg-bBkF8fGaN"
   },
   "source": [
    "---\n",
    "\n",
    "### 🎯 Part 5: Rename columns\n",
    "\n",
    "#### 👇 Tasks\n",
    "\n",
    "- ✔️ Rename the following two columns in `df_emp`.\n",
    "  1. `name` to `first_name`\n",
    "  2. `salary` to `base_salary`\n",
    "- ✔️ Store the result to a new variable named `df_renamed`.\n",
    "- ✔️ Your original DataFrame (`df_emp`) should remain unaltered.\n",
    "\n",
    "#### 🚀 Hints\n",
    "\n",
    "Use the following code to rename columns _out-of-place_.\n",
    "\n",
    "```python\n",
    "renamed_dataframe = my_dataframe.rename(columns={\n",
    "    \"col1_before\": \"col1_after\",\n",
    "    \"col2_before\": \"col2_after\"\n",
    "})\n",
    "```\n"
   ]
  },
  {
   "cell_type": "code",
   "execution_count": null,
   "id": "82f22f5e",
   "metadata": {},
   "outputs": [],
   "source": [
    "# Reset df_emp\n",
    "df_emp = df_emp_backup.copy()\n",
    "\n",
    "# YOUR CODE BEGINS\n",
    "\n",
    "# YOUR CODE ENDS\n",
    "\n",
    "display(df_renamed)"
   ]
  },
  {
   "cell_type": "markdown",
   "id": "4c6eb205",
   "metadata": {
    "id": "EdrK-mBsem7r"
   },
   "source": [
    "#### 🧭 Check Your Work\n",
    "\n",
    "Run the code cell below to test your solution.\n",
    "\n",
    "- ✔️ If the code cell runs without errors, you're good to move on.\n",
    "- ❌ If the code cell produces an error, review your code and fix any mistakes.\n"
   ]
  },
  {
   "cell_type": "code",
   "execution_count": null,
   "id": "44812a0a",
   "metadata": {
    "deletable": false,
    "editable": false
   },
   "outputs": [],
   "source": [
    "_test_case = \"part-05\"\n",
    "_points = 3\n",
    "\n",
    "tc.assertEqual(\n",
    "    df_emp.columns.tolist(),\n",
    "    df_emp_backup.columns.tolist(),\n",
    "    \"Did you rename the column in-place? The original DataFrame should not be modified.\",\n",
    ")\n",
    "tc.assertEqual(\n",
    "    df_renamed.columns.tolist(),\n",
    "    [\"emp_id\", \"first_name\", \"dept\", \"office_phone\", \"start_date\", \"base_salary\"],\n",
    ")"
   ]
  },
  {
   "cell_type": "markdown",
   "id": "8f21d53b",
   "metadata": {},
   "source": [
    "---\n",
    "\n",
    "### 🎯 Part 6: Drop columns\n",
    "\n",
    "#### 👇 Tasks\n",
    "\n",
    "- ✔️ Drop `emp_id` and `start_date` columns from `df_emp`.\n",
    "- ✔️ Store the result to a new variable named `df_dropped`.\n",
    "- ✔️ Your `df_emp` should remain unaltered.\n",
    "\n",
    "#### 🚀 Hints\n",
    "\n",
    "Use the following code as a reference.\n",
    "\n",
    "```python\n",
    "dropped_dataframe = my_dataframe.drop(columns=[\"my_column1\", \"my_column2\"])\n",
    "```\n"
   ]
  },
  {
   "cell_type": "code",
   "execution_count": null,
   "id": "3004aa4a",
   "metadata": {},
   "outputs": [],
   "source": [
    "# Reset df_emp\n",
    "df_emp = df_emp_backup.copy()\n",
    "\n",
    "# YOUR CODE BEGINS\n",
    "\n",
    "# YOUR CODE ENDS\n",
    "\n",
    "df_dropped"
   ]
  },
  {
   "cell_type": "markdown",
   "id": "95a0325f",
   "metadata": {
    "id": "EdrK-mBsem7r"
   },
   "source": [
    "#### 🧭 Check Your Work\n",
    "\n",
    "Run the code cell below to test your solution.\n",
    "\n",
    "- ✔️ If the code cell runs without errors, you're good to move on.\n",
    "- ❌ If the code cell produces an error, review your code and fix any mistakes.\n"
   ]
  },
  {
   "cell_type": "code",
   "execution_count": null,
   "id": "986de984",
   "metadata": {
    "deletable": false,
    "editable": false
   },
   "outputs": [],
   "source": [
    "_test_case = \"part-06\"\n",
    "_points = 3\n",
    "\n",
    "pd.testing.assert_frame_equal(\n",
    "    df_emp, df_emp_backup, \"The original DataFrame should remain unaltered\"\n",
    ")\n",
    "\n",
    "# Check result\n",
    "tc.assertEqual(df_emp.columns.tolist(), df_emp_backup.columns.tolist())\n",
    "tc.assertEqual(df_dropped.columns.tolist(), [\"name\", \"dept\", \"office_phone\", \"salary\"])"
   ]
  },
  {
   "cell_type": "markdown",
   "id": "0adc84e9",
   "metadata": {},
   "source": [
    "---\n",
    "\n",
    "### 🎯 Part 7: Add new column\n",
    "\n",
    "#### 👇 Tasks\n",
    "\n",
    "- ✔️ Assume all four employees have received a huge bonus of \\$20,000.\n",
    "- ✔️ Append a new column named `salary_with_bonus` that shows the salaries of employees **with** the bonus.\n",
    "- ✔️ Directly update the `df_emp`.\n",
    "\n",
    "#### 🚀 Hints\n",
    "\n",
    "Use the following code as a reference.\n",
    "\n",
    "```python\n",
    "my_dataframe[\"salary_with_bonus\"] = my_dataframe[\"salary\"] + 20000\n",
    "```\n"
   ]
  },
  {
   "cell_type": "code",
   "execution_count": null,
   "id": "0b0cee3a",
   "metadata": {},
   "outputs": [],
   "source": [
    "# Reset df_emp\n",
    "df_emp = df_emp_backup.copy()\n",
    "\n",
    "# YOUR CODE BEGINS\n",
    "\n",
    "# YOUR CODE ENDS\n",
    "\n",
    "display(df_emp)"
   ]
  },
  {
   "cell_type": "markdown",
   "id": "5c41c054",
   "metadata": {
    "id": "EdrK-mBsem7r"
   },
   "source": [
    "#### 🧭 Check Your Work\n",
    "\n",
    "Run the code cell below to test your solution.\n",
    "\n",
    "- ✔️ If the code cell runs without errors, you're good to move on.\n",
    "- ❌ If the code cell produces an error, review your code and fix any mistakes.\n"
   ]
  },
  {
   "cell_type": "code",
   "execution_count": null,
   "id": "6f5052f8",
   "metadata": {
    "deletable": false,
    "editable": false
   },
   "outputs": [],
   "source": [
    "_test_case = \"part-07\"\n",
    "_points = 4\n",
    "\n",
    "df_SOL = df_emp_backup.copy()\n",
    "df_SOL[\"salary_with_bonus\"] = df_SOL[\"salary\"] + 1000 * 20\n",
    "\n",
    "pd.testing.assert_frame_equal(\n",
    "    df_emp.sort_values(df_emp.columns.to_list()).reset_index(drop=True),\n",
    "    df_SOL.sort_values(df_SOL.columns.to_list()).reset_index(drop=True),\n",
    ")"
   ]
  }
 ],
 "metadata": {
  "kernelspec": {
   "display_name": "gies",
   "language": "python",
   "name": "python3"
  },
  "language_info": {
   "codemirror_mode": {
    "name": "ipython",
    "version": 3
   },
   "file_extension": ".py",
   "mimetype": "text/x-python",
   "name": "python",
   "nbconvert_exporter": "python",
   "pygments_lexer": "ipython3",
   "version": "3.12.6"
  }
 },
 "nbformat": 4,
 "nbformat_minor": 5
}
