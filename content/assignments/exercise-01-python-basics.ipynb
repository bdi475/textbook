{
 "cells": [
  {
   "cell_type": "markdown",
   "id": "52d52999",
   "metadata": {},
   "source": [
    "# Exercise 1 - Data Types, Variables, Operators, and Conditionals\n",
    "\n",
    "- 🏆 20 points available\n",
    "- ✏️ Last updated on 9/10/2025"
   ]
  },
  {
   "cell_type": "markdown",
   "id": "dbb8486f",
   "metadata": {
    "id": "DiznwS2xem7h"
   },
   "source": [
    "▶️ First, run the code cell below to import `unittest`, the module used for the **🧭 Check Your Work** boxes and the autograder."
   ]
  },
  {
   "cell_type": "code",
   "execution_count": null,
   "id": "d911d7fb",
   "metadata": {
    "id": "xOFvIip0em7h"
   },
   "outputs": [],
   "source": [
    "# DO NOT MODIFY THE CODE IN THIS CELL\n",
    "import unittest\n",
    "tc = unittest.TestCase()"
   ]
  },
  {
   "cell_type": "markdown",
   "id": "cac11410",
   "metadata": {},
   "source": [
    "---\n",
    "\n",
    "### 🎯 Challenge 1: Netflix's Debt-to-Equity Ratio 💵\n",
    "\n",
    "#### 👇 Task\n",
    "\n",
    "The **debt-to-equity ratio** shows the proportion of debt and equity a company uses to finance its assets.  \n",
    "It is calculated by dividing **total debt** by **total equity**.\n",
    "\n",
    "\n",
    "\n",
    "Your goal is to calculate Netflix's `debt_to_equity_ratio` using the variables `netflix_total_debt` and `netflix_total_equity`. Store the result to a new variable named `debt_to_equity_ratio`.\n",
    "\n",
    "#### 💡 Hint\n",
    "\n",
    "For example, `25 / 10` evaluates to `2.5`."
   ]
  },
  {
   "cell_type": "code",
   "execution_count": null,
   "id": "2a853316",
   "metadata": {
    "id": "jfnhv8_Yem7j"
   },
   "outputs": [],
   "source": [
    "netflix_total_debt =  15582804\n",
    "netflix_total_equity =  24743567 \n",
    "\n",
    "# YOUR CODE BEGINS\n",
    "\n",
    "# YOUR CODE ENDS\n",
    "\n",
    "print(f\"Netflix's debt-to-equity ratio is {round(debt_to_equity_ratio, 2)}\")"
   ]
  },
  {
   "cell_type": "markdown",
   "id": "7a2bc4ad",
   "metadata": {
    "id": "EdrK-mBsem7r"
   },
   "source": [
    "#### 🧭 Check Your Work\n",
    "\n",
    "Run the code cell below to test your solution.\n",
    "\n",
    "- ✔️ If the code cell runs without errors, you're good to move on.\n",
    "- ❌ If the code cell produces an error, review your code and fix any mistakes."
   ]
  },
  {
   "cell_type": "code",
   "execution_count": null,
   "id": "6bd27917",
   "metadata": {},
   "outputs": [],
   "source": [
    "_test_case = 'calculate-debt-to-equity-ratio'\n",
    "_points = 4\n",
    "\n",
    "tc.assertAlmostEqual(debt_to_equity_ratio, 0.6297719322359626)"
   ]
  },
  {
   "cell_type": "markdown",
   "id": "22266848",
   "metadata": {
    "id": "Dg-bBkF8fGaN"
   },
   "source": [
    "---\n",
    "\n",
    "### 🎯 Challenge 2: Movie vs. TV 🎬📺\n",
    "\n",
    "#### 👇 Task\n",
    "\n",
    "- `p_movie` contains the probability (0–1) that a person prefers movies.\n",
    "- `p_tv` contains the probability (0-1) that a person prefers TV shows.\n",
    "- If `p_movie` is greater than `p_tv`, set `result` to `\"Movie\"`.\n",
    "- Otherwise, set `result` to `\"TV\"`."
   ]
  },
  {
   "cell_type": "code",
   "execution_count": null,
   "id": "08b5949c",
   "metadata": {
    "colab": {
     "base_uri": "https://localhost:8080/"
    },
    "id": "OoYuVAyhem7q",
    "outputId": "8eea66d1-ee93-464c-9889-346fd512d07a"
   },
   "outputs": [],
   "source": [
    "p_movie = 0.47\n",
    "p_tv = 0.53\n",
    "result = None\n",
    "\n",
    "# YOUR CODE BEGINS\n",
    "\n",
    "# YOUR CODE ENDS\n",
    "\n",
    "print(result)"
   ]
  },
  {
   "cell_type": "markdown",
   "id": "576a4028-6cbd-4433-bc8b-966ffabd89d7",
   "metadata": {
    "id": "EdrK-mBsem7r"
   },
   "source": [
    "#### 🧭 Check Your Work\n",
    "\n",
    "Run the code cell below to test your solution.\n",
    "\n",
    "- ✔️ If the code cell runs without errors, you're good to move on.\n",
    "- ❌ If the code cell produces an error, review your code and fix any mistakes."
   ]
  },
  {
   "cell_type": "code",
   "execution_count": null,
   "id": "cd666161",
   "metadata": {
    "id": "DXDG3nzpem7r"
   },
   "outputs": [],
   "source": [
    "_test_case = 'movie-vs-tv'\n",
    "_points = 4\n",
    "\n",
    "tc.assertEqual(result, \"TV\")"
   ]
  },
  {
   "cell_type": "markdown",
   "id": "acdf6787-9f77-423f-9541-6686b70c98ee",
   "metadata": {
    "id": "Dg-bBkF8fGaN"
   },
   "source": [
    "---\n",
    "\n",
    "### 🎯 Challenge 3: Shipping Fee 🛒\n",
    "\n",
    "#### 👇 Task\n",
    "\n",
    "The `amount` variable contains the total order amount in dollars.\n",
    "\n",
    "In this exercise, `amount` will be **randomly generated** each time you run the code (between 1 and 150).  \n",
    "\n",
    "Your task is to set a variable named `shipping_fee` to one of the following values based on `amount`:\n",
    "\n",
    "- `\"Free Shipping\"` if `amount >= 100`  \n",
    "- `\"Discounted Shipping\"` if `50 <= amount < 100`  \n",
    "- `\"Standard Shipping\"` if `amount < 50`\n",
    "\n",
    "#### 📘 Example\n",
    "\n",
    "If `amount = 75`, then:  \n",
    "- `shipping_fee` is `\"Discounted Shipping\"`.\n",
    "\n",
    "#### 📏 Rules\n",
    "\n",
    "- Use an `if` / `elif` / `else` structure to complete this task.  \n",
    "- Do not hardcode the result; your code should work for any randomized `amount` value."
   ]
  },
  {
   "cell_type": "code",
   "execution_count": null,
   "id": "68f0eddd-6f51-416b-938b-dcd32c0f4c17",
   "metadata": {},
   "outputs": [],
   "source": [
    "import random\n",
    "amount = random.randint(1, 150)    # purchase amount between $1 and $150\n",
    "\n",
    "# YOUR CODE BEGINS\n",
    "\n",
    "# YOUR CODE ENDS\n",
    "\n",
    "print(f\"Order amount: {amount}\")\n",
    "print(f\"Shipping fee: {shipping_fee}\")"
   ]
  },
  {
   "cell_type": "markdown",
   "id": "9d8edbb5-3e08-4e06-8d2b-f6f18c75b082",
   "metadata": {
    "id": "EdrK-mBsem7r"
   },
   "source": [
    "#### 🧭 Check Your Work\n",
    "\n",
    "Run the code cell below to test your solution.\n",
    "\n",
    "- ✔️ If the code cell runs without errors, you're good to move on.\n",
    "- ❌ If the code cell produces an error, review your code and fix any mistakes."
   ]
  },
  {
   "cell_type": "code",
   "execution_count": null,
   "id": "4900231a",
   "metadata": {},
   "outputs": [],
   "source": [
    "_test_case = 'shipping-fee'\n",
    "_points = 6\n",
    "\n",
    "shipping_fee_SOL = (\n",
    "    \"Free Shipping\" if amount >= 100\n",
    "    else \"Discounted Shipping\" if amount >= 50\n",
    "    else \"Standard Shipping\"\n",
    ")\n",
    "\n",
    "tc.assertEqual(shipping_fee, shipping_fee_SOL)"
   ]
  },
  {
   "cell_type": "markdown",
   "id": "ca368045-ca13-4578-8de7-161c02934411",
   "metadata": {
    "id": "Dg-bBkF8fGaN"
   },
   "source": [
    "---\n",
    "\n",
    "### 🎯 Challenge 4: Scholarship Eligibility 🎓\n",
    "\n",
    "#### 👇 Task\n",
    "\n",
    "The following variables are given:  \n",
    "- `gpa` → a student's grade point average (0.0–4.0)  \n",
    "- `credits` → the total number of credits the student has earned  \n",
    "- `volunteer_hours` → the number of volunteer hours completed  \n",
    "\n",
    "Your task is to determine eligibility for **two scholarships**:  \n",
    "\n",
    "1. **Merit Scholarship**  \n",
    "   - Eligible if `gpa >= 3.5` **and** `credits >= 30`  \n",
    "\n",
    "2. **Community Scholarship**  \n",
    "   - Eligible if `gpa >= 3.0` **or** `volunteer_hours >= 100`  \n",
    "\n",
    "Set two Boolean variables:  \n",
    "- `merit_eligible` → `True` if the student qualifies for the Merit Scholarship, otherwise `False`  \n",
    "- `community_eligible` → `True` if the student qualifies for the Community Scholarship, otherwise `False`  \n",
    "\n",
    "#### 📘 Example\n",
    "\n",
    "```python\n",
    "gpa = 3.6\n",
    "credits = 28\n",
    "volunteer_hours = 120\n",
    "```\n",
    "\n",
    "- `merit_eligible` is `False` (credits < 30)\n",
    "- `community_eligible` is `True` (volunteer hours >= 100)\n",
    "\n",
    "#### 📏 Rules\n",
    "\n",
    "- Use logical operators (`and`, `or`) to complete this task.\n",
    "- Do not hardcode the results; your code should work for any values of `gpa`, `credits`, and `volunteer_hours`."
   ]
  },
  {
   "cell_type": "code",
   "execution_count": null,
   "id": "a37cf021-8d0d-4777-8dbb-9dc7198c11b4",
   "metadata": {},
   "outputs": [],
   "source": [
    "import random\n",
    "gpa = round(random.uniform(0.0, 4.0), 2)    # GPA between 0.00 and 4.00\n",
    "credits = random.randint(0, 60)             # credits between 0 and 60\n",
    "volunteer_hours = random.randint(0, 200)    # volunteer hours between 0 and 200\n",
    "\n",
    "# YOUR CODE BEGINS\n",
    "\n",
    "# YOUR CODE ENDS\n",
    "\n",
    "print(f\"GPA: {gpa}\")\n",
    "print(f\"Credits: {credits}\")\n",
    "print(f\"Volunteer Hours: {volunteer_hours}\")\n",
    "print(f\"Merit Scholarship Eligible? {merit_eligible}\")\n",
    "print(f\"Community Scholarship Eligible? {community_eligible}\")"
   ]
  },
  {
   "cell_type": "markdown",
   "id": "2ad6fd19-8315-413b-9c4b-2c8e218cbd77",
   "metadata": {
    "id": "EdrK-mBsem7r"
   },
   "source": [
    "#### 🧭 Check Your Work\n",
    "\n",
    "Run the code cell below to test your solution.\n",
    "\n",
    "- ✔️ If the code cell runs without errors, you're good to move on.\n",
    "- ❌ If the code cell produces an error, review your code and fix any mistakes."
   ]
  },
  {
   "cell_type": "code",
   "execution_count": null,
   "id": "3ca28c33-8027-4609-af29-ba8eef7a920b",
   "metadata": {},
   "outputs": [],
   "source": [
    "_test_case = \"scholarship-eligibility\"\n",
    "_points = 6\n",
    "\n",
    "merit_eligible_SOL = True and (not False) and gpa >= 3.5 and credits >= 30\n",
    "community_eligible_SOL = False or (not True) or gpa >= 3.0 or volunteer_hours >= 100\n",
    "\n",
    "tc.assertEqual(merit_eligible, merit_eligible_SOL)\n",
    "tc.assertEqual(community_eligible, community_eligible_SOL)"
   ]
  }
 ],
 "metadata": {
  "kernelspec": {
   "display_name": "Python 3 (ipykernel)",
   "language": "python",
   "name": "python3"
  },
  "language_info": {
   "codemirror_mode": {
    "name": "ipython",
    "version": 3
   },
   "file_extension": ".py",
   "mimetype": "text/x-python",
   "name": "python",
   "nbconvert_exporter": "python",
   "pygments_lexer": "ipython3",
   "version": "3.10.10"
  }
 },
 "nbformat": 4,
 "nbformat_minor": 5
}
