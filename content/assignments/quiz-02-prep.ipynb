{
 "cells": [
  {
   "cell_type": "markdown",
   "id": "52d52999",
   "metadata": {},
   "source": [
    "# Quiz 2 Prep\n",
    "\n",
    "- The challenges here are optional and are not graded.\n",
    "- Use these challenges to prepare yourself for the upcoming quiz.\n",
    "- You will have 25 minutes to complete two questions that are similar to the ones shown here.\n"
   ]
  },
  {
   "cell_type": "markdown",
   "id": "dbb8486f",
   "metadata": {
    "id": "DiznwS2xem7h"
   },
   "source": [
    "▶️ First, run the code cell below to import `unittest`, a module used for **🧭 Check Your Work** sections and the autograder.\n"
   ]
  },
  {
   "cell_type": "code",
   "execution_count": null,
   "id": "d911d7fb",
   "metadata": {
    "id": "xOFvIip0em7h"
   },
   "outputs": [],
   "source": [
    "# DO NOT MODIFY THE CODE IN THIS CELL\n",
    "import unittest\n",
    "\n",
    "tc = unittest.TestCase()"
   ]
  },
  {
   "cell_type": "markdown",
   "id": "cac11410",
   "metadata": {},
   "source": [
    "---\n",
    "\n",
    "### 🎯 Challenge 1: Average Number of Reviews using a For Loop\n"
   ]
  },
  {
   "cell_type": "markdown",
   "id": "66f46781",
   "metadata": {
    "id": "i3PWWkSaem7i"
   },
   "source": [
    "You are given a `list`-type variable named `products`, which contains a list of dictionaries. Each dictionary in the list contains the brand, number of reviews, and name of a beauty product on [Sephora.com](https://www.sephora.com/). 💄\n",
    "\n",
    "## 👉 Tasks\n",
    "\n",
    "1. Use a `for` loop to find the average number of reviews of Laneige products (products where `\"brand\"` is `\"Laneige\"`).\n",
    "2. Store the result to a new variable named `avg_num_reviews`.\n",
    "\n",
    "## 🧭 Expected Output\n",
    "\n",
    "```plaintext\n",
    "Laneige products have 6084.0 reviews on average.\n",
    "```\n"
   ]
  },
  {
   "cell_type": "code",
   "execution_count": null,
   "id": "2a853316",
   "metadata": {
    "id": "jfnhv8_Yem7j"
   },
   "outputs": [],
   "source": [
    "my_products = [\n",
    "    {\"brand\": \"Laneige\", \"num_reviews\": 12715, \"name\": \"Lip Sleeping Mask\"},\n",
    "    {\"brand\": \"The Ordinary\", \"num_reviews\": 2274, \"name\": \"Hyaluronic Acid 2% + B5\"},\n",
    "    {\"brand\": \"Laneige\", \"num_reviews\": 2771, \"name\": \"Water Sleeping Mask\"},\n",
    "    {\"brand\": \"The Ordinary\", \"num_reviews\": 3952, \"name\": \"Niacinamide 10% + Zinc 1%\"},\n",
    "    {\n",
    "        \"brand\": \"Chanel\",\n",
    "        \"num_reviews\": 528,\n",
    "        \"name\": \"CHANCE EAU TENDRE Eau de Toilette\",\n",
    "    },\n",
    "    {\"brand\": \"Laneige\", \"num_reviews\": 2766, \"name\": \"Lip Glowy Balm\"},\n",
    "    {\"brand\": \"Chanel\", \"num_reviews\": 724, \"name\": \"COCO MADEMOISELLE Eau de Parfum\"},\n",
    "]\n",
    "\n",
    "# YOUR CODE BEGINS\n",
    "\n",
    "# YOUR CODE ENDS\n",
    "\n",
    "print(f\"Laneige products have {avg_num_reviews} reviews on average.\")"
   ]
  },
  {
   "cell_type": "markdown",
   "id": "7a2bc4ad",
   "metadata": {
    "id": "EdrK-mBsem7r"
   },
   "source": [
    "#### 🧭 Check Your Work\n",
    "\n",
    "Run the code cell below to test your solution.\n",
    "\n",
    "- ✔️ If the code cell runs without errors, you're good to move on.\n",
    "- ❌ If the code cell produces an error, review your code and fix any mistakes.\n"
   ]
  },
  {
   "cell_type": "code",
   "execution_count": null,
   "id": "6bd27917",
   "metadata": {
    "deletable": false,
    "editable": false
   },
   "outputs": [],
   "source": [
    "_test_case = \"average-number-of-reviews-using-a-for-loop\"\n",
    "_points = 10\n",
    "_obfuscate = False\n",
    "\n",
    "tc.assertAlmostEqual(avg_num_reviews, 6084)"
   ]
  },
  {
   "cell_type": "markdown",
   "id": "22266848",
   "metadata": {
    "id": "Dg-bBkF8fGaN"
   },
   "source": [
    "---\n",
    "\n",
    "### 🎯 Challenge 2: Average Number of Reviews using a Function\n",
    "\n",
    "Let's make your logic from the previous question reusable by creating a function.\n",
    "\n",
    "## 👉 Task\n",
    "\n",
    "Create a function named `get_avg_num_reviews()` that returns the average number of reviews of products for a given brand.\n",
    "\n",
    "The `get_avg_num_reviews` function takes the following two parameters:\n",
    "\n",
    "1. `products` - This is a `list` of dictionaries. Each dictionary in the list contains the brand, number of reviews, and name of a beauty product.\n",
    "2. `brand` - This is a string value containing the brand name (e.g., `'Laneige'`).\n",
    "\n",
    "If there is no matching `brand` in the `products` list, return -1.\n",
    "\n",
    "## 💡 Example\n",
    "\n",
    "`get_avg_num_reviews(my_products, \"Laneige\")` should return the average number of reviews of Laneige products in `my_products` list.\n",
    "\n",
    "## 🧭 Expected Output\n",
    "\n",
    "```plaintext\n",
    "6084.0\n",
    "3113.0\n",
    "-1\n",
    "626.0\n",
    "11923.0\n",
    "-1\n",
    "```\n"
   ]
  },
  {
   "cell_type": "code",
   "execution_count": null,
   "id": "08b5949c",
   "metadata": {
    "colab": {
     "base_uri": "https://localhost:8080/"
    },
    "id": "OoYuVAyhem7q",
    "outputId": "8eea66d1-ee93-464c-9889-346fd512d07a"
   },
   "outputs": [],
   "source": [
    "my_products = [\n",
    "    {\"brand\": \"Laneige\", \"num_reviews\": 12715, \"name\": \"Lip Sleeping Mask\"},\n",
    "    {\"brand\": \"The Ordinary\", \"num_reviews\": 2274, \"name\": \"Hyaluronic Acid 2% + B5\"},\n",
    "    {\"brand\": \"Laneige\", \"num_reviews\": 2771, \"name\": \"Water Sleeping Mask\"},\n",
    "    {\"brand\": \"The Ordinary\", \"num_reviews\": 3952, \"name\": \"Niacinamide 10% + Zinc 1%\"},\n",
    "    {\n",
    "        \"brand\": \"Chanel\",\n",
    "        \"num_reviews\": 528,\n",
    "        \"name\": \"CHANCE EAU TENDRE Eau de Toilette\",\n",
    "    },\n",
    "    {\"brand\": \"Laneige\", \"num_reviews\": 2766, \"name\": \"Lip Glowy Balm\"},\n",
    "    {\"brand\": \"Chanel\", \"num_reviews\": 724, \"name\": \"COCO MADEMOISELLE Eau de Parfum\"},\n",
    "]\n",
    "your_products = [\n",
    "    {\"brand\": \"NARS\", \"num_reviews\": 11923, \"name\": \"Radiant Creamy Concealer\"}\n",
    "]\n",
    "\n",
    "\n",
    "# YOUR CODE BEGINS\n",
    "\n",
    "# YOUR CODE ENDS\n",
    "\n",
    "print(get_avg_num_reviews(my_products, \"Laneige\"))\n",
    "print(get_avg_num_reviews(my_products, \"The Ordinary\"))\n",
    "print(\n",
    "    get_avg_num_reviews(my_products, \"Sulwhasoo\")\n",
    ")  # edge case - no matching brand, should return -1\n",
    "print(get_avg_num_reviews(my_products, \"Chanel\"))\n",
    "print(get_avg_num_reviews(your_products, \"NARS\"))\n",
    "print(\n",
    "    get_avg_num_reviews([], \"First Aid Beauty\")\n",
    ")  # edge case - empty, should return -1"
   ]
  },
  {
   "cell_type": "markdown",
   "id": "f78a6048",
   "metadata": {
    "id": "EdrK-mBsem7r"
   },
   "source": [
    "#### 🧭 Check Your Work\n",
    "\n",
    "Run the code cell below to test your solution.\n",
    "\n",
    "- ✔️ If the code cell runs without errors, you're good to move on.\n",
    "- ❌ If the code cell produces an error, review your code and fix any mistakes.\n"
   ]
  },
  {
   "cell_type": "code",
   "execution_count": null,
   "id": "cd666161",
   "metadata": {
    "deletable": false,
    "editable": false,
    "id": "DXDG3nzpem7r"
   },
   "outputs": [],
   "source": [
    "_test_case = \"average-price-of-sneakers-using-a-function\"\n",
    "_points = 15\n",
    "_obfuscate = False\n",
    "\n",
    "tc.assertAlmostEqual(get_avg_num_reviews(my_products, \"Laneige\"), 6084.0)\n",
    "tc.assertAlmostEqual(get_avg_num_reviews(my_products, \"The Ordinary\"), 3113.0)\n",
    "tc.assertAlmostEqual(get_avg_num_reviews(my_products, \"Chanel\"), 626.0)\n",
    "tc.assertAlmostEqual(get_avg_num_reviews(my_products, \"JLo Beauty\"), -1)\n",
    "tc.assertAlmostEqual(get_avg_num_reviews(your_products, \"NARS\"), 11923.0)\n",
    "tc.assertAlmostEqual(get_avg_num_reviews([], \"First Aid Beauty\"), -1)"
   ]
  }
 ],
 "metadata": {
  "kernelspec": {
   "display_name": "Python 3 (ipykernel)",
   "language": "python",
   "name": "python3"
  },
  "language_info": {
   "codemirror_mode": {
    "name": "ipython",
    "version": 3
   },
   "file_extension": ".py",
   "mimetype": "text/x-python",
   "name": "python",
   "nbconvert_exporter": "python",
   "pygments_lexer": "ipython3",
   "version": "3.10.10"
  }
 },
 "nbformat": 4,
 "nbformat_minor": 5
}
