{
 "cells": [
  {
   "cell_type": "markdown",
   "metadata": {},
   "source": [
    "# Pandas Indexing and Updating Cells\n"
   ]
  },
  {
   "cell_type": "markdown",
   "metadata": {},
   "source": [
    "▶️ Import `pandas` and `numpy`.\n"
   ]
  },
  {
   "cell_type": "code",
   "execution_count": 1,
   "metadata": {},
   "outputs": [],
   "source": [
    "import pandas as pd\n",
    "import numpy as np"
   ]
  },
  {
   "cell_type": "markdown",
   "metadata": {},
   "source": [
    "▶️ Create a new `DataFrame` named `df_companies`.\n"
   ]
  },
  {
   "cell_type": "code",
   "execution_count": 2,
   "metadata": {},
   "outputs": [
    {
     "data": {
      "text/html": [
       "<div>\n",
       "<style scoped>\n",
       "    .dataframe tbody tr th:only-of-type {\n",
       "        vertical-align: middle;\n",
       "    }\n",
       "\n",
       "    .dataframe tbody tr th {\n",
       "        vertical-align: top;\n",
       "    }\n",
       "\n",
       "    .dataframe thead th {\n",
       "        text-align: right;\n",
       "    }\n",
       "</style>\n",
       "<table border=\"1\" class=\"dataframe\">\n",
       "  <thead>\n",
       "    <tr style=\"text-align: right;\">\n",
       "      <th></th>\n",
       "      <th>company_name</th>\n",
       "      <th>ticker</th>\n",
       "      <th>headquarters</th>\n",
       "    </tr>\n",
       "  </thead>\n",
       "  <tbody>\n",
       "    <tr>\n",
       "      <th>0</th>\n",
       "      <td>Amazon</td>\n",
       "      <td>AMZN</td>\n",
       "      <td>Champaign</td>\n",
       "    </tr>\n",
       "    <tr>\n",
       "      <th>1</th>\n",
       "      <td>Nvidia</td>\n",
       "      <td>AMD</td>\n",
       "      <td>Santa Clara</td>\n",
       "    </tr>\n",
       "    <tr>\n",
       "      <th>2</th>\n",
       "      <td>Google</td>\n",
       "      <td>NaN</td>\n",
       "      <td>Mountain View</td>\n",
       "    </tr>\n",
       "    <tr>\n",
       "      <th>3</th>\n",
       "      <td>Microsoft</td>\n",
       "      <td>MSFT</td>\n",
       "      <td>Redmond</td>\n",
       "    </tr>\n",
       "    <tr>\n",
       "      <th>4</th>\n",
       "      <td>Adobe</td>\n",
       "      <td>NaN</td>\n",
       "      <td>San Jose</td>\n",
       "    </tr>\n",
       "  </tbody>\n",
       "</table>\n",
       "</div>"
      ],
      "text/plain": [
       "  company_name ticker   headquarters\n",
       "0       Amazon   AMZN      Champaign\n",
       "1       Nvidia    AMD    Santa Clara\n",
       "2       Google    NaN  Mountain View\n",
       "3    Microsoft   MSFT        Redmond\n",
       "4        Adobe    NaN       San Jose"
      ]
     },
     "execution_count": 2,
     "metadata": {},
     "output_type": "execute_result"
    }
   ],
   "source": [
    "df_companies = pd.DataFrame(\n",
    "    {\n",
    "        \"company_name\": [\"Amazon\", \"Nvidia\", \"Google\", \"Microsoft\", \"Adobe\"],\n",
    "        \"ticker\": [\"AMZN\", \"AMD\", np.nan, \"MSFT\", np.nan],\n",
    "        \"headquarters\": [\n",
    "            \"Champaign\",\n",
    "            \"Santa Clara\",\n",
    "            \"Mountain View\",\n",
    "            \"Redmond\",\n",
    "            \"San Jose\",\n",
    "        ],\n",
    "    }\n",
    ")\n",
    "\n",
    "df_companies"
   ]
  },
  {
   "cell_type": "markdown",
   "metadata": {},
   "source": [
    ":::{caution} Missing and Incorrect Values are Intentional\n",
    "`df_companies` purposefully contains missing and incorrect values that need to be fixed.\n",
    "\n",
    "- Google and Adobe's ticker symbols are missing.\n",
    "- NVidia's ticker symbol is incorrect (it should be \"NVDA\" not \"AMD\").\n",
    "- Amazon's headquarters is incorrect (it should be \"Seattle\" not \"Champaign\").\n",
    "\n",
    "We will fix these issues in the upcoming exercises.\n",
    ":::\n"
   ]
  },
  {
   "cell_type": "markdown",
   "metadata": {},
   "source": [
    "---\n",
    "\n",
    "## 📇 What is Indexing?\n",
    "\n",
    "In Pandas, _indexing_ refers to the way we access, select, and reference rows and columns in a `Series` or a `DataFrame`. Indexing is a fundamental operation in Pandas that allows us to manipulate and analyze data efficiently. Think of it as the \"addressing system\" for your data.\n",
    "\n",
    "We have already seen some indexing methods, such as:\n",
    "\n",
    "```python\n",
    "df[\"dept\"]                              # Access a column by its name\n",
    "df.loc[df[\"dept\"] == \"HR\", :]           # Access rows based on a condition (all columns)\n",
    "df.loc[df[\"dept\"] == \"HR\", \"salary\"]    # Access rows based on a condition (specific column)\n",
    "df.iloc[0]                              # Access the first element by its integer position\n",
    "df.iloc[0, 1]                           # Access the element in the first row and second column\n",
    "```\n"
   ]
  },
  {
   "cell_type": "markdown",
   "metadata": {},
   "source": [
    "---\n",
    "\n",
    "## 🔖 `.loc`\n",
    "\n",
    "The `.loc` indexer (\"location by label\") is used to access rows and columns in a `DataFrame` by their labels (i.e., the index and column names). It allows for more intuitive and flexible indexing based on the actual labels of the data.\n",
    "\n",
    "```python\n",
    "df.loc[row_selection, column_selection]  # Access rows and columns by labels\n",
    "df.loc[:, column_selection]              # Access all rows for specific columns\n",
    "df.loc[row_selection, :]                 # Access specific rows for all columns\n",
    "```\n",
    "\n",
    "The `row_selection` and `column_selection` can be:\n",
    "\n",
    "- A single label (e.g., `\"HR\"` or `\"salary\"`).\n",
    "- A list of labels (e.g., `[\"HR\", \"IT\"]` or `[\"salary\", \"dept\"]`).\n",
    "- A boolean array-like data (e.g., `df[\"dept\"] == \"HR\"`).\n",
    "\n",
    "We can use `.loc` to update values in a `DataFrame`. For example, to update the headquarters of Google:\n",
    "\n",
    "```python\n",
    "df.loc[\"row_label\", \"column_name\"] = \"new_value\"\n",
    "```\n",
    "\n",
    "The `.loc` indexer can be used with a `Series` as well:\n",
    "\n",
    "```python\n",
    "my_series = pd.Series([10, 20, 30], index=[\"a\", \"b\", \"c\"])\n",
    "my_series.loc[\"a\"]       # Access the first element (10)\n",
    "my_series.loc[\"b\":\"c\"]   # Access elements from index \"b\" to \"c\" (20, 30)\n",
    "```\n"
   ]
  },
  {
   "cell_type": "markdown",
   "metadata": {},
   "source": [
    "---\n",
    "\n",
    "**🎯 Example: Update Nvidia's ticker using `.loc`**\n",
    "\n",
    "▶️ Show the `DataFrame` before the update:\n"
   ]
  },
  {
   "cell_type": "code",
   "execution_count": 3,
   "metadata": {},
   "outputs": [
    {
     "data": {
      "text/html": [
       "<div>\n",
       "<style scoped>\n",
       "    .dataframe tbody tr th:only-of-type {\n",
       "        vertical-align: middle;\n",
       "    }\n",
       "\n",
       "    .dataframe tbody tr th {\n",
       "        vertical-align: top;\n",
       "    }\n",
       "\n",
       "    .dataframe thead th {\n",
       "        text-align: right;\n",
       "    }\n",
       "</style>\n",
       "<table border=\"1\" class=\"dataframe\">\n",
       "  <thead>\n",
       "    <tr style=\"text-align: right;\">\n",
       "      <th></th>\n",
       "      <th>company_name</th>\n",
       "      <th>ticker</th>\n",
       "      <th>headquarters</th>\n",
       "    </tr>\n",
       "  </thead>\n",
       "  <tbody>\n",
       "    <tr>\n",
       "      <th>1</th>\n",
       "      <td>Nvidia</td>\n",
       "      <td>AMD</td>\n",
       "      <td>Santa Clara</td>\n",
       "    </tr>\n",
       "  </tbody>\n",
       "</table>\n",
       "</div>"
      ],
      "text/plain": [
       "  company_name ticker headquarters\n",
       "1       Nvidia    AMD  Santa Clara"
      ]
     },
     "execution_count": 3,
     "metadata": {},
     "output_type": "execute_result"
    }
   ],
   "source": [
    "df_companies[df_companies[\"company_name\"] == \"Nvidia\"]"
   ]
  },
  {
   "cell_type": "markdown",
   "metadata": {},
   "source": [
    "To update one or more cells in a `DataFrame`, we can use the `.loc` indexer to specify the rows and columns we want to update, and then assign new values to those cells.\n",
    "\n",
    "In the code below, we update Nvidia's ticker symbol from \"AMD\" to \"NVDA\" by specifying the row where the `company_name` is \"Nvidia\" and the `ticker` column.\n",
    "\n",
    "▶️ Update Nvidia's ticker symbol from \"AMD\" to \"NVDA\":\n"
   ]
  },
  {
   "cell_type": "code",
   "execution_count": 4,
   "metadata": {},
   "outputs": [],
   "source": [
    "df_companies.loc[df_companies[\"company_name\"] == \"Nvidia\", \"ticker\"] = \"NVDA\""
   ]
  },
  {
   "cell_type": "markdown",
   "metadata": {},
   "source": [
    "▶️ Show the `DataFrame` after the update:\n"
   ]
  },
  {
   "cell_type": "code",
   "execution_count": 5,
   "metadata": {},
   "outputs": [
    {
     "data": {
      "text/html": [
       "<div>\n",
       "<style scoped>\n",
       "    .dataframe tbody tr th:only-of-type {\n",
       "        vertical-align: middle;\n",
       "    }\n",
       "\n",
       "    .dataframe tbody tr th {\n",
       "        vertical-align: top;\n",
       "    }\n",
       "\n",
       "    .dataframe thead th {\n",
       "        text-align: right;\n",
       "    }\n",
       "</style>\n",
       "<table border=\"1\" class=\"dataframe\">\n",
       "  <thead>\n",
       "    <tr style=\"text-align: right;\">\n",
       "      <th></th>\n",
       "      <th>company_name</th>\n",
       "      <th>ticker</th>\n",
       "      <th>headquarters</th>\n",
       "    </tr>\n",
       "  </thead>\n",
       "  <tbody>\n",
       "    <tr>\n",
       "      <th>1</th>\n",
       "      <td>Nvidia</td>\n",
       "      <td>NVDA</td>\n",
       "      <td>Santa Clara</td>\n",
       "    </tr>\n",
       "  </tbody>\n",
       "</table>\n",
       "</div>"
      ],
      "text/plain": [
       "  company_name ticker headquarters\n",
       "1       Nvidia   NVDA  Santa Clara"
      ]
     },
     "metadata": {},
     "output_type": "display_data"
    }
   ],
   "source": [
    "display(df_companies[df_companies[\"company_name\"] == \"Nvidia\"])"
   ]
  },
  {
   "cell_type": "markdown",
   "metadata": {},
   "source": [
    "---\n",
    "\n",
    "**🎯 Example: Fill in missing tickers using `.loc`**\n",
    "\n",
    "▶️ Show the `DataFrame` before the update:\n"
   ]
  },
  {
   "cell_type": "code",
   "execution_count": 6,
   "metadata": {},
   "outputs": [
    {
     "data": {
      "text/html": [
       "<div>\n",
       "<style scoped>\n",
       "    .dataframe tbody tr th:only-of-type {\n",
       "        vertical-align: middle;\n",
       "    }\n",
       "\n",
       "    .dataframe tbody tr th {\n",
       "        vertical-align: top;\n",
       "    }\n",
       "\n",
       "    .dataframe thead th {\n",
       "        text-align: right;\n",
       "    }\n",
       "</style>\n",
       "<table border=\"1\" class=\"dataframe\">\n",
       "  <thead>\n",
       "    <tr style=\"text-align: right;\">\n",
       "      <th></th>\n",
       "      <th>company_name</th>\n",
       "      <th>ticker</th>\n",
       "      <th>headquarters</th>\n",
       "    </tr>\n",
       "  </thead>\n",
       "  <tbody>\n",
       "    <tr>\n",
       "      <th>2</th>\n",
       "      <td>Google</td>\n",
       "      <td>NaN</td>\n",
       "      <td>Mountain View</td>\n",
       "    </tr>\n",
       "    <tr>\n",
       "      <th>4</th>\n",
       "      <td>Adobe</td>\n",
       "      <td>NaN</td>\n",
       "      <td>San Jose</td>\n",
       "    </tr>\n",
       "  </tbody>\n",
       "</table>\n",
       "</div>"
      ],
      "text/plain": [
       "  company_name ticker   headquarters\n",
       "2       Google    NaN  Mountain View\n",
       "4        Adobe    NaN       San Jose"
      ]
     },
     "metadata": {},
     "output_type": "display_data"
    }
   ],
   "source": [
    "display(df_companies.loc[df_companies[\"company_name\"].isin([\"Google\", \"Adobe\"])])"
   ]
  },
  {
   "cell_type": "markdown",
   "metadata": {},
   "source": [
    "▶️ Fill in Google and Adobe's missing ticker symbols.\n",
    "\n",
    "The syntax is identical to the previous example, except we are updating two cells this time.\n"
   ]
  },
  {
   "cell_type": "code",
   "execution_count": 7,
   "metadata": {},
   "outputs": [],
   "source": [
    "df_companies.loc[df_companies[\"company_name\"] == \"Google\", \"ticker\"] = \"GOOG\"\n",
    "df_companies.loc[df_companies[\"company_name\"] == \"Adobe\", \"ticker\"] = \"ADBE\""
   ]
  },
  {
   "cell_type": "markdown",
   "metadata": {},
   "source": [
    "▶️ Show the `DataFrame` after the update:\n"
   ]
  },
  {
   "cell_type": "code",
   "execution_count": 8,
   "metadata": {},
   "outputs": [
    {
     "data": {
      "text/html": [
       "<div>\n",
       "<style scoped>\n",
       "    .dataframe tbody tr th:only-of-type {\n",
       "        vertical-align: middle;\n",
       "    }\n",
       "\n",
       "    .dataframe tbody tr th {\n",
       "        vertical-align: top;\n",
       "    }\n",
       "\n",
       "    .dataframe thead th {\n",
       "        text-align: right;\n",
       "    }\n",
       "</style>\n",
       "<table border=\"1\" class=\"dataframe\">\n",
       "  <thead>\n",
       "    <tr style=\"text-align: right;\">\n",
       "      <th></th>\n",
       "      <th>company_name</th>\n",
       "      <th>ticker</th>\n",
       "      <th>headquarters</th>\n",
       "    </tr>\n",
       "  </thead>\n",
       "  <tbody>\n",
       "    <tr>\n",
       "      <th>2</th>\n",
       "      <td>Google</td>\n",
       "      <td>GOOG</td>\n",
       "      <td>Mountain View</td>\n",
       "    </tr>\n",
       "    <tr>\n",
       "      <th>4</th>\n",
       "      <td>Adobe</td>\n",
       "      <td>ADBE</td>\n",
       "      <td>San Jose</td>\n",
       "    </tr>\n",
       "  </tbody>\n",
       "</table>\n",
       "</div>"
      ],
      "text/plain": [
       "  company_name ticker   headquarters\n",
       "2       Google   GOOG  Mountain View\n",
       "4        Adobe   ADBE       San Jose"
      ]
     },
     "metadata": {},
     "output_type": "display_data"
    }
   ],
   "source": [
    "display(df_companies.loc[df_companies[\"company_name\"].isin([\"Google\", \"Adobe\"])])"
   ]
  },
  {
   "cell_type": "markdown",
   "metadata": {},
   "source": [
    "---\n",
    "\n",
    "## 🔢 `.iloc`\n",
    "\n",
    "The `.iloc` indexer (\"integer location\") is used to access rows and columns in a `DataFrame` by their integer positions (i.e., the row and column indices). It is useful when you want to access data based on its position rather than its label.\n",
    "\n",
    "```python\n",
    "df.iloc[row_index, column_index]  # Access rows and columns by integer positions\n",
    "```\n",
    "\n",
    "The `row_index` and `column_index` can be:\n",
    "\n",
    "- A single integer (e.g., `0` or `1`).\n",
    "- A list of integers (e.g., `[0, 2]` or `[1, 3]`).\n",
    "- A slice object (e.g., `0:3` to select the first three rows).\n",
    "\n",
    "The `.iloc` indexer can be used to select a specific element from a `Series` as well.\n",
    "\n",
    "```python\n",
    "my_series = pd.Series([10, 20, 30], index=[\"a\", \"b\", \"c\"])\n",
    "my_series.iloc[0]       # Access the first element (10)\n",
    "my_series.iloc[1:3]     # Access elements from index 1 to 3 (20, 30)\n",
    "```\n",
    "\n",
    "We can also use `.iloc` to update values in a `DataFrame`.\n",
    "\n",
    "```python\n",
    "df.iloc[row_index, column_index] = new_value\n",
    "```\n"
   ]
  },
  {
   "cell_type": "markdown",
   "metadata": {},
   "source": [
    "---\n",
    "\n",
    "**🎯 Example: Update Amazon's headquarters using `.iloc`**\n",
    "\n",
    "▶️ Show the `DataFrame` before the update:\n"
   ]
  },
  {
   "cell_type": "code",
   "execution_count": 9,
   "metadata": {},
   "outputs": [
    {
     "data": {
      "text/html": [
       "<div>\n",
       "<style scoped>\n",
       "    .dataframe tbody tr th:only-of-type {\n",
       "        vertical-align: middle;\n",
       "    }\n",
       "\n",
       "    .dataframe tbody tr th {\n",
       "        vertical-align: top;\n",
       "    }\n",
       "\n",
       "    .dataframe thead th {\n",
       "        text-align: right;\n",
       "    }\n",
       "</style>\n",
       "<table border=\"1\" class=\"dataframe\">\n",
       "  <thead>\n",
       "    <tr style=\"text-align: right;\">\n",
       "      <th></th>\n",
       "      <th>company_name</th>\n",
       "      <th>ticker</th>\n",
       "      <th>headquarters</th>\n",
       "    </tr>\n",
       "  </thead>\n",
       "  <tbody>\n",
       "    <tr>\n",
       "      <th>0</th>\n",
       "      <td>Amazon</td>\n",
       "      <td>AMZN</td>\n",
       "      <td>Champaign</td>\n",
       "    </tr>\n",
       "    <tr>\n",
       "      <th>1</th>\n",
       "      <td>Nvidia</td>\n",
       "      <td>NVDA</td>\n",
       "      <td>Santa Clara</td>\n",
       "    </tr>\n",
       "    <tr>\n",
       "      <th>2</th>\n",
       "      <td>Google</td>\n",
       "      <td>GOOG</td>\n",
       "      <td>Mountain View</td>\n",
       "    </tr>\n",
       "    <tr>\n",
       "      <th>3</th>\n",
       "      <td>Microsoft</td>\n",
       "      <td>MSFT</td>\n",
       "      <td>Redmond</td>\n",
       "    </tr>\n",
       "    <tr>\n",
       "      <th>4</th>\n",
       "      <td>Adobe</td>\n",
       "      <td>ADBE</td>\n",
       "      <td>San Jose</td>\n",
       "    </tr>\n",
       "  </tbody>\n",
       "</table>\n",
       "</div>"
      ],
      "text/plain": [
       "  company_name ticker   headquarters\n",
       "0       Amazon   AMZN      Champaign\n",
       "1       Nvidia   NVDA    Santa Clara\n",
       "2       Google   GOOG  Mountain View\n",
       "3    Microsoft   MSFT        Redmond\n",
       "4        Adobe   ADBE       San Jose"
      ]
     },
     "execution_count": 9,
     "metadata": {},
     "output_type": "execute_result"
    }
   ],
   "source": [
    "df_companies"
   ]
  },
  {
   "cell_type": "markdown",
   "metadata": {},
   "source": [
    "▶️ Update Amazon's headquarters from \"Champaign\" to \"Seattle\" using `.iloc`.\n"
   ]
  },
  {
   "cell_type": "code",
   "execution_count": 10,
   "metadata": {},
   "outputs": [],
   "source": [
    "df_companies.iloc[0, 2] = \"Seattle\""
   ]
  },
  {
   "cell_type": "markdown",
   "metadata": {},
   "source": [
    ":::{warning} Avoid using `.iloc` for updates based on conditions\n",
    "\n",
    "Using `.iloc` for updating specific cells based on conditions (like company names) is generally not recommended because it relies on the position of the data, which can change if the `DataFrame` is modified (e.g., rows are added or removed). This can lead to errors or unintended updates. `.loc` is preferred for such tasks because it uses labels, which are more stable and meaningful.\n",
    "\n",
    "The example below is for demonstration purposes only. You should never hard-code row and column indices for updates in real-world scenarios.\n",
    ":::\n"
   ]
  },
  {
   "cell_type": "markdown",
   "metadata": {},
   "source": [
    "▶️ Show the `DataFrame` after the update:\n"
   ]
  },
  {
   "cell_type": "code",
   "execution_count": 11,
   "metadata": {},
   "outputs": [
    {
     "data": {
      "text/html": [
       "<div>\n",
       "<style scoped>\n",
       "    .dataframe tbody tr th:only-of-type {\n",
       "        vertical-align: middle;\n",
       "    }\n",
       "\n",
       "    .dataframe tbody tr th {\n",
       "        vertical-align: top;\n",
       "    }\n",
       "\n",
       "    .dataframe thead th {\n",
       "        text-align: right;\n",
       "    }\n",
       "</style>\n",
       "<table border=\"1\" class=\"dataframe\">\n",
       "  <thead>\n",
       "    <tr style=\"text-align: right;\">\n",
       "      <th></th>\n",
       "      <th>company_name</th>\n",
       "      <th>ticker</th>\n",
       "      <th>headquarters</th>\n",
       "    </tr>\n",
       "  </thead>\n",
       "  <tbody>\n",
       "    <tr>\n",
       "      <th>0</th>\n",
       "      <td>Amazon</td>\n",
       "      <td>AMZN</td>\n",
       "      <td>Seattle</td>\n",
       "    </tr>\n",
       "    <tr>\n",
       "      <th>1</th>\n",
       "      <td>Nvidia</td>\n",
       "      <td>NVDA</td>\n",
       "      <td>Santa Clara</td>\n",
       "    </tr>\n",
       "    <tr>\n",
       "      <th>2</th>\n",
       "      <td>Google</td>\n",
       "      <td>GOOG</td>\n",
       "      <td>Mountain View</td>\n",
       "    </tr>\n",
       "    <tr>\n",
       "      <th>3</th>\n",
       "      <td>Microsoft</td>\n",
       "      <td>MSFT</td>\n",
       "      <td>Redmond</td>\n",
       "    </tr>\n",
       "    <tr>\n",
       "      <th>4</th>\n",
       "      <td>Adobe</td>\n",
       "      <td>ADBE</td>\n",
       "      <td>San Jose</td>\n",
       "    </tr>\n",
       "  </tbody>\n",
       "</table>\n",
       "</div>"
      ],
      "text/plain": [
       "  company_name ticker   headquarters\n",
       "0       Amazon   AMZN        Seattle\n",
       "1       Nvidia   NVDA    Santa Clara\n",
       "2       Google   GOOG  Mountain View\n",
       "3    Microsoft   MSFT        Redmond\n",
       "4        Adobe   ADBE       San Jose"
      ]
     },
     "execution_count": 11,
     "metadata": {},
     "output_type": "execute_result"
    }
   ],
   "source": [
    "df_companies"
   ]
  },
  {
   "cell_type": "markdown",
   "metadata": {},
   "source": [
    "---\n",
    "\n",
    "**🎯 Example: Retrieve Microsoft's ticker symbol using `.loc`**\n",
    "\n",
    "▶️ Retrieve Microsoft's ticker symbol using `.loc`.\n"
   ]
  },
  {
   "cell_type": "code",
   "execution_count": 12,
   "metadata": {},
   "outputs": [
    {
     "data": {
      "text/plain": [
       "3    MSFT\n",
       "Name: ticker, dtype: object"
      ]
     },
     "execution_count": 12,
     "metadata": {},
     "output_type": "execute_result"
    }
   ],
   "source": [
    "df_companies.loc[df_companies[\"company_name\"] == \"Microsoft\", \"ticker\"]"
   ]
  },
  {
   "cell_type": "markdown",
   "metadata": {},
   "source": [
    ":::{caution} The data type of the result is a `Series`, not a single value!\n",
    "\n",
    "The result of `df_companies.loc[df_companies[\"company_name\"] == \"Microsoft\", \"ticker\"]` is a `Series`, even though it contains only one value. This is because the `.loc` indexer always returns a `Series` when selecting a single column, even if the selection results in a single value.\n",
    "\n",
    "▶️ We can confirm this by using the `type()` function:\n",
    "\n",
    ":::\n"
   ]
  },
  {
   "cell_type": "code",
   "execution_count": 13,
   "metadata": {},
   "outputs": [
    {
     "data": {
      "text/plain": [
       "pandas.core.series.Series"
      ]
     },
     "execution_count": 13,
     "metadata": {},
     "output_type": "execute_result"
    }
   ],
   "source": [
    "type(df_companies.loc[df_companies[\"company_name\"] == \"Microsoft\", \"ticker\"])"
   ]
  },
  {
   "cell_type": "markdown",
   "metadata": {},
   "source": [
    "▶️ We can retrieve the first element of the resulting `Series` using the `.iloc` indexer. Because we know there is only one matching row, we can use `.iloc[0]` to get the first (and only) element.\n"
   ]
  },
  {
   "cell_type": "code",
   "execution_count": 14,
   "metadata": {},
   "outputs": [
    {
     "data": {
      "text/plain": [
       "'MSFT'"
      ]
     },
     "execution_count": 14,
     "metadata": {},
     "output_type": "execute_result"
    }
   ],
   "source": [
    "df_companies.loc[df_companies[\"company_name\"] == \"Microsoft\", \"ticker\"].iloc[0]"
   ]
  },
  {
   "cell_type": "markdown",
   "metadata": {},
   "source": [
    "▶️ Alternatively, we can use the `.values` attribute to get the underlying NumPy array and then access the first element of that array.\n",
    "\n",
    "This approach is less common but works just as well. Getting the underlying NumPy array may be useful in some scenarios, but for simple retrieval of a single value, using `.iloc[0]` is more straightforward.\n"
   ]
  },
  {
   "cell_type": "code",
   "execution_count": 15,
   "metadata": {},
   "outputs": [
    {
     "data": {
      "text/plain": [
       "'MSFT'"
      ]
     },
     "execution_count": 15,
     "metadata": {},
     "output_type": "execute_result"
    }
   ],
   "source": [
    "df_companies.loc[df_companies[\"company_name\"] == \"Microsoft\", \"ticker\"].values[0]"
   ]
  },
  {
   "cell_type": "markdown",
   "metadata": {},
   "source": [
    "---\n",
    "\n",
    "**🎯 Example: Retrieve Adobe's headquarters location using `.iloc`**\n",
    "\n",
    "▶️ We can retrieve Adobe's headquarters location using `.iloc`. Since Adobe is the last company in the `DataFrame`, we can use negative indexing to access the last row. Similarly, headquarters is the last column, so we can use negative indexing to access the last column as well.\n"
   ]
  },
  {
   "cell_type": "code",
   "execution_count": 16,
   "metadata": {},
   "outputs": [
    {
     "data": {
      "text/plain": [
       "'San Jose'"
      ]
     },
     "execution_count": 16,
     "metadata": {},
     "output_type": "execute_result"
    }
   ],
   "source": [
    "df_companies.iloc[-1, -1]"
   ]
  },
  {
   "cell_type": "markdown",
   "metadata": {},
   "source": [
    ":::{caution} Reminder to Avoid Hard-Coding Indices\n",
    "\n",
    "Hard-coding row and column indices (like `-1` for the last row and last column) is not recommended because it relies on the position of the data, which can change if the `DataFrame` is modified. For example, the code will not work if a new company is added to the `DataFrame`.\n",
    "\n",
    ":::\n"
   ]
  },
  {
   "cell_type": "markdown",
   "metadata": {},
   "source": [
    "---\n",
    "\n",
    "## 🧩 `SettingWithCopyWarning`\n",
    "\n",
    "When updating values in a `DataFrame`, you might encounter a `SettingWithCopyWarning`. This warning indicates that you are trying to set a value on a copy of a slice from a `DataFrame`, which may not have the intended effect.\n",
    "\n",
    "This is one of the most common stumbling blocks when using Pandas. It often occurs when you create a subset of a `DataFrame` and then try to modify that subset.\n",
    "\n",
    "It's Pandas' way of saying:\n",
    "\n",
    "> \"Hey, I’m not sure if you’re changing the **original DataFrame** or just a **temporary copy** (view) of it. Your change might not stick.\"\n",
    "\n",
    "When you filter a `DataFrame`, Pandas may return either:\n",
    "\n",
    "- a **view**: a \"window\" into the original data\n",
    "- a **copy**: a completely separate object in memory\n",
    "\n",
    "Pandas doesn't always know which one it is, so it throws a warning to make sure you're aware of the potential issue.\n",
    "\n",
    "We will demonstrate this with an example.\n",
    "\n",
    "▶️ Create a new `DataFrame` named `df_seats` that contains information about available seats in various courses.\n"
   ]
  },
  {
   "cell_type": "code",
   "execution_count": 17,
   "metadata": {},
   "outputs": [
    {
     "data": {
      "text/html": [
       "<div>\n",
       "<style scoped>\n",
       "    .dataframe tbody tr th:only-of-type {\n",
       "        vertical-align: middle;\n",
       "    }\n",
       "\n",
       "    .dataframe tbody tr th {\n",
       "        vertical-align: top;\n",
       "    }\n",
       "\n",
       "    .dataframe thead th {\n",
       "        text-align: right;\n",
       "    }\n",
       "</style>\n",
       "<table border=\"1\" class=\"dataframe\">\n",
       "  <thead>\n",
       "    <tr style=\"text-align: right;\">\n",
       "      <th></th>\n",
       "      <th>CourseID</th>\n",
       "      <th>Department</th>\n",
       "      <th>Available Seats</th>\n",
       "    </tr>\n",
       "  </thead>\n",
       "  <tbody>\n",
       "    <tr>\n",
       "      <th>0</th>\n",
       "      <td>ACCY 201</td>\n",
       "      <td>ACCY</td>\n",
       "      <td>300</td>\n",
       "    </tr>\n",
       "    <tr>\n",
       "      <th>1</th>\n",
       "      <td>FIN 300</td>\n",
       "      <td>FIN</td>\n",
       "      <td>90</td>\n",
       "    </tr>\n",
       "    <tr>\n",
       "      <th>2</th>\n",
       "      <td>ACCY 202</td>\n",
       "      <td>ACCY</td>\n",
       "      <td>250</td>\n",
       "    </tr>\n",
       "    <tr>\n",
       "      <th>3</th>\n",
       "      <td>BADM 101</td>\n",
       "      <td>BADM</td>\n",
       "      <td>500</td>\n",
       "    </tr>\n",
       "  </tbody>\n",
       "</table>\n",
       "</div>"
      ],
      "text/plain": [
       "   CourseID Department  Available Seats\n",
       "0  ACCY 201       ACCY              300\n",
       "1   FIN 300        FIN               90\n",
       "2  ACCY 202       ACCY              250\n",
       "3  BADM 101       BADM              500"
      ]
     },
     "execution_count": 17,
     "metadata": {},
     "output_type": "execute_result"
    }
   ],
   "source": [
    "df_seats = pd.DataFrame(\n",
    "    {\n",
    "        \"CourseID\": [\"ACCY 201\", \"FIN 300\", \"ACCY 202\", \"BADM 101\"],\n",
    "        \"Department\": [\"ACCY\", \"FIN\", \"ACCY\", \"BADM\"],\n",
    "        \"Available Seats\": [300, 90, 250, 500],\n",
    "    }\n",
    ")\n",
    "\n",
    "df_seats"
   ]
  },
  {
   "cell_type": "markdown",
   "metadata": {},
   "source": [
    "▶️ Filter `df_seats` to create a new `DataFrame` named `df_accy` that only contains accounting courses.\n"
   ]
  },
  {
   "cell_type": "code",
   "execution_count": 18,
   "metadata": {},
   "outputs": [
    {
     "data": {
      "text/html": [
       "<div>\n",
       "<style scoped>\n",
       "    .dataframe tbody tr th:only-of-type {\n",
       "        vertical-align: middle;\n",
       "    }\n",
       "\n",
       "    .dataframe tbody tr th {\n",
       "        vertical-align: top;\n",
       "    }\n",
       "\n",
       "    .dataframe thead th {\n",
       "        text-align: right;\n",
       "    }\n",
       "</style>\n",
       "<table border=\"1\" class=\"dataframe\">\n",
       "  <thead>\n",
       "    <tr style=\"text-align: right;\">\n",
       "      <th></th>\n",
       "      <th>CourseID</th>\n",
       "      <th>Department</th>\n",
       "      <th>Available Seats</th>\n",
       "    </tr>\n",
       "  </thead>\n",
       "  <tbody>\n",
       "    <tr>\n",
       "      <th>0</th>\n",
       "      <td>ACCY 201</td>\n",
       "      <td>ACCY</td>\n",
       "      <td>300</td>\n",
       "    </tr>\n",
       "    <tr>\n",
       "      <th>2</th>\n",
       "      <td>ACCY 202</td>\n",
       "      <td>ACCY</td>\n",
       "      <td>250</td>\n",
       "    </tr>\n",
       "  </tbody>\n",
       "</table>\n",
       "</div>"
      ],
      "text/plain": [
       "   CourseID Department  Available Seats\n",
       "0  ACCY 201       ACCY              300\n",
       "2  ACCY 202       ACCY              250"
      ]
     },
     "execution_count": 18,
     "metadata": {},
     "output_type": "execute_result"
    }
   ],
   "source": [
    "df_accy = df_seats[df_seats[\"Department\"] == \"ACCY\"]\n",
    "df_accy"
   ]
  },
  {
   "cell_type": "markdown",
   "metadata": {},
   "source": [
    "▶️ Increase the available seats for all accounting courses by 10%.\n"
   ]
  },
  {
   "cell_type": "code",
   "execution_count": 19,
   "metadata": {},
   "outputs": [
    {
     "name": "stderr",
     "output_type": "stream",
     "text": [
      "/var/folders/gk/vcjrk04j11z7sqz_nh0vxf9r0000gn/T/ipykernel_77510/3479234074.py:1: SettingWithCopyWarning: \n",
      "A value is trying to be set on a copy of a slice from a DataFrame.\n",
      "Try using .loc[row_indexer,col_indexer] = value instead\n",
      "\n",
      "See the caveats in the documentation: https://pandas.pydata.org/pandas-docs/stable/user_guide/indexing.html#returning-a-view-versus-a-copy\n",
      "  df_accy[\"Available Seats\"] = df_accy[\"Available Seats\"] * 1.1\n"
     ]
    }
   ],
   "source": [
    "df_accy[\"Available Seats\"] = df_accy[\"Available Seats\"] * 1.1"
   ]
  },
  {
   "cell_type": "markdown",
   "metadata": {},
   "source": [
    "You can see the `SettingWithCopyWarning` because `df_accy` is a **slice** of the original `df_seats` DataFrame. When we try to modify `df_accy`, Pandas is unsure if we intend to modify the original `df_seats` DataFrame or just the temporary slice (`df_accy`).\n",
    "\n",
    "▶️ Confirm that the available seats in `df_accy` have been increased by 10%.\n"
   ]
  },
  {
   "cell_type": "code",
   "execution_count": 20,
   "metadata": {},
   "outputs": [
    {
     "data": {
      "text/html": [
       "<div>\n",
       "<style scoped>\n",
       "    .dataframe tbody tr th:only-of-type {\n",
       "        vertical-align: middle;\n",
       "    }\n",
       "\n",
       "    .dataframe tbody tr th {\n",
       "        vertical-align: top;\n",
       "    }\n",
       "\n",
       "    .dataframe thead th {\n",
       "        text-align: right;\n",
       "    }\n",
       "</style>\n",
       "<table border=\"1\" class=\"dataframe\">\n",
       "  <thead>\n",
       "    <tr style=\"text-align: right;\">\n",
       "      <th></th>\n",
       "      <th>CourseID</th>\n",
       "      <th>Department</th>\n",
       "      <th>Available Seats</th>\n",
       "    </tr>\n",
       "  </thead>\n",
       "  <tbody>\n",
       "    <tr>\n",
       "      <th>0</th>\n",
       "      <td>ACCY 201</td>\n",
       "      <td>ACCY</td>\n",
       "      <td>330.0</td>\n",
       "    </tr>\n",
       "    <tr>\n",
       "      <th>2</th>\n",
       "      <td>ACCY 202</td>\n",
       "      <td>ACCY</td>\n",
       "      <td>275.0</td>\n",
       "    </tr>\n",
       "  </tbody>\n",
       "</table>\n",
       "</div>"
      ],
      "text/plain": [
       "   CourseID Department  Available Seats\n",
       "0  ACCY 201       ACCY            330.0\n",
       "2  ACCY 202       ACCY            275.0"
      ]
     },
     "execution_count": 20,
     "metadata": {},
     "output_type": "execute_result"
    }
   ],
   "source": [
    "df_accy"
   ]
  },
  {
   "cell_type": "markdown",
   "metadata": {},
   "source": [
    "▶️ Check the original `df_seats` DataFrame to see if the changes are reflected there as well.\n"
   ]
  },
  {
   "cell_type": "code",
   "execution_count": 21,
   "metadata": {},
   "outputs": [
    {
     "data": {
      "text/html": [
       "<div>\n",
       "<style scoped>\n",
       "    .dataframe tbody tr th:only-of-type {\n",
       "        vertical-align: middle;\n",
       "    }\n",
       "\n",
       "    .dataframe tbody tr th {\n",
       "        vertical-align: top;\n",
       "    }\n",
       "\n",
       "    .dataframe thead th {\n",
       "        text-align: right;\n",
       "    }\n",
       "</style>\n",
       "<table border=\"1\" class=\"dataframe\">\n",
       "  <thead>\n",
       "    <tr style=\"text-align: right;\">\n",
       "      <th></th>\n",
       "      <th>CourseID</th>\n",
       "      <th>Department</th>\n",
       "      <th>Available Seats</th>\n",
       "    </tr>\n",
       "  </thead>\n",
       "  <tbody>\n",
       "    <tr>\n",
       "      <th>0</th>\n",
       "      <td>ACCY 201</td>\n",
       "      <td>ACCY</td>\n",
       "      <td>300</td>\n",
       "    </tr>\n",
       "    <tr>\n",
       "      <th>1</th>\n",
       "      <td>FIN 300</td>\n",
       "      <td>FIN</td>\n",
       "      <td>90</td>\n",
       "    </tr>\n",
       "    <tr>\n",
       "      <th>2</th>\n",
       "      <td>ACCY 202</td>\n",
       "      <td>ACCY</td>\n",
       "      <td>250</td>\n",
       "    </tr>\n",
       "    <tr>\n",
       "      <th>3</th>\n",
       "      <td>BADM 101</td>\n",
       "      <td>BADM</td>\n",
       "      <td>500</td>\n",
       "    </tr>\n",
       "  </tbody>\n",
       "</table>\n",
       "</div>"
      ],
      "text/plain": [
       "   CourseID Department  Available Seats\n",
       "0  ACCY 201       ACCY              300\n",
       "1   FIN 300        FIN               90\n",
       "2  ACCY 202       ACCY              250\n",
       "3  BADM 101       BADM              500"
      ]
     },
     "execution_count": 21,
     "metadata": {},
     "output_type": "execute_result"
    }
   ],
   "source": [
    "df_seats"
   ]
  },
  {
   "cell_type": "markdown",
   "metadata": {},
   "source": [
    "You'll notice that the changes are not reflected in the original `df_seats`. This is because `df_accy` is a separate copy of the data, and modifying it does not affect `df_seats`.\n"
   ]
  },
  {
   "cell_type": "code",
   "execution_count": 22,
   "metadata": {},
   "outputs": [
    {
     "data": {
      "text/html": [
       "<div>\n",
       "<style scoped>\n",
       "    .dataframe tbody tr th:only-of-type {\n",
       "        vertical-align: middle;\n",
       "    }\n",
       "\n",
       "    .dataframe tbody tr th {\n",
       "        vertical-align: top;\n",
       "    }\n",
       "\n",
       "    .dataframe thead th {\n",
       "        text-align: right;\n",
       "    }\n",
       "</style>\n",
       "<table border=\"1\" class=\"dataframe\">\n",
       "  <thead>\n",
       "    <tr style=\"text-align: right;\">\n",
       "      <th></th>\n",
       "      <th>CourseID</th>\n",
       "      <th>Department</th>\n",
       "      <th>Available Seats</th>\n",
       "    </tr>\n",
       "  </thead>\n",
       "  <tbody>\n",
       "    <tr>\n",
       "      <th>0</th>\n",
       "      <td>ACCY 201</td>\n",
       "      <td>ACCY</td>\n",
       "      <td>300</td>\n",
       "    </tr>\n",
       "    <tr>\n",
       "      <th>1</th>\n",
       "      <td>FIN 300</td>\n",
       "      <td>FIN</td>\n",
       "      <td>90</td>\n",
       "    </tr>\n",
       "    <tr>\n",
       "      <th>2</th>\n",
       "      <td>ACCY 202</td>\n",
       "      <td>ACCY</td>\n",
       "      <td>250</td>\n",
       "    </tr>\n",
       "    <tr>\n",
       "      <th>3</th>\n",
       "      <td>BADM 101</td>\n",
       "      <td>BADM</td>\n",
       "      <td>500</td>\n",
       "    </tr>\n",
       "  </tbody>\n",
       "</table>\n",
       "</div>"
      ],
      "text/plain": [
       "   CourseID Department  Available Seats\n",
       "0  ACCY 201       ACCY              300\n",
       "1   FIN 300        FIN               90\n",
       "2  ACCY 202       ACCY              250\n",
       "3  BADM 101       BADM              500"
      ]
     },
     "execution_count": 22,
     "metadata": {},
     "output_type": "execute_result"
    }
   ],
   "source": [
    "df_seats"
   ]
  },
  {
   "cell_type": "markdown",
   "metadata": {},
   "source": [
    ":::{seealso} Use `.copy()` to Avoid `SettingWithCopyWarning`\n",
    "\n",
    "An easy way to avoid the `SettingWithCopyWarning` is to create an explicit copy of the slice using the `.copy()` method. This ensures that you are working with a separate object in memory, and any modifications will not affect the original `DataFrame`.\n",
    "\n",
    "```python\n",
    "df_copy = df.loc[condition].copy()\n",
    "df_copy[\"column_name\"] = new_value\n",
    "```\n",
    "\n",
    ":::\n"
   ]
  }
 ],
 "metadata": {
  "kernelspec": {
   "display_name": "gies",
   "language": "python",
   "name": "python3"
  },
  "language_info": {
   "codemirror_mode": {
    "name": "ipython",
    "version": 3
   },
   "file_extension": ".py",
   "mimetype": "text/x-python",
   "name": "python",
   "nbconvert_exporter": "python",
   "pygments_lexer": "ipython3",
   "version": "3.12.4"
  }
 },
 "nbformat": 4,
 "nbformat_minor": 4
}
