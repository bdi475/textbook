{
 "cells": [
  {
   "cell_type": "markdown",
   "id": "abb58d0b",
   "metadata": {},
   "source": [
    "# Introduction to Pandas\n",
    "\n",
    "Pandas is a powerful and popular open-source data analysis and manipulation library for Python. It provides data structures and functions needed to work with structured data seamlessly. Pandas is built on top of NumPy, another fundamental package for numerical computing in Python, and it is widely used in data science, machine learning, and statistical analysis.\n",
    "\n",
    "![Pandas logo](images/pandas/pandas-logo.png)\n",
    "\n",
    "## 📜 History of Pandas\n",
    "\n",
    "Pandas was created by Wes McKinney for financial analysis in 2008 and has since become one of the most essential tools for data scientists and analysts. The name \"Pandas\" is derived from \"Panel Data,\" which refers to multidimensional data sets commonly used in econometrics.\n",
    "\n",
    ":::{tip} Python _library_\n",
    "A _library_ is a collection of pre-written code that you can use to perform common tasks without having to write the code from scratch. Libraries are designed to be reusable and modular, allowing developers to leverage existing functionality and save time when building applications.\n",
    "\n",
    "It is used interchangeably with the term _package_, although a package is technically a type of library that is organized in a specific way (i.e., it contains a special file called `__init__.py`).\n",
    ":::\n",
    "\n",
    "Pandas is popular for several reasons:\n",
    "\n",
    "1. 🗂️ **Data Structures**: Pandas provides two primary data structures: `Series` (1-dimensional) and `DataFrame` (2-dimensional). These structures are flexible and allow for easy manipulation of data.\n",
    "2. 🪒 **Data Manipulation**: Pandas offers a wide range of functions for data cleaning, transformation, and analysis. It supports operations like filtering, grouping, merging, reshaping, and handling missing data.\n",
    "3. 🔗 **Integration**: Pandas integrates well with other libraries in the Python ecosystem, such as NumPy, Matplotlib, and Scikit-learn, making it a versatile tool for data science workflows.\n",
    "4. 🏃🏿‍♀️ **Performance**: Pandas is optimized for performance and can handle large datasets efficiently, making it suitable for real-world data analysis tasks.\n",
    "5. 📚 **Community and Documentation**: Pandas has a large and active community, which contributes to its development and provides extensive documentation and tutorials.\n",
    "\n",
    "---\n",
    "\n",
    "## 🚀 Getting Started with Pandas\n",
    "\n",
    "To use Pandas, you first need to install it. This is dependent on your Python environment. If you're not sure, I recommend Googleing \"how to install pandas in [your environment]\".\n",
    "\n",
    "In most cases, you can install Pandas using pip:\n",
    "\n",
    "```bash\n",
    "pip install pandas\n",
    "```\n",
    "\n",
    "If you're using a conda environment, you may wish to install it via conda to ensure compatibility with other packages:\n",
    "\n",
    "```bash\n",
    "conda install -c conda-forge pandas\n",
    "```\n",
    "\n",
    ":::{seealso} What is the `conda-forge` channel?\n",
    "\n",
    "If you have used conda before, you may have noticed that it has multiple channels from which you can install packages. The default channel is maintained by Anaconda, but their release cycle can lag behind the latest versions of some packages.\n",
    "\n",
    "There are many community-driven channels to reflect faster updates and broader coverage of packages. `conda-forge` is one of the most popular community channels and is known for its extensive collection of packages and timely updates. It is maintained by a large community of contributors who ensure that packages are up-to-date and compatible with each other.\n",
    "\n",
    "When you specify `-c conda-forge` in `conda install -c conda-forge`, you are telling conda to prioritize the `conda-forge` channel when searching for the package to install. This can be particularly useful if you want to ensure that you are getting the latest version of a package or if a package is not available in the default channel.\n",
    "\n",
    ":::\n",
    "\n",
    "Once installed, you can import Pandas in your Python script or Jupyter Notebook:\n",
    "\n",
    "```python\n",
    "import pandas as pd\n",
    "```\n",
    "\n",
    ":::{note} What does the `as` keyword in `import pandas as pd` do?\n",
    "It is a common convention to import Pandas as `pd` for brevity.\n",
    "\n",
    "The `as` keyword allows you to create an alias for the module name, making it shorter and easier to reference in your code.\n",
    "\n",
    "In this case, `pd` is a commonly used alias for the Pandas library. You can consider it an industry standard. Instead of typing `pandas` every time you want to use a function or class from the Pandas library, you can simply type `pd`. For example, instead of writing `pandas.rename(columns=...)`, you can write `pd.rename(columns=...)`.\n",
    ":::\n",
    "\n",
    "NumPy is another essential library for numerical computing in Python. It provides support for arrays, matrices, and mathematical functions. Pandas is built on top of NumPy and leverages its capabilities for efficient data manipulation. Therefore, it is common to import both libraries together:\n"
   ]
  },
  {
   "cell_type": "code",
   "execution_count": 1,
   "id": "8f90c80b",
   "metadata": {},
   "outputs": [],
   "source": [
    "import numpy as np\n",
    "import pandas as pd"
   ]
  },
  {
   "cell_type": "markdown",
   "id": "b357c309",
   "metadata": {},
   "source": [
    "---\n",
    "\n",
    "## 🗂️ Pandas Data Structures\n",
    "\n",
    "Pandas provides two primary data structures: `Series` and `DataFrame`.\n",
    "\n",
    "### `Series`\n",
    "\n",
    "A `Series` is a one-dimensional labeled array that can hold any data type (integers, strings, floats, etc.). It is the basic building block of Pandas. It is similar to a column in a spreadsheet or a database table. Each element in a `Series` has an associated index label.\n",
    "\n",
    "Example of creating a `Series`:\n"
   ]
  },
  {
   "cell_type": "code",
   "execution_count": 2,
   "id": "0b807039",
   "metadata": {},
   "outputs": [
    {
     "name": "stdout",
     "output_type": "stream",
     "text": [
      "0    1.0\n",
      "1    2.0\n",
      "2    3.0\n",
      "3    NaN\n",
      "4    5.0\n",
      "5    6.0\n",
      "dtype: float64\n"
     ]
    }
   ],
   "source": [
    "import pandas as pd\n",
    "\n",
    "data = [1, 2, 3, np.nan, 5, 6]\n",
    "series = pd.Series(data)\n",
    "print(series)"
   ]
  },
  {
   "cell_type": "code",
   "execution_count": 3,
   "id": "dcef8ae8",
   "metadata": {},
   "outputs": [
    {
     "data": {
      "text/plain": [
       "pandas.core.series.Series"
      ]
     },
     "execution_count": 3,
     "metadata": {},
     "output_type": "execute_result"
    }
   ],
   "source": [
    "type(series)"
   ]
  },
  {
   "cell_type": "markdown",
   "id": "50cc82bb",
   "metadata": {},
   "source": [
    "You'll notice that the `Series` above looks similar to a Python `list`, but it has some additional features.\n",
    "\n",
    "#### Additional Features of a `Series`\n",
    "\n",
    "1. 🔢 **Indexing**: Each element in a `Series` has an associated index label, which allows for easy access and manipulation of data. In the example above, the index labels are `0, 1, 2, 3, 4, 5` (`RangeIndex(start=0, stop=6, step=1)`).\n",
    "2. 🧩 **Data Types**: A `Series` can hold data of different types, but all elements in a single `Series` must be of the same type. In the example above, all elements are `float64`, as indicated by the `dtype` attribute at the bottom.\n",
    "3. 🚑 **Handling Missing Data**: Pandas provides built-in support for handling missing data using `NaN` (Not a Number) values. In the example above, `np.nan` represents a missing value.\n",
    "4. ⚡ **Vectorized Operations**: You can perform operations on entire `Series` objects without the need for explicit loops, making it efficient for data manipulation.\n",
    "5. 📏 **Broadcasting**: When performing operations on `Series`, Pandas will automatically extend the operation to all elements or compatible dimensions.\n",
    "\n",
    ":::{important} Missing Values: `np.nan`\n",
    "`np.nan` is a special floating-point value that represents \"Not a Number.\" It is used to indicate missing or undefined values in numerical computations. In Pandas, `np.nan` is commonly used to represent missing data in `Series` and `DataFrame` objects.\n",
    ":::\n",
    "\n",
    ":::{seealso} Why does Pandas use `np.nan` for missing values instead of Python's built-in `None`?\n",
    "\n",
    "When Pandas was first developed, it was built on top of NumPy, which is a library for numerical computing in Python. NumPy uses `np.nan` to represent missing values in its arrays. Since Pandas is designed to work seamlessly with NumPy, it adopted the same convention for handling missing data.\n",
    "\n",
    "In the recent versions of Pandas, `pd.NA` has been introduced as a more general representation of missing values that can be used across different data types, including integers, strings, and booleans. However, `np.nan` is still widely used, especially in numerical contexts.\n",
    ":::\n"
   ]
  },
  {
   "cell_type": "markdown",
   "id": "1c84de87",
   "metadata": {},
   "source": [
    "**Broadcasting Example**\n",
    "\n",
    "A Python list will not support broadcasting. For example, `my_list` below will repeat the entire list when you multiply it by 2:\n"
   ]
  },
  {
   "cell_type": "code",
   "execution_count": 4,
   "id": "372f1887",
   "metadata": {},
   "outputs": [
    {
     "name": "stdout",
     "output_type": "stream",
     "text": [
      "<class 'list'>\n"
     ]
    },
    {
     "data": {
      "text/plain": [
       "[1, 2, 3, 4, 1, 2, 3, 4]"
      ]
     },
     "metadata": {},
     "output_type": "display_data"
    }
   ],
   "source": [
    "my_list = [1, 2, 3, 4]\n",
    "\n",
    "print(type(my_list))\n",
    "display(my_list * 2)"
   ]
  },
  {
   "cell_type": "markdown",
   "id": "9763c93e",
   "metadata": {},
   "source": [
    "In a Pandas `Series`, however, the multiplication will be applied to each individual element:\n"
   ]
  },
  {
   "cell_type": "code",
   "execution_count": 5,
   "id": "0b35e389",
   "metadata": {},
   "outputs": [
    {
     "name": "stdout",
     "output_type": "stream",
     "text": [
      "<class 'pandas.core.series.Series'>\n"
     ]
    },
    {
     "data": {
      "text/plain": [
       "0    2\n",
       "1    4\n",
       "2    6\n",
       "3    8\n",
       "dtype: int64"
      ]
     },
     "metadata": {},
     "output_type": "display_data"
    }
   ],
   "source": [
    "my_series = pd.Series([1, 2, 3, 4])\n",
    "\n",
    "print(type(my_series))\n",
    "display(my_series * 2)"
   ]
  },
  {
   "cell_type": "markdown",
   "id": "ff91c121",
   "metadata": {
    "id": "Dg-bBkF8fGaN"
   },
   "source": [
    "#### Creating a `Series`\n",
    "\n",
    "To create a `Series`, you can use the `pd.Series()` constructor and pass in a list or array-like object:\n"
   ]
  },
  {
   "cell_type": "code",
   "execution_count": 6,
   "id": "aaa01f50",
   "metadata": {},
   "outputs": [
    {
     "data": {
      "text/plain": [
       "0    10\n",
       "1    20\n",
       "2    30\n",
       "dtype: int64"
      ]
     },
     "execution_count": 6,
     "metadata": {},
     "output_type": "execute_result"
    }
   ],
   "source": [
    "my_series = pd.Series([10, 20, 30])\n",
    "\n",
    "my_series"
   ]
  },
  {
   "cell_type": "markdown",
   "id": "3870734e",
   "metadata": {},
   "source": [
    "#### Using `Series` methods\n",
    "\n",
    "A pandas `Series` is similar to a Python `list`. However, a `Series` provides many methods (equivalent to functions) for you to use.\n",
    "\n",
    "As an example, `num_reviews.mean()` will return the average number of reviews in the code below.\n"
   ]
  },
  {
   "cell_type": "code",
   "execution_count": 7,
   "id": "1982fc6a",
   "metadata": {},
   "outputs": [
    {
     "name": "stdout",
     "output_type": "stream",
     "text": [
      "3675.714285714286\n"
     ]
    }
   ],
   "source": [
    "reviews_count = [12715, 2274, 2771, 3952, 528, 2766, 724]\n",
    "num_reviews = pd.Series(reviews_count)\n",
    "\n",
    "print(num_reviews.mean())"
   ]
  },
  {
   "cell_type": "markdown",
   "id": "9aafaf7b",
   "metadata": {},
   "source": [
    "There are many other methods available for `Series` objects, such as `sum()`, `min()`, `max()`, `std()`, and more. You can explore the [Pandas documentation](https://pandas.pydata.org/pandas-docs/stable/reference/series.html) for a comprehensive list of available methods.\n"
   ]
  },
  {
   "cell_type": "markdown",
   "id": "9490e3ca",
   "metadata": {},
   "source": [
    "#### `Series` properties\n",
    "\n",
    "You can also access various properties of a `Series` object, such as `dtype`, `index`, `values`, and `shape`. These properties provide information about the data type, index labels, and underlying data of the `Series`, respectively.\n"
   ]
  },
  {
   "cell_type": "code",
   "execution_count": 8,
   "id": "b2049ee3",
   "metadata": {},
   "outputs": [
    {
     "data": {
      "text/plain": [
       "dtype('int64')"
      ]
     },
     "execution_count": 8,
     "metadata": {},
     "output_type": "execute_result"
    }
   ],
   "source": [
    "num_reviews.dtype"
   ]
  },
  {
   "cell_type": "code",
   "execution_count": 9,
   "id": "99cfb22f",
   "metadata": {},
   "outputs": [
    {
     "data": {
      "text/plain": [
       "RangeIndex(start=0, stop=7, step=1)"
      ]
     },
     "execution_count": 9,
     "metadata": {},
     "output_type": "execute_result"
    }
   ],
   "source": [
    "num_reviews.index"
   ]
  },
  {
   "cell_type": "code",
   "execution_count": 10,
   "id": "497fb2ce",
   "metadata": {},
   "outputs": [
    {
     "data": {
      "text/plain": [
       "array([12715,  2274,  2771,  3952,   528,  2766,   724], dtype=int64)"
      ]
     },
     "execution_count": 10,
     "metadata": {},
     "output_type": "execute_result"
    }
   ],
   "source": [
    "num_reviews.values"
   ]
  },
  {
   "cell_type": "code",
   "execution_count": 11,
   "id": "186ffc6f",
   "metadata": {},
   "outputs": [
    {
     "data": {
      "text/plain": [
       "(7,)"
      ]
     },
     "execution_count": 11,
     "metadata": {},
     "output_type": "execute_result"
    }
   ],
   "source": [
    "num_reviews.shape"
   ]
  },
  {
   "cell_type": "markdown",
   "id": "f0a85ed7",
   "metadata": {},
   "source": [
    "---\n",
    "\n",
    "## `DataFrame`\n",
    "\n",
    "A `DataFrame` is a two-dimensional labeled data structure that can hold multiple `Series` (columns) of different data types. It is similar to a spreadsheet or a SQL table. Each column in a `DataFrame` is a `Series`, and each row represents a record. `DataFrame` can be thought of as a collection of `Series` that share the same index.\n",
    "\n",
    "### Why use `DataFrame`?\n",
    "\n",
    "1. 🗂️ **Tabular Data**: `DataFrame` is ideal for representing tabular data, where each column can have a different data type (e.g., integers, floats, strings)\n",
    "2. 🧩 **Heterogeneous Data**: `DataFrame` can hold different data types in each column, making it suitable for complex datasets.\n",
    "3. 🔍 **Powerful Indexing and Selection**: `DataFrame` provides advanced indexing and selection capabilities, allowing you to easily access and manipulate subsets of your data. It supports label-based (`.loc`) and position-based (`.iloc`) indexing, as well as Boolean filtering for easy data subsetting.\n",
    "4. 📥 **I/O Functionality**: `DataFrame` provides built-in methods for reading from and writing to various file formats (e.g., CSV, Excel, SQL databases), making it easy to import and export data.\n",
    "\n",
    "### Create a `DataFrame`\n",
    "\n",
    "There are many ways to create a `DataFrame`, but one of the most common methods is to use a dictionary of lists or arrays, where each key represents a column name and the corresponding value is a list or array of data for that column. Pass the dictionary to the `pd.DataFrame()` constructor:\n"
   ]
  },
  {
   "cell_type": "code",
   "execution_count": 12,
   "id": "796042f9",
   "metadata": {},
   "outputs": [
    {
     "data": {
      "text/html": [
       "<div>\n",
       "<style scoped>\n",
       "    .dataframe tbody tr th:only-of-type {\n",
       "        vertical-align: middle;\n",
       "    }\n",
       "\n",
       "    .dataframe tbody tr th {\n",
       "        vertical-align: top;\n",
       "    }\n",
       "\n",
       "    .dataframe thead th {\n",
       "        text-align: right;\n",
       "    }\n",
       "</style>\n",
       "<table border=\"1\" class=\"dataframe\">\n",
       "  <thead>\n",
       "    <tr style=\"text-align: right;\">\n",
       "      <th></th>\n",
       "      <th>Date</th>\n",
       "      <th>Account</th>\n",
       "      <th>Debit</th>\n",
       "      <th>Credit</th>\n",
       "    </tr>\n",
       "  </thead>\n",
       "  <tbody>\n",
       "    <tr>\n",
       "      <th>0</th>\n",
       "      <td>2025-09-01</td>\n",
       "      <td>Cash</td>\n",
       "      <td>1000</td>\n",
       "      <td>0</td>\n",
       "    </tr>\n",
       "    <tr>\n",
       "      <th>1</th>\n",
       "      <td>2025-09-01</td>\n",
       "      <td>Revenue</td>\n",
       "      <td>0</td>\n",
       "      <td>1000</td>\n",
       "    </tr>\n",
       "    <tr>\n",
       "      <th>2</th>\n",
       "      <td>2025-09-02</td>\n",
       "      <td>Rent Expense</td>\n",
       "      <td>500</td>\n",
       "      <td>0</td>\n",
       "    </tr>\n",
       "    <tr>\n",
       "      <th>3</th>\n",
       "      <td>2025-09-03</td>\n",
       "      <td>Cash</td>\n",
       "      <td>0</td>\n",
       "      <td>500</td>\n",
       "    </tr>\n",
       "  </tbody>\n",
       "</table>\n",
       "</div>"
      ],
      "text/plain": [
       "         Date       Account  Debit  Credit\n",
       "0  2025-09-01          Cash   1000       0\n",
       "1  2025-09-01       Revenue      0    1000\n",
       "2  2025-09-02  Rent Expense    500       0\n",
       "3  2025-09-03          Cash      0     500"
      ]
     },
     "metadata": {},
     "output_type": "display_data"
    }
   ],
   "source": [
    "# Sample accounting data\n",
    "data = {\n",
    "    \"Date\": [\"2025-09-01\", \"2025-09-01\", \"2025-09-02\", \"2025-09-03\"],\n",
    "    \"Account\": [\"Cash\", \"Revenue\", \"Rent Expense\", \"Cash\"],\n",
    "    \"Debit\": [1000, 0, 500, 0],\n",
    "    \"Credit\": [0, 1000, 0, 500],\n",
    "}\n",
    "\n",
    "# Create DataFrame\n",
    "df = pd.DataFrame(data)\n",
    "\n",
    "# Display DataFrame\n",
    "display(df)"
   ]
  },
  {
   "cell_type": "markdown",
   "id": "85f67970",
   "metadata": {},
   "source": [
    ":::{tip} Difference between `print()` and `display()`\n",
    "`print()` is a built-in Python function that outputs text to the console, while `display()` is a Jupyter Notebook function that renders rich representations of objects, such as DataFrames, in a more visually appealing way.\n",
    "\n",
    "In a Jupyter Notebook, you should use `display()` to show DataFrames and other rich objects, as it provides a better visual representation.\n",
    "\n",
    "Using `print()` will show a plain text representation of the DataFrame, while `display()` will render it as a nicely formatted table. Compare the two outputs below:\n",
    ":::\n"
   ]
  },
  {
   "cell_type": "code",
   "execution_count": 13,
   "id": "c88788d7",
   "metadata": {},
   "outputs": [
    {
     "name": "stdout",
     "output_type": "stream",
     "text": [
      "         Date       Account  Debit  Credit\n",
      "0  2025-09-01          Cash   1000       0\n",
      "1  2025-09-01       Revenue      0    1000\n",
      "2  2025-09-02  Rent Expense    500       0\n",
      "3  2025-09-03          Cash      0     500\n"
     ]
    }
   ],
   "source": [
    "print(df)"
   ]
  },
  {
   "cell_type": "code",
   "execution_count": 14,
   "id": "0779eb25",
   "metadata": {},
   "outputs": [
    {
     "data": {
      "text/html": [
       "<div>\n",
       "<style scoped>\n",
       "    .dataframe tbody tr th:only-of-type {\n",
       "        vertical-align: middle;\n",
       "    }\n",
       "\n",
       "    .dataframe tbody tr th {\n",
       "        vertical-align: top;\n",
       "    }\n",
       "\n",
       "    .dataframe thead th {\n",
       "        text-align: right;\n",
       "    }\n",
       "</style>\n",
       "<table border=\"1\" class=\"dataframe\">\n",
       "  <thead>\n",
       "    <tr style=\"text-align: right;\">\n",
       "      <th></th>\n",
       "      <th>Date</th>\n",
       "      <th>Account</th>\n",
       "      <th>Debit</th>\n",
       "      <th>Credit</th>\n",
       "    </tr>\n",
       "  </thead>\n",
       "  <tbody>\n",
       "    <tr>\n",
       "      <th>0</th>\n",
       "      <td>2025-09-01</td>\n",
       "      <td>Cash</td>\n",
       "      <td>1000</td>\n",
       "      <td>0</td>\n",
       "    </tr>\n",
       "    <tr>\n",
       "      <th>1</th>\n",
       "      <td>2025-09-01</td>\n",
       "      <td>Revenue</td>\n",
       "      <td>0</td>\n",
       "      <td>1000</td>\n",
       "    </tr>\n",
       "    <tr>\n",
       "      <th>2</th>\n",
       "      <td>2025-09-02</td>\n",
       "      <td>Rent Expense</td>\n",
       "      <td>500</td>\n",
       "      <td>0</td>\n",
       "    </tr>\n",
       "    <tr>\n",
       "      <th>3</th>\n",
       "      <td>2025-09-03</td>\n",
       "      <td>Cash</td>\n",
       "      <td>0</td>\n",
       "      <td>500</td>\n",
       "    </tr>\n",
       "  </tbody>\n",
       "</table>\n",
       "</div>"
      ],
      "text/plain": [
       "         Date       Account  Debit  Credit\n",
       "0  2025-09-01          Cash   1000       0\n",
       "1  2025-09-01       Revenue      0    1000\n",
       "2  2025-09-02  Rent Expense    500       0\n",
       "3  2025-09-03          Cash      0     500"
      ]
     },
     "metadata": {},
     "output_type": "display_data"
    }
   ],
   "source": [
    "display(df)"
   ]
  },
  {
   "cell_type": "markdown",
   "id": "930451c6-a001-4d5f-8537-6d7ca5002235",
   "metadata": {
    "id": "d5hE9oVSem7n"
   },
   "source": [
    "---\n",
    "\n",
    "#### Concise summary of a `DataFrame`\n",
    "\n",
    "A common way to get a quick overview of a `DataFrame` is to use the `.info()` method. This method provides a concise summary of the `DataFrame`, including the number of non-null entries, data types of each column, and memory usage.\n"
   ]
  },
  {
   "cell_type": "code",
   "execution_count": 15,
   "id": "664d9b88-6b5e-4d97-8848-9ab423dec6fb",
   "metadata": {
    "id": "lg5s3hW2em7n"
   },
   "outputs": [
    {
     "name": "stdout",
     "output_type": "stream",
     "text": [
      "<class 'pandas.core.frame.DataFrame'>\n",
      "RangeIndex: 4 entries, 0 to 3\n",
      "Data columns (total 4 columns):\n",
      " #   Column   Non-Null Count  Dtype \n",
      "---  ------   --------------  ----- \n",
      " 0   Date     4 non-null      object\n",
      " 1   Account  4 non-null      object\n",
      " 2   Debit    4 non-null      int64 \n",
      " 3   Credit   4 non-null      int64 \n",
      "dtypes: int64(2), object(2)\n",
      "memory usage: 260.0+ bytes\n"
     ]
    }
   ],
   "source": [
    "df.info()"
   ]
  },
  {
   "cell_type": "markdown",
   "id": "0e8abd55-1c5e-48e4-8029-c61805535a5f",
   "metadata": {
    "id": "prZjAYOUem7o"
   },
   "source": [
    "👉 From the result of `df.info()`, we can understand a couple of things:\n",
    "\n",
    "- There are 4 columns.\n",
    "- 2 out of 4 columns have the `object` data type.\n",
    "- The second line of the output tells us the number of rows (\"4 entries\").\n",
    "- No columns contain missing values.\n"
   ]
  },
  {
   "cell_type": "markdown",
   "id": "472fa043",
   "metadata": {},
   "source": [
    "#### Creating a `DataFrame` from a CSV file\n",
    "\n",
    "You can also create a `DataFrame` by reading data from a CSV file using the `pd.read_csv()` function. This is a common way to load data into a Pandas `DataFrame` for analysis. This not only supports local files but also files from a URL. In the code below, we read a CSV file from a URL and create a `DataFrame` from it.\n",
    "\n",
    "This is more practical than creating a `DataFrame` from scratch, as real-world data is often stored in files.\n"
   ]
  },
  {
   "cell_type": "code",
   "execution_count": 16,
   "id": "94f09d10",
   "metadata": {},
   "outputs": [
    {
     "data": {
      "text/html": [
       "<div>\n",
       "<style scoped>\n",
       "    .dataframe tbody tr th:only-of-type {\n",
       "        vertical-align: middle;\n",
       "    }\n",
       "\n",
       "    .dataframe tbody tr th {\n",
       "        vertical-align: top;\n",
       "    }\n",
       "\n",
       "    .dataframe thead th {\n",
       "        text-align: right;\n",
       "    }\n",
       "</style>\n",
       "<table border=\"1\" class=\"dataframe\">\n",
       "  <thead>\n",
       "    <tr style=\"text-align: right;\">\n",
       "      <th></th>\n",
       "      <th>Product_ID</th>\n",
       "      <th>Product_Name</th>\n",
       "      <th>Product_Category</th>\n",
       "      <th>Product_Cost</th>\n",
       "      <th>Product_Price</th>\n",
       "    </tr>\n",
       "  </thead>\n",
       "  <tbody>\n",
       "    <tr>\n",
       "      <th>0</th>\n",
       "      <td>1</td>\n",
       "      <td>Action Figure</td>\n",
       "      <td>Toys</td>\n",
       "      <td>9.99</td>\n",
       "      <td>15.99</td>\n",
       "    </tr>\n",
       "    <tr>\n",
       "      <th>1</th>\n",
       "      <td>2</td>\n",
       "      <td>Animal Figures</td>\n",
       "      <td>Toys</td>\n",
       "      <td>9.99</td>\n",
       "      <td>12.99</td>\n",
       "    </tr>\n",
       "    <tr>\n",
       "      <th>2</th>\n",
       "      <td>3</td>\n",
       "      <td>Barrel O' Slime</td>\n",
       "      <td>Art &amp; Crafts</td>\n",
       "      <td>1.99</td>\n",
       "      <td>3.99</td>\n",
       "    </tr>\n",
       "    <tr>\n",
       "      <th>3</th>\n",
       "      <td>4</td>\n",
       "      <td>Chutes &amp; Ladders</td>\n",
       "      <td>Games</td>\n",
       "      <td>9.99</td>\n",
       "      <td>12.99</td>\n",
       "    </tr>\n",
       "    <tr>\n",
       "      <th>4</th>\n",
       "      <td>5</td>\n",
       "      <td>Classic Dominoes</td>\n",
       "      <td>Games</td>\n",
       "      <td>7.99</td>\n",
       "      <td>9.99</td>\n",
       "    </tr>\n",
       "    <tr>\n",
       "      <th>5</th>\n",
       "      <td>6</td>\n",
       "      <td>Colorbuds</td>\n",
       "      <td>Electronics</td>\n",
       "      <td>6.99</td>\n",
       "      <td>14.99</td>\n",
       "    </tr>\n",
       "    <tr>\n",
       "      <th>6</th>\n",
       "      <td>7</td>\n",
       "      <td>Dart Gun</td>\n",
       "      <td>Sports &amp; Outdoors</td>\n",
       "      <td>11.99</td>\n",
       "      <td>15.99</td>\n",
       "    </tr>\n",
       "    <tr>\n",
       "      <th>7</th>\n",
       "      <td>8</td>\n",
       "      <td>Deck Of Cards</td>\n",
       "      <td>Games</td>\n",
       "      <td>3.99</td>\n",
       "      <td>6.99</td>\n",
       "    </tr>\n",
       "    <tr>\n",
       "      <th>8</th>\n",
       "      <td>9</td>\n",
       "      <td>Dino Egg</td>\n",
       "      <td>Toys</td>\n",
       "      <td>9.99</td>\n",
       "      <td>10.99</td>\n",
       "    </tr>\n",
       "    <tr>\n",
       "      <th>9</th>\n",
       "      <td>10</td>\n",
       "      <td>Dinosaur Figures</td>\n",
       "      <td>Toys</td>\n",
       "      <td>10.99</td>\n",
       "      <td>14.99</td>\n",
       "    </tr>\n",
       "    <tr>\n",
       "      <th>10</th>\n",
       "      <td>11</td>\n",
       "      <td>Etch A Sketch</td>\n",
       "      <td>Art &amp; Crafts</td>\n",
       "      <td>10.99</td>\n",
       "      <td>20.99</td>\n",
       "    </tr>\n",
       "    <tr>\n",
       "      <th>11</th>\n",
       "      <td>12</td>\n",
       "      <td>Foam Disk Launcher</td>\n",
       "      <td>Sports &amp; Outdoors</td>\n",
       "      <td>8.99</td>\n",
       "      <td>11.99</td>\n",
       "    </tr>\n",
       "    <tr>\n",
       "      <th>12</th>\n",
       "      <td>13</td>\n",
       "      <td>Gamer Headphones</td>\n",
       "      <td>Electronics</td>\n",
       "      <td>14.99</td>\n",
       "      <td>20.99</td>\n",
       "    </tr>\n",
       "    <tr>\n",
       "      <th>13</th>\n",
       "      <td>14</td>\n",
       "      <td>Glass Marbles</td>\n",
       "      <td>Games</td>\n",
       "      <td>5.99</td>\n",
       "      <td>10.99</td>\n",
       "    </tr>\n",
       "    <tr>\n",
       "      <th>14</th>\n",
       "      <td>15</td>\n",
       "      <td>Hot Wheels 5-Pack</td>\n",
       "      <td>Toys</td>\n",
       "      <td>3.99</td>\n",
       "      <td>5.99</td>\n",
       "    </tr>\n",
       "    <tr>\n",
       "      <th>15</th>\n",
       "      <td>16</td>\n",
       "      <td>Jenga</td>\n",
       "      <td>Games</td>\n",
       "      <td>2.99</td>\n",
       "      <td>9.99</td>\n",
       "    </tr>\n",
       "    <tr>\n",
       "      <th>16</th>\n",
       "      <td>17</td>\n",
       "      <td>Kids Makeup Kit</td>\n",
       "      <td>Art &amp; Crafts</td>\n",
       "      <td>13.99</td>\n",
       "      <td>19.99</td>\n",
       "    </tr>\n",
       "    <tr>\n",
       "      <th>17</th>\n",
       "      <td>18</td>\n",
       "      <td>Lego Bricks</td>\n",
       "      <td>Toys</td>\n",
       "      <td>34.99</td>\n",
       "      <td>39.99</td>\n",
       "    </tr>\n",
       "    <tr>\n",
       "      <th>18</th>\n",
       "      <td>19</td>\n",
       "      <td>Magic Sand</td>\n",
       "      <td>Art &amp; Crafts</td>\n",
       "      <td>13.99</td>\n",
       "      <td>15.99</td>\n",
       "    </tr>\n",
       "    <tr>\n",
       "      <th>19</th>\n",
       "      <td>20</td>\n",
       "      <td>Mini Basketball Hoop</td>\n",
       "      <td>Sports &amp; Outdoors</td>\n",
       "      <td>8.99</td>\n",
       "      <td>24.99</td>\n",
       "    </tr>\n",
       "    <tr>\n",
       "      <th>20</th>\n",
       "      <td>21</td>\n",
       "      <td>Mini Ping Pong Set</td>\n",
       "      <td>Sports &amp; Outdoors</td>\n",
       "      <td>6.99</td>\n",
       "      <td>9.99</td>\n",
       "    </tr>\n",
       "    <tr>\n",
       "      <th>21</th>\n",
       "      <td>22</td>\n",
       "      <td>Monopoly</td>\n",
       "      <td>Games</td>\n",
       "      <td>13.99</td>\n",
       "      <td>19.99</td>\n",
       "    </tr>\n",
       "    <tr>\n",
       "      <th>22</th>\n",
       "      <td>23</td>\n",
       "      <td>Mr. Potatohead</td>\n",
       "      <td>Toys</td>\n",
       "      <td>4.99</td>\n",
       "      <td>9.99</td>\n",
       "    </tr>\n",
       "    <tr>\n",
       "      <th>23</th>\n",
       "      <td>24</td>\n",
       "      <td>Nerf Gun</td>\n",
       "      <td>Sports &amp; Outdoors</td>\n",
       "      <td>14.99</td>\n",
       "      <td>19.99</td>\n",
       "    </tr>\n",
       "    <tr>\n",
       "      <th>24</th>\n",
       "      <td>25</td>\n",
       "      <td>PlayDoh Can</td>\n",
       "      <td>Art &amp; Crafts</td>\n",
       "      <td>1.99</td>\n",
       "      <td>2.99</td>\n",
       "    </tr>\n",
       "    <tr>\n",
       "      <th>25</th>\n",
       "      <td>26</td>\n",
       "      <td>PlayDoh Playset</td>\n",
       "      <td>Art &amp; Crafts</td>\n",
       "      <td>20.99</td>\n",
       "      <td>24.99</td>\n",
       "    </tr>\n",
       "    <tr>\n",
       "      <th>26</th>\n",
       "      <td>27</td>\n",
       "      <td>PlayDoh Toolkit</td>\n",
       "      <td>Art &amp; Crafts</td>\n",
       "      <td>3.99</td>\n",
       "      <td>4.99</td>\n",
       "    </tr>\n",
       "    <tr>\n",
       "      <th>27</th>\n",
       "      <td>28</td>\n",
       "      <td>Playfoam</td>\n",
       "      <td>Art &amp; Crafts</td>\n",
       "      <td>3.99</td>\n",
       "      <td>10.99</td>\n",
       "    </tr>\n",
       "    <tr>\n",
       "      <th>28</th>\n",
       "      <td>29</td>\n",
       "      <td>Plush Pony</td>\n",
       "      <td>Toys</td>\n",
       "      <td>8.99</td>\n",
       "      <td>19.99</td>\n",
       "    </tr>\n",
       "    <tr>\n",
       "      <th>29</th>\n",
       "      <td>30</td>\n",
       "      <td>Rubik's Cube</td>\n",
       "      <td>Games</td>\n",
       "      <td>17.99</td>\n",
       "      <td>19.99</td>\n",
       "    </tr>\n",
       "    <tr>\n",
       "      <th>30</th>\n",
       "      <td>31</td>\n",
       "      <td>Splash Balls</td>\n",
       "      <td>Sports &amp; Outdoors</td>\n",
       "      <td>7.99</td>\n",
       "      <td>8.99</td>\n",
       "    </tr>\n",
       "    <tr>\n",
       "      <th>31</th>\n",
       "      <td>32</td>\n",
       "      <td>Supersoaker Water Gun</td>\n",
       "      <td>Sports &amp; Outdoors</td>\n",
       "      <td>11.99</td>\n",
       "      <td>14.99</td>\n",
       "    </tr>\n",
       "    <tr>\n",
       "      <th>32</th>\n",
       "      <td>33</td>\n",
       "      <td>Teddy Bear</td>\n",
       "      <td>Toys</td>\n",
       "      <td>10.99</td>\n",
       "      <td>12.99</td>\n",
       "    </tr>\n",
       "    <tr>\n",
       "      <th>33</th>\n",
       "      <td>34</td>\n",
       "      <td>Toy Robot</td>\n",
       "      <td>Electronics</td>\n",
       "      <td>20.99</td>\n",
       "      <td>25.99</td>\n",
       "    </tr>\n",
       "    <tr>\n",
       "      <th>34</th>\n",
       "      <td>35</td>\n",
       "      <td>Uno Card Game</td>\n",
       "      <td>Games</td>\n",
       "      <td>3.99</td>\n",
       "      <td>7.99</td>\n",
       "    </tr>\n",
       "  </tbody>\n",
       "</table>\n",
       "</div>"
      ],
      "text/plain": [
       "    Product_ID           Product_Name   Product_Category  Product_Cost  \\\n",
       "0            1          Action Figure               Toys          9.99   \n",
       "1            2         Animal Figures               Toys          9.99   \n",
       "2            3        Barrel O' Slime       Art & Crafts          1.99   \n",
       "3            4       Chutes & Ladders              Games          9.99   \n",
       "4            5       Classic Dominoes              Games          7.99   \n",
       "5            6              Colorbuds        Electronics          6.99   \n",
       "6            7               Dart Gun  Sports & Outdoors         11.99   \n",
       "7            8          Deck Of Cards              Games          3.99   \n",
       "8            9               Dino Egg               Toys          9.99   \n",
       "9           10       Dinosaur Figures               Toys         10.99   \n",
       "10          11          Etch A Sketch       Art & Crafts         10.99   \n",
       "11          12     Foam Disk Launcher  Sports & Outdoors          8.99   \n",
       "12          13       Gamer Headphones        Electronics         14.99   \n",
       "13          14          Glass Marbles              Games          5.99   \n",
       "14          15      Hot Wheels 5-Pack               Toys          3.99   \n",
       "15          16                  Jenga              Games          2.99   \n",
       "16          17        Kids Makeup Kit       Art & Crafts         13.99   \n",
       "17          18            Lego Bricks               Toys         34.99   \n",
       "18          19             Magic Sand       Art & Crafts         13.99   \n",
       "19          20   Mini Basketball Hoop  Sports & Outdoors          8.99   \n",
       "20          21     Mini Ping Pong Set  Sports & Outdoors          6.99   \n",
       "21          22               Monopoly              Games         13.99   \n",
       "22          23         Mr. Potatohead               Toys          4.99   \n",
       "23          24               Nerf Gun  Sports & Outdoors         14.99   \n",
       "24          25            PlayDoh Can       Art & Crafts          1.99   \n",
       "25          26        PlayDoh Playset       Art & Crafts         20.99   \n",
       "26          27        PlayDoh Toolkit       Art & Crafts          3.99   \n",
       "27          28               Playfoam       Art & Crafts          3.99   \n",
       "28          29             Plush Pony               Toys          8.99   \n",
       "29          30           Rubik's Cube              Games         17.99   \n",
       "30          31           Splash Balls  Sports & Outdoors          7.99   \n",
       "31          32  Supersoaker Water Gun  Sports & Outdoors         11.99   \n",
       "32          33             Teddy Bear               Toys         10.99   \n",
       "33          34              Toy Robot        Electronics         20.99   \n",
       "34          35          Uno Card Game              Games          3.99   \n",
       "\n",
       "    Product_Price  \n",
       "0           15.99  \n",
       "1           12.99  \n",
       "2            3.99  \n",
       "3           12.99  \n",
       "4            9.99  \n",
       "5           14.99  \n",
       "6           15.99  \n",
       "7            6.99  \n",
       "8           10.99  \n",
       "9           14.99  \n",
       "10          20.99  \n",
       "11          11.99  \n",
       "12          20.99  \n",
       "13          10.99  \n",
       "14           5.99  \n",
       "15           9.99  \n",
       "16          19.99  \n",
       "17          39.99  \n",
       "18          15.99  \n",
       "19          24.99  \n",
       "20           9.99  \n",
       "21          19.99  \n",
       "22           9.99  \n",
       "23          19.99  \n",
       "24           2.99  \n",
       "25          24.99  \n",
       "26           4.99  \n",
       "27          10.99  \n",
       "28          19.99  \n",
       "29          19.99  \n",
       "30           8.99  \n",
       "31          14.99  \n",
       "32          12.99  \n",
       "33          25.99  \n",
       "34           7.99  "
      ]
     },
     "metadata": {},
     "output_type": "display_data"
    }
   ],
   "source": [
    "df_products = pd.read_csv(\n",
    "    \"https://raw.githubusercontent.com/bdi475/datasets/main/maven-toys-data/products.csv\"\n",
    ")\n",
    "\n",
    "display(df_products)"
   ]
  },
  {
   "cell_type": "markdown",
   "id": "6fe91f08",
   "metadata": {},
   "source": [
    ":::{seealso} Reading External Files\n",
    "The `pd.read_csv()` function reads a comma-separated values (CSV) file into a DataFrame. It is one of the most commonly used functions in Pandas for loading data from external files.\n",
    "\n",
    "There are other functions for reading different file formats, such as `pd.read_excel()` for Excel files, `pd.read_json()` for JSON files, and `pd.read_sql()` for SQL databases.\n",
    "\n",
    "You can even read data from clipboard using `pd.read_clipboard()`, which is useful for quickly importing small datasets copied from spreadsheets or web pages.\n",
    "\n",
    "It can even read data from SAS files using the `pd.read_sas()` function, and SPSS files using the `pd.read_spss()` function.\n",
    "\n",
    "For more information, refer to the [Pandas I/O documentation](https://pandas.pydata.org/pandas-docs/stable/user_guide/io.html).\n",
    ":::\n"
   ]
  },
  {
   "cell_type": "code",
   "execution_count": 17,
   "id": "b73e3ebc",
   "metadata": {},
   "outputs": [
    {
     "name": "stdout",
     "output_type": "stream",
     "text": [
      "<class 'pandas.core.frame.DataFrame'>\n",
      "RangeIndex: 35 entries, 0 to 34\n",
      "Data columns (total 5 columns):\n",
      " #   Column            Non-Null Count  Dtype  \n",
      "---  ------            --------------  -----  \n",
      " 0   Product_ID        35 non-null     int64  \n",
      " 1   Product_Name      35 non-null     object \n",
      " 2   Product_Category  35 non-null     object \n",
      " 3   Product_Cost      35 non-null     float64\n",
      " 4   Product_Price     35 non-null     float64\n",
      "dtypes: float64(2), int64(1), object(2)\n",
      "memory usage: 1.5+ KB\n"
     ]
    }
   ],
   "source": [
    "df_products.info()"
   ]
  },
  {
   "cell_type": "markdown",
   "id": "1374cee3",
   "metadata": {},
   "source": [
    "#### Using `DataFrame` methods\n",
    "\n",
    "There are many methods available for `DataFrame` objects, such as `head()`, `tail()`, `describe()`, `info()`, and more. You can explore the [Pandas documentation](https://pandas.pydata.org/pandas-docs/stable/reference/frame.html) for a comprehensive list of available methods.\n",
    "\n",
    "##### Display first few rows of a `DataFrame`\n"
   ]
  },
  {
   "cell_type": "code",
   "execution_count": 18,
   "id": "98aaa7e7",
   "metadata": {},
   "outputs": [
    {
     "data": {
      "text/html": [
       "<div>\n",
       "<style scoped>\n",
       "    .dataframe tbody tr th:only-of-type {\n",
       "        vertical-align: middle;\n",
       "    }\n",
       "\n",
       "    .dataframe tbody tr th {\n",
       "        vertical-align: top;\n",
       "    }\n",
       "\n",
       "    .dataframe thead th {\n",
       "        text-align: right;\n",
       "    }\n",
       "</style>\n",
       "<table border=\"1\" class=\"dataframe\">\n",
       "  <thead>\n",
       "    <tr style=\"text-align: right;\">\n",
       "      <th></th>\n",
       "      <th>Product_ID</th>\n",
       "      <th>Product_Name</th>\n",
       "      <th>Product_Category</th>\n",
       "      <th>Product_Cost</th>\n",
       "      <th>Product_Price</th>\n",
       "    </tr>\n",
       "  </thead>\n",
       "  <tbody>\n",
       "    <tr>\n",
       "      <th>0</th>\n",
       "      <td>1</td>\n",
       "      <td>Action Figure</td>\n",
       "      <td>Toys</td>\n",
       "      <td>9.99</td>\n",
       "      <td>15.99</td>\n",
       "    </tr>\n",
       "    <tr>\n",
       "      <th>1</th>\n",
       "      <td>2</td>\n",
       "      <td>Animal Figures</td>\n",
       "      <td>Toys</td>\n",
       "      <td>9.99</td>\n",
       "      <td>12.99</td>\n",
       "    </tr>\n",
       "    <tr>\n",
       "      <th>2</th>\n",
       "      <td>3</td>\n",
       "      <td>Barrel O' Slime</td>\n",
       "      <td>Art &amp; Crafts</td>\n",
       "      <td>1.99</td>\n",
       "      <td>3.99</td>\n",
       "    </tr>\n",
       "    <tr>\n",
       "      <th>3</th>\n",
       "      <td>4</td>\n",
       "      <td>Chutes &amp; Ladders</td>\n",
       "      <td>Games</td>\n",
       "      <td>9.99</td>\n",
       "      <td>12.99</td>\n",
       "    </tr>\n",
       "    <tr>\n",
       "      <th>4</th>\n",
       "      <td>5</td>\n",
       "      <td>Classic Dominoes</td>\n",
       "      <td>Games</td>\n",
       "      <td>7.99</td>\n",
       "      <td>9.99</td>\n",
       "    </tr>\n",
       "  </tbody>\n",
       "</table>\n",
       "</div>"
      ],
      "text/plain": [
       "   Product_ID      Product_Name Product_Category  Product_Cost  Product_Price\n",
       "0           1     Action Figure             Toys          9.99          15.99\n",
       "1           2    Animal Figures             Toys          9.99          12.99\n",
       "2           3   Barrel O' Slime     Art & Crafts          1.99           3.99\n",
       "3           4  Chutes & Ladders            Games          9.99          12.99\n",
       "4           5  Classic Dominoes            Games          7.99           9.99"
      ]
     },
     "execution_count": 18,
     "metadata": {},
     "output_type": "execute_result"
    }
   ],
   "source": [
    "df_products.head()"
   ]
  },
  {
   "cell_type": "markdown",
   "id": "3688dc15",
   "metadata": {},
   "source": [
    "##### Display last few rows of a `DataFrame`\n"
   ]
  },
  {
   "cell_type": "code",
   "execution_count": 19,
   "id": "c45632b1",
   "metadata": {},
   "outputs": [
    {
     "data": {
      "text/html": [
       "<div>\n",
       "<style scoped>\n",
       "    .dataframe tbody tr th:only-of-type {\n",
       "        vertical-align: middle;\n",
       "    }\n",
       "\n",
       "    .dataframe tbody tr th {\n",
       "        vertical-align: top;\n",
       "    }\n",
       "\n",
       "    .dataframe thead th {\n",
       "        text-align: right;\n",
       "    }\n",
       "</style>\n",
       "<table border=\"1\" class=\"dataframe\">\n",
       "  <thead>\n",
       "    <tr style=\"text-align: right;\">\n",
       "      <th></th>\n",
       "      <th>Product_ID</th>\n",
       "      <th>Product_Name</th>\n",
       "      <th>Product_Category</th>\n",
       "      <th>Product_Cost</th>\n",
       "      <th>Product_Price</th>\n",
       "    </tr>\n",
       "  </thead>\n",
       "  <tbody>\n",
       "    <tr>\n",
       "      <th>30</th>\n",
       "      <td>31</td>\n",
       "      <td>Splash Balls</td>\n",
       "      <td>Sports &amp; Outdoors</td>\n",
       "      <td>7.99</td>\n",
       "      <td>8.99</td>\n",
       "    </tr>\n",
       "    <tr>\n",
       "      <th>31</th>\n",
       "      <td>32</td>\n",
       "      <td>Supersoaker Water Gun</td>\n",
       "      <td>Sports &amp; Outdoors</td>\n",
       "      <td>11.99</td>\n",
       "      <td>14.99</td>\n",
       "    </tr>\n",
       "    <tr>\n",
       "      <th>32</th>\n",
       "      <td>33</td>\n",
       "      <td>Teddy Bear</td>\n",
       "      <td>Toys</td>\n",
       "      <td>10.99</td>\n",
       "      <td>12.99</td>\n",
       "    </tr>\n",
       "    <tr>\n",
       "      <th>33</th>\n",
       "      <td>34</td>\n",
       "      <td>Toy Robot</td>\n",
       "      <td>Electronics</td>\n",
       "      <td>20.99</td>\n",
       "      <td>25.99</td>\n",
       "    </tr>\n",
       "    <tr>\n",
       "      <th>34</th>\n",
       "      <td>35</td>\n",
       "      <td>Uno Card Game</td>\n",
       "      <td>Games</td>\n",
       "      <td>3.99</td>\n",
       "      <td>7.99</td>\n",
       "    </tr>\n",
       "  </tbody>\n",
       "</table>\n",
       "</div>"
      ],
      "text/plain": [
       "    Product_ID           Product_Name   Product_Category  Product_Cost  \\\n",
       "30          31           Splash Balls  Sports & Outdoors          7.99   \n",
       "31          32  Supersoaker Water Gun  Sports & Outdoors         11.99   \n",
       "32          33             Teddy Bear               Toys         10.99   \n",
       "33          34              Toy Robot        Electronics         20.99   \n",
       "34          35          Uno Card Game              Games          3.99   \n",
       "\n",
       "    Product_Price  \n",
       "30           8.99  \n",
       "31          14.99  \n",
       "32          12.99  \n",
       "33          25.99  \n",
       "34           7.99  "
      ]
     },
     "execution_count": 19,
     "metadata": {},
     "output_type": "execute_result"
    }
   ],
   "source": [
    "df_products.tail()"
   ]
  },
  {
   "cell_type": "markdown",
   "id": "c271d048",
   "metadata": {},
   "source": [
    ":::{note} Number of rows to display\n",
    "Both `head()` and `tail()` methods display the first and last 5 rows of the `DataFrame` by default, respectively.\n",
    "\n",
    "You can specify the number of rows to display by passing an integer argument to the `head()` and `tail()` methods. For example, `df.tail(2)` will display the last 2 rows of the DataFrame.\n",
    ":::\n"
   ]
  },
  {
   "cell_type": "code",
   "execution_count": 20,
   "id": "dc3720cd",
   "metadata": {},
   "outputs": [
    {
     "data": {
      "text/html": [
       "<div>\n",
       "<style scoped>\n",
       "    .dataframe tbody tr th:only-of-type {\n",
       "        vertical-align: middle;\n",
       "    }\n",
       "\n",
       "    .dataframe tbody tr th {\n",
       "        vertical-align: top;\n",
       "    }\n",
       "\n",
       "    .dataframe thead th {\n",
       "        text-align: right;\n",
       "    }\n",
       "</style>\n",
       "<table border=\"1\" class=\"dataframe\">\n",
       "  <thead>\n",
       "    <tr style=\"text-align: right;\">\n",
       "      <th></th>\n",
       "      <th>Product_ID</th>\n",
       "      <th>Product_Name</th>\n",
       "      <th>Product_Category</th>\n",
       "      <th>Product_Cost</th>\n",
       "      <th>Product_Price</th>\n",
       "    </tr>\n",
       "  </thead>\n",
       "  <tbody>\n",
       "    <tr>\n",
       "      <th>33</th>\n",
       "      <td>34</td>\n",
       "      <td>Toy Robot</td>\n",
       "      <td>Electronics</td>\n",
       "      <td>20.99</td>\n",
       "      <td>25.99</td>\n",
       "    </tr>\n",
       "    <tr>\n",
       "      <th>34</th>\n",
       "      <td>35</td>\n",
       "      <td>Uno Card Game</td>\n",
       "      <td>Games</td>\n",
       "      <td>3.99</td>\n",
       "      <td>7.99</td>\n",
       "    </tr>\n",
       "  </tbody>\n",
       "</table>\n",
       "</div>"
      ],
      "text/plain": [
       "    Product_ID   Product_Name Product_Category  Product_Cost  Product_Price\n",
       "33          34      Toy Robot      Electronics         20.99          25.99\n",
       "34          35  Uno Card Game            Games          3.99           7.99"
      ]
     },
     "execution_count": 20,
     "metadata": {},
     "output_type": "execute_result"
    }
   ],
   "source": [
    "df_products.tail(2)"
   ]
  },
  {
   "cell_type": "markdown",
   "id": "b8cceaaa",
   "metadata": {},
   "source": [
    "##### Sample random rows from a `DataFrame`\n"
   ]
  },
  {
   "cell_type": "code",
   "execution_count": 21,
   "id": "092d7e55",
   "metadata": {},
   "outputs": [
    {
     "data": {
      "text/html": [
       "<div>\n",
       "<style scoped>\n",
       "    .dataframe tbody tr th:only-of-type {\n",
       "        vertical-align: middle;\n",
       "    }\n",
       "\n",
       "    .dataframe tbody tr th {\n",
       "        vertical-align: top;\n",
       "    }\n",
       "\n",
       "    .dataframe thead th {\n",
       "        text-align: right;\n",
       "    }\n",
       "</style>\n",
       "<table border=\"1\" class=\"dataframe\">\n",
       "  <thead>\n",
       "    <tr style=\"text-align: right;\">\n",
       "      <th></th>\n",
       "      <th>Product_ID</th>\n",
       "      <th>Product_Name</th>\n",
       "      <th>Product_Category</th>\n",
       "      <th>Product_Cost</th>\n",
       "      <th>Product_Price</th>\n",
       "    </tr>\n",
       "  </thead>\n",
       "  <tbody>\n",
       "    <tr>\n",
       "      <th>24</th>\n",
       "      <td>25</td>\n",
       "      <td>PlayDoh Can</td>\n",
       "      <td>Art &amp; Crafts</td>\n",
       "      <td>1.99</td>\n",
       "      <td>2.99</td>\n",
       "    </tr>\n",
       "  </tbody>\n",
       "</table>\n",
       "</div>"
      ],
      "text/plain": [
       "    Product_ID Product_Name Product_Category  Product_Cost  Product_Price\n",
       "24          25  PlayDoh Can     Art & Crafts          1.99           2.99"
      ]
     },
     "execution_count": 21,
     "metadata": {},
     "output_type": "execute_result"
    }
   ],
   "source": [
    "# randomly sample one row from the DataFrame\n",
    "df_products.sample()"
   ]
  },
  {
   "cell_type": "code",
   "execution_count": 22,
   "id": "7cbb42d4",
   "metadata": {},
   "outputs": [
    {
     "data": {
      "text/html": [
       "<div>\n",
       "<style scoped>\n",
       "    .dataframe tbody tr th:only-of-type {\n",
       "        vertical-align: middle;\n",
       "    }\n",
       "\n",
       "    .dataframe tbody tr th {\n",
       "        vertical-align: top;\n",
       "    }\n",
       "\n",
       "    .dataframe thead th {\n",
       "        text-align: right;\n",
       "    }\n",
       "</style>\n",
       "<table border=\"1\" class=\"dataframe\">\n",
       "  <thead>\n",
       "    <tr style=\"text-align: right;\">\n",
       "      <th></th>\n",
       "      <th>Product_ID</th>\n",
       "      <th>Product_Name</th>\n",
       "      <th>Product_Category</th>\n",
       "      <th>Product_Cost</th>\n",
       "      <th>Product_Price</th>\n",
       "    </tr>\n",
       "  </thead>\n",
       "  <tbody>\n",
       "    <tr>\n",
       "      <th>2</th>\n",
       "      <td>3</td>\n",
       "      <td>Barrel O' Slime</td>\n",
       "      <td>Art &amp; Crafts</td>\n",
       "      <td>1.99</td>\n",
       "      <td>3.99</td>\n",
       "    </tr>\n",
       "    <tr>\n",
       "      <th>1</th>\n",
       "      <td>2</td>\n",
       "      <td>Animal Figures</td>\n",
       "      <td>Toys</td>\n",
       "      <td>9.99</td>\n",
       "      <td>12.99</td>\n",
       "    </tr>\n",
       "    <tr>\n",
       "      <th>11</th>\n",
       "      <td>12</td>\n",
       "      <td>Foam Disk Launcher</td>\n",
       "      <td>Sports &amp; Outdoors</td>\n",
       "      <td>8.99</td>\n",
       "      <td>11.99</td>\n",
       "    </tr>\n",
       "  </tbody>\n",
       "</table>\n",
       "</div>"
      ],
      "text/plain": [
       "    Product_ID        Product_Name   Product_Category  Product_Cost  \\\n",
       "2            3     Barrel O' Slime       Art & Crafts          1.99   \n",
       "1            2      Animal Figures               Toys          9.99   \n",
       "11          12  Foam Disk Launcher  Sports & Outdoors          8.99   \n",
       "\n",
       "    Product_Price  \n",
       "2            3.99  \n",
       "1           12.99  \n",
       "11          11.99  "
      ]
     },
     "execution_count": 22,
     "metadata": {},
     "output_type": "execute_result"
    }
   ],
   "source": [
    "# randomly sample three rows from the DataFrame\n",
    "df_products.sample(3)"
   ]
  },
  {
   "cell_type": "markdown",
   "id": "5aacea94",
   "metadata": {},
   "source": [
    "#### `DataFrame` properties\n",
    "\n",
    "You can also access various properties of a `DataFrame` object, such as `dtypes`, `index`, `columns`, and `shape`. These properties provide information about the data types, index labels, column labels, and the shape of the `DataFrame`, respectively.\n"
   ]
  },
  {
   "cell_type": "code",
   "execution_count": 23,
   "id": "51d6658b",
   "metadata": {},
   "outputs": [
    {
     "data": {
      "text/plain": [
       "Product_ID            int64\n",
       "Product_Name         object\n",
       "Product_Category     object\n",
       "Product_Cost        float64\n",
       "Product_Price       float64\n",
       "dtype: object"
      ]
     },
     "execution_count": 23,
     "metadata": {},
     "output_type": "execute_result"
    }
   ],
   "source": [
    "df_products.dtypes"
   ]
  },
  {
   "cell_type": "code",
   "execution_count": 24,
   "id": "8d583b92",
   "metadata": {},
   "outputs": [
    {
     "data": {
      "text/plain": [
       "RangeIndex(start=0, stop=35, step=1)"
      ]
     },
     "execution_count": 24,
     "metadata": {},
     "output_type": "execute_result"
    }
   ],
   "source": [
    "df_products.index"
   ]
  },
  {
   "cell_type": "code",
   "execution_count": 25,
   "id": "65a75d48",
   "metadata": {},
   "outputs": [
    {
     "data": {
      "text/plain": [
       "array([[1, 'Action Figure', 'Toys', 9.99, 15.99],\n",
       "       [2, 'Animal Figures', 'Toys', 9.99, 12.99],\n",
       "       [3, \"Barrel O' Slime\", 'Art & Crafts', 1.99, 3.99],\n",
       "       [4, 'Chutes & Ladders', 'Games', 9.99, 12.99],\n",
       "       [5, 'Classic Dominoes', 'Games', 7.99, 9.99],\n",
       "       [6, 'Colorbuds', 'Electronics', 6.99, 14.99],\n",
       "       [7, 'Dart Gun', 'Sports & Outdoors', 11.99, 15.99],\n",
       "       [8, 'Deck Of Cards', 'Games', 3.99, 6.99],\n",
       "       [9, 'Dino Egg', 'Toys', 9.99, 10.99],\n",
       "       [10, 'Dinosaur Figures', 'Toys', 10.99, 14.99],\n",
       "       [11, 'Etch A Sketch', 'Art & Crafts', 10.99, 20.99],\n",
       "       [12, 'Foam Disk Launcher', 'Sports & Outdoors', 8.99, 11.99],\n",
       "       [13, 'Gamer Headphones', 'Electronics', 14.99, 20.99],\n",
       "       [14, 'Glass Marbles', 'Games', 5.99, 10.99],\n",
       "       [15, 'Hot Wheels 5-Pack', 'Toys', 3.99, 5.99],\n",
       "       [16, 'Jenga', 'Games', 2.99, 9.99],\n",
       "       [17, 'Kids Makeup Kit', 'Art & Crafts', 13.99, 19.99],\n",
       "       [18, 'Lego Bricks', 'Toys', 34.99, 39.99],\n",
       "       [19, 'Magic Sand', 'Art & Crafts', 13.99, 15.99],\n",
       "       [20, 'Mini Basketball Hoop', 'Sports & Outdoors', 8.99, 24.99],\n",
       "       [21, 'Mini Ping Pong Set', 'Sports & Outdoors', 6.99, 9.99],\n",
       "       [22, 'Monopoly', 'Games', 13.99, 19.99],\n",
       "       [23, 'Mr. Potatohead', 'Toys', 4.99, 9.99],\n",
       "       [24, 'Nerf Gun', 'Sports & Outdoors', 14.99, 19.99],\n",
       "       [25, 'PlayDoh Can', 'Art & Crafts', 1.99, 2.99],\n",
       "       [26, 'PlayDoh Playset', 'Art & Crafts', 20.99, 24.99],\n",
       "       [27, 'PlayDoh Toolkit', 'Art & Crafts', 3.99, 4.99],\n",
       "       [28, 'Playfoam', 'Art & Crafts', 3.99, 10.99],\n",
       "       [29, 'Plush Pony', 'Toys', 8.99, 19.99],\n",
       "       [30, \"Rubik's Cube\", 'Games', 17.99, 19.99],\n",
       "       [31, 'Splash Balls', 'Sports & Outdoors', 7.99, 8.99],\n",
       "       [32, 'Supersoaker Water Gun', 'Sports & Outdoors', 11.99, 14.99],\n",
       "       [33, 'Teddy Bear', 'Toys', 10.99, 12.99],\n",
       "       [34, 'Toy Robot', 'Electronics', 20.99, 25.99],\n",
       "       [35, 'Uno Card Game', 'Games', 3.99, 7.99]], dtype=object)"
      ]
     },
     "execution_count": 25,
     "metadata": {},
     "output_type": "execute_result"
    }
   ],
   "source": [
    "df_products.values"
   ]
  },
  {
   "cell_type": "code",
   "execution_count": 26,
   "id": "d1aa82e3",
   "metadata": {},
   "outputs": [
    {
     "data": {
      "text/plain": [
       "(35, 5)"
      ]
     },
     "execution_count": 26,
     "metadata": {},
     "output_type": "execute_result"
    }
   ],
   "source": [
    "df_products.shape"
   ]
  },
  {
   "cell_type": "markdown",
   "id": "66f3af76",
   "metadata": {},
   "source": [
    ":::{tip} `.shape` property is a _tuple_\n",
    "The `.shape` property of a DataFrame returns a tuple representing the dimensions of the DataFrame. It provides the number of rows and columns in the DataFrame.\n",
    "\n",
    "A tuple is an ordered collection of items that is immutable (cannot be changed after creation). You can think of it as a fixed-size list that cannot be updated once created. In the case of the `.shape` property, it returns a tuple with two elements: the first element is the number of rows, and the second element is the number of columns.\n",
    "\n",
    "```python\n",
    "df_products.shape[0] # number of rows\n",
    "df_products.shape[1] # number of columns\n",
    "\n",
    "num_rows, num_cols = df_products.shape # unpacking the tuple\n",
    "```\n",
    "\n",
    ":::\n"
   ]
  }
 ],
 "metadata": {
  "kernelspec": {
   "display_name": "gies",
   "language": "python",
   "name": "python3"
  },
  "language_info": {
   "codemirror_mode": {
    "name": "ipython",
    "version": 3
   },
   "file_extension": ".py",
   "mimetype": "text/x-python",
   "name": "python",
   "nbconvert_exporter": "python",
   "pygments_lexer": "ipython3",
   "version": "3.12.6"
  }
 },
 "nbformat": 4,
 "nbformat_minor": 5
}
