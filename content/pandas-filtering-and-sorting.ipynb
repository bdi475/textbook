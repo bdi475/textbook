{
 "cells": [
  {
   "cell_type": "markdown",
   "metadata": {
    "id": "x7-fgFpYem7d"
   },
   "source": [
    "# Pandas Filtering and Sorting\n"
   ]
  },
  {
   "cell_type": "markdown",
   "metadata": {},
   "source": [
    "Import `pandas` and `numpy` to follow along with the examples in this page.\n"
   ]
  },
  {
   "cell_type": "code",
   "execution_count": 141,
   "metadata": {
    "id": "jfnhv8_Yem7j"
   },
   "outputs": [],
   "source": [
    "import pandas as pd\n",
    "import numpy as np"
   ]
  },
  {
   "cell_type": "markdown",
   "metadata": {
    "id": "VsIF7Fwwem7r"
   },
   "source": [
    "---\n",
    "\n",
    "## 🧮 Filtering `Series`\n"
   ]
  },
  {
   "cell_type": "markdown",
   "metadata": {
    "id": "8CxUlBg1em7r"
   },
   "source": [
    "To filter rows in a `DataFrame` or `Series`, we can use boolean indexing. This involves creating a boolean mask that indicates which rows meet a certain condition, and then using that mask to select the desired rows.\n",
    "\n",
    "Boolean indexing can be applied to both `DataFrame` and `Series` objects in pandas. This is a powerful and flexible technique for filtering data based on specific criteria.\n",
    "\n",
    "We'll start with a simple example using a `Series`.\n",
    "\n",
    "▶️ Create a `Series` named `nums` with the following four integers: `-20`, `-10`, `10`, `20`.\n"
   ]
  },
  {
   "cell_type": "code",
   "execution_count": 142,
   "metadata": {
    "id": "asoC1rwqem7s",
    "outputId": "16d9da10-fd9b-43a7-f9cf-f02220fa055f"
   },
   "outputs": [
    {
     "data": {
      "text/plain": [
       "0   -20\n",
       "1   -10\n",
       "2    10\n",
       "3    20\n",
       "dtype: int64"
      ]
     },
     "metadata": {},
     "output_type": "display_data"
    }
   ],
   "source": [
    "nums = pd.Series([-20, -10, 10, 20])\n",
    "\n",
    "display(nums)"
   ]
  },
  {
   "cell_type": "markdown",
   "metadata": {
    "id": "UMGcKWQAem7s"
   },
   "source": [
    "👉 Our goal is to filter the `Series` so that it only contains **positive** values. We'll first manually create a boolean mask that indicates which values are positive.\n",
    "\n",
    "▶️ Create a new `Series` named `keep` with the following four boolean values: `False`, `False`, `True`, `True`.\n"
   ]
  },
  {
   "cell_type": "code",
   "execution_count": 143,
   "metadata": {
    "id": "u-NHJJa2em7s",
    "outputId": "c0551ddb-d8a9-4851-d4de-cb6702041310"
   },
   "outputs": [
    {
     "data": {
      "text/plain": [
       "0    False\n",
       "1    False\n",
       "2     True\n",
       "3     True\n",
       "dtype: bool"
      ]
     },
     "metadata": {},
     "output_type": "display_data"
    }
   ],
   "source": [
    "keep = pd.Series([False, False, True, True])\n",
    "\n",
    "display(keep)"
   ]
  },
  {
   "cell_type": "markdown",
   "metadata": {},
   "source": [
    "Let's visualize the two `Series` (`nums` and `keep`) you've created.\n",
    "\n",
    "![nums-and-keep](https://github.com/bdi475/images/blob/main/nums-and-keep-series.png?raw=true)\n"
   ]
  },
  {
   "cell_type": "markdown",
   "metadata": {
    "id": "MoPITf3Cem7s"
   },
   "source": [
    "Once we have a boolean mask (the `keep` `Series`), we can use it to filter the original `Series` (`nums`).\n"
   ]
  },
  {
   "cell_type": "code",
   "execution_count": 144,
   "metadata": {
    "id": "JgnCgE1iem7t",
    "outputId": "988ca472-cfbf-4a74-b398-3e7d77320d7a"
   },
   "outputs": [
    {
     "data": {
      "text/plain": [
       "2    10\n",
       "3    20\n",
       "dtype: int64"
      ]
     },
     "execution_count": 144,
     "metadata": {},
     "output_type": "execute_result"
    }
   ],
   "source": [
    "nums[keep]"
   ]
  },
  {
   "cell_type": "markdown",
   "metadata": {},
   "source": [
    "This can be confusing at first, but the idea is that the `True` values in the `keep` `Series` indicate which values in the `nums` `Series` should be kept. The `False` values indicate which values should be discarded. This is done by passing the `keep` `Series` inside the square brackets of the `nums` `Series`, like this: `nums[keep]`.\n",
    "\n",
    "This is called boolean indexing, and it's a powerful way to filter data in pandas. The boolean `Series` is a boolean _mask_ that tells pandas which values to keep and which to discard.\n",
    "\n",
    "If you're confused about what just happened, this visualization may give you a better idea.\n",
    "\n",
    "![nums-and-keep-filter-result](https://github.com/bdi475/images/blob/main/nums-and-keep-filter-result.png?raw=true)\n"
   ]
  },
  {
   "cell_type": "markdown",
   "metadata": {
    "id": "_QB4TJkhem7t"
   },
   "source": [
    ":::{danger} Same Length Requirement\n",
    "When using boolean indexing, make sure the boolean mask (`keep`) has the same length as the original `Series` (`nums`). Otherwise, you'll encounter an error.\n",
    "\n",
    "For example, if `keep` has fewer elements than `nums`, you'll get an `IndexingError`. In the example below, `keep_incorrect` has only three boolean values, while `nums` has four integers. This raises an `IndexingError`.\n",
    "\n",
    "⛔️ **Heads-up**: The code below will throw an error.\n",
    "\n",
    "```python\n",
    "nums = pd.Series([-20, -10, 10, 20])\n",
    "keep_incorrect = pd.Series([False, False, True])\n",
    "nums[keep_incorrect]\n",
    "# IndexingError: Unalignable boolean Series provided as indexer\n",
    "```\n",
    "\n",
    ":::\n"
   ]
  },
  {
   "cell_type": "markdown",
   "metadata": {
    "id": "sk1tWg9Jem7t"
   },
   "source": [
    "### 🗂️ Creating Boolean Masks Programmatically\n",
    "\n",
    "The previous example was a bit contrived. We manually created a boolean mask (`keep`) to filter the `nums` `Series`. This is not how you would do it in practice. If you had a `Series` with millions of elements, you wouldn't want to manually create a boolean mask with millions of `True` and `False` values.\n",
    "\n",
    "Is there a way to create the boolean mask _programmatically_? Yes! You can use comparison operators to create boolean masks.\n"
   ]
  },
  {
   "cell_type": "code",
   "execution_count": 145,
   "metadata": {
    "id": "o4cfMPaoem7t",
    "outputId": "02d669d8-eb82-4374-c8cf-13f724b09d68"
   },
   "outputs": [
    {
     "data": {
      "text/plain": [
       "0    False\n",
       "1    False\n",
       "2     True\n",
       "3     True\n",
       "dtype: bool"
      ]
     },
     "execution_count": 145,
     "metadata": {},
     "output_type": "execute_result"
    }
   ],
   "source": [
    "keep_by_comparison = nums > 0\n",
    "\n",
    "keep_by_comparison"
   ]
  },
  {
   "cell_type": "markdown",
   "metadata": {
    "id": "y6x0xWCzem7u"
   },
   "source": [
    "The expression `nums > 0` compares each element in the `nums` `Series` to `0`, returning a new boolean `Series` where each value indicates whether the corresponding value in `nums` is greater than `0`.\n",
    "\n",
    "You can use other comparison operators as well, such as `<`, `<=`, `>=`, `==`, and `!=`.\n",
    "\n",
    "The resulting boolean `Series` is identical to the manually created `keep` `Series` from earlier. We can check this using the `pd.testing.assert_series_equal()` function, which raises an error if the two `Series` are not equal.\n"
   ]
  },
  {
   "cell_type": "code",
   "execution_count": 146,
   "metadata": {},
   "outputs": [
    {
     "data": {
      "text/plain": [
       "0    False\n",
       "1    False\n",
       "2     True\n",
       "3     True\n",
       "dtype: bool"
      ]
     },
     "metadata": {},
     "output_type": "display_data"
    },
    {
     "data": {
      "text/plain": [
       "0    False\n",
       "1    False\n",
       "2     True\n",
       "3     True\n",
       "dtype: bool"
      ]
     },
     "metadata": {},
     "output_type": "display_data"
    }
   ],
   "source": [
    "# Manually created boolean mask\n",
    "display(keep)\n",
    "\n",
    "# Programmatically created boolean mask\n",
    "display(keep_by_comparison)\n",
    "\n",
    "# Check that both boolean masks are identical\n",
    "pd.testing.assert_series_equal(keep, keep_by_comparison)"
   ]
  },
  {
   "cell_type": "markdown",
   "metadata": {},
   "source": [
    "We can use the `keep_by_comparison` to filter positive values in `nums`. This works the same way as before where the `True` values in the boolean mask indicate which values to keep. `False` values indicate which values to discard.\n"
   ]
  },
  {
   "cell_type": "code",
   "execution_count": 147,
   "metadata": {
    "id": "Fqai24mKem7u",
    "outputId": "ce2b43ce-d943-4596-d294-9d0a20130045"
   },
   "outputs": [
    {
     "data": {
      "text/plain": [
       "2    10\n",
       "3    20\n",
       "dtype: int64"
      ]
     },
     "execution_count": 147,
     "metadata": {},
     "output_type": "execute_result"
    }
   ],
   "source": [
    "nums[keep_by_comparison]"
   ]
  },
  {
   "cell_type": "markdown",
   "metadata": {
    "id": "TBFHU66Gem7u"
   },
   "source": [
    ":::{tip} Boolean Indexing Does Not Modify Original Data\n",
    "Filtering elements using a boolean mask returns **a new `Series`** without modifying the original `Series`.\n",
    "\n",
    "```python\n",
    "print(\"Negative Values (filtered):\")\n",
    "display(nums[nums < 10])\n",
    "\n",
    "# Output:\n",
    "# Negative Values (filtered):\n",
    "# 0   -20\n",
    "# 1   -10\n",
    "# dtype: int64\n",
    "\n",
    "print(\"\\n\\nOriginal Values:\")\n",
    "display(nums)\n",
    "\n",
    "# Output:\n",
    "# Original Values:\n",
    "# 0   -20\n",
    "# 1   -10\n",
    "# 2    10\n",
    "# 3    20\n",
    "# dtype: int64\n",
    "```\n",
    "\n",
    "Notice how the original `nums` `Series` remains unchanged after filtering.\n",
    ":::\n"
   ]
  },
  {
   "cell_type": "markdown",
   "metadata": {
    "id": "krFaYS9Hem7u"
   },
   "source": [
    "---\n",
    "\n",
    "**🎯 Example: Filter even numbers**\n"
   ]
  },
  {
   "cell_type": "code",
   "execution_count": 148,
   "metadata": {
    "id": "KbnAsgt-em7v",
    "outputId": "c06fef7f-d0bb-41a0-8dec-08388bac4e72"
   },
   "outputs": [
    {
     "data": {
      "text/plain": [
       "0    2\n",
       "2    4\n",
       "3    8\n",
       "4   -2\n",
       "8    4\n",
       "dtype: int64"
      ]
     },
     "execution_count": 148,
     "metadata": {},
     "output_type": "execute_result"
    }
   ],
   "source": [
    "all_nums = pd.Series([2, 5, 4, 8, -2, -5, -11, 13, 4])\n",
    "\n",
    "even_nums = all_nums[all_nums % 2 == 0]\n",
    "\n",
    "even_nums"
   ]
  },
  {
   "cell_type": "markdown",
   "metadata": {},
   "source": [
    "---\n",
    "\n",
    "## 🧩 Filtering a `DataFrame`\n"
   ]
  },
  {
   "cell_type": "markdown",
   "metadata": {},
   "source": [
    "Recall that a `DataFrame` is a collection of one or more columns, where each column is a `Series`. This means that filtering a `DataFrame` is very similar to filtering a `Series`.\n",
    "\n",
    "We'll start by creating a simple `DataFrame` that contains a list of transactions.\n"
   ]
  },
  {
   "cell_type": "code",
   "execution_count": 149,
   "metadata": {},
   "outputs": [
    {
     "data": {
      "text/html": [
       "<div>\n",
       "<style scoped>\n",
       "    .dataframe tbody tr th:only-of-type {\n",
       "        vertical-align: middle;\n",
       "    }\n",
       "\n",
       "    .dataframe tbody tr th {\n",
       "        vertical-align: top;\n",
       "    }\n",
       "\n",
       "    .dataframe thead th {\n",
       "        text-align: right;\n",
       "    }\n",
       "</style>\n",
       "<table border=\"1\" class=\"dataframe\">\n",
       "  <thead>\n",
       "    <tr style=\"text-align: right;\">\n",
       "      <th></th>\n",
       "      <th>name</th>\n",
       "      <th>amount</th>\n",
       "    </tr>\n",
       "  </thead>\n",
       "  <tbody>\n",
       "    <tr>\n",
       "      <th>0</th>\n",
       "      <td>John</td>\n",
       "      <td>-20</td>\n",
       "    </tr>\n",
       "    <tr>\n",
       "      <th>1</th>\n",
       "      <td>Mary</td>\n",
       "      <td>-10</td>\n",
       "    </tr>\n",
       "    <tr>\n",
       "      <th>2</th>\n",
       "      <td>Tom</td>\n",
       "      <td>10</td>\n",
       "    </tr>\n",
       "    <tr>\n",
       "      <th>3</th>\n",
       "      <td>John</td>\n",
       "      <td>20</td>\n",
       "    </tr>\n",
       "  </tbody>\n",
       "</table>\n",
       "</div>"
      ],
      "text/plain": [
       "   name  amount\n",
       "0  John     -20\n",
       "1  Mary     -10\n",
       "2   Tom      10\n",
       "3  John      20"
      ]
     },
     "metadata": {},
     "output_type": "display_data"
    }
   ],
   "source": [
    "df = pd.DataFrame(\n",
    "    {\"name\": [\"John\", \"Mary\", \"Tom\", \"John\"], \"amount\": [-20, -10, 10, 20]}\n",
    ")\n",
    "\n",
    "display(df)"
   ]
  },
  {
   "cell_type": "markdown",
   "metadata": {},
   "source": [
    "Assume we want to filter the `DataFrame` so that it only contains transactions made by `'John'`. There are two transactions made by `'John'`. We can do this by manually creating a boolean mask that indicates which rows have the `name` equal to `'John'`.\n"
   ]
  },
  {
   "cell_type": "code",
   "execution_count": 150,
   "metadata": {},
   "outputs": [
    {
     "data": {
      "text/plain": [
       "0     True\n",
       "1    False\n",
       "2    False\n",
       "3     True\n",
       "dtype: bool"
      ]
     },
     "execution_count": 150,
     "metadata": {},
     "output_type": "execute_result"
    }
   ],
   "source": [
    "is_john = pd.Series([True, False, False, True])\n",
    "\n",
    "is_john"
   ]
  },
  {
   "cell_type": "markdown",
   "metadata": {},
   "source": [
    "As before, the `True` values in the boolean mask indicate which rows to keep. The `False` values indicate which rows to discard. This is done by passing the boolean mask inside the square brackets of the `DataFrame`, like this: `df[is_john]`.\n"
   ]
  },
  {
   "cell_type": "code",
   "execution_count": 151,
   "metadata": {},
   "outputs": [
    {
     "data": {
      "text/html": [
       "<div>\n",
       "<style scoped>\n",
       "    .dataframe tbody tr th:only-of-type {\n",
       "        vertical-align: middle;\n",
       "    }\n",
       "\n",
       "    .dataframe tbody tr th {\n",
       "        vertical-align: top;\n",
       "    }\n",
       "\n",
       "    .dataframe thead th {\n",
       "        text-align: right;\n",
       "    }\n",
       "</style>\n",
       "<table border=\"1\" class=\"dataframe\">\n",
       "  <thead>\n",
       "    <tr style=\"text-align: right;\">\n",
       "      <th></th>\n",
       "      <th>name</th>\n",
       "      <th>amount</th>\n",
       "    </tr>\n",
       "  </thead>\n",
       "  <tbody>\n",
       "    <tr>\n",
       "      <th>0</th>\n",
       "      <td>John</td>\n",
       "      <td>-20</td>\n",
       "    </tr>\n",
       "    <tr>\n",
       "      <th>3</th>\n",
       "      <td>John</td>\n",
       "      <td>20</td>\n",
       "    </tr>\n",
       "  </tbody>\n",
       "</table>\n",
       "</div>"
      ],
      "text/plain": [
       "   name  amount\n",
       "0  John     -20\n",
       "3  John      20"
      ]
     },
     "execution_count": 151,
     "metadata": {},
     "output_type": "execute_result"
    }
   ],
   "source": [
    "result = df[is_john]\n",
    "\n",
    "result"
   ]
  },
  {
   "cell_type": "markdown",
   "metadata": {},
   "source": [
    "The visualization below illustrates how `df[is_john]` works.\n",
    "\n",
    "![mini-dataframe-filter-rows](https://github.com/bdi475/images/blob/main/filter-mini-dataframe-result.png?raw=true)\n",
    "\n",
    "&nbsp;\n"
   ]
  },
  {
   "cell_type": "markdown",
   "metadata": {},
   "source": [
    "**🎯 Example: Find all positive transactions programmatically**\n"
   ]
  },
  {
   "cell_type": "code",
   "execution_count": 152,
   "metadata": {},
   "outputs": [
    {
     "data": {
      "text/html": [
       "<div>\n",
       "<style scoped>\n",
       "    .dataframe tbody tr th:only-of-type {\n",
       "        vertical-align: middle;\n",
       "    }\n",
       "\n",
       "    .dataframe tbody tr th {\n",
       "        vertical-align: top;\n",
       "    }\n",
       "\n",
       "    .dataframe thead th {\n",
       "        text-align: right;\n",
       "    }\n",
       "</style>\n",
       "<table border=\"1\" class=\"dataframe\">\n",
       "  <thead>\n",
       "    <tr style=\"text-align: right;\">\n",
       "      <th></th>\n",
       "      <th>name</th>\n",
       "      <th>amount</th>\n",
       "    </tr>\n",
       "  </thead>\n",
       "  <tbody>\n",
       "    <tr>\n",
       "      <th>0</th>\n",
       "      <td>John</td>\n",
       "      <td>-20</td>\n",
       "    </tr>\n",
       "    <tr>\n",
       "      <th>1</th>\n",
       "      <td>Mary</td>\n",
       "      <td>-10</td>\n",
       "    </tr>\n",
       "    <tr>\n",
       "      <th>2</th>\n",
       "      <td>Tom</td>\n",
       "      <td>10</td>\n",
       "    </tr>\n",
       "    <tr>\n",
       "      <th>3</th>\n",
       "      <td>John</td>\n",
       "      <td>20</td>\n",
       "    </tr>\n",
       "  </tbody>\n",
       "</table>\n",
       "</div>"
      ],
      "text/plain": [
       "   name  amount\n",
       "0  John     -20\n",
       "1  Mary     -10\n",
       "2   Tom      10\n",
       "3  John      20"
      ]
     },
     "execution_count": 152,
     "metadata": {},
     "output_type": "execute_result"
    }
   ],
   "source": [
    "df = pd.DataFrame(\n",
    "    {\"name\": [\"John\", \"Mary\", \"Tom\", \"John\"], \"amount\": [-20, -10, 10, 20]}\n",
    ")\n",
    "df"
   ]
  },
  {
   "cell_type": "markdown",
   "metadata": {},
   "source": [
    "To only keep rows where the transaction amount was positive, we can programmatically create a boolean mask that indicates which rows have the `amount` greater than `0`. We can then use this boolean mask to filter the `DataFrame`.\n"
   ]
  },
  {
   "cell_type": "code",
   "execution_count": 153,
   "metadata": {},
   "outputs": [
    {
     "data": {
      "text/html": [
       "<div>\n",
       "<style scoped>\n",
       "    .dataframe tbody tr th:only-of-type {\n",
       "        vertical-align: middle;\n",
       "    }\n",
       "\n",
       "    .dataframe tbody tr th {\n",
       "        vertical-align: top;\n",
       "    }\n",
       "\n",
       "    .dataframe thead th {\n",
       "        text-align: right;\n",
       "    }\n",
       "</style>\n",
       "<table border=\"1\" class=\"dataframe\">\n",
       "  <thead>\n",
       "    <tr style=\"text-align: right;\">\n",
       "      <th></th>\n",
       "      <th>name</th>\n",
       "      <th>amount</th>\n",
       "    </tr>\n",
       "  </thead>\n",
       "  <tbody>\n",
       "    <tr>\n",
       "      <th>2</th>\n",
       "      <td>Tom</td>\n",
       "      <td>10</td>\n",
       "    </tr>\n",
       "    <tr>\n",
       "      <th>3</th>\n",
       "      <td>John</td>\n",
       "      <td>20</td>\n",
       "    </tr>\n",
       "  </tbody>\n",
       "</table>\n",
       "</div>"
      ],
      "text/plain": [
       "   name  amount\n",
       "2   Tom      10\n",
       "3  John      20"
      ]
     },
     "execution_count": 153,
     "metadata": {},
     "output_type": "execute_result"
    }
   ],
   "source": [
    "df_pos = df[df[\"amount\"] > 0]\n",
    "\n",
    "df_pos"
   ]
  },
  {
   "cell_type": "markdown",
   "metadata": {},
   "source": [
    ":::{note} What does `df[\"amount\"] > 0` do?\n",
    "The expression `df[\"amount\"] > 0` compares each element in the `amount` column of the `DataFrame` to `0`, returning a new boolean `Series` where each value indicates whether the corresponding value in the `amount` column is greater than `0`.\n",
    "\n",
    "Recall that a column in a `DataFrame` is a `Series`. So `df[\"amount\"]` returns the `amount` column as a `Series`. The comparison operator `>` is then applied element-wise to each value in the `amount` `Series`.\n",
    "\n",
    "This is similar to how we created a boolean mask for the `nums` `Series` earlier. Here is the code again for reference:\n",
    "\n",
    "```python\n",
    "# Create the nums Series\n",
    "nums = pd.Series([-20, -10, 10, 20])\n",
    "# Create a boolean mask to keep only positive values\n",
    "keep_by_comparison = nums > 0\n",
    "\n",
    "# Create the DataFrame with transactions\n",
    "df = pd.DataFrame(\n",
    "    {\"name\": [\"John\", \"Mary\", \"Tom\", \"John\"], \"amount\": [-20, -10, 10, 20]}\n",
    ")\n",
    "# Create a boolean mask to keep only positive transactions\n",
    "keep_positive_transactions = df[\"amount\"] > 0\n",
    "```\n",
    "\n",
    ":::\n"
   ]
  },
  {
   "cell_type": "markdown",
   "metadata": {},
   "source": [
    "---\n",
    "\n",
    "## ⚙️ Logical Operators in `pandas`\n"
   ]
  },
  {
   "cell_type": "markdown",
   "metadata": {},
   "source": [
    "Pandas supports logical operations on boolean `Series`. This allows you to combine multiple conditions to create more complex boolean masks.\n",
    "\n",
    "There are three logical operations you can perform on boolean `Series`:\n",
    "\n",
    "- `&`: Logical **AND**\n",
    "- `|`: Logical **OR**\n",
    "- `~`: Logical **NOT**\n",
    "\n",
    "These operators perform element-wise logical operations on the boolean `Series`.\n",
    "\n",
    "For more examples, you can refer to the [Pandas documentation on indexing and selecting data](https://pandas.pydata.org/pandas-docs/stable/user_guide/indexing.html#boolean-indexing).\n"
   ]
  },
  {
   "cell_type": "markdown",
   "metadata": {},
   "source": [
    "### 🤝 Logical AND\n",
    "\n",
    "A logical AND operator `&` returns `True` only if both the operands are `True`.\n",
    "\n",
    "![s1_AND_s2](https://github.com/bdi475/images/blob/main/s1-AND-s2.png?raw=true)\n"
   ]
  },
  {
   "cell_type": "markdown",
   "metadata": {},
   "source": [
    "▶️ Perform a logical AND operation (`&`) on `s1` and `s2` and store the result to a new variable named `s1_AND_s2`.\n"
   ]
  },
  {
   "cell_type": "code",
   "execution_count": 154,
   "metadata": {},
   "outputs": [
    {
     "data": {
      "text/plain": [
       "0     True\n",
       "1    False\n",
       "2    False\n",
       "3    False\n",
       "dtype: bool"
      ]
     },
     "execution_count": 154,
     "metadata": {},
     "output_type": "execute_result"
    }
   ],
   "source": [
    "s1 = pd.Series([True, True, False, False])\n",
    "s2 = pd.Series([True, False, True, False])\n",
    "\n",
    "s1_AND_s2 = s1 & s2\n",
    "s1_AND_s2"
   ]
  },
  {
   "cell_type": "code",
   "execution_count": 155,
   "metadata": {},
   "outputs": [
    {
     "data": {
      "text/html": [
       "<div>\n",
       "<style scoped>\n",
       "    .dataframe tbody tr th:only-of-type {\n",
       "        vertical-align: middle;\n",
       "    }\n",
       "\n",
       "    .dataframe tbody tr th {\n",
       "        vertical-align: top;\n",
       "    }\n",
       "\n",
       "    .dataframe thead th {\n",
       "        text-align: right;\n",
       "    }\n",
       "</style>\n",
       "<table border=\"1\" class=\"dataframe\">\n",
       "  <thead>\n",
       "    <tr style=\"text-align: right;\">\n",
       "      <th></th>\n",
       "      <th>s1</th>\n",
       "      <th>s2</th>\n",
       "      <th>s1_AND_s2</th>\n",
       "    </tr>\n",
       "  </thead>\n",
       "  <tbody>\n",
       "    <tr>\n",
       "      <th>0</th>\n",
       "      <td>True</td>\n",
       "      <td>True</td>\n",
       "      <td>True</td>\n",
       "    </tr>\n",
       "    <tr>\n",
       "      <th>1</th>\n",
       "      <td>True</td>\n",
       "      <td>False</td>\n",
       "      <td>False</td>\n",
       "    </tr>\n",
       "    <tr>\n",
       "      <th>2</th>\n",
       "      <td>False</td>\n",
       "      <td>True</td>\n",
       "      <td>False</td>\n",
       "    </tr>\n",
       "    <tr>\n",
       "      <th>3</th>\n",
       "      <td>False</td>\n",
       "      <td>False</td>\n",
       "      <td>False</td>\n",
       "    </tr>\n",
       "  </tbody>\n",
       "</table>\n",
       "</div>"
      ],
      "text/plain": [
       "      s1     s2  s1_AND_s2\n",
       "0   True   True       True\n",
       "1   True  False      False\n",
       "2  False   True      False\n",
       "3  False  False      False"
      ]
     },
     "execution_count": 155,
     "metadata": {},
     "output_type": "execute_result"
    }
   ],
   "source": [
    "# Display s1, s2, s1_AND_S2 together as a DataFrame\n",
    "pd.DataFrame({\"s1\": s1, \"s2\": s2, \"s1_AND_s2\": s1_AND_s2})"
   ]
  },
  {
   "cell_type": "markdown",
   "metadata": {},
   "source": [
    "### 📍 Logical OR\n",
    "\n",
    "A logical OR operator `|` returns `True` if either of the operands is `True`.\n",
    "\n",
    "![s1_OR_s2](https://github.com/bdi475/images/blob/main/s1-OR-s2.png?raw=true)\n"
   ]
  },
  {
   "cell_type": "markdown",
   "metadata": {},
   "source": [
    "▶️ Perform a logical OR operation (`|`) on `s1` and `s2` and store the result to a new variable named `s1_OR_s2`.\n"
   ]
  },
  {
   "cell_type": "code",
   "execution_count": 156,
   "metadata": {},
   "outputs": [
    {
     "data": {
      "text/plain": [
       "0     True\n",
       "1     True\n",
       "2     True\n",
       "3    False\n",
       "dtype: bool"
      ]
     },
     "execution_count": 156,
     "metadata": {},
     "output_type": "execute_result"
    }
   ],
   "source": [
    "s1 = pd.Series([True, True, False, False])\n",
    "s2 = pd.Series([True, False, True, False])\n",
    "\n",
    "s1_OR_s2 = s1 | s2\n",
    "s1_OR_s2"
   ]
  },
  {
   "cell_type": "code",
   "execution_count": 157,
   "metadata": {},
   "outputs": [
    {
     "data": {
      "text/html": [
       "<div>\n",
       "<style scoped>\n",
       "    .dataframe tbody tr th:only-of-type {\n",
       "        vertical-align: middle;\n",
       "    }\n",
       "\n",
       "    .dataframe tbody tr th {\n",
       "        vertical-align: top;\n",
       "    }\n",
       "\n",
       "    .dataframe thead th {\n",
       "        text-align: right;\n",
       "    }\n",
       "</style>\n",
       "<table border=\"1\" class=\"dataframe\">\n",
       "  <thead>\n",
       "    <tr style=\"text-align: right;\">\n",
       "      <th></th>\n",
       "      <th>s1</th>\n",
       "      <th>s2</th>\n",
       "      <th>s1_OR_s2</th>\n",
       "    </tr>\n",
       "  </thead>\n",
       "  <tbody>\n",
       "    <tr>\n",
       "      <th>0</th>\n",
       "      <td>True</td>\n",
       "      <td>True</td>\n",
       "      <td>True</td>\n",
       "    </tr>\n",
       "    <tr>\n",
       "      <th>1</th>\n",
       "      <td>True</td>\n",
       "      <td>False</td>\n",
       "      <td>True</td>\n",
       "    </tr>\n",
       "    <tr>\n",
       "      <th>2</th>\n",
       "      <td>False</td>\n",
       "      <td>True</td>\n",
       "      <td>True</td>\n",
       "    </tr>\n",
       "    <tr>\n",
       "      <th>3</th>\n",
       "      <td>False</td>\n",
       "      <td>False</td>\n",
       "      <td>False</td>\n",
       "    </tr>\n",
       "  </tbody>\n",
       "</table>\n",
       "</div>"
      ],
      "text/plain": [
       "      s1     s2  s1_OR_s2\n",
       "0   True   True      True\n",
       "1   True  False      True\n",
       "2  False   True      True\n",
       "3  False  False     False"
      ]
     },
     "execution_count": 157,
     "metadata": {},
     "output_type": "execute_result"
    }
   ],
   "source": [
    "# Display s1, s2, s1_OR_s2 together as a DataFrame\n",
    "pd.DataFrame({\"s1\": s1, \"s2\": s2, \"s1_OR_s2\": s1_OR_s2})"
   ]
  },
  {
   "cell_type": "markdown",
   "metadata": {},
   "source": [
    "### ❗ Logical NOT\n",
    "\n",
    "A logical NOT operator `~` reverses each operand.\n",
    "\n",
    "![NOT_s1](https://github.com/bdi475/images/blob/main/NOT-s1.png?raw=true)\n"
   ]
  },
  {
   "cell_type": "markdown",
   "metadata": {},
   "source": [
    "▶️ Perform a logical OR operation (`~`) on `s1` and store the result to a new variable named `NOT_s1`.\n"
   ]
  },
  {
   "cell_type": "code",
   "execution_count": 158,
   "metadata": {},
   "outputs": [
    {
     "data": {
      "text/plain": [
       "0    False\n",
       "1    False\n",
       "2     True\n",
       "3     True\n",
       "dtype: bool"
      ]
     },
     "execution_count": 158,
     "metadata": {},
     "output_type": "execute_result"
    }
   ],
   "source": [
    "s1 = pd.Series([True, True, False, False])\n",
    "\n",
    "NOT_s1 = ~s1\n",
    "NOT_s1"
   ]
  },
  {
   "cell_type": "code",
   "execution_count": 159,
   "metadata": {},
   "outputs": [
    {
     "data": {
      "text/html": [
       "<div>\n",
       "<style scoped>\n",
       "    .dataframe tbody tr th:only-of-type {\n",
       "        vertical-align: middle;\n",
       "    }\n",
       "\n",
       "    .dataframe tbody tr th {\n",
       "        vertical-align: top;\n",
       "    }\n",
       "\n",
       "    .dataframe thead th {\n",
       "        text-align: right;\n",
       "    }\n",
       "</style>\n",
       "<table border=\"1\" class=\"dataframe\">\n",
       "  <thead>\n",
       "    <tr style=\"text-align: right;\">\n",
       "      <th></th>\n",
       "      <th>s1</th>\n",
       "      <th>NOT_s1</th>\n",
       "    </tr>\n",
       "  </thead>\n",
       "  <tbody>\n",
       "    <tr>\n",
       "      <th>0</th>\n",
       "      <td>True</td>\n",
       "      <td>False</td>\n",
       "    </tr>\n",
       "    <tr>\n",
       "      <th>1</th>\n",
       "      <td>True</td>\n",
       "      <td>False</td>\n",
       "    </tr>\n",
       "    <tr>\n",
       "      <th>2</th>\n",
       "      <td>False</td>\n",
       "      <td>True</td>\n",
       "    </tr>\n",
       "    <tr>\n",
       "      <th>3</th>\n",
       "      <td>False</td>\n",
       "      <td>True</td>\n",
       "    </tr>\n",
       "  </tbody>\n",
       "</table>\n",
       "</div>"
      ],
      "text/plain": [
       "      s1  NOT_s1\n",
       "0   True   False\n",
       "1   True   False\n",
       "2  False    True\n",
       "3  False    True"
      ]
     },
     "execution_count": 159,
     "metadata": {},
     "output_type": "execute_result"
    }
   ],
   "source": [
    "# Display s1 and NOT_s1 together as a DataFrame\n",
    "pd.DataFrame({\"s1\": s1, \"NOT_s1\": NOT_s1})"
   ]
  },
  {
   "cell_type": "markdown",
   "metadata": {},
   "source": [
    "### ✅ Putting It All Together\n",
    "\n",
    "Here is a summary of the logical operations you've performed so far.\n"
   ]
  },
  {
   "cell_type": "code",
   "execution_count": 160,
   "metadata": {},
   "outputs": [
    {
     "data": {
      "text/html": [
       "<div>\n",
       "<style scoped>\n",
       "    .dataframe tbody tr th:only-of-type {\n",
       "        vertical-align: middle;\n",
       "    }\n",
       "\n",
       "    .dataframe tbody tr th {\n",
       "        vertical-align: top;\n",
       "    }\n",
       "\n",
       "    .dataframe thead th {\n",
       "        text-align: right;\n",
       "    }\n",
       "</style>\n",
       "<table border=\"1\" class=\"dataframe\">\n",
       "  <thead>\n",
       "    <tr style=\"text-align: right;\">\n",
       "      <th></th>\n",
       "      <th>s1</th>\n",
       "      <th>s2</th>\n",
       "      <th>s1_AND_s2</th>\n",
       "      <th>s1_OR_s2</th>\n",
       "      <th>NOT_s1</th>\n",
       "    </tr>\n",
       "  </thead>\n",
       "  <tbody>\n",
       "    <tr>\n",
       "      <th>0</th>\n",
       "      <td>True</td>\n",
       "      <td>True</td>\n",
       "      <td>True</td>\n",
       "      <td>True</td>\n",
       "      <td>False</td>\n",
       "    </tr>\n",
       "    <tr>\n",
       "      <th>1</th>\n",
       "      <td>True</td>\n",
       "      <td>False</td>\n",
       "      <td>False</td>\n",
       "      <td>True</td>\n",
       "      <td>False</td>\n",
       "    </tr>\n",
       "    <tr>\n",
       "      <th>2</th>\n",
       "      <td>False</td>\n",
       "      <td>True</td>\n",
       "      <td>False</td>\n",
       "      <td>True</td>\n",
       "      <td>True</td>\n",
       "    </tr>\n",
       "    <tr>\n",
       "      <th>3</th>\n",
       "      <td>False</td>\n",
       "      <td>False</td>\n",
       "      <td>False</td>\n",
       "      <td>False</td>\n",
       "      <td>True</td>\n",
       "    </tr>\n",
       "  </tbody>\n",
       "</table>\n",
       "</div>"
      ],
      "text/plain": [
       "      s1     s2  s1_AND_s2  s1_OR_s2  NOT_s1\n",
       "0   True   True       True      True   False\n",
       "1   True  False      False      True   False\n",
       "2  False   True      False      True    True\n",
       "3  False  False      False     False    True"
      ]
     },
     "execution_count": 160,
     "metadata": {},
     "output_type": "execute_result"
    }
   ],
   "source": [
    "pd.DataFrame(\n",
    "    {\"s1\": s1, \"s2\": s2, \"s1_AND_s2\": s1_AND_s2, \"s1_OR_s2\": s1_OR_s2, \"NOT_s1\": NOT_s1}\n",
    ")"
   ]
  },
  {
   "cell_type": "markdown",
   "metadata": {},
   "source": [
    "**🎯 Example: Find John's positive transaction(s)**\n"
   ]
  },
  {
   "cell_type": "code",
   "execution_count": 161,
   "metadata": {},
   "outputs": [
    {
     "data": {
      "text/html": [
       "<div>\n",
       "<style scoped>\n",
       "    .dataframe tbody tr th:only-of-type {\n",
       "        vertical-align: middle;\n",
       "    }\n",
       "\n",
       "    .dataframe tbody tr th {\n",
       "        vertical-align: top;\n",
       "    }\n",
       "\n",
       "    .dataframe thead th {\n",
       "        text-align: right;\n",
       "    }\n",
       "</style>\n",
       "<table border=\"1\" class=\"dataframe\">\n",
       "  <thead>\n",
       "    <tr style=\"text-align: right;\">\n",
       "      <th></th>\n",
       "      <th>name</th>\n",
       "      <th>amount</th>\n",
       "    </tr>\n",
       "  </thead>\n",
       "  <tbody>\n",
       "    <tr>\n",
       "      <th>3</th>\n",
       "      <td>John</td>\n",
       "      <td>20</td>\n",
       "    </tr>\n",
       "  </tbody>\n",
       "</table>\n",
       "</div>"
      ],
      "text/plain": [
       "   name  amount\n",
       "3  John      20"
      ]
     },
     "execution_count": 161,
     "metadata": {},
     "output_type": "execute_result"
    }
   ],
   "source": [
    "# DO NOT CHANGE THE CODE IN THIS CELL\n",
    "df = pd.DataFrame(\n",
    "    {\"name\": [\"John\", \"Mary\", \"Tom\", \"John\"], \"amount\": [-20, -10, 10, 20]}\n",
    ")\n",
    "\n",
    "# Create two boolean masks\n",
    "is_john = df[\"name\"] == \"John\"\n",
    "is_positive = df[\"amount\"] > 0\n",
    "\n",
    "# Apply both conditions using the & operator\n",
    "df_john_and_pos = df[is_john & is_positive]\n",
    "\n",
    "df_john_and_pos"
   ]
  },
  {
   "cell_type": "markdown",
   "metadata": {},
   "source": [
    ":::{tip} What do `is_john` and `is_positive` represent?\n",
    "\n",
    "- `is_john` is a boolean mask that indicates which rows in the `DataFrame`\n",
    "  have the name \"John\".\n",
    "- `is_positive` is a boolean mask that indicates which rows in the `DataFrame`\n",
    "  have a positive `amount`.\n",
    "\n",
    "```python\n",
    "is_john\n",
    "display(is_john)\n",
    "\n",
    "# Output:\n",
    "# 0     True\n",
    "# 1    False\n",
    "# 2    False\n",
    "# 3     True\n",
    "# Name: name, dtype: bool\n",
    "\n",
    "is_positive\n",
    "display(is_positive)\n",
    "# Output:\n",
    "# 0    False\n",
    "# 1    False\n",
    "# 2     True\n",
    "# 3     True\n",
    "# Name: amount, dtype: bool\n",
    "```\n",
    "\n",
    ":::\n"
   ]
  },
  {
   "cell_type": "markdown",
   "metadata": {},
   "source": [
    "Here's a visualization to help you understand what `is_john & is_positive` does.\n",
    "\n",
    "![is_john_AND_is_positive](https://github.com/bdi475/images/blob/main/is-john-AND-is-positive.png?raw=true)\n"
   ]
  },
  {
   "cell_type": "markdown",
   "metadata": {},
   "source": [
    "---\n",
    "\n",
    "**🎯 Example: Find transactions that are made by John OR are positive**\n"
   ]
  },
  {
   "cell_type": "code",
   "execution_count": 162,
   "metadata": {},
   "outputs": [
    {
     "data": {
      "text/html": [
       "<div>\n",
       "<style scoped>\n",
       "    .dataframe tbody tr th:only-of-type {\n",
       "        vertical-align: middle;\n",
       "    }\n",
       "\n",
       "    .dataframe tbody tr th {\n",
       "        vertical-align: top;\n",
       "    }\n",
       "\n",
       "    .dataframe thead th {\n",
       "        text-align: right;\n",
       "    }\n",
       "</style>\n",
       "<table border=\"1\" class=\"dataframe\">\n",
       "  <thead>\n",
       "    <tr style=\"text-align: right;\">\n",
       "      <th></th>\n",
       "      <th>name</th>\n",
       "      <th>amount</th>\n",
       "    </tr>\n",
       "  </thead>\n",
       "  <tbody>\n",
       "    <tr>\n",
       "      <th>0</th>\n",
       "      <td>John</td>\n",
       "      <td>-20</td>\n",
       "    </tr>\n",
       "    <tr>\n",
       "      <th>1</th>\n",
       "      <td>Mary</td>\n",
       "      <td>-10</td>\n",
       "    </tr>\n",
       "    <tr>\n",
       "      <th>2</th>\n",
       "      <td>Tom</td>\n",
       "      <td>10</td>\n",
       "    </tr>\n",
       "    <tr>\n",
       "      <th>3</th>\n",
       "      <td>John</td>\n",
       "      <td>20</td>\n",
       "    </tr>\n",
       "  </tbody>\n",
       "</table>\n",
       "</div>"
      ],
      "text/plain": [
       "   name  amount\n",
       "0  John     -20\n",
       "1  Mary     -10\n",
       "2   Tom      10\n",
       "3  John      20"
      ]
     },
     "execution_count": 162,
     "metadata": {},
     "output_type": "execute_result"
    }
   ],
   "source": [
    "# DO NOT CHANGE THE CODE IN THIS CELL\n",
    "df = pd.DataFrame(\n",
    "    {\"name\": [\"John\", \"Mary\", \"Tom\", \"John\"], \"amount\": [-20, -10, 10, 20]}\n",
    ")\n",
    "df"
   ]
  },
  {
   "cell_type": "code",
   "execution_count": 163,
   "metadata": {
    "nbgrader": {
     "grade": false,
     "locked": false,
     "solution": false
    }
   },
   "outputs": [
    {
     "data": {
      "text/html": [
       "<div>\n",
       "<style scoped>\n",
       "    .dataframe tbody tr th:only-of-type {\n",
       "        vertical-align: middle;\n",
       "    }\n",
       "\n",
       "    .dataframe tbody tr th {\n",
       "        vertical-align: top;\n",
       "    }\n",
       "\n",
       "    .dataframe thead th {\n",
       "        text-align: right;\n",
       "    }\n",
       "</style>\n",
       "<table border=\"1\" class=\"dataframe\">\n",
       "  <thead>\n",
       "    <tr style=\"text-align: right;\">\n",
       "      <th></th>\n",
       "      <th>name</th>\n",
       "      <th>amount</th>\n",
       "    </tr>\n",
       "  </thead>\n",
       "  <tbody>\n",
       "    <tr>\n",
       "      <th>0</th>\n",
       "      <td>John</td>\n",
       "      <td>-20</td>\n",
       "    </tr>\n",
       "    <tr>\n",
       "      <th>2</th>\n",
       "      <td>Tom</td>\n",
       "      <td>10</td>\n",
       "    </tr>\n",
       "    <tr>\n",
       "      <th>3</th>\n",
       "      <td>John</td>\n",
       "      <td>20</td>\n",
       "    </tr>\n",
       "  </tbody>\n",
       "</table>\n",
       "</div>"
      ],
      "text/plain": [
       "   name  amount\n",
       "0  John     -20\n",
       "2   Tom      10\n",
       "3  John      20"
      ]
     },
     "execution_count": 163,
     "metadata": {},
     "output_type": "execute_result"
    }
   ],
   "source": [
    "df = pd.DataFrame(\n",
    "    {\"name\": [\"John\", \"Mary\", \"Tom\", \"John\"], \"amount\": [-20, -10, 10, 20]}\n",
    ")\n",
    "\n",
    "# Create two boolean masks\n",
    "is_john = df[\"name\"] == \"John\"\n",
    "is_positive = df[\"amount\"] > 0\n",
    "\n",
    "# Apply either condition using the | operator\n",
    "df_john_or_pos = df[is_john | is_positive]\n",
    "\n",
    "df_john_or_pos"
   ]
  },
  {
   "cell_type": "markdown",
   "metadata": {},
   "source": [
    "Here is a visualization to help you understand what `is_john | is_positive` does.\n",
    "\n",
    "![is_john_OR_is_positive](https://github.com/bdi475/images/blob/main/is-john-OR-is-positive.png?raw=true)\n"
   ]
  },
  {
   "cell_type": "markdown",
   "metadata": {},
   "source": [
    "---\n",
    "\n",
    "**🎯 Example: Find transactions that are NOT made by John**\n"
   ]
  },
  {
   "cell_type": "code",
   "execution_count": 164,
   "metadata": {
    "nbgrader": {
     "grade": true,
     "grade_id": "challenge-09",
     "locked": true,
     "points": "1",
     "solution": false
    }
   },
   "outputs": [
    {
     "data": {
      "text/html": [
       "<div>\n",
       "<style scoped>\n",
       "    .dataframe tbody tr th:only-of-type {\n",
       "        vertical-align: middle;\n",
       "    }\n",
       "\n",
       "    .dataframe tbody tr th {\n",
       "        vertical-align: top;\n",
       "    }\n",
       "\n",
       "    .dataframe thead th {\n",
       "        text-align: right;\n",
       "    }\n",
       "</style>\n",
       "<table border=\"1\" class=\"dataframe\">\n",
       "  <thead>\n",
       "    <tr style=\"text-align: right;\">\n",
       "      <th></th>\n",
       "      <th>name</th>\n",
       "      <th>amount</th>\n",
       "    </tr>\n",
       "  </thead>\n",
       "  <tbody>\n",
       "    <tr>\n",
       "      <th>1</th>\n",
       "      <td>Mary</td>\n",
       "      <td>-10</td>\n",
       "    </tr>\n",
       "    <tr>\n",
       "      <th>2</th>\n",
       "      <td>Tom</td>\n",
       "      <td>10</td>\n",
       "    </tr>\n",
       "  </tbody>\n",
       "</table>\n",
       "</div>"
      ],
      "text/plain": [
       "   name  amount\n",
       "1  Mary     -10\n",
       "2   Tom      10"
      ]
     },
     "execution_count": 164,
     "metadata": {},
     "output_type": "execute_result"
    }
   ],
   "source": [
    "df = pd.DataFrame(\n",
    "    {\"name\": [\"John\", \"Mary\", \"Tom\", \"John\"], \"amount\": [-20, -10, 10, 20]}\n",
    ")\n",
    "\n",
    "# Create a boolean mask where the name is \"John\"\n",
    "is_john = df[\"name\"] == \"John\"\n",
    "\n",
    "# Create a boolean mask with the NOT operator\n",
    "# This will effectively select rows where the name is NOT \"John\"\n",
    "df_not_john = df[~is_john]\n",
    "\n",
    "df_not_john"
   ]
  },
  {
   "cell_type": "markdown",
   "metadata": {},
   "source": [
    "Here's a visualization to help you understand what `~is_john` does.\n",
    "\n",
    "![not_john](https://github.com/bdi475/images/blob/main/not-john.png?raw=true)\n"
   ]
  },
  {
   "cell_type": "markdown",
   "metadata": {
    "id": "DW30mOfZem7v"
   },
   "source": [
    "---\n",
    "\n",
    "## 🗣️ Using Strings for Filtering\n"
   ]
  },
  {
   "cell_type": "markdown",
   "metadata": {
    "id": "fv4hxUApem7v"
   },
   "source": [
    "Create a new `Series` named `countries`.\n"
   ]
  },
  {
   "cell_type": "code",
   "execution_count": 165,
   "metadata": {
    "id": "1k4Ty5tFem7w",
    "outputId": "05053357-31f1-423f-e34d-4eca1c834432"
   },
   "outputs": [
    {
     "data": {
      "text/plain": [
       "0    United States\n",
       "1             Oman\n",
       "2    United States\n",
       "3            China\n",
       "4      South Korea\n",
       "5    United States\n",
       "dtype: object"
      ]
     },
     "metadata": {},
     "output_type": "display_data"
    }
   ],
   "source": [
    "countries = pd.Series(\n",
    "    [\"United States\", \"Oman\", \"United States\", \"China\", \"South Korea\", \"United States\"]\n",
    ")\n",
    "\n",
    "display(countries)"
   ]
  },
  {
   "cell_type": "markdown",
   "metadata": {
    "id": "2LYnIQinem7w"
   },
   "source": [
    "We can perform element-wise comparisons on string `Series` just like we did with numeric `Series`.\n",
    "\n",
    "▶️ Compare `countries` with the string `'United States'` using an equality comparison operator (`==`).\n"
   ]
  },
  {
   "cell_type": "code",
   "execution_count": 166,
   "metadata": {
    "id": "hQTcrXEdem7w",
    "outputId": "517a1aeb-baff-4938-d18a-bc415a3c6873"
   },
   "outputs": [
    {
     "data": {
      "text/plain": [
       "0     True\n",
       "1    False\n",
       "2     True\n",
       "3    False\n",
       "4    False\n",
       "5     True\n",
       "dtype: bool"
      ]
     },
     "execution_count": 166,
     "metadata": {},
     "output_type": "execute_result"
    }
   ],
   "source": [
    "countries == \"United States\""
   ]
  },
  {
   "cell_type": "markdown",
   "metadata": {
    "id": "9uQ2Mzwvem7w"
   },
   "source": [
    "▶️ Check the data type of the result.\n"
   ]
  },
  {
   "cell_type": "code",
   "execution_count": 167,
   "metadata": {
    "id": "TeCdiCCTem7w",
    "outputId": "97f0b0f9-a4fe-40c3-8715-e35229727606"
   },
   "outputs": [
    {
     "data": {
      "text/plain": [
       "pandas.core.series.Series"
      ]
     },
     "execution_count": 167,
     "metadata": {},
     "output_type": "execute_result"
    }
   ],
   "source": [
    "type(countries == \"United States\")"
   ]
  },
  {
   "cell_type": "markdown",
   "metadata": {
    "id": "WO1sLJXdem7w"
   },
   "source": [
    "The result is **another `Series`** containing boolean (`True`/`False`) values. Pandas performs a string comparison (`my_str == 'United States'`) on **each element**.\n",
    "\n",
    "Remember, you can also supply more than one condition using the following two operators:\n",
    "\n",
    "1. logical OR (`|`)\n",
    "2. logical AND (`&`)\n",
    "\n",
    "▶️ Check whether a country is **either** `'Oman'` **or** `'China'`.\n"
   ]
  },
  {
   "cell_type": "code",
   "execution_count": 168,
   "metadata": {
    "id": "KTA8XPv_em7w",
    "outputId": "e7ccee7a-caa1-4b80-b25c-4440b2b6618f"
   },
   "outputs": [
    {
     "data": {
      "text/plain": [
       "0    False\n",
       "1     True\n",
       "2    False\n",
       "3     True\n",
       "4    False\n",
       "5    False\n",
       "dtype: bool"
      ]
     },
     "execution_count": 168,
     "metadata": {},
     "output_type": "execute_result"
    }
   ],
   "source": [
    "(countries == \"Oman\") | (countries == \"China\")"
   ]
  },
  {
   "cell_type": "markdown",
   "metadata": {},
   "source": [
    "We can use the resulting boolean `Series` as a mask to filter the original `countries` `Series`.\n"
   ]
  },
  {
   "cell_type": "code",
   "execution_count": 169,
   "metadata": {
    "id": "YwIROkUBem7x",
    "outputId": "454796e0-63f3-4b22-c296-d59317812e0f"
   },
   "outputs": [
    {
     "data": {
      "text/plain": [
       "1     Oman\n",
       "3    China\n",
       "dtype: object"
      ]
     },
     "execution_count": 169,
     "metadata": {},
     "output_type": "execute_result"
    }
   ],
   "source": [
    "countries[(countries == \"Oman\") | (countries == \"China\")]"
   ]
  },
  {
   "cell_type": "markdown",
   "metadata": {
    "id": "TpncLNBdem7x"
   },
   "source": [
    "---\n",
    "\n",
    "### 🔤 Using Strings to Filter a DataFrame\n"
   ]
  },
  {
   "cell_type": "markdown",
   "metadata": {
    "id": "-25GoLwbem7x"
   },
   "source": [
    "Create a new `DataFrame` named `df_cities`.\n"
   ]
  },
  {
   "cell_type": "code",
   "execution_count": 170,
   "metadata": {
    "id": "o5vfs2TYem7x",
    "outputId": "ad9fafdd-bdab-4e26-c2bd-70f8c1fdbffa"
   },
   "outputs": [
    {
     "data": {
      "text/html": [
       "<div>\n",
       "<style scoped>\n",
       "    .dataframe tbody tr th:only-of-type {\n",
       "        vertical-align: middle;\n",
       "    }\n",
       "\n",
       "    .dataframe tbody tr th {\n",
       "        vertical-align: top;\n",
       "    }\n",
       "\n",
       "    .dataframe thead th {\n",
       "        text-align: right;\n",
       "    }\n",
       "</style>\n",
       "<table border=\"1\" class=\"dataframe\">\n",
       "  <thead>\n",
       "    <tr style=\"text-align: right;\">\n",
       "      <th></th>\n",
       "      <th>city</th>\n",
       "      <th>country</th>\n",
       "      <th>population</th>\n",
       "    </tr>\n",
       "  </thead>\n",
       "  <tbody>\n",
       "    <tr>\n",
       "      <th>0</th>\n",
       "      <td>Lisle</td>\n",
       "      <td>United States</td>\n",
       "      <td>23270</td>\n",
       "    </tr>\n",
       "    <tr>\n",
       "      <th>1</th>\n",
       "      <td>Dubai</td>\n",
       "      <td>United Arab Emirates</td>\n",
       "      <td>3331409</td>\n",
       "    </tr>\n",
       "    <tr>\n",
       "      <th>2</th>\n",
       "      <td>Niles</td>\n",
       "      <td>United States</td>\n",
       "      <td>28938</td>\n",
       "    </tr>\n",
       "    <tr>\n",
       "      <th>3</th>\n",
       "      <td>Shanghai</td>\n",
       "      <td>China</td>\n",
       "      <td>26320000</td>\n",
       "    </tr>\n",
       "    <tr>\n",
       "      <th>4</th>\n",
       "      <td>Seoul</td>\n",
       "      <td>South Korea</td>\n",
       "      <td>21794000</td>\n",
       "    </tr>\n",
       "    <tr>\n",
       "      <th>5</th>\n",
       "      <td>Chicago</td>\n",
       "      <td>United States</td>\n",
       "      <td>8604203</td>\n",
       "    </tr>\n",
       "  </tbody>\n",
       "</table>\n",
       "</div>"
      ],
      "text/plain": [
       "       city               country  population\n",
       "0     Lisle         United States       23270\n",
       "1     Dubai  United Arab Emirates     3331409\n",
       "2     Niles         United States       28938\n",
       "3  Shanghai                 China    26320000\n",
       "4     Seoul           South Korea    21794000\n",
       "5   Chicago         United States     8604203"
      ]
     },
     "execution_count": 170,
     "metadata": {},
     "output_type": "execute_result"
    }
   ],
   "source": [
    "df_cities = pd.DataFrame(\n",
    "    {\n",
    "        \"city\": [\"Lisle\", \"Dubai\", \"Niles\", \"Shanghai\", \"Seoul\", \"Chicago\"],\n",
    "        \"country\": [\n",
    "            \"United States\",\n",
    "            \"United Arab Emirates\",\n",
    "            \"United States\",\n",
    "            \"China\",\n",
    "            \"South Korea\",\n",
    "            \"United States\",\n",
    "        ],\n",
    "        \"population\": [23270, 3331409, 28938, 26320000, 21794000, 8604203],\n",
    "    }\n",
    ")\n",
    "\n",
    "df_cities"
   ]
  },
  {
   "cell_type": "markdown",
   "metadata": {
    "id": "K8Ar5vxeem7x"
   },
   "source": [
    "To only keep rows where the `country` is `'United States'`, we can supply a `Series` of boolean values.\n",
    "\n",
    "Create a new `Series` named `keep` with the following 6 boolean values - `True`, `False`, `True`, `False`, `False`, `True`.\n"
   ]
  },
  {
   "cell_type": "code",
   "execution_count": 171,
   "metadata": {
    "id": "bpP88Meeem7x",
    "outputId": "a2297654-dfb2-4472-b6b2-f2a3bd832fb1"
   },
   "outputs": [
    {
     "data": {
      "text/plain": [
       "0     True\n",
       "1    False\n",
       "2     True\n",
       "3    False\n",
       "4    False\n",
       "5     True\n",
       "Name: country, dtype: bool"
      ]
     },
     "execution_count": 171,
     "metadata": {},
     "output_type": "execute_result"
    }
   ],
   "source": [
    "# Manually (not recommended)\n",
    "keep = pd.Series([True, False, True, False, False, True])\n",
    "\n",
    "# Programmatically (preferred)\n",
    "keep = df_cities[\"country\"] == \"United States\"\n",
    "\n",
    "keep"
   ]
  },
  {
   "cell_type": "markdown",
   "metadata": {
    "id": "JUNm8ebnem7y"
   },
   "source": [
    "To only keep rows where the `\"country\"` is `\"United States\"`, use the boolean mask `keep` to filter the `df_cities` `DataFrame`.\n"
   ]
  },
  {
   "cell_type": "code",
   "execution_count": 172,
   "metadata": {
    "id": "ulu40PsZem7y",
    "outputId": "66c22849-6724-4a67-d603-5539b88bb196"
   },
   "outputs": [
    {
     "data": {
      "text/html": [
       "<div>\n",
       "<style scoped>\n",
       "    .dataframe tbody tr th:only-of-type {\n",
       "        vertical-align: middle;\n",
       "    }\n",
       "\n",
       "    .dataframe tbody tr th {\n",
       "        vertical-align: top;\n",
       "    }\n",
       "\n",
       "    .dataframe thead th {\n",
       "        text-align: right;\n",
       "    }\n",
       "</style>\n",
       "<table border=\"1\" class=\"dataframe\">\n",
       "  <thead>\n",
       "    <tr style=\"text-align: right;\">\n",
       "      <th></th>\n",
       "      <th>city</th>\n",
       "      <th>country</th>\n",
       "      <th>population</th>\n",
       "    </tr>\n",
       "  </thead>\n",
       "  <tbody>\n",
       "    <tr>\n",
       "      <th>0</th>\n",
       "      <td>Lisle</td>\n",
       "      <td>United States</td>\n",
       "      <td>23270</td>\n",
       "    </tr>\n",
       "    <tr>\n",
       "      <th>2</th>\n",
       "      <td>Niles</td>\n",
       "      <td>United States</td>\n",
       "      <td>28938</td>\n",
       "    </tr>\n",
       "    <tr>\n",
       "      <th>5</th>\n",
       "      <td>Chicago</td>\n",
       "      <td>United States</td>\n",
       "      <td>8604203</td>\n",
       "    </tr>\n",
       "  </tbody>\n",
       "</table>\n",
       "</div>"
      ],
      "text/plain": [
       "      city        country  population\n",
       "0    Lisle  United States       23270\n",
       "2    Niles  United States       28938\n",
       "5  Chicago  United States     8604203"
      ]
     },
     "execution_count": 172,
     "metadata": {},
     "output_type": "execute_result"
    }
   ],
   "source": [
    "df_cities[keep]"
   ]
  },
  {
   "cell_type": "markdown",
   "metadata": {
    "id": "juiThUb1em7y"
   },
   "source": [
    "---\n",
    "\n",
    "**🎯 Example: Cities with population over a million**\n"
   ]
  },
  {
   "cell_type": "code",
   "execution_count": 173,
   "metadata": {
    "id": "3yEcyo-Mem7y",
    "outputId": "dbe8bab2-bb34-4a86-d38c-bac31d1197a7"
   },
   "outputs": [
    {
     "data": {
      "text/html": [
       "<div>\n",
       "<style scoped>\n",
       "    .dataframe tbody tr th:only-of-type {\n",
       "        vertical-align: middle;\n",
       "    }\n",
       "\n",
       "    .dataframe tbody tr th {\n",
       "        vertical-align: top;\n",
       "    }\n",
       "\n",
       "    .dataframe thead th {\n",
       "        text-align: right;\n",
       "    }\n",
       "</style>\n",
       "<table border=\"1\" class=\"dataframe\">\n",
       "  <thead>\n",
       "    <tr style=\"text-align: right;\">\n",
       "      <th></th>\n",
       "      <th>city</th>\n",
       "      <th>country</th>\n",
       "      <th>population</th>\n",
       "    </tr>\n",
       "  </thead>\n",
       "  <tbody>\n",
       "    <tr>\n",
       "      <th>1</th>\n",
       "      <td>Dubai</td>\n",
       "      <td>United Arab Emirates</td>\n",
       "      <td>3331409</td>\n",
       "    </tr>\n",
       "    <tr>\n",
       "      <th>3</th>\n",
       "      <td>Shanghai</td>\n",
       "      <td>China</td>\n",
       "      <td>26320000</td>\n",
       "    </tr>\n",
       "    <tr>\n",
       "      <th>4</th>\n",
       "      <td>Seoul</td>\n",
       "      <td>South Korea</td>\n",
       "      <td>21794000</td>\n",
       "    </tr>\n",
       "    <tr>\n",
       "      <th>5</th>\n",
       "      <td>Chicago</td>\n",
       "      <td>United States</td>\n",
       "      <td>8604203</td>\n",
       "    </tr>\n",
       "  </tbody>\n",
       "</table>\n",
       "</div>"
      ],
      "text/plain": [
       "       city               country  population\n",
       "1     Dubai  United Arab Emirates     3331409\n",
       "3  Shanghai                 China    26320000\n",
       "4     Seoul           South Korea    21794000\n",
       "5   Chicago         United States     8604203"
      ]
     },
     "execution_count": 173,
     "metadata": {},
     "output_type": "execute_result"
    }
   ],
   "source": [
    "df_large_cities = df_cities[df_cities[\"population\"] > 1000000]\n",
    "\n",
    "df_large_cities"
   ]
  },
  {
   "cell_type": "markdown",
   "metadata": {},
   "source": [
    "---\n",
    "\n",
    "## 🆙 Sorting a `DataFrame`\n",
    "\n",
    "You can sort a `DataFrame` using `df.sort_values()`.\n",
    "\n",
    "![sort_values usage](https://github.com/bdi475/images/blob/main/pandas/sort-values-01.png?raw=true)\n",
    "\n",
    "The `sort()` method allows you to specify the column(s) to sort by, the sorting order (ascending or descending), and how to handle missing values.\n",
    "\n",
    "The `by` parameter specifies the column(s) to sort by. You can pass a single column name as a string or multiple column names as a list of strings.\n",
    "\n",
    "The `ascending` parameter specifies the sorting order. By default, it is set to `True`, which means the data will be sorted in ascending order. If you want to sort in descending order, you can set this parameter to `False`.\n",
    "\n",
    "If there are multiple columns specified in the `by` parameter, you can pass a list of boolean values to the `ascending` parameter to specify the sorting order for each column individually.\n",
    "\n",
    "If there are missing values (`NaN`) in the column(s) being sorted, you can use the `na_position` parameter to specify whether to place them at the beginning (`'first'`) or the end (`'last'`) of the sorted `DataFrame`. The default is `'last'`.\n"
   ]
  },
  {
   "cell_type": "markdown",
   "metadata": {},
   "source": [
    "▶️ Sort `df_cities` by `population`.\n"
   ]
  },
  {
   "cell_type": "code",
   "execution_count": 174,
   "metadata": {},
   "outputs": [
    {
     "data": {
      "text/html": [
       "<div>\n",
       "<style scoped>\n",
       "    .dataframe tbody tr th:only-of-type {\n",
       "        vertical-align: middle;\n",
       "    }\n",
       "\n",
       "    .dataframe tbody tr th {\n",
       "        vertical-align: top;\n",
       "    }\n",
       "\n",
       "    .dataframe thead th {\n",
       "        text-align: right;\n",
       "    }\n",
       "</style>\n",
       "<table border=\"1\" class=\"dataframe\">\n",
       "  <thead>\n",
       "    <tr style=\"text-align: right;\">\n",
       "      <th></th>\n",
       "      <th>city</th>\n",
       "      <th>country</th>\n",
       "      <th>population</th>\n",
       "    </tr>\n",
       "  </thead>\n",
       "  <tbody>\n",
       "    <tr>\n",
       "      <th>0</th>\n",
       "      <td>Lisle</td>\n",
       "      <td>United States</td>\n",
       "      <td>23270</td>\n",
       "    </tr>\n",
       "    <tr>\n",
       "      <th>2</th>\n",
       "      <td>Niles</td>\n",
       "      <td>United States</td>\n",
       "      <td>28938</td>\n",
       "    </tr>\n",
       "    <tr>\n",
       "      <th>1</th>\n",
       "      <td>Dubai</td>\n",
       "      <td>United Arab Emirates</td>\n",
       "      <td>3331409</td>\n",
       "    </tr>\n",
       "    <tr>\n",
       "      <th>5</th>\n",
       "      <td>Chicago</td>\n",
       "      <td>United States</td>\n",
       "      <td>8604203</td>\n",
       "    </tr>\n",
       "    <tr>\n",
       "      <th>4</th>\n",
       "      <td>Seoul</td>\n",
       "      <td>South Korea</td>\n",
       "      <td>21794000</td>\n",
       "    </tr>\n",
       "    <tr>\n",
       "      <th>3</th>\n",
       "      <td>Shanghai</td>\n",
       "      <td>China</td>\n",
       "      <td>26320000</td>\n",
       "    </tr>\n",
       "  </tbody>\n",
       "</table>\n",
       "</div>"
      ],
      "text/plain": [
       "       city               country  population\n",
       "0     Lisle         United States       23270\n",
       "2     Niles         United States       28938\n",
       "1     Dubai  United Arab Emirates     3331409\n",
       "5   Chicago         United States     8604203\n",
       "4     Seoul           South Korea    21794000\n",
       "3  Shanghai                 China    26320000"
      ]
     },
     "execution_count": 174,
     "metadata": {},
     "output_type": "execute_result"
    }
   ],
   "source": [
    "df_cities.sort_values(\"population\")"
   ]
  },
  {
   "cell_type": "markdown",
   "metadata": {},
   "source": [
    "▶️ Sort `df_cities` by `population` in **descending** order.\n"
   ]
  },
  {
   "cell_type": "code",
   "execution_count": 175,
   "metadata": {},
   "outputs": [
    {
     "data": {
      "text/html": [
       "<div>\n",
       "<style scoped>\n",
       "    .dataframe tbody tr th:only-of-type {\n",
       "        vertical-align: middle;\n",
       "    }\n",
       "\n",
       "    .dataframe tbody tr th {\n",
       "        vertical-align: top;\n",
       "    }\n",
       "\n",
       "    .dataframe thead th {\n",
       "        text-align: right;\n",
       "    }\n",
       "</style>\n",
       "<table border=\"1\" class=\"dataframe\">\n",
       "  <thead>\n",
       "    <tr style=\"text-align: right;\">\n",
       "      <th></th>\n",
       "      <th>city</th>\n",
       "      <th>country</th>\n",
       "      <th>population</th>\n",
       "    </tr>\n",
       "  </thead>\n",
       "  <tbody>\n",
       "    <tr>\n",
       "      <th>3</th>\n",
       "      <td>Shanghai</td>\n",
       "      <td>China</td>\n",
       "      <td>26320000</td>\n",
       "    </tr>\n",
       "    <tr>\n",
       "      <th>4</th>\n",
       "      <td>Seoul</td>\n",
       "      <td>South Korea</td>\n",
       "      <td>21794000</td>\n",
       "    </tr>\n",
       "    <tr>\n",
       "      <th>5</th>\n",
       "      <td>Chicago</td>\n",
       "      <td>United States</td>\n",
       "      <td>8604203</td>\n",
       "    </tr>\n",
       "    <tr>\n",
       "      <th>1</th>\n",
       "      <td>Dubai</td>\n",
       "      <td>United Arab Emirates</td>\n",
       "      <td>3331409</td>\n",
       "    </tr>\n",
       "    <tr>\n",
       "      <th>2</th>\n",
       "      <td>Niles</td>\n",
       "      <td>United States</td>\n",
       "      <td>28938</td>\n",
       "    </tr>\n",
       "    <tr>\n",
       "      <th>0</th>\n",
       "      <td>Lisle</td>\n",
       "      <td>United States</td>\n",
       "      <td>23270</td>\n",
       "    </tr>\n",
       "  </tbody>\n",
       "</table>\n",
       "</div>"
      ],
      "text/plain": [
       "       city               country  population\n",
       "3  Shanghai                 China    26320000\n",
       "4     Seoul           South Korea    21794000\n",
       "5   Chicago         United States     8604203\n",
       "1     Dubai  United Arab Emirates     3331409\n",
       "2     Niles         United States       28938\n",
       "0     Lisle         United States       23270"
      ]
     },
     "execution_count": 175,
     "metadata": {},
     "output_type": "execute_result"
    }
   ],
   "source": [
    "df_cities.sort_values(\"population\", ascending=False)"
   ]
  },
  {
   "cell_type": "markdown",
   "metadata": {},
   "source": [
    "---\n",
    "\n",
    "## 👟 More Examples using the Yeezys Dataset\n"
   ]
  },
  {
   "cell_type": "code",
   "execution_count": 176,
   "metadata": {},
   "outputs": [
    {
     "data": {
      "text/html": [
       "<div>\n",
       "<style scoped>\n",
       "    .dataframe tbody tr th:only-of-type {\n",
       "        vertical-align: middle;\n",
       "    }\n",
       "\n",
       "    .dataframe tbody tr th {\n",
       "        vertical-align: top;\n",
       "    }\n",
       "\n",
       "    .dataframe thead th {\n",
       "        text-align: right;\n",
       "    }\n",
       "</style>\n",
       "<table border=\"1\" class=\"dataframe\">\n",
       "  <thead>\n",
       "    <tr style=\"text-align: right;\">\n",
       "      <th></th>\n",
       "      <th>brand</th>\n",
       "      <th>product</th>\n",
       "      <th>price</th>\n",
       "    </tr>\n",
       "  </thead>\n",
       "  <tbody>\n",
       "    <tr>\n",
       "      <th>0</th>\n",
       "      <td>Adidas</td>\n",
       "      <td>Yeezy 750 Boost Light Brown</td>\n",
       "      <td>1578</td>\n",
       "    </tr>\n",
       "    <tr>\n",
       "      <th>1</th>\n",
       "      <td>Adidas</td>\n",
       "      <td>Yeezy 350 Boost Pirate Black</td>\n",
       "      <td>910</td>\n",
       "    </tr>\n",
       "    <tr>\n",
       "      <th>2</th>\n",
       "      <td>Adidas</td>\n",
       "      <td>Yeezy Boost 350 V2 Lundmark Reflective</td>\n",
       "      <td>1009</td>\n",
       "    </tr>\n",
       "    <tr>\n",
       "      <th>3</th>\n",
       "      <td>Adidas</td>\n",
       "      <td>Yeezy 350 Boost V2 Black/Red</td>\n",
       "      <td>954</td>\n",
       "    </tr>\n",
       "    <tr>\n",
       "      <th>4</th>\n",
       "      <td>Nike</td>\n",
       "      <td>Air Yeezy Blink</td>\n",
       "      <td>3142</td>\n",
       "    </tr>\n",
       "  </tbody>\n",
       "</table>\n",
       "</div>"
      ],
      "text/plain": [
       "    brand                                 product  price\n",
       "0  Adidas             Yeezy 750 Boost Light Brown   1578\n",
       "1  Adidas            Yeezy 350 Boost Pirate Black    910\n",
       "2  Adidas  Yeezy Boost 350 V2 Lundmark Reflective   1009\n",
       "3  Adidas            Yeezy 350 Boost V2 Black/Red    954\n",
       "4    Nike                         Air Yeezy Blink   3142"
      ]
     },
     "execution_count": 176,
     "metadata": {},
     "output_type": "execute_result"
    }
   ],
   "source": [
    "df_sneakers = pd.read_csv(\n",
    "    \"https://github.com/bdi475/datasets/raw/main/yeezy_sneakers.csv\"\n",
    ")\n",
    "\n",
    "# head() displays the first 5 rows of a DataFrame\n",
    "df_sneakers.head()"
   ]
  },
  {
   "cell_type": "markdown",
   "metadata": {
    "id": "LI33A8-jem7m"
   },
   "source": [
    "The table below describes the columns in `df_sneakers`.\n",
    "\n",
    "| Column Name | Description          |\n",
    "| ----------- | -------------------- |\n",
    "| brand       | Brand of the sneaker |\n",
    "| product     | Name of the sneaker  |\n",
    "| price       | Price of the sneaker |\n"
   ]
  },
  {
   "cell_type": "markdown",
   "metadata": {},
   "source": [
    "▶️ Print out a summary of the `df_sneakers` using the `info()` method.\n"
   ]
  },
  {
   "cell_type": "code",
   "execution_count": 177,
   "metadata": {},
   "outputs": [
    {
     "name": "stdout",
     "output_type": "stream",
     "text": [
      "<class 'pandas.core.frame.DataFrame'>\n",
      "RangeIndex: 15 entries, 0 to 14\n",
      "Data columns (total 3 columns):\n",
      " #   Column   Non-Null Count  Dtype \n",
      "---  ------   --------------  ----- \n",
      " 0   brand    15 non-null     object\n",
      " 1   product  15 non-null     object\n",
      " 2   price    15 non-null     int64 \n",
      "dtypes: int64(1), object(2)\n",
      "memory usage: 492.0+ bytes\n"
     ]
    }
   ],
   "source": [
    "df_sneakers.info()"
   ]
  },
  {
   "cell_type": "markdown",
   "metadata": {},
   "source": [
    "▶️ Run `df_sneakers.shape` below to see the _shape_ (number of rows and columns) of the database.\n"
   ]
  },
  {
   "cell_type": "code",
   "execution_count": 178,
   "metadata": {},
   "outputs": [
    {
     "data": {
      "text/plain": [
       "(15, 3)"
      ]
     },
     "execution_count": 178,
     "metadata": {},
     "output_type": "execute_result"
    }
   ],
   "source": [
    "df_sneakers.shape"
   ]
  },
  {
   "cell_type": "markdown",
   "metadata": {},
   "source": [
    "---\n",
    "\n",
    "### 🎯 Challenge 13: Find the number of rows and columns in a `DataFrame`\n"
   ]
  },
  {
   "cell_type": "markdown",
   "metadata": {},
   "source": [
    "#### 👇 Tasks\n",
    "\n",
    "- ✔️ Store the number of rows in `df_sneakers` to a new variable named `num_rows`.\n",
    "- ✔️ Store the number of columns in `df_sneakers` to a new variable named `num_cols`.\n",
    "- ✔️ Use `.shape`, not `len()`.\n"
   ]
  },
  {
   "cell_type": "code",
   "execution_count": 179,
   "metadata": {},
   "outputs": [
    {
     "name": "stdout",
     "output_type": "stream",
     "text": [
      "15\n",
      "3\n"
     ]
    }
   ],
   "source": [
    "### BEGIN SOLUTION\n",
    "num_rows = df_sneakers.shape[0]\n",
    "num_cols = df_sneakers.shape[1]\n",
    "### END SOLUTION\n",
    "\n",
    "print(num_rows)\n",
    "print(num_cols)"
   ]
  },
  {
   "cell_type": "markdown",
   "metadata": {},
   "source": [
    "#### 🧭 Check Your Work\n",
    "\n",
    "- Once you're done, run the code cell below to test correctness.\n",
    "- ✔️ If the code cell runs without an error, you're good to move on.\n",
    "- ❌ If the code cell throws an error, go back and fix incorrect parts.\n"
   ]
  },
  {
   "cell_type": "markdown",
   "metadata": {},
   "source": [
    "---\n",
    "\n",
    "**🎯 Example: Find `Adidas` sneakers**\n"
   ]
  },
  {
   "cell_type": "code",
   "execution_count": 180,
   "metadata": {},
   "outputs": [
    {
     "data": {
      "text/html": [
       "<div>\n",
       "<style scoped>\n",
       "    .dataframe tbody tr th:only-of-type {\n",
       "        vertical-align: middle;\n",
       "    }\n",
       "\n",
       "    .dataframe tbody tr th {\n",
       "        vertical-align: top;\n",
       "    }\n",
       "\n",
       "    .dataframe thead th {\n",
       "        text-align: right;\n",
       "    }\n",
       "</style>\n",
       "<table border=\"1\" class=\"dataframe\">\n",
       "  <thead>\n",
       "    <tr style=\"text-align: right;\">\n",
       "      <th></th>\n",
       "      <th>brand</th>\n",
       "      <th>product</th>\n",
       "      <th>price</th>\n",
       "    </tr>\n",
       "  </thead>\n",
       "  <tbody>\n",
       "    <tr>\n",
       "      <th>0</th>\n",
       "      <td>Adidas</td>\n",
       "      <td>Yeezy 750 Boost Light Brown</td>\n",
       "      <td>1578</td>\n",
       "    </tr>\n",
       "    <tr>\n",
       "      <th>1</th>\n",
       "      <td>Adidas</td>\n",
       "      <td>Yeezy 350 Boost Pirate Black</td>\n",
       "      <td>910</td>\n",
       "    </tr>\n",
       "    <tr>\n",
       "      <th>2</th>\n",
       "      <td>Adidas</td>\n",
       "      <td>Yeezy Boost 350 V2 Lundmark Reflective</td>\n",
       "      <td>1009</td>\n",
       "    </tr>\n",
       "    <tr>\n",
       "      <th>3</th>\n",
       "      <td>Adidas</td>\n",
       "      <td>Yeezy 350 Boost V2 Black/Red</td>\n",
       "      <td>954</td>\n",
       "    </tr>\n",
       "    <tr>\n",
       "      <th>10</th>\n",
       "      <td>Adidas</td>\n",
       "      <td>Yeezy Boost 350 V2 Black Reflective</td>\n",
       "      <td>1437</td>\n",
       "    </tr>\n",
       "    <tr>\n",
       "      <th>11</th>\n",
       "      <td>Adidas</td>\n",
       "      <td>Yeezy Boost 350 V2 Antlia Reflective</td>\n",
       "      <td>912</td>\n",
       "    </tr>\n",
       "    <tr>\n",
       "      <th>12</th>\n",
       "      <td>Adidas</td>\n",
       "      <td>Yeezy Boost 350 V2 Synth Reflective</td>\n",
       "      <td>1292</td>\n",
       "    </tr>\n",
       "    <tr>\n",
       "      <th>13</th>\n",
       "      <td>Adidas</td>\n",
       "      <td>Yeezy 350 Boost Turtledove</td>\n",
       "      <td>1279</td>\n",
       "    </tr>\n",
       "    <tr>\n",
       "      <th>14</th>\n",
       "      <td>Adidas</td>\n",
       "      <td>Yeezy 750 Boost Glow in the Dark</td>\n",
       "      <td>917</td>\n",
       "    </tr>\n",
       "  </tbody>\n",
       "</table>\n",
       "</div>"
      ],
      "text/plain": [
       "     brand                                 product  price\n",
       "0   Adidas             Yeezy 750 Boost Light Brown   1578\n",
       "1   Adidas            Yeezy 350 Boost Pirate Black    910\n",
       "2   Adidas  Yeezy Boost 350 V2 Lundmark Reflective   1009\n",
       "3   Adidas            Yeezy 350 Boost V2 Black/Red    954\n",
       "10  Adidas     Yeezy Boost 350 V2 Black Reflective   1437\n",
       "11  Adidas    Yeezy Boost 350 V2 Antlia Reflective    912\n",
       "12  Adidas     Yeezy Boost 350 V2 Synth Reflective   1292\n",
       "13  Adidas              Yeezy 350 Boost Turtledove   1279\n",
       "14  Adidas        Yeezy 750 Boost Glow in the Dark    917"
      ]
     },
     "execution_count": 180,
     "metadata": {},
     "output_type": "execute_result"
    }
   ],
   "source": [
    "df_adidas = df_sneakers[df_sneakers[\"brand\"] == \"Adidas\"]\n",
    "\n",
    "df_adidas"
   ]
  },
  {
   "cell_type": "markdown",
   "metadata": {},
   "source": [
    "---\n",
    "\n",
    "**🎯 Example: Find Sneakers under \\\\$1,000**\n"
   ]
  },
  {
   "cell_type": "code",
   "execution_count": 181,
   "metadata": {},
   "outputs": [
    {
     "data": {
      "text/html": [
       "<div>\n",
       "<style scoped>\n",
       "    .dataframe tbody tr th:only-of-type {\n",
       "        vertical-align: middle;\n",
       "    }\n",
       "\n",
       "    .dataframe tbody tr th {\n",
       "        vertical-align: top;\n",
       "    }\n",
       "\n",
       "    .dataframe thead th {\n",
       "        text-align: right;\n",
       "    }\n",
       "</style>\n",
       "<table border=\"1\" class=\"dataframe\">\n",
       "  <thead>\n",
       "    <tr style=\"text-align: right;\">\n",
       "      <th></th>\n",
       "      <th>brand</th>\n",
       "      <th>product</th>\n",
       "      <th>price</th>\n",
       "    </tr>\n",
       "  </thead>\n",
       "  <tbody>\n",
       "    <tr>\n",
       "      <th>1</th>\n",
       "      <td>Adidas</td>\n",
       "      <td>Yeezy 350 Boost Pirate Black</td>\n",
       "      <td>910</td>\n",
       "    </tr>\n",
       "    <tr>\n",
       "      <th>3</th>\n",
       "      <td>Adidas</td>\n",
       "      <td>Yeezy 350 Boost V2 Black/Red</td>\n",
       "      <td>954</td>\n",
       "    </tr>\n",
       "    <tr>\n",
       "      <th>11</th>\n",
       "      <td>Adidas</td>\n",
       "      <td>Yeezy Boost 350 V2 Antlia Reflective</td>\n",
       "      <td>912</td>\n",
       "    </tr>\n",
       "    <tr>\n",
       "      <th>14</th>\n",
       "      <td>Adidas</td>\n",
       "      <td>Yeezy 750 Boost Glow in the Dark</td>\n",
       "      <td>917</td>\n",
       "    </tr>\n",
       "  </tbody>\n",
       "</table>\n",
       "</div>"
      ],
      "text/plain": [
       "     brand                               product  price\n",
       "1   Adidas          Yeezy 350 Boost Pirate Black    910\n",
       "3   Adidas          Yeezy 350 Boost V2 Black/Red    954\n",
       "11  Adidas  Yeezy Boost 350 V2 Antlia Reflective    912\n",
       "14  Adidas      Yeezy 750 Boost Glow in the Dark    917"
      ]
     },
     "execution_count": 181,
     "metadata": {},
     "output_type": "execute_result"
    }
   ],
   "source": [
    "df_under_1000 = df_sneakers[df_sneakers[\"price\"] < 1000]\n",
    "\n",
    "df_under_1000"
   ]
  },
  {
   "cell_type": "markdown",
   "metadata": {},
   "source": [
    "---\n",
    "\n",
    "**🎯 Challenge 16: Find `Nike` Sneakers over \\\\$3,000**\n"
   ]
  },
  {
   "cell_type": "code",
   "execution_count": 182,
   "metadata": {},
   "outputs": [
    {
     "data": {
      "text/html": [
       "<div>\n",
       "<style scoped>\n",
       "    .dataframe tbody tr th:only-of-type {\n",
       "        vertical-align: middle;\n",
       "    }\n",
       "\n",
       "    .dataframe tbody tr th {\n",
       "        vertical-align: top;\n",
       "    }\n",
       "\n",
       "    .dataframe thead th {\n",
       "        text-align: right;\n",
       "    }\n",
       "</style>\n",
       "<table border=\"1\" class=\"dataframe\">\n",
       "  <thead>\n",
       "    <tr style=\"text-align: right;\">\n",
       "      <th></th>\n",
       "      <th>brand</th>\n",
       "      <th>product</th>\n",
       "      <th>price</th>\n",
       "    </tr>\n",
       "  </thead>\n",
       "  <tbody>\n",
       "    <tr>\n",
       "      <th>4</th>\n",
       "      <td>Nike</td>\n",
       "      <td>Air Yeezy Blink</td>\n",
       "      <td>3142</td>\n",
       "    </tr>\n",
       "    <tr>\n",
       "      <th>5</th>\n",
       "      <td>Nike</td>\n",
       "      <td>Air Yeezy 2 Red October</td>\n",
       "      <td>6075</td>\n",
       "    </tr>\n",
       "    <tr>\n",
       "      <th>6</th>\n",
       "      <td>Nike</td>\n",
       "      <td>Air Yeezy 2 Solar Red</td>\n",
       "      <td>4239</td>\n",
       "    </tr>\n",
       "    <tr>\n",
       "      <th>7</th>\n",
       "      <td>Nike</td>\n",
       "      <td>Air Yeezy 2 Pure Platinum</td>\n",
       "      <td>3448</td>\n",
       "    </tr>\n",
       "  </tbody>\n",
       "</table>\n",
       "</div>"
      ],
      "text/plain": [
       "  brand                    product  price\n",
       "4  Nike            Air Yeezy Blink   3142\n",
       "5  Nike    Air Yeezy 2 Red October   6075\n",
       "6  Nike      Air Yeezy 2 Solar Red   4239\n",
       "7  Nike  Air Yeezy 2 Pure Platinum   3448"
      ]
     },
     "execution_count": 182,
     "metadata": {},
     "output_type": "execute_result"
    }
   ],
   "source": [
    "df_nike_over_3000 = df_sneakers[\n",
    "    (df_sneakers[\"brand\"] == \"Nike\") & (df_sneakers[\"price\"] > 3000)\n",
    "]\n",
    "\n",
    "df_nike_over_3000"
   ]
  },
  {
   "cell_type": "markdown",
   "metadata": {},
   "source": [
    "---\n",
    "\n",
    "**🎯 Example: Sort sneakers by price in descending order**\n"
   ]
  },
  {
   "cell_type": "code",
   "execution_count": 183,
   "metadata": {},
   "outputs": [
    {
     "data": {
      "text/html": [
       "<div>\n",
       "<style scoped>\n",
       "    .dataframe tbody tr th:only-of-type {\n",
       "        vertical-align: middle;\n",
       "    }\n",
       "\n",
       "    .dataframe tbody tr th {\n",
       "        vertical-align: top;\n",
       "    }\n",
       "\n",
       "    .dataframe thead th {\n",
       "        text-align: right;\n",
       "    }\n",
       "</style>\n",
       "<table border=\"1\" class=\"dataframe\">\n",
       "  <thead>\n",
       "    <tr style=\"text-align: right;\">\n",
       "      <th></th>\n",
       "      <th>brand</th>\n",
       "      <th>product</th>\n",
       "      <th>price</th>\n",
       "    </tr>\n",
       "  </thead>\n",
       "  <tbody>\n",
       "    <tr>\n",
       "      <th>5</th>\n",
       "      <td>Nike</td>\n",
       "      <td>Air Yeezy 2 Red October</td>\n",
       "      <td>6075</td>\n",
       "    </tr>\n",
       "    <tr>\n",
       "      <th>6</th>\n",
       "      <td>Nike</td>\n",
       "      <td>Air Yeezy 2 Solar Red</td>\n",
       "      <td>4239</td>\n",
       "    </tr>\n",
       "    <tr>\n",
       "      <th>7</th>\n",
       "      <td>Nike</td>\n",
       "      <td>Air Yeezy 2 Pure Platinum</td>\n",
       "      <td>3448</td>\n",
       "    </tr>\n",
       "    <tr>\n",
       "      <th>4</th>\n",
       "      <td>Nike</td>\n",
       "      <td>Air Yeezy Blink</td>\n",
       "      <td>3142</td>\n",
       "    </tr>\n",
       "    <tr>\n",
       "      <th>9</th>\n",
       "      <td>Nike</td>\n",
       "      <td>Air Yeezy Zen Grey</td>\n",
       "      <td>2139</td>\n",
       "    </tr>\n",
       "    <tr>\n",
       "      <th>8</th>\n",
       "      <td>Nike</td>\n",
       "      <td>Air Yeezy Net</td>\n",
       "      <td>1888</td>\n",
       "    </tr>\n",
       "    <tr>\n",
       "      <th>0</th>\n",
       "      <td>Adidas</td>\n",
       "      <td>Yeezy 750 Boost Light Brown</td>\n",
       "      <td>1578</td>\n",
       "    </tr>\n",
       "    <tr>\n",
       "      <th>10</th>\n",
       "      <td>Adidas</td>\n",
       "      <td>Yeezy Boost 350 V2 Black Reflective</td>\n",
       "      <td>1437</td>\n",
       "    </tr>\n",
       "    <tr>\n",
       "      <th>12</th>\n",
       "      <td>Adidas</td>\n",
       "      <td>Yeezy Boost 350 V2 Synth Reflective</td>\n",
       "      <td>1292</td>\n",
       "    </tr>\n",
       "    <tr>\n",
       "      <th>13</th>\n",
       "      <td>Adidas</td>\n",
       "      <td>Yeezy 350 Boost Turtledove</td>\n",
       "      <td>1279</td>\n",
       "    </tr>\n",
       "    <tr>\n",
       "      <th>2</th>\n",
       "      <td>Adidas</td>\n",
       "      <td>Yeezy Boost 350 V2 Lundmark Reflective</td>\n",
       "      <td>1009</td>\n",
       "    </tr>\n",
       "    <tr>\n",
       "      <th>3</th>\n",
       "      <td>Adidas</td>\n",
       "      <td>Yeezy 350 Boost V2 Black/Red</td>\n",
       "      <td>954</td>\n",
       "    </tr>\n",
       "    <tr>\n",
       "      <th>14</th>\n",
       "      <td>Adidas</td>\n",
       "      <td>Yeezy 750 Boost Glow in the Dark</td>\n",
       "      <td>917</td>\n",
       "    </tr>\n",
       "    <tr>\n",
       "      <th>11</th>\n",
       "      <td>Adidas</td>\n",
       "      <td>Yeezy Boost 350 V2 Antlia Reflective</td>\n",
       "      <td>912</td>\n",
       "    </tr>\n",
       "    <tr>\n",
       "      <th>1</th>\n",
       "      <td>Adidas</td>\n",
       "      <td>Yeezy 350 Boost Pirate Black</td>\n",
       "      <td>910</td>\n",
       "    </tr>\n",
       "  </tbody>\n",
       "</table>\n",
       "</div>"
      ],
      "text/plain": [
       "     brand                                 product  price\n",
       "5     Nike                 Air Yeezy 2 Red October   6075\n",
       "6     Nike                   Air Yeezy 2 Solar Red   4239\n",
       "7     Nike               Air Yeezy 2 Pure Platinum   3448\n",
       "4     Nike                         Air Yeezy Blink   3142\n",
       "9     Nike                      Air Yeezy Zen Grey   2139\n",
       "8     Nike                           Air Yeezy Net   1888\n",
       "0   Adidas             Yeezy 750 Boost Light Brown   1578\n",
       "10  Adidas     Yeezy Boost 350 V2 Black Reflective   1437\n",
       "12  Adidas     Yeezy Boost 350 V2 Synth Reflective   1292\n",
       "13  Adidas              Yeezy 350 Boost Turtledove   1279\n",
       "2   Adidas  Yeezy Boost 350 V2 Lundmark Reflective   1009\n",
       "3   Adidas            Yeezy 350 Boost V2 Black/Red    954\n",
       "14  Adidas        Yeezy 750 Boost Glow in the Dark    917\n",
       "11  Adidas    Yeezy Boost 350 V2 Antlia Reflective    912\n",
       "1   Adidas            Yeezy 350 Boost Pirate Black    910"
      ]
     },
     "execution_count": 183,
     "metadata": {},
     "output_type": "execute_result"
    }
   ],
   "source": [
    "df_sorted_by_price_desc = df_sneakers.sort_values(\"price\", ascending=False)\n",
    "\n",
    "df_sorted_by_price_desc"
   ]
  },
  {
   "cell_type": "markdown",
   "metadata": {},
   "source": [
    "---\n",
    "\n",
    "**🎯 Example: Sneakers `> 6000` or `< 1000`**\n"
   ]
  },
  {
   "cell_type": "code",
   "execution_count": 184,
   "metadata": {},
   "outputs": [
    {
     "data": {
      "text/html": [
       "<div>\n",
       "<style scoped>\n",
       "    .dataframe tbody tr th:only-of-type {\n",
       "        vertical-align: middle;\n",
       "    }\n",
       "\n",
       "    .dataframe tbody tr th {\n",
       "        vertical-align: top;\n",
       "    }\n",
       "\n",
       "    .dataframe thead th {\n",
       "        text-align: right;\n",
       "    }\n",
       "</style>\n",
       "<table border=\"1\" class=\"dataframe\">\n",
       "  <thead>\n",
       "    <tr style=\"text-align: right;\">\n",
       "      <th></th>\n",
       "      <th>brand</th>\n",
       "      <th>product</th>\n",
       "      <th>price</th>\n",
       "    </tr>\n",
       "  </thead>\n",
       "  <tbody>\n",
       "    <tr>\n",
       "      <th>1</th>\n",
       "      <td>Adidas</td>\n",
       "      <td>Yeezy 350 Boost Pirate Black</td>\n",
       "      <td>910</td>\n",
       "    </tr>\n",
       "    <tr>\n",
       "      <th>3</th>\n",
       "      <td>Adidas</td>\n",
       "      <td>Yeezy 350 Boost V2 Black/Red</td>\n",
       "      <td>954</td>\n",
       "    </tr>\n",
       "    <tr>\n",
       "      <th>5</th>\n",
       "      <td>Nike</td>\n",
       "      <td>Air Yeezy 2 Red October</td>\n",
       "      <td>6075</td>\n",
       "    </tr>\n",
       "    <tr>\n",
       "      <th>11</th>\n",
       "      <td>Adidas</td>\n",
       "      <td>Yeezy Boost 350 V2 Antlia Reflective</td>\n",
       "      <td>912</td>\n",
       "    </tr>\n",
       "    <tr>\n",
       "      <th>14</th>\n",
       "      <td>Adidas</td>\n",
       "      <td>Yeezy 750 Boost Glow in the Dark</td>\n",
       "      <td>917</td>\n",
       "    </tr>\n",
       "  </tbody>\n",
       "</table>\n",
       "</div>"
      ],
      "text/plain": [
       "     brand                               product  price\n",
       "1   Adidas          Yeezy 350 Boost Pirate Black    910\n",
       "3   Adidas          Yeezy 350 Boost V2 Black/Red    954\n",
       "5     Nike               Air Yeezy 2 Red October   6075\n",
       "11  Adidas  Yeezy Boost 350 V2 Antlia Reflective    912\n",
       "14  Adidas      Yeezy 750 Boost Glow in the Dark    917"
      ]
     },
     "execution_count": 184,
     "metadata": {},
     "output_type": "execute_result"
    }
   ],
   "source": [
    "df_polar = df_sneakers[(df_sneakers[\"price\"] > 6000) | (df_sneakers[\"price\"] < 1000)]\n",
    "\n",
    "df_polar"
   ]
  },
  {
   "cell_type": "markdown",
   "metadata": {
    "nbgrader": {
     "grade": true,
     "grade_id": "challenge-12",
     "locked": true,
     "points": "1",
     "solution": false
    }
   },
   "source": [
    "---\n",
    "\n",
    "**🎯 Example: Sort by brand ascending and price descending**\n"
   ]
  },
  {
   "cell_type": "code",
   "execution_count": 185,
   "metadata": {},
   "outputs": [
    {
     "data": {
      "text/html": [
       "<div>\n",
       "<style scoped>\n",
       "    .dataframe tbody tr th:only-of-type {\n",
       "        vertical-align: middle;\n",
       "    }\n",
       "\n",
       "    .dataframe tbody tr th {\n",
       "        vertical-align: top;\n",
       "    }\n",
       "\n",
       "    .dataframe thead th {\n",
       "        text-align: right;\n",
       "    }\n",
       "</style>\n",
       "<table border=\"1\" class=\"dataframe\">\n",
       "  <thead>\n",
       "    <tr style=\"text-align: right;\">\n",
       "      <th></th>\n",
       "      <th>brand</th>\n",
       "      <th>product</th>\n",
       "      <th>price</th>\n",
       "    </tr>\n",
       "  </thead>\n",
       "  <tbody>\n",
       "    <tr>\n",
       "      <th>0</th>\n",
       "      <td>Adidas</td>\n",
       "      <td>Yeezy 750 Boost Light Brown</td>\n",
       "      <td>1578</td>\n",
       "    </tr>\n",
       "    <tr>\n",
       "      <th>10</th>\n",
       "      <td>Adidas</td>\n",
       "      <td>Yeezy Boost 350 V2 Black Reflective</td>\n",
       "      <td>1437</td>\n",
       "    </tr>\n",
       "    <tr>\n",
       "      <th>12</th>\n",
       "      <td>Adidas</td>\n",
       "      <td>Yeezy Boost 350 V2 Synth Reflective</td>\n",
       "      <td>1292</td>\n",
       "    </tr>\n",
       "    <tr>\n",
       "      <th>13</th>\n",
       "      <td>Adidas</td>\n",
       "      <td>Yeezy 350 Boost Turtledove</td>\n",
       "      <td>1279</td>\n",
       "    </tr>\n",
       "    <tr>\n",
       "      <th>2</th>\n",
       "      <td>Adidas</td>\n",
       "      <td>Yeezy Boost 350 V2 Lundmark Reflective</td>\n",
       "      <td>1009</td>\n",
       "    </tr>\n",
       "    <tr>\n",
       "      <th>3</th>\n",
       "      <td>Adidas</td>\n",
       "      <td>Yeezy 350 Boost V2 Black/Red</td>\n",
       "      <td>954</td>\n",
       "    </tr>\n",
       "    <tr>\n",
       "      <th>14</th>\n",
       "      <td>Adidas</td>\n",
       "      <td>Yeezy 750 Boost Glow in the Dark</td>\n",
       "      <td>917</td>\n",
       "    </tr>\n",
       "    <tr>\n",
       "      <th>11</th>\n",
       "      <td>Adidas</td>\n",
       "      <td>Yeezy Boost 350 V2 Antlia Reflective</td>\n",
       "      <td>912</td>\n",
       "    </tr>\n",
       "    <tr>\n",
       "      <th>1</th>\n",
       "      <td>Adidas</td>\n",
       "      <td>Yeezy 350 Boost Pirate Black</td>\n",
       "      <td>910</td>\n",
       "    </tr>\n",
       "    <tr>\n",
       "      <th>5</th>\n",
       "      <td>Nike</td>\n",
       "      <td>Air Yeezy 2 Red October</td>\n",
       "      <td>6075</td>\n",
       "    </tr>\n",
       "    <tr>\n",
       "      <th>6</th>\n",
       "      <td>Nike</td>\n",
       "      <td>Air Yeezy 2 Solar Red</td>\n",
       "      <td>4239</td>\n",
       "    </tr>\n",
       "    <tr>\n",
       "      <th>7</th>\n",
       "      <td>Nike</td>\n",
       "      <td>Air Yeezy 2 Pure Platinum</td>\n",
       "      <td>3448</td>\n",
       "    </tr>\n",
       "    <tr>\n",
       "      <th>4</th>\n",
       "      <td>Nike</td>\n",
       "      <td>Air Yeezy Blink</td>\n",
       "      <td>3142</td>\n",
       "    </tr>\n",
       "    <tr>\n",
       "      <th>9</th>\n",
       "      <td>Nike</td>\n",
       "      <td>Air Yeezy Zen Grey</td>\n",
       "      <td>2139</td>\n",
       "    </tr>\n",
       "    <tr>\n",
       "      <th>8</th>\n",
       "      <td>Nike</td>\n",
       "      <td>Air Yeezy Net</td>\n",
       "      <td>1888</td>\n",
       "    </tr>\n",
       "  </tbody>\n",
       "</table>\n",
       "</div>"
      ],
      "text/plain": [
       "     brand                                 product  price\n",
       "0   Adidas             Yeezy 750 Boost Light Brown   1578\n",
       "10  Adidas     Yeezy Boost 350 V2 Black Reflective   1437\n",
       "12  Adidas     Yeezy Boost 350 V2 Synth Reflective   1292\n",
       "13  Adidas              Yeezy 350 Boost Turtledove   1279\n",
       "2   Adidas  Yeezy Boost 350 V2 Lundmark Reflective   1009\n",
       "3   Adidas            Yeezy 350 Boost V2 Black/Red    954\n",
       "14  Adidas        Yeezy 750 Boost Glow in the Dark    917\n",
       "11  Adidas    Yeezy Boost 350 V2 Antlia Reflective    912\n",
       "1   Adidas            Yeezy 350 Boost Pirate Black    910\n",
       "5     Nike                 Air Yeezy 2 Red October   6075\n",
       "6     Nike                   Air Yeezy 2 Solar Red   4239\n",
       "7     Nike               Air Yeezy 2 Pure Platinum   3448\n",
       "4     Nike                         Air Yeezy Blink   3142\n",
       "9     Nike                      Air Yeezy Zen Grey   2139\n",
       "8     Nike                           Air Yeezy Net   1888"
      ]
     },
     "execution_count": 185,
     "metadata": {},
     "output_type": "execute_result"
    }
   ],
   "source": [
    "df_sorted_by_brand_price = df_sneakers.sort_values(\n",
    "    [\"brand\", \"price\"], ascending=[True, False]\n",
    ")\n",
    "\n",
    "df_sorted_by_brand_price"
   ]
  }
 ],
 "metadata": {
  "colab": {
   "collapsed_sections": [
    "TwWyyaQPem7q",
    "EdrK-mBsem7r",
    "VsIF7Fwwem7r",
    "krFaYS9Hem7u",
    "Iyt-q8KRem7v",
    "Yyt2-xOaem7v",
    "ldRi46SUem7v",
    "DW30mOfZem7v",
    "TpncLNBdem7x",
    "juiThUb1em7y",
    "3In4qrctem7y",
    "oNNKvOTqem7y",
    "Mrzib8KMem7z",
    "GfnhBiRvem7z",
    "T4ys5Rh6em7z",
    "9vwnunEsem70",
    "gIPWMysLem70",
    "v85tniIvem70",
    "vFsItQLaem71",
    "3-VRC3X9em71",
    "gHFL-CDcem71",
    "_L0Jctu8em71",
    "F4tMGPZvem73",
    "CwpwSAs9em74"
   ],
   "name": "L11-pandas-solution.ipynb",
   "provenance": []
  },
  "kernelspec": {
   "display_name": "gies",
   "language": "python",
   "name": "python3"
  },
  "language_info": {
   "codemirror_mode": {
    "name": "ipython",
    "version": 3
   },
   "file_extension": ".py",
   "mimetype": "text/x-python",
   "name": "python",
   "nbconvert_exporter": "python",
   "pygments_lexer": "ipython3",
   "version": "3.12.6"
  }
 },
 "nbformat": 4,
 "nbformat_minor": 4
}
