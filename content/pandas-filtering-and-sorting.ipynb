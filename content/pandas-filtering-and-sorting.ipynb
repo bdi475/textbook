{
 "cells": [
  {
   "cell_type": "markdown",
   "metadata": {
    "id": "x7-fgFpYem7d"
   },
   "source": [
    "# Pandas Filtering and Sorting\n"
   ]
  },
  {
   "cell_type": "markdown",
   "metadata": {},
   "source": [
    "Import `pandas` and `numpy` to follow along with the examples in this page.\n"
   ]
  },
  {
   "cell_type": "code",
   "execution_count": 1,
   "metadata": {
    "id": "jfnhv8_Yem7j"
   },
   "outputs": [],
   "source": [
    "import pandas as pd\n",
    "import numpy as np"
   ]
  },
  {
   "cell_type": "markdown",
   "metadata": {
    "id": "VsIF7Fwwem7r"
   },
   "source": [
    "---\n",
    "\n",
    "## 🧮 Filtering a `Series`\n"
   ]
  },
  {
   "cell_type": "markdown",
   "metadata": {
    "id": "8CxUlBg1em7r"
   },
   "source": [
    "To filter rows in a `DataFrame` or `Series`, we can use boolean indexing. This involves creating a boolean mask that indicates which rows meet a certain condition, and then using that mask to select the desired rows.\n",
    "\n",
    "Boolean indexing can be applied to both `DataFrame` and `Series` objects in pandas. This is a powerful and flexible technique for filtering data based on specific criteria.\n",
    "\n",
    "We'll start with a simple example using a `Series`.\n",
    "\n",
    "▶️ Create a `Series` named `nums` with the following four integers: `-20`, `-10`, `10`, `20`.\n"
   ]
  },
  {
   "cell_type": "code",
   "execution_count": 2,
   "metadata": {
    "id": "asoC1rwqem7s",
    "outputId": "16d9da10-fd9b-43a7-f9cf-f02220fa055f"
   },
   "outputs": [
    {
     "data": {
      "text/plain": [
       "0   -20\n",
       "1   -10\n",
       "2    10\n",
       "3    20\n",
       "dtype: int64"
      ]
     },
     "metadata": {},
     "output_type": "display_data"
    }
   ],
   "source": [
    "nums = pd.Series([-20, -10, 10, 20])\n",
    "\n",
    "display(nums)"
   ]
  },
  {
   "cell_type": "markdown",
   "metadata": {
    "id": "UMGcKWQAem7s"
   },
   "source": [
    "👉 Our goal is to filter the `Series` so that it only contains **positive** values. We'll first manually create a boolean mask that indicates which values are positive.\n",
    "\n",
    "▶️ Create a new `Series` named `keep` with the following four boolean values: `False`, `False`, `True`, `True`.\n"
   ]
  },
  {
   "cell_type": "code",
   "execution_count": 3,
   "metadata": {
    "id": "u-NHJJa2em7s",
    "outputId": "c0551ddb-d8a9-4851-d4de-cb6702041310"
   },
   "outputs": [
    {
     "data": {
      "text/plain": [
       "0    False\n",
       "1    False\n",
       "2     True\n",
       "3     True\n",
       "dtype: bool"
      ]
     },
     "metadata": {},
     "output_type": "display_data"
    }
   ],
   "source": [
    "keep = pd.Series([False, False, True, True])\n",
    "\n",
    "display(keep)"
   ]
  },
  {
   "cell_type": "markdown",
   "metadata": {},
   "source": [
    "Let's visualize the two `Series` (`nums` and `keep`) you've created.\n",
    "\n",
    "![nums-and-keep](images/pandas/nums-and-keep-series.png)\n"
   ]
  },
  {
   "cell_type": "markdown",
   "metadata": {
    "id": "MoPITf3Cem7s"
   },
   "source": [
    "Once we have a boolean mask (the `keep` `Series`), we can use it to filter the original `Series` (`nums`).\n"
   ]
  },
  {
   "cell_type": "code",
   "execution_count": 4,
   "metadata": {
    "id": "JgnCgE1iem7t",
    "outputId": "988ca472-cfbf-4a74-b398-3e7d77320d7a"
   },
   "outputs": [
    {
     "data": {
      "text/plain": [
       "2    10\n",
       "3    20\n",
       "dtype: int64"
      ]
     },
     "execution_count": 4,
     "metadata": {},
     "output_type": "execute_result"
    }
   ],
   "source": [
    "nums[keep]"
   ]
  },
  {
   "cell_type": "markdown",
   "metadata": {},
   "source": [
    "This can be confusing at first, but the idea is that the `True` values in the `keep` `Series` indicate which values in the `nums` `Series` should be kept. The `False` values indicate which values should be discarded. This is done by passing the `keep` `Series` inside the square brackets of the `nums` `Series`, like this: `nums[keep]`.\n",
    "\n",
    "This is called boolean indexing, and it's a powerful way to filter data in pandas. The boolean `Series` is a boolean _mask_ that tells pandas which values to keep and which to discard.\n",
    "\n",
    "If you're confused about what just happened, this visualization may give you a better idea.\n",
    "\n",
    "![nums-and-keep-filter-result](images/pandas/nums-and-keep-filter-result.png)\n"
   ]
  },
  {
   "cell_type": "markdown",
   "metadata": {
    "id": "_QB4TJkhem7t"
   },
   "source": [
    ":::{danger} Same Length Requirement\n",
    "When using boolean indexing, make sure the boolean mask (`keep`) has the same length as the original `Series` (`nums`). Otherwise, you'll encounter an error.\n",
    "\n",
    "For example, if `keep` has fewer elements than `nums`, you'll get an `IndexingError`. In the example below, `keep_incorrect` has only three boolean values, while `nums` has four integers. This raises an `IndexingError`.\n",
    "\n",
    "⛔️ **Heads-up**: The code below will throw an error.\n",
    "\n",
    "```python\n",
    "nums = pd.Series([-20, -10, 10, 20])\n",
    "keep_incorrect = pd.Series([False, False, True])\n",
    "nums[keep_incorrect]\n",
    "# IndexingError: Unalignable boolean Series provided as indexer\n",
    "```\n",
    "\n",
    ":::\n"
   ]
  },
  {
   "cell_type": "markdown",
   "metadata": {
    "id": "sk1tWg9Jem7t"
   },
   "source": [
    "### 🗂️ Creating Boolean Masks Programmatically\n",
    "\n",
    "The previous example was a bit contrived. We manually created a boolean mask (`keep`) to filter the `nums` `Series`. This is not how you would do it in practice. If you had a `Series` with millions of elements, you wouldn't want to manually create a boolean mask with millions of `True` and `False` values.\n",
    "\n",
    "Is there a way to create the boolean mask _programmatically_? Yes! You can use comparison operators to create boolean masks.\n"
   ]
  },
  {
   "cell_type": "code",
   "execution_count": 5,
   "metadata": {
    "id": "o4cfMPaoem7t",
    "outputId": "02d669d8-eb82-4374-c8cf-13f724b09d68"
   },
   "outputs": [
    {
     "data": {
      "text/plain": [
       "0    False\n",
       "1    False\n",
       "2     True\n",
       "3     True\n",
       "dtype: bool"
      ]
     },
     "execution_count": 5,
     "metadata": {},
     "output_type": "execute_result"
    }
   ],
   "source": [
    "keep_by_comparison = nums > 0\n",
    "\n",
    "keep_by_comparison"
   ]
  },
  {
   "cell_type": "markdown",
   "metadata": {
    "id": "y6x0xWCzem7u"
   },
   "source": [
    "The expression `nums > 0` compares each element in the `nums` `Series` to `0`, returning a new boolean `Series` where each value indicates whether the corresponding value in `nums` is greater than `0`.\n",
    "\n",
    "You can use other comparison operators as well, such as `<`, `<=`, `>=`, `==`, and `!=`.\n",
    "\n",
    "The resulting boolean `Series` is identical to the manually created `keep` `Series` from earlier. We can check this using the `pd.testing.assert_series_equal()` function, which raises an error if the two `Series` are not equal.\n"
   ]
  },
  {
   "cell_type": "code",
   "execution_count": 6,
   "metadata": {},
   "outputs": [
    {
     "data": {
      "text/plain": [
       "0    False\n",
       "1    False\n",
       "2     True\n",
       "3     True\n",
       "dtype: bool"
      ]
     },
     "metadata": {},
     "output_type": "display_data"
    },
    {
     "data": {
      "text/plain": [
       "0    False\n",
       "1    False\n",
       "2     True\n",
       "3     True\n",
       "dtype: bool"
      ]
     },
     "metadata": {},
     "output_type": "display_data"
    }
   ],
   "source": [
    "# Manually created boolean mask\n",
    "display(keep)\n",
    "\n",
    "# Programmatically created boolean mask\n",
    "display(keep_by_comparison)\n",
    "\n",
    "# Check that both boolean masks are identical\n",
    "pd.testing.assert_series_equal(keep, keep_by_comparison)"
   ]
  },
  {
   "cell_type": "markdown",
   "metadata": {},
   "source": [
    "We can use the `keep_by_comparison` to filter positive values in `nums`. This works the same way as before where the `True` values in the boolean mask indicate which values to keep. `False` values indicate which values to discard.\n"
   ]
  },
  {
   "cell_type": "code",
   "execution_count": 7,
   "metadata": {
    "id": "Fqai24mKem7u",
    "outputId": "ce2b43ce-d943-4596-d294-9d0a20130045"
   },
   "outputs": [
    {
     "data": {
      "text/plain": [
       "2    10\n",
       "3    20\n",
       "dtype: int64"
      ]
     },
     "execution_count": 7,
     "metadata": {},
     "output_type": "execute_result"
    }
   ],
   "source": [
    "nums[keep_by_comparison]"
   ]
  },
  {
   "cell_type": "markdown",
   "metadata": {
    "id": "TBFHU66Gem7u"
   },
   "source": [
    ":::{tip} Boolean Indexing Does Not Modify Original Data\n",
    "Filtering elements using a boolean mask returns **a new `Series`** without modifying the original `Series`.\n",
    "\n",
    "```python\n",
    "print(\"Negative Values (filtered):\")\n",
    "display(nums[nums < 10])\n",
    "\n",
    "# Output:\n",
    "# Negative Values (filtered):\n",
    "# 0   -20\n",
    "# 1   -10\n",
    "# dtype: int64\n",
    "\n",
    "print(\"\\n\\nOriginal Values:\")\n",
    "display(nums)\n",
    "\n",
    "# Output:\n",
    "# Original Values:\n",
    "# 0   -20\n",
    "# 1   -10\n",
    "# 2    10\n",
    "# 3    20\n",
    "# dtype: int64\n",
    "```\n",
    "\n",
    "Notice how the original `nums` `Series` remains unchanged after filtering.\n",
    ":::\n"
   ]
  },
  {
   "cell_type": "markdown",
   "metadata": {
    "id": "krFaYS9Hem7u"
   },
   "source": [
    "---\n",
    "\n",
    "**🎯 Example: Filter even numbers**\n"
   ]
  },
  {
   "cell_type": "code",
   "execution_count": 8,
   "metadata": {
    "id": "KbnAsgt-em7v",
    "outputId": "c06fef7f-d0bb-41a0-8dec-08388bac4e72"
   },
   "outputs": [
    {
     "data": {
      "text/plain": [
       "0    2\n",
       "2    4\n",
       "3    8\n",
       "4   -2\n",
       "8    4\n",
       "dtype: int64"
      ]
     },
     "execution_count": 8,
     "metadata": {},
     "output_type": "execute_result"
    }
   ],
   "source": [
    "all_nums = pd.Series([2, 5, 4, 8, -2, -5, -11, 13, 4])\n",
    "\n",
    "even_nums = all_nums[all_nums % 2 == 0]\n",
    "\n",
    "even_nums"
   ]
  },
  {
   "cell_type": "markdown",
   "metadata": {},
   "source": [
    "---\n",
    "\n",
    "## 🧩 Filtering a `DataFrame`\n"
   ]
  },
  {
   "cell_type": "markdown",
   "metadata": {},
   "source": [
    "Recall that a `DataFrame` is a collection of one or more columns, where each column is a `Series`. This means that filtering a `DataFrame` is very similar to filtering a `Series`.\n",
    "\n",
    "We'll start by creating a simple `DataFrame` that contains a list of transactions.\n"
   ]
  },
  {
   "cell_type": "code",
   "execution_count": 9,
   "metadata": {},
   "outputs": [
    {
     "data": {
      "text/html": [
       "<div>\n",
       "<style scoped>\n",
       "    .dataframe tbody tr th:only-of-type {\n",
       "        vertical-align: middle;\n",
       "    }\n",
       "\n",
       "    .dataframe tbody tr th {\n",
       "        vertical-align: top;\n",
       "    }\n",
       "\n",
       "    .dataframe thead th {\n",
       "        text-align: right;\n",
       "    }\n",
       "</style>\n",
       "<table border=\"1\" class=\"dataframe\">\n",
       "  <thead>\n",
       "    <tr style=\"text-align: right;\">\n",
       "      <th></th>\n",
       "      <th>name</th>\n",
       "      <th>amount</th>\n",
       "    </tr>\n",
       "  </thead>\n",
       "  <tbody>\n",
       "    <tr>\n",
       "      <th>0</th>\n",
       "      <td>John</td>\n",
       "      <td>-20</td>\n",
       "    </tr>\n",
       "    <tr>\n",
       "      <th>1</th>\n",
       "      <td>Mary</td>\n",
       "      <td>-10</td>\n",
       "    </tr>\n",
       "    <tr>\n",
       "      <th>2</th>\n",
       "      <td>Tom</td>\n",
       "      <td>10</td>\n",
       "    </tr>\n",
       "    <tr>\n",
       "      <th>3</th>\n",
       "      <td>John</td>\n",
       "      <td>20</td>\n",
       "    </tr>\n",
       "  </tbody>\n",
       "</table>\n",
       "</div>"
      ],
      "text/plain": [
       "   name  amount\n",
       "0  John     -20\n",
       "1  Mary     -10\n",
       "2   Tom      10\n",
       "3  John      20"
      ]
     },
     "metadata": {},
     "output_type": "display_data"
    }
   ],
   "source": [
    "df = pd.DataFrame(\n",
    "    {\"name\": [\"John\", \"Mary\", \"Tom\", \"John\"], \"amount\": [-20, -10, 10, 20]}\n",
    ")\n",
    "\n",
    "display(df)"
   ]
  },
  {
   "cell_type": "markdown",
   "metadata": {},
   "source": [
    "Assume we want to filter the `DataFrame` so that it only contains transactions made by `\"John\"`. There are two transactions made by `\"John\"`. We can do this by manually creating a boolean mask that indicates which rows have the `\"name\"` equal to `\"John\"`.\n"
   ]
  },
  {
   "cell_type": "code",
   "execution_count": 10,
   "metadata": {},
   "outputs": [
    {
     "data": {
      "text/plain": [
       "0     True\n",
       "1    False\n",
       "2    False\n",
       "3     True\n",
       "dtype: bool"
      ]
     },
     "execution_count": 10,
     "metadata": {},
     "output_type": "execute_result"
    }
   ],
   "source": [
    "is_john = pd.Series([True, False, False, True])\n",
    "\n",
    "is_john"
   ]
  },
  {
   "cell_type": "markdown",
   "metadata": {},
   "source": [
    "As before, the `True` values in the boolean mask indicate which rows to keep. The `False` values indicate which rows to discard. This is done by passing the boolean mask inside the square brackets of the `DataFrame`, like this: `df[is_john]`.\n"
   ]
  },
  {
   "cell_type": "code",
   "execution_count": 11,
   "metadata": {},
   "outputs": [
    {
     "data": {
      "text/html": [
       "<div>\n",
       "<style scoped>\n",
       "    .dataframe tbody tr th:only-of-type {\n",
       "        vertical-align: middle;\n",
       "    }\n",
       "\n",
       "    .dataframe tbody tr th {\n",
       "        vertical-align: top;\n",
       "    }\n",
       "\n",
       "    .dataframe thead th {\n",
       "        text-align: right;\n",
       "    }\n",
       "</style>\n",
       "<table border=\"1\" class=\"dataframe\">\n",
       "  <thead>\n",
       "    <tr style=\"text-align: right;\">\n",
       "      <th></th>\n",
       "      <th>name</th>\n",
       "      <th>amount</th>\n",
       "    </tr>\n",
       "  </thead>\n",
       "  <tbody>\n",
       "    <tr>\n",
       "      <th>0</th>\n",
       "      <td>John</td>\n",
       "      <td>-20</td>\n",
       "    </tr>\n",
       "    <tr>\n",
       "      <th>3</th>\n",
       "      <td>John</td>\n",
       "      <td>20</td>\n",
       "    </tr>\n",
       "  </tbody>\n",
       "</table>\n",
       "</div>"
      ],
      "text/plain": [
       "   name  amount\n",
       "0  John     -20\n",
       "3  John      20"
      ]
     },
     "execution_count": 11,
     "metadata": {},
     "output_type": "execute_result"
    }
   ],
   "source": [
    "result = df[is_john]\n",
    "\n",
    "result"
   ]
  },
  {
   "cell_type": "markdown",
   "metadata": {},
   "source": [
    "The visualization below illustrates how `df[is_john]` works.\n",
    "\n",
    "![mini-dataframe-filter-rows](images/pandas/filter-mini-dataframe-result.png)\n",
    "\n",
    "&nbsp;\n"
   ]
  },
  {
   "cell_type": "markdown",
   "metadata": {},
   "source": [
    "**🎯 Example: Find all positive transactions programmatically**\n"
   ]
  },
  {
   "cell_type": "code",
   "execution_count": 12,
   "metadata": {},
   "outputs": [
    {
     "data": {
      "text/html": [
       "<div>\n",
       "<style scoped>\n",
       "    .dataframe tbody tr th:only-of-type {\n",
       "        vertical-align: middle;\n",
       "    }\n",
       "\n",
       "    .dataframe tbody tr th {\n",
       "        vertical-align: top;\n",
       "    }\n",
       "\n",
       "    .dataframe thead th {\n",
       "        text-align: right;\n",
       "    }\n",
       "</style>\n",
       "<table border=\"1\" class=\"dataframe\">\n",
       "  <thead>\n",
       "    <tr style=\"text-align: right;\">\n",
       "      <th></th>\n",
       "      <th>name</th>\n",
       "      <th>amount</th>\n",
       "    </tr>\n",
       "  </thead>\n",
       "  <tbody>\n",
       "    <tr>\n",
       "      <th>0</th>\n",
       "      <td>John</td>\n",
       "      <td>-20</td>\n",
       "    </tr>\n",
       "    <tr>\n",
       "      <th>1</th>\n",
       "      <td>Mary</td>\n",
       "      <td>-10</td>\n",
       "    </tr>\n",
       "    <tr>\n",
       "      <th>2</th>\n",
       "      <td>Tom</td>\n",
       "      <td>10</td>\n",
       "    </tr>\n",
       "    <tr>\n",
       "      <th>3</th>\n",
       "      <td>John</td>\n",
       "      <td>20</td>\n",
       "    </tr>\n",
       "  </tbody>\n",
       "</table>\n",
       "</div>"
      ],
      "text/plain": [
       "   name  amount\n",
       "0  John     -20\n",
       "1  Mary     -10\n",
       "2   Tom      10\n",
       "3  John      20"
      ]
     },
     "execution_count": 12,
     "metadata": {},
     "output_type": "execute_result"
    }
   ],
   "source": [
    "df = pd.DataFrame(\n",
    "    {\"name\": [\"John\", \"Mary\", \"Tom\", \"John\"], \"amount\": [-20, -10, 10, 20]}\n",
    ")\n",
    "df"
   ]
  },
  {
   "cell_type": "markdown",
   "metadata": {},
   "source": [
    "To only keep rows where the transaction amount was positive, we can programmatically create a boolean mask that indicates which rows have the `amount` greater than `0`. We can then use this boolean mask to filter the `DataFrame`.\n"
   ]
  },
  {
   "cell_type": "code",
   "execution_count": 13,
   "metadata": {},
   "outputs": [
    {
     "data": {
      "text/html": [
       "<div>\n",
       "<style scoped>\n",
       "    .dataframe tbody tr th:only-of-type {\n",
       "        vertical-align: middle;\n",
       "    }\n",
       "\n",
       "    .dataframe tbody tr th {\n",
       "        vertical-align: top;\n",
       "    }\n",
       "\n",
       "    .dataframe thead th {\n",
       "        text-align: right;\n",
       "    }\n",
       "</style>\n",
       "<table border=\"1\" class=\"dataframe\">\n",
       "  <thead>\n",
       "    <tr style=\"text-align: right;\">\n",
       "      <th></th>\n",
       "      <th>name</th>\n",
       "      <th>amount</th>\n",
       "    </tr>\n",
       "  </thead>\n",
       "  <tbody>\n",
       "    <tr>\n",
       "      <th>2</th>\n",
       "      <td>Tom</td>\n",
       "      <td>10</td>\n",
       "    </tr>\n",
       "    <tr>\n",
       "      <th>3</th>\n",
       "      <td>John</td>\n",
       "      <td>20</td>\n",
       "    </tr>\n",
       "  </tbody>\n",
       "</table>\n",
       "</div>"
      ],
      "text/plain": [
       "   name  amount\n",
       "2   Tom      10\n",
       "3  John      20"
      ]
     },
     "execution_count": 13,
     "metadata": {},
     "output_type": "execute_result"
    }
   ],
   "source": [
    "df_pos = df[df[\"amount\"] > 0]\n",
    "\n",
    "df_pos"
   ]
  },
  {
   "cell_type": "markdown",
   "metadata": {},
   "source": [
    ":::{note} What does `df[\"amount\"] > 0` do?\n",
    "The expression `df[\"amount\"] > 0` compares each element in the `amount` column of the `DataFrame` to `0`, returning a new boolean `Series` where each value indicates whether the corresponding value in the `amount` column is greater than `0`.\n",
    "\n",
    "Recall that a column in a `DataFrame` is a `Series`. So `df[\"amount\"]` returns the `amount` column as a `Series`. The comparison operator `>` is then applied element-wise to each value in the `amount` `Series`.\n",
    "\n",
    "This is similar to how we created a boolean mask for the `nums` `Series` earlier. Here is the code again for reference:\n",
    "\n",
    "```python\n",
    "# Create the nums Series\n",
    "nums = pd.Series([-20, -10, 10, 20])\n",
    "# Create a boolean mask to keep only positive values\n",
    "keep_by_comparison = nums > 0\n",
    "\n",
    "# Create the DataFrame with transactions\n",
    "df = pd.DataFrame(\n",
    "    {\"name\": [\"John\", \"Mary\", \"Tom\", \"John\"], \"amount\": [-20, -10, 10, 20]}\n",
    ")\n",
    "# Create a boolean mask to keep only positive transactions\n",
    "keep_positive_transactions = df[\"amount\"] > 0\n",
    "```\n",
    "\n",
    ":::\n"
   ]
  },
  {
   "cell_type": "markdown",
   "metadata": {},
   "source": [
    "---\n",
    "\n",
    "## ⚙️ Logical Operators in `pandas`\n"
   ]
  },
  {
   "cell_type": "markdown",
   "metadata": {},
   "source": [
    "Pandas supports logical operations on boolean `Series`. This allows you to combine multiple conditions to create more complex boolean masks.\n",
    "\n",
    "There are three logical operations you can perform on boolean `Series`:\n",
    "\n",
    "- `&`: Logical **AND**\n",
    "- `|`: Logical **OR**\n",
    "- `~`: Logical **NOT**\n",
    "\n",
    "These operators perform element-wise logical operations on the boolean `Series`.\n",
    "\n",
    "For more examples, you can refer to the [Pandas documentation on indexing and selecting data](https://pandas.pydata.org/pandas-docs/stable/user_guide/indexing.html#boolean-indexing).\n"
   ]
  },
  {
   "cell_type": "markdown",
   "metadata": {},
   "source": [
    "### 🤝 Logical AND\n",
    "\n",
    "A logical AND operator `&` returns `True` only if both the operands are `True`.\n",
    "\n",
    "![s1_AND_s2](images/pandas/s1-AND-s2.png)\n"
   ]
  },
  {
   "cell_type": "markdown",
   "metadata": {},
   "source": [
    "▶️ Perform a logical AND operation (`&`) on `s1` and `s2` and store the result to a new variable named `s1_AND_s2`.\n"
   ]
  },
  {
   "cell_type": "code",
   "execution_count": 14,
   "metadata": {},
   "outputs": [
    {
     "data": {
      "text/plain": [
       "0     True\n",
       "1    False\n",
       "2    False\n",
       "3    False\n",
       "dtype: bool"
      ]
     },
     "execution_count": 14,
     "metadata": {},
     "output_type": "execute_result"
    }
   ],
   "source": [
    "s1 = pd.Series([True, True, False, False])\n",
    "s2 = pd.Series([True, False, True, False])\n",
    "\n",
    "s1_AND_s2 = s1 & s2\n",
    "s1_AND_s2"
   ]
  },
  {
   "cell_type": "code",
   "execution_count": 15,
   "metadata": {},
   "outputs": [
    {
     "data": {
      "text/html": [
       "<div>\n",
       "<style scoped>\n",
       "    .dataframe tbody tr th:only-of-type {\n",
       "        vertical-align: middle;\n",
       "    }\n",
       "\n",
       "    .dataframe tbody tr th {\n",
       "        vertical-align: top;\n",
       "    }\n",
       "\n",
       "    .dataframe thead th {\n",
       "        text-align: right;\n",
       "    }\n",
       "</style>\n",
       "<table border=\"1\" class=\"dataframe\">\n",
       "  <thead>\n",
       "    <tr style=\"text-align: right;\">\n",
       "      <th></th>\n",
       "      <th>s1</th>\n",
       "      <th>s2</th>\n",
       "      <th>s1_AND_s2</th>\n",
       "    </tr>\n",
       "  </thead>\n",
       "  <tbody>\n",
       "    <tr>\n",
       "      <th>0</th>\n",
       "      <td>True</td>\n",
       "      <td>True</td>\n",
       "      <td>True</td>\n",
       "    </tr>\n",
       "    <tr>\n",
       "      <th>1</th>\n",
       "      <td>True</td>\n",
       "      <td>False</td>\n",
       "      <td>False</td>\n",
       "    </tr>\n",
       "    <tr>\n",
       "      <th>2</th>\n",
       "      <td>False</td>\n",
       "      <td>True</td>\n",
       "      <td>False</td>\n",
       "    </tr>\n",
       "    <tr>\n",
       "      <th>3</th>\n",
       "      <td>False</td>\n",
       "      <td>False</td>\n",
       "      <td>False</td>\n",
       "    </tr>\n",
       "  </tbody>\n",
       "</table>\n",
       "</div>"
      ],
      "text/plain": [
       "      s1     s2  s1_AND_s2\n",
       "0   True   True       True\n",
       "1   True  False      False\n",
       "2  False   True      False\n",
       "3  False  False      False"
      ]
     },
     "execution_count": 15,
     "metadata": {},
     "output_type": "execute_result"
    }
   ],
   "source": [
    "# Display s1, s2, s1_AND_S2 together as a DataFrame\n",
    "pd.DataFrame({\"s1\": s1, \"s2\": s2, \"s1_AND_s2\": s1_AND_s2})"
   ]
  },
  {
   "cell_type": "markdown",
   "metadata": {},
   "source": [
    "### 📍 Logical OR\n",
    "\n",
    "A logical OR operator `|` returns `True` if either of the operands is `True`.\n",
    "\n",
    "![s1_OR_s2](images/pandas/s1-OR-s2.png)\n"
   ]
  },
  {
   "cell_type": "markdown",
   "metadata": {},
   "source": [
    "▶️ Perform a logical OR operation (`|`) on `s1` and `s2` and store the result to a new variable named `s1_OR_s2`.\n"
   ]
  },
  {
   "cell_type": "code",
   "execution_count": 16,
   "metadata": {},
   "outputs": [
    {
     "data": {
      "text/plain": [
       "0     True\n",
       "1     True\n",
       "2     True\n",
       "3    False\n",
       "dtype: bool"
      ]
     },
     "execution_count": 16,
     "metadata": {},
     "output_type": "execute_result"
    }
   ],
   "source": [
    "s1 = pd.Series([True, True, False, False])\n",
    "s2 = pd.Series([True, False, True, False])\n",
    "\n",
    "s1_OR_s2 = s1 | s2\n",
    "s1_OR_s2"
   ]
  },
  {
   "cell_type": "code",
   "execution_count": 17,
   "metadata": {},
   "outputs": [
    {
     "data": {
      "text/html": [
       "<div>\n",
       "<style scoped>\n",
       "    .dataframe tbody tr th:only-of-type {\n",
       "        vertical-align: middle;\n",
       "    }\n",
       "\n",
       "    .dataframe tbody tr th {\n",
       "        vertical-align: top;\n",
       "    }\n",
       "\n",
       "    .dataframe thead th {\n",
       "        text-align: right;\n",
       "    }\n",
       "</style>\n",
       "<table border=\"1\" class=\"dataframe\">\n",
       "  <thead>\n",
       "    <tr style=\"text-align: right;\">\n",
       "      <th></th>\n",
       "      <th>s1</th>\n",
       "      <th>s2</th>\n",
       "      <th>s1_OR_s2</th>\n",
       "    </tr>\n",
       "  </thead>\n",
       "  <tbody>\n",
       "    <tr>\n",
       "      <th>0</th>\n",
       "      <td>True</td>\n",
       "      <td>True</td>\n",
       "      <td>True</td>\n",
       "    </tr>\n",
       "    <tr>\n",
       "      <th>1</th>\n",
       "      <td>True</td>\n",
       "      <td>False</td>\n",
       "      <td>True</td>\n",
       "    </tr>\n",
       "    <tr>\n",
       "      <th>2</th>\n",
       "      <td>False</td>\n",
       "      <td>True</td>\n",
       "      <td>True</td>\n",
       "    </tr>\n",
       "    <tr>\n",
       "      <th>3</th>\n",
       "      <td>False</td>\n",
       "      <td>False</td>\n",
       "      <td>False</td>\n",
       "    </tr>\n",
       "  </tbody>\n",
       "</table>\n",
       "</div>"
      ],
      "text/plain": [
       "      s1     s2  s1_OR_s2\n",
       "0   True   True      True\n",
       "1   True  False      True\n",
       "2  False   True      True\n",
       "3  False  False     False"
      ]
     },
     "execution_count": 17,
     "metadata": {},
     "output_type": "execute_result"
    }
   ],
   "source": [
    "# Display s1, s2, s1_OR_s2 together as a DataFrame\n",
    "pd.DataFrame({\"s1\": s1, \"s2\": s2, \"s1_OR_s2\": s1_OR_s2})"
   ]
  },
  {
   "cell_type": "markdown",
   "metadata": {},
   "source": [
    "### ❗ Logical NOT\n",
    "\n",
    "A logical NOT operator `~` reverses each operand.\n",
    "\n",
    "![NOT_s1](images/pandas/NOT-s1.png)\n"
   ]
  },
  {
   "cell_type": "markdown",
   "metadata": {},
   "source": [
    "▶️ Perform a logical OR operation (`~`) on `s1` and store the result to a new variable named `NOT_s1`.\n"
   ]
  },
  {
   "cell_type": "code",
   "execution_count": 18,
   "metadata": {},
   "outputs": [
    {
     "data": {
      "text/plain": [
       "0    False\n",
       "1    False\n",
       "2     True\n",
       "3     True\n",
       "dtype: bool"
      ]
     },
     "execution_count": 18,
     "metadata": {},
     "output_type": "execute_result"
    }
   ],
   "source": [
    "s1 = pd.Series([True, True, False, False])\n",
    "\n",
    "NOT_s1 = ~s1\n",
    "NOT_s1"
   ]
  },
  {
   "cell_type": "code",
   "execution_count": 19,
   "metadata": {},
   "outputs": [
    {
     "data": {
      "text/html": [
       "<div>\n",
       "<style scoped>\n",
       "    .dataframe tbody tr th:only-of-type {\n",
       "        vertical-align: middle;\n",
       "    }\n",
       "\n",
       "    .dataframe tbody tr th {\n",
       "        vertical-align: top;\n",
       "    }\n",
       "\n",
       "    .dataframe thead th {\n",
       "        text-align: right;\n",
       "    }\n",
       "</style>\n",
       "<table border=\"1\" class=\"dataframe\">\n",
       "  <thead>\n",
       "    <tr style=\"text-align: right;\">\n",
       "      <th></th>\n",
       "      <th>s1</th>\n",
       "      <th>NOT_s1</th>\n",
       "    </tr>\n",
       "  </thead>\n",
       "  <tbody>\n",
       "    <tr>\n",
       "      <th>0</th>\n",
       "      <td>True</td>\n",
       "      <td>False</td>\n",
       "    </tr>\n",
       "    <tr>\n",
       "      <th>1</th>\n",
       "      <td>True</td>\n",
       "      <td>False</td>\n",
       "    </tr>\n",
       "    <tr>\n",
       "      <th>2</th>\n",
       "      <td>False</td>\n",
       "      <td>True</td>\n",
       "    </tr>\n",
       "    <tr>\n",
       "      <th>3</th>\n",
       "      <td>False</td>\n",
       "      <td>True</td>\n",
       "    </tr>\n",
       "  </tbody>\n",
       "</table>\n",
       "</div>"
      ],
      "text/plain": [
       "      s1  NOT_s1\n",
       "0   True   False\n",
       "1   True   False\n",
       "2  False    True\n",
       "3  False    True"
      ]
     },
     "execution_count": 19,
     "metadata": {},
     "output_type": "execute_result"
    }
   ],
   "source": [
    "# Display s1 and NOT_s1 together as a DataFrame\n",
    "pd.DataFrame({\"s1\": s1, \"NOT_s1\": NOT_s1})"
   ]
  },
  {
   "cell_type": "markdown",
   "metadata": {},
   "source": [
    "### ✅ Putting It All Together\n",
    "\n",
    "Here is a summary of the logical operations you've performed so far.\n"
   ]
  },
  {
   "cell_type": "code",
   "execution_count": 20,
   "metadata": {},
   "outputs": [
    {
     "data": {
      "text/html": [
       "<div>\n",
       "<style scoped>\n",
       "    .dataframe tbody tr th:only-of-type {\n",
       "        vertical-align: middle;\n",
       "    }\n",
       "\n",
       "    .dataframe tbody tr th {\n",
       "        vertical-align: top;\n",
       "    }\n",
       "\n",
       "    .dataframe thead th {\n",
       "        text-align: right;\n",
       "    }\n",
       "</style>\n",
       "<table border=\"1\" class=\"dataframe\">\n",
       "  <thead>\n",
       "    <tr style=\"text-align: right;\">\n",
       "      <th></th>\n",
       "      <th>s1</th>\n",
       "      <th>s2</th>\n",
       "      <th>s1_AND_s2</th>\n",
       "      <th>s1_OR_s2</th>\n",
       "      <th>NOT_s1</th>\n",
       "    </tr>\n",
       "  </thead>\n",
       "  <tbody>\n",
       "    <tr>\n",
       "      <th>0</th>\n",
       "      <td>True</td>\n",
       "      <td>True</td>\n",
       "      <td>True</td>\n",
       "      <td>True</td>\n",
       "      <td>False</td>\n",
       "    </tr>\n",
       "    <tr>\n",
       "      <th>1</th>\n",
       "      <td>True</td>\n",
       "      <td>False</td>\n",
       "      <td>False</td>\n",
       "      <td>True</td>\n",
       "      <td>False</td>\n",
       "    </tr>\n",
       "    <tr>\n",
       "      <th>2</th>\n",
       "      <td>False</td>\n",
       "      <td>True</td>\n",
       "      <td>False</td>\n",
       "      <td>True</td>\n",
       "      <td>True</td>\n",
       "    </tr>\n",
       "    <tr>\n",
       "      <th>3</th>\n",
       "      <td>False</td>\n",
       "      <td>False</td>\n",
       "      <td>False</td>\n",
       "      <td>False</td>\n",
       "      <td>True</td>\n",
       "    </tr>\n",
       "  </tbody>\n",
       "</table>\n",
       "</div>"
      ],
      "text/plain": [
       "      s1     s2  s1_AND_s2  s1_OR_s2  NOT_s1\n",
       "0   True   True       True      True   False\n",
       "1   True  False      False      True   False\n",
       "2  False   True      False      True    True\n",
       "3  False  False      False     False    True"
      ]
     },
     "execution_count": 20,
     "metadata": {},
     "output_type": "execute_result"
    }
   ],
   "source": [
    "pd.DataFrame(\n",
    "    {\"s1\": s1, \"s2\": s2, \"s1_AND_s2\": s1_AND_s2, \"s1_OR_s2\": s1_OR_s2, \"NOT_s1\": NOT_s1}\n",
    ")"
   ]
  },
  {
   "cell_type": "markdown",
   "metadata": {},
   "source": [
    "**🎯 Example: Find John's positive transaction(s)**\n"
   ]
  },
  {
   "cell_type": "code",
   "execution_count": 21,
   "metadata": {},
   "outputs": [
    {
     "data": {
      "text/html": [
       "<div>\n",
       "<style scoped>\n",
       "    .dataframe tbody tr th:only-of-type {\n",
       "        vertical-align: middle;\n",
       "    }\n",
       "\n",
       "    .dataframe tbody tr th {\n",
       "        vertical-align: top;\n",
       "    }\n",
       "\n",
       "    .dataframe thead th {\n",
       "        text-align: right;\n",
       "    }\n",
       "</style>\n",
       "<table border=\"1\" class=\"dataframe\">\n",
       "  <thead>\n",
       "    <tr style=\"text-align: right;\">\n",
       "      <th></th>\n",
       "      <th>name</th>\n",
       "      <th>amount</th>\n",
       "    </tr>\n",
       "  </thead>\n",
       "  <tbody>\n",
       "    <tr>\n",
       "      <th>3</th>\n",
       "      <td>John</td>\n",
       "      <td>20</td>\n",
       "    </tr>\n",
       "  </tbody>\n",
       "</table>\n",
       "</div>"
      ],
      "text/plain": [
       "   name  amount\n",
       "3  John      20"
      ]
     },
     "execution_count": 21,
     "metadata": {},
     "output_type": "execute_result"
    }
   ],
   "source": [
    "# DO NOT CHANGE THE CODE IN THIS CELL\n",
    "df = pd.DataFrame(\n",
    "    {\"name\": [\"John\", \"Mary\", \"Tom\", \"John\"], \"amount\": [-20, -10, 10, 20]}\n",
    ")\n",
    "\n",
    "# Create two boolean masks\n",
    "is_john = df[\"name\"] == \"John\"\n",
    "is_positive = df[\"amount\"] > 0\n",
    "\n",
    "# Apply both conditions using the & operator\n",
    "df_john_and_pos = df[is_john & is_positive]\n",
    "\n",
    "df_john_and_pos"
   ]
  },
  {
   "cell_type": "markdown",
   "metadata": {},
   "source": [
    ":::{tip} What do `is_john` and `is_positive` represent?\n",
    "\n",
    "- `is_john` is a boolean mask that indicates which rows in the `DataFrame`\n",
    "  have the name \"John\".\n",
    "- `is_positive` is a boolean mask that indicates which rows in the `DataFrame`\n",
    "  have a positive `amount`.\n",
    "\n",
    "```python\n",
    "is_john\n",
    "display(is_john)\n",
    "\n",
    "# Output:\n",
    "# 0     True\n",
    "# 1    False\n",
    "# 2    False\n",
    "# 3     True\n",
    "# Name: name, dtype: bool\n",
    "\n",
    "is_positive\n",
    "display(is_positive)\n",
    "# Output:\n",
    "# 0    False\n",
    "# 1    False\n",
    "# 2     True\n",
    "# 3     True\n",
    "# Name: amount, dtype: bool\n",
    "```\n",
    "\n",
    ":::\n"
   ]
  },
  {
   "cell_type": "markdown",
   "metadata": {},
   "source": [
    "Here's a visualization to help you understand what `is_john & is_positive` does.\n",
    "\n",
    "![is_john_AND_is_positive](images/pandas/is-john-AND-is-positive.png)\n"
   ]
  },
  {
   "cell_type": "markdown",
   "metadata": {},
   "source": [
    "---\n",
    "\n",
    "**🎯 Example: Find transactions that are made by John OR are positive**\n"
   ]
  },
  {
   "cell_type": "code",
   "execution_count": 22,
   "metadata": {},
   "outputs": [
    {
     "data": {
      "text/html": [
       "<div>\n",
       "<style scoped>\n",
       "    .dataframe tbody tr th:only-of-type {\n",
       "        vertical-align: middle;\n",
       "    }\n",
       "\n",
       "    .dataframe tbody tr th {\n",
       "        vertical-align: top;\n",
       "    }\n",
       "\n",
       "    .dataframe thead th {\n",
       "        text-align: right;\n",
       "    }\n",
       "</style>\n",
       "<table border=\"1\" class=\"dataframe\">\n",
       "  <thead>\n",
       "    <tr style=\"text-align: right;\">\n",
       "      <th></th>\n",
       "      <th>name</th>\n",
       "      <th>amount</th>\n",
       "    </tr>\n",
       "  </thead>\n",
       "  <tbody>\n",
       "    <tr>\n",
       "      <th>0</th>\n",
       "      <td>John</td>\n",
       "      <td>-20</td>\n",
       "    </tr>\n",
       "    <tr>\n",
       "      <th>1</th>\n",
       "      <td>Mary</td>\n",
       "      <td>-10</td>\n",
       "    </tr>\n",
       "    <tr>\n",
       "      <th>2</th>\n",
       "      <td>Tom</td>\n",
       "      <td>10</td>\n",
       "    </tr>\n",
       "    <tr>\n",
       "      <th>3</th>\n",
       "      <td>John</td>\n",
       "      <td>20</td>\n",
       "    </tr>\n",
       "  </tbody>\n",
       "</table>\n",
       "</div>"
      ],
      "text/plain": [
       "   name  amount\n",
       "0  John     -20\n",
       "1  Mary     -10\n",
       "2   Tom      10\n",
       "3  John      20"
      ]
     },
     "execution_count": 22,
     "metadata": {},
     "output_type": "execute_result"
    }
   ],
   "source": [
    "# DO NOT CHANGE THE CODE IN THIS CELL\n",
    "df = pd.DataFrame(\n",
    "    {\"name\": [\"John\", \"Mary\", \"Tom\", \"John\"], \"amount\": [-20, -10, 10, 20]}\n",
    ")\n",
    "df"
   ]
  },
  {
   "cell_type": "code",
   "execution_count": 23,
   "metadata": {
    "nbgrader": {
     "grade": false,
     "locked": false,
     "solution": false
    }
   },
   "outputs": [
    {
     "data": {
      "text/html": [
       "<div>\n",
       "<style scoped>\n",
       "    .dataframe tbody tr th:only-of-type {\n",
       "        vertical-align: middle;\n",
       "    }\n",
       "\n",
       "    .dataframe tbody tr th {\n",
       "        vertical-align: top;\n",
       "    }\n",
       "\n",
       "    .dataframe thead th {\n",
       "        text-align: right;\n",
       "    }\n",
       "</style>\n",
       "<table border=\"1\" class=\"dataframe\">\n",
       "  <thead>\n",
       "    <tr style=\"text-align: right;\">\n",
       "      <th></th>\n",
       "      <th>name</th>\n",
       "      <th>amount</th>\n",
       "    </tr>\n",
       "  </thead>\n",
       "  <tbody>\n",
       "    <tr>\n",
       "      <th>0</th>\n",
       "      <td>John</td>\n",
       "      <td>-20</td>\n",
       "    </tr>\n",
       "    <tr>\n",
       "      <th>2</th>\n",
       "      <td>Tom</td>\n",
       "      <td>10</td>\n",
       "    </tr>\n",
       "    <tr>\n",
       "      <th>3</th>\n",
       "      <td>John</td>\n",
       "      <td>20</td>\n",
       "    </tr>\n",
       "  </tbody>\n",
       "</table>\n",
       "</div>"
      ],
      "text/plain": [
       "   name  amount\n",
       "0  John     -20\n",
       "2   Tom      10\n",
       "3  John      20"
      ]
     },
     "execution_count": 23,
     "metadata": {},
     "output_type": "execute_result"
    }
   ],
   "source": [
    "df = pd.DataFrame(\n",
    "    {\"name\": [\"John\", \"Mary\", \"Tom\", \"John\"], \"amount\": [-20, -10, 10, 20]}\n",
    ")\n",
    "\n",
    "# Create two boolean masks\n",
    "is_john = df[\"name\"] == \"John\"\n",
    "is_positive = df[\"amount\"] > 0\n",
    "\n",
    "# Apply either condition using the | operator\n",
    "df_john_or_pos = df[is_john | is_positive]\n",
    "\n",
    "df_john_or_pos"
   ]
  },
  {
   "cell_type": "markdown",
   "metadata": {},
   "source": [
    "Here is a visualization to help you understand what `is_john | is_positive` does.\n",
    "\n",
    "![is_john_OR_is_positive](images/pandas/is-john-OR-is-positive.png)\n"
   ]
  },
  {
   "cell_type": "markdown",
   "metadata": {},
   "source": [
    "---\n",
    "\n",
    "**🎯 Example: Find transactions that are NOT made by John**\n"
   ]
  },
  {
   "cell_type": "code",
   "execution_count": 24,
   "metadata": {
    "nbgrader": {
     "grade": true,
     "grade_id": "challenge-09",
     "locked": true,
     "points": "1",
     "solution": false
    }
   },
   "outputs": [
    {
     "data": {
      "text/html": [
       "<div>\n",
       "<style scoped>\n",
       "    .dataframe tbody tr th:only-of-type {\n",
       "        vertical-align: middle;\n",
       "    }\n",
       "\n",
       "    .dataframe tbody tr th {\n",
       "        vertical-align: top;\n",
       "    }\n",
       "\n",
       "    .dataframe thead th {\n",
       "        text-align: right;\n",
       "    }\n",
       "</style>\n",
       "<table border=\"1\" class=\"dataframe\">\n",
       "  <thead>\n",
       "    <tr style=\"text-align: right;\">\n",
       "      <th></th>\n",
       "      <th>name</th>\n",
       "      <th>amount</th>\n",
       "    </tr>\n",
       "  </thead>\n",
       "  <tbody>\n",
       "    <tr>\n",
       "      <th>1</th>\n",
       "      <td>Mary</td>\n",
       "      <td>-10</td>\n",
       "    </tr>\n",
       "    <tr>\n",
       "      <th>2</th>\n",
       "      <td>Tom</td>\n",
       "      <td>10</td>\n",
       "    </tr>\n",
       "  </tbody>\n",
       "</table>\n",
       "</div>"
      ],
      "text/plain": [
       "   name  amount\n",
       "1  Mary     -10\n",
       "2   Tom      10"
      ]
     },
     "execution_count": 24,
     "metadata": {},
     "output_type": "execute_result"
    }
   ],
   "source": [
    "df = pd.DataFrame(\n",
    "    {\"name\": [\"John\", \"Mary\", \"Tom\", \"John\"], \"amount\": [-20, -10, 10, 20]}\n",
    ")\n",
    "\n",
    "# Create a boolean mask where the name is \"John\"\n",
    "is_john = df[\"name\"] == \"John\"\n",
    "\n",
    "# Create a boolean mask with the NOT operator\n",
    "# This will effectively select rows where the name is NOT \"John\"\n",
    "df_not_john = df[~is_john]\n",
    "\n",
    "df_not_john"
   ]
  },
  {
   "cell_type": "markdown",
   "metadata": {},
   "source": [
    "Here's a visualization to help you understand what `~is_john` does.\n",
    "\n",
    "![not_john](images/pandas/not-john.png)\n"
   ]
  },
  {
   "cell_type": "markdown",
   "metadata": {
    "id": "DW30mOfZem7v"
   },
   "source": [
    "---\n",
    "\n",
    "## 🗣️ String Comparison on a `Series`\n"
   ]
  },
  {
   "cell_type": "markdown",
   "metadata": {
    "id": "fv4hxUApem7v"
   },
   "source": [
    "Create a new `Series` named `countries`.\n"
   ]
  },
  {
   "cell_type": "code",
   "execution_count": 25,
   "metadata": {
    "id": "1k4Ty5tFem7w",
    "outputId": "05053357-31f1-423f-e34d-4eca1c834432"
   },
   "outputs": [
    {
     "data": {
      "text/plain": [
       "0    United States\n",
       "1             Oman\n",
       "2    United States\n",
       "3            China\n",
       "4      South Korea\n",
       "5    United States\n",
       "dtype: object"
      ]
     },
     "metadata": {},
     "output_type": "display_data"
    }
   ],
   "source": [
    "countries = pd.Series(\n",
    "    [\"United States\", \"Oman\", \"United States\", \"China\", \"South Korea\", \"United States\"]\n",
    ")\n",
    "\n",
    "display(countries)"
   ]
  },
  {
   "cell_type": "markdown",
   "metadata": {
    "id": "2LYnIQinem7w"
   },
   "source": [
    "We can perform element-wise comparisons on string `Series` just like we did with numeric `Series`.\n",
    "\n",
    "▶️ Compare `countries` with the string `\"United States\"` using an equality comparison operator (`==`).\n"
   ]
  },
  {
   "cell_type": "code",
   "execution_count": 26,
   "metadata": {
    "id": "hQTcrXEdem7w",
    "outputId": "517a1aeb-baff-4938-d18a-bc415a3c6873"
   },
   "outputs": [
    {
     "data": {
      "text/plain": [
       "0     True\n",
       "1    False\n",
       "2     True\n",
       "3    False\n",
       "4    False\n",
       "5     True\n",
       "dtype: bool"
      ]
     },
     "execution_count": 26,
     "metadata": {},
     "output_type": "execute_result"
    }
   ],
   "source": [
    "countries == \"United States\""
   ]
  },
  {
   "cell_type": "markdown",
   "metadata": {
    "id": "9uQ2Mzwvem7w"
   },
   "source": [
    "▶️ Check the data type of the result.\n"
   ]
  },
  {
   "cell_type": "code",
   "execution_count": 27,
   "metadata": {
    "id": "TeCdiCCTem7w",
    "outputId": "97f0b0f9-a4fe-40c3-8715-e35229727606"
   },
   "outputs": [
    {
     "data": {
      "text/plain": [
       "pandas.core.series.Series"
      ]
     },
     "execution_count": 27,
     "metadata": {},
     "output_type": "execute_result"
    }
   ],
   "source": [
    "type(countries == \"United States\")"
   ]
  },
  {
   "cell_type": "markdown",
   "metadata": {
    "id": "WO1sLJXdem7w"
   },
   "source": [
    "The result is **another `Series`** containing boolean (`True`/`False`) values. Pandas performs a string comparison (`my_str == \"United States\"`) on **each element**.\n",
    "\n",
    "Remember, you can also supply more than one condition using the following two operators:\n",
    "\n",
    "1. logical OR (`|`)\n",
    "2. logical AND (`&`)\n",
    "\n",
    "▶️ Check whether a country is **either** `\"Oman\"` **or** `\"China\"`.\n"
   ]
  },
  {
   "cell_type": "code",
   "execution_count": 28,
   "metadata": {
    "id": "KTA8XPv_em7w",
    "outputId": "e7ccee7a-caa1-4b80-b25c-4440b2b6618f"
   },
   "outputs": [
    {
     "data": {
      "text/plain": [
       "0    False\n",
       "1     True\n",
       "2    False\n",
       "3     True\n",
       "4    False\n",
       "5    False\n",
       "dtype: bool"
      ]
     },
     "execution_count": 28,
     "metadata": {},
     "output_type": "execute_result"
    }
   ],
   "source": [
    "(countries == \"Oman\") | (countries == \"China\")"
   ]
  },
  {
   "cell_type": "markdown",
   "metadata": {},
   "source": [
    "We can use the resulting boolean `Series` as a mask to filter the original `countries` `Series`.\n"
   ]
  },
  {
   "cell_type": "code",
   "execution_count": 29,
   "metadata": {
    "id": "YwIROkUBem7x",
    "outputId": "454796e0-63f3-4b22-c296-d59317812e0f"
   },
   "outputs": [
    {
     "data": {
      "text/plain": [
       "1     Oman\n",
       "3    China\n",
       "dtype: object"
      ]
     },
     "execution_count": 29,
     "metadata": {},
     "output_type": "execute_result"
    }
   ],
   "source": [
    "countries[(countries == \"Oman\") | (countries == \"China\")]"
   ]
  },
  {
   "cell_type": "markdown",
   "metadata": {
    "id": "TpncLNBdem7x"
   },
   "source": [
    "---\n",
    "\n",
    "## 🔤 Applying a Mask to a `DataFrame`\n"
   ]
  },
  {
   "cell_type": "markdown",
   "metadata": {
    "id": "-25GoLwbem7x"
   },
   "source": [
    "Create a new `DataFrame` named `df_cities`.\n"
   ]
  },
  {
   "cell_type": "code",
   "execution_count": 30,
   "metadata": {
    "id": "o5vfs2TYem7x",
    "outputId": "ad9fafdd-bdab-4e26-c2bd-70f8c1fdbffa"
   },
   "outputs": [
    {
     "data": {
      "text/html": [
       "<div>\n",
       "<style scoped>\n",
       "    .dataframe tbody tr th:only-of-type {\n",
       "        vertical-align: middle;\n",
       "    }\n",
       "\n",
       "    .dataframe tbody tr th {\n",
       "        vertical-align: top;\n",
       "    }\n",
       "\n",
       "    .dataframe thead th {\n",
       "        text-align: right;\n",
       "    }\n",
       "</style>\n",
       "<table border=\"1\" class=\"dataframe\">\n",
       "  <thead>\n",
       "    <tr style=\"text-align: right;\">\n",
       "      <th></th>\n",
       "      <th>city</th>\n",
       "      <th>country</th>\n",
       "      <th>population</th>\n",
       "    </tr>\n",
       "  </thead>\n",
       "  <tbody>\n",
       "    <tr>\n",
       "      <th>0</th>\n",
       "      <td>Lisle</td>\n",
       "      <td>United States</td>\n",
       "      <td>23270</td>\n",
       "    </tr>\n",
       "    <tr>\n",
       "      <th>1</th>\n",
       "      <td>Dubai</td>\n",
       "      <td>United Arab Emirates</td>\n",
       "      <td>3331409</td>\n",
       "    </tr>\n",
       "    <tr>\n",
       "      <th>2</th>\n",
       "      <td>Niles</td>\n",
       "      <td>United States</td>\n",
       "      <td>28938</td>\n",
       "    </tr>\n",
       "    <tr>\n",
       "      <th>3</th>\n",
       "      <td>Shanghai</td>\n",
       "      <td>China</td>\n",
       "      <td>26320000</td>\n",
       "    </tr>\n",
       "    <tr>\n",
       "      <th>4</th>\n",
       "      <td>Seoul</td>\n",
       "      <td>South Korea</td>\n",
       "      <td>21794000</td>\n",
       "    </tr>\n",
       "    <tr>\n",
       "      <th>5</th>\n",
       "      <td>Chicago</td>\n",
       "      <td>United States</td>\n",
       "      <td>8604203</td>\n",
       "    </tr>\n",
       "  </tbody>\n",
       "</table>\n",
       "</div>"
      ],
      "text/plain": [
       "       city               country  population\n",
       "0     Lisle         United States       23270\n",
       "1     Dubai  United Arab Emirates     3331409\n",
       "2     Niles         United States       28938\n",
       "3  Shanghai                 China    26320000\n",
       "4     Seoul           South Korea    21794000\n",
       "5   Chicago         United States     8604203"
      ]
     },
     "execution_count": 30,
     "metadata": {},
     "output_type": "execute_result"
    }
   ],
   "source": [
    "df_cities = pd.DataFrame(\n",
    "    {\n",
    "        \"city\": [\"Lisle\", \"Dubai\", \"Niles\", \"Shanghai\", \"Seoul\", \"Chicago\"],\n",
    "        \"country\": [\n",
    "            \"United States\",\n",
    "            \"United Arab Emirates\",\n",
    "            \"United States\",\n",
    "            \"China\",\n",
    "            \"South Korea\",\n",
    "            \"United States\",\n",
    "        ],\n",
    "        \"population\": [23270, 3331409, 28938, 26320000, 21794000, 8604203],\n",
    "    }\n",
    ")\n",
    "\n",
    "df_cities"
   ]
  },
  {
   "cell_type": "markdown",
   "metadata": {
    "id": "K8Ar5vxeem7x"
   },
   "source": [
    "To only keep rows where the `country` is `\"United States\"`, we can supply a `Series` of boolean values.\n",
    "\n",
    "Create a new `Series` named `keep` with the following 6 boolean values - `True`, `False`, `True`, `False`, `False`, `True`.\n"
   ]
  },
  {
   "cell_type": "code",
   "execution_count": 31,
   "metadata": {
    "id": "bpP88Meeem7x",
    "outputId": "a2297654-dfb2-4472-b6b2-f2a3bd832fb1"
   },
   "outputs": [
    {
     "data": {
      "text/plain": [
       "0     True\n",
       "1    False\n",
       "2     True\n",
       "3    False\n",
       "4    False\n",
       "5     True\n",
       "Name: country, dtype: bool"
      ]
     },
     "execution_count": 31,
     "metadata": {},
     "output_type": "execute_result"
    }
   ],
   "source": [
    "# Manually (not recommended)\n",
    "keep = pd.Series([True, False, True, False, False, True])\n",
    "\n",
    "# Programmatically (preferred)\n",
    "keep = df_cities[\"country\"] == \"United States\"\n",
    "\n",
    "keep"
   ]
  },
  {
   "cell_type": "markdown",
   "metadata": {
    "id": "JUNm8ebnem7y"
   },
   "source": [
    "To only keep rows where the `\"country\"` is `\"United States\"`, use the boolean mask `keep` to filter the `df_cities` `DataFrame`.\n"
   ]
  },
  {
   "cell_type": "code",
   "execution_count": 32,
   "metadata": {
    "id": "ulu40PsZem7y",
    "outputId": "66c22849-6724-4a67-d603-5539b88bb196"
   },
   "outputs": [
    {
     "data": {
      "text/html": [
       "<div>\n",
       "<style scoped>\n",
       "    .dataframe tbody tr th:only-of-type {\n",
       "        vertical-align: middle;\n",
       "    }\n",
       "\n",
       "    .dataframe tbody tr th {\n",
       "        vertical-align: top;\n",
       "    }\n",
       "\n",
       "    .dataframe thead th {\n",
       "        text-align: right;\n",
       "    }\n",
       "</style>\n",
       "<table border=\"1\" class=\"dataframe\">\n",
       "  <thead>\n",
       "    <tr style=\"text-align: right;\">\n",
       "      <th></th>\n",
       "      <th>city</th>\n",
       "      <th>country</th>\n",
       "      <th>population</th>\n",
       "    </tr>\n",
       "  </thead>\n",
       "  <tbody>\n",
       "    <tr>\n",
       "      <th>0</th>\n",
       "      <td>Lisle</td>\n",
       "      <td>United States</td>\n",
       "      <td>23270</td>\n",
       "    </tr>\n",
       "    <tr>\n",
       "      <th>2</th>\n",
       "      <td>Niles</td>\n",
       "      <td>United States</td>\n",
       "      <td>28938</td>\n",
       "    </tr>\n",
       "    <tr>\n",
       "      <th>5</th>\n",
       "      <td>Chicago</td>\n",
       "      <td>United States</td>\n",
       "      <td>8604203</td>\n",
       "    </tr>\n",
       "  </tbody>\n",
       "</table>\n",
       "</div>"
      ],
      "text/plain": [
       "      city        country  population\n",
       "0    Lisle  United States       23270\n",
       "2    Niles  United States       28938\n",
       "5  Chicago  United States     8604203"
      ]
     },
     "execution_count": 32,
     "metadata": {},
     "output_type": "execute_result"
    }
   ],
   "source": [
    "df_cities[keep]"
   ]
  },
  {
   "cell_type": "markdown",
   "metadata": {
    "id": "juiThUb1em7y"
   },
   "source": [
    "---\n",
    "\n",
    "**🎯 Example: Cities with population over a million**\n"
   ]
  },
  {
   "cell_type": "code",
   "execution_count": 33,
   "metadata": {
    "id": "3yEcyo-Mem7y",
    "outputId": "dbe8bab2-bb34-4a86-d38c-bac31d1197a7"
   },
   "outputs": [
    {
     "data": {
      "text/html": [
       "<div>\n",
       "<style scoped>\n",
       "    .dataframe tbody tr th:only-of-type {\n",
       "        vertical-align: middle;\n",
       "    }\n",
       "\n",
       "    .dataframe tbody tr th {\n",
       "        vertical-align: top;\n",
       "    }\n",
       "\n",
       "    .dataframe thead th {\n",
       "        text-align: right;\n",
       "    }\n",
       "</style>\n",
       "<table border=\"1\" class=\"dataframe\">\n",
       "  <thead>\n",
       "    <tr style=\"text-align: right;\">\n",
       "      <th></th>\n",
       "      <th>city</th>\n",
       "      <th>country</th>\n",
       "      <th>population</th>\n",
       "    </tr>\n",
       "  </thead>\n",
       "  <tbody>\n",
       "    <tr>\n",
       "      <th>1</th>\n",
       "      <td>Dubai</td>\n",
       "      <td>United Arab Emirates</td>\n",
       "      <td>3331409</td>\n",
       "    </tr>\n",
       "    <tr>\n",
       "      <th>3</th>\n",
       "      <td>Shanghai</td>\n",
       "      <td>China</td>\n",
       "      <td>26320000</td>\n",
       "    </tr>\n",
       "    <tr>\n",
       "      <th>4</th>\n",
       "      <td>Seoul</td>\n",
       "      <td>South Korea</td>\n",
       "      <td>21794000</td>\n",
       "    </tr>\n",
       "    <tr>\n",
       "      <th>5</th>\n",
       "      <td>Chicago</td>\n",
       "      <td>United States</td>\n",
       "      <td>8604203</td>\n",
       "    </tr>\n",
       "  </tbody>\n",
       "</table>\n",
       "</div>"
      ],
      "text/plain": [
       "       city               country  population\n",
       "1     Dubai  United Arab Emirates     3331409\n",
       "3  Shanghai                 China    26320000\n",
       "4     Seoul           South Korea    21794000\n",
       "5   Chicago         United States     8604203"
      ]
     },
     "execution_count": 33,
     "metadata": {},
     "output_type": "execute_result"
    }
   ],
   "source": [
    "df_large_cities = df_cities[df_cities[\"population\"] > 1000000]\n",
    "\n",
    "df_large_cities"
   ]
  },
  {
   "cell_type": "markdown",
   "metadata": {},
   "source": [
    "---\n",
    "\n",
    "## 🆙 Sorting a `DataFrame`\n",
    "\n",
    "You can sort a `DataFrame` using `df.sort_values()`.\n",
    "\n",
    "![sort_values usage](images/pandas/sort-values-01.png)\n",
    "\n",
    "The `sort()` method allows you to specify the column(s) to sort by, the sorting order (ascending or descending), and how to handle missing values.\n",
    "\n",
    "The `by` parameter specifies the column(s) to sort by. You can pass a single column name as a string or multiple column names as a list of strings.\n",
    "\n",
    "The `ascending` parameter specifies the sorting order. By default, it is set to `True`, which means the data will be sorted in ascending order. If you want to sort in descending order, you can set this parameter to `False`.\n",
    "\n",
    "If there are multiple columns specified in the `by` parameter, you can pass a list of boolean values to the `ascending` parameter to specify the sorting order for each column individually.\n",
    "\n",
    "If there are missing values (`NaN`) in the column(s) being sorted, you can use the `na_position` parameter to specify whether to place them at the beginning (`\"first\"`) or the end (`\"last\"`) of the sorted `DataFrame`. The default is `\"last\"`.\n"
   ]
  },
  {
   "cell_type": "markdown",
   "metadata": {},
   "source": [
    "▶️ Sort `df_cities` by `\"population\"`.\n"
   ]
  },
  {
   "cell_type": "code",
   "execution_count": 34,
   "metadata": {},
   "outputs": [
    {
     "data": {
      "text/html": [
       "<div>\n",
       "<style scoped>\n",
       "    .dataframe tbody tr th:only-of-type {\n",
       "        vertical-align: middle;\n",
       "    }\n",
       "\n",
       "    .dataframe tbody tr th {\n",
       "        vertical-align: top;\n",
       "    }\n",
       "\n",
       "    .dataframe thead th {\n",
       "        text-align: right;\n",
       "    }\n",
       "</style>\n",
       "<table border=\"1\" class=\"dataframe\">\n",
       "  <thead>\n",
       "    <tr style=\"text-align: right;\">\n",
       "      <th></th>\n",
       "      <th>city</th>\n",
       "      <th>country</th>\n",
       "      <th>population</th>\n",
       "    </tr>\n",
       "  </thead>\n",
       "  <tbody>\n",
       "    <tr>\n",
       "      <th>0</th>\n",
       "      <td>Lisle</td>\n",
       "      <td>United States</td>\n",
       "      <td>23270</td>\n",
       "    </tr>\n",
       "    <tr>\n",
       "      <th>2</th>\n",
       "      <td>Niles</td>\n",
       "      <td>United States</td>\n",
       "      <td>28938</td>\n",
       "    </tr>\n",
       "    <tr>\n",
       "      <th>1</th>\n",
       "      <td>Dubai</td>\n",
       "      <td>United Arab Emirates</td>\n",
       "      <td>3331409</td>\n",
       "    </tr>\n",
       "    <tr>\n",
       "      <th>5</th>\n",
       "      <td>Chicago</td>\n",
       "      <td>United States</td>\n",
       "      <td>8604203</td>\n",
       "    </tr>\n",
       "    <tr>\n",
       "      <th>4</th>\n",
       "      <td>Seoul</td>\n",
       "      <td>South Korea</td>\n",
       "      <td>21794000</td>\n",
       "    </tr>\n",
       "    <tr>\n",
       "      <th>3</th>\n",
       "      <td>Shanghai</td>\n",
       "      <td>China</td>\n",
       "      <td>26320000</td>\n",
       "    </tr>\n",
       "  </tbody>\n",
       "</table>\n",
       "</div>"
      ],
      "text/plain": [
       "       city               country  population\n",
       "0     Lisle         United States       23270\n",
       "2     Niles         United States       28938\n",
       "1     Dubai  United Arab Emirates     3331409\n",
       "5   Chicago         United States     8604203\n",
       "4     Seoul           South Korea    21794000\n",
       "3  Shanghai                 China    26320000"
      ]
     },
     "execution_count": 34,
     "metadata": {},
     "output_type": "execute_result"
    }
   ],
   "source": [
    "df_cities.sort_values(\"population\")"
   ]
  },
  {
   "cell_type": "markdown",
   "metadata": {},
   "source": [
    "▶️ Sort `df_cities` by `\"population\"` in **descending** order.\n"
   ]
  },
  {
   "cell_type": "code",
   "execution_count": 35,
   "metadata": {},
   "outputs": [
    {
     "data": {
      "text/html": [
       "<div>\n",
       "<style scoped>\n",
       "    .dataframe tbody tr th:only-of-type {\n",
       "        vertical-align: middle;\n",
       "    }\n",
       "\n",
       "    .dataframe tbody tr th {\n",
       "        vertical-align: top;\n",
       "    }\n",
       "\n",
       "    .dataframe thead th {\n",
       "        text-align: right;\n",
       "    }\n",
       "</style>\n",
       "<table border=\"1\" class=\"dataframe\">\n",
       "  <thead>\n",
       "    <tr style=\"text-align: right;\">\n",
       "      <th></th>\n",
       "      <th>city</th>\n",
       "      <th>country</th>\n",
       "      <th>population</th>\n",
       "    </tr>\n",
       "  </thead>\n",
       "  <tbody>\n",
       "    <tr>\n",
       "      <th>3</th>\n",
       "      <td>Shanghai</td>\n",
       "      <td>China</td>\n",
       "      <td>26320000</td>\n",
       "    </tr>\n",
       "    <tr>\n",
       "      <th>4</th>\n",
       "      <td>Seoul</td>\n",
       "      <td>South Korea</td>\n",
       "      <td>21794000</td>\n",
       "    </tr>\n",
       "    <tr>\n",
       "      <th>5</th>\n",
       "      <td>Chicago</td>\n",
       "      <td>United States</td>\n",
       "      <td>8604203</td>\n",
       "    </tr>\n",
       "    <tr>\n",
       "      <th>1</th>\n",
       "      <td>Dubai</td>\n",
       "      <td>United Arab Emirates</td>\n",
       "      <td>3331409</td>\n",
       "    </tr>\n",
       "    <tr>\n",
       "      <th>2</th>\n",
       "      <td>Niles</td>\n",
       "      <td>United States</td>\n",
       "      <td>28938</td>\n",
       "    </tr>\n",
       "    <tr>\n",
       "      <th>0</th>\n",
       "      <td>Lisle</td>\n",
       "      <td>United States</td>\n",
       "      <td>23270</td>\n",
       "    </tr>\n",
       "  </tbody>\n",
       "</table>\n",
       "</div>"
      ],
      "text/plain": [
       "       city               country  population\n",
       "3  Shanghai                 China    26320000\n",
       "4     Seoul           South Korea    21794000\n",
       "5   Chicago         United States     8604203\n",
       "1     Dubai  United Arab Emirates     3331409\n",
       "2     Niles         United States       28938\n",
       "0     Lisle         United States       23270"
      ]
     },
     "execution_count": 35,
     "metadata": {},
     "output_type": "execute_result"
    }
   ],
   "source": [
    "df_cities.sort_values(\"population\", ascending=False)"
   ]
  },
  {
   "cell_type": "markdown",
   "metadata": {},
   "source": [
    "---\n",
    "\n",
    "## 👟 Examples using the Yeezys Dataset\n"
   ]
  },
  {
   "cell_type": "code",
   "execution_count": 36,
   "metadata": {},
   "outputs": [
    {
     "data": {
      "text/html": [
       "<div>\n",
       "<style scoped>\n",
       "    .dataframe tbody tr th:only-of-type {\n",
       "        vertical-align: middle;\n",
       "    }\n",
       "\n",
       "    .dataframe tbody tr th {\n",
       "        vertical-align: top;\n",
       "    }\n",
       "\n",
       "    .dataframe thead th {\n",
       "        text-align: right;\n",
       "    }\n",
       "</style>\n",
       "<table border=\"1\" class=\"dataframe\">\n",
       "  <thead>\n",
       "    <tr style=\"text-align: right;\">\n",
       "      <th></th>\n",
       "      <th>brand</th>\n",
       "      <th>product</th>\n",
       "      <th>price</th>\n",
       "    </tr>\n",
       "  </thead>\n",
       "  <tbody>\n",
       "    <tr>\n",
       "      <th>0</th>\n",
       "      <td>Adidas</td>\n",
       "      <td>Yeezy 750 Boost Light Brown</td>\n",
       "      <td>1578</td>\n",
       "    </tr>\n",
       "    <tr>\n",
       "      <th>1</th>\n",
       "      <td>Adidas</td>\n",
       "      <td>Yeezy 350 Boost Pirate Black</td>\n",
       "      <td>910</td>\n",
       "    </tr>\n",
       "    <tr>\n",
       "      <th>2</th>\n",
       "      <td>Adidas</td>\n",
       "      <td>Yeezy Boost 350 V2 Lundmark Reflective</td>\n",
       "      <td>1009</td>\n",
       "    </tr>\n",
       "    <tr>\n",
       "      <th>3</th>\n",
       "      <td>Adidas</td>\n",
       "      <td>Yeezy 350 Boost V2 Black/Red</td>\n",
       "      <td>954</td>\n",
       "    </tr>\n",
       "    <tr>\n",
       "      <th>4</th>\n",
       "      <td>Nike</td>\n",
       "      <td>Air Yeezy Blink</td>\n",
       "      <td>3142</td>\n",
       "    </tr>\n",
       "  </tbody>\n",
       "</table>\n",
       "</div>"
      ],
      "text/plain": [
       "    brand                                 product  price\n",
       "0  Adidas             Yeezy 750 Boost Light Brown   1578\n",
       "1  Adidas            Yeezy 350 Boost Pirate Black    910\n",
       "2  Adidas  Yeezy Boost 350 V2 Lundmark Reflective   1009\n",
       "3  Adidas            Yeezy 350 Boost V2 Black/Red    954\n",
       "4    Nike                         Air Yeezy Blink   3142"
      ]
     },
     "execution_count": 36,
     "metadata": {},
     "output_type": "execute_result"
    }
   ],
   "source": [
    "df_sneakers = pd.read_csv(\n",
    "    \"https://github.com/bdi475/datasets/raw/main/yeezy_sneakers.csv\"\n",
    ")\n",
    "\n",
    "# head() displays the first 5 rows of a DataFrame\n",
    "df_sneakers.head()"
   ]
  },
  {
   "cell_type": "markdown",
   "metadata": {
    "id": "LI33A8-jem7m"
   },
   "source": [
    "The table below describes the columns in `df_sneakers`.\n",
    "\n",
    "| Column Name | Description          |\n",
    "| ----------- | -------------------- |\n",
    "| brand       | Brand of the sneaker |\n",
    "| product     | Name of the sneaker  |\n",
    "| price       | Price of the sneaker |\n"
   ]
  },
  {
   "cell_type": "markdown",
   "metadata": {},
   "source": [
    "▶️ Print out a summary of the `df_sneakers` using the `info()` method.\n"
   ]
  },
  {
   "cell_type": "code",
   "execution_count": 37,
   "metadata": {},
   "outputs": [
    {
     "name": "stdout",
     "output_type": "stream",
     "text": [
      "<class 'pandas.core.frame.DataFrame'>\n",
      "RangeIndex: 15 entries, 0 to 14\n",
      "Data columns (total 3 columns):\n",
      " #   Column   Non-Null Count  Dtype \n",
      "---  ------   --------------  ----- \n",
      " 0   brand    15 non-null     object\n",
      " 1   product  15 non-null     object\n",
      " 2   price    15 non-null     int64 \n",
      "dtypes: int64(1), object(2)\n",
      "memory usage: 492.0+ bytes\n"
     ]
    }
   ],
   "source": [
    "df_sneakers.info()"
   ]
  },
  {
   "cell_type": "markdown",
   "metadata": {},
   "source": [
    "The `.shape` attribute returns a tuple representing the dimensionality of the `DataFrame`. The first element is the number of rows, and the second element is the number of columns.\n",
    "\n",
    "▶️ Use `df_sneakers.shape` to see the shape of the `DataFrame`.\n"
   ]
  },
  {
   "cell_type": "code",
   "execution_count": 38,
   "metadata": {},
   "outputs": [
    {
     "data": {
      "text/plain": [
       "(15, 3)"
      ]
     },
     "execution_count": 38,
     "metadata": {},
     "output_type": "execute_result"
    }
   ],
   "source": [
    "df_sneakers.shape"
   ]
  },
  {
   "cell_type": "markdown",
   "metadata": {},
   "source": [
    "We can retrieve the number of rows and columns separately by indexing into the tuple returned by the `.shape` attribute.\n"
   ]
  },
  {
   "cell_type": "code",
   "execution_count": 39,
   "metadata": {},
   "outputs": [
    {
     "name": "stdout",
     "output_type": "stream",
     "text": [
      "Number of rows: 15\n",
      "Number of columns: 3\n"
     ]
    }
   ],
   "source": [
    "num_rows = df_sneakers.shape[0]\n",
    "num_cols = df_sneakers.shape[1]\n",
    "\n",
    "print(f\"Number of rows: {num_rows}\")\n",
    "print(f\"Number of columns: {num_cols}\")"
   ]
  },
  {
   "cell_type": "markdown",
   "metadata": {},
   "source": [
    "Alternatively, you can unpack the tuple returned by `.shape` into two separate variables. This is called tuple unpacking or destructuring assignment.\n"
   ]
  },
  {
   "cell_type": "code",
   "execution_count": 40,
   "metadata": {},
   "outputs": [
    {
     "name": "stdout",
     "output_type": "stream",
     "text": [
      "Number of rows: 15\n",
      "Number of columns: 3\n"
     ]
    }
   ],
   "source": [
    "num_rows, num_cols = df_sneakers.shape\n",
    "\n",
    "print(f\"Number of rows: {num_rows}\")\n",
    "print(f\"Number of columns: {num_cols}\")"
   ]
  },
  {
   "cell_type": "markdown",
   "metadata": {},
   "source": [
    "---\n",
    "\n",
    "**🎯 Example: Find `\"Adidas\"` sneakers**\n"
   ]
  },
  {
   "cell_type": "code",
   "execution_count": 41,
   "metadata": {},
   "outputs": [
    {
     "data": {
      "text/html": [
       "<div>\n",
       "<style scoped>\n",
       "    .dataframe tbody tr th:only-of-type {\n",
       "        vertical-align: middle;\n",
       "    }\n",
       "\n",
       "    .dataframe tbody tr th {\n",
       "        vertical-align: top;\n",
       "    }\n",
       "\n",
       "    .dataframe thead th {\n",
       "        text-align: right;\n",
       "    }\n",
       "</style>\n",
       "<table border=\"1\" class=\"dataframe\">\n",
       "  <thead>\n",
       "    <tr style=\"text-align: right;\">\n",
       "      <th></th>\n",
       "      <th>brand</th>\n",
       "      <th>product</th>\n",
       "      <th>price</th>\n",
       "    </tr>\n",
       "  </thead>\n",
       "  <tbody>\n",
       "    <tr>\n",
       "      <th>0</th>\n",
       "      <td>Adidas</td>\n",
       "      <td>Yeezy 750 Boost Light Brown</td>\n",
       "      <td>1578</td>\n",
       "    </tr>\n",
       "    <tr>\n",
       "      <th>1</th>\n",
       "      <td>Adidas</td>\n",
       "      <td>Yeezy 350 Boost Pirate Black</td>\n",
       "      <td>910</td>\n",
       "    </tr>\n",
       "    <tr>\n",
       "      <th>2</th>\n",
       "      <td>Adidas</td>\n",
       "      <td>Yeezy Boost 350 V2 Lundmark Reflective</td>\n",
       "      <td>1009</td>\n",
       "    </tr>\n",
       "    <tr>\n",
       "      <th>3</th>\n",
       "      <td>Adidas</td>\n",
       "      <td>Yeezy 350 Boost V2 Black/Red</td>\n",
       "      <td>954</td>\n",
       "    </tr>\n",
       "    <tr>\n",
       "      <th>10</th>\n",
       "      <td>Adidas</td>\n",
       "      <td>Yeezy Boost 350 V2 Black Reflective</td>\n",
       "      <td>1437</td>\n",
       "    </tr>\n",
       "    <tr>\n",
       "      <th>11</th>\n",
       "      <td>Adidas</td>\n",
       "      <td>Yeezy Boost 350 V2 Antlia Reflective</td>\n",
       "      <td>912</td>\n",
       "    </tr>\n",
       "    <tr>\n",
       "      <th>12</th>\n",
       "      <td>Adidas</td>\n",
       "      <td>Yeezy Boost 350 V2 Synth Reflective</td>\n",
       "      <td>1292</td>\n",
       "    </tr>\n",
       "    <tr>\n",
       "      <th>13</th>\n",
       "      <td>Adidas</td>\n",
       "      <td>Yeezy 350 Boost Turtledove</td>\n",
       "      <td>1279</td>\n",
       "    </tr>\n",
       "    <tr>\n",
       "      <th>14</th>\n",
       "      <td>Adidas</td>\n",
       "      <td>Yeezy 750 Boost Glow in the Dark</td>\n",
       "      <td>917</td>\n",
       "    </tr>\n",
       "  </tbody>\n",
       "</table>\n",
       "</div>"
      ],
      "text/plain": [
       "     brand                                 product  price\n",
       "0   Adidas             Yeezy 750 Boost Light Brown   1578\n",
       "1   Adidas            Yeezy 350 Boost Pirate Black    910\n",
       "2   Adidas  Yeezy Boost 350 V2 Lundmark Reflective   1009\n",
       "3   Adidas            Yeezy 350 Boost V2 Black/Red    954\n",
       "10  Adidas     Yeezy Boost 350 V2 Black Reflective   1437\n",
       "11  Adidas    Yeezy Boost 350 V2 Antlia Reflective    912\n",
       "12  Adidas     Yeezy Boost 350 V2 Synth Reflective   1292\n",
       "13  Adidas              Yeezy 350 Boost Turtledove   1279\n",
       "14  Adidas        Yeezy 750 Boost Glow in the Dark    917"
      ]
     },
     "execution_count": 41,
     "metadata": {},
     "output_type": "execute_result"
    }
   ],
   "source": [
    "df_adidas = df_sneakers[df_sneakers[\"brand\"] == \"Adidas\"]\n",
    "\n",
    "df_adidas"
   ]
  },
  {
   "cell_type": "markdown",
   "metadata": {},
   "source": [
    "---\n",
    "\n",
    "**🎯 Example: Find Sneakers under \\\\$1,000**\n"
   ]
  },
  {
   "cell_type": "code",
   "execution_count": 42,
   "metadata": {},
   "outputs": [
    {
     "data": {
      "text/html": [
       "<div>\n",
       "<style scoped>\n",
       "    .dataframe tbody tr th:only-of-type {\n",
       "        vertical-align: middle;\n",
       "    }\n",
       "\n",
       "    .dataframe tbody tr th {\n",
       "        vertical-align: top;\n",
       "    }\n",
       "\n",
       "    .dataframe thead th {\n",
       "        text-align: right;\n",
       "    }\n",
       "</style>\n",
       "<table border=\"1\" class=\"dataframe\">\n",
       "  <thead>\n",
       "    <tr style=\"text-align: right;\">\n",
       "      <th></th>\n",
       "      <th>brand</th>\n",
       "      <th>product</th>\n",
       "      <th>price</th>\n",
       "    </tr>\n",
       "  </thead>\n",
       "  <tbody>\n",
       "    <tr>\n",
       "      <th>1</th>\n",
       "      <td>Adidas</td>\n",
       "      <td>Yeezy 350 Boost Pirate Black</td>\n",
       "      <td>910</td>\n",
       "    </tr>\n",
       "    <tr>\n",
       "      <th>3</th>\n",
       "      <td>Adidas</td>\n",
       "      <td>Yeezy 350 Boost V2 Black/Red</td>\n",
       "      <td>954</td>\n",
       "    </tr>\n",
       "    <tr>\n",
       "      <th>11</th>\n",
       "      <td>Adidas</td>\n",
       "      <td>Yeezy Boost 350 V2 Antlia Reflective</td>\n",
       "      <td>912</td>\n",
       "    </tr>\n",
       "    <tr>\n",
       "      <th>14</th>\n",
       "      <td>Adidas</td>\n",
       "      <td>Yeezy 750 Boost Glow in the Dark</td>\n",
       "      <td>917</td>\n",
       "    </tr>\n",
       "  </tbody>\n",
       "</table>\n",
       "</div>"
      ],
      "text/plain": [
       "     brand                               product  price\n",
       "1   Adidas          Yeezy 350 Boost Pirate Black    910\n",
       "3   Adidas          Yeezy 350 Boost V2 Black/Red    954\n",
       "11  Adidas  Yeezy Boost 350 V2 Antlia Reflective    912\n",
       "14  Adidas      Yeezy 750 Boost Glow in the Dark    917"
      ]
     },
     "execution_count": 42,
     "metadata": {},
     "output_type": "execute_result"
    }
   ],
   "source": [
    "df_under_1000 = df_sneakers[df_sneakers[\"price\"] < 1000]\n",
    "\n",
    "df_under_1000"
   ]
  },
  {
   "cell_type": "markdown",
   "metadata": {},
   "source": [
    "---\n",
    "\n",
    "**🎯 Example: Find `\"Nike\"` Sneakers over \\\\$3,000**\n"
   ]
  },
  {
   "cell_type": "code",
   "execution_count": 43,
   "metadata": {},
   "outputs": [
    {
     "data": {
      "text/html": [
       "<div>\n",
       "<style scoped>\n",
       "    .dataframe tbody tr th:only-of-type {\n",
       "        vertical-align: middle;\n",
       "    }\n",
       "\n",
       "    .dataframe tbody tr th {\n",
       "        vertical-align: top;\n",
       "    }\n",
       "\n",
       "    .dataframe thead th {\n",
       "        text-align: right;\n",
       "    }\n",
       "</style>\n",
       "<table border=\"1\" class=\"dataframe\">\n",
       "  <thead>\n",
       "    <tr style=\"text-align: right;\">\n",
       "      <th></th>\n",
       "      <th>brand</th>\n",
       "      <th>product</th>\n",
       "      <th>price</th>\n",
       "    </tr>\n",
       "  </thead>\n",
       "  <tbody>\n",
       "    <tr>\n",
       "      <th>4</th>\n",
       "      <td>Nike</td>\n",
       "      <td>Air Yeezy Blink</td>\n",
       "      <td>3142</td>\n",
       "    </tr>\n",
       "    <tr>\n",
       "      <th>5</th>\n",
       "      <td>Nike</td>\n",
       "      <td>Air Yeezy 2 Red October</td>\n",
       "      <td>6075</td>\n",
       "    </tr>\n",
       "    <tr>\n",
       "      <th>6</th>\n",
       "      <td>Nike</td>\n",
       "      <td>Air Yeezy 2 Solar Red</td>\n",
       "      <td>4239</td>\n",
       "    </tr>\n",
       "    <tr>\n",
       "      <th>7</th>\n",
       "      <td>Nike</td>\n",
       "      <td>Air Yeezy 2 Pure Platinum</td>\n",
       "      <td>3448</td>\n",
       "    </tr>\n",
       "  </tbody>\n",
       "</table>\n",
       "</div>"
      ],
      "text/plain": [
       "  brand                    product  price\n",
       "4  Nike            Air Yeezy Blink   3142\n",
       "5  Nike    Air Yeezy 2 Red October   6075\n",
       "6  Nike      Air Yeezy 2 Solar Red   4239\n",
       "7  Nike  Air Yeezy 2 Pure Platinum   3448"
      ]
     },
     "execution_count": 43,
     "metadata": {},
     "output_type": "execute_result"
    }
   ],
   "source": [
    "df_nike_over_3000 = df_sneakers[\n",
    "    (df_sneakers[\"brand\"] == \"Nike\") & (df_sneakers[\"price\"] > 3000)\n",
    "]\n",
    "\n",
    "df_nike_over_3000"
   ]
  },
  {
   "cell_type": "markdown",
   "metadata": {},
   "source": [
    ":::{tip} Why the parentheses?\n",
    "\n",
    "In the code above, we used parentheses to group the conditions inside the `query` method:\n",
    "\n",
    "```python\n",
    "df_sneakers[\n",
    "    (df_sneakers[\"brand\"] == \"Nike\") & (df_sneakers[\"price\"] > 3000)\n",
    "]\n",
    "```\n",
    "\n",
    "The parentheses are used to group the conditions in the `query` method. This ensures that the filtering is applied correctly, first checking for the brand and then for the price.\n",
    "\n",
    "Without the parentheses, the logical operators `&` (AND) and `|` (OR) have higher precedence than comparison operators like `==` and `>`. This means that without parentheses, the expression would first attempt to evaluate `\"Nike\" & df_sneakers[\"price\"]`, which is not a valid operation and would raise a `TypeError`.\n",
    "\n",
    "```python\n",
    "df_sneakers[\n",
    "    df_sneakers[\"brand\"] == \"Nike\" & df_sneakers[\"price\"] > 3000\n",
    "]\n",
    "# TypeError: Cannot perform 'rand_' with\n",
    "# a dtyped [int64] array and scalar of type [bool]\n",
    "```\n",
    "\n",
    ":::\n"
   ]
  },
  {
   "cell_type": "markdown",
   "metadata": {},
   "source": [
    "---\n",
    "\n",
    "**🎯 Example: Sort sneakers by price in descending order**\n"
   ]
  },
  {
   "cell_type": "code",
   "execution_count": 44,
   "metadata": {},
   "outputs": [
    {
     "data": {
      "text/html": [
       "<div>\n",
       "<style scoped>\n",
       "    .dataframe tbody tr th:only-of-type {\n",
       "        vertical-align: middle;\n",
       "    }\n",
       "\n",
       "    .dataframe tbody tr th {\n",
       "        vertical-align: top;\n",
       "    }\n",
       "\n",
       "    .dataframe thead th {\n",
       "        text-align: right;\n",
       "    }\n",
       "</style>\n",
       "<table border=\"1\" class=\"dataframe\">\n",
       "  <thead>\n",
       "    <tr style=\"text-align: right;\">\n",
       "      <th></th>\n",
       "      <th>brand</th>\n",
       "      <th>product</th>\n",
       "      <th>price</th>\n",
       "    </tr>\n",
       "  </thead>\n",
       "  <tbody>\n",
       "    <tr>\n",
       "      <th>5</th>\n",
       "      <td>Nike</td>\n",
       "      <td>Air Yeezy 2 Red October</td>\n",
       "      <td>6075</td>\n",
       "    </tr>\n",
       "    <tr>\n",
       "      <th>6</th>\n",
       "      <td>Nike</td>\n",
       "      <td>Air Yeezy 2 Solar Red</td>\n",
       "      <td>4239</td>\n",
       "    </tr>\n",
       "    <tr>\n",
       "      <th>7</th>\n",
       "      <td>Nike</td>\n",
       "      <td>Air Yeezy 2 Pure Platinum</td>\n",
       "      <td>3448</td>\n",
       "    </tr>\n",
       "    <tr>\n",
       "      <th>4</th>\n",
       "      <td>Nike</td>\n",
       "      <td>Air Yeezy Blink</td>\n",
       "      <td>3142</td>\n",
       "    </tr>\n",
       "    <tr>\n",
       "      <th>9</th>\n",
       "      <td>Nike</td>\n",
       "      <td>Air Yeezy Zen Grey</td>\n",
       "      <td>2139</td>\n",
       "    </tr>\n",
       "    <tr>\n",
       "      <th>8</th>\n",
       "      <td>Nike</td>\n",
       "      <td>Air Yeezy Net</td>\n",
       "      <td>1888</td>\n",
       "    </tr>\n",
       "    <tr>\n",
       "      <th>0</th>\n",
       "      <td>Adidas</td>\n",
       "      <td>Yeezy 750 Boost Light Brown</td>\n",
       "      <td>1578</td>\n",
       "    </tr>\n",
       "    <tr>\n",
       "      <th>10</th>\n",
       "      <td>Adidas</td>\n",
       "      <td>Yeezy Boost 350 V2 Black Reflective</td>\n",
       "      <td>1437</td>\n",
       "    </tr>\n",
       "    <tr>\n",
       "      <th>12</th>\n",
       "      <td>Adidas</td>\n",
       "      <td>Yeezy Boost 350 V2 Synth Reflective</td>\n",
       "      <td>1292</td>\n",
       "    </tr>\n",
       "    <tr>\n",
       "      <th>13</th>\n",
       "      <td>Adidas</td>\n",
       "      <td>Yeezy 350 Boost Turtledove</td>\n",
       "      <td>1279</td>\n",
       "    </tr>\n",
       "    <tr>\n",
       "      <th>2</th>\n",
       "      <td>Adidas</td>\n",
       "      <td>Yeezy Boost 350 V2 Lundmark Reflective</td>\n",
       "      <td>1009</td>\n",
       "    </tr>\n",
       "    <tr>\n",
       "      <th>3</th>\n",
       "      <td>Adidas</td>\n",
       "      <td>Yeezy 350 Boost V2 Black/Red</td>\n",
       "      <td>954</td>\n",
       "    </tr>\n",
       "    <tr>\n",
       "      <th>14</th>\n",
       "      <td>Adidas</td>\n",
       "      <td>Yeezy 750 Boost Glow in the Dark</td>\n",
       "      <td>917</td>\n",
       "    </tr>\n",
       "    <tr>\n",
       "      <th>11</th>\n",
       "      <td>Adidas</td>\n",
       "      <td>Yeezy Boost 350 V2 Antlia Reflective</td>\n",
       "      <td>912</td>\n",
       "    </tr>\n",
       "    <tr>\n",
       "      <th>1</th>\n",
       "      <td>Adidas</td>\n",
       "      <td>Yeezy 350 Boost Pirate Black</td>\n",
       "      <td>910</td>\n",
       "    </tr>\n",
       "  </tbody>\n",
       "</table>\n",
       "</div>"
      ],
      "text/plain": [
       "     brand                                 product  price\n",
       "5     Nike                 Air Yeezy 2 Red October   6075\n",
       "6     Nike                   Air Yeezy 2 Solar Red   4239\n",
       "7     Nike               Air Yeezy 2 Pure Platinum   3448\n",
       "4     Nike                         Air Yeezy Blink   3142\n",
       "9     Nike                      Air Yeezy Zen Grey   2139\n",
       "8     Nike                           Air Yeezy Net   1888\n",
       "0   Adidas             Yeezy 750 Boost Light Brown   1578\n",
       "10  Adidas     Yeezy Boost 350 V2 Black Reflective   1437\n",
       "12  Adidas     Yeezy Boost 350 V2 Synth Reflective   1292\n",
       "13  Adidas              Yeezy 350 Boost Turtledove   1279\n",
       "2   Adidas  Yeezy Boost 350 V2 Lundmark Reflective   1009\n",
       "3   Adidas            Yeezy 350 Boost V2 Black/Red    954\n",
       "14  Adidas        Yeezy 750 Boost Glow in the Dark    917\n",
       "11  Adidas    Yeezy Boost 350 V2 Antlia Reflective    912\n",
       "1   Adidas            Yeezy 350 Boost Pirate Black    910"
      ]
     },
     "execution_count": 44,
     "metadata": {},
     "output_type": "execute_result"
    }
   ],
   "source": [
    "df_sorted_by_price_desc = df_sneakers.sort_values(\"price\", ascending=False)\n",
    "\n",
    "df_sorted_by_price_desc"
   ]
  },
  {
   "cell_type": "markdown",
   "metadata": {},
   "source": [
    "---\n",
    "\n",
    "**🎯 Example: Sneakers `> 6000` or `< 1000`**\n"
   ]
  },
  {
   "cell_type": "code",
   "execution_count": 45,
   "metadata": {},
   "outputs": [
    {
     "data": {
      "text/html": [
       "<div>\n",
       "<style scoped>\n",
       "    .dataframe tbody tr th:only-of-type {\n",
       "        vertical-align: middle;\n",
       "    }\n",
       "\n",
       "    .dataframe tbody tr th {\n",
       "        vertical-align: top;\n",
       "    }\n",
       "\n",
       "    .dataframe thead th {\n",
       "        text-align: right;\n",
       "    }\n",
       "</style>\n",
       "<table border=\"1\" class=\"dataframe\">\n",
       "  <thead>\n",
       "    <tr style=\"text-align: right;\">\n",
       "      <th></th>\n",
       "      <th>brand</th>\n",
       "      <th>product</th>\n",
       "      <th>price</th>\n",
       "    </tr>\n",
       "  </thead>\n",
       "  <tbody>\n",
       "    <tr>\n",
       "      <th>1</th>\n",
       "      <td>Adidas</td>\n",
       "      <td>Yeezy 350 Boost Pirate Black</td>\n",
       "      <td>910</td>\n",
       "    </tr>\n",
       "    <tr>\n",
       "      <th>3</th>\n",
       "      <td>Adidas</td>\n",
       "      <td>Yeezy 350 Boost V2 Black/Red</td>\n",
       "      <td>954</td>\n",
       "    </tr>\n",
       "    <tr>\n",
       "      <th>5</th>\n",
       "      <td>Nike</td>\n",
       "      <td>Air Yeezy 2 Red October</td>\n",
       "      <td>6075</td>\n",
       "    </tr>\n",
       "    <tr>\n",
       "      <th>11</th>\n",
       "      <td>Adidas</td>\n",
       "      <td>Yeezy Boost 350 V2 Antlia Reflective</td>\n",
       "      <td>912</td>\n",
       "    </tr>\n",
       "    <tr>\n",
       "      <th>14</th>\n",
       "      <td>Adidas</td>\n",
       "      <td>Yeezy 750 Boost Glow in the Dark</td>\n",
       "      <td>917</td>\n",
       "    </tr>\n",
       "  </tbody>\n",
       "</table>\n",
       "</div>"
      ],
      "text/plain": [
       "     brand                               product  price\n",
       "1   Adidas          Yeezy 350 Boost Pirate Black    910\n",
       "3   Adidas          Yeezy 350 Boost V2 Black/Red    954\n",
       "5     Nike               Air Yeezy 2 Red October   6075\n",
       "11  Adidas  Yeezy Boost 350 V2 Antlia Reflective    912\n",
       "14  Adidas      Yeezy 750 Boost Glow in the Dark    917"
      ]
     },
     "execution_count": 45,
     "metadata": {},
     "output_type": "execute_result"
    }
   ],
   "source": [
    "df_polar = df_sneakers[(df_sneakers[\"price\"] > 6000) | (df_sneakers[\"price\"] < 1000)]\n",
    "\n",
    "df_polar"
   ]
  },
  {
   "cell_type": "markdown",
   "metadata": {
    "nbgrader": {
     "grade": true,
     "grade_id": "challenge-12",
     "locked": true,
     "points": "1",
     "solution": false
    }
   },
   "source": [
    "---\n",
    "\n",
    "**🎯 Example: Sort by brand ascending and price descending**\n"
   ]
  },
  {
   "cell_type": "code",
   "execution_count": 46,
   "metadata": {},
   "outputs": [
    {
     "data": {
      "text/html": [
       "<div>\n",
       "<style scoped>\n",
       "    .dataframe tbody tr th:only-of-type {\n",
       "        vertical-align: middle;\n",
       "    }\n",
       "\n",
       "    .dataframe tbody tr th {\n",
       "        vertical-align: top;\n",
       "    }\n",
       "\n",
       "    .dataframe thead th {\n",
       "        text-align: right;\n",
       "    }\n",
       "</style>\n",
       "<table border=\"1\" class=\"dataframe\">\n",
       "  <thead>\n",
       "    <tr style=\"text-align: right;\">\n",
       "      <th></th>\n",
       "      <th>brand</th>\n",
       "      <th>product</th>\n",
       "      <th>price</th>\n",
       "    </tr>\n",
       "  </thead>\n",
       "  <tbody>\n",
       "    <tr>\n",
       "      <th>0</th>\n",
       "      <td>Adidas</td>\n",
       "      <td>Yeezy 750 Boost Light Brown</td>\n",
       "      <td>1578</td>\n",
       "    </tr>\n",
       "    <tr>\n",
       "      <th>10</th>\n",
       "      <td>Adidas</td>\n",
       "      <td>Yeezy Boost 350 V2 Black Reflective</td>\n",
       "      <td>1437</td>\n",
       "    </tr>\n",
       "    <tr>\n",
       "      <th>12</th>\n",
       "      <td>Adidas</td>\n",
       "      <td>Yeezy Boost 350 V2 Synth Reflective</td>\n",
       "      <td>1292</td>\n",
       "    </tr>\n",
       "    <tr>\n",
       "      <th>13</th>\n",
       "      <td>Adidas</td>\n",
       "      <td>Yeezy 350 Boost Turtledove</td>\n",
       "      <td>1279</td>\n",
       "    </tr>\n",
       "    <tr>\n",
       "      <th>2</th>\n",
       "      <td>Adidas</td>\n",
       "      <td>Yeezy Boost 350 V2 Lundmark Reflective</td>\n",
       "      <td>1009</td>\n",
       "    </tr>\n",
       "    <tr>\n",
       "      <th>3</th>\n",
       "      <td>Adidas</td>\n",
       "      <td>Yeezy 350 Boost V2 Black/Red</td>\n",
       "      <td>954</td>\n",
       "    </tr>\n",
       "    <tr>\n",
       "      <th>14</th>\n",
       "      <td>Adidas</td>\n",
       "      <td>Yeezy 750 Boost Glow in the Dark</td>\n",
       "      <td>917</td>\n",
       "    </tr>\n",
       "    <tr>\n",
       "      <th>11</th>\n",
       "      <td>Adidas</td>\n",
       "      <td>Yeezy Boost 350 V2 Antlia Reflective</td>\n",
       "      <td>912</td>\n",
       "    </tr>\n",
       "    <tr>\n",
       "      <th>1</th>\n",
       "      <td>Adidas</td>\n",
       "      <td>Yeezy 350 Boost Pirate Black</td>\n",
       "      <td>910</td>\n",
       "    </tr>\n",
       "    <tr>\n",
       "      <th>5</th>\n",
       "      <td>Nike</td>\n",
       "      <td>Air Yeezy 2 Red October</td>\n",
       "      <td>6075</td>\n",
       "    </tr>\n",
       "    <tr>\n",
       "      <th>6</th>\n",
       "      <td>Nike</td>\n",
       "      <td>Air Yeezy 2 Solar Red</td>\n",
       "      <td>4239</td>\n",
       "    </tr>\n",
       "    <tr>\n",
       "      <th>7</th>\n",
       "      <td>Nike</td>\n",
       "      <td>Air Yeezy 2 Pure Platinum</td>\n",
       "      <td>3448</td>\n",
       "    </tr>\n",
       "    <tr>\n",
       "      <th>4</th>\n",
       "      <td>Nike</td>\n",
       "      <td>Air Yeezy Blink</td>\n",
       "      <td>3142</td>\n",
       "    </tr>\n",
       "    <tr>\n",
       "      <th>9</th>\n",
       "      <td>Nike</td>\n",
       "      <td>Air Yeezy Zen Grey</td>\n",
       "      <td>2139</td>\n",
       "    </tr>\n",
       "    <tr>\n",
       "      <th>8</th>\n",
       "      <td>Nike</td>\n",
       "      <td>Air Yeezy Net</td>\n",
       "      <td>1888</td>\n",
       "    </tr>\n",
       "  </tbody>\n",
       "</table>\n",
       "</div>"
      ],
      "text/plain": [
       "     brand                                 product  price\n",
       "0   Adidas             Yeezy 750 Boost Light Brown   1578\n",
       "10  Adidas     Yeezy Boost 350 V2 Black Reflective   1437\n",
       "12  Adidas     Yeezy Boost 350 V2 Synth Reflective   1292\n",
       "13  Adidas              Yeezy 350 Boost Turtledove   1279\n",
       "2   Adidas  Yeezy Boost 350 V2 Lundmark Reflective   1009\n",
       "3   Adidas            Yeezy 350 Boost V2 Black/Red    954\n",
       "14  Adidas        Yeezy 750 Boost Glow in the Dark    917\n",
       "11  Adidas    Yeezy Boost 350 V2 Antlia Reflective    912\n",
       "1   Adidas            Yeezy 350 Boost Pirate Black    910\n",
       "5     Nike                 Air Yeezy 2 Red October   6075\n",
       "6     Nike                   Air Yeezy 2 Solar Red   4239\n",
       "7     Nike               Air Yeezy 2 Pure Platinum   3448\n",
       "4     Nike                         Air Yeezy Blink   3142\n",
       "9     Nike                      Air Yeezy Zen Grey   2139\n",
       "8     Nike                           Air Yeezy Net   1888"
      ]
     },
     "execution_count": 46,
     "metadata": {},
     "output_type": "execute_result"
    }
   ],
   "source": [
    "df_sorted_by_brand_price = df_sneakers.sort_values(\n",
    "    [\"brand\", \"price\"], ascending=[True, False]\n",
    ")\n",
    "\n",
    "df_sorted_by_brand_price"
   ]
  },
  {
   "cell_type": "markdown",
   "metadata": {},
   "source": [
    ":::{danger} Can I use `.sort_values()` twice instead of passing a list to `by`?\n",
    "\n",
    "No, you cannot use `.sort_values()` twice to achieve the same result as passing a list to the `by` parameter. When you call `.sort_values()` multiple times, each call sorts the entire `DataFrame` independently, which means the second sort will override the first sort.\n",
    "\n",
    "For example, the following code will not sort `df_sneakers` first by `\"brand\"`. The second `.sort_values()` call will then sort by `\"price\"`. Note that the final result will only be sorted by `\"price\"` in descending order, and the sorting by `\"brand\"` will be lost. If you're looking to sort by multiple columns, you should pass a list of column names to the `by` parameter in a single `.sort_values()` call.\n",
    "\n",
    "**🚫 Incorrect approach: Call `sort_values()` separately**\n",
    "\n",
    "In this approach, we first sort by `\"brand\"` and then by `\"price\"`, but the second sort overrides the first. `df_temporary` is an intermediate `DataFrame` that holds the result of the first sort. The final result, `df_sorted_by_brand_price`, is only sorted by `\"price\"` in descending order.\n",
    "\n",
    "```python\n",
    "df_temporary = df_sneakers.sort_values(\"brand\", ascending=True)\n",
    "df_sorted_by_brand_price = df_temporary.sort_values(\"price\", ascending=False) # Not correct\n",
    "```\n",
    "\n",
    "**✅ Correct approach: Pass a list to `by`**\n",
    "\n",
    "```python\n",
    "df_sorted_by_brand_price = df_sneakers.sort_values(\n",
    "    [\"brand\", \"price\"], ascending=[True, False]\n",
    ")\n",
    "```\n",
    "\n",
    ":::\n"
   ]
  },
  {
   "cell_type": "markdown",
   "metadata": {},
   "source": [
    "The code and output below verify that the result is only sorted by `\"price\"` in descending order, and the sorting by `\"brand\"` is lost.\n"
   ]
  },
  {
   "cell_type": "code",
   "execution_count": 47,
   "metadata": {},
   "outputs": [
    {
     "data": {
      "text/html": [
       "<div>\n",
       "<style scoped>\n",
       "    .dataframe tbody tr th:only-of-type {\n",
       "        vertical-align: middle;\n",
       "    }\n",
       "\n",
       "    .dataframe tbody tr th {\n",
       "        vertical-align: top;\n",
       "    }\n",
       "\n",
       "    .dataframe thead th {\n",
       "        text-align: right;\n",
       "    }\n",
       "</style>\n",
       "<table border=\"1\" class=\"dataframe\">\n",
       "  <thead>\n",
       "    <tr style=\"text-align: right;\">\n",
       "      <th></th>\n",
       "      <th>brand</th>\n",
       "      <th>product</th>\n",
       "      <th>price</th>\n",
       "    </tr>\n",
       "  </thead>\n",
       "  <tbody>\n",
       "    <tr>\n",
       "      <th>5</th>\n",
       "      <td>Nike</td>\n",
       "      <td>Air Yeezy 2 Red October</td>\n",
       "      <td>6075</td>\n",
       "    </tr>\n",
       "    <tr>\n",
       "      <th>6</th>\n",
       "      <td>Nike</td>\n",
       "      <td>Air Yeezy 2 Solar Red</td>\n",
       "      <td>4239</td>\n",
       "    </tr>\n",
       "    <tr>\n",
       "      <th>7</th>\n",
       "      <td>Nike</td>\n",
       "      <td>Air Yeezy 2 Pure Platinum</td>\n",
       "      <td>3448</td>\n",
       "    </tr>\n",
       "    <tr>\n",
       "      <th>4</th>\n",
       "      <td>Nike</td>\n",
       "      <td>Air Yeezy Blink</td>\n",
       "      <td>3142</td>\n",
       "    </tr>\n",
       "    <tr>\n",
       "      <th>9</th>\n",
       "      <td>Nike</td>\n",
       "      <td>Air Yeezy Zen Grey</td>\n",
       "      <td>2139</td>\n",
       "    </tr>\n",
       "    <tr>\n",
       "      <th>8</th>\n",
       "      <td>Nike</td>\n",
       "      <td>Air Yeezy Net</td>\n",
       "      <td>1888</td>\n",
       "    </tr>\n",
       "    <tr>\n",
       "      <th>0</th>\n",
       "      <td>Adidas</td>\n",
       "      <td>Yeezy 750 Boost Light Brown</td>\n",
       "      <td>1578</td>\n",
       "    </tr>\n",
       "    <tr>\n",
       "      <th>10</th>\n",
       "      <td>Adidas</td>\n",
       "      <td>Yeezy Boost 350 V2 Black Reflective</td>\n",
       "      <td>1437</td>\n",
       "    </tr>\n",
       "    <tr>\n",
       "      <th>12</th>\n",
       "      <td>Adidas</td>\n",
       "      <td>Yeezy Boost 350 V2 Synth Reflective</td>\n",
       "      <td>1292</td>\n",
       "    </tr>\n",
       "    <tr>\n",
       "      <th>13</th>\n",
       "      <td>Adidas</td>\n",
       "      <td>Yeezy 350 Boost Turtledove</td>\n",
       "      <td>1279</td>\n",
       "    </tr>\n",
       "    <tr>\n",
       "      <th>2</th>\n",
       "      <td>Adidas</td>\n",
       "      <td>Yeezy Boost 350 V2 Lundmark Reflective</td>\n",
       "      <td>1009</td>\n",
       "    </tr>\n",
       "    <tr>\n",
       "      <th>3</th>\n",
       "      <td>Adidas</td>\n",
       "      <td>Yeezy 350 Boost V2 Black/Red</td>\n",
       "      <td>954</td>\n",
       "    </tr>\n",
       "    <tr>\n",
       "      <th>14</th>\n",
       "      <td>Adidas</td>\n",
       "      <td>Yeezy 750 Boost Glow in the Dark</td>\n",
       "      <td>917</td>\n",
       "    </tr>\n",
       "    <tr>\n",
       "      <th>11</th>\n",
       "      <td>Adidas</td>\n",
       "      <td>Yeezy Boost 350 V2 Antlia Reflective</td>\n",
       "      <td>912</td>\n",
       "    </tr>\n",
       "    <tr>\n",
       "      <th>1</th>\n",
       "      <td>Adidas</td>\n",
       "      <td>Yeezy 350 Boost Pirate Black</td>\n",
       "      <td>910</td>\n",
       "    </tr>\n",
       "  </tbody>\n",
       "</table>\n",
       "</div>"
      ],
      "text/plain": [
       "     brand                                 product  price\n",
       "5     Nike                 Air Yeezy 2 Red October   6075\n",
       "6     Nike                   Air Yeezy 2 Solar Red   4239\n",
       "7     Nike               Air Yeezy 2 Pure Platinum   3448\n",
       "4     Nike                         Air Yeezy Blink   3142\n",
       "9     Nike                      Air Yeezy Zen Grey   2139\n",
       "8     Nike                           Air Yeezy Net   1888\n",
       "0   Adidas             Yeezy 750 Boost Light Brown   1578\n",
       "10  Adidas     Yeezy Boost 350 V2 Black Reflective   1437\n",
       "12  Adidas     Yeezy Boost 350 V2 Synth Reflective   1292\n",
       "13  Adidas              Yeezy 350 Boost Turtledove   1279\n",
       "2   Adidas  Yeezy Boost 350 V2 Lundmark Reflective   1009\n",
       "3   Adidas            Yeezy 350 Boost V2 Black/Red    954\n",
       "14  Adidas        Yeezy 750 Boost Glow in the Dark    917\n",
       "11  Adidas    Yeezy Boost 350 V2 Antlia Reflective    912\n",
       "1   Adidas            Yeezy 350 Boost Pirate Black    910"
      ]
     },
     "execution_count": 47,
     "metadata": {},
     "output_type": "execute_result"
    }
   ],
   "source": [
    "df_chained_sort = df_sneakers.sort_values(\"brand\", ascending=True).sort_values(\n",
    "    \"price\", ascending=False\n",
    ")\n",
    "\n",
    "df_chained_sort"
   ]
  },
  {
   "cell_type": "markdown",
   "metadata": {},
   "source": [
    "---\n",
    "\n",
    "## 🧑‍💼 More Examples using an Employees `DataFrame`\n",
    "\n",
    "Create a new `DataFrame` named `df_emp`.\n"
   ]
  },
  {
   "cell_type": "code",
   "execution_count": 48,
   "metadata": {},
   "outputs": [
    {
     "data": {
      "text/html": [
       "<div>\n",
       "<style scoped>\n",
       "    .dataframe tbody tr th:only-of-type {\n",
       "        vertical-align: middle;\n",
       "    }\n",
       "\n",
       "    .dataframe tbody tr th {\n",
       "        vertical-align: top;\n",
       "    }\n",
       "\n",
       "    .dataframe thead th {\n",
       "        text-align: right;\n",
       "    }\n",
       "</style>\n",
       "<table border=\"1\" class=\"dataframe\">\n",
       "  <thead>\n",
       "    <tr style=\"text-align: right;\">\n",
       "      <th></th>\n",
       "      <th>emp_id</th>\n",
       "      <th>name</th>\n",
       "      <th>dept</th>\n",
       "      <th>office_phone</th>\n",
       "      <th>start_date</th>\n",
       "      <th>salary</th>\n",
       "    </tr>\n",
       "  </thead>\n",
       "  <tbody>\n",
       "    <tr>\n",
       "      <th>0</th>\n",
       "      <td>30</td>\n",
       "      <td>Colby</td>\n",
       "      <td>Sales</td>\n",
       "      <td>(217)123-4500</td>\n",
       "      <td>2017-05-01</td>\n",
       "      <td>202000</td>\n",
       "    </tr>\n",
       "    <tr>\n",
       "      <th>1</th>\n",
       "      <td>40</td>\n",
       "      <td>Adam</td>\n",
       "      <td>Marketing</td>\n",
       "      <td>NaN</td>\n",
       "      <td>2018-02-01</td>\n",
       "      <td>185000</td>\n",
       "    </tr>\n",
       "    <tr>\n",
       "      <th>2</th>\n",
       "      <td>10</td>\n",
       "      <td>Eli</td>\n",
       "      <td>Sales</td>\n",
       "      <td>NaN</td>\n",
       "      <td>2020-08-01</td>\n",
       "      <td>240000</td>\n",
       "    </tr>\n",
       "    <tr>\n",
       "      <th>3</th>\n",
       "      <td>20</td>\n",
       "      <td>Dylan</td>\n",
       "      <td>Marketing</td>\n",
       "      <td>(217)987-6543</td>\n",
       "      <td>2019-12-01</td>\n",
       "      <td>160500</td>\n",
       "    </tr>\n",
       "  </tbody>\n",
       "</table>\n",
       "</div>"
      ],
      "text/plain": [
       "   emp_id   name       dept   office_phone  start_date  salary\n",
       "0      30  Colby      Sales  (217)123-4500  2017-05-01  202000\n",
       "1      40   Adam  Marketing            NaN  2018-02-01  185000\n",
       "2      10    Eli      Sales            NaN  2020-08-01  240000\n",
       "3      20  Dylan  Marketing  (217)987-6543  2019-12-01  160500"
      ]
     },
     "execution_count": 48,
     "metadata": {},
     "output_type": "execute_result"
    }
   ],
   "source": [
    "df_emp = pd.DataFrame(\n",
    "    {\n",
    "        \"emp_id\": [30, 40, 10, 20],\n",
    "        \"name\": [\"Colby\", \"Adam\", \"Eli\", \"Dylan\"],\n",
    "        \"dept\": [\"Sales\", \"Marketing\", \"Sales\", \"Marketing\"],\n",
    "        \"office_phone\": [\"(217)123-4500\", np.nan, np.nan, \"(217)987-6543\"],\n",
    "        \"start_date\": [\"2017-05-01\", \"2018-02-01\", \"2020-08-01\", \"2019-12-01\"],\n",
    "        \"salary\": [202000, 185000, 240000, 160500],\n",
    "    }\n",
    ")\n",
    "\n",
    "# Used for intermediate checks\n",
    "df_emp_backup = df_emp.copy()\n",
    "\n",
    "df_emp"
   ]
  },
  {
   "cell_type": "markdown",
   "metadata": {},
   "source": [
    "---\n",
    "\n",
    "**🎯 Example: Sort by `\"emp_id\"` ascending**\n"
   ]
  },
  {
   "cell_type": "code",
   "execution_count": 49,
   "metadata": {},
   "outputs": [
    {
     "data": {
      "text/html": [
       "<div>\n",
       "<style scoped>\n",
       "    .dataframe tbody tr th:only-of-type {\n",
       "        vertical-align: middle;\n",
       "    }\n",
       "\n",
       "    .dataframe tbody tr th {\n",
       "        vertical-align: top;\n",
       "    }\n",
       "\n",
       "    .dataframe thead th {\n",
       "        text-align: right;\n",
       "    }\n",
       "</style>\n",
       "<table border=\"1\" class=\"dataframe\">\n",
       "  <thead>\n",
       "    <tr style=\"text-align: right;\">\n",
       "      <th></th>\n",
       "      <th>emp_id</th>\n",
       "      <th>name</th>\n",
       "      <th>dept</th>\n",
       "      <th>office_phone</th>\n",
       "      <th>start_date</th>\n",
       "      <th>salary</th>\n",
       "    </tr>\n",
       "  </thead>\n",
       "  <tbody>\n",
       "    <tr>\n",
       "      <th>2</th>\n",
       "      <td>10</td>\n",
       "      <td>Eli</td>\n",
       "      <td>Sales</td>\n",
       "      <td>NaN</td>\n",
       "      <td>2020-08-01</td>\n",
       "      <td>240000</td>\n",
       "    </tr>\n",
       "    <tr>\n",
       "      <th>3</th>\n",
       "      <td>20</td>\n",
       "      <td>Dylan</td>\n",
       "      <td>Marketing</td>\n",
       "      <td>(217)987-6543</td>\n",
       "      <td>2019-12-01</td>\n",
       "      <td>160500</td>\n",
       "    </tr>\n",
       "    <tr>\n",
       "      <th>0</th>\n",
       "      <td>30</td>\n",
       "      <td>Colby</td>\n",
       "      <td>Sales</td>\n",
       "      <td>(217)123-4500</td>\n",
       "      <td>2017-05-01</td>\n",
       "      <td>202000</td>\n",
       "    </tr>\n",
       "    <tr>\n",
       "      <th>1</th>\n",
       "      <td>40</td>\n",
       "      <td>Adam</td>\n",
       "      <td>Marketing</td>\n",
       "      <td>NaN</td>\n",
       "      <td>2018-02-01</td>\n",
       "      <td>185000</td>\n",
       "    </tr>\n",
       "  </tbody>\n",
       "</table>\n",
       "</div>"
      ],
      "text/plain": [
       "   emp_id   name       dept   office_phone  start_date  salary\n",
       "2      10    Eli      Sales            NaN  2020-08-01  240000\n",
       "3      20  Dylan  Marketing  (217)987-6543  2019-12-01  160500\n",
       "0      30  Colby      Sales  (217)123-4500  2017-05-01  202000\n",
       "1      40   Adam  Marketing            NaN  2018-02-01  185000"
      ]
     },
     "execution_count": 49,
     "metadata": {},
     "output_type": "execute_result"
    }
   ],
   "source": [
    "df_id_asc = df_emp.sort_values(\"emp_id\")\n",
    "\n",
    "df_id_asc"
   ]
  },
  {
   "cell_type": "markdown",
   "metadata": {},
   "source": [
    "---\n",
    "\n",
    "**🎯 Example: Sort by `\"emp_id\"` descending**\n"
   ]
  },
  {
   "cell_type": "code",
   "execution_count": 50,
   "metadata": {},
   "outputs": [
    {
     "data": {
      "text/html": [
       "<div>\n",
       "<style scoped>\n",
       "    .dataframe tbody tr th:only-of-type {\n",
       "        vertical-align: middle;\n",
       "    }\n",
       "\n",
       "    .dataframe tbody tr th {\n",
       "        vertical-align: top;\n",
       "    }\n",
       "\n",
       "    .dataframe thead th {\n",
       "        text-align: right;\n",
       "    }\n",
       "</style>\n",
       "<table border=\"1\" class=\"dataframe\">\n",
       "  <thead>\n",
       "    <tr style=\"text-align: right;\">\n",
       "      <th></th>\n",
       "      <th>emp_id</th>\n",
       "      <th>name</th>\n",
       "      <th>dept</th>\n",
       "      <th>office_phone</th>\n",
       "      <th>start_date</th>\n",
       "      <th>salary</th>\n",
       "    </tr>\n",
       "  </thead>\n",
       "  <tbody>\n",
       "    <tr>\n",
       "      <th>1</th>\n",
       "      <td>40</td>\n",
       "      <td>Adam</td>\n",
       "      <td>Marketing</td>\n",
       "      <td>NaN</td>\n",
       "      <td>2018-02-01</td>\n",
       "      <td>185000</td>\n",
       "    </tr>\n",
       "    <tr>\n",
       "      <th>0</th>\n",
       "      <td>30</td>\n",
       "      <td>Colby</td>\n",
       "      <td>Sales</td>\n",
       "      <td>(217)123-4500</td>\n",
       "      <td>2017-05-01</td>\n",
       "      <td>202000</td>\n",
       "    </tr>\n",
       "    <tr>\n",
       "      <th>3</th>\n",
       "      <td>20</td>\n",
       "      <td>Dylan</td>\n",
       "      <td>Marketing</td>\n",
       "      <td>(217)987-6543</td>\n",
       "      <td>2019-12-01</td>\n",
       "      <td>160500</td>\n",
       "    </tr>\n",
       "    <tr>\n",
       "      <th>2</th>\n",
       "      <td>10</td>\n",
       "      <td>Eli</td>\n",
       "      <td>Sales</td>\n",
       "      <td>NaN</td>\n",
       "      <td>2020-08-01</td>\n",
       "      <td>240000</td>\n",
       "    </tr>\n",
       "  </tbody>\n",
       "</table>\n",
       "</div>"
      ],
      "text/plain": [
       "   emp_id   name       dept   office_phone  start_date  salary\n",
       "1      40   Adam  Marketing            NaN  2018-02-01  185000\n",
       "0      30  Colby      Sales  (217)123-4500  2017-05-01  202000\n",
       "3      20  Dylan  Marketing  (217)987-6543  2019-12-01  160500\n",
       "2      10    Eli      Sales            NaN  2020-08-01  240000"
      ]
     },
     "execution_count": 50,
     "metadata": {},
     "output_type": "execute_result"
    }
   ],
   "source": [
    "df_id_desc = df_emp.sort_values(\"emp_id\", ascending=False)\n",
    "\n",
    "df_id_desc"
   ]
  },
  {
   "cell_type": "markdown",
   "metadata": {},
   "source": [
    "---\n",
    "\n",
    "**🎯 Example: Sort by `\"dept\"` descending and then by `\"start_date\"` ascending**\n"
   ]
  },
  {
   "cell_type": "code",
   "execution_count": 51,
   "metadata": {},
   "outputs": [
    {
     "data": {
      "text/html": [
       "<div>\n",
       "<style scoped>\n",
       "    .dataframe tbody tr th:only-of-type {\n",
       "        vertical-align: middle;\n",
       "    }\n",
       "\n",
       "    .dataframe tbody tr th {\n",
       "        vertical-align: top;\n",
       "    }\n",
       "\n",
       "    .dataframe thead th {\n",
       "        text-align: right;\n",
       "    }\n",
       "</style>\n",
       "<table border=\"1\" class=\"dataframe\">\n",
       "  <thead>\n",
       "    <tr style=\"text-align: right;\">\n",
       "      <th></th>\n",
       "      <th>emp_id</th>\n",
       "      <th>name</th>\n",
       "      <th>dept</th>\n",
       "      <th>office_phone</th>\n",
       "      <th>start_date</th>\n",
       "      <th>salary</th>\n",
       "    </tr>\n",
       "  </thead>\n",
       "  <tbody>\n",
       "    <tr>\n",
       "      <th>0</th>\n",
       "      <td>30</td>\n",
       "      <td>Colby</td>\n",
       "      <td>Sales</td>\n",
       "      <td>(217)123-4500</td>\n",
       "      <td>2017-05-01</td>\n",
       "      <td>202000</td>\n",
       "    </tr>\n",
       "    <tr>\n",
       "      <th>2</th>\n",
       "      <td>10</td>\n",
       "      <td>Eli</td>\n",
       "      <td>Sales</td>\n",
       "      <td>NaN</td>\n",
       "      <td>2020-08-01</td>\n",
       "      <td>240000</td>\n",
       "    </tr>\n",
       "    <tr>\n",
       "      <th>1</th>\n",
       "      <td>40</td>\n",
       "      <td>Adam</td>\n",
       "      <td>Marketing</td>\n",
       "      <td>NaN</td>\n",
       "      <td>2018-02-01</td>\n",
       "      <td>185000</td>\n",
       "    </tr>\n",
       "    <tr>\n",
       "      <th>3</th>\n",
       "      <td>20</td>\n",
       "      <td>Dylan</td>\n",
       "      <td>Marketing</td>\n",
       "      <td>(217)987-6543</td>\n",
       "      <td>2019-12-01</td>\n",
       "      <td>160500</td>\n",
       "    </tr>\n",
       "  </tbody>\n",
       "</table>\n",
       "</div>"
      ],
      "text/plain": [
       "   emp_id   name       dept   office_phone  start_date  salary\n",
       "0      30  Colby      Sales  (217)123-4500  2017-05-01  202000\n",
       "2      10    Eli      Sales            NaN  2020-08-01  240000\n",
       "1      40   Adam  Marketing            NaN  2018-02-01  185000\n",
       "3      20  Dylan  Marketing  (217)987-6543  2019-12-01  160500"
      ]
     },
     "execution_count": 51,
     "metadata": {},
     "output_type": "execute_result"
    }
   ],
   "source": [
    "df_dept_desc_date_asc = df_emp.sort_values(\n",
    "    [\"dept\", \"start_date\"], ascending=[False, True]\n",
    ")\n",
    "\n",
    "df_dept_desc_date_asc"
   ]
  },
  {
   "cell_type": "markdown",
   "metadata": {},
   "source": [
    "---\n",
    "\n",
    "**🎯 Example: Sort by `\"dept\"` ascending and then by `\"salary\"` descending**\n"
   ]
  },
  {
   "cell_type": "code",
   "execution_count": 52,
   "metadata": {},
   "outputs": [
    {
     "data": {
      "text/html": [
       "<div>\n",
       "<style scoped>\n",
       "    .dataframe tbody tr th:only-of-type {\n",
       "        vertical-align: middle;\n",
       "    }\n",
       "\n",
       "    .dataframe tbody tr th {\n",
       "        vertical-align: top;\n",
       "    }\n",
       "\n",
       "    .dataframe thead th {\n",
       "        text-align: right;\n",
       "    }\n",
       "</style>\n",
       "<table border=\"1\" class=\"dataframe\">\n",
       "  <thead>\n",
       "    <tr style=\"text-align: right;\">\n",
       "      <th></th>\n",
       "      <th>emp_id</th>\n",
       "      <th>name</th>\n",
       "      <th>dept</th>\n",
       "      <th>office_phone</th>\n",
       "      <th>start_date</th>\n",
       "      <th>salary</th>\n",
       "    </tr>\n",
       "  </thead>\n",
       "  <tbody>\n",
       "    <tr>\n",
       "      <th>1</th>\n",
       "      <td>40</td>\n",
       "      <td>Adam</td>\n",
       "      <td>Marketing</td>\n",
       "      <td>NaN</td>\n",
       "      <td>2018-02-01</td>\n",
       "      <td>185000</td>\n",
       "    </tr>\n",
       "    <tr>\n",
       "      <th>3</th>\n",
       "      <td>20</td>\n",
       "      <td>Dylan</td>\n",
       "      <td>Marketing</td>\n",
       "      <td>(217)987-6543</td>\n",
       "      <td>2019-12-01</td>\n",
       "      <td>160500</td>\n",
       "    </tr>\n",
       "    <tr>\n",
       "      <th>2</th>\n",
       "      <td>10</td>\n",
       "      <td>Eli</td>\n",
       "      <td>Sales</td>\n",
       "      <td>NaN</td>\n",
       "      <td>2020-08-01</td>\n",
       "      <td>240000</td>\n",
       "    </tr>\n",
       "    <tr>\n",
       "      <th>0</th>\n",
       "      <td>30</td>\n",
       "      <td>Colby</td>\n",
       "      <td>Sales</td>\n",
       "      <td>(217)123-4500</td>\n",
       "      <td>2017-05-01</td>\n",
       "      <td>202000</td>\n",
       "    </tr>\n",
       "  </tbody>\n",
       "</table>\n",
       "</div>"
      ],
      "text/plain": [
       "   emp_id   name       dept   office_phone  start_date  salary\n",
       "1      40   Adam  Marketing            NaN  2018-02-01  185000\n",
       "3      20  Dylan  Marketing  (217)987-6543  2019-12-01  160500\n",
       "2      10    Eli      Sales            NaN  2020-08-01  240000\n",
       "0      30  Colby      Sales  (217)123-4500  2017-05-01  202000"
      ]
     },
     "execution_count": 52,
     "metadata": {},
     "output_type": "execute_result"
    }
   ],
   "source": [
    "df_dept_asc_salary_desc = df_emp.sort_values(\n",
    "    [\"dept\", \"salary\"], ascending=[True, False]\n",
    ")\n",
    "\n",
    "df_dept_asc_salary_desc"
   ]
  },
  {
   "cell_type": "markdown",
   "metadata": {},
   "source": [
    "---\n",
    "\n",
    "## 🔄 In-place vs Out-of-place Sorting\n",
    "\n",
    "When you sort a `DataFrame` using the `sort_values()` method, you have the option to sort the data in-place or to create a new sorted `DataFrame`.\n",
    "\n",
    "An in-place sort modifies the original `DataFrame`, while an out-of-place sort returns a new sorted `DataFrame` without modifying the original.\n",
    "\n",
    "In-place sorting is done by setting the `inplace` parameter to `True`. By default, `inplace` is set to `False`, which means the original `DataFrame` remains unchanged and a new sorted `DataFrame` is returned.\n",
    "\n",
    "Here's an example of **out-of-place sorting** (the default behavior):\n",
    "\n",
    "```python\n",
    "df_sorted = df.sort_values(\"column_name\", ascending=False)\n",
    "```\n",
    "\n",
    "`df` remains unchanged after this operation. The assignment operation creates a new variable named `df_sorted` that contains the sorted data.\n",
    "\n",
    "Here's an example of **in-place sorting**:\n",
    "\n",
    "```python\n",
    "df.sort_values(\"column_name\", inplace=True)\n",
    "```\n",
    "\n",
    "This directly modifies `df`, and there is no need to assign the result to a new variable. After this operation, `df` will be sorted.\n",
    "\n",
    ":::{danger} Common Mistake: Using an Assignment with In-place Sorting\n",
    "\n",
    "When using in-place sorting (`inplace=True`), the method does not return a new `DataFrame`. Therefore, if you try to assign the result of an in-place sort to a new variable, that variable will be set to `None`.\n",
    "\n",
    "This is a common mistake. For example, the following code will set `df_sorted` to `None` because `sort_values()` does not return anything when `inplace=True`.\n",
    "\n",
    "**🚫 Incorrect approach: Use an assignment with in-place sorting**\n",
    "\n",
    "```python\n",
    "df_sorted = df.sort_values(\"column_name\", inplace=True)\n",
    "display(df_sorted)  # Output: None\n",
    "```\n",
    "\n",
    "**✅ Correct approach: Do not use an assignment with in-place sorting**\n",
    "\n",
    "```python\n",
    "df.sort_values(\"column_name\", inplace=True)\n",
    "display(df)  # Output: Sorted DataFrame\n",
    "```\n",
    "\n",
    ":::\n",
    "\n",
    ":::{warning} Caution with In-place Sorting\n",
    "Using in-place sorting (`inplace=True`) can lead to unintended side effects, especially if you need to retain the original order of the `DataFrame` for later operations. Once you sort a `DataFrame` in-place, the original order is lost, and you cannot revert back to it unless you have a backup copy of the original `DataFrame`.\n",
    ":::\n"
   ]
  },
  {
   "cell_type": "markdown",
   "metadata": {},
   "source": [
    "---\n",
    "\n",
    "**🎯 Example: Sort by `\"salary\"` descending in-place**\n"
   ]
  },
  {
   "cell_type": "code",
   "execution_count": 53,
   "metadata": {},
   "outputs": [
    {
     "data": {
      "text/html": [
       "<div>\n",
       "<style scoped>\n",
       "    .dataframe tbody tr th:only-of-type {\n",
       "        vertical-align: middle;\n",
       "    }\n",
       "\n",
       "    .dataframe tbody tr th {\n",
       "        vertical-align: top;\n",
       "    }\n",
       "\n",
       "    .dataframe thead th {\n",
       "        text-align: right;\n",
       "    }\n",
       "</style>\n",
       "<table border=\"1\" class=\"dataframe\">\n",
       "  <thead>\n",
       "    <tr style=\"text-align: right;\">\n",
       "      <th></th>\n",
       "      <th>emp_id</th>\n",
       "      <th>name</th>\n",
       "      <th>dept</th>\n",
       "      <th>office_phone</th>\n",
       "      <th>start_date</th>\n",
       "      <th>salary</th>\n",
       "    </tr>\n",
       "  </thead>\n",
       "  <tbody>\n",
       "    <tr>\n",
       "      <th>2</th>\n",
       "      <td>10</td>\n",
       "      <td>Eli</td>\n",
       "      <td>Sales</td>\n",
       "      <td>NaN</td>\n",
       "      <td>2020-08-01</td>\n",
       "      <td>240000</td>\n",
       "    </tr>\n",
       "    <tr>\n",
       "      <th>0</th>\n",
       "      <td>30</td>\n",
       "      <td>Colby</td>\n",
       "      <td>Sales</td>\n",
       "      <td>(217)123-4500</td>\n",
       "      <td>2017-05-01</td>\n",
       "      <td>202000</td>\n",
       "    </tr>\n",
       "    <tr>\n",
       "      <th>1</th>\n",
       "      <td>40</td>\n",
       "      <td>Adam</td>\n",
       "      <td>Marketing</td>\n",
       "      <td>NaN</td>\n",
       "      <td>2018-02-01</td>\n",
       "      <td>185000</td>\n",
       "    </tr>\n",
       "    <tr>\n",
       "      <th>3</th>\n",
       "      <td>20</td>\n",
       "      <td>Dylan</td>\n",
       "      <td>Marketing</td>\n",
       "      <td>(217)987-6543</td>\n",
       "      <td>2019-12-01</td>\n",
       "      <td>160500</td>\n",
       "    </tr>\n",
       "  </tbody>\n",
       "</table>\n",
       "</div>"
      ],
      "text/plain": [
       "   emp_id   name       dept   office_phone  start_date  salary\n",
       "2      10    Eli      Sales            NaN  2020-08-01  240000\n",
       "0      30  Colby      Sales  (217)123-4500  2017-05-01  202000\n",
       "1      40   Adam  Marketing            NaN  2018-02-01  185000\n",
       "3      20  Dylan  Marketing  (217)987-6543  2019-12-01  160500"
      ]
     },
     "execution_count": 53,
     "metadata": {},
     "output_type": "execute_result"
    }
   ],
   "source": [
    "df_emp.sort_values(\"salary\", ascending=False, inplace=True)\n",
    "\n",
    "df_emp"
   ]
  },
  {
   "cell_type": "markdown",
   "metadata": {},
   "source": [
    "---\n",
    "\n",
    "**🎯 Example: Sort by `\"department\"` and `\"name\"` both descending in-place**\n"
   ]
  },
  {
   "cell_type": "code",
   "execution_count": 54,
   "metadata": {},
   "outputs": [
    {
     "data": {
      "text/html": [
       "<div>\n",
       "<style scoped>\n",
       "    .dataframe tbody tr th:only-of-type {\n",
       "        vertical-align: middle;\n",
       "    }\n",
       "\n",
       "    .dataframe tbody tr th {\n",
       "        vertical-align: top;\n",
       "    }\n",
       "\n",
       "    .dataframe thead th {\n",
       "        text-align: right;\n",
       "    }\n",
       "</style>\n",
       "<table border=\"1\" class=\"dataframe\">\n",
       "  <thead>\n",
       "    <tr style=\"text-align: right;\">\n",
       "      <th></th>\n",
       "      <th>emp_id</th>\n",
       "      <th>name</th>\n",
       "      <th>dept</th>\n",
       "      <th>office_phone</th>\n",
       "      <th>start_date</th>\n",
       "      <th>salary</th>\n",
       "    </tr>\n",
       "  </thead>\n",
       "  <tbody>\n",
       "    <tr>\n",
       "      <th>2</th>\n",
       "      <td>10</td>\n",
       "      <td>Eli</td>\n",
       "      <td>Sales</td>\n",
       "      <td>NaN</td>\n",
       "      <td>2020-08-01</td>\n",
       "      <td>240000</td>\n",
       "    </tr>\n",
       "    <tr>\n",
       "      <th>0</th>\n",
       "      <td>30</td>\n",
       "      <td>Colby</td>\n",
       "      <td>Sales</td>\n",
       "      <td>(217)123-4500</td>\n",
       "      <td>2017-05-01</td>\n",
       "      <td>202000</td>\n",
       "    </tr>\n",
       "    <tr>\n",
       "      <th>3</th>\n",
       "      <td>20</td>\n",
       "      <td>Dylan</td>\n",
       "      <td>Marketing</td>\n",
       "      <td>(217)987-6543</td>\n",
       "      <td>2019-12-01</td>\n",
       "      <td>160500</td>\n",
       "    </tr>\n",
       "    <tr>\n",
       "      <th>1</th>\n",
       "      <td>40</td>\n",
       "      <td>Adam</td>\n",
       "      <td>Marketing</td>\n",
       "      <td>NaN</td>\n",
       "      <td>2018-02-01</td>\n",
       "      <td>185000</td>\n",
       "    </tr>\n",
       "  </tbody>\n",
       "</table>\n",
       "</div>"
      ],
      "text/plain": [
       "   emp_id   name       dept   office_phone  start_date  salary\n",
       "2      10    Eli      Sales            NaN  2020-08-01  240000\n",
       "0      30  Colby      Sales  (217)123-4500  2017-05-01  202000\n",
       "3      20  Dylan  Marketing  (217)987-6543  2019-12-01  160500\n",
       "1      40   Adam  Marketing            NaN  2018-02-01  185000"
      ]
     },
     "execution_count": 54,
     "metadata": {},
     "output_type": "execute_result"
    }
   ],
   "source": [
    "df_emp.sort_values([\"dept\", \"name\"], ascending=[False, False], inplace=True)\n",
    "\n",
    "df_emp"
   ]
  },
  {
   "cell_type": "markdown",
   "metadata": {},
   "source": [
    "---\n",
    "\n",
    "## 💾 Writing a `DataFrame` to a CSV File\n",
    "\n",
    "You can write a `DataFrame` to a CSV file using the `df.to_csv()` method.\n",
    "\n",
    "```python\n",
    "df_cities.to_csv(\"cities.csv\", index=False)\n",
    "```\n",
    "\n",
    "This will create a file named `cities.csv` in the current working directory. The `index=False` argument is used to prevent pandas from writing row indices to the CSV file.\n",
    "\n",
    "The resulting CSV file will look like this:\n",
    "\n",
    "```csv\n",
    "city,country,population\n",
    "Lisle,United States,23270\n",
    "Dubai,United Arab Emirates,3331409\n",
    "Niles,United States,28938\n",
    "Shanghai,China,26320000\n",
    "Seoul,South Korea,21794000\n",
    "Chicago,United States,8604203\n",
    "```\n",
    "\n",
    ":::{tip} A CSV File is Plain Text\n",
    "A CSV (Comma-Separated Values) file is a plain text file that uses commas to separate values. Each line in the file represents a row of data, and each value within a row is separated by a comma. Although CSV files are commonly used to store tabular data, they can be opened and edited using any text editor. If you have Microsoft Excel or Google Sheets, you can also open and edit CSV files using these spreadsheet applications.\n",
    ":::\n",
    "\n",
    "You can also write a `DataFrame` to different file formats, such as Excel, JSON, and SQL databases, using the appropriate pandas methods like `to_excel()`, `to_json()`, and `to_sql()`. For more information, refer to the [Pandas documentation on I/O tools](https://pandas.pydata.org/pandas-docs/stable/user_guide/io.html).\n"
   ]
  }
 ],
 "metadata": {
  "colab": {
   "collapsed_sections": [
    "TwWyyaQPem7q",
    "EdrK-mBsem7r",
    "VsIF7Fwwem7r",
    "krFaYS9Hem7u",
    "Iyt-q8KRem7v",
    "Yyt2-xOaem7v",
    "ldRi46SUem7v",
    "DW30mOfZem7v",
    "TpncLNBdem7x",
    "juiThUb1em7y",
    "3In4qrctem7y",
    "oNNKvOTqem7y",
    "Mrzib8KMem7z",
    "GfnhBiRvem7z",
    "T4ys5Rh6em7z",
    "9vwnunEsem70",
    "gIPWMysLem70",
    "v85tniIvem70",
    "vFsItQLaem71",
    "3-VRC3X9em71",
    "gHFL-CDcem71",
    "_L0Jctu8em71",
    "F4tMGPZvem73",
    "CwpwSAs9em74"
   ],
   "name": "L11-pandas-solution.ipynb",
   "provenance": []
  },
  "kernelspec": {
   "display_name": "gies",
   "language": "python",
   "name": "python3"
  },
  "language_info": {
   "codemirror_mode": {
    "name": "ipython",
    "version": 3
   },
   "file_extension": ".py",
   "mimetype": "text/x-python",
   "name": "python",
   "nbconvert_exporter": "python",
   "pygments_lexer": "ipython3",
   "version": "3.12.6"
  }
 },
 "nbformat": 4,
 "nbformat_minor": 4
}
